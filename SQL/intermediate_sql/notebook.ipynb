{
 "cells": [
  {
   "cell_type": "markdown",
   "metadata": {},
   "source": [
    "## Intermediate SQL por Datacamp\n",
    "\n",
    "~ Para ejecutar SQL desde un notebook de Jupyter, [link en Datacamp](https://www.datacamp.com/community/tutorials/sql-interface-within-jupyterlab).\n",
    "\n",
    "<img src=\"1.jpeg\"></img>"
   ]
  },
  {
   "cell_type": "markdown",
   "metadata": {},
   "source": [
    "## Importamos librerías y extensiones"
   ]
  },
  {
   "cell_type": "code",
   "execution_count": 1,
   "metadata": {},
   "outputs": [],
   "source": [
    "# Importamos la librería sqlalchemy, que nos permite ejecutar código SQL adaptado a sintaxis simple y de forma Pythonica\n",
    "import sqlalchemy\n",
    "\n",
    "# Cargamos el módulo sqlite\n",
    "%load_ext sql\n",
    "\n",
    "# Cargamos la extensión ipython-sql\n",
    "%sql sqlite://\n"
   ]
  },
  {
   "cell_type": "markdown",
   "metadata": {},
   "source": [
    "## Probemos SQLITE"
   ]
  },
  {
   "cell_type": "code",
   "execution_count": 2,
   "metadata": {},
   "outputs": [],
   "source": [
    "# Cargamos la base de datos (cambiar directorio, sin especificar el disco duro)\n",
    "%sql sqlite:////Universidad/DataCamp/Python/intermediate_sql/SQL_SAFI.sqlite"
   ]
  },
  {
   "cell_type": "markdown",
   "metadata": {},
   "source": [
    "## Seleccionamos y probamos con pandas"
   ]
  },
  {
   "cell_type": "code",
   "execution_count": 3,
   "metadata": {},
   "outputs": [],
   "source": [
    "# Importamos numpy pandas\n",
    "import numpy as np\n",
    "import pandas as pd"
   ]
  },
  {
   "cell_type": "code",
   "execution_count": 4,
   "metadata": {},
   "outputs": [
    {
     "output_type": "stream",
     "name": "stdout",
     "text": [
      "   sqlite://\n * sqlite:////Universidad/DataCamp/Python/intermediate_sql/SQL_SAFI.sqlite\nDone.\n<class 'sql.run.ResultSet'>\n   Id  plot_Id  crop_Id  D05_times D_curr_crop  D_repeat_times_count\n0   1        1        1          1       maize                     1\n1   1        2        1          1       maize                     1\n2   2        1        1          1       maize                     1\n3   2        2        1          1    tomatoes                     1\n4   2        3        1          1   vegetable                     1\n<class 'pandas.core.frame.DataFrame'>\nRangeIndex: 1044 entries, 0 to 1043\nData columns (total 6 columns):\n #   Column                Non-Null Count  Dtype \n---  ------                --------------  ----- \n 0   Id                    1044 non-null   int64 \n 1   plot_Id               1044 non-null   int64 \n 2   crop_Id               1044 non-null   int64 \n 3   D05_times             1044 non-null   int64 \n 4   D_curr_crop           1039 non-null   object\n 5   D_repeat_times_count  1044 non-null   int64 \ndtypes: int64(5), object(1)\nmemory usage: 49.1+ KB\n"
     ]
    }
   ],
   "source": [
    "# Seleccionamos algunos datos para probar\n",
    "resultado = %sql SELECT * FROM Crops\n",
    "\n",
    "# Vemos el tipo de objeto que es \"resultado\"\n",
    "print(type(resultado))\n",
    "\n",
    "# Convertimos el resultado SQL a DataFrame con Pandas\n",
    "df_resultado = resultado.DataFrame()\n",
    "\n",
    "# Cinco primeras filas del DataFrame\n",
    "print(df_resultado.head())\n",
    "\n",
    "# Vemos el resumen del DataFrame\n",
    "df_resultado.info()"
   ]
  },
  {
   "cell_type": "markdown",
   "metadata": {},
   "source": [
    "## SQL Intermedio\n",
    "\n",
    "<img src=\"2.png\"></img>\n",
    "\n",
    "Bienvenidos a SQL intermedio. SQL es una poderosa herramienta para trabajar con bases de datos relacionales. Con un conocimiento intermedio de SQL, obtendremos la capacidad de acceder y crear conjuntos de datos de varias tablas en una base de datos relacional, para responder a nuestras preguntas sobre ciencia de datos.\n",
    "\n",
    "En este curso, aprenderemos específicamente a:\n",
    "\n",
    "- Dar forma, transformar y manipular datos utilizando la instrucción CASE.\n",
    "\n",
    "- Subconsultas simples.\n",
    "\n",
    "- Subconsultas correlacionadas.\n",
    "\n",
    "- Funciones de ventana.\n",
    "\n",
    "Antes de tomar este curso, deberíamos sentirnos cómodos trabajando con temas introductorios de SQL, como seleccionando datos de una base de datos usando funciones aritméticas, declaraciones GROUP BY y cláusulas WHERE para filtrar datos.\n",
    "\n",
    "También debe estar familiarizado con la unión de datos con LEFT JOIN, RIGHT JOIN, INNER JOIN y OUTER JOIN. En este curso, utilizaremos y desarrollaremos estos temas para interactuar con nuestra base de datos.\n",
    "\n",
    "Para este curso, utilizaremos una base de datos del fútbol europeo, 'European soccer database', que es una base de datos relacional que contiene datos sobre más de 25.000 partidos, 300 equipos y 10.000 jugadores en Europa entre 2008 y 2016.\n",
    "\n",
    "## Carguemos la base de datos que utilizaremos"
   ]
  },
  {
   "cell_type": "code",
   "execution_count": 5,
   "metadata": {},
   "outputs": [],
   "source": [
    "# Cargamos la base de datos\n",
    "%sql sqlite:////Universidad/DataCamp/Python/intermediate_sql/european_soccer.sqlite"
   ]
  },
  {
   "cell_type": "markdown",
   "metadata": {},
   "source": [
    "Los datos están contenidos en 4 tablas: país, liga, equipo y partido."
   ]
  },
  {
   "cell_type": "code",
   "execution_count": 6,
   "metadata": {},
   "outputs": [
    {
     "output_type": "stream",
     "name": "stdout",
     "text": [
      "   sqlite://\n",
      "   sqlite:////Universidad/DataCamp/Python/intermediate_sql/SQL_SAFI.sqlite\n",
      " * sqlite:////Universidad/DataCamp/Python/intermediate_sql/european_soccer.sqlite\n",
      "Done.\n"
     ]
    },
    {
     "output_type": "execute_result",
     "data": {
      "text/plain": [
       "[('Belgium Jupiler League', 1728),\n",
       " ('England Premier League', 3040),\n",
       " ('France Ligue 1', 3040),\n",
       " ('Germany 1. Bundesliga', 2448),\n",
       " ('Italy Serie A', 3017),\n",
       " ('Netherlands Eredivisie', 2448),\n",
       " ('Poland Ekstraklasa', 1920),\n",
       " ('Portugal Liga ZON Sagres', 2052),\n",
       " ('Scotland Premier League', 1824),\n",
       " ('Spain LIGA BBVA', 3040),\n",
       " ('Switzerland Super League', 1422)]"
      ],
      "text/html": "<table>\n    <tr>\n        <th>league</th>\n        <th>matches</th>\n    </tr>\n    <tr>\n        <td>Belgium Jupiler League</td>\n        <td>1728</td>\n    </tr>\n    <tr>\n        <td>England Premier League</td>\n        <td>3040</td>\n    </tr>\n    <tr>\n        <td>France Ligue 1</td>\n        <td>3040</td>\n    </tr>\n    <tr>\n        <td>Germany 1. Bundesliga</td>\n        <td>2448</td>\n    </tr>\n    <tr>\n        <td>Italy Serie A</td>\n        <td>3017</td>\n    </tr>\n    <tr>\n        <td>Netherlands Eredivisie</td>\n        <td>2448</td>\n    </tr>\n    <tr>\n        <td>Poland Ekstraklasa</td>\n        <td>1920</td>\n    </tr>\n    <tr>\n        <td>Portugal Liga ZON Sagres</td>\n        <td>2052</td>\n    </tr>\n    <tr>\n        <td>Scotland Premier League</td>\n        <td>1824</td>\n    </tr>\n    <tr>\n        <td>Spain LIGA BBVA</td>\n        <td>3040</td>\n    </tr>\n    <tr>\n        <td>Switzerland Super League</td>\n        <td>1422</td>\n    </tr>\n</table>"
     },
     "metadata": {},
     "execution_count": 6
    }
   ],
   "source": [
    "# Selecting from European Soccer Database\n",
    "%sql SELECT l.name AS league, COUNT(m.country_id) AS matches \\\n",
    "FROM league AS l \\\n",
    "LEFT JOIN match AS m \\\n",
    "ON l.country_id = m.country_id \\\n",
    "GROUP BY l.name"
   ]
  },
  {
   "cell_type": "markdown",
   "metadata": {},
   "source": [
    "Seleccionar datos de estas tablas es bastante simple. La consulta que vemos aquí, te da el número de partidos jugados en cada una de las 11 ligas enumeradas en la tabla 'Liga'.\n",
    "\n",
    "Digamos que queremos comparar la cantidad de victorias del equipo local, victorias del equipo visitante y empates en la temporada 2013/2014.\n",
    "\n",
    "La tabla 'coincidencia' ahora tiene dos columnas relevantes: home_goal y away_goal.\n",
    "\n",
    "## Nota\n",
    "\n",
    "En Datacamp se renombró las columnas, quitando la etiqueta 'team' de las columnas de goles."
   ]
  },
  {
   "cell_type": "code",
   "execution_count": 7,
   "metadata": {},
   "outputs": [
    {
     "output_type": "stream",
     "name": "stdout",
     "text": [
      "   sqlite://\n   sqlite:////Universidad/DataCamp/Python/intermediate_sql/SQL_SAFI.sqlite\n * sqlite:////Universidad/DataCamp/Python/intermediate_sql/european_soccer.sqlite\nDone.\n"
     ]
    },
    {
     "output_type": "execute_result",
     "data": {
      "text/plain": [
       "[('2014-03-29 00:00:00', 2, 0),\n",
       " ('2014-03-29 00:00:00', 0, 1),\n",
       " ('2014-04-05 00:00:00', 1, 0),\n",
       " ('2014-04-05 00:00:00', 0, 0),\n",
       " ('2014-04-12 00:00:00', 2, 1),\n",
       " ('2014-04-12 00:00:00', 2, 0),\n",
       " ('2014-04-19 00:00:00', 2, 4),\n",
       " ('2014-04-19 00:00:00', 0, 2),\n",
       " ('2014-04-26 00:00:00', 4, 2),\n",
       " ('2014-04-26 00:00:00', 1, 1)]"
      ],
      "text/html": "<table>\n    <tr>\n        <th>date</th>\n        <th>home_team_goal</th>\n        <th>away_team_goal</th>\n    </tr>\n    <tr>\n        <td>2014-03-29 00:00:00</td>\n        <td>2</td>\n        <td>0</td>\n    </tr>\n    <tr>\n        <td>2014-03-29 00:00:00</td>\n        <td>0</td>\n        <td>1</td>\n    </tr>\n    <tr>\n        <td>2014-04-05 00:00:00</td>\n        <td>1</td>\n        <td>0</td>\n    </tr>\n    <tr>\n        <td>2014-04-05 00:00:00</td>\n        <td>0</td>\n        <td>0</td>\n    </tr>\n    <tr>\n        <td>2014-04-12 00:00:00</td>\n        <td>2</td>\n        <td>1</td>\n    </tr>\n    <tr>\n        <td>2014-04-12 00:00:00</td>\n        <td>2</td>\n        <td>0</td>\n    </tr>\n    <tr>\n        <td>2014-04-19 00:00:00</td>\n        <td>2</td>\n        <td>4</td>\n    </tr>\n    <tr>\n        <td>2014-04-19 00:00:00</td>\n        <td>0</td>\n        <td>2</td>\n    </tr>\n    <tr>\n        <td>2014-04-26 00:00:00</td>\n        <td>4</td>\n        <td>2</td>\n    </tr>\n    <tr>\n        <td>2014-04-26 00:00:00</td>\n        <td>1</td>\n        <td>1</td>\n    </tr>\n</table>"
     },
     "metadata": {},
     "execution_count": 7
    }
   ],
   "source": [
    "%sql SELECT date, home_team_goal, away_team_goal \\\n",
    "FROM match \\\n",
    "WHERE season = '2013/2014' \\\n",
    "LIMIT 10"
   ]
  },
  {
   "cell_type": "markdown",
   "metadata": {},
   "source": [
    "Potencialmente, podemos agregar filtros a la cláusula WHERE, seleccionando victorias, derrotas y empates por separado, pero eso no es muy eficiente si deseamos comparar estos resultados en un solo conjunto de datos."
   ]
  },
  {
   "cell_type": "code",
   "execution_count": 8,
   "metadata": {},
   "outputs": [
    {
     "output_type": "stream",
     "name": "stdout",
     "text": [
      "   sqlite://\n   sqlite:////Universidad/DataCamp/Python/intermediate_sql/SQL_SAFI.sqlite\n * sqlite:////Universidad/DataCamp/Python/intermediate_sql/european_soccer.sqlite\nDone.\n"
     ]
    },
    {
     "output_type": "execute_result",
     "data": {
      "text/plain": [
       "[('2014-03-29 00:00:00', 1237, 2, 0),\n",
       " ('2014-04-05 00:00:00', 1239, 1, 0),\n",
       " ('2014-04-12 00:00:00', 1241, 2, 1),\n",
       " ('2014-04-12 00:00:00', 1242, 2, 0),\n",
       " ('2014-04-26 00:00:00', 1245, 4, 2),\n",
       " ('2014-05-03 00:00:00', 1248, 4, 0),\n",
       " ('2013-08-18 00:00:00', 3630, 2, 0),\n",
       " ('2013-08-17 00:00:00', 3632, 1, 0),\n",
       " ('2013-08-19 00:00:00', 3633, 4, 0),\n",
       " ('2013-08-17 00:00:00', 3638, 2, 0)]"
      ],
      "text/html": "<table>\n    <tr>\n        <th>date</th>\n        <th>id</th>\n        <th>home_team_goal</th>\n        <th>away_team_goal</th>\n    </tr>\n    <tr>\n        <td>2014-03-29 00:00:00</td>\n        <td>1237</td>\n        <td>2</td>\n        <td>0</td>\n    </tr>\n    <tr>\n        <td>2014-04-05 00:00:00</td>\n        <td>1239</td>\n        <td>1</td>\n        <td>0</td>\n    </tr>\n    <tr>\n        <td>2014-04-12 00:00:00</td>\n        <td>1241</td>\n        <td>2</td>\n        <td>1</td>\n    </tr>\n    <tr>\n        <td>2014-04-12 00:00:00</td>\n        <td>1242</td>\n        <td>2</td>\n        <td>0</td>\n    </tr>\n    <tr>\n        <td>2014-04-26 00:00:00</td>\n        <td>1245</td>\n        <td>4</td>\n        <td>2</td>\n    </tr>\n    <tr>\n        <td>2014-05-03 00:00:00</td>\n        <td>1248</td>\n        <td>4</td>\n        <td>0</td>\n    </tr>\n    <tr>\n        <td>2013-08-18 00:00:00</td>\n        <td>3630</td>\n        <td>2</td>\n        <td>0</td>\n    </tr>\n    <tr>\n        <td>2013-08-17 00:00:00</td>\n        <td>3632</td>\n        <td>1</td>\n        <td>0</td>\n    </tr>\n    <tr>\n        <td>2013-08-19 00:00:00</td>\n        <td>3633</td>\n        <td>4</td>\n        <td>0</td>\n    </tr>\n    <tr>\n        <td>2013-08-17 00:00:00</td>\n        <td>3638</td>\n        <td>2</td>\n        <td>0</td>\n    </tr>\n</table>"
     },
     "metadata": {},
     "execution_count": 8
    }
   ],
   "source": [
    "%sql SELECT date, id, home_team_goal, away_team_goal \\\n",
    "FROM match \\\n",
    "WHERE season = '2013/2014' \\\n",
    "AND home_team_goal > away_team_goal \\\n",
    "LIMIT 10"
   ]
  },
  {
   "cell_type": "markdown",
   "metadata": {},
   "source": [
    "Aquí es donde entra la instrucción CASE. Las declaraciones CASE son la versión de SQL de una declaración condicional de otros lenguajes de programación 'IF'.\n",
    "\n",
    "Las declaraciones de casos tienen tres partes: una cláusula WHEN, una cláusula THEN y una cláusula ELSE.\n"
   ]
  },
  {
   "cell_type": "code",
   "execution_count": 9,
   "metadata": {},
   "outputs": [
    {
     "output_type": "stream",
     "name": "stdout",
     "text": [
      " \nCASE WHEN x = 1 THEN 'a'\n    WHEN x = 2 THEN 'b'\n    ELSE 'c' END AS new_column \n\n"
     ]
    }
   ],
   "source": [
    "print( \\\n",
    "\"\"\" \n",
    "CASE WHEN x = 1 THEN 'a'\n",
    "    WHEN x = 2 THEN 'b'\n",
    "    ELSE 'c' END AS new_column \n",
    "\"\"\")"
   ]
  },
  {
   "cell_type": "markdown",
   "metadata": {},
   "source": [
    "- La primera parte, la cláusula WHEN, prueba una condición determinada, por ejemplo X = 1, si esta condición es VERDADERA, devuelve el elemento que especifica después de su cláusula WHEN.\n",
    "\n",
    "- Podemos crear varias condiciones enumerando las declaraciones WHEN y THEN dentro de la misma declaración CASE.\n",
    "\n",
    "- Luego, la instrucción CASE finaliza con una cláusula ELSE que devuelve un valor especificado si todas sus declaraciones WHEN no son verdaderas.\n",
    "\n",
    "- Al terminar la declaración, debemos asegurarnos de incluir el término END y de darle un alias.\n",
    "\n",
    "- La declaración CASE completa se evaluará en una nueva columna en su consulta SQL.\n",
    "\n"
   ]
  },
  {
   "cell_type": "code",
   "execution_count": 10,
   "metadata": {},
   "outputs": [
    {
     "output_type": "stream",
     "name": "stdout",
     "text": [
      "   sqlite://\n   sqlite:////Universidad/DataCamp/Python/intermediate_sql/SQL_SAFI.sqlite\n * sqlite:////Universidad/DataCamp/Python/intermediate_sql/european_soccer.sqlite\nDone.\n"
     ]
    },
    {
     "output_type": "execute_result",
     "data": {
      "text/plain": [
       "[(1237, 2, 0, 'Home Team Win'),\n",
       " (1238, 0, 1, 'Away Team Win'),\n",
       " (1239, 1, 0, 'Home Team Win'),\n",
       " (1240, 0, 0, 'Tie'),\n",
       " (1241, 2, 1, 'Home Team Win'),\n",
       " (1242, 2, 0, 'Home Team Win'),\n",
       " (1243, 2, 4, 'Away Team Win'),\n",
       " (1244, 0, 2, 'Away Team Win'),\n",
       " (1245, 4, 2, 'Home Team Win'),\n",
       " (1246, 1, 1, 'Tie')]"
      ],
      "text/html": "<table>\n    <tr>\n        <th>id</th>\n        <th>home_team_goal</th>\n        <th>away_team_goal</th>\n        <th>outcome</th>\n    </tr>\n    <tr>\n        <td>1237</td>\n        <td>2</td>\n        <td>0</td>\n        <td>Home Team Win</td>\n    </tr>\n    <tr>\n        <td>1238</td>\n        <td>0</td>\n        <td>1</td>\n        <td>Away Team Win</td>\n    </tr>\n    <tr>\n        <td>1239</td>\n        <td>1</td>\n        <td>0</td>\n        <td>Home Team Win</td>\n    </tr>\n    <tr>\n        <td>1240</td>\n        <td>0</td>\n        <td>0</td>\n        <td>Tie</td>\n    </tr>\n    <tr>\n        <td>1241</td>\n        <td>2</td>\n        <td>1</td>\n        <td>Home Team Win</td>\n    </tr>\n    <tr>\n        <td>1242</td>\n        <td>2</td>\n        <td>0</td>\n        <td>Home Team Win</td>\n    </tr>\n    <tr>\n        <td>1243</td>\n        <td>2</td>\n        <td>4</td>\n        <td>Away Team Win</td>\n    </tr>\n    <tr>\n        <td>1244</td>\n        <td>0</td>\n        <td>2</td>\n        <td>Away Team Win</td>\n    </tr>\n    <tr>\n        <td>1245</td>\n        <td>4</td>\n        <td>2</td>\n        <td>Home Team Win</td>\n    </tr>\n    <tr>\n        <td>1246</td>\n        <td>1</td>\n        <td>1</td>\n        <td>Tie</td>\n    </tr>\n</table>"
     },
     "metadata": {},
     "execution_count": 10
    }
   ],
   "source": [
    "%sql SELECT id, home_team_goal, away_team_goal, CASE WHEN home_team_goal > away_team_goal THEN 'Home Team Win' WHEN home_team_goal < away_team_goal THEN 'Away Team Win' ELSE 'Tie' END AS outcome FROM match WHERE season = '2013/2014' \\\n",
    "LIMIT 10"
   ]
  },
  {
   "cell_type": "markdown",
   "metadata": {},
   "source": [
    "En este ejemplo, usamos una instrucción CASE para crear una nueva variable que identifica partidos como victorias del equipo local, victorias del equipo visitante o empates.\n",
    "\n",
    "Se crea una nueva columna con el texto apropiado para cada partido dado el resultado.\n",
    "\n",
    "En la próxima lección, practicaremos más formas de estructurar CASE, utilizando funciones aritméticas como COUNT, SUM y AVG. Por ahora, practicaremos la creación de declaraciones CASE para crear categorías para los datos."
   ]
  },
  {
   "cell_type": "markdown",
   "metadata": {},
   "source": [
    "### EX 1° : BASIC CASE statements (1).\n",
    "Se identificarán partidos jugados entre FC Schalke 04 y FC Bayern Munich."
   ]
  },
  {
   "cell_type": "code",
   "execution_count": 11,
   "metadata": {},
   "outputs": [
    {
     "output_type": "stream",
     "name": "stdout",
     "text": [
      "   sqlite://\n   sqlite:////Universidad/DataCamp/Python/intermediate_sql/SQL_SAFI.sqlite\n * sqlite:////Universidad/DataCamp/Python/intermediate_sql/european_soccer.sqlite\nDone.\n"
     ]
    },
    {
     "output_type": "execute_result",
     "data": {
      "text/plain": [
       "[('FC Bayern Munich', 9823), ('FC Schalke 04', 10189)]"
      ],
      "text/html": "<table>\n    <tr>\n        <th>team_long_name</th>\n        <th>team_api_id</th>\n    </tr>\n    <tr>\n        <td>FC Bayern Munich</td>\n        <td>9823</td>\n    </tr>\n    <tr>\n        <td>FC Schalke 04</td>\n        <td>10189</td>\n    </tr>\n</table>"
     },
     "metadata": {},
     "execution_count": 11
    }
   ],
   "source": [
    "%sql SELECT team_long_name, team_api_id \\\n",
    "FROM team \\\n",
    "WHERE team_long_name in ('FC Bayern Munich', 'FC Schalke 04')"
   ]
  },
  {
   "cell_type": "code",
   "execution_count": 12,
   "metadata": {},
   "outputs": [
    {
     "output_type": "stream",
     "name": "stdout",
     "text": [
      "   sqlite://\n",
      "   sqlite:////Universidad/DataCamp/Python/intermediate_sql/SQL_SAFI.sqlite\n",
      " * sqlite:////Universidad/DataCamp/Python/intermediate_sql/european_soccer.sqlite\n",
      "Done.\n"
     ]
    },
    {
     "output_type": "execute_result",
     "data": {
      "text/plain": [
       "[('Bayern Munich', 136), ('FC Schalke 04', 136), ('Other', 25707)]"
      ],
      "text/html": "<table>\n    <tr>\n        <th>home_team</th>\n        <th>total_matches</th>\n    </tr>\n    <tr>\n        <td>Bayern Munich</td>\n        <td>136</td>\n    </tr>\n    <tr>\n        <td>FC Schalke 04</td>\n        <td>136</td>\n    </tr>\n    <tr>\n        <td>Other</td>\n        <td>25707</td>\n    </tr>\n</table>"
     },
     "metadata": {},
     "execution_count": 12
    }
   ],
   "source": [
    "%sql SELECT CASE WHEN home_team_api_id = 9823 THEN 'Bayern Munich' WHEN home_team_api_id = 10189 THEN 'FC Schalke 04' ELSE 'Other' END AS home_team,  \\\n",
    "count(id) AS total_matches \\\n",
    "FROM match \\\n",
    "GROUP BY home_team"
   ]
  },
  {
   "cell_type": "markdown",
   "metadata": {},
   "source": [
    "### EX 2° : CASE statements comparing column values (1).\n",
    "En este ejercicio, crearemos una lista de partidos de la temporada del 2011/2012 donde el Barcelona fue el equipo en casa, utilizando la declaración CASE para saber si ganó, perdió o empató en casa."
   ]
  },
  {
   "cell_type": "code",
   "execution_count": 13,
   "metadata": {},
   "outputs": [
    {
     "output_type": "stream",
     "name": "stdout",
     "text": [
      "   sqlite://\n   sqlite:////Universidad/DataCamp/Python/intermediate_sql/SQL_SAFI.sqlite\n * sqlite:////Universidad/DataCamp/Python/intermediate_sql/european_soccer.sqlite\nDone.\n"
     ]
    },
    {
     "output_type": "execute_result",
     "data": {
      "text/plain": [
       "[('2008-08-17 00:00:00', 'Tie'),\n",
       " ('2008-08-16 00:00:00', 'Tie'),\n",
       " ('2008-08-16 00:00:00', 'Home loss :('),\n",
       " ('2008-08-17 00:00:00', 'Home Win :)'),\n",
       " ('2008-08-16 00:00:00', 'Home loss :('),\n",
       " ('2008-09-24 00:00:00', 'Tie'),\n",
       " ('2008-08-16 00:00:00', 'Tie'),\n",
       " ('2008-08-16 00:00:00', 'Home loss :('),\n",
       " ('2008-08-16 00:00:00', 'Home Win :)'),\n",
       " ('2008-11-01 00:00:00', 'Home Win :)')]"
      ],
      "text/html": "<table>\n    <tr>\n        <th>date</th>\n        <th>outcome</th>\n    </tr>\n    <tr>\n        <td>2008-08-17 00:00:00</td>\n        <td>Tie</td>\n    </tr>\n    <tr>\n        <td>2008-08-16 00:00:00</td>\n        <td>Tie</td>\n    </tr>\n    <tr>\n        <td>2008-08-16 00:00:00</td>\n        <td>Home loss :(</td>\n    </tr>\n    <tr>\n        <td>2008-08-17 00:00:00</td>\n        <td>Home Win :)</td>\n    </tr>\n    <tr>\n        <td>2008-08-16 00:00:00</td>\n        <td>Home loss :(</td>\n    </tr>\n    <tr>\n        <td>2008-09-24 00:00:00</td>\n        <td>Tie</td>\n    </tr>\n    <tr>\n        <td>2008-08-16 00:00:00</td>\n        <td>Tie</td>\n    </tr>\n    <tr>\n        <td>2008-08-16 00:00:00</td>\n        <td>Home loss :(</td>\n    </tr>\n    <tr>\n        <td>2008-08-16 00:00:00</td>\n        <td>Home Win :)</td>\n    </tr>\n    <tr>\n        <td>2008-11-01 00:00:00</td>\n        <td>Home Win :)</td>\n    </tr>\n</table>"
     },
     "metadata": {},
     "execution_count": 13
    }
   ],
   "source": [
    "%sql SELECT date, \\\n",
    "CASE WHEN home_team_goal > away_team_goal THEN 'Home Win :)' WHEN home_team_goal < away_team_goal THEN 'Home loss :(' ELSE 'Tie' END AS outcome \\\n",
    "FROM match \\\n",
    "LIMIT 10"
   ]
  },
  {
   "cell_type": "markdown",
   "metadata": {},
   "source": [
    "### EX 2.5° : CASE statements comparing column values (2).\n",
    "En este ejercicio, crearemos una lista de partidos de la temporada del 2011/2012 donde el Barcelona fue el equipo en casa, utilizando la declaración CASE para saber si ganó, perdió o empató en casa."
   ]
  },
  {
   "cell_type": "code",
   "execution_count": 14,
   "metadata": {},
   "outputs": [
    {
     "output_type": "stream",
     "name": "stdout",
     "text": [
      "   sqlite://\n   sqlite:////Universidad/DataCamp/Python/intermediate_sql/SQL_SAFI.sqlite\n * sqlite:////Universidad/DataCamp/Python/intermediate_sql/european_soccer.sqlite\nDone.\n"
     ]
    },
    {
     "output_type": "execute_result",
     "data": {
      "text/plain": [
       "[('2011-10-29 00:00:00', 'RCD Mallorca', 'Barcelona ganó :)'),\n",
       " ('2011-11-19 00:00:00', 'Real Zaragoza', 'Barcelona ganó :)'),\n",
       " ('2011-12-03 00:00:00', 'Levante UD', 'Barcelona ganó :)'),\n",
       " ('2011-11-29 00:00:00', 'Rayo Vallecano', 'Barcelona ganó :)'),\n",
       " ('2012-01-15 00:00:00', 'Real Betis Balompié', 'Barcelona ganó :)'),\n",
       " ('2011-08-29 00:00:00', 'Villarreal CF', 'Barcelona ganó :)'),\n",
       " ('2012-05-02 00:00:00', 'Málaga CF', 'Barcelona ganó :)'),\n",
       " ('2012-02-04 00:00:00', 'Real Sociedad', 'Barcelona ganó :)'),\n",
       " ('2012-02-19 00:00:00', 'Valencia CF', 'Barcelona ganó :)'),\n",
       " ('2012-03-03 00:00:00', 'Real Sporting de Gijón', 'Barcelona ganó :)'),\n",
       " ('2012-03-20 00:00:00', 'Granada CF', 'Barcelona ganó :)'),\n",
       " ('2012-03-31 00:00:00', 'Athletic Club de Bilbao', 'Barcelona ganó :)'),\n",
       " ('2012-04-10 00:00:00', 'Getafe CF', 'Barcelona ganó :)'),\n",
       " ('2012-04-21 00:00:00', 'Real Madrid CF', 'Barcelona perdió :('),\n",
       " ('2012-05-05 00:00:00', 'RCD Espanyol', 'Barcelona ganó :)'),\n",
       " ('2011-09-17 00:00:00', 'CA Osasuna', 'Barcelona ganó :)'),\n",
       " ('2011-09-24 00:00:00', 'Atlético Madrid', 'Barcelona ganó :)'),\n",
       " ('2011-10-15 00:00:00', 'Racing Santander', 'Barcelona ganó :)'),\n",
       " ('2011-10-22 00:00:00', 'Sevilla FC', 'Empate')]"
      ],
      "text/html": "<table>\n    <tr>\n        <th>date</th>\n        <th>opponent</th>\n        <th>outcome</th>\n    </tr>\n    <tr>\n        <td>2011-10-29 00:00:00</td>\n        <td>RCD Mallorca</td>\n        <td>Barcelona ganó :)</td>\n    </tr>\n    <tr>\n        <td>2011-11-19 00:00:00</td>\n        <td>Real Zaragoza</td>\n        <td>Barcelona ganó :)</td>\n    </tr>\n    <tr>\n        <td>2011-12-03 00:00:00</td>\n        <td>Levante UD</td>\n        <td>Barcelona ganó :)</td>\n    </tr>\n    <tr>\n        <td>2011-11-29 00:00:00</td>\n        <td>Rayo Vallecano</td>\n        <td>Barcelona ganó :)</td>\n    </tr>\n    <tr>\n        <td>2012-01-15 00:00:00</td>\n        <td>Real Betis Balompié</td>\n        <td>Barcelona ganó :)</td>\n    </tr>\n    <tr>\n        <td>2011-08-29 00:00:00</td>\n        <td>Villarreal CF</td>\n        <td>Barcelona ganó :)</td>\n    </tr>\n    <tr>\n        <td>2012-05-02 00:00:00</td>\n        <td>Málaga CF</td>\n        <td>Barcelona ganó :)</td>\n    </tr>\n    <tr>\n        <td>2012-02-04 00:00:00</td>\n        <td>Real Sociedad</td>\n        <td>Barcelona ganó :)</td>\n    </tr>\n    <tr>\n        <td>2012-02-19 00:00:00</td>\n        <td>Valencia CF</td>\n        <td>Barcelona ganó :)</td>\n    </tr>\n    <tr>\n        <td>2012-03-03 00:00:00</td>\n        <td>Real Sporting de Gijón</td>\n        <td>Barcelona ganó :)</td>\n    </tr>\n    <tr>\n        <td>2012-03-20 00:00:00</td>\n        <td>Granada CF</td>\n        <td>Barcelona ganó :)</td>\n    </tr>\n    <tr>\n        <td>2012-03-31 00:00:00</td>\n        <td>Athletic Club de Bilbao</td>\n        <td>Barcelona ganó :)</td>\n    </tr>\n    <tr>\n        <td>2012-04-10 00:00:00</td>\n        <td>Getafe CF</td>\n        <td>Barcelona ganó :)</td>\n    </tr>\n    <tr>\n        <td>2012-04-21 00:00:00</td>\n        <td>Real Madrid CF</td>\n        <td>Barcelona perdió :(</td>\n    </tr>\n    <tr>\n        <td>2012-05-05 00:00:00</td>\n        <td>RCD Espanyol</td>\n        <td>Barcelona ganó :)</td>\n    </tr>\n    <tr>\n        <td>2011-09-17 00:00:00</td>\n        <td>CA Osasuna</td>\n        <td>Barcelona ganó :)</td>\n    </tr>\n    <tr>\n        <td>2011-09-24 00:00:00</td>\n        <td>Atlético Madrid</td>\n        <td>Barcelona ganó :)</td>\n    </tr>\n    <tr>\n        <td>2011-10-15 00:00:00</td>\n        <td>Racing Santander</td>\n        <td>Barcelona ganó :)</td>\n    </tr>\n    <tr>\n        <td>2011-10-22 00:00:00</td>\n        <td>Sevilla FC</td>\n        <td>Empate</td>\n    </tr>\n</table>"
     },
     "metadata": {},
     "execution_count": 14
    }
   ],
   "source": [
    "%sql SELECT date, team_long_name AS opponent, CASE WHEN home_team_goal > away_team_goal THEN 'Barcelona ganó :)' WHEN home_team_goal < away_team_goal THEN 'Barcelona perdió :(' ELSE 'Empate' END AS outcome \\\n",
    "FROM match LEFT JOIN team ON team_api_id = away_team_api_id \\\n",
    "WHERE home_team_api_id = 8634 AND season = '2011/2012'"
   ]
  },
  {
   "cell_type": "markdown",
   "metadata": {},
   "source": [
    "## Notas\n",
    "\n",
    "Notar como, con la coincidencia hecho en el WHERE, basta para tener al FC Barcelona como equipo en casa, de forma que, en la unión a la izquierda en las tablas, se podría obtener menos información colocando:\n",
    "- ON team_api_id = home_team_api_id\n",
    "\n",
    "De esta forma, obtendríamos los mismos nombres una y otra vez en la fila. El código utilizado en la celda de arriba obtiene más información (los oponentes).\n",
    "En las query de SQL siempre optar por la vía que entrega más información."
   ]
  },
  {
   "cell_type": "markdown",
   "metadata": {},
   "source": [
    "### EX 3° : CASE statements comparing column values (2).\n",
    "En este ejercicio, crearemos una lista de partidos de la temporada del 2011/2012 donde el Barcelona fue el equipo visitante, utilizando la declaración CASE para saber si ganó, perdió o empató de visitante."
   ]
  },
  {
   "cell_type": "code",
   "execution_count": 15,
   "metadata": {},
   "outputs": [
    {
     "output_type": "stream",
     "name": "stdout",
     "text": [
      "   sqlite://\n",
      "   sqlite:////Universidad/DataCamp/Python/intermediate_sql/SQL_SAFI.sqlite\n",
      " * sqlite:////Universidad/DataCamp/Python/intermediate_sql/european_soccer.sqlite\n",
      "Done.\n"
     ]
    },
    {
     "output_type": "execute_result",
     "data": {
      "text/plain": [
       "[('2012-01-22 00:00:00', 'Málaga CF', 'Barcelona ganó :)'),\n",
       " ('2011-10-25 00:00:00', 'Granada CF', 'Barcelona ganó :)'),\n",
       " ('2011-11-06 00:00:00', 'Athletic Club de Bilbao', 'Empate'),\n",
       " ('2011-11-26 00:00:00', 'Getafe CF', 'Barcelona perdió :('),\n",
       " ('2011-12-10 00:00:00', 'Real Madrid CF', 'Barcelona ganó :)'),\n",
       " ('2012-01-08 00:00:00', 'RCD Espanyol', 'Empate'),\n",
       " ('2012-01-28 00:00:00', 'Villarreal CF', 'Empate'),\n",
       " ('2012-02-11 00:00:00', 'CA Osasuna', 'Barcelona perdió :('),\n",
       " ('2012-02-26 00:00:00', 'Atlético Madrid', 'Barcelona ganó :)'),\n",
       " ('2012-03-11 00:00:00', 'Racing Santander', 'Barcelona ganó :)'),\n",
       " ('2012-03-17 00:00:00', 'Sevilla FC', 'Barcelona ganó :)'),\n",
       " ('2011-09-10 00:00:00', 'Real Sociedad', 'Empate'),\n",
       " ('2012-03-24 00:00:00', 'RCD Mallorca', 'Barcelona ganó :)'),\n",
       " ('2012-04-07 00:00:00', 'Real Zaragoza', 'Barcelona ganó :)'),\n",
       " ('2012-04-14 00:00:00', 'Levante UD', 'Barcelona ganó :)'),\n",
       " ('2012-04-29 00:00:00', 'Rayo Vallecano', 'Barcelona ganó :)'),\n",
       " ('2012-05-12 00:00:00', 'Real Betis Balompié', 'Empate'),\n",
       " ('2011-09-21 00:00:00', 'Valencia CF', 'Empate'),\n",
       " ('2011-10-02 00:00:00', 'Real Sporting de Gijón', 'Barcelona ganó :)')]"
      ],
      "text/html": "<table>\n    <tr>\n        <th>date</th>\n        <th>opponent</th>\n        <th>outcome</th>\n    </tr>\n    <tr>\n        <td>2012-01-22 00:00:00</td>\n        <td>Málaga CF</td>\n        <td>Barcelona ganó :)</td>\n    </tr>\n    <tr>\n        <td>2011-10-25 00:00:00</td>\n        <td>Granada CF</td>\n        <td>Barcelona ganó :)</td>\n    </tr>\n    <tr>\n        <td>2011-11-06 00:00:00</td>\n        <td>Athletic Club de Bilbao</td>\n        <td>Empate</td>\n    </tr>\n    <tr>\n        <td>2011-11-26 00:00:00</td>\n        <td>Getafe CF</td>\n        <td>Barcelona perdió :(</td>\n    </tr>\n    <tr>\n        <td>2011-12-10 00:00:00</td>\n        <td>Real Madrid CF</td>\n        <td>Barcelona ganó :)</td>\n    </tr>\n    <tr>\n        <td>2012-01-08 00:00:00</td>\n        <td>RCD Espanyol</td>\n        <td>Empate</td>\n    </tr>\n    <tr>\n        <td>2012-01-28 00:00:00</td>\n        <td>Villarreal CF</td>\n        <td>Empate</td>\n    </tr>\n    <tr>\n        <td>2012-02-11 00:00:00</td>\n        <td>CA Osasuna</td>\n        <td>Barcelona perdió :(</td>\n    </tr>\n    <tr>\n        <td>2012-02-26 00:00:00</td>\n        <td>Atlético Madrid</td>\n        <td>Barcelona ganó :)</td>\n    </tr>\n    <tr>\n        <td>2012-03-11 00:00:00</td>\n        <td>Racing Santander</td>\n        <td>Barcelona ganó :)</td>\n    </tr>\n    <tr>\n        <td>2012-03-17 00:00:00</td>\n        <td>Sevilla FC</td>\n        <td>Barcelona ganó :)</td>\n    </tr>\n    <tr>\n        <td>2011-09-10 00:00:00</td>\n        <td>Real Sociedad</td>\n        <td>Empate</td>\n    </tr>\n    <tr>\n        <td>2012-03-24 00:00:00</td>\n        <td>RCD Mallorca</td>\n        <td>Barcelona ganó :)</td>\n    </tr>\n    <tr>\n        <td>2012-04-07 00:00:00</td>\n        <td>Real Zaragoza</td>\n        <td>Barcelona ganó :)</td>\n    </tr>\n    <tr>\n        <td>2012-04-14 00:00:00</td>\n        <td>Levante UD</td>\n        <td>Barcelona ganó :)</td>\n    </tr>\n    <tr>\n        <td>2012-04-29 00:00:00</td>\n        <td>Rayo Vallecano</td>\n        <td>Barcelona ganó :)</td>\n    </tr>\n    <tr>\n        <td>2012-05-12 00:00:00</td>\n        <td>Real Betis Balompié</td>\n        <td>Empate</td>\n    </tr>\n    <tr>\n        <td>2011-09-21 00:00:00</td>\n        <td>Valencia CF</td>\n        <td>Empate</td>\n    </tr>\n    <tr>\n        <td>2011-10-02 00:00:00</td>\n        <td>Real Sporting de Gijón</td>\n        <td>Barcelona ganó :)</td>\n    </tr>\n</table>"
     },
     "metadata": {},
     "execution_count": 15
    }
   ],
   "source": [
    "%sql SELECT date, team_long_name AS opponent, CASE WHEN home_team_goal < away_team_goal THEN 'Barcelona ganó :)' WHEN home_team_goal > away_team_goal THEN 'Barcelona perdió :(' ELSE 'Empate' END AS outcome \\\n",
    "FROM match LEFT JOIN team ON team_api_id = home_team_api_id \\\n",
    "WHERE away_team_api_id = 8634 AND season = '2011/2012'"
   ]
  },
  {
   "cell_type": "markdown",
   "metadata": {},
   "source": [
    "## Notas\n",
    "\n",
    "Si bien, se puede realizar un copy paste rápido cambiando los ID, no se debe olvidar cambiar las desigualdades al cambiar de casa a visitante el equipo del FC Barcelona."
   ]
  },
  {
   "cell_type": "markdown",
   "metadata": {},
   "source": [
    "## In CASE things get more complex\n",
    "\n",
    "Ahora que comprendemos algunos conceptos básicos de las declaraciones CASE, configuremos algunas pruebas lógicas más complejas.\n",
    "\n",
    "## Reviewing CASE WHEN\n",
    "\n",
    "Anteriormente, cubrimos las declaraciones CASE con una prueba lógica en un WHEN, lo que nos devolvía resultados basados en si esa prueba era VERDADERA o FALSA.\n",
    "\n",
    "El ejemplo a continuación prueba si los goles en casa o fuera de casa fueron más altos y los identifica como victorias para el equipo que obtuvo una puntuación más alta. Todo lo demás se clasifica como empate.\n"
   ]
  },
  {
   "cell_type": "code",
   "execution_count": 16,
   "metadata": {},
   "outputs": [
    {
     "output_type": "stream",
     "name": "stdout",
     "text": [
      "   sqlite://\n   sqlite:////Universidad/DataCamp/Python/intermediate_sql/SQL_SAFI.sqlite\n * sqlite:////Universidad/DataCamp/Python/intermediate_sql/european_soccer.sqlite\nDone.\n"
     ]
    },
    {
     "output_type": "execute_result",
     "data": {
      "text/plain": [
       "[('2008-08-17 00:00:00', '2008/2009', 'Tie'),\n",
       " ('2008-08-16 00:00:00', '2008/2009', 'Tie'),\n",
       " ('2008-08-16 00:00:00', '2008/2009', 'Ganó el equipo visitante'),\n",
       " ('2008-08-17 00:00:00', '2008/2009', 'Ganó el equipo en casa'),\n",
       " ('2008-08-16 00:00:00', '2008/2009', 'Ganó el equipo visitante'),\n",
       " ('2008-09-24 00:00:00', '2008/2009', 'Tie'),\n",
       " ('2008-08-16 00:00:00', '2008/2009', 'Tie'),\n",
       " ('2008-08-16 00:00:00', '2008/2009', 'Ganó el equipo visitante'),\n",
       " ('2008-08-16 00:00:00', '2008/2009', 'Ganó el equipo en casa'),\n",
       " ('2008-11-01 00:00:00', '2008/2009', 'Ganó el equipo en casa')]"
      ],
      "text/html": "<table>\n    <tr>\n        <th>date</th>\n        <th>season</th>\n        <th>outcome</th>\n    </tr>\n    <tr>\n        <td>2008-08-17 00:00:00</td>\n        <td>2008/2009</td>\n        <td>Tie</td>\n    </tr>\n    <tr>\n        <td>2008-08-16 00:00:00</td>\n        <td>2008/2009</td>\n        <td>Tie</td>\n    </tr>\n    <tr>\n        <td>2008-08-16 00:00:00</td>\n        <td>2008/2009</td>\n        <td>Ganó el equipo visitante</td>\n    </tr>\n    <tr>\n        <td>2008-08-17 00:00:00</td>\n        <td>2008/2009</td>\n        <td>Ganó el equipo en casa</td>\n    </tr>\n    <tr>\n        <td>2008-08-16 00:00:00</td>\n        <td>2008/2009</td>\n        <td>Ganó el equipo visitante</td>\n    </tr>\n    <tr>\n        <td>2008-09-24 00:00:00</td>\n        <td>2008/2009</td>\n        <td>Tie</td>\n    </tr>\n    <tr>\n        <td>2008-08-16 00:00:00</td>\n        <td>2008/2009</td>\n        <td>Tie</td>\n    </tr>\n    <tr>\n        <td>2008-08-16 00:00:00</td>\n        <td>2008/2009</td>\n        <td>Ganó el equipo visitante</td>\n    </tr>\n    <tr>\n        <td>2008-08-16 00:00:00</td>\n        <td>2008/2009</td>\n        <td>Ganó el equipo en casa</td>\n    </tr>\n    <tr>\n        <td>2008-11-01 00:00:00</td>\n        <td>2008/2009</td>\n        <td>Ganó el equipo en casa</td>\n    </tr>\n</table>"
     },
     "metadata": {},
     "execution_count": 16
    }
   ],
   "source": [
    "%sql SELECT date, \\\n",
    "season, \\\n",
    "CASE WHEN home_team_goal > away_team_goal THEN 'Ganó el equipo en casa' \\\n",
    "WHEN home_team_goal < away_team_goal THEN 'Ganó el equipo visitante'\\\n",
    "ELSE 'Tie' END AS outcome \\\n",
    "FROM match \\\n",
    "LIMIT 10"
   ]
  },
  {
   "cell_type": "markdown",
   "metadata": {},
   "source": [
    "La tabla resultante tiene una columna que identifica las coincidencias como uno de los 3 posibles resultados.\n",
    "\n",
    "## CASE WHEN ... AND then some\n",
    "\n",
    "Si deseamos probar varias condiciones lógicas en una instrucción CASE, se puede usar AND dentro de la cláusula WHEN.\n",
    "\n",
    "Por ejemplo, veamos si cada partido lo jugó y ganó el equipo Chelsea.\n",
    "\n",
    "## Nota\n",
    "\n",
    "Recordar que no somos adivinos, y debemos ir viendo las tablas y columnas que nos sirven o no según la consulta. Podemos guiarnos con [el enlace de Kaggle](https://www.kaggle.com/hugomathien/soccer)."
   ]
  },
  {
   "cell_type": "code",
   "execution_count": 17,
   "metadata": {},
   "outputs": [
    {
     "output_type": "stream",
     "name": "stdout",
     "text": [
      "   sqlite://\n   sqlite:////Universidad/DataCamp/Python/intermediate_sql/SQL_SAFI.sqlite\n * sqlite:////Universidad/DataCamp/Python/intermediate_sql/european_soccer.sqlite\nDone.\n"
     ]
    },
    {
     "output_type": "execute_result",
     "data": {
      "text/plain": [
       "[(8455,)]"
      ],
      "text/html": "<table>\n    <tr>\n        <th>team_api_id</th>\n    </tr>\n    <tr>\n        <td>8455</td>\n    </tr>\n</table>"
     },
     "metadata": {},
     "execution_count": 17
    }
   ],
   "source": [
    "%sql SELECT team_api_id \\\n",
    "FROM Team \\\n",
    "WHERE team_long_name = 'Chelsea'"
   ]
  },
  {
   "cell_type": "code",
   "execution_count": 18,
   "metadata": {},
   "outputs": [
    {
     "output_type": "stream",
     "name": "stdout",
     "text": [
      "   sqlite://\n   sqlite:////Universidad/DataCamp/Python/intermediate_sql/SQL_SAFI.sqlite\n * sqlite:////Universidad/DataCamp/Python/intermediate_sql/european_soccer.sqlite\nDone.\n"
     ]
    },
    {
     "output_type": "execute_result",
     "data": {
      "text/plain": [
       "[('2011-08-14 00:00:00', 10194, 8455, 'Chelsea perdió/empató'),\n",
       " ('2011-10-29 00:00:00', 8455, 9825, 'Chelsea perdió/empató'),\n",
       " ('2011-11-05 00:00:00', 8655, 8455, 'Chelsea ganó de visitante'),\n",
       " ('2011-11-20 00:00:00', 8455, 8650, 'Chelsea perdió/empató'),\n",
       " ('2011-11-26 00:00:00', 8455, 8602, 'Chelsea ganó en casa'),\n",
       " ('2011-12-03 00:00:00', 10261, 8455, 'Chelsea ganó de visitante'),\n",
       " ('2011-12-12 00:00:00', 8455, 8456, 'Chelsea ganó en casa'),\n",
       " ('2011-12-17 00:00:00', 8528, 8455, 'Chelsea perdió/empató'),\n",
       " ('2011-12-22 00:00:00', 8586, 8455, 'Chelsea perdió/empató'),\n",
       " ('2011-12-26 00:00:00', 8455, 9879, 'Chelsea perdió/empató')]"
      ],
      "text/html": "<table>\n    <tr>\n        <th>date</th>\n        <th>hometeam_id</th>\n        <th>awayteam_id</th>\n        <th>outcome</th>\n    </tr>\n    <tr>\n        <td>2011-08-14 00:00:00</td>\n        <td>10194</td>\n        <td>8455</td>\n        <td>Chelsea perdió/empató</td>\n    </tr>\n    <tr>\n        <td>2011-10-29 00:00:00</td>\n        <td>8455</td>\n        <td>9825</td>\n        <td>Chelsea perdió/empató</td>\n    </tr>\n    <tr>\n        <td>2011-11-05 00:00:00</td>\n        <td>8655</td>\n        <td>8455</td>\n        <td>Chelsea ganó de visitante</td>\n    </tr>\n    <tr>\n        <td>2011-11-20 00:00:00</td>\n        <td>8455</td>\n        <td>8650</td>\n        <td>Chelsea perdió/empató</td>\n    </tr>\n    <tr>\n        <td>2011-11-26 00:00:00</td>\n        <td>8455</td>\n        <td>8602</td>\n        <td>Chelsea ganó en casa</td>\n    </tr>\n    <tr>\n        <td>2011-12-03 00:00:00</td>\n        <td>10261</td>\n        <td>8455</td>\n        <td>Chelsea ganó de visitante</td>\n    </tr>\n    <tr>\n        <td>2011-12-12 00:00:00</td>\n        <td>8455</td>\n        <td>8456</td>\n        <td>Chelsea ganó en casa</td>\n    </tr>\n    <tr>\n        <td>2011-12-17 00:00:00</td>\n        <td>8528</td>\n        <td>8455</td>\n        <td>Chelsea perdió/empató</td>\n    </tr>\n    <tr>\n        <td>2011-12-22 00:00:00</td>\n        <td>8586</td>\n        <td>8455</td>\n        <td>Chelsea perdió/empató</td>\n    </tr>\n    <tr>\n        <td>2011-12-26 00:00:00</td>\n        <td>8455</td>\n        <td>9879</td>\n        <td>Chelsea perdió/empató</td>\n    </tr>\n</table>"
     },
     "metadata": {},
     "execution_count": 18
    }
   ],
   "source": [
    "%sql SELECT date, \\\n",
    "home_team_api_id AS hometeam_id, \\\n",
    "away_team_api_id AS awayteam_id, \\\n",
    "CASE WHEN home_team_goal > away_team_goal AND home_team_api_id = 8455 THEN 'Chelsea ganó en casa' \\\n",
    "WHEN home_team_goal < away_team_goal AND away_team_api_id = 8455 THEN 'Chelsea ganó de visitante' \\\n",
    "ELSE 'Chelsea perdió/empató' END AS outcome \\\n",
    "FROM Match \\\n",
    "WHERE season = '2011/2012' AND (hometeam_id = 8455 OR awayteam_id = 8455) \\\n",
    "LIMIT 10"
   ]
  },
  {
   "cell_type": "markdown",
   "metadata": {},
   "source": [
    "Veamos al declaración CASE en la consulta anterior. Cada cláusula WHEN contiene dos pruebas lógicas:\n",
    "\n",
    "- La primera prueba es, respectivamente, si el equipo en casa o visitante ganó o perdió según la cantidad de goles.\n",
    "\n",
    "- La segunda prueba es que, efectivamente, el ID del equipo corresponda al Chelsea en casa o visitante.\n",
    "\n",
    "Si ambas condiciones son VERDADERAS o FALSAS, o una y otra, la nueva columna devuelve los STRINGS de:\n",
    "\n",
    "- Chelsea ganó en casa.\n",
    "\n",
    "- Chelsea ganó de visitante.\n",
    "\n",
    "- Chelsea perdió/empató.\n",
    "\n",
    "## What ELSE is being excluded?\n",
    "\n",
    "Al probar condiciones lógicas, es importante considerar cuidadosamente qué filas de los datos son parte de la cláusula ELSE y si están categorizadas correctamente.\n",
    "\n",
    "A continuación, aquí está la misma instrucción CASE de la diapositiva anterior, pero se ha eliminado el filtro WHERE de los ID."
   ]
  },
  {
   "cell_type": "code",
   "execution_count": 19,
   "metadata": {},
   "outputs": [
    {
     "output_type": "stream",
     "name": "stdout",
     "text": [
      "   sqlite://\n   sqlite:////Universidad/DataCamp/Python/intermediate_sql/SQL_SAFI.sqlite\n * sqlite:////Universidad/DataCamp/Python/intermediate_sql/european_soccer.sqlite\nDone.\n"
     ]
    },
    {
     "output_type": "execute_result",
     "data": {
      "text/plain": [
       "[('2011-07-29 00:00:00', 1773, 8635, 'Chelsea perdió/empató'),\n",
       " ('2011-07-30 00:00:00', 9998, 9985, 'Chelsea perdió/empató'),\n",
       " ('2011-07-30 00:00:00', 9987, 9993, 'Chelsea perdió/empató'),\n",
       " ('2011-07-30 00:00:00', 9991, 9984, 'Chelsea perdió/empató'),\n",
       " ('2011-07-30 00:00:00', 9994, 10000, 'Chelsea perdió/empató'),\n",
       " ('2011-07-30 00:00:00', 8571, 9989, 'Chelsea perdió/empató'),\n",
       " ('2011-07-30 00:00:00', 8203, 9997, 'Chelsea perdió/empató'),\n",
       " ('2011-07-31 00:00:00', 8342, 10001, 'Chelsea perdió/empató'),\n",
       " ('2011-10-16 00:00:00', 8342, 9991, 'Chelsea perdió/empató'),\n",
       " ('2011-10-16 00:00:00', 8635, 9985, 'Chelsea perdió/empató')]"
      ],
      "text/html": "<table>\n    <tr>\n        <th>date</th>\n        <th>hometeam_id</th>\n        <th>awayteam_id</th>\n        <th>outcome</th>\n    </tr>\n    <tr>\n        <td>2011-07-29 00:00:00</td>\n        <td>1773</td>\n        <td>8635</td>\n        <td>Chelsea perdió/empató</td>\n    </tr>\n    <tr>\n        <td>2011-07-30 00:00:00</td>\n        <td>9998</td>\n        <td>9985</td>\n        <td>Chelsea perdió/empató</td>\n    </tr>\n    <tr>\n        <td>2011-07-30 00:00:00</td>\n        <td>9987</td>\n        <td>9993</td>\n        <td>Chelsea perdió/empató</td>\n    </tr>\n    <tr>\n        <td>2011-07-30 00:00:00</td>\n        <td>9991</td>\n        <td>9984</td>\n        <td>Chelsea perdió/empató</td>\n    </tr>\n    <tr>\n        <td>2011-07-30 00:00:00</td>\n        <td>9994</td>\n        <td>10000</td>\n        <td>Chelsea perdió/empató</td>\n    </tr>\n    <tr>\n        <td>2011-07-30 00:00:00</td>\n        <td>8571</td>\n        <td>9989</td>\n        <td>Chelsea perdió/empató</td>\n    </tr>\n    <tr>\n        <td>2011-07-30 00:00:00</td>\n        <td>8203</td>\n        <td>9997</td>\n        <td>Chelsea perdió/empató</td>\n    </tr>\n    <tr>\n        <td>2011-07-31 00:00:00</td>\n        <td>8342</td>\n        <td>10001</td>\n        <td>Chelsea perdió/empató</td>\n    </tr>\n    <tr>\n        <td>2011-10-16 00:00:00</td>\n        <td>8342</td>\n        <td>9991</td>\n        <td>Chelsea perdió/empató</td>\n    </tr>\n    <tr>\n        <td>2011-10-16 00:00:00</td>\n        <td>8635</td>\n        <td>9985</td>\n        <td>Chelsea perdió/empató</td>\n    </tr>\n</table>"
     },
     "metadata": {},
     "execution_count": 19
    }
   ],
   "source": [
    "%sql SELECT date, \\\n",
    "home_team_api_id AS hometeam_id, \\\n",
    "away_team_api_id AS awayteam_id, \\\n",
    "CASE WHEN home_team_goal > away_team_goal AND home_team_api_id = 8455 THEN 'Chelsea ganó en casa' \\\n",
    "WHEN home_team_goal < away_team_goal AND away_team_api_id = 8455 THEN 'Chelsea ganó de visitante' \\\n",
    "ELSE 'Chelsea perdió/empató' END AS outcome \\\n",
    "FROM Match \\\n",
    "WHERE season = '2011/2012' \\\n",
    "LIMIT 10"
   ]
  },
  {
   "cell_type": "markdown",
   "metadata": {},
   "source": [
    "Como podemos apreciar, sin el filtro WHERE de los ID, se categorizará TODOS los partidos jugados por cualquiera que no cumpla las primeras condiciones del CASE WHEN:\n",
    "\n",
    "- Un vistazo rápido a la tabla demuestra que las primeras coincidencias están todas categorizadas como 'Chelsea perdió o empató', pero ni el hometeam_id ni el awayteam_id pertenecen al Chelsea.\n",
    "\n",
    "## Correctly categorize your data with CASE\n",
    "\n",
    "La forma más sencilla de corregir esto es asegurarse de agregar filtros específicos en la cláusula WHERE que excluyan a todos los equipos en los que el Chelsea no jugó."
   ]
  },
  {
   "cell_type": "code",
   "execution_count": 20,
   "metadata": {},
   "outputs": [
    {
     "output_type": "stream",
     "name": "stdout",
     "text": [
      "   sqlite://\n   sqlite:////Universidad/DataCamp/Python/intermediate_sql/SQL_SAFI.sqlite\n * sqlite:////Universidad/DataCamp/Python/intermediate_sql/european_soccer.sqlite\nDone.\n"
     ]
    },
    {
     "output_type": "execute_result",
     "data": {
      "text/plain": [
       "[('2011-08-14 00:00:00', 10194, 8455, 'Chelsea perdió/empató'),\n",
       " ('2011-10-29 00:00:00', 8455, 9825, 'Chelsea perdió/empató'),\n",
       " ('2011-11-05 00:00:00', 8655, 8455, 'Chelsea ganó de visitante'),\n",
       " ('2011-11-20 00:00:00', 8455, 8650, 'Chelsea perdió/empató'),\n",
       " ('2011-11-26 00:00:00', 8455, 8602, 'Chelsea ganó en casa'),\n",
       " ('2011-12-03 00:00:00', 10261, 8455, 'Chelsea ganó de visitante'),\n",
       " ('2011-12-12 00:00:00', 8455, 8456, 'Chelsea ganó en casa'),\n",
       " ('2011-12-17 00:00:00', 8528, 8455, 'Chelsea perdió/empató'),\n",
       " ('2011-12-22 00:00:00', 8586, 8455, 'Chelsea perdió/empató'),\n",
       " ('2011-12-26 00:00:00', 8455, 9879, 'Chelsea perdió/empató')]"
      ],
      "text/html": "<table>\n    <tr>\n        <th>date</th>\n        <th>hometeam_id</th>\n        <th>awayteam_id</th>\n        <th>outcome</th>\n    </tr>\n    <tr>\n        <td>2011-08-14 00:00:00</td>\n        <td>10194</td>\n        <td>8455</td>\n        <td>Chelsea perdió/empató</td>\n    </tr>\n    <tr>\n        <td>2011-10-29 00:00:00</td>\n        <td>8455</td>\n        <td>9825</td>\n        <td>Chelsea perdió/empató</td>\n    </tr>\n    <tr>\n        <td>2011-11-05 00:00:00</td>\n        <td>8655</td>\n        <td>8455</td>\n        <td>Chelsea ganó de visitante</td>\n    </tr>\n    <tr>\n        <td>2011-11-20 00:00:00</td>\n        <td>8455</td>\n        <td>8650</td>\n        <td>Chelsea perdió/empató</td>\n    </tr>\n    <tr>\n        <td>2011-11-26 00:00:00</td>\n        <td>8455</td>\n        <td>8602</td>\n        <td>Chelsea ganó en casa</td>\n    </tr>\n    <tr>\n        <td>2011-12-03 00:00:00</td>\n        <td>10261</td>\n        <td>8455</td>\n        <td>Chelsea ganó de visitante</td>\n    </tr>\n    <tr>\n        <td>2011-12-12 00:00:00</td>\n        <td>8455</td>\n        <td>8456</td>\n        <td>Chelsea ganó en casa</td>\n    </tr>\n    <tr>\n        <td>2011-12-17 00:00:00</td>\n        <td>8528</td>\n        <td>8455</td>\n        <td>Chelsea perdió/empató</td>\n    </tr>\n    <tr>\n        <td>2011-12-22 00:00:00</td>\n        <td>8586</td>\n        <td>8455</td>\n        <td>Chelsea perdió/empató</td>\n    </tr>\n    <tr>\n        <td>2011-12-26 00:00:00</td>\n        <td>8455</td>\n        <td>9879</td>\n        <td>Chelsea perdió/empató</td>\n    </tr>\n</table>"
     },
     "metadata": {},
     "execution_count": 20
    }
   ],
   "source": [
    "%sql SELECT date, \\\n",
    "home_team_api_id AS hometeam_id, \\\n",
    "away_team_api_id AS awayteam_id, \\\n",
    "CASE WHEN home_team_goal > away_team_goal AND home_team_api_id = 8455 THEN 'Chelsea ganó en casa' \\\n",
    "WHEN home_team_goal < away_team_goal AND away_team_api_id = 8455 THEN 'Chelsea ganó de visitante' \\\n",
    "ELSE 'Chelsea perdió/empató' END AS outcome \\\n",
    "FROM Match \\\n",
    "WHERE season = '2011/2012' AND (hometeam_id = 8455 OR awayteam_id = 8455) \\\n",
    "LIMIT 10"
   ]
  },
  {
   "cell_type": "markdown",
   "metadata": {},
   "source": [
    "En la tabla anterior, especificamos esto usando una declaración OR en WHERE, que solo recupera los resultados en donde el ID 8455 está presente en las columnas hometeam_id o awayteam_id.\n",
    "\n",
    "Las identificaciones de los equipos especifican, claramente, si el Chelsea estaba en casa o de visitante.\n",
    "\n",
    "## What's NULL?\n",
    "\n",
    "También es importante considerar lo que está haciendo nuestra cláusula ELSE.\n",
    "\n",
    "Las dos consultas a continuación son idénticas, excepto por la instrucción ELSE NULL especificada en la segunda."
   ]
  },
  {
   "cell_type": "code",
   "execution_count": 21,
   "metadata": {},
   "outputs": [
    {
     "output_type": "stream",
     "name": "stdout",
     "text": [
      "   sqlite://\n",
      "   sqlite:////Universidad/DataCamp/Python/intermediate_sql/SQL_SAFI.sqlite\n",
      " * sqlite:////Universidad/DataCamp/Python/intermediate_sql/european_soccer.sqlite\n",
      "Done.\n"
     ]
    },
    {
     "output_type": "execute_result",
     "data": {
      "text/plain": [
       "[('2011-07-29 00:00:00', 'older'),\n",
       " ('2011-07-30 00:00:00', 'older'),\n",
       " ('2011-07-30 00:00:00', 'older'),\n",
       " ('2011-07-30 00:00:00', 'older'),\n",
       " ('2011-07-30 00:00:00', 'older'),\n",
       " ('2011-07-30 00:00:00', 'older'),\n",
       " ('2011-07-30 00:00:00', 'older'),\n",
       " ('2011-07-31 00:00:00', 'older'),\n",
       " ('2011-10-16 00:00:00', 'older'),\n",
       " ('2011-10-16 00:00:00', 'older'),\n",
       " ('2011-10-15 00:00:00', 'older'),\n",
       " ('2011-10-15 00:00:00', 'older'),\n",
       " ('2011-10-15 00:00:00', 'older'),\n",
       " ('2011-10-15 00:00:00', 'older'),\n",
       " ('2011-10-15 00:00:00', 'older'),\n",
       " ('2011-10-15 00:00:00', 'older'),\n",
       " ('2011-10-23 00:00:00', 'older'),\n",
       " ('2011-10-22 00:00:00', 'older'),\n",
       " ('2011-10-22 00:00:00', 'older'),\n",
       " ('2011-10-22 00:00:00', 'older'),\n",
       " ('2011-10-23 00:00:00', 'older'),\n",
       " ('2011-10-22 00:00:00', 'older'),\n",
       " ('2011-10-23 00:00:00', 'older'),\n",
       " ('2011-10-22 00:00:00', 'older'),\n",
       " ('2011-10-29 00:00:00', 'older'),\n",
       " ('2011-10-30 00:00:00', 'older'),\n",
       " ('2011-10-30 00:00:00', 'older'),\n",
       " ('2011-10-29 00:00:00', 'older'),\n",
       " ('2011-10-29 00:00:00', 'older'),\n",
       " ('2011-10-29 00:00:00', 'older'),\n",
       " ('2011-10-29 00:00:00', 'older'),\n",
       " ('2011-10-29 00:00:00', 'older'),\n",
       " ('2011-11-06 00:00:00', 'older'),\n",
       " ('2011-11-05 00:00:00', 'older'),\n",
       " ('2011-11-04 00:00:00', 'older'),\n",
       " ('2011-11-05 00:00:00', 'older'),\n",
       " ('2011-11-05 00:00:00', 'older'),\n",
       " ('2011-11-05 00:00:00', 'older'),\n",
       " ('2011-11-05 00:00:00', 'older'),\n",
       " ('2011-11-06 00:00:00', 'older'),\n",
       " ('2011-11-20 00:00:00', 'older'),\n",
       " ('2011-11-20 00:00:00', 'older'),\n",
       " ('2011-11-19 00:00:00', 'older'),\n",
       " ('2011-11-18 00:00:00', 'older'),\n",
       " ('2011-11-19 00:00:00', 'older'),\n",
       " ('2011-11-19 00:00:00', 'older'),\n",
       " ('2011-11-19 00:00:00', 'older'),\n",
       " ('2011-11-19 00:00:00', 'older'),\n",
       " ('2011-11-25 00:00:00', 'older'),\n",
       " ('2011-11-27 00:00:00', 'older'),\n",
       " ('2011-11-26 00:00:00', 'older'),\n",
       " ('2011-11-26 00:00:00', 'older'),\n",
       " ('2011-11-26 00:00:00', 'older'),\n",
       " ('2011-11-26 00:00:00', 'older'),\n",
       " ('2011-11-26 00:00:00', 'older'),\n",
       " ('2011-11-26 00:00:00', 'older'),\n",
       " ('2011-12-04 00:00:00', 'older'),\n",
       " ('2011-12-04 00:00:00', 'older'),\n",
       " ('2011-12-02 00:00:00', 'older'),\n",
       " ('2011-12-03 00:00:00', 'older'),\n",
       " ('2011-12-03 00:00:00', 'older'),\n",
       " ('2011-12-03 00:00:00', 'older'),\n",
       " ('2011-12-03 00:00:00', 'older'),\n",
       " ('2011-12-03 00:00:00', 'older'),\n",
       " ('2011-12-11 00:00:00', 'older'),\n",
       " ('2011-12-10 00:00:00', 'older'),\n",
       " ('2011-12-10 00:00:00', 'older'),\n",
       " ('2011-12-10 00:00:00', 'older'),\n",
       " ('2011-12-10 00:00:00', 'older'),\n",
       " ('2011-12-09 00:00:00', 'older'),\n",
       " ('2011-12-10 00:00:00', 'older'),\n",
       " ('2011-12-10 00:00:00', 'older'),\n",
       " ('2011-12-18 00:00:00', 'older'),\n",
       " ('2011-12-18 00:00:00', 'older'),\n",
       " ('2011-12-17 00:00:00', 'older'),\n",
       " ('2011-12-17 00:00:00', 'older'),\n",
       " ('2011-12-18 00:00:00', 'older'),\n",
       " ('2011-12-17 00:00:00', 'older'),\n",
       " ('2011-12-17 00:00:00', 'older'),\n",
       " ('2011-12-18 00:00:00', 'older'),\n",
       " ('2011-12-26 00:00:00', 'older'),\n",
       " ('2011-12-26 00:00:00', 'older'),\n",
       " ('2011-12-26 00:00:00', 'older'),\n",
       " ('2011-12-26 00:00:00', 'older'),\n",
       " ('2011-12-26 00:00:00', 'older'),\n",
       " ('2011-12-26 00:00:00', 'older'),\n",
       " ('2011-12-26 00:00:00', 'older'),\n",
       " ('2011-12-27 00:00:00', 'older'),\n",
       " ('2011-08-05 00:00:00', 'older'),\n",
       " ('2011-08-07 00:00:00', 'older'),\n",
       " ('2011-08-06 00:00:00', 'older'),\n",
       " ('2011-08-07 00:00:00', 'older'),\n",
       " ('2011-08-06 00:00:00', 'older'),\n",
       " ('2011-08-06 00:00:00', 'older'),\n",
       " ('2011-08-07 00:00:00', 'older'),\n",
       " ('2011-08-06 00:00:00', 'older'),\n",
       " ('2012-01-15 00:00:00', None),\n",
       " ('2012-01-14 00:00:00', None),\n",
       " ('2012-01-14 00:00:00', None),\n",
       " ('2012-01-15 00:00:00', None)]"
      ],
      "text/html": "<table>\n    <tr>\n        <th>date</th>\n        <th>date_category</th>\n    </tr>\n    <tr>\n        <td>2011-07-29 00:00:00</td>\n        <td>older</td>\n    </tr>\n    <tr>\n        <td>2011-07-30 00:00:00</td>\n        <td>older</td>\n    </tr>\n    <tr>\n        <td>2011-07-30 00:00:00</td>\n        <td>older</td>\n    </tr>\n    <tr>\n        <td>2011-07-30 00:00:00</td>\n        <td>older</td>\n    </tr>\n    <tr>\n        <td>2011-07-30 00:00:00</td>\n        <td>older</td>\n    </tr>\n    <tr>\n        <td>2011-07-30 00:00:00</td>\n        <td>older</td>\n    </tr>\n    <tr>\n        <td>2011-07-30 00:00:00</td>\n        <td>older</td>\n    </tr>\n    <tr>\n        <td>2011-07-31 00:00:00</td>\n        <td>older</td>\n    </tr>\n    <tr>\n        <td>2011-10-16 00:00:00</td>\n        <td>older</td>\n    </tr>\n    <tr>\n        <td>2011-10-16 00:00:00</td>\n        <td>older</td>\n    </tr>\n    <tr>\n        <td>2011-10-15 00:00:00</td>\n        <td>older</td>\n    </tr>\n    <tr>\n        <td>2011-10-15 00:00:00</td>\n        <td>older</td>\n    </tr>\n    <tr>\n        <td>2011-10-15 00:00:00</td>\n        <td>older</td>\n    </tr>\n    <tr>\n        <td>2011-10-15 00:00:00</td>\n        <td>older</td>\n    </tr>\n    <tr>\n        <td>2011-10-15 00:00:00</td>\n        <td>older</td>\n    </tr>\n    <tr>\n        <td>2011-10-15 00:00:00</td>\n        <td>older</td>\n    </tr>\n    <tr>\n        <td>2011-10-23 00:00:00</td>\n        <td>older</td>\n    </tr>\n    <tr>\n        <td>2011-10-22 00:00:00</td>\n        <td>older</td>\n    </tr>\n    <tr>\n        <td>2011-10-22 00:00:00</td>\n        <td>older</td>\n    </tr>\n    <tr>\n        <td>2011-10-22 00:00:00</td>\n        <td>older</td>\n    </tr>\n    <tr>\n        <td>2011-10-23 00:00:00</td>\n        <td>older</td>\n    </tr>\n    <tr>\n        <td>2011-10-22 00:00:00</td>\n        <td>older</td>\n    </tr>\n    <tr>\n        <td>2011-10-23 00:00:00</td>\n        <td>older</td>\n    </tr>\n    <tr>\n        <td>2011-10-22 00:00:00</td>\n        <td>older</td>\n    </tr>\n    <tr>\n        <td>2011-10-29 00:00:00</td>\n        <td>older</td>\n    </tr>\n    <tr>\n        <td>2011-10-30 00:00:00</td>\n        <td>older</td>\n    </tr>\n    <tr>\n        <td>2011-10-30 00:00:00</td>\n        <td>older</td>\n    </tr>\n    <tr>\n        <td>2011-10-29 00:00:00</td>\n        <td>older</td>\n    </tr>\n    <tr>\n        <td>2011-10-29 00:00:00</td>\n        <td>older</td>\n    </tr>\n    <tr>\n        <td>2011-10-29 00:00:00</td>\n        <td>older</td>\n    </tr>\n    <tr>\n        <td>2011-10-29 00:00:00</td>\n        <td>older</td>\n    </tr>\n    <tr>\n        <td>2011-10-29 00:00:00</td>\n        <td>older</td>\n    </tr>\n    <tr>\n        <td>2011-11-06 00:00:00</td>\n        <td>older</td>\n    </tr>\n    <tr>\n        <td>2011-11-05 00:00:00</td>\n        <td>older</td>\n    </tr>\n    <tr>\n        <td>2011-11-04 00:00:00</td>\n        <td>older</td>\n    </tr>\n    <tr>\n        <td>2011-11-05 00:00:00</td>\n        <td>older</td>\n    </tr>\n    <tr>\n        <td>2011-11-05 00:00:00</td>\n        <td>older</td>\n    </tr>\n    <tr>\n        <td>2011-11-05 00:00:00</td>\n        <td>older</td>\n    </tr>\n    <tr>\n        <td>2011-11-05 00:00:00</td>\n        <td>older</td>\n    </tr>\n    <tr>\n        <td>2011-11-06 00:00:00</td>\n        <td>older</td>\n    </tr>\n    <tr>\n        <td>2011-11-20 00:00:00</td>\n        <td>older</td>\n    </tr>\n    <tr>\n        <td>2011-11-20 00:00:00</td>\n        <td>older</td>\n    </tr>\n    <tr>\n        <td>2011-11-19 00:00:00</td>\n        <td>older</td>\n    </tr>\n    <tr>\n        <td>2011-11-18 00:00:00</td>\n        <td>older</td>\n    </tr>\n    <tr>\n        <td>2011-11-19 00:00:00</td>\n        <td>older</td>\n    </tr>\n    <tr>\n        <td>2011-11-19 00:00:00</td>\n        <td>older</td>\n    </tr>\n    <tr>\n        <td>2011-11-19 00:00:00</td>\n        <td>older</td>\n    </tr>\n    <tr>\n        <td>2011-11-19 00:00:00</td>\n        <td>older</td>\n    </tr>\n    <tr>\n        <td>2011-11-25 00:00:00</td>\n        <td>older</td>\n    </tr>\n    <tr>\n        <td>2011-11-27 00:00:00</td>\n        <td>older</td>\n    </tr>\n    <tr>\n        <td>2011-11-26 00:00:00</td>\n        <td>older</td>\n    </tr>\n    <tr>\n        <td>2011-11-26 00:00:00</td>\n        <td>older</td>\n    </tr>\n    <tr>\n        <td>2011-11-26 00:00:00</td>\n        <td>older</td>\n    </tr>\n    <tr>\n        <td>2011-11-26 00:00:00</td>\n        <td>older</td>\n    </tr>\n    <tr>\n        <td>2011-11-26 00:00:00</td>\n        <td>older</td>\n    </tr>\n    <tr>\n        <td>2011-11-26 00:00:00</td>\n        <td>older</td>\n    </tr>\n    <tr>\n        <td>2011-12-04 00:00:00</td>\n        <td>older</td>\n    </tr>\n    <tr>\n        <td>2011-12-04 00:00:00</td>\n        <td>older</td>\n    </tr>\n    <tr>\n        <td>2011-12-02 00:00:00</td>\n        <td>older</td>\n    </tr>\n    <tr>\n        <td>2011-12-03 00:00:00</td>\n        <td>older</td>\n    </tr>\n    <tr>\n        <td>2011-12-03 00:00:00</td>\n        <td>older</td>\n    </tr>\n    <tr>\n        <td>2011-12-03 00:00:00</td>\n        <td>older</td>\n    </tr>\n    <tr>\n        <td>2011-12-03 00:00:00</td>\n        <td>older</td>\n    </tr>\n    <tr>\n        <td>2011-12-03 00:00:00</td>\n        <td>older</td>\n    </tr>\n    <tr>\n        <td>2011-12-11 00:00:00</td>\n        <td>older</td>\n    </tr>\n    <tr>\n        <td>2011-12-10 00:00:00</td>\n        <td>older</td>\n    </tr>\n    <tr>\n        <td>2011-12-10 00:00:00</td>\n        <td>older</td>\n    </tr>\n    <tr>\n        <td>2011-12-10 00:00:00</td>\n        <td>older</td>\n    </tr>\n    <tr>\n        <td>2011-12-10 00:00:00</td>\n        <td>older</td>\n    </tr>\n    <tr>\n        <td>2011-12-09 00:00:00</td>\n        <td>older</td>\n    </tr>\n    <tr>\n        <td>2011-12-10 00:00:00</td>\n        <td>older</td>\n    </tr>\n    <tr>\n        <td>2011-12-10 00:00:00</td>\n        <td>older</td>\n    </tr>\n    <tr>\n        <td>2011-12-18 00:00:00</td>\n        <td>older</td>\n    </tr>\n    <tr>\n        <td>2011-12-18 00:00:00</td>\n        <td>older</td>\n    </tr>\n    <tr>\n        <td>2011-12-17 00:00:00</td>\n        <td>older</td>\n    </tr>\n    <tr>\n        <td>2011-12-17 00:00:00</td>\n        <td>older</td>\n    </tr>\n    <tr>\n        <td>2011-12-18 00:00:00</td>\n        <td>older</td>\n    </tr>\n    <tr>\n        <td>2011-12-17 00:00:00</td>\n        <td>older</td>\n    </tr>\n    <tr>\n        <td>2011-12-17 00:00:00</td>\n        <td>older</td>\n    </tr>\n    <tr>\n        <td>2011-12-18 00:00:00</td>\n        <td>older</td>\n    </tr>\n    <tr>\n        <td>2011-12-26 00:00:00</td>\n        <td>older</td>\n    </tr>\n    <tr>\n        <td>2011-12-26 00:00:00</td>\n        <td>older</td>\n    </tr>\n    <tr>\n        <td>2011-12-26 00:00:00</td>\n        <td>older</td>\n    </tr>\n    <tr>\n        <td>2011-12-26 00:00:00</td>\n        <td>older</td>\n    </tr>\n    <tr>\n        <td>2011-12-26 00:00:00</td>\n        <td>older</td>\n    </tr>\n    <tr>\n        <td>2011-12-26 00:00:00</td>\n        <td>older</td>\n    </tr>\n    <tr>\n        <td>2011-12-26 00:00:00</td>\n        <td>older</td>\n    </tr>\n    <tr>\n        <td>2011-12-27 00:00:00</td>\n        <td>older</td>\n    </tr>\n    <tr>\n        <td>2011-08-05 00:00:00</td>\n        <td>older</td>\n    </tr>\n    <tr>\n        <td>2011-08-07 00:00:00</td>\n        <td>older</td>\n    </tr>\n    <tr>\n        <td>2011-08-06 00:00:00</td>\n        <td>older</td>\n    </tr>\n    <tr>\n        <td>2011-08-07 00:00:00</td>\n        <td>older</td>\n    </tr>\n    <tr>\n        <td>2011-08-06 00:00:00</td>\n        <td>older</td>\n    </tr>\n    <tr>\n        <td>2011-08-06 00:00:00</td>\n        <td>older</td>\n    </tr>\n    <tr>\n        <td>2011-08-07 00:00:00</td>\n        <td>older</td>\n    </tr>\n    <tr>\n        <td>2011-08-06 00:00:00</td>\n        <td>older</td>\n    </tr>\n    <tr>\n        <td>2012-01-15 00:00:00</td>\n        <td>None</td>\n    </tr>\n    <tr>\n        <td>2012-01-14 00:00:00</td>\n        <td>None</td>\n    </tr>\n    <tr>\n        <td>2012-01-14 00:00:00</td>\n        <td>None</td>\n    </tr>\n    <tr>\n        <td>2012-01-15 00:00:00</td>\n        <td>None</td>\n    </tr>\n</table>"
     },
     "metadata": {},
     "execution_count": 21
    }
   ],
   "source": [
    "# Primera consulta\n",
    "%sql SELECT date, \\\n",
    "CASE WHEN date > '2015-01-01' THEN 'More Recently' \\\n",
    "WHEN date < '2012-01-01' THEN 'older' \\\n",
    "END AS date_category \\\n",
    "FROM match \\\n",
    "WHERE season IN ('2011/2012') \\\n",
    "LIMIT 100"
   ]
  },
  {
   "cell_type": "code",
   "execution_count": 22,
   "metadata": {},
   "outputs": [
    {
     "output_type": "stream",
     "name": "stdout",
     "text": [
      "   sqlite://\n   sqlite:////Universidad/DataCamp/Python/intermediate_sql/SQL_SAFI.sqlite\n * sqlite:////Universidad/DataCamp/Python/intermediate_sql/european_soccer.sqlite\nDone.\n"
     ]
    },
    {
     "output_type": "execute_result",
     "data": {
      "text/plain": [
       "[('2011-07-29 00:00:00', 'older'),\n",
       " ('2011-07-30 00:00:00', 'older'),\n",
       " ('2011-07-30 00:00:00', 'older'),\n",
       " ('2011-07-30 00:00:00', 'older'),\n",
       " ('2011-07-30 00:00:00', 'older'),\n",
       " ('2011-07-30 00:00:00', 'older'),\n",
       " ('2011-07-30 00:00:00', 'older'),\n",
       " ('2011-07-31 00:00:00', 'older'),\n",
       " ('2011-10-16 00:00:00', 'older'),\n",
       " ('2011-10-16 00:00:00', 'older'),\n",
       " ('2011-10-15 00:00:00', 'older'),\n",
       " ('2011-10-15 00:00:00', 'older'),\n",
       " ('2011-10-15 00:00:00', 'older'),\n",
       " ('2011-10-15 00:00:00', 'older'),\n",
       " ('2011-10-15 00:00:00', 'older'),\n",
       " ('2011-10-15 00:00:00', 'older'),\n",
       " ('2011-10-23 00:00:00', 'older'),\n",
       " ('2011-10-22 00:00:00', 'older'),\n",
       " ('2011-10-22 00:00:00', 'older'),\n",
       " ('2011-10-22 00:00:00', 'older'),\n",
       " ('2011-10-23 00:00:00', 'older'),\n",
       " ('2011-10-22 00:00:00', 'older'),\n",
       " ('2011-10-23 00:00:00', 'older'),\n",
       " ('2011-10-22 00:00:00', 'older'),\n",
       " ('2011-10-29 00:00:00', 'older'),\n",
       " ('2011-10-30 00:00:00', 'older'),\n",
       " ('2011-10-30 00:00:00', 'older'),\n",
       " ('2011-10-29 00:00:00', 'older'),\n",
       " ('2011-10-29 00:00:00', 'older'),\n",
       " ('2011-10-29 00:00:00', 'older'),\n",
       " ('2011-10-29 00:00:00', 'older'),\n",
       " ('2011-10-29 00:00:00', 'older'),\n",
       " ('2011-11-06 00:00:00', 'older'),\n",
       " ('2011-11-05 00:00:00', 'older'),\n",
       " ('2011-11-04 00:00:00', 'older'),\n",
       " ('2011-11-05 00:00:00', 'older'),\n",
       " ('2011-11-05 00:00:00', 'older'),\n",
       " ('2011-11-05 00:00:00', 'older'),\n",
       " ('2011-11-05 00:00:00', 'older'),\n",
       " ('2011-11-06 00:00:00', 'older'),\n",
       " ('2011-11-20 00:00:00', 'older'),\n",
       " ('2011-11-20 00:00:00', 'older'),\n",
       " ('2011-11-19 00:00:00', 'older'),\n",
       " ('2011-11-18 00:00:00', 'older'),\n",
       " ('2011-11-19 00:00:00', 'older'),\n",
       " ('2011-11-19 00:00:00', 'older'),\n",
       " ('2011-11-19 00:00:00', 'older'),\n",
       " ('2011-11-19 00:00:00', 'older'),\n",
       " ('2011-11-25 00:00:00', 'older'),\n",
       " ('2011-11-27 00:00:00', 'older'),\n",
       " ('2011-11-26 00:00:00', 'older'),\n",
       " ('2011-11-26 00:00:00', 'older'),\n",
       " ('2011-11-26 00:00:00', 'older'),\n",
       " ('2011-11-26 00:00:00', 'older'),\n",
       " ('2011-11-26 00:00:00', 'older'),\n",
       " ('2011-11-26 00:00:00', 'older'),\n",
       " ('2011-12-04 00:00:00', 'older'),\n",
       " ('2011-12-04 00:00:00', 'older'),\n",
       " ('2011-12-02 00:00:00', 'older'),\n",
       " ('2011-12-03 00:00:00', 'older'),\n",
       " ('2011-12-03 00:00:00', 'older'),\n",
       " ('2011-12-03 00:00:00', 'older'),\n",
       " ('2011-12-03 00:00:00', 'older'),\n",
       " ('2011-12-03 00:00:00', 'older'),\n",
       " ('2011-12-11 00:00:00', 'older'),\n",
       " ('2011-12-10 00:00:00', 'older'),\n",
       " ('2011-12-10 00:00:00', 'older'),\n",
       " ('2011-12-10 00:00:00', 'older'),\n",
       " ('2011-12-10 00:00:00', 'older'),\n",
       " ('2011-12-09 00:00:00', 'older'),\n",
       " ('2011-12-10 00:00:00', 'older'),\n",
       " ('2011-12-10 00:00:00', 'older'),\n",
       " ('2011-12-18 00:00:00', 'older'),\n",
       " ('2011-12-18 00:00:00', 'older'),\n",
       " ('2011-12-17 00:00:00', 'older'),\n",
       " ('2011-12-17 00:00:00', 'older'),\n",
       " ('2011-12-18 00:00:00', 'older'),\n",
       " ('2011-12-17 00:00:00', 'older'),\n",
       " ('2011-12-17 00:00:00', 'older'),\n",
       " ('2011-12-18 00:00:00', 'older'),\n",
       " ('2011-12-26 00:00:00', 'older'),\n",
       " ('2011-12-26 00:00:00', 'older'),\n",
       " ('2011-12-26 00:00:00', 'older'),\n",
       " ('2011-12-26 00:00:00', 'older'),\n",
       " ('2011-12-26 00:00:00', 'older'),\n",
       " ('2011-12-26 00:00:00', 'older'),\n",
       " ('2011-12-26 00:00:00', 'older'),\n",
       " ('2011-12-27 00:00:00', 'older'),\n",
       " ('2011-08-05 00:00:00', 'older'),\n",
       " ('2011-08-07 00:00:00', 'older'),\n",
       " ('2011-08-06 00:00:00', 'older'),\n",
       " ('2011-08-07 00:00:00', 'older'),\n",
       " ('2011-08-06 00:00:00', 'older'),\n",
       " ('2011-08-06 00:00:00', 'older'),\n",
       " ('2011-08-07 00:00:00', 'older'),\n",
       " ('2011-08-06 00:00:00', 'older'),\n",
       " ('2012-01-15 00:00:00', None),\n",
       " ('2012-01-14 00:00:00', None),\n",
       " ('2012-01-14 00:00:00', None),\n",
       " ('2012-01-15 00:00:00', None)]"
      ],
      "text/html": "<table>\n    <tr>\n        <th>date</th>\n        <th>date_category</th>\n    </tr>\n    <tr>\n        <td>2011-07-29 00:00:00</td>\n        <td>older</td>\n    </tr>\n    <tr>\n        <td>2011-07-30 00:00:00</td>\n        <td>older</td>\n    </tr>\n    <tr>\n        <td>2011-07-30 00:00:00</td>\n        <td>older</td>\n    </tr>\n    <tr>\n        <td>2011-07-30 00:00:00</td>\n        <td>older</td>\n    </tr>\n    <tr>\n        <td>2011-07-30 00:00:00</td>\n        <td>older</td>\n    </tr>\n    <tr>\n        <td>2011-07-30 00:00:00</td>\n        <td>older</td>\n    </tr>\n    <tr>\n        <td>2011-07-30 00:00:00</td>\n        <td>older</td>\n    </tr>\n    <tr>\n        <td>2011-07-31 00:00:00</td>\n        <td>older</td>\n    </tr>\n    <tr>\n        <td>2011-10-16 00:00:00</td>\n        <td>older</td>\n    </tr>\n    <tr>\n        <td>2011-10-16 00:00:00</td>\n        <td>older</td>\n    </tr>\n    <tr>\n        <td>2011-10-15 00:00:00</td>\n        <td>older</td>\n    </tr>\n    <tr>\n        <td>2011-10-15 00:00:00</td>\n        <td>older</td>\n    </tr>\n    <tr>\n        <td>2011-10-15 00:00:00</td>\n        <td>older</td>\n    </tr>\n    <tr>\n        <td>2011-10-15 00:00:00</td>\n        <td>older</td>\n    </tr>\n    <tr>\n        <td>2011-10-15 00:00:00</td>\n        <td>older</td>\n    </tr>\n    <tr>\n        <td>2011-10-15 00:00:00</td>\n        <td>older</td>\n    </tr>\n    <tr>\n        <td>2011-10-23 00:00:00</td>\n        <td>older</td>\n    </tr>\n    <tr>\n        <td>2011-10-22 00:00:00</td>\n        <td>older</td>\n    </tr>\n    <tr>\n        <td>2011-10-22 00:00:00</td>\n        <td>older</td>\n    </tr>\n    <tr>\n        <td>2011-10-22 00:00:00</td>\n        <td>older</td>\n    </tr>\n    <tr>\n        <td>2011-10-23 00:00:00</td>\n        <td>older</td>\n    </tr>\n    <tr>\n        <td>2011-10-22 00:00:00</td>\n        <td>older</td>\n    </tr>\n    <tr>\n        <td>2011-10-23 00:00:00</td>\n        <td>older</td>\n    </tr>\n    <tr>\n        <td>2011-10-22 00:00:00</td>\n        <td>older</td>\n    </tr>\n    <tr>\n        <td>2011-10-29 00:00:00</td>\n        <td>older</td>\n    </tr>\n    <tr>\n        <td>2011-10-30 00:00:00</td>\n        <td>older</td>\n    </tr>\n    <tr>\n        <td>2011-10-30 00:00:00</td>\n        <td>older</td>\n    </tr>\n    <tr>\n        <td>2011-10-29 00:00:00</td>\n        <td>older</td>\n    </tr>\n    <tr>\n        <td>2011-10-29 00:00:00</td>\n        <td>older</td>\n    </tr>\n    <tr>\n        <td>2011-10-29 00:00:00</td>\n        <td>older</td>\n    </tr>\n    <tr>\n        <td>2011-10-29 00:00:00</td>\n        <td>older</td>\n    </tr>\n    <tr>\n        <td>2011-10-29 00:00:00</td>\n        <td>older</td>\n    </tr>\n    <tr>\n        <td>2011-11-06 00:00:00</td>\n        <td>older</td>\n    </tr>\n    <tr>\n        <td>2011-11-05 00:00:00</td>\n        <td>older</td>\n    </tr>\n    <tr>\n        <td>2011-11-04 00:00:00</td>\n        <td>older</td>\n    </tr>\n    <tr>\n        <td>2011-11-05 00:00:00</td>\n        <td>older</td>\n    </tr>\n    <tr>\n        <td>2011-11-05 00:00:00</td>\n        <td>older</td>\n    </tr>\n    <tr>\n        <td>2011-11-05 00:00:00</td>\n        <td>older</td>\n    </tr>\n    <tr>\n        <td>2011-11-05 00:00:00</td>\n        <td>older</td>\n    </tr>\n    <tr>\n        <td>2011-11-06 00:00:00</td>\n        <td>older</td>\n    </tr>\n    <tr>\n        <td>2011-11-20 00:00:00</td>\n        <td>older</td>\n    </tr>\n    <tr>\n        <td>2011-11-20 00:00:00</td>\n        <td>older</td>\n    </tr>\n    <tr>\n        <td>2011-11-19 00:00:00</td>\n        <td>older</td>\n    </tr>\n    <tr>\n        <td>2011-11-18 00:00:00</td>\n        <td>older</td>\n    </tr>\n    <tr>\n        <td>2011-11-19 00:00:00</td>\n        <td>older</td>\n    </tr>\n    <tr>\n        <td>2011-11-19 00:00:00</td>\n        <td>older</td>\n    </tr>\n    <tr>\n        <td>2011-11-19 00:00:00</td>\n        <td>older</td>\n    </tr>\n    <tr>\n        <td>2011-11-19 00:00:00</td>\n        <td>older</td>\n    </tr>\n    <tr>\n        <td>2011-11-25 00:00:00</td>\n        <td>older</td>\n    </tr>\n    <tr>\n        <td>2011-11-27 00:00:00</td>\n        <td>older</td>\n    </tr>\n    <tr>\n        <td>2011-11-26 00:00:00</td>\n        <td>older</td>\n    </tr>\n    <tr>\n        <td>2011-11-26 00:00:00</td>\n        <td>older</td>\n    </tr>\n    <tr>\n        <td>2011-11-26 00:00:00</td>\n        <td>older</td>\n    </tr>\n    <tr>\n        <td>2011-11-26 00:00:00</td>\n        <td>older</td>\n    </tr>\n    <tr>\n        <td>2011-11-26 00:00:00</td>\n        <td>older</td>\n    </tr>\n    <tr>\n        <td>2011-11-26 00:00:00</td>\n        <td>older</td>\n    </tr>\n    <tr>\n        <td>2011-12-04 00:00:00</td>\n        <td>older</td>\n    </tr>\n    <tr>\n        <td>2011-12-04 00:00:00</td>\n        <td>older</td>\n    </tr>\n    <tr>\n        <td>2011-12-02 00:00:00</td>\n        <td>older</td>\n    </tr>\n    <tr>\n        <td>2011-12-03 00:00:00</td>\n        <td>older</td>\n    </tr>\n    <tr>\n        <td>2011-12-03 00:00:00</td>\n        <td>older</td>\n    </tr>\n    <tr>\n        <td>2011-12-03 00:00:00</td>\n        <td>older</td>\n    </tr>\n    <tr>\n        <td>2011-12-03 00:00:00</td>\n        <td>older</td>\n    </tr>\n    <tr>\n        <td>2011-12-03 00:00:00</td>\n        <td>older</td>\n    </tr>\n    <tr>\n        <td>2011-12-11 00:00:00</td>\n        <td>older</td>\n    </tr>\n    <tr>\n        <td>2011-12-10 00:00:00</td>\n        <td>older</td>\n    </tr>\n    <tr>\n        <td>2011-12-10 00:00:00</td>\n        <td>older</td>\n    </tr>\n    <tr>\n        <td>2011-12-10 00:00:00</td>\n        <td>older</td>\n    </tr>\n    <tr>\n        <td>2011-12-10 00:00:00</td>\n        <td>older</td>\n    </tr>\n    <tr>\n        <td>2011-12-09 00:00:00</td>\n        <td>older</td>\n    </tr>\n    <tr>\n        <td>2011-12-10 00:00:00</td>\n        <td>older</td>\n    </tr>\n    <tr>\n        <td>2011-12-10 00:00:00</td>\n        <td>older</td>\n    </tr>\n    <tr>\n        <td>2011-12-18 00:00:00</td>\n        <td>older</td>\n    </tr>\n    <tr>\n        <td>2011-12-18 00:00:00</td>\n        <td>older</td>\n    </tr>\n    <tr>\n        <td>2011-12-17 00:00:00</td>\n        <td>older</td>\n    </tr>\n    <tr>\n        <td>2011-12-17 00:00:00</td>\n        <td>older</td>\n    </tr>\n    <tr>\n        <td>2011-12-18 00:00:00</td>\n        <td>older</td>\n    </tr>\n    <tr>\n        <td>2011-12-17 00:00:00</td>\n        <td>older</td>\n    </tr>\n    <tr>\n        <td>2011-12-17 00:00:00</td>\n        <td>older</td>\n    </tr>\n    <tr>\n        <td>2011-12-18 00:00:00</td>\n        <td>older</td>\n    </tr>\n    <tr>\n        <td>2011-12-26 00:00:00</td>\n        <td>older</td>\n    </tr>\n    <tr>\n        <td>2011-12-26 00:00:00</td>\n        <td>older</td>\n    </tr>\n    <tr>\n        <td>2011-12-26 00:00:00</td>\n        <td>older</td>\n    </tr>\n    <tr>\n        <td>2011-12-26 00:00:00</td>\n        <td>older</td>\n    </tr>\n    <tr>\n        <td>2011-12-26 00:00:00</td>\n        <td>older</td>\n    </tr>\n    <tr>\n        <td>2011-12-26 00:00:00</td>\n        <td>older</td>\n    </tr>\n    <tr>\n        <td>2011-12-26 00:00:00</td>\n        <td>older</td>\n    </tr>\n    <tr>\n        <td>2011-12-27 00:00:00</td>\n        <td>older</td>\n    </tr>\n    <tr>\n        <td>2011-08-05 00:00:00</td>\n        <td>older</td>\n    </tr>\n    <tr>\n        <td>2011-08-07 00:00:00</td>\n        <td>older</td>\n    </tr>\n    <tr>\n        <td>2011-08-06 00:00:00</td>\n        <td>older</td>\n    </tr>\n    <tr>\n        <td>2011-08-07 00:00:00</td>\n        <td>older</td>\n    </tr>\n    <tr>\n        <td>2011-08-06 00:00:00</td>\n        <td>older</td>\n    </tr>\n    <tr>\n        <td>2011-08-06 00:00:00</td>\n        <td>older</td>\n    </tr>\n    <tr>\n        <td>2011-08-07 00:00:00</td>\n        <td>older</td>\n    </tr>\n    <tr>\n        <td>2011-08-06 00:00:00</td>\n        <td>older</td>\n    </tr>\n    <tr>\n        <td>2012-01-15 00:00:00</td>\n        <td>None</td>\n    </tr>\n    <tr>\n        <td>2012-01-14 00:00:00</td>\n        <td>None</td>\n    </tr>\n    <tr>\n        <td>2012-01-14 00:00:00</td>\n        <td>None</td>\n    </tr>\n    <tr>\n        <td>2012-01-15 00:00:00</td>\n        <td>None</td>\n    </tr>\n</table>"
     },
     "metadata": {},
     "execution_count": 22
    }
   ],
   "source": [
    "# Segunda consulta con ELSE NULL\n",
    "%sql SELECT date, \\\n",
    "CASE WHEN date > '2015-01-01' THEN 'More Recently' \\\n",
    "WHEN date < '2012-01-01' THEN 'older' \\\n",
    "ELSE NULL END AS date_category \\\n",
    "FROM match \\\n",
    "WHERE season IN ('2011/2012') \\\n",
    "LIMIT 100"
   ]
  },
  {
   "cell_type": "markdown",
   "metadata": {},
   "source": [
    "Ambas consultas devuelven resultados idénticos: tablas con algunos resultados nulos. Pero, ¿y si queremos excluirlos?\n",
    "\n",
    "## What are NULL values doing?\n",
    "\n",
    "Digamos que solo nos interesa ver los resultados de los partidos en los que ganó el Chelsea, y no nos importa si pierde o empata.\n",
    "\n",
    "Al igual que en el ejemplo anterior, simplemente eliminando la cláusula ELSE, recuperará esos resultados y muchos valores NULL."
   ]
  },
  {
   "cell_type": "code",
   "execution_count": 23,
   "metadata": {},
   "outputs": [
    {
     "output_type": "stream",
     "name": "stdout",
     "text": [
      "   sqlite://\n   sqlite:////Universidad/DataCamp/Python/intermediate_sql/SQL_SAFI.sqlite\n * sqlite:////Universidad/DataCamp/Python/intermediate_sql/european_soccer.sqlite\nDone.\n"
     ]
    },
    {
     "output_type": "execute_result",
     "data": {
      "text/plain": [
       "[('2008-08-17 00:00:00', '2008/2009', 'Chelsea ganó en casa'),\n",
       " ('2008-10-29 00:00:00', '2008/2009', 'Chelsea ganó de visitante'),\n",
       " ('2008-11-01 00:00:00', '2008/2009', 'Chelsea ganó en casa'),\n",
       " ('2008-11-09 00:00:00', '2008/2009', 'Chelsea ganó de visitante'),\n",
       " ('2008-11-15 00:00:00', '2008/2009', 'Chelsea ganó de visitante'),\n",
       " ('2008-11-22 00:00:00', '2008/2009', None),\n",
       " ('2008-11-30 00:00:00', '2008/2009', None),\n",
       " ('2008-12-06 00:00:00', '2008/2009', 'Chelsea ganó de visitante'),\n",
       " ('2008-12-14 00:00:00', '2008/2009', None),\n",
       " ('2008-12-22 00:00:00', '2008/2009', None)]"
      ],
      "text/html": "<table>\n    <tr>\n        <th>date</th>\n        <th>season</th>\n        <th>outcome</th>\n    </tr>\n    <tr>\n        <td>2008-08-17 00:00:00</td>\n        <td>2008/2009</td>\n        <td>Chelsea ganó en casa</td>\n    </tr>\n    <tr>\n        <td>2008-10-29 00:00:00</td>\n        <td>2008/2009</td>\n        <td>Chelsea ganó de visitante</td>\n    </tr>\n    <tr>\n        <td>2008-11-01 00:00:00</td>\n        <td>2008/2009</td>\n        <td>Chelsea ganó en casa</td>\n    </tr>\n    <tr>\n        <td>2008-11-09 00:00:00</td>\n        <td>2008/2009</td>\n        <td>Chelsea ganó de visitante</td>\n    </tr>\n    <tr>\n        <td>2008-11-15 00:00:00</td>\n        <td>2008/2009</td>\n        <td>Chelsea ganó de visitante</td>\n    </tr>\n    <tr>\n        <td>2008-11-22 00:00:00</td>\n        <td>2008/2009</td>\n        <td>None</td>\n    </tr>\n    <tr>\n        <td>2008-11-30 00:00:00</td>\n        <td>2008/2009</td>\n        <td>None</td>\n    </tr>\n    <tr>\n        <td>2008-12-06 00:00:00</td>\n        <td>2008/2009</td>\n        <td>Chelsea ganó de visitante</td>\n    </tr>\n    <tr>\n        <td>2008-12-14 00:00:00</td>\n        <td>2008/2009</td>\n        <td>None</td>\n    </tr>\n    <tr>\n        <td>2008-12-22 00:00:00</td>\n        <td>2008/2009</td>\n        <td>None</td>\n    </tr>\n</table>"
     },
     "metadata": {},
     "execution_count": 23
    }
   ],
   "source": [
    "%sql SELECT date, season, \\\n",
    "CASE WHEN home_team_api_id = 8455 AND home_team_goal > away_team_goal THEN 'Chelsea ganó en casa' \\\n",
    "WHEN away_team_api_id = 8455 AND home_team_goal < away_team_goal THEN 'Chelsea ganó de visitante' \\\n",
    "END AS outcome \\\n",
    "FROM Match \\\n",
    "WHERE home_team_api_id = 8455 OR away_team_api_id = 8455 \\\n",
    "LIMIT 10"
   ]
  },
  {
   "cell_type": "markdown",
   "metadata": {},
   "source": [
    "## Where to place your CASE?\n",
    "\n",
    "Para corregir esto, podemos tratar la declaración CASE completa como una columna para filtrar en la cláusula WHERE, como cualquier otra columna.\n",
    "\n",
    "Para filtrar una consulta por una declaración CASE, debemos modificar la primera consulta a continuación, de forma que quede como en la segunda, es decir:\n",
    "\n",
    "- Se incluye la instrucción CASE completa, EXCEPTO SU ALIAS, en WHERE.\n",
    "\n",
    "- A continuación, se especifica lo que se desea incluir o excluir.\n",
    "\n",
    "En el caso de la segunda consulta, en específico, deseamos mantener todas las filas en donde la declaración CASE NO SEA NULA (END IS NOT NULL)."
   ]
  },
  {
   "cell_type": "code",
   "execution_count": 24,
   "metadata": {},
   "outputs": [
    {
     "output_type": "stream",
     "name": "stdout",
     "text": [
      "   sqlite://\n   sqlite:////Universidad/DataCamp/Python/intermediate_sql/SQL_SAFI.sqlite\n * sqlite:////Universidad/DataCamp/Python/intermediate_sql/european_soccer.sqlite\nDone.\n"
     ]
    },
    {
     "output_type": "execute_result",
     "data": {
      "text/plain": [
       "[('2008-08-17 00:00:00', '2008/2009', 'Chelsea ganó en casa'),\n",
       " ('2008-10-29 00:00:00', '2008/2009', 'Chelsea ganó de visitante'),\n",
       " ('2008-11-01 00:00:00', '2008/2009', 'Chelsea ganó en casa'),\n",
       " ('2008-11-09 00:00:00', '2008/2009', 'Chelsea ganó de visitante'),\n",
       " ('2008-11-15 00:00:00', '2008/2009', 'Chelsea ganó de visitante'),\n",
       " ('2008-11-22 00:00:00', '2008/2009', None),\n",
       " ('2008-11-30 00:00:00', '2008/2009', None),\n",
       " ('2008-12-06 00:00:00', '2008/2009', 'Chelsea ganó de visitante'),\n",
       " ('2008-12-14 00:00:00', '2008/2009', None),\n",
       " ('2008-12-22 00:00:00', '2008/2009', None)]"
      ],
      "text/html": "<table>\n    <tr>\n        <th>date</th>\n        <th>season</th>\n        <th>outcome</th>\n    </tr>\n    <tr>\n        <td>2008-08-17 00:00:00</td>\n        <td>2008/2009</td>\n        <td>Chelsea ganó en casa</td>\n    </tr>\n    <tr>\n        <td>2008-10-29 00:00:00</td>\n        <td>2008/2009</td>\n        <td>Chelsea ganó de visitante</td>\n    </tr>\n    <tr>\n        <td>2008-11-01 00:00:00</td>\n        <td>2008/2009</td>\n        <td>Chelsea ganó en casa</td>\n    </tr>\n    <tr>\n        <td>2008-11-09 00:00:00</td>\n        <td>2008/2009</td>\n        <td>Chelsea ganó de visitante</td>\n    </tr>\n    <tr>\n        <td>2008-11-15 00:00:00</td>\n        <td>2008/2009</td>\n        <td>Chelsea ganó de visitante</td>\n    </tr>\n    <tr>\n        <td>2008-11-22 00:00:00</td>\n        <td>2008/2009</td>\n        <td>None</td>\n    </tr>\n    <tr>\n        <td>2008-11-30 00:00:00</td>\n        <td>2008/2009</td>\n        <td>None</td>\n    </tr>\n    <tr>\n        <td>2008-12-06 00:00:00</td>\n        <td>2008/2009</td>\n        <td>Chelsea ganó de visitante</td>\n    </tr>\n    <tr>\n        <td>2008-12-14 00:00:00</td>\n        <td>2008/2009</td>\n        <td>None</td>\n    </tr>\n    <tr>\n        <td>2008-12-22 00:00:00</td>\n        <td>2008/2009</td>\n        <td>None</td>\n    </tr>\n</table>"
     },
     "metadata": {},
     "execution_count": 24
    }
   ],
   "source": [
    "# Primera consulta\n",
    "%sql SELECT date, \\\n",
    "season, \\\n",
    "CASE WHEN home_team_api_id = 8455 AND home_team_goal > away_team_goal THEN 'Chelsea ganó en casa' \\\n",
    "WHEN away_team_api_id = 8455 AND home_team_goal < away_team_goal THEN 'Chelsea ganó de visitante' END AS outcome \\\n",
    "FROM match \\\n",
    "WHERE away_team_api_id = 8455 OR home_team_api_id = 8455 \\\n",
    "LIMIT 10"
   ]
  },
  {
   "cell_type": "code",
   "execution_count": 25,
   "metadata": {},
   "outputs": [
    {
     "output_type": "stream",
     "name": "stdout",
     "text": [
      "   sqlite://\n   sqlite:////Universidad/DataCamp/Python/intermediate_sql/SQL_SAFI.sqlite\n * sqlite:////Universidad/DataCamp/Python/intermediate_sql/european_soccer.sqlite\nDone.\n"
     ]
    },
    {
     "output_type": "execute_result",
     "data": {
      "text/plain": [
       "[('2008-08-17 00:00:00', '2008/2009', 'Chelsea ganó en casa'),\n",
       " ('2008-10-29 00:00:00', '2008/2009', 'Chelsea ganó de visitante'),\n",
       " ('2008-11-01 00:00:00', '2008/2009', 'Chelsea ganó en casa'),\n",
       " ('2008-11-09 00:00:00', '2008/2009', 'Chelsea ganó de visitante'),\n",
       " ('2008-11-15 00:00:00', '2008/2009', 'Chelsea ganó de visitante'),\n",
       " ('2008-12-06 00:00:00', '2008/2009', 'Chelsea ganó de visitante'),\n",
       " ('2008-12-26 00:00:00', '2008/2009', 'Chelsea ganó en casa'),\n",
       " ('2008-08-24 00:00:00', '2008/2009', 'Chelsea ganó de visitante'),\n",
       " ('2009-01-17 00:00:00', '2008/2009', 'Chelsea ganó en casa'),\n",
       " ('2009-01-28 00:00:00', '2008/2009', 'Chelsea ganó en casa')]"
      ],
      "text/html": "<table>\n    <tr>\n        <th>date</th>\n        <th>season</th>\n        <th>outcome</th>\n    </tr>\n    <tr>\n        <td>2008-08-17 00:00:00</td>\n        <td>2008/2009</td>\n        <td>Chelsea ganó en casa</td>\n    </tr>\n    <tr>\n        <td>2008-10-29 00:00:00</td>\n        <td>2008/2009</td>\n        <td>Chelsea ganó de visitante</td>\n    </tr>\n    <tr>\n        <td>2008-11-01 00:00:00</td>\n        <td>2008/2009</td>\n        <td>Chelsea ganó en casa</td>\n    </tr>\n    <tr>\n        <td>2008-11-09 00:00:00</td>\n        <td>2008/2009</td>\n        <td>Chelsea ganó de visitante</td>\n    </tr>\n    <tr>\n        <td>2008-11-15 00:00:00</td>\n        <td>2008/2009</td>\n        <td>Chelsea ganó de visitante</td>\n    </tr>\n    <tr>\n        <td>2008-12-06 00:00:00</td>\n        <td>2008/2009</td>\n        <td>Chelsea ganó de visitante</td>\n    </tr>\n    <tr>\n        <td>2008-12-26 00:00:00</td>\n        <td>2008/2009</td>\n        <td>Chelsea ganó en casa</td>\n    </tr>\n    <tr>\n        <td>2008-08-24 00:00:00</td>\n        <td>2008/2009</td>\n        <td>Chelsea ganó de visitante</td>\n    </tr>\n    <tr>\n        <td>2009-01-17 00:00:00</td>\n        <td>2008/2009</td>\n        <td>Chelsea ganó en casa</td>\n    </tr>\n    <tr>\n        <td>2009-01-28 00:00:00</td>\n        <td>2008/2009</td>\n        <td>Chelsea ganó en casa</td>\n    </tr>\n</table>"
     },
     "metadata": {},
     "execution_count": 25
    }
   ],
   "source": [
    "# Segunda consulta\n",
    "%sql SELECT date, \\\n",
    "season, \\\n",
    "CASE WHEN home_team_api_id = 8455 AND home_team_goal > away_team_goal THEN 'Chelsea ganó en casa' \\\n",
    "WHEN away_team_api_id = 8455 AND home_team_goal < away_team_goal THEN 'Chelsea ganó de visitante' END AS outcome \\\n",
    "FROM match \\\n",
    "WHERE CASE WHEN home_team_api_id = 8455 AND home_team_goal > away_team_goal THEN 'Chelsea ganó en casa' \\\n",
    "WHEN away_team_api_id = 8455 AND home_team_goal < away_team_goal THEN 'Chelsea ganó de visitante' END IS NOT NULL \\\n",
    "LIMIT 10"
   ]
  },
  {
   "cell_type": "markdown",
   "metadata": {},
   "source": [
    "De esta forma, la tabla resultante ahora solo incluye cuando Chelsea estaba en casa o de visitante, ¡y ya no necesitamos filtrar por el ID de equipo!\n",
    "\n",
    "Bueno, ¡practiquemos algunas declaraciones CASE más complejas!"
   ]
  },
  {
   "cell_type": "markdown",
   "metadata": {},
   "source": [
    "### EX 4° : In case of rivalry\n",
    "Haremos una consulta con los partidos jugados entre el FC Barcelona y el Real Madrid (El Clásico)."
   ]
  },
  {
   "cell_type": "code",
   "execution_count": 26,
   "metadata": {},
   "outputs": [
    {
     "output_type": "stream",
     "name": "stdout",
     "text": [
      "   sqlite://\n   sqlite:////Universidad/DataCamp/Python/intermediate_sql/SQL_SAFI.sqlite\n * sqlite:////Universidad/DataCamp/Python/intermediate_sql/european_soccer.sqlite\nDone.\n"
     ]
    },
    {
     "output_type": "execute_result",
     "data": {
      "text/plain": [
       "[('Real Madrid CF', 8633), ('FC Barcelona', 8634)]"
      ],
      "text/html": "<table>\n    <tr>\n        <th>team_name</th>\n        <th>id</th>\n    </tr>\n    <tr>\n        <td>Real Madrid CF</td>\n        <td>8633</td>\n    </tr>\n    <tr>\n        <td>FC Barcelona</td>\n        <td>8634</td>\n    </tr>\n</table>"
     },
     "metadata": {},
     "execution_count": 26
    }
   ],
   "source": [
    "# Realizamos un query para obtener los ID\n",
    "%sql SELECT team_long_name AS team_name, team_api_id AS id \\\n",
    "FROM team \\\n",
    "WHERE team_long_name IN ('FC Barcelona', 'Real Madrid CF')"
   ]
  },
  {
   "cell_type": "code",
   "execution_count": 27,
   "metadata": {},
   "outputs": [
    {
     "output_type": "stream",
     "name": "stdout",
     "text": [
      "   sqlite://\n",
      "   sqlite:////Universidad/DataCamp/Python/intermediate_sql/SQL_SAFI.sqlite\n",
      " * sqlite:////Universidad/DataCamp/Python/intermediate_sql/european_soccer.sqlite\n",
      "Done.\n"
     ]
    },
    {
     "output_type": "execute_result",
     "data": {
      "text/plain": [
       "[('2011-12-10 00:00:00', 'Real Madrid CF', 'FC Barcelona', 'Ganó el Barcelona'),\n",
       " ('2012-04-21 00:00:00', 'FC Barcelona', 'Real Madrid CF', 'Ganó el Real Madrid'),\n",
       " ('2013-03-02 00:00:00', 'Real Madrid CF', 'FC Barcelona', 'Ganó el Real Madrid'),\n",
       " ('2012-10-07 00:00:00', 'FC Barcelona', 'Real Madrid CF', 'Empate'),\n",
       " ('2013-10-26 00:00:00', 'FC Barcelona', 'Real Madrid CF', 'Ganó el FC Barcelona'),\n",
       " ('2014-03-23 00:00:00', 'Real Madrid CF', 'FC Barcelona', 'Ganó el Barcelona'),\n",
       " ('2015-03-22 00:00:00', 'FC Barcelona', 'Real Madrid CF', 'Ganó el FC Barcelona'),\n",
       " ('2014-10-25 00:00:00', 'Real Madrid CF', 'FC Barcelona', 'Ganó el Real Madrid')]"
      ],
      "text/html": "<table>\n    <tr>\n        <th>fecha</th>\n        <th>casa</th>\n        <th>visitante</th>\n        <th>resultado</th>\n    </tr>\n    <tr>\n        <td>2011-12-10 00:00:00</td>\n        <td>Real Madrid CF</td>\n        <td>FC Barcelona</td>\n        <td>Ganó el Barcelona</td>\n    </tr>\n    <tr>\n        <td>2012-04-21 00:00:00</td>\n        <td>FC Barcelona</td>\n        <td>Real Madrid CF</td>\n        <td>Ganó el Real Madrid</td>\n    </tr>\n    <tr>\n        <td>2013-03-02 00:00:00</td>\n        <td>Real Madrid CF</td>\n        <td>FC Barcelona</td>\n        <td>Ganó el Real Madrid</td>\n    </tr>\n    <tr>\n        <td>2012-10-07 00:00:00</td>\n        <td>FC Barcelona</td>\n        <td>Real Madrid CF</td>\n        <td>Empate</td>\n    </tr>\n    <tr>\n        <td>2013-10-26 00:00:00</td>\n        <td>FC Barcelona</td>\n        <td>Real Madrid CF</td>\n        <td>Ganó el FC Barcelona</td>\n    </tr>\n    <tr>\n        <td>2014-03-23 00:00:00</td>\n        <td>Real Madrid CF</td>\n        <td>FC Barcelona</td>\n        <td>Ganó el Barcelona</td>\n    </tr>\n    <tr>\n        <td>2015-03-22 00:00:00</td>\n        <td>FC Barcelona</td>\n        <td>Real Madrid CF</td>\n        <td>Ganó el FC Barcelona</td>\n    </tr>\n    <tr>\n        <td>2014-10-25 00:00:00</td>\n        <td>Real Madrid CF</td>\n        <td>FC Barcelona</td>\n        <td>Ganó el Real Madrid</td>\n    </tr>\n</table>"
     },
     "metadata": {},
     "execution_count": 27
    }
   ],
   "source": [
    "# Realizamos el query\n",
    "%sql SELECT date AS fecha, \\\n",
    "CASE WHEN home_team_api_id = 8634 THEN 'FC Barcelona' \\\n",
    "ELSE 'Real Madrid CF' END AS casa, \\\n",
    "CASE WHEN away_team_api_id = 8634 THEN 'FC Barcelona' \\\n",
    "ELSE 'Real Madrid CF' END AS visitante, \\\n",
    "CASE WHEN home_team_goal > away_team_goal AND home_team_api_id = 8634 THEN 'Ganó el FC Barcelona' \\\n",
    "WHEN home_team_goal < away_team_goal AND home_team_api_id = 8634 THEN 'Ganó el Real Madrid' \\\n",
    "WHEN home_team_goal > away_team_goal AND home_team_api_id = 8633 THEN 'Ganó el Real Madrid' \\\n",
    "WHEN home_team_goal < away_team_goal AND home_team_api_id = 8633 THEN 'Ganó el Barcelona' ELSE 'Empate' END AS resultado \\\n",
    "FROM match \\\n",
    "WHERE season IN ('2011/2012', '2012/2013', '2013/2014', '2014/2015') AND (home_team_api_id = 8634 OR away_team_api_id = 8634) AND (home_team_api_id = 8633 OR away_team_api_id = 8633)"
   ]
  },
  {
   "cell_type": "markdown",
   "metadata": {},
   "source": [
    "### EX 5 : Filtering your CASE statement\n",
    "Generaremos una lista de partidos ganados por el Bologna de Italia."
   ]
  },
  {
   "cell_type": "code",
   "execution_count": 28,
   "metadata": {},
   "outputs": [
    {
     "output_type": "stream",
     "name": "stdout",
     "text": [
      "   sqlite://\n   sqlite:////Universidad/DataCamp/Python/intermediate_sql/SQL_SAFI.sqlite\n * sqlite:////Universidad/DataCamp/Python/intermediate_sql/european_soccer.sqlite\nDone.\n"
     ]
    },
    {
     "output_type": "execute_result",
     "data": {
      "text/plain": [
       "[('Bologna', 9857)]"
      ],
      "text/html": "<table>\n    <tr>\n        <th>team_long_name</th>\n        <th>team_api_id</th>\n    </tr>\n    <tr>\n        <td>Bologna</td>\n        <td>9857</td>\n    </tr>\n</table>"
     },
     "metadata": {},
     "execution_count": 28
    }
   ],
   "source": [
    "# Seleccionamos el ID\n",
    "%sql SELECT team_long_name, team_api_id \\\n",
    "FROM team \\\n",
    "WHERE team_long_name LIKE '%Bologna%'"
   ]
  },
  {
   "cell_type": "code",
   "execution_count": 29,
   "metadata": {},
   "outputs": [
    {
     "output_type": "stream",
     "name": "stdout",
     "text": [
      "   sqlite://\n",
      "   sqlite:////Universidad/DataCamp/Python/intermediate_sql/SQL_SAFI.sqlite\n",
      " * sqlite:////Universidad/DataCamp/Python/intermediate_sql/european_soccer.sqlite\n",
      "Done.\n"
     ]
    },
    {
     "output_type": "execute_result",
     "data": {
      "text/plain": [
       "[('2008/2009', '2008-08-31 00:00:00', 8564, 9857, 1, 2, 1),\n",
       " ('2008/2009', '2008-11-02 00:00:00', 8529, 9857, 5, 1, 0),\n",
       " ('2008/2009', '2008-11-08 00:00:00', 9857, 8686, 1, 1, 0),\n",
       " ('2008/2009', '2008-11-16 00:00:00', 8551, 9857, 1, 1, 0),\n",
       " ('2008/2009', '2008-11-23 00:00:00', 9857, 8540, 1, 1, 0),\n",
       " ('2008/2009', '2008-11-30 00:00:00', 10233, 9857, 1, 1, 0),\n",
       " ('2008/2009', '2008-12-07 00:00:00', 8690, 9857, 2, 2, 0),\n",
       " ('2008/2009', '2008-12-13 00:00:00', 9857, 9804, 5, 2, 1),\n",
       " ('2008/2009', '2008-12-21 00:00:00', 9888, 9857, 0, 0, 0),\n",
       " ('2008/2009', '2009-01-11 00:00:00', 9857, 8533, 1, 1, 0)]"
      ],
      "text/html": "<table>\n    <tr>\n        <th>season</th>\n        <th>date</th>\n        <th>home_team_api_id</th>\n        <th>away_team_api_id</th>\n        <th>home_team_goal</th>\n        <th>away_team_goal</th>\n        <th>outcome</th>\n    </tr>\n    <tr>\n        <td>2008/2009</td>\n        <td>2008-08-31 00:00:00</td>\n        <td>8564</td>\n        <td>9857</td>\n        <td>1</td>\n        <td>2</td>\n        <td>1</td>\n    </tr>\n    <tr>\n        <td>2008/2009</td>\n        <td>2008-11-02 00:00:00</td>\n        <td>8529</td>\n        <td>9857</td>\n        <td>5</td>\n        <td>1</td>\n        <td>0</td>\n    </tr>\n    <tr>\n        <td>2008/2009</td>\n        <td>2008-11-08 00:00:00</td>\n        <td>9857</td>\n        <td>8686</td>\n        <td>1</td>\n        <td>1</td>\n        <td>0</td>\n    </tr>\n    <tr>\n        <td>2008/2009</td>\n        <td>2008-11-16 00:00:00</td>\n        <td>8551</td>\n        <td>9857</td>\n        <td>1</td>\n        <td>1</td>\n        <td>0</td>\n    </tr>\n    <tr>\n        <td>2008/2009</td>\n        <td>2008-11-23 00:00:00</td>\n        <td>9857</td>\n        <td>8540</td>\n        <td>1</td>\n        <td>1</td>\n        <td>0</td>\n    </tr>\n    <tr>\n        <td>2008/2009</td>\n        <td>2008-11-30 00:00:00</td>\n        <td>10233</td>\n        <td>9857</td>\n        <td>1</td>\n        <td>1</td>\n        <td>0</td>\n    </tr>\n    <tr>\n        <td>2008/2009</td>\n        <td>2008-12-07 00:00:00</td>\n        <td>8690</td>\n        <td>9857</td>\n        <td>2</td>\n        <td>2</td>\n        <td>0</td>\n    </tr>\n    <tr>\n        <td>2008/2009</td>\n        <td>2008-12-13 00:00:00</td>\n        <td>9857</td>\n        <td>9804</td>\n        <td>5</td>\n        <td>2</td>\n        <td>1</td>\n    </tr>\n    <tr>\n        <td>2008/2009</td>\n        <td>2008-12-21 00:00:00</td>\n        <td>9888</td>\n        <td>9857</td>\n        <td>0</td>\n        <td>0</td>\n        <td>0</td>\n    </tr>\n    <tr>\n        <td>2008/2009</td>\n        <td>2009-01-11 00:00:00</td>\n        <td>9857</td>\n        <td>8533</td>\n        <td>1</td>\n        <td>1</td>\n        <td>0</td>\n    </tr>\n</table>"
     },
     "metadata": {},
     "execution_count": 29
    }
   ],
   "source": [
    "# Realizamos el query probando el por qué utilizar CASE WHEN en WHERE y no en SELECT para utilizar condicionales\n",
    "%sql SELECT season, \\\n",
    "date, home_team_api_id, away_team_api_id, home_team_goal, away_team_goal, \\\n",
    "CASE WHEN home_team_goal > away_team_goal AND home_team_api_id IN (SELECT team_api_id FROM team WHERE team_long_name LIKE '%Bologna%') THEN 'Bologna ganó en casa' \\\n",
    "WHEN home_team_goal < away_team_goal AND away_team_api_id IN (SELECT team_api_id FROM team WHERE team_long_name LIKE '%Bologna%') THEN 'Bologna ganó de visitante' END IS NOT NULL AS outcome \\\n",
    "FROM match \\\n",
    "WHERE home_team_api_id IN (SELECT team_api_id \\\n",
    "FROM team \\\n",
    "WHERE team_long_name LIKE '%Bologna%') OR away_team_api_id IN (SELECT team_api_id \\\n",
    "FROM team \\\n",
    "WHERE team_long_name LIKE '%Bologna%') \\\n",
    "LIMIT 10"
   ]
  },
  {
   "cell_type": "markdown",
   "metadata": {},
   "source": [
    "Así es. En 'outcome' tendremos los valores booleanos que, normalmente, SQL utilizaría para obtener los datos deseados. En este caso:\n",
    "\n",
    "- El valor '1' corresponde al valor deseado para la consulta (positivo).\n",
    "\n",
    "- El valor '0' corresponde al valor no deseado para la consulta (negativo).\n",
    "\n",
    "Ahora, si cambiamos el CASE WHEN a la cláusula WHERE, veremos que las fechas y puntuaciones cuyo 'outcome' en la tabla anterior, corresponde a 1, serán las mismas, y dado que no queremos obtener aquellos partidos donde NO HAYA GANADO el Bologna, debemos omitir las filas que no cumplan esa condición (las filas con 0)."
   ]
  },
  {
   "cell_type": "code",
   "execution_count": 30,
   "metadata": {},
   "outputs": [
    {
     "output_type": "stream",
     "name": "stdout",
     "text": [
      "   sqlite://\n",
      "   sqlite:////Universidad/DataCamp/Python/intermediate_sql/SQL_SAFI.sqlite\n",
      " * sqlite:////Universidad/DataCamp/Python/intermediate_sql/european_soccer.sqlite\n",
      "Done.\n"
     ]
    },
    {
     "output_type": "execute_result",
     "data": {
      "text/plain": [
       "[('2008/2009', '2008-08-31 00:00:00', 8564, 9857, 1, 2),\n",
       " ('2008/2009', '2008-12-13 00:00:00', 9857, 9804, 5, 2),\n",
       " ('2008/2009', '2009-01-18 00:00:00', 8530, 9857, 1, 2),\n",
       " ('2008/2009', '2009-01-28 00:00:00', 8524, 9857, 0, 1),\n",
       " ('2008/2009', '2009-03-08 00:00:00', 9857, 9882, 3, 0),\n",
       " ('2008/2009', '2009-04-26 00:00:00', 9857, 10233, 2, 0),\n",
       " ('2008/2009', '2009-05-17 00:00:00', 9857, 9888, 2, 1),\n",
       " ('2008/2009', '2009-05-31 00:00:00', 9857, 8530, 3, 1),\n",
       " ('2008/2009', '2008-10-19 00:00:00', 9857, 8543, 3, 1),\n",
       " ('2009/2010', '2009-10-28 00:00:00', 9857, 8551, 2, 1)]"
      ],
      "text/html": "<table>\n    <tr>\n        <th>season</th>\n        <th>date</th>\n        <th>home_team_api_id</th>\n        <th>away_team_api_id</th>\n        <th>home_team_goal</th>\n        <th>away_team_goal</th>\n    </tr>\n    <tr>\n        <td>2008/2009</td>\n        <td>2008-08-31 00:00:00</td>\n        <td>8564</td>\n        <td>9857</td>\n        <td>1</td>\n        <td>2</td>\n    </tr>\n    <tr>\n        <td>2008/2009</td>\n        <td>2008-12-13 00:00:00</td>\n        <td>9857</td>\n        <td>9804</td>\n        <td>5</td>\n        <td>2</td>\n    </tr>\n    <tr>\n        <td>2008/2009</td>\n        <td>2009-01-18 00:00:00</td>\n        <td>8530</td>\n        <td>9857</td>\n        <td>1</td>\n        <td>2</td>\n    </tr>\n    <tr>\n        <td>2008/2009</td>\n        <td>2009-01-28 00:00:00</td>\n        <td>8524</td>\n        <td>9857</td>\n        <td>0</td>\n        <td>1</td>\n    </tr>\n    <tr>\n        <td>2008/2009</td>\n        <td>2009-03-08 00:00:00</td>\n        <td>9857</td>\n        <td>9882</td>\n        <td>3</td>\n        <td>0</td>\n    </tr>\n    <tr>\n        <td>2008/2009</td>\n        <td>2009-04-26 00:00:00</td>\n        <td>9857</td>\n        <td>10233</td>\n        <td>2</td>\n        <td>0</td>\n    </tr>\n    <tr>\n        <td>2008/2009</td>\n        <td>2009-05-17 00:00:00</td>\n        <td>9857</td>\n        <td>9888</td>\n        <td>2</td>\n        <td>1</td>\n    </tr>\n    <tr>\n        <td>2008/2009</td>\n        <td>2009-05-31 00:00:00</td>\n        <td>9857</td>\n        <td>8530</td>\n        <td>3</td>\n        <td>1</td>\n    </tr>\n    <tr>\n        <td>2008/2009</td>\n        <td>2008-10-19 00:00:00</td>\n        <td>9857</td>\n        <td>8543</td>\n        <td>3</td>\n        <td>1</td>\n    </tr>\n    <tr>\n        <td>2009/2010</td>\n        <td>2009-10-28 00:00:00</td>\n        <td>9857</td>\n        <td>8551</td>\n        <td>2</td>\n        <td>1</td>\n    </tr>\n</table>"
     },
     "metadata": {},
     "execution_count": 30
    }
   ],
   "source": [
    "# Finalmente\n",
    "%sql SELECT season, \\\n",
    "date, home_team_api_id, away_team_api_id, home_team_goal, away_team_goal \\\n",
    "FROM match \\\n",
    "WHERE CASE WHEN home_team_goal > away_team_goal AND home_team_api_id IN (SELECT team_api_id FROM team WHERE team_long_name LIKE '%Bologna%') THEN 'Bologna ganó en casa' \\\n",
    "WHEN home_team_goal < away_team_goal AND away_team_api_id IN (SELECT team_api_id FROM team WHERE team_long_name LIKE '%Bologna%') THEN 'Bologna ganó de visitante' END IS NOT NULL \\\n",
    "LIMIT 10"
   ]
  },
  {
   "cell_type": "markdown",
   "metadata": {},
   "source": [
    "## CASE WHEN with aggregate functions\n",
    "\n",
    "Echemos un vistazo a las declaraciones CASE con funciones agregadas.\n",
    "\n",
    "Las declaraciones CASE se pueden utilizar para:\n",
    "\n",
    "- Crear columnas categorizadas.\n",
    "\n",
    "- Filtrar datos en la cláusula WHERE.\n",
    "\n",
    "- También para agregar datos basados en el resultado de una prueba lógica (aggregating data).\n",
    "\n",
    "## COUNTing CASES\n",
    "\n",
    "Supongamos que deseamos preparar una tabla de resumen contando los números de partidos en casa y de visitante en que el Liverpool ganó en cada temporada.\n",
    "\n",
    "¿Cómo se hace un recuento de las victorias del Liverpool en cada temporada?\n",
    "\n",
    "Pues sí, con una declaración CASE.\n",
    "\n",
    "## Case WHEN with COUNT\n",
    "\n",
    "Las declaraciones CASE son como cualquier otra columna de la consulta, por lo que podemos incluirlas dentro de una función agregada.\n",
    "\n",
    "Echemos un vistazo a la declaración CASE."
   ]
  },
  {
   "cell_type": "code",
   "execution_count": 31,
   "metadata": {},
   "outputs": [
    {
     "output_type": "stream",
     "name": "stdout",
     "text": [
      "   sqlite://\n",
      "   sqlite:////Universidad/DataCamp/Python/intermediate_sql/SQL_SAFI.sqlite\n",
      " * sqlite:////Universidad/DataCamp/Python/intermediate_sql/european_soccer.sqlite\n",
      "Done.\n"
     ]
    },
    {
     "output_type": "execute_result",
     "data": {
      "text/plain": [
       "[(8650,)]"
      ],
      "text/html": "<table>\n    <tr>\n        <th>team_api_id</th>\n    </tr>\n    <tr>\n        <td>8650</td>\n    </tr>\n</table>"
     },
     "metadata": {},
     "execution_count": 31
    }
   ],
   "source": [
    "%sql SELECT team_api_id \\\n",
    "FROM team \\\n",
    "WHERE team_long_name LIKE '%Liverpool%'"
   ]
  },
  {
   "cell_type": "code",
   "execution_count": 32,
   "metadata": {},
   "outputs": [
    {
     "output_type": "stream",
     "name": "stdout",
     "text": [
      "   sqlite://\n",
      "   sqlite:////Universidad/DataCamp/Python/intermediate_sql/SQL_SAFI.sqlite\n",
      " * sqlite:////Universidad/DataCamp/Python/intermediate_sql/european_soccer.sqlite\n",
      "Done.\n"
     ]
    },
    {
     "output_type": "execute_result",
     "data": {
      "text/plain": [
       "[('2008/2009', 12),\n",
       " ('2009/2010', 13),\n",
       " ('2010/2011', 12),\n",
       " ('2011/2012', 6),\n",
       " ('2012/2013', 9),\n",
       " ('2013/2014', 16),\n",
       " ('2014/2015', 10),\n",
       " ('2015/2016', 8)]"
      ],
      "text/html": "<table>\n    <tr>\n        <th>season</th>\n        <th>home_wins</th>\n    </tr>\n    <tr>\n        <td>2008/2009</td>\n        <td>12</td>\n    </tr>\n    <tr>\n        <td>2009/2010</td>\n        <td>13</td>\n    </tr>\n    <tr>\n        <td>2010/2011</td>\n        <td>12</td>\n    </tr>\n    <tr>\n        <td>2011/2012</td>\n        <td>6</td>\n    </tr>\n    <tr>\n        <td>2012/2013</td>\n        <td>9</td>\n    </tr>\n    <tr>\n        <td>2013/2014</td>\n        <td>16</td>\n    </tr>\n    <tr>\n        <td>2014/2015</td>\n        <td>10</td>\n    </tr>\n    <tr>\n        <td>2015/2016</td>\n        <td>8</td>\n    </tr>\n</table>"
     },
     "metadata": {},
     "execution_count": 32
    }
   ],
   "source": [
    "# Ejemplo de consulta con CASE WHEN; los ID únicos de los partidos (es decir, los partidos en sí) son contabilizados en COUNT(), siendo contabilizados y agrupados por temporada; podemos obtener más información con un LEFT JOIN\n",
    "%sql SELECT season, \\\n",
    "COUNT(CASE WHEN home_team_api_id = 8650 AND home_team_goal > away_team_goal THEN id END) AS home_wins \\\n",
    "FROM match \\\n",
    "GROUP BY season"
   ]
  },
  {
   "cell_type": "code",
   "execution_count": 33,
   "metadata": {},
   "outputs": [
    {
     "output_type": "stream",
     "name": "stdout",
     "text": [
      "   sqlite://\n   sqlite:////Universidad/DataCamp/Python/intermediate_sql/SQL_SAFI.sqlite\n * sqlite:////Universidad/DataCamp/Python/intermediate_sql/european_soccer.sqlite\nDone.\n"
     ]
    },
    {
     "output_type": "execute_result",
     "data": {
      "text/plain": [
       "[('2008/2009', 'Liverpool', 12, 0, 41, 13),\n",
       " ('2009/2010', 'Liverpool', 13, 3, 43, 15),\n",
       " ('2010/2011', 'Liverpool', 12, 3, 37, 14),\n",
       " ('2011/2012', 'Liverpool', 6, 4, 24, 16),\n",
       " ('2012/2013', 'Liverpool', 9, 4, 33, 16),\n",
       " ('2013/2014', 'Liverpool', 16, 2, 53, 18),\n",
       " ('2014/2015', 'Liverpool', 10, 4, 30, 20),\n",
       " ('2015/2016', 'Liverpool', 8, 3, 33, 22)]"
      ],
      "text/html": "<table>\n    <tr>\n        <th>temporada</th>\n        <th>equipo</th>\n        <th>victoria_local</th>\n        <th>derrotas_local</th>\n        <th>goles_favor</th>\n        <th>goles_contra</th>\n    </tr>\n    <tr>\n        <td>2008/2009</td>\n        <td>Liverpool</td>\n        <td>12</td>\n        <td>0</td>\n        <td>41</td>\n        <td>13</td>\n    </tr>\n    <tr>\n        <td>2009/2010</td>\n        <td>Liverpool</td>\n        <td>13</td>\n        <td>3</td>\n        <td>43</td>\n        <td>15</td>\n    </tr>\n    <tr>\n        <td>2010/2011</td>\n        <td>Liverpool</td>\n        <td>12</td>\n        <td>3</td>\n        <td>37</td>\n        <td>14</td>\n    </tr>\n    <tr>\n        <td>2011/2012</td>\n        <td>Liverpool</td>\n        <td>6</td>\n        <td>4</td>\n        <td>24</td>\n        <td>16</td>\n    </tr>\n    <tr>\n        <td>2012/2013</td>\n        <td>Liverpool</td>\n        <td>9</td>\n        <td>4</td>\n        <td>33</td>\n        <td>16</td>\n    </tr>\n    <tr>\n        <td>2013/2014</td>\n        <td>Liverpool</td>\n        <td>16</td>\n        <td>2</td>\n        <td>53</td>\n        <td>18</td>\n    </tr>\n    <tr>\n        <td>2014/2015</td>\n        <td>Liverpool</td>\n        <td>10</td>\n        <td>4</td>\n        <td>30</td>\n        <td>20</td>\n    </tr>\n    <tr>\n        <td>2015/2016</td>\n        <td>Liverpool</td>\n        <td>8</td>\n        <td>3</td>\n        <td>33</td>\n        <td>22</td>\n    </tr>\n</table>"
     },
     "metadata": {},
     "execution_count": 33
    }
   ],
   "source": [
    "# Ejemplo de consulta con LEFT JOIN\n",
    "%sql SELECT season AS temporada, \\\n",
    "team_long_name AS equipo, \\\n",
    "COUNT(CASE WHEN home_team_goal > away_team_goal THEN match.id END) AS victoria_local, \\\n",
    "COUNT(CASE WHEN home_team_goal < away_team_goal THEN match.id END) AS derrotas_local, \\\n",
    "SUM(home_team_goal) AS goles_favor, \\\n",
    "SUM(away_team_goal) AS goles_contra \\\n",
    "FROM match \\\n",
    "LEFT JOIN team \\\n",
    "ON team_api_id = home_team_api_id \\\n",
    "WHERE team_long_name LIKE '%Liverpool%' \\\n",
    "GROUP BY season"
   ]
  },
  {
   "cell_type": "markdown",
   "metadata": {},
   "source": [
    "La claúsula WHEN incluye una prueba lógica similar a la lección anterior.\n",
    "\n",
    "Si el Liverpool juega como local, ¿anotó el equipo local un número de goles más alto que el equipo visitante?\n",
    "\n",
    "La diferencia comienza en la cláusula THEN. En lugar de devolver una cadena de texto, devuelve la columna que identifica la coincidencia única (ID del partido, siendo cada ID único).\n",
    "\n",
    "Cuando la instrucción CASE está dentro de la función COUNT, CUENTA cada ID devuelto de cada partido por la instrucción CASE (según la condicionalidad).\n",
    "\n",
    "## CASE WHEN with COUNT\n",
    "\n",
    "Luego, agregamos una segunda instrucción CASE para el equipo visitante, y agrupamos la consulta por temporada."
   ]
  },
  {
   "cell_type": "code",
   "execution_count": 34,
   "metadata": {},
   "outputs": [
    {
     "output_type": "stream",
     "name": "stdout",
     "text": [
      "   sqlite://\n",
      "   sqlite:////Universidad/DataCamp/Python/intermediate_sql/SQL_SAFI.sqlite\n",
      " * sqlite:////Universidad/DataCamp/Python/intermediate_sql/european_soccer.sqlite\n",
      "Done.\n"
     ]
    },
    {
     "output_type": "execute_result",
     "data": {
      "text/plain": [
       "[('2008/2009', 12, 13),\n",
       " ('2009/2010', 13, 5),\n",
       " ('2010/2011', 12, 5),\n",
       " ('2011/2012', 6, 8),\n",
       " ('2012/2013', 9, 7),\n",
       " ('2013/2014', 16, 10),\n",
       " ('2014/2015', 10, 8),\n",
       " ('2015/2016', 8, 8)]"
      ],
      "text/html": "<table>\n    <tr>\n        <th>season</th>\n        <th>home_wins</th>\n        <th>away_wins</th>\n    </tr>\n    <tr>\n        <td>2008/2009</td>\n        <td>12</td>\n        <td>13</td>\n    </tr>\n    <tr>\n        <td>2009/2010</td>\n        <td>13</td>\n        <td>5</td>\n    </tr>\n    <tr>\n        <td>2010/2011</td>\n        <td>12</td>\n        <td>5</td>\n    </tr>\n    <tr>\n        <td>2011/2012</td>\n        <td>6</td>\n        <td>8</td>\n    </tr>\n    <tr>\n        <td>2012/2013</td>\n        <td>9</td>\n        <td>7</td>\n    </tr>\n    <tr>\n        <td>2013/2014</td>\n        <td>16</td>\n        <td>10</td>\n    </tr>\n    <tr>\n        <td>2014/2015</td>\n        <td>10</td>\n        <td>8</td>\n    </tr>\n    <tr>\n        <td>2015/2016</td>\n        <td>8</td>\n        <td>8</td>\n    </tr>\n</table>"
     },
     "metadata": {},
     "execution_count": 34
    }
   ],
   "source": [
    "%sql SELECT season, \\\n",
    "COUNT(CASE WHEN home_team_api_id = 8650 AND home_team_goal > away_team_goal THEN id END) AS home_wins, COUNT(CASE WHEN away_team_api_id = 8650 AND home_team_goal < away_team_goal THEN id END) AS away_wins \\\n",
    "FROM match \\\n",
    "GROUP BY season"
   ]
  },
  {
   "cell_type": "markdown",
   "metadata": {},
   "source": [
    "Al contar información con COUNT, en una declaración CASE, podemos devolver cualquier cosa que deseemos:\n",
    "\n",
    "- Un número.\n",
    "\n",
    "- Una cadena de texto.\n",
    "\n",
    "- Cualquier columna de la tabla.\n",
    "\n",
    "Ésto dado que SQL está contando el número de filas devueltas por la instrucción CASE."
   ]
  },
  {
   "cell_type": "code",
   "execution_count": 35,
   "metadata": {},
   "outputs": [
    {
     "output_type": "stream",
     "name": "stdout",
     "text": [
      "   sqlite://\n",
      "   sqlite:////Universidad/DataCamp/Python/intermediate_sql/SQL_SAFI.sqlite\n",
      " * sqlite:////Universidad/DataCamp/Python/intermediate_sql/european_soccer.sqlite\n",
      "Done.\n"
     ]
    },
    {
     "output_type": "execute_result",
     "data": {
      "text/plain": [
       "[('2008/2009', 12, 13),\n",
       " ('2009/2010', 13, 5),\n",
       " ('2010/2011', 12, 5),\n",
       " ('2011/2012', 6, 8),\n",
       " ('2012/2013', 9, 7),\n",
       " ('2013/2014', 16, 10),\n",
       " ('2014/2015', 10, 8),\n",
       " ('2015/2016', 8, 8)]"
      ],
      "text/html": "<table>\n    <tr>\n        <th>season</th>\n        <th>home_wins</th>\n        <th>away_wins</th>\n    </tr>\n    <tr>\n        <td>2008/2009</td>\n        <td>12</td>\n        <td>13</td>\n    </tr>\n    <tr>\n        <td>2009/2010</td>\n        <td>13</td>\n        <td>5</td>\n    </tr>\n    <tr>\n        <td>2010/2011</td>\n        <td>12</td>\n        <td>5</td>\n    </tr>\n    <tr>\n        <td>2011/2012</td>\n        <td>6</td>\n        <td>8</td>\n    </tr>\n    <tr>\n        <td>2012/2013</td>\n        <td>9</td>\n        <td>7</td>\n    </tr>\n    <tr>\n        <td>2013/2014</td>\n        <td>16</td>\n        <td>10</td>\n    </tr>\n    <tr>\n        <td>2014/2015</td>\n        <td>10</td>\n        <td>8</td>\n    </tr>\n    <tr>\n        <td>2015/2016</td>\n        <td>8</td>\n        <td>8</td>\n    </tr>\n</table>"
     },
     "metadata": {},
     "execution_count": 35
    }
   ],
   "source": [
    "%sql SELECT season, \\\n",
    "COUNT(CASE WHEN home_team_api_id = 8650 AND home_team_goal > away_team_goal THEN 'some random text' END) AS home_wins, COUNT(CASE WHEN away_team_api_id = 8650 AND home_team_goal < away_team_goal THEN 2 END) AS away_wins \\\n",
    "FROM match \\\n",
    "GROUP BY season"
   ]
  },
  {
   "cell_type": "markdown",
   "metadata": {},
   "source": [
    "## CASE WHEN with SUM\n",
    "\n",
    "Del mismo modo, podemos utilizar la función SUM para calcular un total de cualquier valor.\n",
    "\n",
    "Digamos que estamos interesados en la cantidad de goles en casa y fuera que el Liverpool anotó en cada temporada (déjà vu).\n",
    "\n",
    "Esto es batante simple de configurar: si home_team_api_id es de Liverpool, devuelve el valor de home_team_goal.\n",
    "\n",
    "Se supone que la condición ELSE es NULL, por lo que la consulta devuelve el total de home_team_goals anotados por Liverpool en cada temporada."
   ]
  },
  {
   "cell_type": "code",
   "execution_count": 36,
   "metadata": {},
   "outputs": [
    {
     "output_type": "stream",
     "name": "stdout",
     "text": [
      "   sqlite://\n",
      "   sqlite:////Universidad/DataCamp/Python/intermediate_sql/SQL_SAFI.sqlite\n",
      " * sqlite:////Universidad/DataCamp/Python/intermediate_sql/european_soccer.sqlite\n",
      "Done.\n"
     ]
    },
    {
     "output_type": "execute_result",
     "data": {
      "text/plain": [
       "[('2008/2009', 41, 36),\n",
       " ('2009/2010', 43, 18),\n",
       " ('2010/2011', 37, 22),\n",
       " ('2011/2012', 24, 23),\n",
       " ('2012/2013', 33, 38),\n",
       " ('2013/2014', 53, 48),\n",
       " ('2014/2015', 30, 22),\n",
       " ('2015/2016', 33, 30)]"
      ],
      "text/html": "<table>\n    <tr>\n        <th>season</th>\n        <th>home_goals</th>\n        <th>away_goals</th>\n    </tr>\n    <tr>\n        <td>2008/2009</td>\n        <td>41</td>\n        <td>36</td>\n    </tr>\n    <tr>\n        <td>2009/2010</td>\n        <td>43</td>\n        <td>18</td>\n    </tr>\n    <tr>\n        <td>2010/2011</td>\n        <td>37</td>\n        <td>22</td>\n    </tr>\n    <tr>\n        <td>2011/2012</td>\n        <td>24</td>\n        <td>23</td>\n    </tr>\n    <tr>\n        <td>2012/2013</td>\n        <td>33</td>\n        <td>38</td>\n    </tr>\n    <tr>\n        <td>2013/2014</td>\n        <td>53</td>\n        <td>48</td>\n    </tr>\n    <tr>\n        <td>2014/2015</td>\n        <td>30</td>\n        <td>22</td>\n    </tr>\n    <tr>\n        <td>2015/2016</td>\n        <td>33</td>\n        <td>30</td>\n    </tr>\n</table>"
     },
     "metadata": {},
     "execution_count": 36
    }
   ],
   "source": [
    "%sql SELECT season, \\\n",
    "SUM(CASE WHEN home_team_api_id = 8650 THEN home_team_goal END) AS home_goals, \\\n",
    "SUM(CASE WHEN away_team_api_id = 8650 THEN away_team_goal END) AS away_goals \\\n",
    "FROM match \\\n",
    "GROUP BY season"
   ]
  },
  {
   "cell_type": "markdown",
   "metadata": {},
   "source": [
    "## The CASE is fairly AVG\n",
    "\n",
    "También podemos utilizar la función AVG con CASE de dos formas clave:\n",
    "\n",
    "- Primero, podemos calcular un promedio de datos. Podemos hacer esto usando CASE de la misma manera en que lo hicimos con SUM. Simplemente debemos modificar SUM por AVG en la consulta, y así obtendremos los goles medios que el Liverpool anotó en cada temporada."
   ]
  },
  {
   "cell_type": "code",
   "execution_count": 37,
   "metadata": {},
   "outputs": [
    {
     "output_type": "stream",
     "name": "stdout",
     "text": [
      "   sqlite://\n",
      "   sqlite:////Universidad/DataCamp/Python/intermediate_sql/SQL_SAFI.sqlite\n",
      " * sqlite:////Universidad/DataCamp/Python/intermediate_sql/european_soccer.sqlite\n",
      "Done.\n"
     ]
    },
    {
     "output_type": "execute_result",
     "data": {
      "text/plain": [
       "[('2008/2009', 2.1578947368421053, 1.894736842105263),\n",
       " ('2009/2010', 2.263157894736842, 0.9473684210526315),\n",
       " ('2010/2011', 1.9473684210526316, 1.1578947368421053),\n",
       " ('2011/2012', 1.263157894736842, 1.2105263157894737),\n",
       " ('2012/2013', 1.736842105263158, 2.0),\n",
       " ('2013/2014', 2.789473684210526, 2.526315789473684),\n",
       " ('2014/2015', 1.5789473684210527, 1.1578947368421053),\n",
       " ('2015/2016', 1.736842105263158, 1.5789473684210527)]"
      ],
      "text/html": "<table>\n    <tr>\n        <th>season</th>\n        <th>home_goals</th>\n        <th>away_goals</th>\n    </tr>\n    <tr>\n        <td>2008/2009</td>\n        <td>2.1578947368421053</td>\n        <td>1.894736842105263</td>\n    </tr>\n    <tr>\n        <td>2009/2010</td>\n        <td>2.263157894736842</td>\n        <td>0.9473684210526315</td>\n    </tr>\n    <tr>\n        <td>2010/2011</td>\n        <td>1.9473684210526316</td>\n        <td>1.1578947368421053</td>\n    </tr>\n    <tr>\n        <td>2011/2012</td>\n        <td>1.263157894736842</td>\n        <td>1.2105263157894737</td>\n    </tr>\n    <tr>\n        <td>2012/2013</td>\n        <td>1.736842105263158</td>\n        <td>2.0</td>\n    </tr>\n    <tr>\n        <td>2013/2014</td>\n        <td>2.789473684210526</td>\n        <td>2.526315789473684</td>\n    </tr>\n    <tr>\n        <td>2014/2015</td>\n        <td>1.5789473684210527</td>\n        <td>1.1578947368421053</td>\n    </tr>\n    <tr>\n        <td>2015/2016</td>\n        <td>1.736842105263158</td>\n        <td>1.5789473684210527</td>\n    </tr>\n</table>"
     },
     "metadata": {},
     "execution_count": 37
    }
   ],
   "source": [
    "%sql SELECT season, \\\n",
    "AVG(CASE WHEN home_team_api_id = 8650 THEN home_team_goal END) AS home_goals, \\\n",
    "AVG(CASE WHEN away_team_api_id = 8650 THEN away_team_goal END) AS away_goals \\\n",
    "FROM match \\\n",
    "GROUP BY season"
   ]
  },
  {
   "cell_type": "markdown",
   "metadata": {},
   "source": [
    "## A ROUNDed AVG\n",
    "\n",
    "Podemos hacer que los resultados sean más fáciles de leer usando ROUND.\n",
    "\n",
    "ROUND toma dos argumentos:\n",
    "\n",
    "- Un valor numérico.\n",
    "\n",
    "- Número de puntos decimales para redondear el valor.\n",
    "\n",
    "Si lo colocamos por fuera de la declaración CASE, e incluimos el número de puntos decimales al final, tendremos nuestras cifras redondeadas. De esta forma, esto es más fácil de leer."
   ]
  },
  {
   "cell_type": "code",
   "execution_count": 38,
   "metadata": {},
   "outputs": [
    {
     "output_type": "stream",
     "name": "stdout",
     "text": [
      "   sqlite://\n",
      "   sqlite:////Universidad/DataCamp/Python/intermediate_sql/SQL_SAFI.sqlite\n",
      " * sqlite:////Universidad/DataCamp/Python/intermediate_sql/european_soccer.sqlite\n",
      "Done.\n"
     ]
    },
    {
     "output_type": "execute_result",
     "data": {
      "text/plain": [
       "[('2008/2009', 2.16, 1.89),\n",
       " ('2009/2010', 2.26, 0.95),\n",
       " ('2010/2011', 1.95, 1.16),\n",
       " ('2011/2012', 1.26, 1.21),\n",
       " ('2012/2013', 1.74, 2.0),\n",
       " ('2013/2014', 2.79, 2.53),\n",
       " ('2014/2015', 1.58, 1.16),\n",
       " ('2015/2016', 1.74, 1.58)]"
      ],
      "text/html": "<table>\n    <tr>\n        <th>season</th>\n        <th>home_goals</th>\n        <th>away_goals</th>\n    </tr>\n    <tr>\n        <td>2008/2009</td>\n        <td>2.16</td>\n        <td>1.89</td>\n    </tr>\n    <tr>\n        <td>2009/2010</td>\n        <td>2.26</td>\n        <td>0.95</td>\n    </tr>\n    <tr>\n        <td>2010/2011</td>\n        <td>1.95</td>\n        <td>1.16</td>\n    </tr>\n    <tr>\n        <td>2011/2012</td>\n        <td>1.26</td>\n        <td>1.21</td>\n    </tr>\n    <tr>\n        <td>2012/2013</td>\n        <td>1.74</td>\n        <td>2.0</td>\n    </tr>\n    <tr>\n        <td>2013/2014</td>\n        <td>2.79</td>\n        <td>2.53</td>\n    </tr>\n    <tr>\n        <td>2014/2015</td>\n        <td>1.58</td>\n        <td>1.16</td>\n    </tr>\n    <tr>\n        <td>2015/2016</td>\n        <td>1.74</td>\n        <td>1.58</td>\n    </tr>\n</table>"
     },
     "metadata": {},
     "execution_count": 38
    }
   ],
   "source": [
    "%sql SELECT season, \\\n",
    "ROUND(AVG(CASE WHEN home_team_api_id = 8650 THEN home_team_goal END), 2) AS home_goals, \\\n",
    "ROUND(AVG(CASE WHEN away_team_api_id = 8650 THEN away_team_goal END), 2) AS away_goals \\\n",
    "FROM match \\\n",
    "GROUP BY season"
   ]
  },
  {
   "cell_type": "markdown",
   "metadata": {},
   "source": [
    "## Percentages with CASE and AVG\n",
    "\n",
    "La segunda aplicación clave de CASE con AVG es el cálculo de porcentajes. Esto requiere una estructura específica para que el cálculo sea preciso.\n",
    "\n",
    "La pregunta que estamos respondiendo aquí es\n",
    "\n",
    "¿Qué porcentaje de los partidos del Liverpool se ganaron en cada temporada?\n",
    "\n",
    "- El primer componente de la declaración CASE es una cláusula WHEN que identifica qué estamos calculando de porcentaje, en este caso, ¿cuántos juegos se ganaron? Esto se prueba de la misma manera que las diapositivas anteriores, y la cláusula THEN devuelve un 1.\n",
    "\n",
    "- El segundo componente identifica los juegos del Liverpool que PERDIERON y devuelve el valor 0.\n",
    "\n",
    "Todos los demás partidos (empates, juegos que no involucren al Liverpool) se excluyen como NULL."
   ]
  },
  {
   "cell_type": "code",
   "execution_count": 39,
   "metadata": {},
   "outputs": [
    {
     "output_type": "stream",
     "name": "stdout",
     "text": [
      "   sqlite://\n",
      "   sqlite:////Universidad/DataCamp/Python/intermediate_sql/SQL_SAFI.sqlite\n",
      " * sqlite:////Universidad/DataCamp/Python/intermediate_sql/european_soccer.sqlite\n",
      "Done.\n"
     ]
    },
    {
     "output_type": "execute_result",
     "data": {
      "text/plain": [
       "[('2008/2009', 0.8461538461538461, 0.8235294117647058),\n",
       " ('2009/2010', 0.9444444444444444, 0.6666666666666666),\n",
       " ('2010/2011', 0.875, 0.5),\n",
       " ('2011/2012', 0.75, 0.5),\n",
       " ('2012/2013', 0.8571428571428571, 0.6666666666666666),\n",
       " ('2013/2014', 0.9375, 0.6666666666666666),\n",
       " ('2014/2015', 1.0, 0.7857142857142857),\n",
       " ('2015/2016', 0.5, 0.5)]"
      ],
      "text/html": "<table>\n    <tr>\n        <th>season</th>\n        <th>pct_homewins</th>\n        <th>pct_awaywins</th>\n    </tr>\n    <tr>\n        <td>2008/2009</td>\n        <td>0.8461538461538461</td>\n        <td>0.8235294117647058</td>\n    </tr>\n    <tr>\n        <td>2009/2010</td>\n        <td>0.9444444444444444</td>\n        <td>0.6666666666666666</td>\n    </tr>\n    <tr>\n        <td>2010/2011</td>\n        <td>0.875</td>\n        <td>0.5</td>\n    </tr>\n    <tr>\n        <td>2011/2012</td>\n        <td>0.75</td>\n        <td>0.5</td>\n    </tr>\n    <tr>\n        <td>2012/2013</td>\n        <td>0.8571428571428571</td>\n        <td>0.6666666666666666</td>\n    </tr>\n    <tr>\n        <td>2013/2014</td>\n        <td>0.9375</td>\n        <td>0.6666666666666666</td>\n    </tr>\n    <tr>\n        <td>2014/2015</td>\n        <td>1.0</td>\n        <td>0.7857142857142857</td>\n    </tr>\n    <tr>\n        <td>2015/2016</td>\n        <td>0.5</td>\n        <td>0.5</td>\n    </tr>\n</table>"
     },
     "metadata": {},
     "execution_count": 39
    }
   ],
   "source": [
    "# Asignamos 1 = GANADO y 0 = PERDIDO\n",
    "%sql SELECT season, \\\n",
    "AVG(CASE WHEN home_team_api_id = 8455 AND home_team_goal > away_team_goal THEN 1 \\\n",
    "WHEN home_team_api_id = 8455 AND home_team_goal < away_team_goal THEN 0 END) AS pct_homewins, \\\n",
    "AVG(CASE WHEN away_team_api_id = 8455 AND away_team_goal > home_team_goal THEN 1 \\\n",
    "WHEN away_team_api_id = 8455 AND away_team_goal < home_team_goal THEN 0 END) AS pct_awaywins \\\n",
    "FROM match \\\n",
    "GROUP BY season"
   ]
  },
  {
   "cell_type": "code",
   "execution_count": 40,
   "metadata": {},
   "outputs": [
    {
     "output_type": "stream",
     "name": "stdout",
     "text": [
      "   sqlite://\n",
      "   sqlite:////Universidad/DataCamp/Python/intermediate_sql/SQL_SAFI.sqlite\n",
      " * sqlite:////Universidad/DataCamp/Python/intermediate_sql/european_soccer.sqlite\n",
      "Done.\n"
     ]
    },
    {
     "output_type": "execute_result",
     "data": {
      "text/plain": [
       "[('2008/2009', 0.85, 0.82),\n",
       " ('2009/2010', 0.94, 0.67),\n",
       " ('2010/2011', 0.88, 0.5),\n",
       " ('2011/2012', 0.75, 0.5),\n",
       " ('2012/2013', 0.86, 0.67),\n",
       " ('2013/2014', 0.94, 0.67),\n",
       " ('2014/2015', 1.0, 0.79),\n",
       " ('2015/2016', 0.5, 0.5)]"
      ],
      "text/html": "<table>\n    <tr>\n        <th>season</th>\n        <th>pct_homewins</th>\n        <th>pct_awaywins</th>\n    </tr>\n    <tr>\n        <td>2008/2009</td>\n        <td>0.85</td>\n        <td>0.82</td>\n    </tr>\n    <tr>\n        <td>2009/2010</td>\n        <td>0.94</td>\n        <td>0.67</td>\n    </tr>\n    <tr>\n        <td>2010/2011</td>\n        <td>0.88</td>\n        <td>0.5</td>\n    </tr>\n    <tr>\n        <td>2011/2012</td>\n        <td>0.75</td>\n        <td>0.5</td>\n    </tr>\n    <tr>\n        <td>2012/2013</td>\n        <td>0.86</td>\n        <td>0.67</td>\n    </tr>\n    <tr>\n        <td>2013/2014</td>\n        <td>0.94</td>\n        <td>0.67</td>\n    </tr>\n    <tr>\n        <td>2014/2015</td>\n        <td>1.0</td>\n        <td>0.79</td>\n    </tr>\n    <tr>\n        <td>2015/2016</td>\n        <td>0.5</td>\n        <td>0.5</td>\n    </tr>\n</table>"
     },
     "metadata": {},
     "execution_count": 40
    }
   ],
   "source": [
    "# Versión con ROUND más legible\n",
    "%sql SELECT season, \\\n",
    "ROUND(AVG(CASE WHEN home_team_api_id = 8455 AND home_team_goal > away_team_goal THEN 1 \\\n",
    "WHEN home_team_api_id = 8455 AND home_team_goal < away_team_goal THEN 0 END), 2) AS pct_homewins, \\\n",
    "ROUND(AVG(CASE WHEN away_team_api_id = 8455 AND away_team_goal > home_team_goal THEN 1 \\\n",
    "WHEN away_team_api_id = 8455 AND away_team_goal < home_team_goal THEN 0 END),2) AS pct_awaywins \\\n",
    "FROM match \\\n",
    "GROUP BY season"
   ]
  },
  {
   "cell_type": "markdown",
   "metadata": {},
   "source": [
    "¡Ahora es nuestro turno de practicar la creación de declaraciones CASE con funciones agregadas!"
   ]
  },
  {
   "cell_type": "markdown",
   "metadata": {},
   "source": [
    "### EX 6 : COUNT using CASE WHEN (1)\n",
    "\n",
    "¿El número de partidos jugados de fútbol jugados varía en un país de acuerdo a las temporadas?"
   ]
  },
  {
   "cell_type": "code",
   "execution_count": 41,
   "metadata": {},
   "outputs": [
    {
     "output_type": "stream",
     "name": "stdout",
     "text": [
      "   sqlite://\n",
      "   sqlite:////Universidad/DataCamp/Python/intermediate_sql/SQL_SAFI.sqlite\n",
      " * sqlite:////Universidad/DataCamp/Python/intermediate_sql/european_soccer.sqlite\n",
      "Done.\n"
     ]
    },
    {
     "output_type": "execute_result",
     "data": {
      "text/plain": [
       "[('England', 380),\n",
       " ('France', 380),\n",
       " ('Italy', 380),\n",
       " ('Spain', 380),\n",
       " ('Germany', 306),\n",
       " ('Netherlands', 306),\n",
       " ('Belgium', 240),\n",
       " ('Poland', 240),\n",
       " ('Portugal', 240),\n",
       " ('Scotland', 228)]"
      ],
      "text/html": "<table>\n    <tr>\n        <th>country</th>\n        <th>matches_2012_2013</th>\n    </tr>\n    <tr>\n        <td>England</td>\n        <td>380</td>\n    </tr>\n    <tr>\n        <td>France</td>\n        <td>380</td>\n    </tr>\n    <tr>\n        <td>Italy</td>\n        <td>380</td>\n    </tr>\n    <tr>\n        <td>Spain</td>\n        <td>380</td>\n    </tr>\n    <tr>\n        <td>Germany</td>\n        <td>306</td>\n    </tr>\n    <tr>\n        <td>Netherlands</td>\n        <td>306</td>\n    </tr>\n    <tr>\n        <td>Belgium</td>\n        <td>240</td>\n    </tr>\n    <tr>\n        <td>Poland</td>\n        <td>240</td>\n    </tr>\n    <tr>\n        <td>Portugal</td>\n        <td>240</td>\n    </tr>\n    <tr>\n        <td>Scotland</td>\n        <td>228</td>\n    </tr>\n</table>"
     },
     "metadata": {},
     "execution_count": 41
    }
   ],
   "source": [
    "# En caso de no incluir GROUP BY\n",
    "\"\"\"%sql SELECT c.name AS country, \\\n",
    "COUNT(CASE WHEN season = '2012/2013' AND c.id = m.country_id THEN m.country_id ELSE NULL END) AS matches_2012_2013 \\\n",
    "FROM country AS c \\\n",
    "LEFT JOIN match AS m \\\n",
    "ON c.id = m.country_id \\\n",
    "LIMIT 10\"\"\"\n",
    "\n",
    "# Correcto\n",
    "%sql SELECT c.name AS country, \\\n",
    "COUNT(CASE WHEN season = '2012/2013' AND c.id = m.country_id THEN m.country_id ELSE NULL END) AS matches_2012_2013 \\\n",
    "FROM country AS c \\\n",
    "LEFT JOIN match AS m \\\n",
    "ON c.id = m.country_id \\\n",
    "GROUP BY country \\\n",
    "ORDER BY matches_2012_2013 DESC \\\n",
    "LIMIT 10"
   ]
  },
  {
   "cell_type": "markdown",
   "metadata": {},
   "source": [
    "### EX 7 : COUNT using CASE WHEN (2)"
   ]
  },
  {
   "cell_type": "code",
   "execution_count": 42,
   "metadata": {},
   "outputs": [
    {
     "output_type": "stream",
     "name": "stdout",
     "text": [
      "   sqlite://\n   sqlite:////Universidad/DataCamp/Python/intermediate_sql/SQL_SAFI.sqlite\n * sqlite:////Universidad/DataCamp/Python/intermediate_sql/european_soccer.sqlite\nDone.\n"
     ]
    },
    {
     "output_type": "execute_result",
     "data": {
      "text/plain": [
       "[('Belgium', 240, 12, 240),\n",
       " ('England', 380, 380, 380),\n",
       " ('France', 380, 380, 380),\n",
       " ('Germany', 306, 306, 306),\n",
       " ('Italy', 380, 380, 379),\n",
       " ('Netherlands', 306, 306, 306),\n",
       " ('Poland', 240, 240, 240),\n",
       " ('Portugal', 240, 240, 306),\n",
       " ('Scotland', 228, 228, 228),\n",
       " ('Spain', 380, 380, 380),\n",
       " ('Switzerland', 180, 180, 180)]"
      ],
      "text/html": "<table>\n    <tr>\n        <th>country</th>\n        <th>partidos_2012_2013</th>\n        <th>partidos_2013_2014</th>\n        <th>partidos_2014_2015</th>\n    </tr>\n    <tr>\n        <td>Belgium</td>\n        <td>240</td>\n        <td>12</td>\n        <td>240</td>\n    </tr>\n    <tr>\n        <td>England</td>\n        <td>380</td>\n        <td>380</td>\n        <td>380</td>\n    </tr>\n    <tr>\n        <td>France</td>\n        <td>380</td>\n        <td>380</td>\n        <td>380</td>\n    </tr>\n    <tr>\n        <td>Germany</td>\n        <td>306</td>\n        <td>306</td>\n        <td>306</td>\n    </tr>\n    <tr>\n        <td>Italy</td>\n        <td>380</td>\n        <td>380</td>\n        <td>379</td>\n    </tr>\n    <tr>\n        <td>Netherlands</td>\n        <td>306</td>\n        <td>306</td>\n        <td>306</td>\n    </tr>\n    <tr>\n        <td>Poland</td>\n        <td>240</td>\n        <td>240</td>\n        <td>240</td>\n    </tr>\n    <tr>\n        <td>Portugal</td>\n        <td>240</td>\n        <td>240</td>\n        <td>306</td>\n    </tr>\n    <tr>\n        <td>Scotland</td>\n        <td>228</td>\n        <td>228</td>\n        <td>228</td>\n    </tr>\n    <tr>\n        <td>Spain</td>\n        <td>380</td>\n        <td>380</td>\n        <td>380</td>\n    </tr>\n    <tr>\n        <td>Switzerland</td>\n        <td>180</td>\n        <td>180</td>\n        <td>180</td>\n    </tr>\n</table>"
     },
     "metadata": {},
     "execution_count": 42
    }
   ],
   "source": [
    "%sql SELECT c.name AS country, \\\n",
    "COUNT(CASE WHEN m.season = '2012/2013' AND c.id = m.country_id THEN c.id ELSE NULL END) AS partidos_2012_2013, \\\n",
    "COUNT(CASE WHEN m.season = '2013/2014' AND c.id = m.country_id THEN c.id ELSE NULL END) AS partidos_2013_2014, \\\n",
    "COUNT(CASE WHEN m.season = '2014/2015' AND c.id = m.country_id THEN c.id ELSE NULL END) AS partidos_2014_2015 \\\n",
    "FROM country AS c \\\n",
    "LEFT JOIN match AS m \\\n",
    "GROUP BY country"
   ]
  },
  {
   "cell_type": "markdown",
   "metadata": {},
   "source": [
    "### EX 8 : COUNT and CASE WHEN with multiple conditions\n",
    "\n",
    "Averiguaremos la suma total de partidos ganados en casa por país y temporada."
   ]
  },
  {
   "cell_type": "code",
   "execution_count": 43,
   "metadata": {},
   "outputs": [
    {
     "output_type": "stream",
     "name": "stdout",
     "text": [
      "   sqlite://\n   sqlite:////Universidad/DataCamp/Python/intermediate_sql/SQL_SAFI.sqlite\n * sqlite:////Universidad/DataCamp/Python/intermediate_sql/european_soccer.sqlite\nDone.\n"
     ]
    },
    {
     "output_type": "execute_result",
     "data": {
      "text/plain": [
       "[('Belgium', 102, 6, 106),\n",
       " ('England', 166, 179, 172),\n",
       " ('France', 170, 168, 181),\n",
       " ('Germany', 130, 145, 145),\n",
       " ('Italy', 177, 181, 152),\n",
       " ('Netherlands', 137, 144, 138),\n",
       " ('Poland', 97, 110, 114),\n",
       " ('Portugal', 103, 108, 137),\n",
       " ('Scotland', 89, 102, 102),\n",
       " ('Spain', 189, 179, 171),\n",
       " ('Switzerland', 84, 82, 76)]"
      ],
      "text/html": "<table>\n    <tr>\n        <th>country</th>\n        <th>partidos_2012_2013</th>\n        <th>partidos_2013_2014</th>\n        <th>partidos_2014_2015</th>\n    </tr>\n    <tr>\n        <td>Belgium</td>\n        <td>102</td>\n        <td>6</td>\n        <td>106</td>\n    </tr>\n    <tr>\n        <td>England</td>\n        <td>166</td>\n        <td>179</td>\n        <td>172</td>\n    </tr>\n    <tr>\n        <td>France</td>\n        <td>170</td>\n        <td>168</td>\n        <td>181</td>\n    </tr>\n    <tr>\n        <td>Germany</td>\n        <td>130</td>\n        <td>145</td>\n        <td>145</td>\n    </tr>\n    <tr>\n        <td>Italy</td>\n        <td>177</td>\n        <td>181</td>\n        <td>152</td>\n    </tr>\n    <tr>\n        <td>Netherlands</td>\n        <td>137</td>\n        <td>144</td>\n        <td>138</td>\n    </tr>\n    <tr>\n        <td>Poland</td>\n        <td>97</td>\n        <td>110</td>\n        <td>114</td>\n    </tr>\n    <tr>\n        <td>Portugal</td>\n        <td>103</td>\n        <td>108</td>\n        <td>137</td>\n    </tr>\n    <tr>\n        <td>Scotland</td>\n        <td>89</td>\n        <td>102</td>\n        <td>102</td>\n    </tr>\n    <tr>\n        <td>Spain</td>\n        <td>189</td>\n        <td>179</td>\n        <td>171</td>\n    </tr>\n    <tr>\n        <td>Switzerland</td>\n        <td>84</td>\n        <td>82</td>\n        <td>76</td>\n    </tr>\n</table>"
     },
     "metadata": {},
     "execution_count": 43
    }
   ],
   "source": [
    "# No olvidar 'ON' con LEFT JOIN\n",
    "%sql SELECT c.name AS country, \\\n",
    "    SUM(CASE WHEN m.season = '2012/2013' AND m.home_team_goal > away_team_goal THEN 1 ELSE 0 END) AS partidos_2012_2013, \\\n",
    "    SUM(CASE WHEN m.season = '2013/2014' AND m.home_team_goal > away_team_goal THEN 1 ELSE 0 END) AS partidos_2013_2014, \\\n",
    "    SUM(CASE WHEN m.season = '2014/2015' AND m.home_team_goal > away_team_goal THEN 1 ELSE 0 END) AS partidos_2014_2015 \\\n",
    "FROM country AS c \\\n",
    "LEFT JOIN match AS m \\\n",
    "ON c.id = m.country_id \\\n",
    "GROUP BY country"
   ]
  },
  {
   "cell_type": "markdown",
   "metadata": {},
   "source": [
    "### EX OPCIONAL: REPETIR EX 7 CON MÉTODO DEL EX 8"
   ]
  },
  {
   "cell_type": "code",
   "execution_count": 44,
   "metadata": {},
   "outputs": [
    {
     "output_type": "stream",
     "name": "stdout",
     "text": [
      "   sqlite://\n   sqlite:////Universidad/DataCamp/Python/intermediate_sql/SQL_SAFI.sqlite\n * sqlite:////Universidad/DataCamp/Python/intermediate_sql/european_soccer.sqlite\nDone.\n"
     ]
    },
    {
     "output_type": "execute_result",
     "data": {
      "text/plain": [
       "[('Belgium', 240, 12, 240),\n",
       " ('England', 380, 380, 380),\n",
       " ('France', 380, 380, 380),\n",
       " ('Germany', 306, 306, 306),\n",
       " ('Italy', 380, 380, 379),\n",
       " ('Netherlands', 306, 306, 306),\n",
       " ('Poland', 240, 240, 240),\n",
       " ('Portugal', 240, 240, 306),\n",
       " ('Scotland', 228, 228, 228),\n",
       " ('Spain', 380, 380, 380),\n",
       " ('Switzerland', 180, 180, 180)]"
      ],
      "text/html": "<table>\n    <tr>\n        <th>country</th>\n        <th>partidos_2012_2013</th>\n        <th>partidos_2013_2014</th>\n        <th>partidos_2014_2015</th>\n    </tr>\n    <tr>\n        <td>Belgium</td>\n        <td>240</td>\n        <td>12</td>\n        <td>240</td>\n    </tr>\n    <tr>\n        <td>England</td>\n        <td>380</td>\n        <td>380</td>\n        <td>380</td>\n    </tr>\n    <tr>\n        <td>France</td>\n        <td>380</td>\n        <td>380</td>\n        <td>380</td>\n    </tr>\n    <tr>\n        <td>Germany</td>\n        <td>306</td>\n        <td>306</td>\n        <td>306</td>\n    </tr>\n    <tr>\n        <td>Italy</td>\n        <td>380</td>\n        <td>380</td>\n        <td>379</td>\n    </tr>\n    <tr>\n        <td>Netherlands</td>\n        <td>306</td>\n        <td>306</td>\n        <td>306</td>\n    </tr>\n    <tr>\n        <td>Poland</td>\n        <td>240</td>\n        <td>240</td>\n        <td>240</td>\n    </tr>\n    <tr>\n        <td>Portugal</td>\n        <td>240</td>\n        <td>240</td>\n        <td>306</td>\n    </tr>\n    <tr>\n        <td>Scotland</td>\n        <td>228</td>\n        <td>228</td>\n        <td>228</td>\n    </tr>\n    <tr>\n        <td>Spain</td>\n        <td>380</td>\n        <td>380</td>\n        <td>380</td>\n    </tr>\n    <tr>\n        <td>Switzerland</td>\n        <td>180</td>\n        <td>180</td>\n        <td>180</td>\n    </tr>\n</table>"
     },
     "metadata": {},
     "execution_count": 44
    }
   ],
   "source": [
    "%sql SELECT c.name AS country, \\\n",
    "SUM(CASE WHEN m.season = '2012/2013' AND c.id = m.country_id THEN 1 ELSE 0 END) AS partidos_2012_2013, \\\n",
    "SUM(CASE WHEN m.season = '2013/2014' AND c.id = m.country_id THEN 1 ELSE 0 END) AS partidos_2013_2014, \\\n",
    "SUM(CASE WHEN m.season = '2014/2015' AND c.id = m.country_id THEN 1 ELSE 0 END) AS partidos_2014_2015 \\\n",
    "FROM country AS c \\\n",
    "LEFT JOIN match AS m \\\n",
    "GROUP BY country"
   ]
  },
  {
   "cell_type": "markdown",
   "metadata": {},
   "source": [
    "### EX OPCIONAL : ALGO INTERESANTE DEBE IR AQUÍ\n",
    "\n",
    "Averiguaremos la suma total de partidos ganados, perdidos y empatados en casa por país y temporada."
   ]
  },
  {
   "cell_type": "code",
   "execution_count": 45,
   "metadata": {},
   "outputs": [
    {
     "output_type": "stream",
     "name": "stdout",
     "text": [
      "   sqlite://\n   sqlite:////Universidad/DataCamp/Python/intermediate_sql/SQL_SAFI.sqlite\n * sqlite:////Universidad/DataCamp/Python/intermediate_sql/european_soccer.sqlite\nDone.\n"
     ]
    },
    {
     "output_type": "execute_result",
     "data": {
      "text/plain": [
       "[('Belgium', 102, 4, 59),\n",
       " ('England', 166, 123, 107),\n",
       " ('France', 170, 104, 108),\n",
       " ('Germany', 130, 97, 71),\n",
       " ('Italy', 177, 109, 95),\n",
       " ('Netherlands', 137, 78, 74),\n",
       " ('Poland', 97, 57, 74),\n",
       " ('Portugal', 103, 72, 76),\n",
       " ('Scotland', 89, 76, 52),\n",
       " ('Spain', 189, 115, 92),\n",
       " ('Switzerland', 84, 57, 47)]"
      ],
      "text/html": "<table>\n    <tr>\n        <th>country</th>\n        <th>ganados_local_2012_2013</th>\n        <th>perdidos_local_2012_2013</th>\n        <th>Empate_local_2012_2013</th>\n    </tr>\n    <tr>\n        <td>Belgium</td>\n        <td>102</td>\n        <td>4</td>\n        <td>59</td>\n    </tr>\n    <tr>\n        <td>England</td>\n        <td>166</td>\n        <td>123</td>\n        <td>107</td>\n    </tr>\n    <tr>\n        <td>France</td>\n        <td>170</td>\n        <td>104</td>\n        <td>108</td>\n    </tr>\n    <tr>\n        <td>Germany</td>\n        <td>130</td>\n        <td>97</td>\n        <td>71</td>\n    </tr>\n    <tr>\n        <td>Italy</td>\n        <td>177</td>\n        <td>109</td>\n        <td>95</td>\n    </tr>\n    <tr>\n        <td>Netherlands</td>\n        <td>137</td>\n        <td>78</td>\n        <td>74</td>\n    </tr>\n    <tr>\n        <td>Poland</td>\n        <td>97</td>\n        <td>57</td>\n        <td>74</td>\n    </tr>\n    <tr>\n        <td>Portugal</td>\n        <td>103</td>\n        <td>72</td>\n        <td>76</td>\n    </tr>\n    <tr>\n        <td>Scotland</td>\n        <td>89</td>\n        <td>76</td>\n        <td>52</td>\n    </tr>\n    <tr>\n        <td>Spain</td>\n        <td>189</td>\n        <td>115</td>\n        <td>92</td>\n    </tr>\n    <tr>\n        <td>Switzerland</td>\n        <td>84</td>\n        <td>57</td>\n        <td>47</td>\n    </tr>\n</table>"
     },
     "metadata": {},
     "execution_count": 45
    }
   ],
   "source": [
    "%sql SELECT c.name AS country, \\\n",
    "    COUNT(CASE WHEN m.season = '2012/2013' AND home_team_goal > away_team_goal THEN m.country_id ELSE NULL END) AS 'ganados_local_2012_2013', \\\n",
    "    COUNT(CASE WHEN m.season = '2013/2014' AND home_team_goal < away_team_goal THEN m.country_id ELSE NULL END) AS 'perdidos_local_2012_2013', \\\n",
    "    COUNT(CASE WHEN m.season = '2015/2016' AND home_team_goal = away_team_goal THEN m.country_id ELSE NULL END) AS 'Empate_local_2012_2013' \\\n",
    "FROM country AS c \\\n",
    "LEFT JOIN match AS m \\\n",
    "ON c.id = m.country_id \\\n",
    "GROUP BY country"
   ]
  },
  {
   "cell_type": "markdown",
   "metadata": {},
   "source": [
    "### EX 9 : Calculating percent with CASE and AVG (1)\n",
    "\n",
    "Averiguaremos la suma total de partidos ganados, perdidos y empatados en casa por país. En Datacamp, ya se tiene filtrada la tabla de partidos 'matches', por lo que debemos agregar una cláusula WHERE para ajustarnos a los resultados del ejercicio."
   ]
  },
  {
   "cell_type": "code",
   "execution_count": 46,
   "metadata": {},
   "outputs": [
    {
     "output_type": "stream",
     "name": "stdout",
     "text": [
      "   sqlite://\n   sqlite:////Universidad/DataCamp/Python/intermediate_sql/SQL_SAFI.sqlite\n * sqlite:////Universidad/DataCamp/Python/intermediate_sql/european_soccer.sqlite\nDone.\n"
     ]
    },
    {
     "output_type": "execute_result",
     "data": {
      "text/plain": [
       "[('Belgium', 112, 78, 62),\n",
       " ('England', 351, 238, 171),\n",
       " ('France', 349, 215, 196),\n",
       " ('Germany', 290, 176, 146),\n",
       " ('Italy', 333, 216, 210),\n",
       " ('Netherlands', 282, 173, 157),\n",
       " ('Poland', 224, 117, 139),\n",
       " ('Portugal', 245, 156, 145),\n",
       " ('Scotland', 204, 158, 94),\n",
       " ('Spain', 350, 233, 177),\n",
       " ('Switzerland', 158, 113, 89)]"
      ],
      "text/html": "<table>\n    <tr>\n        <th>country</th>\n        <th>ganados_local</th>\n        <th>perdidos_local</th>\n        <th>Empate_local</th>\n    </tr>\n    <tr>\n        <td>Belgium</td>\n        <td>112</td>\n        <td>78</td>\n        <td>62</td>\n    </tr>\n    <tr>\n        <td>England</td>\n        <td>351</td>\n        <td>238</td>\n        <td>171</td>\n    </tr>\n    <tr>\n        <td>France</td>\n        <td>349</td>\n        <td>215</td>\n        <td>196</td>\n    </tr>\n    <tr>\n        <td>Germany</td>\n        <td>290</td>\n        <td>176</td>\n        <td>146</td>\n    </tr>\n    <tr>\n        <td>Italy</td>\n        <td>333</td>\n        <td>216</td>\n        <td>210</td>\n    </tr>\n    <tr>\n        <td>Netherlands</td>\n        <td>282</td>\n        <td>173</td>\n        <td>157</td>\n    </tr>\n    <tr>\n        <td>Poland</td>\n        <td>224</td>\n        <td>117</td>\n        <td>139</td>\n    </tr>\n    <tr>\n        <td>Portugal</td>\n        <td>245</td>\n        <td>156</td>\n        <td>145</td>\n    </tr>\n    <tr>\n        <td>Scotland</td>\n        <td>204</td>\n        <td>158</td>\n        <td>94</td>\n    </tr>\n    <tr>\n        <td>Spain</td>\n        <td>350</td>\n        <td>233</td>\n        <td>177</td>\n    </tr>\n    <tr>\n        <td>Switzerland</td>\n        <td>158</td>\n        <td>113</td>\n        <td>89</td>\n    </tr>\n</table>"
     },
     "metadata": {},
     "execution_count": 46
    }
   ],
   "source": [
    "%sql SELECT c.name AS country, \\\n",
    "    COUNT(CASE WHEN home_team_goal > away_team_goal THEN m.country_id ELSE NULL END) AS 'ganados_local', \\\n",
    "    COUNT(CASE WHEN home_team_goal < away_team_goal THEN m.country_id ELSE NULL END) AS 'perdidos_local', \\\n",
    "    COUNT(CASE WHEN home_team_goal = away_team_goal THEN m.country_id ELSE NULL END) AS 'Empate_local' \\\n",
    "FROM country AS c \\\n",
    "LEFT JOIN match AS m \\\n",
    "ON c.id = m.country_id \\\n",
    "WHERE season IN ('2013/2014', '2014/2015') \\\n",
    "GROUP BY country"
   ]
  },
  {
   "cell_type": "markdown",
   "metadata": {},
   "source": [
    "### EX 10 : Calculating percent with CASE and AVG (2 y 3)"
   ]
  },
  {
   "cell_type": "code",
   "execution_count": 47,
   "metadata": {},
   "outputs": [
    {
     "output_type": "stream",
     "name": "stdout",
     "text": [
      "   sqlite://\n   sqlite:////Universidad/DataCamp/Python/intermediate_sql/SQL_SAFI.sqlite\n * sqlite:////Universidad/DataCamp/Python/intermediate_sql/european_soccer.sqlite\nDone.\n"
     ]
    },
    {
     "output_type": "execute_result",
     "data": {
      "text/plain": [
       "[('Belgium', 0.17, 0.25),\n",
       " ('England', 0.21, 0.24),\n",
       " ('France', 0.28, 0.23),\n",
       " ('Germany', 0.21, 0.27),\n",
       " ('Italy', 0.24, 0.32),\n",
       " ('Netherlands', 0.27, 0.24),\n",
       " ('Poland', 0.3, 0.28),\n",
       " ('Portugal', 0.25, 0.28),\n",
       " ('Scotland', 0.22, 0.19),\n",
       " ('Spain', 0.23, 0.24),\n",
       " ('Switzerland', 0.23, 0.27)]"
      ],
      "text/html": "<table>\n    <tr>\n        <th>country</th>\n        <th>pct_empates_2013_2014</th>\n        <th>pct_empates_2014_2015</th>\n    </tr>\n    <tr>\n        <td>Belgium</td>\n        <td>0.17</td>\n        <td>0.25</td>\n    </tr>\n    <tr>\n        <td>England</td>\n        <td>0.21</td>\n        <td>0.24</td>\n    </tr>\n    <tr>\n        <td>France</td>\n        <td>0.28</td>\n        <td>0.23</td>\n    </tr>\n    <tr>\n        <td>Germany</td>\n        <td>0.21</td>\n        <td>0.27</td>\n    </tr>\n    <tr>\n        <td>Italy</td>\n        <td>0.24</td>\n        <td>0.32</td>\n    </tr>\n    <tr>\n        <td>Netherlands</td>\n        <td>0.27</td>\n        <td>0.24</td>\n    </tr>\n    <tr>\n        <td>Poland</td>\n        <td>0.3</td>\n        <td>0.28</td>\n    </tr>\n    <tr>\n        <td>Portugal</td>\n        <td>0.25</td>\n        <td>0.28</td>\n    </tr>\n    <tr>\n        <td>Scotland</td>\n        <td>0.22</td>\n        <td>0.19</td>\n    </tr>\n    <tr>\n        <td>Spain</td>\n        <td>0.23</td>\n        <td>0.24</td>\n    </tr>\n    <tr>\n        <td>Switzerland</td>\n        <td>0.23</td>\n        <td>0.27</td>\n    </tr>\n</table>"
     },
     "metadata": {},
     "execution_count": 47
    }
   ],
   "source": [
    "%sql SELECT c.name AS country, \\\n",
    "ROUND(AVG(CASE WHEN season = '2013/2014' AND m.home_team_goal = m.away_team_goal THEN 1 WHEN season = '2013/2014' AND m.home_team_goal != m.away_team_goal THEN 0 END), 2) AS pct_empates_2013_2014, \\\n",
    "ROUND(AVG(CASE WHEN season = '2014/2015' AND m.home_team_goal = m.away_team_goal THEN 1 WHEN season = '2014/2015' AND m.home_team_goal != m.away_team_goal THEN 0 END), 2) AS pct_empates_2014_2015 \\\n",
    "FROM country AS c \\\n",
    "LEFT JOIN match AS m \\\n",
    "ON m.country_id = c.id \\\n",
    "GROUP BY country"
   ]
  },
  {
   "cell_type": "markdown",
   "metadata": {},
   "source": [
    "## ¿Dónde están las subconsultas?\n",
    "\n",
    "En este capítulo cubriremos el uso de subconsultas simples para extraer y transformar nuestros datos.\n",
    "\n",
    "Una subconsulta es una consulta anidada dentro de otra consulta.\n",
    "\n",
    "## ¿Qué es una subconsulta?\n",
    "\n",
    "Podemos saber que hay una subconsulta en nuestra declaración SQL si tenemos:\n",
    "\n",
    "- Una instrucción SELECT contenida entre paréntesis, rodeada por otra instrucción SQL completa.\n",
    "\n",
    "    - SELECT column FROM (SELECT column FROM table) AS subquery\n",
    "\n",
    "Entonces, ¿por qué esto es importante?\n",
    "\n",
    "<b>A menudo, para recuperar la información que deseamos, se deben realizar algunas transformaciones intermedias a los datos antes de seleccionar, filtrar o calcular la información</b>.\n",
    "\n",
    "Las subconsultas son una forma común de realizar esta transformación.\n",
    "\n",
    "## ¿Qué hacemos con las subconsultas?\n",
    "\n",
    "Se puede colocar una subconsulta en cualquier parte de otra consulta, como en las cláusulas:\n",
    "\n",
    "- SELECT.\n",
    "\n",
    "- FROM.\n",
    "\n",
    "- WHERE.\n",
    "\n",
    "- GROUP BY.\n",
    "\n",
    "El lugar donde coloquemos la subconsulta depende de cómo queramos que se vean los datos finales.\n",
    "\n",
    "Una subconsulta puede devolver una gran variedad de información:\n",
    "\n",
    "- Cantidades escalares.\n",
    "\n",
    "- Cantidades numéricas.\n",
    "\n",
    "- Una lista para filtrar o unir información.\n",
    "\n",
    "- Una tabla para extraer y transformar los datos."
   ]
  },
  {
   "cell_type": "markdown",
   "metadata": {},
   "source": [
    "## ¿Por qué las subconsultas?\n",
    "\n",
    "Entonces, ¿por qué podríamos necesitar usar subconsultas?\n",
    "\n",
    "Las subconsultas nos permiten comparar valores resumidos con datos detallados:\n",
    "\n",
    "- Por ejemplo, comparar el desempeño del Liverpool con toda la Premier League Inglesa.\n",
    "\n",
    "Las subconsultas también permiten estructurar o remodelar mejor los datos para múltiples propósitos:\n",
    "\n",
    "- Como por ejemplo, determinar el promedio mensual más alto de goles marcados en la Bundesliga.\n",
    "\n",
    "Finalmente, las subconsultas nos permiten combinar datos de tablas en las que no podemos realizar una combinación:\n",
    "\n",
    "- Un ejemplo sería incluir los nombres del equipo local y visitante en la tabla de resultados.\n",
    "\n",
    "Discutiremos todas estas preguntas en las próximas lecciones."
   ]
  },
  {
   "cell_type": "markdown",
   "metadata": {},
   "source": [
    "## Subconsultas simples\n",
    "\n",
    "Comencemos con la definición de una subconsulta simple.\n",
    "\n",
    "Una subconsulta simple es una consulta anidada dentro de otra consulta, que se puede ejecutar por sí sola."
   ]
  },
  {
   "cell_type": "code",
   "execution_count": 48,
   "metadata": {},
   "outputs": [
    {
     "output_type": "stream",
     "name": "stdout",
     "text": [
      "   sqlite://\n   sqlite:////Universidad/DataCamp/Python/intermediate_sql/SQL_SAFI.sqlite\n * sqlite:////Universidad/DataCamp/Python/intermediate_sql/european_soccer.sqlite\nDone.\n"
     ]
    },
    {
     "output_type": "execute_result",
     "data": {
      "text/plain": [
       "[(5,), (2,), (4,), (2,), (2,), (2,), (2,), (2,), (2,), (3,)]"
      ],
      "text/html": "<table>\n    <tr>\n        <th>home_team_goal</th>\n    </tr>\n    <tr>\n        <td>5</td>\n    </tr>\n    <tr>\n        <td>2</td>\n    </tr>\n    <tr>\n        <td>4</td>\n    </tr>\n    <tr>\n        <td>2</td>\n    </tr>\n    <tr>\n        <td>2</td>\n    </tr>\n    <tr>\n        <td>2</td>\n    </tr>\n    <tr>\n        <td>2</td>\n    </tr>\n    <tr>\n        <td>2</td>\n    </tr>\n    <tr>\n        <td>2</td>\n    </tr>\n    <tr>\n        <td>3</td>\n    </tr>\n</table>"
     },
     "metadata": {},
     "execution_count": 48
    }
   ],
   "source": [
    "%sql SELECT home_team_goal \\\n",
    "FROM match \\\n",
    "WHERE home_team_goal > (SELECT AVG(home_team_goal) FROM match) \\\n",
    "LIMIT 10"
   ]
  },
  {
   "cell_type": "markdown",
   "metadata": {},
   "source": [
    "El ejemplo que vemos aquí tiene una subconsulta en la cláusula WHERE, de forma que, si copiamos todo el interior en dicha consulta, y lo ejecutamos, obtenemos el resultado:"
   ]
  },
  {
   "cell_type": "code",
   "execution_count": 49,
   "metadata": {},
   "outputs": [
    {
     "output_type": "stream",
     "name": "stdout",
     "text": [
      "   sqlite://\n",
      "   sqlite:////Universidad/DataCamp/Python/intermediate_sql/SQL_SAFI.sqlite\n",
      " * sqlite:////Universidad/DataCamp/Python/intermediate_sql/european_soccer.sqlite\n",
      "Done.\n"
     ]
    },
    {
     "output_type": "execute_result",
     "data": {
      "text/plain": [
       "[(1.5445937103044767,)]"
      ],
      "text/html": "<table>\n    <tr>\n        <th>AVG(home_team_goal)</th>\n    </tr>\n    <tr>\n        <td>1.5445937103044767</td>\n    </tr>\n</table>"
     },
     "metadata": {},
     "execution_count": 49
    }
   ],
   "source": [
    "%sql SELECT AVG(home_team_goal) \\\n",
    "FROM match"
   ]
  },
  {
   "cell_type": "markdown",
   "metadata": {},
   "source": [
    "Una subconsulta simple también se evalúa una vez en toda la consulta. Esto significa que:\n",
    "\n",
    "-  SQL primero procesa la información dentro de la subconsulta, con ello obtiene la información que necesita.\n",
    "\n",
    "- Luego pasa al procesamiento de la información en la consulta de afuera.\n",
    "\n",
    "A continuación, tenemos la misma consulta que vimos:"
   ]
  },
  {
   "cell_type": "code",
   "execution_count": 50,
   "metadata": {},
   "outputs": [
    {
     "output_type": "stream",
     "name": "stdout",
     "text": [
      "   sqlite://\n",
      "   sqlite:////Universidad/DataCamp/Python/intermediate_sql/SQL_SAFI.sqlite\n",
      " * sqlite:////Universidad/DataCamp/Python/intermediate_sql/european_soccer.sqlite\n",
      "Done.\n"
     ]
    },
    {
     "output_type": "execute_result",
     "data": {
      "text/plain": [
       "[(5,), (2,), (4,), (2,), (2,), (2,), (2,), (2,), (2,), (3,)]"
      ],
      "text/html": "<table>\n    <tr>\n        <th>home_team_goal</th>\n    </tr>\n    <tr>\n        <td>5</td>\n    </tr>\n    <tr>\n        <td>2</td>\n    </tr>\n    <tr>\n        <td>4</td>\n    </tr>\n    <tr>\n        <td>2</td>\n    </tr>\n    <tr>\n        <td>2</td>\n    </tr>\n    <tr>\n        <td>2</td>\n    </tr>\n    <tr>\n        <td>2</td>\n    </tr>\n    <tr>\n        <td>2</td>\n    </tr>\n    <tr>\n        <td>2</td>\n    </tr>\n    <tr>\n        <td>3</td>\n    </tr>\n</table>"
     },
     "metadata": {},
     "execution_count": 50
    }
   ],
   "source": [
    "%sql SELECT home_team_goal \\\n",
    "FROM match \\\n",
    "WHERE home_team_goal > (SELECT AVG(home_team_goal) FROM match) \\\n",
    "LIMIT 10"
   ]
  },
  {
   "cell_type": "markdown",
   "metadata": {},
   "source": [
    "La subconsulta en WHERE se procesa primero, calculando el promedio general de goles en casa anotados.\n",
    "\n",
    "SQL luego pasa a la consulta principal, tratando la subconsulta como el valor agregado único que acaba de generar.\n",
    "\n",
    "## Subconsultas en la cláusula WHERE\n",
    "\n",
    "El primer tipo de subconsulta simple que exploraremos es la subconsulta en la cláusula WHERE.\n",
    "\n",
    "Estos resultados son útiles para filtrar en función de la información que tendríamos que calcular por separado.\n",
    "\n",
    "Generemos una lista de coincidencias en la 'Temporada 2012/2013', en la que el número de goles en casa fue superior a la media general. En este sentido:\n",
    "\n",
    "- Podemos calcular el promedio y luego incluir ese número en la consulta principal."
   ]
  },
  {
   "cell_type": "code",
   "execution_count": 51,
   "metadata": {},
   "outputs": [
    {
     "output_type": "stream",
     "name": "stdout",
     "text": [
      "   sqlite://\n",
      "   sqlite:////Universidad/DataCamp/Python/intermediate_sql/SQL_SAFI.sqlite\n",
      " * sqlite:////Universidad/DataCamp/Python/intermediate_sql/european_soccer.sqlite\n",
      "Done.\n"
     ]
    },
    {
     "output_type": "execute_result",
     "data": {
      "text/plain": [
       "[(1.5445937103044767,)]"
      ],
      "text/html": "<table>\n    <tr>\n        <th>avg(home_team_goal)</th>\n    </tr>\n    <tr>\n        <td>1.5445937103044767</td>\n    </tr>\n</table>"
     },
     "metadata": {},
     "execution_count": 51
    }
   ],
   "source": [
    "%sql SELECT avg(home_team_goal) FROM match"
   ]
  },
  {
   "cell_type": "code",
   "execution_count": 52,
   "metadata": {},
   "outputs": [
    {
     "output_type": "stream",
     "name": "stdout",
     "text": [
      "   sqlite://\n   sqlite:////Universidad/DataCamp/Python/intermediate_sql/SQL_SAFI.sqlite\n * sqlite:////Universidad/DataCamp/Python/intermediate_sql/european_soccer.sqlite\nDone.\n"
     ]
    },
    {
     "output_type": "execute_result",
     "data": {
      "text/plain": [
       "[('2012-07-28 00:00:00', 9993, 9994, 2, 4),\n",
       " ('2012-07-28 00:00:00', 9998, 1773, 5, 2),\n",
       " ('2012-07-28 00:00:00', 8203, 9986, 4, 2),\n",
       " ('2012-07-28 00:00:00', 8342, 8475, 3, 1),\n",
       " ('2012-07-29 00:00:00', 9991, 9989, 2, 0),\n",
       " ('2012-07-29 00:00:00', 9987, 9984, 3, 3),\n",
       " ('2012-10-07 00:00:00', 9985, 8635, 2, 1),\n",
       " ('2012-10-05 00:00:00', 9993, 9991, 2, 2),\n",
       " ('2012-10-06 00:00:00', 10000, 9984, 3, 1),\n",
       " ('2012-10-06 00:00:00', 9994, 9989, 2, 2)]"
      ],
      "text/html": "<table>\n    <tr>\n        <th>date</th>\n        <th>home_team_api_id</th>\n        <th>away_team_api_id</th>\n        <th>home_team_goal</th>\n        <th>away_team_goal</th>\n    </tr>\n    <tr>\n        <td>2012-07-28 00:00:00</td>\n        <td>9993</td>\n        <td>9994</td>\n        <td>2</td>\n        <td>4</td>\n    </tr>\n    <tr>\n        <td>2012-07-28 00:00:00</td>\n        <td>9998</td>\n        <td>1773</td>\n        <td>5</td>\n        <td>2</td>\n    </tr>\n    <tr>\n        <td>2012-07-28 00:00:00</td>\n        <td>8203</td>\n        <td>9986</td>\n        <td>4</td>\n        <td>2</td>\n    </tr>\n    <tr>\n        <td>2012-07-28 00:00:00</td>\n        <td>8342</td>\n        <td>8475</td>\n        <td>3</td>\n        <td>1</td>\n    </tr>\n    <tr>\n        <td>2012-07-29 00:00:00</td>\n        <td>9991</td>\n        <td>9989</td>\n        <td>2</td>\n        <td>0</td>\n    </tr>\n    <tr>\n        <td>2012-07-29 00:00:00</td>\n        <td>9987</td>\n        <td>9984</td>\n        <td>3</td>\n        <td>3</td>\n    </tr>\n    <tr>\n        <td>2012-10-07 00:00:00</td>\n        <td>9985</td>\n        <td>8635</td>\n        <td>2</td>\n        <td>1</td>\n    </tr>\n    <tr>\n        <td>2012-10-05 00:00:00</td>\n        <td>9993</td>\n        <td>9991</td>\n        <td>2</td>\n        <td>2</td>\n    </tr>\n    <tr>\n        <td>2012-10-06 00:00:00</td>\n        <td>10000</td>\n        <td>9984</td>\n        <td>3</td>\n        <td>1</td>\n    </tr>\n    <tr>\n        <td>2012-10-06 00:00:00</td>\n        <td>9994</td>\n        <td>9989</td>\n        <td>2</td>\n        <td>2</td>\n    </tr>\n</table>"
     },
     "metadata": {},
     "execution_count": 52
    }
   ],
   "source": [
    "%sql SELECT date, \\\n",
    "home_team_api_id, \\\n",
    "away_team_api_id, \\\n",
    "home_team_goal, \\\n",
    "away_team_goal \\\n",
    "FROM match \\\n",
    "WHERE season = '2012/2013' \\\n",
    "AND home_team_goal > 1.544 \\\n",
    "LIMIT 10"
   ]
  },
  {
   "cell_type": "markdown",
   "metadata": {},
   "source": [
    "- O bien, podríamos colocara la consulta directamente en la cláusula WHERE, entre paréntesis."
   ]
  },
  {
   "cell_type": "code",
   "execution_count": 53,
   "metadata": {},
   "outputs": [
    {
     "output_type": "stream",
     "name": "stdout",
     "text": [
      "   sqlite://\n",
      "   sqlite:////Universidad/DataCamp/Python/intermediate_sql/SQL_SAFI.sqlite\n",
      " * sqlite:////Universidad/DataCamp/Python/intermediate_sql/european_soccer.sqlite\n",
      "Done.\n"
     ]
    },
    {
     "output_type": "execute_result",
     "data": {
      "text/plain": [
       "[('2012-07-28 00:00:00', 9993, 9994, 2, 4),\n",
       " ('2012-07-28 00:00:00', 9998, 1773, 5, 2),\n",
       " ('2012-07-28 00:00:00', 8203, 9986, 4, 2),\n",
       " ('2012-07-28 00:00:00', 8342, 8475, 3, 1),\n",
       " ('2012-07-29 00:00:00', 9991, 9989, 2, 0),\n",
       " ('2012-07-29 00:00:00', 9987, 9984, 3, 3),\n",
       " ('2012-10-07 00:00:00', 9985, 8635, 2, 1),\n",
       " ('2012-10-05 00:00:00', 9993, 9991, 2, 2),\n",
       " ('2012-10-06 00:00:00', 10000, 9984, 3, 1),\n",
       " ('2012-10-06 00:00:00', 9994, 9989, 2, 2)]"
      ],
      "text/html": "<table>\n    <tr>\n        <th>date</th>\n        <th>home_team_api_id</th>\n        <th>away_team_api_id</th>\n        <th>home_team_goal</th>\n        <th>away_team_goal</th>\n    </tr>\n    <tr>\n        <td>2012-07-28 00:00:00</td>\n        <td>9993</td>\n        <td>9994</td>\n        <td>2</td>\n        <td>4</td>\n    </tr>\n    <tr>\n        <td>2012-07-28 00:00:00</td>\n        <td>9998</td>\n        <td>1773</td>\n        <td>5</td>\n        <td>2</td>\n    </tr>\n    <tr>\n        <td>2012-07-28 00:00:00</td>\n        <td>8203</td>\n        <td>9986</td>\n        <td>4</td>\n        <td>2</td>\n    </tr>\n    <tr>\n        <td>2012-07-28 00:00:00</td>\n        <td>8342</td>\n        <td>8475</td>\n        <td>3</td>\n        <td>1</td>\n    </tr>\n    <tr>\n        <td>2012-07-29 00:00:00</td>\n        <td>9991</td>\n        <td>9989</td>\n        <td>2</td>\n        <td>0</td>\n    </tr>\n    <tr>\n        <td>2012-07-29 00:00:00</td>\n        <td>9987</td>\n        <td>9984</td>\n        <td>3</td>\n        <td>3</td>\n    </tr>\n    <tr>\n        <td>2012-10-07 00:00:00</td>\n        <td>9985</td>\n        <td>8635</td>\n        <td>2</td>\n        <td>1</td>\n    </tr>\n    <tr>\n        <td>2012-10-05 00:00:00</td>\n        <td>9993</td>\n        <td>9991</td>\n        <td>2</td>\n        <td>2</td>\n    </tr>\n    <tr>\n        <td>2012-10-06 00:00:00</td>\n        <td>10000</td>\n        <td>9984</td>\n        <td>3</td>\n        <td>1</td>\n    </tr>\n    <tr>\n        <td>2012-10-06 00:00:00</td>\n        <td>9994</td>\n        <td>9989</td>\n        <td>2</td>\n        <td>2</td>\n    </tr>\n</table>"
     },
     "metadata": {},
     "execution_count": 53
    }
   ],
   "source": [
    "%sql SELECT date, \\\n",
    "home_team_api_id, \\\n",
    "away_team_api_id, \\\n",
    "home_team_goal, \\\n",
    "away_team_goal \\\n",
    "FROM match \\\n",
    "WHERE season = '2012/2013' \\\n",
    "AND home_team_goal > (SELECT avg(home_team_goal) FROM match) \\\n",
    "LIMIT 10"
   ]
  },
  {
   "cell_type": "markdown",
   "metadata": {},
   "source": [
    "De esta forma, podemos obtener un paso manual menos que realizar antes de obtener los resultados que necesitamos.\n",
    "\n",
    "## Filtrando listas con IN y subconsultas\n",
    "\n",
    "- ¿Qué equipos son parte de la Liga de Polonia?"
   ]
  },
  {
   "cell_type": "code",
   "execution_count": 54,
   "metadata": {},
   "outputs": [
    {
     "output_type": "stream",
     "name": "stdout",
     "text": [
      "   sqlite://\n",
      "   sqlite:////Universidad/DataCamp/Python/intermediate_sql/SQL_SAFI.sqlite\n",
      " * sqlite:////Universidad/DataCamp/Python/intermediate_sql/european_soccer.sqlite\n",
      "Done.\n"
     ]
    },
    {
     "output_type": "execute_result",
     "data": {
      "text/plain": [
       "[('Ruch Chorzów', 'CHO'),\n",
       " ('Jagiellonia Białystok', 'BIA'),\n",
       " ('Lech Poznań', 'POZ'),\n",
       " ('P. Warszawa', 'PWA'),\n",
       " ('Cracovia', 'CKR'),\n",
       " ('Górnik Łęczna', 'LEC'),\n",
       " ('Polonia Bytom', 'GOR'),\n",
       " ('Zagłębie Lubin', 'ZAG'),\n",
       " ('Pogoń Szczecin', 'POG'),\n",
       " ('Widzew Łódź', 'WID'),\n",
       " ('Śląsk Wrocław', 'SLA'),\n",
       " ('Zawisza Bydgoszcz', 'ZAW'),\n",
       " ('Piast Gliwice', 'PIG'),\n",
       " ('Lechia Gdańsk', 'LGD'),\n",
       " ('Polonia Bytom', 'POB'),\n",
       " ('Podbeskidzie Bielsko-Biała', 'POD'),\n",
       " ('Odra Wodzisław', 'ODR'),\n",
       " ('Widzew Łódź', 'LOD'),\n",
       " ('Korona Kielce', 'KKI'),\n",
       " ('Arka Gdynia', 'ARK'),\n",
       " ('GKS Bełchatów', 'BEL'),\n",
       " ('Legia Warszawa', 'LEG'),\n",
       " ('Wisła Kraków', 'WIS'),\n",
       " ('Termalica Bruk-Bet Nieciecza', 'TBN')]"
      ],
      "text/html": "<table>\n    <tr>\n        <th>team_long_name</th>\n        <th>abbr</th>\n    </tr>\n    <tr>\n        <td>Ruch Chorzów</td>\n        <td>CHO</td>\n    </tr>\n    <tr>\n        <td>Jagiellonia Białystok</td>\n        <td>BIA</td>\n    </tr>\n    <tr>\n        <td>Lech Poznań</td>\n        <td>POZ</td>\n    </tr>\n    <tr>\n        <td>P. Warszawa</td>\n        <td>PWA</td>\n    </tr>\n    <tr>\n        <td>Cracovia</td>\n        <td>CKR</td>\n    </tr>\n    <tr>\n        <td>Górnik Łęczna</td>\n        <td>LEC</td>\n    </tr>\n    <tr>\n        <td>Polonia Bytom</td>\n        <td>GOR</td>\n    </tr>\n    <tr>\n        <td>Zagłębie Lubin</td>\n        <td>ZAG</td>\n    </tr>\n    <tr>\n        <td>Pogoń Szczecin</td>\n        <td>POG</td>\n    </tr>\n    <tr>\n        <td>Widzew Łódź</td>\n        <td>WID</td>\n    </tr>\n    <tr>\n        <td>Śląsk Wrocław</td>\n        <td>SLA</td>\n    </tr>\n    <tr>\n        <td>Zawisza Bydgoszcz</td>\n        <td>ZAW</td>\n    </tr>\n    <tr>\n        <td>Piast Gliwice</td>\n        <td>PIG</td>\n    </tr>\n    <tr>\n        <td>Lechia Gdańsk</td>\n        <td>LGD</td>\n    </tr>\n    <tr>\n        <td>Polonia Bytom</td>\n        <td>POB</td>\n    </tr>\n    <tr>\n        <td>Podbeskidzie Bielsko-Biała</td>\n        <td>POD</td>\n    </tr>\n    <tr>\n        <td>Odra Wodzisław</td>\n        <td>ODR</td>\n    </tr>\n    <tr>\n        <td>Widzew Łódź</td>\n        <td>LOD</td>\n    </tr>\n    <tr>\n        <td>Korona Kielce</td>\n        <td>KKI</td>\n    </tr>\n    <tr>\n        <td>Arka Gdynia</td>\n        <td>ARK</td>\n    </tr>\n    <tr>\n        <td>GKS Bełchatów</td>\n        <td>BEL</td>\n    </tr>\n    <tr>\n        <td>Legia Warszawa</td>\n        <td>LEG</td>\n    </tr>\n    <tr>\n        <td>Wisła Kraków</td>\n        <td>WIS</td>\n    </tr>\n    <tr>\n        <td>Termalica Bruk-Bet Nieciecza</td>\n        <td>TBN</td>\n    </tr>\n</table>"
     },
     "metadata": {},
     "execution_count": 54
    }
   ],
   "source": [
    "%sql SELECT team_long_name, \\\n",
    "team_short_name AS abbr \\\n",
    "FROM team \\\n",
    "WHERE team_api_id IN \\\n",
    "(SELECT home_team_api_id FROM match WHERE country_id = 15722)"
   ]
  },
  {
   "cell_type": "markdown",
   "metadata": {},
   "source": [
    "Esta consulta se responde a la pregunta ¿qué equipos forman parte de la liga de Polonia?\n",
    "\n",
    "La tabla 'team' no tiene los ID de países, pero la tabla de 'match' tiene los ID de países y equipos.\n",
    "\n",
    "Consultando una lista de home_team_id's de la coincidencia donde el 'country_id' es 15722 (ID de Polonia), podemos generar una lista para compararla con la columna 'team_api_id' en la cláusula WHERE."
   ]
  },
  {
   "cell_type": "markdown",
   "metadata": {},
   "source": [
    "## Ejercicios\n",
    "\n",
    "¡Excelente! Practiquemos la creación de subconsultas simples en la cláusula WHERE."
   ]
  },
  {
   "cell_type": "markdown",
   "metadata": {},
   "source": [
    "### EX 11 : Filtering using scalar subqueries (1)\n",
    "\n",
    "Notar que tuvimos que añadir la cláusula WHERE con las temporadas '2013/2014' para ajustarnos al ejercicio de Datacamp.\n",
    "\n",
    "En sí, necesitaremos encontrar aquellos partidos que superaron triplemente la media de goles totales en casa y visitante."
   ]
  },
  {
   "cell_type": "code",
   "execution_count": 55,
   "metadata": {},
   "outputs": [
    {
     "output_type": "stream",
     "name": "stdout",
     "text": [
      "   sqlite://\n",
      "   sqlite:////Universidad/DataCamp/Python/intermediate_sql/SQL_SAFI.sqlite\n",
      " * sqlite:////Universidad/DataCamp/Python/intermediate_sql/european_soccer.sqlite\n",
      "Done.\n"
     ]
    },
    {
     "output_type": "execute_result",
     "data": {
      "text/plain": [
       "[(8.300461741424801,)]"
      ],
      "text/html": "<table>\n    <tr>\n        <th>3 * AVG(home_team_goal + away_team_goal)</th>\n    </tr>\n    <tr>\n        <td>8.300461741424801</td>\n    </tr>\n</table>"
     },
     "metadata": {},
     "execution_count": 55
    }
   ],
   "source": [
    "# Select the average of home + away goals multiplied by 3\n",
    "%sql SELECT 3 * AVG(home_team_goal + away_team_goal) \\\n",
    "FROM match \\\n",
    "WHERE season = '2013/2014'"
   ]
  },
  {
   "cell_type": "markdown",
   "metadata": {},
   "source": [
    "### EX 12 : Filtering using scalar subqueries (2)\n",
    "\n",
    "Ídem."
   ]
  },
  {
   "cell_type": "code",
   "execution_count": 56,
   "metadata": {},
   "outputs": [
    {
     "output_type": "stream",
     "name": "stdout",
     "text": [
      "   sqlite://\n",
      "   sqlite:////Universidad/DataCamp/Python/intermediate_sql/SQL_SAFI.sqlite\n",
      " * sqlite:////Universidad/DataCamp/Python/intermediate_sql/european_soccer.sqlite\n",
      "Done.\n"
     ]
    },
    {
     "output_type": "execute_result",
     "data": {
      "text/plain": [
       "[('2013-12-14 00:00:00', 6, 3),\n",
       " ('2014-03-22 00:00:00', 3, 6),\n",
       " ('2013-10-30 00:00:00', 7, 3)]"
      ],
      "text/html": "<table>\n    <tr>\n        <th>date</th>\n        <th>home_team_goal</th>\n        <th>away_team_goal</th>\n    </tr>\n    <tr>\n        <td>2013-12-14 00:00:00</td>\n        <td>6</td>\n        <td>3</td>\n    </tr>\n    <tr>\n        <td>2014-03-22 00:00:00</td>\n        <td>3</td>\n        <td>6</td>\n    </tr>\n    <tr>\n        <td>2013-10-30 00:00:00</td>\n        <td>7</td>\n        <td>3</td>\n    </tr>\n</table>"
     },
     "metadata": {},
     "execution_count": 56
    }
   ],
   "source": [
    "%sql SELECT \\\n",
    "    date, \\\n",
    "\thome_team_goal, \\\n",
    "\taway_team_goal \\\n",
    "FROM  match \\\n",
    "WHERE (home_team_goal + away_team_goal) > \\\n",
    "(SELECT 3 * AVG(home_team_goal + away_team_goal) \\\n",
    "FROM match WHERE season = '2013/2014') AND season = '2013/2014'"
   ]
  },
  {
   "cell_type": "markdown",
   "metadata": {},
   "source": [
    "### EX 13 : Filtering using a subquery with a list\n",
    "\n",
    "El objetivo es encontrar equipos que hayan jugado en su ciudad (en Datacamp, era encontrar partidos que no hayan jugado en su ciudad, pero, al parecer, no hay ningún equipo que cumpla esas condiciones, por lo que probablemente los datos fueron manipulados para poder realizar el ejercicio)."
   ]
  },
  {
   "cell_type": "code",
   "execution_count": 57,
   "metadata": {},
   "outputs": [
    {
     "output_type": "stream",
     "name": "stdout",
     "text": [
      "   sqlite://\n",
      "   sqlite:////Universidad/DataCamp/Python/intermediate_sql/SQL_SAFI.sqlite\n",
      " * sqlite:////Universidad/DataCamp/Python/intermediate_sql/european_soccer.sqlite\n",
      "Done.\n"
     ]
    },
    {
     "output_type": "execute_result",
     "data": {
      "text/plain": [
       "[('CHO', 'Ruch Chorzów'),\n",
       " ('O-H', 'Oud-Heverlee Leuven'),\n",
       " ('BIA', 'Jagiellonia Białystok'),\n",
       " ('OLH', 'S.C. Olhanense'),\n",
       " ('POZ', 'Lech Poznań'),\n",
       " ('PWA', 'P. Warszawa'),\n",
       " ('CKR', 'Cracovia'),\n",
       " ('TUB', 'Tubize'),\n",
       " ('FEI', 'Feirense'),\n",
       " ('ETG', 'Évian Thonon Gaillard FC')]"
      ],
      "text/html": "<table>\n    <tr>\n        <th>team_short_name</th>\n        <th>team_long_name</th>\n    </tr>\n    <tr>\n        <td>CHO</td>\n        <td>Ruch Chorzów</td>\n    </tr>\n    <tr>\n        <td>O-H</td>\n        <td>Oud-Heverlee Leuven</td>\n    </tr>\n    <tr>\n        <td>BIA</td>\n        <td>Jagiellonia Białystok</td>\n    </tr>\n    <tr>\n        <td>OLH</td>\n        <td>S.C. Olhanense</td>\n    </tr>\n    <tr>\n        <td>POZ</td>\n        <td>Lech Poznań</td>\n    </tr>\n    <tr>\n        <td>PWA</td>\n        <td>P. Warszawa</td>\n    </tr>\n    <tr>\n        <td>CKR</td>\n        <td>Cracovia</td>\n    </tr>\n    <tr>\n        <td>TUB</td>\n        <td>Tubize</td>\n    </tr>\n    <tr>\n        <td>FEI</td>\n        <td>Feirense</td>\n    </tr>\n    <tr>\n        <td>ETG</td>\n        <td>Évian Thonon Gaillard FC</td>\n    </tr>\n</table>"
     },
     "metadata": {},
     "execution_count": 57
    }
   ],
   "source": [
    "%sql SELECT team_short_name, \\\n",
    "team_long_name \\\n",
    "FROM team \\\n",
    "WHERE team_api_id IN \\\n",
    "(SELECT DISTINCT home_team_api_id FROM match) \\\n",
    "LIMIT 10"
   ]
  },
  {
   "cell_type": "markdown",
   "metadata": {},
   "source": [
    "### EX 14 : Filtering using a subquery with a list\n",
    "\n",
    "El objetivo es encontrar equipos que hayan jugado en su ciudad y hayan anotado, a lo menos, 8 o más goles."
   ]
  },
  {
   "cell_type": "code",
   "execution_count": 58,
   "metadata": {},
   "outputs": [
    {
     "output_type": "stream",
     "name": "stdout",
     "text": [
      "   sqlite://\n",
      "   sqlite:////Universidad/DataCamp/Python/intermediate_sql/SQL_SAFI.sqlite\n",
      " * sqlite:////Universidad/DataCamp/Python/intermediate_sql/european_soccer.sqlite\n",
      "Done.\n"
     ]
    },
    {
     "output_type": "execute_result",
     "data": {
      "text/plain": [
       "[('CHE', 'Chelsea'),\n",
       " ('SOU', 'Southampton'),\n",
       " ('TOT', 'Tottenham Hotspur'),\n",
       " ('REA', 'Real Madrid CF'),\n",
       " ('BAR', 'FC Barcelona'),\n",
       " ('PSV', 'PSV'),\n",
       " ('BEN', 'SL Benfica'),\n",
       " ('BMU', 'FC Bayern Munich'),\n",
       " ('CEL', 'Celtic'),\n",
       " ('MUN', 'Manchester United')]"
      ],
      "text/html": "<table>\n    <tr>\n        <th>team_short_name</th>\n        <th>team_long_name</th>\n    </tr>\n    <tr>\n        <td>CHE</td>\n        <td>Chelsea</td>\n    </tr>\n    <tr>\n        <td>SOU</td>\n        <td>Southampton</td>\n    </tr>\n    <tr>\n        <td>TOT</td>\n        <td>Tottenham Hotspur</td>\n    </tr>\n    <tr>\n        <td>REA</td>\n        <td>Real Madrid CF</td>\n    </tr>\n    <tr>\n        <td>BAR</td>\n        <td>FC Barcelona</td>\n    </tr>\n    <tr>\n        <td>PSV</td>\n        <td>PSV</td>\n    </tr>\n    <tr>\n        <td>BEN</td>\n        <td>SL Benfica</td>\n    </tr>\n    <tr>\n        <td>BMU</td>\n        <td>FC Bayern Munich</td>\n    </tr>\n    <tr>\n        <td>CEL</td>\n        <td>Celtic</td>\n    </tr>\n    <tr>\n        <td>MUN</td>\n        <td>Manchester United</td>\n    </tr>\n</table>"
     },
     "metadata": {},
     "execution_count": 58
    }
   ],
   "source": [
    "%sql SELECT team_short_name, team_long_name \\\n",
    "FROM team \\\n",
    "WHERE team_api_id IN \\\n",
    "(SELECT home_team_api_id \\\n",
    "FROM match \\\n",
    "WHERE home_team_goal >= 8)"
   ]
  },
  {
   "cell_type": "markdown",
   "metadata": {},
   "source": [
    "## Subconsultas en la cláusula FROM\n",
    "\n",
    "En esta lección cubriremos el uso de subconsultas en la instrucción FROM.\n",
    "\n",
    "Probablemente hayamos notado que, las subconsultas en WHERE solo pueden devolver una sola columna.\n",
    "\n",
    "Pero, ¿qué sucede si deseamos devolver un conjunto de resultados más complejo?\n",
    "\n",
    "## Subconsultas en FROM\n",
    "\n",
    "Las subconsultas en la declaración FROM son una herramienta sólida para reestructurar y transformar los datos.\n",
    "\n",
    "A menudo, los datos que necesitamos para responder una pregunta aún no están en el formato necesario para consultarlo directamente, y requiere un procesamiento adicional para prepararse para el análisis.\n",
    "\n",
    "Por ejemplo, es posible que deseemos transformar los datos en una forma diferente o prefiltrarlos antes de realizar cálculos.\n",
    "\n",
    "Las subconsultas en una instrucción FROM son una forma común de preparar estos datos:\n",
    "\n",
    "- Reestructurar y transformar los datos.\n",
    "\n",
    "    - Transformar los datos desde un formato 'long' a 'wide' antes de seleccionar.\n",
    "\n",
    "    - Prefiltrar data.\n",
    "\n",
    "- Las subconsultas en FROM también son útiles para calcular agregados (información agregada).\n",
    "\n",
    "    - ¿Cuál de los tres equipos obtuvieron la mayor media de goles de local en la temporada 2011/2012?\n",
    "\n",
    "        1. Primero, calcularíamos el promedio de cada equipo.\n",
    "        2. Calcularíamos el valor máximo para cualquier equipo en general (obtener los tres mayores promedios).\n",
    "\n",
    "## FROM subconsultas...\n",
    "\n",
    "Examinemos el promedio de 'home_team_goal' para cada equipo en la base de datos.\n",
    "\n",
    "Primero, crearemos la consulta que se convertirá en la subquery (subconsulta):"
   ]
  },
  {
   "cell_type": "code",
   "execution_count": 59,
   "metadata": {},
   "outputs": [
    {
     "output_type": "stream",
     "name": "stdout",
     "text": [
      "   sqlite://\n",
      "   sqlite:////Universidad/DataCamp/Python/intermediate_sql/SQL_SAFI.sqlite\n",
      " * sqlite:////Universidad/DataCamp/Python/intermediate_sql/european_soccer.sqlite\n",
      "Done.\n"
     ]
    },
    {
     "output_type": "execute_result",
     "data": {
      "text/plain": [
       "[('1. FC Kaiserslautern', 0.7058823529411765),\n",
       " ('1. FC Köln', 1.1764705882352942),\n",
       " ('1. FC Nürnberg', 1.2941176470588236),\n",
       " ('1. FSV Mainz 05', 1.588235294117647),\n",
       " ('AC Ajaccio', 1.1578947368421053),\n",
       " ('ADO Den Haag', 1.2941176470588236),\n",
       " ('AJ Auxerre', 1.5789473684210527),\n",
       " ('AS Nancy-Lorraine', 1.263157894736842),\n",
       " ('AS Saint-Étienne', 1.4210526315789473),\n",
       " ('AZ', 2.235294117647059),\n",
       " ('Aberdeen', 1.1578947368421053),\n",
       " ('Académica de Coimbra', 0.7333333333333333),\n",
       " ('Ajax', 2.8823529411764706),\n",
       " ('Arsenal', 2.0526315789473686),\n",
       " ('Aston Villa', 1.0526315789473684),\n",
       " ('Atalanta', 1.2222222222222223),\n",
       " ('Athletic Club de Bilbao', 1.5263157894736843),\n",
       " ('Atlético Madrid', 1.894736842105263),\n",
       " ('BSC Young Boys', 1.8823529411764706),\n",
       " ('Bayer 04 Leverkusen', 1.6470588235294117),\n",
       " ('Beerschot AC', 1.7333333333333334),\n",
       " ('Blackburn Rovers', 1.368421052631579),\n",
       " ('Bologna', 1.2352941176470589),\n",
       " ('Bolton Wanderers', 1.2105263157894737),\n",
       " ('Borussia Dortmund', 2.588235294117647),\n",
       " ('Borussia Mönchengladbach', 1.7058823529411764),\n",
       " ('CA Osasuna', 1.368421052631579),\n",
       " ('CD Nacional', 1.6),\n",
       " ('CS Marítimo', 1.4666666666666666),\n",
       " ('Cagliari', 1.1666666666666667),\n",
       " ('Catania', 1.2777777777777777),\n",
       " ('Celtic', 2.1578947368421053),\n",
       " ('Cesena', 0.8823529411764706),\n",
       " ('Chelsea', 2.1578947368421053),\n",
       " ('Chievo Verona', 0.8421052631578947),\n",
       " ('Club Brugge KV', 2.0),\n",
       " ('Cracovia', 0.6666666666666666),\n",
       " ('De Graafschap', 1.1176470588235294),\n",
       " ('Dijon FCO', 1.2105263157894737),\n",
       " ('Dundee United', 1.4210526315789473),\n",
       " ('Dunfermline Athletic', 1.1578947368421053),\n",
       " ('Everton', 1.4736842105263157),\n",
       " ('Excelsior', 0.8823529411764706),\n",
       " ('FC Augsburg', 1.1764705882352942),\n",
       " ('FC Barcelona', 3.8421052631578947),\n",
       " ('FC Basel', 2.588235294117647),\n",
       " ('FC Bayern Munich', 2.8823529411764706),\n",
       " ('FC Groningen', 1.7058823529411764),\n",
       " ('FC Lausanne-Sports', 0.8823529411764706),\n",
       " ('FC Lorient', 1.0526315789473684),\n",
       " ('FC Luzern', 1.5294117647058822),\n",
       " ('FC Paços de Ferreira', 1.3333333333333333),\n",
       " ('FC Porto', 2.6666666666666665),\n",
       " ('FC Schalke 04', 2.764705882352941),\n",
       " ('FC Sion', 1.0588235294117647),\n",
       " ('FC Sochaux-Montbéliard', 1.105263157894737),\n",
       " ('FC Thun', 1.588235294117647),\n",
       " ('FC Twente', 2.411764705882353),\n",
       " ('FC Utrecht', 2.2941176470588234),\n",
       " ('FC Zürich', 1.3529411764705883),\n",
       " ('Feirense', 0.8666666666666667),\n",
       " ('Feyenoord', 2.2941176470588234),\n",
       " ('Fiorentina', 1.2352941176470589),\n",
       " ('Fulham', 1.894736842105263),\n",
       " ('GKS Bełchatów', 1.6666666666666667),\n",
       " ('Genoa', 1.6111111111111112),\n",
       " ('Getafe CF', 1.263157894736842),\n",
       " ('Gil Vicente FC', 1.2666666666666666),\n",
       " ('Girondins de Bordeaux', 1.3157894736842106),\n",
       " ('Granada CF', 1.1578947368421053),\n",
       " ('Grasshopper Club Zürich', 0.8823529411764706),\n",
       " ('Hamburger SV', 1.1176470588235294),\n",
       " ('Hannover 96', 1.8235294117647058),\n",
       " ('Heart of Midlothian', 1.5789473684210527),\n",
       " ('Heracles Almelo', 1.7647058823529411),\n",
       " ('Hertha BSC Berlin', 1.1176470588235294),\n",
       " ('Hibernian', 0.8947368421052632),\n",
       " ('Inter', 1.8888888888888888),\n",
       " ('Inverness Caledonian Thistle', 1.0),\n",
       " ('Jagiellonia Białystok', 1.5333333333333334),\n",
       " ('Juventus', 2.0555555555555554),\n",
       " ('KAA Gent', 2.4),\n",
       " ('KRC Genk', 2.4),\n",
       " ('KSV Cercle Brugge', 1.2666666666666666),\n",
       " ('KV Kortrijk', 1.6),\n",
       " ('KV Mechelen', 1.4666666666666666),\n",
       " ('KVC Westerlo', 1.2666666666666666),\n",
       " ('Kilmarnock', 1.45),\n",
       " ('Korona Kielce', 1.2666666666666666),\n",
       " ('LOSC Lille', 2.526315789473684),\n",
       " ('Lazio', 1.5),\n",
       " ('Lecce', 1.1764705882352942),\n",
       " ('Lech Poznań', 1.6666666666666667),\n",
       " ('Lechia Gdańsk', 0.6),\n",
       " ('Legia Warszawa', 1.4666666666666666),\n",
       " ('Levante UD', 1.736842105263158),\n",
       " ('Lierse SK', 1.0666666666666667),\n",
       " ('Liverpool', 1.263157894736842),\n",
       " ('Manchester City', 2.8947368421052633),\n",
       " ('Manchester United', 2.736842105263158),\n",
       " ('Milan', 1.8888888888888888),\n",
       " ('Montpellier Hérault SC', 1.9473684210526316),\n",
       " ('Motherwell', 1.4210526315789473),\n",
       " ('Málaga CF', 1.8421052631578947),\n",
       " ('N.E.C.', 1.5294117647058822),\n",
       " ('NAC Breda', 1.588235294117647),\n",
       " ('Napoli', 2.0555555555555554),\n",
       " ('Neuchâtel Xamax', 1.3333333333333333),\n",
       " ('Newcastle United', 1.5263157894736843),\n",
       " ('Norwich City', 1.4736842105263157),\n",
       " ('Novara', 1.0555555555555556),\n",
       " ('OGC Nice', 1.105263157894737),\n",
       " ('Olympique Lyonnais', 2.3157894736842106),\n",
       " ('Olympique de Marseille', 1.368421052631579),\n",
       " ('Oud-Heverlee Leuven', 1.6666666666666667),\n",
       " ('P. Warszawa', 1.4666666666666666),\n",
       " ('PSV', 3.3529411764705883),\n",
       " ('Palermo', 2.0),\n",
       " ('Paris Saint-Germain', 2.210526315789474),\n",
       " ('Parma', 1.7777777777777777),\n",
       " ('Podbeskidzie Bielsko-Biała', 0.8),\n",
       " ('Polonia Bytom', 1.5333333333333334),\n",
       " ('Queens Park Rangers', 1.263157894736842),\n",
       " ('RAEC Mons', 2.1333333333333333),\n",
       " ('RCD Espanyol', 1.631578947368421),\n",
       " ('RCD Mallorca', 1.105263157894737),\n",
       " ('RKC Waalwijk', 1.411764705882353),\n",
       " ('RSC Anderlecht', 2.933333333333333),\n",
       " ('Racing Santander', 0.5789473684210527),\n",
       " ('Rangers', 2.0),\n",
       " ('Rayo Vallecano', 1.5263157894736843),\n",
       " ('Real Betis Balompié', 1.4736842105263157),\n",
       " ('Real Madrid CF', 3.6842105263157894),\n",
       " ('Real Sociedad', 1.5263157894736843),\n",
       " ('Real Sporting de Gijón', 1.263157894736842),\n",
       " ('Real Zaragoza', 1.0),\n",
       " ('Rio Ave FC', 1.5333333333333334),\n",
       " ('Roda JC Kerkrade', 2.0),\n",
       " ('Roma', 2.111111111111111),\n",
       " ('Ruch Chorzów', 1.6),\n",
       " ('S.C. Olhanense', 1.0666666666666667),\n",
       " ('SC Beira Mar', 0.8666666666666667),\n",
       " ('SC Braga', 2.2),\n",
       " ('SC Freiburg', 1.411764705882353),\n",
       " ('SC Heerenveen', 2.176470588235294),\n",
       " ('SL Benfica', 2.933333333333333),\n",
       " ('SM Caen', 1.0526315789473684),\n",
       " ('SV Werder Bremen', 1.8235294117647058),\n",
       " ('SV Zulte-Waregem', 1.5333333333333334),\n",
       " ('Servette FC', 1.3529411764705883),\n",
       " ('Sevilla FC', 1.6842105263157894),\n",
       " ('Siena', 1.3333333333333333),\n",
       " ('Sint-Truidense VV', 1.3333333333333333),\n",
       " ('Sporting CP', 2.1333333333333333),\n",
       " ('Sporting Lokeren', 1.4),\n",
       " ('St. Johnstone FC', 1.1111111111111112),\n",
       " ('St. Mirren', 1.2105263157894737),\n",
       " ('Stade Brestois 29', 1.1578947368421053),\n",
       " ('Stade Rennais FC', 1.5789473684210527),\n",
       " ('Standard de Liège', 1.8666666666666667),\n",
       " ('Stoke City', 1.3157894736842106),\n",
       " ('Sunderland', 1.368421052631579),\n",
       " ('Swansea City', 1.4210526315789473),\n",
       " ('TSG 1899 Hoffenheim', 1.2352941176470589),\n",
       " ('Tottenham Hotspur', 2.0526315789473686),\n",
       " ('Toulouse FC', 1.0526315789473684),\n",
       " ('Udinese', 1.8333333333333333),\n",
       " ('União de Leiria, SAD', 0.9333333333333333),\n",
       " ('VVV-Venlo', 1.7058823529411764),\n",
       " ('Valencia CF', 2.1052631578947367),\n",
       " ('Valenciennes FC', 1.5263157894736843),\n",
       " ('VfB Stuttgart', 2.1176470588235294),\n",
       " ('VfL Wolfsburg', 1.7058823529411764),\n",
       " ('Villarreal CF', 1.368421052631579),\n",
       " ('Vitesse', 1.7647058823529411),\n",
       " ('Vitória Guimarães', 1.3333333333333333),\n",
       " ('Vitória Setúbal', 1.0),\n",
       " ('West Bromwich Albion', 1.105263157894737),\n",
       " ('Widzew Łódź', 0.8666666666666667),\n",
       " ('Wigan Athletic', 1.1578947368421053),\n",
       " ('Wisła Kraków', 0.9333333333333333),\n",
       " ('Wolverhampton Wanderers', 1.0),\n",
       " ('Zagłębie Lubin', 1.2),\n",
       " ('Évian Thonon Gaillard FC', 1.5263157894736843),\n",
       " ('Śląsk Wrocław', 1.7333333333333334)]"
      ],
      "text/html": "<table>\n    <tr>\n        <th>team</th>\n        <th>home_avg</th>\n    </tr>\n    <tr>\n        <td>1. FC Kaiserslautern</td>\n        <td>0.7058823529411765</td>\n    </tr>\n    <tr>\n        <td>1. FC Köln</td>\n        <td>1.1764705882352942</td>\n    </tr>\n    <tr>\n        <td>1. FC Nürnberg</td>\n        <td>1.2941176470588236</td>\n    </tr>\n    <tr>\n        <td>1. FSV Mainz 05</td>\n        <td>1.588235294117647</td>\n    </tr>\n    <tr>\n        <td>AC Ajaccio</td>\n        <td>1.1578947368421053</td>\n    </tr>\n    <tr>\n        <td>ADO Den Haag</td>\n        <td>1.2941176470588236</td>\n    </tr>\n    <tr>\n        <td>AJ Auxerre</td>\n        <td>1.5789473684210527</td>\n    </tr>\n    <tr>\n        <td>AS Nancy-Lorraine</td>\n        <td>1.263157894736842</td>\n    </tr>\n    <tr>\n        <td>AS Saint-Étienne</td>\n        <td>1.4210526315789473</td>\n    </tr>\n    <tr>\n        <td>AZ</td>\n        <td>2.235294117647059</td>\n    </tr>\n    <tr>\n        <td>Aberdeen</td>\n        <td>1.1578947368421053</td>\n    </tr>\n    <tr>\n        <td>Académica de Coimbra</td>\n        <td>0.7333333333333333</td>\n    </tr>\n    <tr>\n        <td>Ajax</td>\n        <td>2.8823529411764706</td>\n    </tr>\n    <tr>\n        <td>Arsenal</td>\n        <td>2.0526315789473686</td>\n    </tr>\n    <tr>\n        <td>Aston Villa</td>\n        <td>1.0526315789473684</td>\n    </tr>\n    <tr>\n        <td>Atalanta</td>\n        <td>1.2222222222222223</td>\n    </tr>\n    <tr>\n        <td>Athletic Club de Bilbao</td>\n        <td>1.5263157894736843</td>\n    </tr>\n    <tr>\n        <td>Atlético Madrid</td>\n        <td>1.894736842105263</td>\n    </tr>\n    <tr>\n        <td>BSC Young Boys</td>\n        <td>1.8823529411764706</td>\n    </tr>\n    <tr>\n        <td>Bayer 04 Leverkusen</td>\n        <td>1.6470588235294117</td>\n    </tr>\n    <tr>\n        <td>Beerschot AC</td>\n        <td>1.7333333333333334</td>\n    </tr>\n    <tr>\n        <td>Blackburn Rovers</td>\n        <td>1.368421052631579</td>\n    </tr>\n    <tr>\n        <td>Bologna</td>\n        <td>1.2352941176470589</td>\n    </tr>\n    <tr>\n        <td>Bolton Wanderers</td>\n        <td>1.2105263157894737</td>\n    </tr>\n    <tr>\n        <td>Borussia Dortmund</td>\n        <td>2.588235294117647</td>\n    </tr>\n    <tr>\n        <td>Borussia Mönchengladbach</td>\n        <td>1.7058823529411764</td>\n    </tr>\n    <tr>\n        <td>CA Osasuna</td>\n        <td>1.368421052631579</td>\n    </tr>\n    <tr>\n        <td>CD Nacional</td>\n        <td>1.6</td>\n    </tr>\n    <tr>\n        <td>CS Marítimo</td>\n        <td>1.4666666666666666</td>\n    </tr>\n    <tr>\n        <td>Cagliari</td>\n        <td>1.1666666666666667</td>\n    </tr>\n    <tr>\n        <td>Catania</td>\n        <td>1.2777777777777777</td>\n    </tr>\n    <tr>\n        <td>Celtic</td>\n        <td>2.1578947368421053</td>\n    </tr>\n    <tr>\n        <td>Cesena</td>\n        <td>0.8823529411764706</td>\n    </tr>\n    <tr>\n        <td>Chelsea</td>\n        <td>2.1578947368421053</td>\n    </tr>\n    <tr>\n        <td>Chievo Verona</td>\n        <td>0.8421052631578947</td>\n    </tr>\n    <tr>\n        <td>Club Brugge KV</td>\n        <td>2.0</td>\n    </tr>\n    <tr>\n        <td>Cracovia</td>\n        <td>0.6666666666666666</td>\n    </tr>\n    <tr>\n        <td>De Graafschap</td>\n        <td>1.1176470588235294</td>\n    </tr>\n    <tr>\n        <td>Dijon FCO</td>\n        <td>1.2105263157894737</td>\n    </tr>\n    <tr>\n        <td>Dundee United</td>\n        <td>1.4210526315789473</td>\n    </tr>\n    <tr>\n        <td>Dunfermline Athletic</td>\n        <td>1.1578947368421053</td>\n    </tr>\n    <tr>\n        <td>Everton</td>\n        <td>1.4736842105263157</td>\n    </tr>\n    <tr>\n        <td>Excelsior</td>\n        <td>0.8823529411764706</td>\n    </tr>\n    <tr>\n        <td>FC Augsburg</td>\n        <td>1.1764705882352942</td>\n    </tr>\n    <tr>\n        <td>FC Barcelona</td>\n        <td>3.8421052631578947</td>\n    </tr>\n    <tr>\n        <td>FC Basel</td>\n        <td>2.588235294117647</td>\n    </tr>\n    <tr>\n        <td>FC Bayern Munich</td>\n        <td>2.8823529411764706</td>\n    </tr>\n    <tr>\n        <td>FC Groningen</td>\n        <td>1.7058823529411764</td>\n    </tr>\n    <tr>\n        <td>FC Lausanne-Sports</td>\n        <td>0.8823529411764706</td>\n    </tr>\n    <tr>\n        <td>FC Lorient</td>\n        <td>1.0526315789473684</td>\n    </tr>\n    <tr>\n        <td>FC Luzern</td>\n        <td>1.5294117647058822</td>\n    </tr>\n    <tr>\n        <td>FC Paços de Ferreira</td>\n        <td>1.3333333333333333</td>\n    </tr>\n    <tr>\n        <td>FC Porto</td>\n        <td>2.6666666666666665</td>\n    </tr>\n    <tr>\n        <td>FC Schalke 04</td>\n        <td>2.764705882352941</td>\n    </tr>\n    <tr>\n        <td>FC Sion</td>\n        <td>1.0588235294117647</td>\n    </tr>\n    <tr>\n        <td>FC Sochaux-Montbéliard</td>\n        <td>1.105263157894737</td>\n    </tr>\n    <tr>\n        <td>FC Thun</td>\n        <td>1.588235294117647</td>\n    </tr>\n    <tr>\n        <td>FC Twente</td>\n        <td>2.411764705882353</td>\n    </tr>\n    <tr>\n        <td>FC Utrecht</td>\n        <td>2.2941176470588234</td>\n    </tr>\n    <tr>\n        <td>FC Zürich</td>\n        <td>1.3529411764705883</td>\n    </tr>\n    <tr>\n        <td>Feirense</td>\n        <td>0.8666666666666667</td>\n    </tr>\n    <tr>\n        <td>Feyenoord</td>\n        <td>2.2941176470588234</td>\n    </tr>\n    <tr>\n        <td>Fiorentina</td>\n        <td>1.2352941176470589</td>\n    </tr>\n    <tr>\n        <td>Fulham</td>\n        <td>1.894736842105263</td>\n    </tr>\n    <tr>\n        <td>GKS Bełchatów</td>\n        <td>1.6666666666666667</td>\n    </tr>\n    <tr>\n        <td>Genoa</td>\n        <td>1.6111111111111112</td>\n    </tr>\n    <tr>\n        <td>Getafe CF</td>\n        <td>1.263157894736842</td>\n    </tr>\n    <tr>\n        <td>Gil Vicente FC</td>\n        <td>1.2666666666666666</td>\n    </tr>\n    <tr>\n        <td>Girondins de Bordeaux</td>\n        <td>1.3157894736842106</td>\n    </tr>\n    <tr>\n        <td>Granada CF</td>\n        <td>1.1578947368421053</td>\n    </tr>\n    <tr>\n        <td>Grasshopper Club Zürich</td>\n        <td>0.8823529411764706</td>\n    </tr>\n    <tr>\n        <td>Hamburger SV</td>\n        <td>1.1176470588235294</td>\n    </tr>\n    <tr>\n        <td>Hannover 96</td>\n        <td>1.8235294117647058</td>\n    </tr>\n    <tr>\n        <td>Heart of Midlothian</td>\n        <td>1.5789473684210527</td>\n    </tr>\n    <tr>\n        <td>Heracles Almelo</td>\n        <td>1.7647058823529411</td>\n    </tr>\n    <tr>\n        <td>Hertha BSC Berlin</td>\n        <td>1.1176470588235294</td>\n    </tr>\n    <tr>\n        <td>Hibernian</td>\n        <td>0.8947368421052632</td>\n    </tr>\n    <tr>\n        <td>Inter</td>\n        <td>1.8888888888888888</td>\n    </tr>\n    <tr>\n        <td>Inverness Caledonian Thistle</td>\n        <td>1.0</td>\n    </tr>\n    <tr>\n        <td>Jagiellonia Białystok</td>\n        <td>1.5333333333333334</td>\n    </tr>\n    <tr>\n        <td>Juventus</td>\n        <td>2.0555555555555554</td>\n    </tr>\n    <tr>\n        <td>KAA Gent</td>\n        <td>2.4</td>\n    </tr>\n    <tr>\n        <td>KRC Genk</td>\n        <td>2.4</td>\n    </tr>\n    <tr>\n        <td>KSV Cercle Brugge</td>\n        <td>1.2666666666666666</td>\n    </tr>\n    <tr>\n        <td>KV Kortrijk</td>\n        <td>1.6</td>\n    </tr>\n    <tr>\n        <td>KV Mechelen</td>\n        <td>1.4666666666666666</td>\n    </tr>\n    <tr>\n        <td>KVC Westerlo</td>\n        <td>1.2666666666666666</td>\n    </tr>\n    <tr>\n        <td>Kilmarnock</td>\n        <td>1.45</td>\n    </tr>\n    <tr>\n        <td>Korona Kielce</td>\n        <td>1.2666666666666666</td>\n    </tr>\n    <tr>\n        <td>LOSC Lille</td>\n        <td>2.526315789473684</td>\n    </tr>\n    <tr>\n        <td>Lazio</td>\n        <td>1.5</td>\n    </tr>\n    <tr>\n        <td>Lecce</td>\n        <td>1.1764705882352942</td>\n    </tr>\n    <tr>\n        <td>Lech Poznań</td>\n        <td>1.6666666666666667</td>\n    </tr>\n    <tr>\n        <td>Lechia Gdańsk</td>\n        <td>0.6</td>\n    </tr>\n    <tr>\n        <td>Legia Warszawa</td>\n        <td>1.4666666666666666</td>\n    </tr>\n    <tr>\n        <td>Levante UD</td>\n        <td>1.736842105263158</td>\n    </tr>\n    <tr>\n        <td>Lierse SK</td>\n        <td>1.0666666666666667</td>\n    </tr>\n    <tr>\n        <td>Liverpool</td>\n        <td>1.263157894736842</td>\n    </tr>\n    <tr>\n        <td>Manchester City</td>\n        <td>2.8947368421052633</td>\n    </tr>\n    <tr>\n        <td>Manchester United</td>\n        <td>2.736842105263158</td>\n    </tr>\n    <tr>\n        <td>Milan</td>\n        <td>1.8888888888888888</td>\n    </tr>\n    <tr>\n        <td>Montpellier Hérault SC</td>\n        <td>1.9473684210526316</td>\n    </tr>\n    <tr>\n        <td>Motherwell</td>\n        <td>1.4210526315789473</td>\n    </tr>\n    <tr>\n        <td>Málaga CF</td>\n        <td>1.8421052631578947</td>\n    </tr>\n    <tr>\n        <td>N.E.C.</td>\n        <td>1.5294117647058822</td>\n    </tr>\n    <tr>\n        <td>NAC Breda</td>\n        <td>1.588235294117647</td>\n    </tr>\n    <tr>\n        <td>Napoli</td>\n        <td>2.0555555555555554</td>\n    </tr>\n    <tr>\n        <td>Neuchâtel Xamax</td>\n        <td>1.3333333333333333</td>\n    </tr>\n    <tr>\n        <td>Newcastle United</td>\n        <td>1.5263157894736843</td>\n    </tr>\n    <tr>\n        <td>Norwich City</td>\n        <td>1.4736842105263157</td>\n    </tr>\n    <tr>\n        <td>Novara</td>\n        <td>1.0555555555555556</td>\n    </tr>\n    <tr>\n        <td>OGC Nice</td>\n        <td>1.105263157894737</td>\n    </tr>\n    <tr>\n        <td>Olympique Lyonnais</td>\n        <td>2.3157894736842106</td>\n    </tr>\n    <tr>\n        <td>Olympique de Marseille</td>\n        <td>1.368421052631579</td>\n    </tr>\n    <tr>\n        <td>Oud-Heverlee Leuven</td>\n        <td>1.6666666666666667</td>\n    </tr>\n    <tr>\n        <td>P. Warszawa</td>\n        <td>1.4666666666666666</td>\n    </tr>\n    <tr>\n        <td>PSV</td>\n        <td>3.3529411764705883</td>\n    </tr>\n    <tr>\n        <td>Palermo</td>\n        <td>2.0</td>\n    </tr>\n    <tr>\n        <td>Paris Saint-Germain</td>\n        <td>2.210526315789474</td>\n    </tr>\n    <tr>\n        <td>Parma</td>\n        <td>1.7777777777777777</td>\n    </tr>\n    <tr>\n        <td>Podbeskidzie Bielsko-Biała</td>\n        <td>0.8</td>\n    </tr>\n    <tr>\n        <td>Polonia Bytom</td>\n        <td>1.5333333333333334</td>\n    </tr>\n    <tr>\n        <td>Queens Park Rangers</td>\n        <td>1.263157894736842</td>\n    </tr>\n    <tr>\n        <td>RAEC Mons</td>\n        <td>2.1333333333333333</td>\n    </tr>\n    <tr>\n        <td>RCD Espanyol</td>\n        <td>1.631578947368421</td>\n    </tr>\n    <tr>\n        <td>RCD Mallorca</td>\n        <td>1.105263157894737</td>\n    </tr>\n    <tr>\n        <td>RKC Waalwijk</td>\n        <td>1.411764705882353</td>\n    </tr>\n    <tr>\n        <td>RSC Anderlecht</td>\n        <td>2.933333333333333</td>\n    </tr>\n    <tr>\n        <td>Racing Santander</td>\n        <td>0.5789473684210527</td>\n    </tr>\n    <tr>\n        <td>Rangers</td>\n        <td>2.0</td>\n    </tr>\n    <tr>\n        <td>Rayo Vallecano</td>\n        <td>1.5263157894736843</td>\n    </tr>\n    <tr>\n        <td>Real Betis Balompié</td>\n        <td>1.4736842105263157</td>\n    </tr>\n    <tr>\n        <td>Real Madrid CF</td>\n        <td>3.6842105263157894</td>\n    </tr>\n    <tr>\n        <td>Real Sociedad</td>\n        <td>1.5263157894736843</td>\n    </tr>\n    <tr>\n        <td>Real Sporting de Gijón</td>\n        <td>1.263157894736842</td>\n    </tr>\n    <tr>\n        <td>Real Zaragoza</td>\n        <td>1.0</td>\n    </tr>\n    <tr>\n        <td>Rio Ave FC</td>\n        <td>1.5333333333333334</td>\n    </tr>\n    <tr>\n        <td>Roda JC Kerkrade</td>\n        <td>2.0</td>\n    </tr>\n    <tr>\n        <td>Roma</td>\n        <td>2.111111111111111</td>\n    </tr>\n    <tr>\n        <td>Ruch Chorzów</td>\n        <td>1.6</td>\n    </tr>\n    <tr>\n        <td>S.C. Olhanense</td>\n        <td>1.0666666666666667</td>\n    </tr>\n    <tr>\n        <td>SC Beira Mar</td>\n        <td>0.8666666666666667</td>\n    </tr>\n    <tr>\n        <td>SC Braga</td>\n        <td>2.2</td>\n    </tr>\n    <tr>\n        <td>SC Freiburg</td>\n        <td>1.411764705882353</td>\n    </tr>\n    <tr>\n        <td>SC Heerenveen</td>\n        <td>2.176470588235294</td>\n    </tr>\n    <tr>\n        <td>SL Benfica</td>\n        <td>2.933333333333333</td>\n    </tr>\n    <tr>\n        <td>SM Caen</td>\n        <td>1.0526315789473684</td>\n    </tr>\n    <tr>\n        <td>SV Werder Bremen</td>\n        <td>1.8235294117647058</td>\n    </tr>\n    <tr>\n        <td>SV Zulte-Waregem</td>\n        <td>1.5333333333333334</td>\n    </tr>\n    <tr>\n        <td>Servette FC</td>\n        <td>1.3529411764705883</td>\n    </tr>\n    <tr>\n        <td>Sevilla FC</td>\n        <td>1.6842105263157894</td>\n    </tr>\n    <tr>\n        <td>Siena</td>\n        <td>1.3333333333333333</td>\n    </tr>\n    <tr>\n        <td>Sint-Truidense VV</td>\n        <td>1.3333333333333333</td>\n    </tr>\n    <tr>\n        <td>Sporting CP</td>\n        <td>2.1333333333333333</td>\n    </tr>\n    <tr>\n        <td>Sporting Lokeren</td>\n        <td>1.4</td>\n    </tr>\n    <tr>\n        <td>St. Johnstone FC</td>\n        <td>1.1111111111111112</td>\n    </tr>\n    <tr>\n        <td>St. Mirren</td>\n        <td>1.2105263157894737</td>\n    </tr>\n    <tr>\n        <td>Stade Brestois 29</td>\n        <td>1.1578947368421053</td>\n    </tr>\n    <tr>\n        <td>Stade Rennais FC</td>\n        <td>1.5789473684210527</td>\n    </tr>\n    <tr>\n        <td>Standard de Liège</td>\n        <td>1.8666666666666667</td>\n    </tr>\n    <tr>\n        <td>Stoke City</td>\n        <td>1.3157894736842106</td>\n    </tr>\n    <tr>\n        <td>Sunderland</td>\n        <td>1.368421052631579</td>\n    </tr>\n    <tr>\n        <td>Swansea City</td>\n        <td>1.4210526315789473</td>\n    </tr>\n    <tr>\n        <td>TSG 1899 Hoffenheim</td>\n        <td>1.2352941176470589</td>\n    </tr>\n    <tr>\n        <td>Tottenham Hotspur</td>\n        <td>2.0526315789473686</td>\n    </tr>\n    <tr>\n        <td>Toulouse FC</td>\n        <td>1.0526315789473684</td>\n    </tr>\n    <tr>\n        <td>Udinese</td>\n        <td>1.8333333333333333</td>\n    </tr>\n    <tr>\n        <td>União de Leiria, SAD</td>\n        <td>0.9333333333333333</td>\n    </tr>\n    <tr>\n        <td>VVV-Venlo</td>\n        <td>1.7058823529411764</td>\n    </tr>\n    <tr>\n        <td>Valencia CF</td>\n        <td>2.1052631578947367</td>\n    </tr>\n    <tr>\n        <td>Valenciennes FC</td>\n        <td>1.5263157894736843</td>\n    </tr>\n    <tr>\n        <td>VfB Stuttgart</td>\n        <td>2.1176470588235294</td>\n    </tr>\n    <tr>\n        <td>VfL Wolfsburg</td>\n        <td>1.7058823529411764</td>\n    </tr>\n    <tr>\n        <td>Villarreal CF</td>\n        <td>1.368421052631579</td>\n    </tr>\n    <tr>\n        <td>Vitesse</td>\n        <td>1.7647058823529411</td>\n    </tr>\n    <tr>\n        <td>Vitória Guimarães</td>\n        <td>1.3333333333333333</td>\n    </tr>\n    <tr>\n        <td>Vitória Setúbal</td>\n        <td>1.0</td>\n    </tr>\n    <tr>\n        <td>West Bromwich Albion</td>\n        <td>1.105263157894737</td>\n    </tr>\n    <tr>\n        <td>Widzew Łódź</td>\n        <td>0.8666666666666667</td>\n    </tr>\n    <tr>\n        <td>Wigan Athletic</td>\n        <td>1.1578947368421053</td>\n    </tr>\n    <tr>\n        <td>Wisła Kraków</td>\n        <td>0.9333333333333333</td>\n    </tr>\n    <tr>\n        <td>Wolverhampton Wanderers</td>\n        <td>1.0</td>\n    </tr>\n    <tr>\n        <td>Zagłębie Lubin</td>\n        <td>1.2</td>\n    </tr>\n    <tr>\n        <td>Évian Thonon Gaillard FC</td>\n        <td>1.5263157894736843</td>\n    </tr>\n    <tr>\n        <td>Śląsk Wrocław</td>\n        <td>1.7333333333333334</td>\n    </tr>\n</table>"
     },
     "metadata": {},
     "execution_count": 59
    }
   ],
   "source": [
    "%sql SELECT t.team_long_name AS team, \\\n",
    "AVG(m.home_team_goal) AS home_avg \\\n",
    "FROM match AS m \\\n",
    "LEFT JOIN team AS t \\\n",
    "ON m.home_team_api_id = t.team_api_id \\\n",
    "WHERE season = '2011/2012' \\\n",
    "GROUP BY team"
   ]
  },
  {
   "cell_type": "markdown",
   "metadata": {},
   "source": [
    "La consulta anterior selecciona el nombre largo de la tabla de equipo, y la media de la columna 'home_Team_goal' de la tabla coincidente.\n",
    "\n",
    "La tabla de partidos es unida con un LEFT JOIN a la tabla de equipos, usando 'home_team_api_id' que nos dará la identidad del equipo local.\n",
    "\n",
    "Luego, la consulta se filtra por temporada y se agrupa por equipo.\n",
    "\n",
    "Los resultados nos entregan un valor promedio de goles de local, calculado para cada equipo en la tabla.\n",
    "\n",
    "## ¡A consultas principales!\n",
    "\n",
    "Para obtener solo el mejor equipo como resultado final, debemos la consulta anterior dentro de la instrucción FROM de la consulta externa. Y nos debemos asegurar de darle un <b>ALIAS</b>.\n",
    "\n",
    "Luego, deberemos agregar el bloque a la consulta principal, seleccionando las columnas 'team' y las columnas 'home_avg' de la subconsulta, tal como lo haríamos con cualquier otra base de datos.\n",
    "\n",
    "Finalmente, no olvidemos ordenar 'home_avg' de forma descendente y limitar la consulta a 3 resultados.\n",
    "\n",
    "La consulta final mostrará los 3 mejores equipos en función de los 'home_team_goal' anotados en la temporada '2011/2012'."
   ]
  },
  {
   "cell_type": "code",
   "execution_count": 60,
   "metadata": {},
   "outputs": [
    {
     "output_type": "stream",
     "name": "stdout",
     "text": [
      "   sqlite://\n",
      "   sqlite:////Universidad/DataCamp/Python/intermediate_sql/SQL_SAFI.sqlite\n",
      " * sqlite:////Universidad/DataCamp/Python/intermediate_sql/european_soccer.sqlite\n",
      "Done.\n"
     ]
    },
    {
     "output_type": "execute_result",
     "data": {
      "text/plain": [
       "[('FC Barcelona', 3.8421), ('Real Madrid CF', 3.6842), ('PSV', 3.3529)]"
      ],
      "text/html": "<table>\n    <tr>\n        <th>team</th>\n        <th>home_avg</th>\n    </tr>\n    <tr>\n        <td>FC Barcelona</td>\n        <td>3.8421</td>\n    </tr>\n    <tr>\n        <td>Real Madrid CF</td>\n        <td>3.6842</td>\n    </tr>\n    <tr>\n        <td>PSV</td>\n        <td>3.3529</td>\n    </tr>\n</table>"
     },
     "metadata": {},
     "execution_count": 60
    }
   ],
   "source": [
    "%sql SELECT team, ROUND(home_avg, 4) AS home_avg \\\n",
    "FROM (SELECT t.team_long_name AS team, \\\n",
    "AVG(m.home_team_goal) AS home_avg \\\n",
    "FROM team AS t \\\n",
    "LEFT JOIN match AS m \\\n",
    "ON m.home_team_api_id = t.team_api_id \\\n",
    "WHERE season = '2011/2012' \\\n",
    "GROUP BY team) \\\n",
    "ORDER BY home_avg DESC \\\n",
    "LIMIT 3"
   ]
  },
  {
   "cell_type": "markdown",
   "metadata": {},
   "source": [
    "## ¡Cosas que recordar!\n",
    "\n",
    "Hay algunas cosas clave para recordar al usar subconsultas en la instrucción FROM.\n",
    "\n",
    "La primera es que tenemos la capacidad de crear más de una subconsulta en la instrucción FROM de cualquier consulta principal. Al hacerlo:\n",
    "\n",
    "- Se debe asegurar que cada subconsulta tiene un ALIAS.\n",
    "\n",
    "- Y además, asegurar que ambas se pueden unir entre sí, tal como lo haríamos al consultar una tabla de la base de datos.\n",
    "\n",
    "Lo segundo, podemos unir una subconsulta a cualquier tabla existente en la base de datos. Una vez más, sin embargo, debemos asegurarnos de tener una columna en la subconsulta que se puede usar con JOIN.\n",
    "\n",
    "## Ejercicios\n",
    "\n",
    "Es hora de practicar el uso de subconsultas en la cláusula FROM."
   ]
  },
  {
   "cell_type": "markdown",
   "metadata": {},
   "source": [
    "### EX 15 : Uniendo subconsultas en FROM\n",
    "\n",
    "Uniremos la tabla de países a partidos, contando la cantidad de partidos por país con, al menos, 10 goles en total.\n",
    "\n",
    "Un subquery en FROM es una forma efectiva de responder preguntas detalladas. Ojo que debimos añadir a la cláusula WHERE el filtro de temporada en orden para ajustarnos a los resultados de Datacamp."
   ]
  },
  {
   "cell_type": "code",
   "execution_count": 61,
   "metadata": {},
   "outputs": [
    {
     "output_type": "stream",
     "name": "stdout",
     "text": [
      "   sqlite://\n",
      "   sqlite:////Universidad/DataCamp/Python/intermediate_sql/SQL_SAFI.sqlite\n",
      " * sqlite:////Universidad/DataCamp/Python/intermediate_sql/european_soccer.sqlite\n",
      "Done.\n"
     ]
    },
    {
     "output_type": "execute_result",
     "data": {
      "text/plain": [
       "[('England', 3), ('Germany', 1), ('Netherlands', 1), ('Spain', 4)]"
      ],
      "text/html": "<table>\n    <tr>\n        <th>pais</th>\n        <th>partidos_10_goles</th>\n    </tr>\n    <tr>\n        <td>England</td>\n        <td>3</td>\n    </tr>\n    <tr>\n        <td>Germany</td>\n        <td>1</td>\n    </tr>\n    <tr>\n        <td>Netherlands</td>\n        <td>1</td>\n    </tr>\n    <tr>\n        <td>Spain</td>\n        <td>4</td>\n    </tr>\n</table>"
     },
     "metadata": {},
     "execution_count": 61
    }
   ],
   "source": [
    "%sql SELECT c.name AS pais, \\\n",
    "COUNT(*) AS partidos_10_goles \\\n",
    "FROM country AS c \\\n",
    "INNER JOIN (SELECT m.id, \\\n",
    "m.country_id \\\n",
    "FROM match AS m \\\n",
    "WHERE (m.home_team_goal + m.away_team_goal) >= 10 AND season IN ('2011/2012', '2012/2013', '2013/2014', '2014/2015')) AS subquery \\\n",
    "ON c.id = subquery.country_id \\\n",
    "GROUP BY c.name"
   ]
  },
  {
   "cell_type": "markdown",
   "metadata": {},
   "source": [
    "### EX 16 : Construyendo subconsultas en FROM\n",
    "\n",
    "Uniremos la tabla de países a partidos, contando la cantidad de partidos por país con, al menos, 10 goles en total.\n",
    "\n",
    "Ahora, hallaremos más información sobre esos partidos: dónde fueron jugados, en qué temporadas, y cuántos goles hubo de local y visitante."
   ]
  },
  {
   "cell_type": "code",
   "execution_count": 62,
   "metadata": {},
   "outputs": [
    {
     "output_type": "stream",
     "name": "stdout",
     "text": [
      "   sqlite://\n   sqlite:////Universidad/DataCamp/Python/intermediate_sql/SQL_SAFI.sqlite\n * sqlite:////Universidad/DataCamp/Python/intermediate_sql/european_soccer.sqlite\nDone.\n"
     ]
    },
    {
     "output_type": "execute_result",
     "data": {
      "text/plain": [
       "[(1729, '2009/2010', 9, 1),\n",
       " (1729, '2011/2012', 8, 2),\n",
       " (1729, '2012/2013', 7, 3),\n",
       " (1729, '2012/2013', 5, 5),\n",
       " (4769, '2009/2010', 5, 5),\n",
       " (7809, '2012/2013', 9, 2),\n",
       " (13274, '2010/2011', 10, 0),\n",
       " (13274, '2011/2012', 6, 4),\n",
       " (19694, '2009/2010', 6, 6),\n",
       " (21518, '2013/2014', 7, 3),\n",
       " (21518, '2014/2015', 9, 1),\n",
       " (21518, '2014/2015', 7, 3),\n",
       " (21518, '2014/2015', 2, 8),\n",
       " (21518, '2015/2016', 10, 2)]"
      ],
      "text/html": "<table>\n    <tr>\n        <th>country_id</th>\n        <th>temporada</th>\n        <th>goles_local</th>\n        <th>goles_visita</th>\n    </tr>\n    <tr>\n        <td>1729</td>\n        <td>2009/2010</td>\n        <td>9</td>\n        <td>1</td>\n    </tr>\n    <tr>\n        <td>1729</td>\n        <td>2011/2012</td>\n        <td>8</td>\n        <td>2</td>\n    </tr>\n    <tr>\n        <td>1729</td>\n        <td>2012/2013</td>\n        <td>7</td>\n        <td>3</td>\n    </tr>\n    <tr>\n        <td>1729</td>\n        <td>2012/2013</td>\n        <td>5</td>\n        <td>5</td>\n    </tr>\n    <tr>\n        <td>4769</td>\n        <td>2009/2010</td>\n        <td>5</td>\n        <td>5</td>\n    </tr>\n    <tr>\n        <td>7809</td>\n        <td>2012/2013</td>\n        <td>9</td>\n        <td>2</td>\n    </tr>\n    <tr>\n        <td>13274</td>\n        <td>2010/2011</td>\n        <td>10</td>\n        <td>0</td>\n    </tr>\n    <tr>\n        <td>13274</td>\n        <td>2011/2012</td>\n        <td>6</td>\n        <td>4</td>\n    </tr>\n    <tr>\n        <td>19694</td>\n        <td>2009/2010</td>\n        <td>6</td>\n        <td>6</td>\n    </tr>\n    <tr>\n        <td>21518</td>\n        <td>2013/2014</td>\n        <td>7</td>\n        <td>3</td>\n    </tr>\n    <tr>\n        <td>21518</td>\n        <td>2014/2015</td>\n        <td>9</td>\n        <td>1</td>\n    </tr>\n    <tr>\n        <td>21518</td>\n        <td>2014/2015</td>\n        <td>7</td>\n        <td>3</td>\n    </tr>\n    <tr>\n        <td>21518</td>\n        <td>2014/2015</td>\n        <td>2</td>\n        <td>8</td>\n    </tr>\n    <tr>\n        <td>21518</td>\n        <td>2015/2016</td>\n        <td>10</td>\n        <td>2</td>\n    </tr>\n</table>"
     },
     "metadata": {},
     "execution_count": 62
    }
   ],
   "source": [
    "# Construyamos la subconsulta\n",
    "%sql SELECT country_id, \\\n",
    "season AS temporada, \\\n",
    "home_team_goal AS goles_local, \\\n",
    "away_team_goal AS goles_visita \\\n",
    "FROM match \\\n",
    "WHERE (goles_local + goles_visita >= 10)\n"
   ]
  },
  {
   "cell_type": "code",
   "execution_count": 63,
   "metadata": {},
   "outputs": [
    {
     "output_type": "stream",
     "name": "stdout",
     "text": [
      "   sqlite://\n   sqlite:////Universidad/DataCamp/Python/intermediate_sql/SQL_SAFI.sqlite\n * sqlite:////Universidad/DataCamp/Python/intermediate_sql/european_soccer.sqlite\nDone.\n"
     ]
    },
    {
     "output_type": "execute_result",
     "data": {
      "text/plain": [
       "[('England', '2009/2010', '2009-11-22 00:00:00', 9, 1),\n",
       " ('England', '2011/2012', '2011-08-28 00:00:00', 8, 2),\n",
       " ('England', '2012/2013', '2012-12-29 00:00:00', 7, 3),\n",
       " ('England', '2012/2013', '2013-05-19 00:00:00', 5, 5),\n",
       " ('France', '2009/2010', '2009-11-08 00:00:00', 5, 5),\n",
       " ('Germany', '2012/2013', '2013-03-30 00:00:00', 9, 2),\n",
       " ('Netherlands', '2010/2011', '2010-10-24 00:00:00', 10, 0),\n",
       " ('Netherlands', '2011/2012', '2011-11-06 00:00:00', 6, 4),\n",
       " ('Scotland', '2009/2010', '2010-05-05 00:00:00', 6, 6),\n",
       " ('Spain', '2013/2014', '2013-10-30 00:00:00', 7, 3),\n",
       " ('Spain', '2014/2015', '2015-04-05 00:00:00', 9, 1),\n",
       " ('Spain', '2014/2015', '2015-05-23 00:00:00', 7, 3),\n",
       " ('Spain', '2014/2015', '2014-09-20 00:00:00', 2, 8),\n",
       " ('Spain', '2015/2016', '2015-12-20 00:00:00', 10, 2)]"
      ],
      "text/html": "<table>\n    <tr>\n        <th>country</th>\n        <th>temporada</th>\n        <th>fecha</th>\n        <th>goles_local</th>\n        <th>goles_visita</th>\n    </tr>\n    <tr>\n        <td>England</td>\n        <td>2009/2010</td>\n        <td>2009-11-22 00:00:00</td>\n        <td>9</td>\n        <td>1</td>\n    </tr>\n    <tr>\n        <td>England</td>\n        <td>2011/2012</td>\n        <td>2011-08-28 00:00:00</td>\n        <td>8</td>\n        <td>2</td>\n    </tr>\n    <tr>\n        <td>England</td>\n        <td>2012/2013</td>\n        <td>2012-12-29 00:00:00</td>\n        <td>7</td>\n        <td>3</td>\n    </tr>\n    <tr>\n        <td>England</td>\n        <td>2012/2013</td>\n        <td>2013-05-19 00:00:00</td>\n        <td>5</td>\n        <td>5</td>\n    </tr>\n    <tr>\n        <td>France</td>\n        <td>2009/2010</td>\n        <td>2009-11-08 00:00:00</td>\n        <td>5</td>\n        <td>5</td>\n    </tr>\n    <tr>\n        <td>Germany</td>\n        <td>2012/2013</td>\n        <td>2013-03-30 00:00:00</td>\n        <td>9</td>\n        <td>2</td>\n    </tr>\n    <tr>\n        <td>Netherlands</td>\n        <td>2010/2011</td>\n        <td>2010-10-24 00:00:00</td>\n        <td>10</td>\n        <td>0</td>\n    </tr>\n    <tr>\n        <td>Netherlands</td>\n        <td>2011/2012</td>\n        <td>2011-11-06 00:00:00</td>\n        <td>6</td>\n        <td>4</td>\n    </tr>\n    <tr>\n        <td>Scotland</td>\n        <td>2009/2010</td>\n        <td>2010-05-05 00:00:00</td>\n        <td>6</td>\n        <td>6</td>\n    </tr>\n    <tr>\n        <td>Spain</td>\n        <td>2013/2014</td>\n        <td>2013-10-30 00:00:00</td>\n        <td>7</td>\n        <td>3</td>\n    </tr>\n    <tr>\n        <td>Spain</td>\n        <td>2014/2015</td>\n        <td>2015-04-05 00:00:00</td>\n        <td>9</td>\n        <td>1</td>\n    </tr>\n    <tr>\n        <td>Spain</td>\n        <td>2014/2015</td>\n        <td>2015-05-23 00:00:00</td>\n        <td>7</td>\n        <td>3</td>\n    </tr>\n    <tr>\n        <td>Spain</td>\n        <td>2014/2015</td>\n        <td>2014-09-20 00:00:00</td>\n        <td>2</td>\n        <td>8</td>\n    </tr>\n    <tr>\n        <td>Spain</td>\n        <td>2015/2016</td>\n        <td>2015-12-20 00:00:00</td>\n        <td>10</td>\n        <td>2</td>\n    </tr>\n</table>"
     },
     "metadata": {},
     "execution_count": 63
    }
   ],
   "source": [
    "%sql SELECT c.name AS country, \\\n",
    "temporada, \\\n",
    "fecha, \\\n",
    "goles_local, \\\n",
    "goles_visita \\\n",
    "FROM country AS c \\\n",
    "LEFT JOIN (SELECT country_id, \\\n",
    "season AS temporada, \\\n",
    "date AS fecha, \\\n",
    "home_team_goal AS goles_local, \\\n",
    "away_team_goal AS goles_visita \\\n",
    "FROM match \\\n",
    "WHERE (goles_local + goles_visita >= 10)) AS m \\\n",
    "ON m.country_id = c.id \\\n",
    "WHERE goles_local + goles_visita >= 10"
   ]
  },
  {
   "cell_type": "markdown",
   "metadata": {},
   "source": [
    "## Subconsultas en SELECT\n",
    "\n",
    "Hasta ahora, hemos cubierto el uso de subconsultas simples en declaraciones FROM y WHERE. Las subconsultas también se pueden incluir en una instrucción SELECT, para traer valores de resumen a un conjunto de datos detallado.\n",
    "\n",
    "## ¿SELEC-T-cionando qué?\n",
    "\n",
    "Las subconsultas en SELECT se utilizan para devolver un único valor agregado:\n",
    "\n",
    "- Esto puede resultar bastante útil, ya que, como recordaremos, no podemos incluir un valor agregado en una consulta SQL no agrupada. Las subconsultas en SELECT son una forma de solucionarlo.\n",
    "\n",
    "- Las subconsultas en SELECT también son utilizadas para cálculos matemáticos sobre la información del conjunto de datos. Por ejemplo, es posible que deseemos ver cuánto se desvía una puntuación individual de la media, digamos, ¿qué tan alto es el promedio de un puntaje individual?\n",
    "\n",
    "## Subconsultas en SELECT\n",
    "\n",
    "Incluir una subconsulta en SELECT es bastante simple, y está configurado de la misma manera que configuramos las subconsultas en las cláusulas WHERE y FROM.\n",
    "\n",
    "Digamos que queremos crear una columna para comparar el número total de partidos jugados en cada temporada al número total de partidos jugados EN GENERAL:\n",
    "\n",
    "- En este sentido, podemos calcular primero el recuento total de partidos en todas las temporadas.\n",
    "\n",
    "## Nota\n",
    "\n",
    "Se debe añadir la cláusula WHERE para ajustarse a el resultado de Datacamp."
   ]
  },
  {
   "cell_type": "code",
   "execution_count": 64,
   "metadata": {},
   "outputs": [
    {
     "output_type": "stream",
     "name": "stdout",
     "text": [
      "   sqlite://\n",
      "   sqlite:////Universidad/DataCamp/Python/intermediate_sql/SQL_SAFI.sqlite\n",
      " * sqlite:////Universidad/DataCamp/Python/intermediate_sql/european_soccer.sqlite\n",
      "Done.\n"
     ]
    },
    {
     "output_type": "execute_result",
     "data": {
      "text/plain": [
       "[(12837,)]"
      ],
      "text/html": "<table>\n    <tr>\n        <th>COUNT(id)</th>\n    </tr>\n    <tr>\n        <td>12837</td>\n    </tr>\n</table>"
     },
     "metadata": {},
     "execution_count": 64
    }
   ],
   "source": [
    "%sql SELECT COUNT(id) \\\n",
    "FROM match \\\n",
    "WHERE season IN ('2011/2012', '2012/2013', '2013/2014', '2014/2015')"
   ]
  },
  {
   "cell_type": "markdown",
   "metadata": {},
   "source": [
    "Luego, podemos agregar ese único número a la instrucción SELECT, lo que produce los siguientes resultados."
   ]
  },
  {
   "cell_type": "code",
   "execution_count": 65,
   "metadata": {},
   "outputs": [
    {
     "output_type": "stream",
     "name": "stdout",
     "text": [
      "   sqlite://\n",
      "   sqlite:////Universidad/DataCamp/Python/intermediate_sql/SQL_SAFI.sqlite\n",
      " * sqlite:////Universidad/DataCamp/Python/intermediate_sql/european_soccer.sqlite\n",
      "Done.\n"
     ]
    },
    {
     "output_type": "execute_result",
     "data": {
      "text/plain": [
       "[('2011/2012', 3220, 12837),\n",
       " ('2012/2013', 3260, 12837),\n",
       " ('2013/2014', 3032, 12837),\n",
       " ('2014/2015', 3325, 12837)]"
      ],
      "text/html": "<table>\n    <tr>\n        <th>season</th>\n        <th>matches</th>\n        <th>total_matches</th>\n    </tr>\n    <tr>\n        <td>2011/2012</td>\n        <td>3220</td>\n        <td>12837</td>\n    </tr>\n    <tr>\n        <td>2012/2013</td>\n        <td>3260</td>\n        <td>12837</td>\n    </tr>\n    <tr>\n        <td>2013/2014</td>\n        <td>3032</td>\n        <td>12837</td>\n    </tr>\n    <tr>\n        <td>2014/2015</td>\n        <td>3325</td>\n        <td>12837</td>\n    </tr>\n</table>"
     },
     "metadata": {},
     "execution_count": 65
    }
   ],
   "source": [
    "%sql SELECT season, \\\n",
    "COUNT(id) AS matches, \\\n",
    "12837 AS total_matches \\\n",
    "FROM match \\\n",
    "WHERE season IN ('2011/2012', '2012/2013', '2013/2014', '2014/2015') \\\n",
    "GROUP BY season"
   ]
  },
  {
   "cell_type": "markdown",
   "metadata": {},
   "source": [
    "O, podemos omitir ese paso y agregar la subconsulta directamente a la instrucción SELECT para obtener el mismo resultado."
   ]
  },
  {
   "cell_type": "code",
   "execution_count": 66,
   "metadata": {},
   "outputs": [
    {
     "output_type": "stream",
     "name": "stdout",
     "text": [
      "   sqlite://\n",
      "   sqlite:////Universidad/DataCamp/Python/intermediate_sql/SQL_SAFI.sqlite\n",
      " * sqlite:////Universidad/DataCamp/Python/intermediate_sql/european_soccer.sqlite\n",
      "Done.\n"
     ]
    },
    {
     "output_type": "execute_result",
     "data": {
      "text/plain": [
       "[('2011/2012', 3220, 12837),\n",
       " ('2012/2013', 3260, 12837),\n",
       " ('2013/2014', 3032, 12837),\n",
       " ('2014/2015', 3325, 12837)]"
      ],
      "text/html": "<table>\n    <tr>\n        <th>season</th>\n        <th>matches</th>\n        <th>total_matches</th>\n    </tr>\n    <tr>\n        <td>2011/2012</td>\n        <td>3220</td>\n        <td>12837</td>\n    </tr>\n    <tr>\n        <td>2012/2013</td>\n        <td>3260</td>\n        <td>12837</td>\n    </tr>\n    <tr>\n        <td>2013/2014</td>\n        <td>3032</td>\n        <td>12837</td>\n    </tr>\n    <tr>\n        <td>2014/2015</td>\n        <td>3325</td>\n        <td>12837</td>\n    </tr>\n</table>"
     },
     "metadata": {},
     "execution_count": 66
    }
   ],
   "source": [
    "%sql SELECT season, \\\n",
    "COUNT(id) AS matches, \\\n",
    "(SELECT COUNT(id) \\\n",
    "FROM match \\\n",
    "WHERE season IN ('2011/2012', '2012/2013', '2013/2014', '2014/2015')) AS total_matches \\\n",
    "FROM match \\\n",
    "WHERE season IN ('2011/2012', '2012/2013', '2013/2014', '2014/2015') \\\n",
    "GROUP BY season"
   ]
  },
  {
   "cell_type": "markdown",
   "metadata": {},
   "source": [
    "## Subconsultas en SELECT para cálculos matemáticos\n",
    "\n",
    "Las subconsultas en SELECT también son increíblemente útiles para los cálculos con los datos que está consultando.\n",
    "\n",
    "En este sentido, se puede utilizar el valor único devuelto por una subconsulta en SELECT para calcular información basada en datos existentes.\n",
    "\n",
    "Por ejemplo, el promedio general de goles marcados en un partido, en todas las temporadas es un poco menos de 3 goles."
   ]
  },
  {
   "cell_type": "code",
   "execution_count": 67,
   "metadata": {},
   "outputs": [
    {
     "output_type": "stream",
     "name": "stdout",
     "text": [
      "   sqlite://\n   sqlite:////Universidad/DataCamp/Python/intermediate_sql/SQL_SAFI.sqlite\n * sqlite:////Universidad/DataCamp/Python/intermediate_sql/european_soccer.sqlite\nDone.\n"
     ]
    },
    {
     "output_type": "execute_result",
     "data": {
      "text/plain": [
       "[(2.7164596273291925,)]"
      ],
      "text/html": "<table>\n    <tr>\n        <th>AVG(home_team_goal + away_team_goal)</th>\n    </tr>\n    <tr>\n        <td>2.7164596273291925</td>\n    </tr>\n</table>"
     },
     "metadata": {},
     "execution_count": 67
    }
   ],
   "source": [
    "%sql SELECT AVG(home_team_goal + away_team_goal) \\\n",
    "FROM match \\\n",
    "WHERE season = '2011/2012'"
   ]
  },
  {
   "cell_type": "markdown",
   "metadata": {},
   "source": [
    "Si deseamos calcular la diferencia con el promedio en cualquier coincidencia, podemos calcular este número con anticipación en una consulta separada, e ingresar el valor en la instrucción SELECT."
   ]
  },
  {
   "cell_type": "code",
   "execution_count": 68,
   "metadata": {},
   "outputs": [
    {
     "output_type": "stream",
     "name": "stdout",
     "text": [
      "   sqlite://\n   sqlite:////Universidad/DataCamp/Python/intermediate_sql/SQL_SAFI.sqlite\n * sqlite:////Universidad/DataCamp/Python/intermediate_sql/european_soccer.sqlite\nDone.\n"
     ]
    },
    {
     "output_type": "execute_result",
     "data": {
      "text/plain": [
       "[('2011-07-29 00:00:00', 3, 0.2799999999999998),\n",
       " ('2011-07-30 00:00:00', 2, -0.7200000000000002),\n",
       " ('2011-07-30 00:00:00', 4, 1.2799999999999998),\n",
       " ('2011-07-30 00:00:00', 1, -1.7200000000000002),\n",
       " ('2011-07-30 00:00:00', 0, -2.72),\n",
       " ('2011-07-30 00:00:00', 2, -0.7200000000000002),\n",
       " ('2011-07-30 00:00:00', 3, 0.2799999999999998),\n",
       " ('2011-07-31 00:00:00', 5, 2.28),\n",
       " ('2011-10-16 00:00:00', 2, -0.7200000000000002),\n",
       " ('2011-10-16 00:00:00', 5, 2.28)]"
      ],
      "text/html": "<table>\n    <tr>\n        <th>date</th>\n        <th>goals</th>\n        <th>diff</th>\n    </tr>\n    <tr>\n        <td>2011-07-29 00:00:00</td>\n        <td>3</td>\n        <td>0.2799999999999998</td>\n    </tr>\n    <tr>\n        <td>2011-07-30 00:00:00</td>\n        <td>2</td>\n        <td>-0.7200000000000002</td>\n    </tr>\n    <tr>\n        <td>2011-07-30 00:00:00</td>\n        <td>4</td>\n        <td>1.2799999999999998</td>\n    </tr>\n    <tr>\n        <td>2011-07-30 00:00:00</td>\n        <td>1</td>\n        <td>-1.7200000000000002</td>\n    </tr>\n    <tr>\n        <td>2011-07-30 00:00:00</td>\n        <td>0</td>\n        <td>-2.72</td>\n    </tr>\n    <tr>\n        <td>2011-07-30 00:00:00</td>\n        <td>2</td>\n        <td>-0.7200000000000002</td>\n    </tr>\n    <tr>\n        <td>2011-07-30 00:00:00</td>\n        <td>3</td>\n        <td>0.2799999999999998</td>\n    </tr>\n    <tr>\n        <td>2011-07-31 00:00:00</td>\n        <td>5</td>\n        <td>2.28</td>\n    </tr>\n    <tr>\n        <td>2011-10-16 00:00:00</td>\n        <td>2</td>\n        <td>-0.7200000000000002</td>\n    </tr>\n    <tr>\n        <td>2011-10-16 00:00:00</td>\n        <td>5</td>\n        <td>2.28</td>\n    </tr>\n</table>"
     },
     "metadata": {},
     "execution_count": 68
    }
   ],
   "source": [
    "%sql SELECT date, \\\n",
    "(home_team_goal + away_team_goal) AS goals, \\\n",
    "(home_team_goal + away_team_goal) - 2.72 AS diff \\\n",
    "FROM match \\\n",
    "WHERE season = '2011/2012' \\\n",
    "LIMIT 10"
   ]
  },
  {
   "cell_type": "markdown",
   "metadata": {},
   "source": [
    "O bien, podemos utilizar una subconsulta que calcule este valor por nosotros en nuestra declaración SELECT, y restarlo del total de goles del partido."
   ]
  },
  {
   "cell_type": "code",
   "execution_count": 69,
   "metadata": {},
   "outputs": [
    {
     "output_type": "stream",
     "name": "stdout",
     "text": [
      "   sqlite://\n",
      "   sqlite:////Universidad/DataCamp/Python/intermediate_sql/SQL_SAFI.sqlite\n",
      " * sqlite:////Universidad/DataCamp/Python/intermediate_sql/european_soccer.sqlite\n",
      "Done.\n"
     ]
    },
    {
     "output_type": "execute_result",
     "data": {
      "text/plain": [
       "[('2011-07-29 00:00:00', 3, 0.28354037267080745),\n",
       " ('2011-07-30 00:00:00', 2, -0.7164596273291925),\n",
       " ('2011-07-30 00:00:00', 4, 1.2835403726708075),\n",
       " ('2011-07-30 00:00:00', 1, -1.7164596273291925),\n",
       " ('2011-07-30 00:00:00', 0, -2.7164596273291925),\n",
       " ('2011-07-30 00:00:00', 2, -0.7164596273291925),\n",
       " ('2011-07-30 00:00:00', 3, 0.28354037267080745),\n",
       " ('2011-07-31 00:00:00', 5, 2.2835403726708075),\n",
       " ('2011-10-16 00:00:00', 2, -0.7164596273291925),\n",
       " ('2011-10-16 00:00:00', 5, 2.2835403726708075)]"
      ],
      "text/html": "<table>\n    <tr>\n        <th>date</th>\n        <th>goals</th>\n        <th>diff</th>\n    </tr>\n    <tr>\n        <td>2011-07-29 00:00:00</td>\n        <td>3</td>\n        <td>0.28354037267080745</td>\n    </tr>\n    <tr>\n        <td>2011-07-30 00:00:00</td>\n        <td>2</td>\n        <td>-0.7164596273291925</td>\n    </tr>\n    <tr>\n        <td>2011-07-30 00:00:00</td>\n        <td>4</td>\n        <td>1.2835403726708075</td>\n    </tr>\n    <tr>\n        <td>2011-07-30 00:00:00</td>\n        <td>1</td>\n        <td>-1.7164596273291925</td>\n    </tr>\n    <tr>\n        <td>2011-07-30 00:00:00</td>\n        <td>0</td>\n        <td>-2.7164596273291925</td>\n    </tr>\n    <tr>\n        <td>2011-07-30 00:00:00</td>\n        <td>2</td>\n        <td>-0.7164596273291925</td>\n    </tr>\n    <tr>\n        <td>2011-07-30 00:00:00</td>\n        <td>3</td>\n        <td>0.28354037267080745</td>\n    </tr>\n    <tr>\n        <td>2011-07-31 00:00:00</td>\n        <td>5</td>\n        <td>2.2835403726708075</td>\n    </tr>\n    <tr>\n        <td>2011-10-16 00:00:00</td>\n        <td>2</td>\n        <td>-0.7164596273291925</td>\n    </tr>\n    <tr>\n        <td>2011-10-16 00:00:00</td>\n        <td>5</td>\n        <td>2.2835403726708075</td>\n    </tr>\n</table>"
     },
     "metadata": {},
     "execution_count": 69
    }
   ],
   "source": [
    "%sql SELECT date, \\\n",
    "(home_team_goal + away_team_goal) AS goals, \\\n",
    "(home_team_goal + away_team_goal) - (SELECT AVG(home_team_goal + away_team_goal) \\\n",
    "FROM match \\\n",
    "WHERE season = '2011/2012') AS diff \\\n",
    "FROM match \\\n",
    "WHERE season = '2011/2012' \\\n",
    "LIMIT 10"
   ]
  },
  {
   "cell_type": "markdown",
   "metadata": {},
   "source": [
    "En general, esta segunda opción, puede ahorrar mucho tiempo y errores en el trabajo, y los resultados aquí son idénticos a calcular el resultado manualmente.\n",
    "\n",
    "Hay algunas consideraciones únicas al trabajar con subconsultas en SELECT.\n",
    "\n",
    "## Subconsultas SELECT, cosas que tener en cuenta\n",
    "\n",
    "Hay algunas consideraciones únicas al trabajar con subconsultas en SELECT:\n",
    "\n",
    "- La primera es que la subconsulta debe devolver un solo valor. Si el resultado de la subconsulta devuelve varias filas, toda la consulta generará un error.\n",
    "\n",
    "    - Ésto se debe a que la información recuperada en una consulta SELECT se aplica de manera idéntica a cada fila en el conjunto de datos, y eso no es posible si hay más de una unidad de información.\n",
    "\n",
    "- Lo segundo a tener en cuenta es la ubicación correcta de los filtros de los datos, tanto en la consulta principal como en la subconsulta.\n",
    "\n",
    "    - A continuación, está la consulta de la celda anterior. Dado que la subconsulta se procesa antes que la consulta principal, necesitaremos incluir filtros relevantes en la subconsulta, así como en la consulta principal. Sin la cláusula WHERE en la subconsulta, el númer devuelto sería el promedio general en todas las temporadas en lugar de la temporada 2011/2012."
   ]
  },
  {
   "cell_type": "code",
   "execution_count": 70,
   "metadata": {},
   "outputs": [
    {
     "output_type": "stream",
     "name": "stdout",
     "text": [
      "   sqlite://\n",
      "   sqlite:////Universidad/DataCamp/Python/intermediate_sql/SQL_SAFI.sqlite\n",
      " * sqlite:////Universidad/DataCamp/Python/intermediate_sql/european_soccer.sqlite\n",
      "Done.\n"
     ]
    },
    {
     "output_type": "execute_result",
     "data": {
      "text/plain": [
       "[('2011-07-29 00:00:00', 3, 0.28354037267080745),\n",
       " ('2011-07-30 00:00:00', 2, -0.7164596273291925),\n",
       " ('2011-07-30 00:00:00', 4, 1.2835403726708075),\n",
       " ('2011-07-30 00:00:00', 1, -1.7164596273291925),\n",
       " ('2011-07-30 00:00:00', 0, -2.7164596273291925),\n",
       " ('2011-07-30 00:00:00', 2, -0.7164596273291925),\n",
       " ('2011-07-30 00:00:00', 3, 0.28354037267080745),\n",
       " ('2011-07-31 00:00:00', 5, 2.2835403726708075),\n",
       " ('2011-10-16 00:00:00', 2, -0.7164596273291925),\n",
       " ('2011-10-16 00:00:00', 5, 2.2835403726708075)]"
      ],
      "text/html": "<table>\n    <tr>\n        <th>date</th>\n        <th>goals</th>\n        <th>diff</th>\n    </tr>\n    <tr>\n        <td>2011-07-29 00:00:00</td>\n        <td>3</td>\n        <td>0.28354037267080745</td>\n    </tr>\n    <tr>\n        <td>2011-07-30 00:00:00</td>\n        <td>2</td>\n        <td>-0.7164596273291925</td>\n    </tr>\n    <tr>\n        <td>2011-07-30 00:00:00</td>\n        <td>4</td>\n        <td>1.2835403726708075</td>\n    </tr>\n    <tr>\n        <td>2011-07-30 00:00:00</td>\n        <td>1</td>\n        <td>-1.7164596273291925</td>\n    </tr>\n    <tr>\n        <td>2011-07-30 00:00:00</td>\n        <td>0</td>\n        <td>-2.7164596273291925</td>\n    </tr>\n    <tr>\n        <td>2011-07-30 00:00:00</td>\n        <td>2</td>\n        <td>-0.7164596273291925</td>\n    </tr>\n    <tr>\n        <td>2011-07-30 00:00:00</td>\n        <td>3</td>\n        <td>0.28354037267080745</td>\n    </tr>\n    <tr>\n        <td>2011-07-31 00:00:00</td>\n        <td>5</td>\n        <td>2.2835403726708075</td>\n    </tr>\n    <tr>\n        <td>2011-10-16 00:00:00</td>\n        <td>2</td>\n        <td>-0.7164596273291925</td>\n    </tr>\n    <tr>\n        <td>2011-10-16 00:00:00</td>\n        <td>5</td>\n        <td>2.2835403726708075</td>\n    </tr>\n</table>"
     },
     "metadata": {},
     "execution_count": 70
    }
   ],
   "source": [
    "%sql SELECT date, \\\n",
    "(home_team_goal + away_team_goal) AS goals, \\\n",
    "(home_team_goal + away_team_goal) - (SELECT AVG(home_team_goal + away_team_goal) \\\n",
    "FROM match \\\n",
    "WHERE season = '2011/2012') AS diff \\\n",
    "FROM match \\\n",
    "WHERE season = '2011/2012' \\\n",
    "LIMIT 10"
   ]
  },
  {
   "cell_type": "markdown",
   "metadata": {},
   "source": [
    "## Ejercicios\n",
    "\n",
    "¡A practicar algunos ejemplos de subconsultas en la declaración SELECT!"
   ]
  },
  {
   "cell_type": "markdown",
   "metadata": {},
   "source": [
    "### EX 17 : Añadiendo una subconsulta a la declaración SELECT\n",
    "\n",
    "En el ejercicio a continuación, construiremos una consulta capaz de calcular la media de goles por partidos en:\n",
    "\n",
    "- Cada liga.\n",
    "- Todos los partidos.\n",
    "\n",
    "En la temporada 2013/2014."
   ]
  },
  {
   "cell_type": "code",
   "execution_count": 71,
   "metadata": {},
   "outputs": [
    {
     "output_type": "stream",
     "name": "stdout",
     "text": [
      "   sqlite://\n",
      "   sqlite:////Universidad/DataCamp/Python/intermediate_sql/SQL_SAFI.sqlite\n",
      " * sqlite:////Universidad/DataCamp/Python/intermediate_sql/european_soccer.sqlite\n",
      "Done.\n"
     ]
    },
    {
     "output_type": "execute_result",
     "data": {
      "text/plain": [
       "[(2.77,)]"
      ],
      "text/html": "<table>\n    <tr>\n        <th>ROUND(AVG(m.home_team_goal + m.away_team_goal), 2)</th>\n    </tr>\n    <tr>\n        <td>2.77</td>\n    </tr>\n</table>"
     },
     "metadata": {},
     "execution_count": 71
    }
   ],
   "source": [
    "# Construimos primero la subconsulta para sacar la media de todos los partidos\n",
    "\n",
    "%sql SELECT ROUND(AVG(m.home_team_goal + m.away_team_goal), 2) \\\n",
    "FROM match AS m \\\n",
    "WHERE season = '2013/2014'"
   ]
  },
  {
   "cell_type": "code",
   "execution_count": 72,
   "metadata": {},
   "outputs": [
    {
     "output_type": "stream",
     "name": "stdout",
     "text": [
      "   sqlite://\n",
      "   sqlite:////Universidad/DataCamp/Python/intermediate_sql/SQL_SAFI.sqlite\n",
      " * sqlite:////Universidad/DataCamp/Python/intermediate_sql/european_soccer.sqlite\n",
      "Done.\n"
     ]
    },
    {
     "output_type": "execute_result",
     "data": {
      "text/plain": [
       "[('Belgium Jupiler League', 2.5, 2.77),\n",
       " ('England Premier League', 2.77, 2.77),\n",
       " ('France Ligue 1', 2.46, 2.77),\n",
       " ('Germany 1. Bundesliga', 3.16, 2.77),\n",
       " ('Italy Serie A', 2.72, 2.77),\n",
       " ('Netherlands Eredivisie', 3.2, 2.77),\n",
       " ('Poland Ekstraklasa', 2.64, 2.77),\n",
       " ('Portugal Liga ZON Sagres', 2.37, 2.77),\n",
       " ('Scotland Premier League', 2.75, 2.77),\n",
       " ('Spain LIGA BBVA', 2.75, 2.77),\n",
       " ('Switzerland Super League', 2.89, 2.77)]"
      ],
      "text/html": "<table>\n    <tr>\n        <th>liga</th>\n        <th>media_liga</th>\n        <th>media_general</th>\n    </tr>\n    <tr>\n        <td>Belgium Jupiler League</td>\n        <td>2.5</td>\n        <td>2.77</td>\n    </tr>\n    <tr>\n        <td>England Premier League</td>\n        <td>2.77</td>\n        <td>2.77</td>\n    </tr>\n    <tr>\n        <td>France Ligue 1</td>\n        <td>2.46</td>\n        <td>2.77</td>\n    </tr>\n    <tr>\n        <td>Germany 1. Bundesliga</td>\n        <td>3.16</td>\n        <td>2.77</td>\n    </tr>\n    <tr>\n        <td>Italy Serie A</td>\n        <td>2.72</td>\n        <td>2.77</td>\n    </tr>\n    <tr>\n        <td>Netherlands Eredivisie</td>\n        <td>3.2</td>\n        <td>2.77</td>\n    </tr>\n    <tr>\n        <td>Poland Ekstraklasa</td>\n        <td>2.64</td>\n        <td>2.77</td>\n    </tr>\n    <tr>\n        <td>Portugal Liga ZON Sagres</td>\n        <td>2.37</td>\n        <td>2.77</td>\n    </tr>\n    <tr>\n        <td>Scotland Premier League</td>\n        <td>2.75</td>\n        <td>2.77</td>\n    </tr>\n    <tr>\n        <td>Spain LIGA BBVA</td>\n        <td>2.75</td>\n        <td>2.77</td>\n    </tr>\n    <tr>\n        <td>Switzerland Super League</td>\n        <td>2.89</td>\n        <td>2.77</td>\n    </tr>\n</table>"
     },
     "metadata": {},
     "execution_count": 72
    }
   ],
   "source": [
    "%sql SELECT l.name AS liga, \\\n",
    "ROUND(AVG(m.home_team_goal + m.away_team_goal), 2) AS media_liga, \\\n",
    "(SELECT ROUND(AVG(home_team_goal + away_team_goal), 2) \\\n",
    "FROM match \\\n",
    "WHERE season = '2013/2014') AS media_general \\\n",
    "FROM league AS l \\\n",
    "LEFT JOIN match AS m \\\n",
    "ON l.id = m.league_id \\\n",
    "WHERE m.season = '2013/2014' \\\n",
    "GROUP BY l.name"
   ]
  },
  {
   "cell_type": "markdown",
   "metadata": {},
   "source": [
    "### EX 18 : Subconsultas en declaración CASE para cálculos\n",
    "\n",
    "En el ejercicio a continuación, construiremos una consulta capaz de calcular la media de goles por partidos en:\n",
    "\n",
    "- Cada liga.\n",
    "- La diferencia de cada liga en torno al promedio de goles de todos los partidos.\n",
    "\n",
    "En la temporada 2013/2014."
   ]
  },
  {
   "cell_type": "code",
   "execution_count": 73,
   "metadata": {},
   "outputs": [
    {
     "output_type": "stream",
     "name": "stdout",
     "text": [
      "   sqlite://\n   sqlite:////Universidad/DataCamp/Python/intermediate_sql/SQL_SAFI.sqlite\n * sqlite:////Universidad/DataCamp/Python/intermediate_sql/european_soccer.sqlite\nDone.\n"
     ]
    },
    {
     "output_type": "execute_result",
     "data": {
      "text/plain": [
       "[(2.77,)]"
      ],
      "text/html": "<table>\n    <tr>\n        <th>ROUND(AVG(m.home_team_goal + m.away_team_goal), 2)</th>\n    </tr>\n    <tr>\n        <td>2.77</td>\n    </tr>\n</table>"
     },
     "metadata": {},
     "execution_count": 73
    }
   ],
   "source": [
    "# Construimos primero la subconsulta\n",
    "\n",
    "%sql SELECT ROUND(AVG(m.home_team_goal + m.away_team_goal), 2) \\\n",
    "FROM match AS m \\\n",
    "WHERE season = '2013/2014'"
   ]
  },
  {
   "cell_type": "code",
   "execution_count": 74,
   "metadata": {},
   "outputs": [
    {
     "output_type": "stream",
     "name": "stdout",
     "text": [
      "   sqlite://\n",
      "   sqlite:////Universidad/DataCamp/Python/intermediate_sql/SQL_SAFI.sqlite\n",
      " * sqlite:////Universidad/DataCamp/Python/intermediate_sql/european_soccer.sqlite\n",
      "Done.\n"
     ]
    },
    {
     "output_type": "execute_result",
     "data": {
      "text/plain": [
       "[('Belgium Jupiler League', 2.5, -0.27),\n",
       " ('England Premier League', 2.77, 0.0),\n",
       " ('France Ligue 1', 2.46, -0.31000000000000005),\n",
       " ('Germany 1. Bundesliga', 3.16, 0.3900000000000001),\n",
       " ('Italy Serie A', 2.72, -0.04999999999999982),\n",
       " ('Netherlands Eredivisie', 3.2, 0.43000000000000016),\n",
       " ('Poland Ekstraklasa', 2.64, -0.1299999999999999),\n",
       " ('Portugal Liga ZON Sagres', 2.37, -0.3999999999999999),\n",
       " ('Scotland Premier League', 2.75, -0.020000000000000018),\n",
       " ('Spain LIGA BBVA', 2.75, -0.020000000000000018),\n",
       " ('Switzerland Super League', 2.89, 0.1200000000000001)]"
      ],
      "text/html": "<table>\n    <tr>\n        <th>liga</th>\n        <th>promedio_liga</th>\n        <th>diff_media</th>\n    </tr>\n    <tr>\n        <td>Belgium Jupiler League</td>\n        <td>2.5</td>\n        <td>-0.27</td>\n    </tr>\n    <tr>\n        <td>England Premier League</td>\n        <td>2.77</td>\n        <td>0.0</td>\n    </tr>\n    <tr>\n        <td>France Ligue 1</td>\n        <td>2.46</td>\n        <td>-0.31000000000000005</td>\n    </tr>\n    <tr>\n        <td>Germany 1. Bundesliga</td>\n        <td>3.16</td>\n        <td>0.3900000000000001</td>\n    </tr>\n    <tr>\n        <td>Italy Serie A</td>\n        <td>2.72</td>\n        <td>-0.04999999999999982</td>\n    </tr>\n    <tr>\n        <td>Netherlands Eredivisie</td>\n        <td>3.2</td>\n        <td>0.43000000000000016</td>\n    </tr>\n    <tr>\n        <td>Poland Ekstraklasa</td>\n        <td>2.64</td>\n        <td>-0.1299999999999999</td>\n    </tr>\n    <tr>\n        <td>Portugal Liga ZON Sagres</td>\n        <td>2.37</td>\n        <td>-0.3999999999999999</td>\n    </tr>\n    <tr>\n        <td>Scotland Premier League</td>\n        <td>2.75</td>\n        <td>-0.020000000000000018</td>\n    </tr>\n    <tr>\n        <td>Spain LIGA BBVA</td>\n        <td>2.75</td>\n        <td>-0.020000000000000018</td>\n    </tr>\n    <tr>\n        <td>Switzerland Super League</td>\n        <td>2.89</td>\n        <td>0.1200000000000001</td>\n    </tr>\n</table>"
     },
     "metadata": {},
     "execution_count": 74
    }
   ],
   "source": [
    "%sql SELECT l.name AS liga, \\\n",
    "ROUND(AVG(m.home_team_goal + m.away_team_goal), 2) AS promedio_liga, \\\n",
    "ROUND(AVG(m.home_team_goal + m.away_team_goal), 2) - (SELECT ROUND(AVG(m.home_team_goal + m.away_team_goal), 2) \\\n",
    "FROM match AS m \\\n",
    "WHERE season = '2013/2014') AS diff_media \\\n",
    "FROM league AS l \\\n",
    "LEFT JOIN match AS m \\\n",
    "ON l.id = m.league_id \\\n",
    "WHERE season = '2013/2014' \\\n",
    "GROUP BY liga"
   ]
  },
  {
   "cell_type": "markdown",
   "metadata": {},
   "source": [
    "Podemos apreciar como la liga de Países Bajos tiende a tener una media mayor de goles por partido que el resto de las ligas."
   ]
  },
  {
   "cell_type": "markdown",
   "metadata": {},
   "source": [
    "## ¡Subconsultas en todos lados! ¡Y mejores prácticas!\n",
    "\n",
    "Ahora que hemos cubierto las formas en las que podemos utilizar subconsultas en SELECT, desde las cláusulas FROM y WHERE, ahora veremos:\n",
    "    \n",
    "- El uso de múltiples subconsultas en una consulta.\n",
    "\n",
    "- Algunas prácticas recomendadas para asegurarse de que las consultas sean lo más legibles posibles.\n",
    "\n",
    "En SQL, podemos incluir tantas subconsultas simples como necesitamos dentro de las múltiples cláusulas posibles. Sin embargo, las consultas pueden volverse:\n",
    "    \n",
    "- Largas y difíciles de leer rápidamente.\n",
    "\n",
    "\n",
    "Por ejemplo, algunas consultas pueden incluir subconsultas en:\n",
    "\n",
    "- SELECT.\n",
    "\n",
    "- FROM.\n",
    "\n",
    "- WHERE.\n",
    "\n",
    "Si suponemos un código extenso, las consultas SQL pueden suponer un dolor de cabeza a la hora de leerlas. En este sentido, veremos algunas de las mejores prácticas para leer y escribir consultas grandes.\n",
    "\n",
    "## Añadiendo formato a las consultas\n",
    "\n",
    "La mejor práctica que podemos comenzar al principio de nuestro viaje en SQL es formatear correctamente las consultas:\n",
    "    \n",
    "- Es importante alinear correctamente nuestros SELECT, FROM, WHERE y GROUP BY, como también toda la información contenida en ellas.\n",
    "\n",
    "De esta forma, nosotros y otras personas con las que trabajamos, podemos volver a una consulta guardada y saber fácilmente si estas declaraciones son parte de una consulta principal o una subconsulta.\n",
    "\n",
    "## Anotar consultas con comentarios\n",
    "\n",
    "También se considera una buena práctica anotar nuestras consultas con comentarios, en orden para decirle al usuario que la lee de qué trata, su sintaxis, etc. Esto lo podemos realizar con un bloque de comentario, con '/* */'."
   ]
  },
  {
   "cell_type": "code",
   "execution_count": 75,
   "metadata": {},
   "outputs": [
    {
     "output_type": "stream",
     "name": "stdout",
     "text": [
      "   sqlite://\n   sqlite:////Universidad/DataCamp/Python/intermediate_sql/SQL_SAFI.sqlite\n * sqlite:////Universidad/DataCamp/Python/intermediate_sql/european_soccer.sqlite\nDone.\n"
     ]
    },
    {
     "output_type": "execute_result",
     "data": {
      "text/plain": [
       "[('England', 4),\n",
       " ('France', 1),\n",
       " ('Germany', 1),\n",
       " ('Netherlands', 2),\n",
       " ('Scotland', 1),\n",
       " ('Spain', 5)]"
      ],
      "text/html": "<table>\n    <tr>\n        <th>pais</th>\n        <th>cantidad_partidos</th>\n    </tr>\n    <tr>\n        <td>England</td>\n        <td>4</td>\n    </tr>\n    <tr>\n        <td>France</td>\n        <td>1</td>\n    </tr>\n    <tr>\n        <td>Germany</td>\n        <td>1</td>\n    </tr>\n    <tr>\n        <td>Netherlands</td>\n        <td>2</td>\n    </tr>\n    <tr>\n        <td>Scotland</td>\n        <td>1</td>\n    </tr>\n    <tr>\n        <td>Spain</td>\n        <td>5</td>\n    </tr>\n</table>"
     },
     "metadata": {},
     "execution_count": 75
    }
   ],
   "source": [
    "%sql /* Veremos la cantidad de partidos por país con más de 10 goles */ \\\n",
    "SELECT c.name AS pais, \\\n",
    "COUNT(m.id) AS cantidad_partidos \\\n",
    "FROM country AS c \\\n",
    "LEFT JOIN match AS m \\\n",
    "ON m.country_id = c.id \\\n",
    "LEFT JOIN team AS t \\\n",
    "ON t.team_api_id = m.home_team_api_id \\\n",
    "WHERE (m.away_team_goal + m.home_team_goal >= 10) AND \\\n",
    "(t.team_api_id = m.home_team_api_id) \\\n",
    "GROUP BY pais\n",
    "\n"
   ]
  },
  {
   "cell_type": "markdown",
   "metadata": {},
   "source": [
    "También, podemos utilizar comentarios en línea con dos guiones. Se vería así:\n",
    "    \n",
    "SELECT col1,\n",
    "col2,\n",
    "col3\n",
    "FROM df -- ejemplo de comentario\n",
    "\n",
    "Cada pieza de información después de los '--' se trataría como un texto, incluso si es un comando SQL.\n",
    "\n",
    "## Nota\n",
    "\n",
    "Con la librería que estamos utilizando para leer SQL en Python no es posible realizarlo, pero se vería así una pieza de código SQL normal:\n",
    "    \n",
    "SELECT c.name AS pais, \n",
    "COUNT(m.id) AS cantidad_partidos \n",
    "FROM country AS c \n",
    "LEFT JOIN match AS m \n",
    "ON m.country_id = c.id -- coincidencia en id de países \n",
    "LEFT JOIN team AS t \n",
    "ON t.team_api_id = m.home_team_api_id -- coincidencia en id de equipo local\n",
    "WHERE (m.away_team_goal + m.home_team_goal >= 10) AND \n",
    "(t.team_api_id = m.home_team_api_id) \n",
    "GROUP BY pais\n",
    "\n",
    "En vez de utilizar '--', nos limitamos a utilizar '/* */' para que se logre leer:"
   ]
  },
  {
   "cell_type": "code",
   "execution_count": 76,
   "metadata": {},
   "outputs": [
    {
     "output_type": "stream",
     "name": "stdout",
     "text": [
      "   sqlite://\n",
      "   sqlite:////Universidad/DataCamp/Python/intermediate_sql/SQL_SAFI.sqlite\n",
      " * sqlite:////Universidad/DataCamp/Python/intermediate_sql/european_soccer.sqlite\n",
      "Done.\n"
     ]
    },
    {
     "output_type": "execute_result",
     "data": {
      "text/plain": [
       "[('England', 4),\n",
       " ('France', 1),\n",
       " ('Germany', 1),\n",
       " ('Netherlands', 2),\n",
       " ('Scotland', 1),\n",
       " ('Spain', 5)]"
      ],
      "text/html": "<table>\n    <tr>\n        <th>pais</th>\n        <th>cantidad_partidos</th>\n    </tr>\n    <tr>\n        <td>England</td>\n        <td>4</td>\n    </tr>\n    <tr>\n        <td>France</td>\n        <td>1</td>\n    </tr>\n    <tr>\n        <td>Germany</td>\n        <td>1</td>\n    </tr>\n    <tr>\n        <td>Netherlands</td>\n        <td>2</td>\n    </tr>\n    <tr>\n        <td>Scotland</td>\n        <td>1</td>\n    </tr>\n    <tr>\n        <td>Spain</td>\n        <td>5</td>\n    </tr>\n</table>"
     },
     "metadata": {},
     "execution_count": 76
    }
   ],
   "source": [
    "%sql /* Veremos la cantidad de partidos por país con más de 10 goles */ \\\n",
    "SELECT c.name AS pais, \\\n",
    "COUNT(m.id) AS cantidad_partidos \\\n",
    "FROM country AS c \\\n",
    "LEFT JOIN match AS m \\\n",
    "ON m.country_id = c.id /* coincidencia en id de países */ \\\n",
    "LEFT JOIN team AS t \\\n",
    "ON t.team_api_id = m.home_team_api_id /* coincidencia en id de equipo local */ \\\n",
    "WHERE (m.away_team_goal + m.home_team_goal >= 10) AND \\\n",
    "(t.team_api_id = m.home_team_api_id) \\\n",
    "GROUP BY pais"
   ]
  },
  {
   "cell_type": "markdown",
   "metadata": {},
   "source": [
    "## Indentar las consultas\n",
    "\n",
    "Además, debemos asegurarnos de sangrar correctamente, toda la información contenida en una subconsulta. De esta forma, podemos volver fácilmente a la consulta y comprender:\n",
    "    \n",
    "- Qué información es procesa primero.\n",
    "\n",
    "- Dónde necesitamos aplicar cambios.\n",
    "\n",
    "- Qué esperar de los cambios.\n",
    "\n",
    "En este sentido, debemos sangrar correctamente toda la información que forma parte de una columna única, como una declaración CASE larga, o una subconsulta complicada en SELECT. \n",
    "\n",
    "Por ejemplo:"
   ]
  },
  {
   "cell_type": "code",
   "execution_count": 77,
   "metadata": {},
   "outputs": [
    {
     "output_type": "stream",
     "name": "stdout",
     "text": [
      "   sqlite://\n   sqlite:////Universidad/DataCamp/Python/intermediate_sql/SQL_SAFI.sqlite\n * sqlite:////Universidad/DataCamp/Python/intermediate_sql/european_soccer.sqlite\nDone.\n"
     ]
    },
    {
     "output_type": "execute_result",
     "data": {
      "text/plain": [
       "[('2011-08-14 00:00:00', 10194, 8455, 'Chelsea perdió/empató'),\n",
       " ('2011-10-29 00:00:00', 8455, 9825, 'Chelsea perdió/empató'),\n",
       " ('2011-11-05 00:00:00', 8655, 8455, 'Chelsea ganó de visitante'),\n",
       " ('2011-11-20 00:00:00', 8455, 8650, 'Chelsea perdió/empató'),\n",
       " ('2011-11-26 00:00:00', 8455, 8602, 'Chelsea ganó en casa'),\n",
       " ('2011-12-03 00:00:00', 10261, 8455, 'Chelsea ganó de visitante'),\n",
       " ('2011-12-12 00:00:00', 8455, 8456, 'Chelsea ganó en casa'),\n",
       " ('2011-12-17 00:00:00', 8528, 8455, 'Chelsea perdió/empató'),\n",
       " ('2011-12-22 00:00:00', 8586, 8455, 'Chelsea perdió/empató'),\n",
       " ('2011-12-26 00:00:00', 8455, 9879, 'Chelsea perdió/empató')]"
      ],
      "text/html": "<table>\n    <tr>\n        <th>date</th>\n        <th>hometeam_id</th>\n        <th>awayteam_id</th>\n        <th>outcome</th>\n    </tr>\n    <tr>\n        <td>2011-08-14 00:00:00</td>\n        <td>10194</td>\n        <td>8455</td>\n        <td>Chelsea perdió/empató</td>\n    </tr>\n    <tr>\n        <td>2011-10-29 00:00:00</td>\n        <td>8455</td>\n        <td>9825</td>\n        <td>Chelsea perdió/empató</td>\n    </tr>\n    <tr>\n        <td>2011-11-05 00:00:00</td>\n        <td>8655</td>\n        <td>8455</td>\n        <td>Chelsea ganó de visitante</td>\n    </tr>\n    <tr>\n        <td>2011-11-20 00:00:00</td>\n        <td>8455</td>\n        <td>8650</td>\n        <td>Chelsea perdió/empató</td>\n    </tr>\n    <tr>\n        <td>2011-11-26 00:00:00</td>\n        <td>8455</td>\n        <td>8602</td>\n        <td>Chelsea ganó en casa</td>\n    </tr>\n    <tr>\n        <td>2011-12-03 00:00:00</td>\n        <td>10261</td>\n        <td>8455</td>\n        <td>Chelsea ganó de visitante</td>\n    </tr>\n    <tr>\n        <td>2011-12-12 00:00:00</td>\n        <td>8455</td>\n        <td>8456</td>\n        <td>Chelsea ganó en casa</td>\n    </tr>\n    <tr>\n        <td>2011-12-17 00:00:00</td>\n        <td>8528</td>\n        <td>8455</td>\n        <td>Chelsea perdió/empató</td>\n    </tr>\n    <tr>\n        <td>2011-12-22 00:00:00</td>\n        <td>8586</td>\n        <td>8455</td>\n        <td>Chelsea perdió/empató</td>\n    </tr>\n    <tr>\n        <td>2011-12-26 00:00:00</td>\n        <td>8455</td>\n        <td>9879</td>\n        <td>Chelsea perdió/empató</td>\n    </tr>\n</table>"
     },
     "metadata": {},
     "execution_count": 77
    }
   ],
   "source": [
    "%sql SELECT date, \\\n",
    "home_team_api_id AS hometeam_id, \\\n",
    "away_team_api_id AS awayteam_id, \\\n",
    "CASE WHEN home_team_goal > away_team_goal AND home_team_api_id = 8455 THEN 'Chelsea ganó en casa' \\\n",
    "WHEN home_team_goal < away_team_goal AND away_team_api_id = 8455 THEN 'Chelsea ganó de visitante' \\\n",
    "ELSE 'Chelsea perdió/empató' END AS outcome \\\n",
    "FROM Match \\\n",
    "WHERE season = '2011/2012' AND (hometeam_id = 8455 OR awayteam_id = 8455) \\\n",
    "LIMIT 10"
   ]
  },
  {
   "cell_type": "markdown",
   "metadata": {},
   "source": [
    "Así, podemos realizar un mejor seguimiento de todas las condiciones necesarias para configurar cada clausula WHEN, cada cláusula THEN, y como crean el resultado de la columna. Por ello, es importante sangrar o identar claramente, cada pieza de información en la declaración.\n",
    "\n",
    "En general, la instructora recomienda leer 'Guía de estilo SQL de Holywell', en inglés, 'Holywell's SQL Style Guide' para obtener una idea de todas las convenciones de formato cuando trabajemos con consultas SQL.\n",
    "\n",
    "## ¿Es la subconsulta necesaria?\n",
    "\n",
    "Para decidir si necesitamos o no una subconsulta, es importante saber que:\n",
    "\n",
    "- Cada subconsulta que agreguemos requiere potencia de cálculo adicional para generar sus resultados.\n",
    "\n",
    "    - Dependiendo del tamaño de la base de datos y la cantidad de registros que extraigamos en la consulta, puede aumentar significativamente la cantidad de tiempo que lleva ejecutarla. Por lo tanto, siempre vale la pena preguntar si es necesaria o no una subconsulta específica para obtener los resultados que necesitamos.\n",
    "    \n",
    "## Filtrar apropiadamente cada subconsulta\n",
    "\n",
    "Finalmente, el construir una consulta principal con múltiples subconsultas, debemos asegurarnos de que:\n",
    "\n",
    "- Nuestros filtros están colocados correctamente en cada subconsulta y, también, en la consulta principal, para generar resultados precisos.\n",
    "\n",
    "La consulta de la celda de abajo, por ejemplo, filtra la temporada 2013/2014 en dos lugares:\n",
    "\n",
    "- Una vez en la subconsulta SELECT.\n",
    "\n",
    "- Una vez en la consulta principal.\n",
    "\n",
    "Esto asegura que, todos los datos devueltos, sean solo sobre los partidos de la temporada 2013/2014."
   ]
  },
  {
   "cell_type": "code",
   "execution_count": 78,
   "metadata": {
    "scrolled": true
   },
   "outputs": [
    {
     "output_type": "stream",
     "name": "stdout",
     "text": [
      "   sqlite://\n",
      "   sqlite:////Universidad/DataCamp/Python/intermediate_sql/SQL_SAFI.sqlite\n",
      " * sqlite:////Universidad/DataCamp/Python/intermediate_sql/european_soccer.sqlite\n",
      "Done.\n"
     ]
    },
    {
     "output_type": "execute_result",
     "data": {
      "text/plain": [
       "[('Belgium', 2.5, 2.77),\n",
       " ('England', 2.77, 2.77),\n",
       " ('France', 2.46, 2.77),\n",
       " ('Germany', 3.16, 2.77),\n",
       " ('Italy', 2.72, 2.77),\n",
       " ('Netherlands', 3.2, 2.77),\n",
       " ('Poland', 2.64, 2.77),\n",
       " ('Portugal', 2.37, 2.77),\n",
       " ('Scotland', 2.75, 2.77),\n",
       " ('Spain', 2.75, 2.77),\n",
       " ('Switzerland', 2.89, 2.77)]"
      ],
      "text/html": "<table>\n    <tr>\n        <th>name</th>\n        <th>avg_goals</th>\n        <th>overall_avg</th>\n    </tr>\n    <tr>\n        <td>Belgium</td>\n        <td>2.5</td>\n        <td>2.77</td>\n    </tr>\n    <tr>\n        <td>England</td>\n        <td>2.77</td>\n        <td>2.77</td>\n    </tr>\n    <tr>\n        <td>France</td>\n        <td>2.46</td>\n        <td>2.77</td>\n    </tr>\n    <tr>\n        <td>Germany</td>\n        <td>3.16</td>\n        <td>2.77</td>\n    </tr>\n    <tr>\n        <td>Italy</td>\n        <td>2.72</td>\n        <td>2.77</td>\n    </tr>\n    <tr>\n        <td>Netherlands</td>\n        <td>3.2</td>\n        <td>2.77</td>\n    </tr>\n    <tr>\n        <td>Poland</td>\n        <td>2.64</td>\n        <td>2.77</td>\n    </tr>\n    <tr>\n        <td>Portugal</td>\n        <td>2.37</td>\n        <td>2.77</td>\n    </tr>\n    <tr>\n        <td>Scotland</td>\n        <td>2.75</td>\n        <td>2.77</td>\n    </tr>\n    <tr>\n        <td>Spain</td>\n        <td>2.75</td>\n        <td>2.77</td>\n    </tr>\n    <tr>\n        <td>Switzerland</td>\n        <td>2.89</td>\n        <td>2.77</td>\n    </tr>\n</table>"
     },
     "metadata": {},
     "execution_count": 78
    }
   ],
   "source": [
    "%sql SELECT c.name, \\\n",
    "ROUND(AVG(m.home_team_goal + m.away_team_goal), 2) AS avg_goals, \\\n",
    "(SELECT ROUND(AVG(home_team_goal + away_team_goal), 2) \\\n",
    "FROM match WHERE season = '2013/2014') AS overall_avg \\\n",
    "FROM match AS m \\\n",
    "LEFT JOIN country AS c \\\n",
    "ON c.id = m.country_id \\\n",
    "WHERE (m.season = '2013/2014') \\\n",
    "GROUP BY c.name"
   ]
  },
  {
   "cell_type": "markdown",
   "metadata": {},
   "source": [
    "## Ejercicios\n",
    "\n",
    "¡Es hora de practicar la creación de consultas complejas con múltiples subconsultas!"
   ]
  },
  {
   "source": [
    "### EX 19 : Las subconsultas en todas partes\n",
    "\n",
    "En este ejercicio, obtendremos los goles, en promedio, por etapa (recordemos que en las ligas de fútbol, los equipos van avanzando de etapa a medida obtienen puntos). Y además, los goles, en promedio:\n",
    "\n",
    "- Todo lo anterior, en torno a la temporada 2012/2013.\n",
    "\n",
    "- Recordar que, siempre, las subconsultas se deben colocar entre paréntesis."
   ],
   "cell_type": "markdown",
   "metadata": {}
  },
  {
   "cell_type": "code",
   "execution_count": 98,
   "metadata": {},
   "outputs": [
    {
     "output_type": "stream",
     "name": "stdout",
     "text": [
      "   sqlite://\n   sqlite:////Universidad/DataCamp/Python/intermediate_sql/SQL_SAFI.sqlite\n * sqlite:////Universidad/DataCamp/Python/intermediate_sql/european_soccer.sqlite\nDone.\n"
     ]
    },
    {
     "output_type": "execute_result",
     "data": {
      "text/plain": [
       "[(1, 2.68, 2.77),\n",
       " (2, 2.65, 2.77),\n",
       " (3, 2.83, 2.77),\n",
       " (4, 2.8, 2.77),\n",
       " (5, 2.61, 2.77),\n",
       " (6, 2.78, 2.77),\n",
       " (7, 2.69, 2.77),\n",
       " (8, 3.09, 2.77),\n",
       " (9, 2.7, 2.77),\n",
       " (10, 2.96, 2.77)]"
      ],
      "text/html": "<table>\n    <tr>\n        <th>etapa</th>\n        <th>media_etapa</th>\n        <th>media_partidos</th>\n    </tr>\n    <tr>\n        <td>1</td>\n        <td>2.68</td>\n        <td>2.77</td>\n    </tr>\n    <tr>\n        <td>2</td>\n        <td>2.65</td>\n        <td>2.77</td>\n    </tr>\n    <tr>\n        <td>3</td>\n        <td>2.83</td>\n        <td>2.77</td>\n    </tr>\n    <tr>\n        <td>4</td>\n        <td>2.8</td>\n        <td>2.77</td>\n    </tr>\n    <tr>\n        <td>5</td>\n        <td>2.61</td>\n        <td>2.77</td>\n    </tr>\n    <tr>\n        <td>6</td>\n        <td>2.78</td>\n        <td>2.77</td>\n    </tr>\n    <tr>\n        <td>7</td>\n        <td>2.69</td>\n        <td>2.77</td>\n    </tr>\n    <tr>\n        <td>8</td>\n        <td>3.09</td>\n        <td>2.77</td>\n    </tr>\n    <tr>\n        <td>9</td>\n        <td>2.7</td>\n        <td>2.77</td>\n    </tr>\n    <tr>\n        <td>10</td>\n        <td>2.96</td>\n        <td>2.77</td>\n    </tr>\n</table>"
     },
     "metadata": {},
     "execution_count": 98
    }
   ],
   "source": [
    "%sql SELECT m.stage AS etapa, \\\n",
    "ROUND(AVG(m.home_team_goal + m.away_team_goal), 2) AS media_etapa, \\\n",
    "ROUND((SELECT AVG(home_team_goal + away_team_goal) FROM match WHERE season = '2012/2013'), 2) AS media_partidos \\\n",
    "FROM match AS m \\\n",
    "WHERE m.season = '2012/2013' \\\n",
    "GROUP BY etapa \\\n",
    "ORDER BY etapa ASC \\\n",
    "LIMIT 10"
   ]
  },
  {
   "source": [
    "### EX 20 : Añadiendo una subconsulta en FROM\n",
    "\n",
    "En este ejercicio, obtendremos la etapa y goles por etapa, que, en promedio, sobrepasen a la media global de la base de datos.\n",
    "\n",
    "- Todo lo anterior, en torno a la temporada 2012/2013.\n",
    "\n",
    "- Recordar que, siempre, las subconsultas se deben colocar entre paréntesis."
   ],
   "cell_type": "markdown",
   "metadata": {}
  },
  {
   "cell_type": "code",
   "execution_count": 101,
   "metadata": {},
   "outputs": [
    {
     "output_type": "stream",
     "name": "stdout",
     "text": [
      "   sqlite://\n   sqlite:////Universidad/DataCamp/Python/intermediate_sql/SQL_SAFI.sqlite\n * sqlite:////Universidad/DataCamp/Python/intermediate_sql/european_soccer.sqlite\nDone.\n"
     ]
    },
    {
     "output_type": "execute_result",
     "data": {
      "text/plain": [
       "[(1, 2.68),\n",
       " (2, 2.65),\n",
       " (3, 2.83),\n",
       " (4, 2.8),\n",
       " (5, 2.61),\n",
       " (6, 2.78),\n",
       " (7, 2.69),\n",
       " (8, 3.09),\n",
       " (9, 2.7),\n",
       " (10, 2.96),\n",
       " (11, 2.92),\n",
       " (12, 3.23),\n",
       " (13, 2.68),\n",
       " (14, 2.56),\n",
       " (15, 2.76),\n",
       " (16, 2.72),\n",
       " (17, 2.85),\n",
       " (18, 2.76),\n",
       " (19, 2.7),\n",
       " (20, 2.96),\n",
       " (21, 2.9),\n",
       " (22, 2.53),\n",
       " (23, 3.01),\n",
       " (24, 2.42),\n",
       " (25, 2.62),\n",
       " (26, 2.55),\n",
       " (27, 2.8),\n",
       " (28, 2.67),\n",
       " (29, 2.63),\n",
       " (30, 2.87),\n",
       " (31, 3.06),\n",
       " (32, 2.75),\n",
       " (33, 3.1),\n",
       " (34, 2.68),\n",
       " (35, 2.43),\n",
       " (36, 2.9),\n",
       " (37, 2.39),\n",
       " (38, 3.17)]"
      ],
      "text/html": "<table>\n    <tr>\n        <th>etapa</th>\n        <th>media_etapa_goles</th>\n    </tr>\n    <tr>\n        <td>1</td>\n        <td>2.68</td>\n    </tr>\n    <tr>\n        <td>2</td>\n        <td>2.65</td>\n    </tr>\n    <tr>\n        <td>3</td>\n        <td>2.83</td>\n    </tr>\n    <tr>\n        <td>4</td>\n        <td>2.8</td>\n    </tr>\n    <tr>\n        <td>5</td>\n        <td>2.61</td>\n    </tr>\n    <tr>\n        <td>6</td>\n        <td>2.78</td>\n    </tr>\n    <tr>\n        <td>7</td>\n        <td>2.69</td>\n    </tr>\n    <tr>\n        <td>8</td>\n        <td>3.09</td>\n    </tr>\n    <tr>\n        <td>9</td>\n        <td>2.7</td>\n    </tr>\n    <tr>\n        <td>10</td>\n        <td>2.96</td>\n    </tr>\n    <tr>\n        <td>11</td>\n        <td>2.92</td>\n    </tr>\n    <tr>\n        <td>12</td>\n        <td>3.23</td>\n    </tr>\n    <tr>\n        <td>13</td>\n        <td>2.68</td>\n    </tr>\n    <tr>\n        <td>14</td>\n        <td>2.56</td>\n    </tr>\n    <tr>\n        <td>15</td>\n        <td>2.76</td>\n    </tr>\n    <tr>\n        <td>16</td>\n        <td>2.72</td>\n    </tr>\n    <tr>\n        <td>17</td>\n        <td>2.85</td>\n    </tr>\n    <tr>\n        <td>18</td>\n        <td>2.76</td>\n    </tr>\n    <tr>\n        <td>19</td>\n        <td>2.7</td>\n    </tr>\n    <tr>\n        <td>20</td>\n        <td>2.96</td>\n    </tr>\n    <tr>\n        <td>21</td>\n        <td>2.9</td>\n    </tr>\n    <tr>\n        <td>22</td>\n        <td>2.53</td>\n    </tr>\n    <tr>\n        <td>23</td>\n        <td>3.01</td>\n    </tr>\n    <tr>\n        <td>24</td>\n        <td>2.42</td>\n    </tr>\n    <tr>\n        <td>25</td>\n        <td>2.62</td>\n    </tr>\n    <tr>\n        <td>26</td>\n        <td>2.55</td>\n    </tr>\n    <tr>\n        <td>27</td>\n        <td>2.8</td>\n    </tr>\n    <tr>\n        <td>28</td>\n        <td>2.67</td>\n    </tr>\n    <tr>\n        <td>29</td>\n        <td>2.63</td>\n    </tr>\n    <tr>\n        <td>30</td>\n        <td>2.87</td>\n    </tr>\n    <tr>\n        <td>31</td>\n        <td>3.06</td>\n    </tr>\n    <tr>\n        <td>32</td>\n        <td>2.75</td>\n    </tr>\n    <tr>\n        <td>33</td>\n        <td>3.1</td>\n    </tr>\n    <tr>\n        <td>34</td>\n        <td>2.68</td>\n    </tr>\n    <tr>\n        <td>35</td>\n        <td>2.43</td>\n    </tr>\n    <tr>\n        <td>36</td>\n        <td>2.9</td>\n    </tr>\n    <tr>\n        <td>37</td>\n        <td>2.39</td>\n    </tr>\n    <tr>\n        <td>38</td>\n        <td>3.17</td>\n    </tr>\n</table>"
     },
     "metadata": {},
     "execution_count": 101
    }
   ],
   "source": [
    "# Realicemos primero la subconsulta para obtener los goles por etapa\n",
    "%sql SELECT stage AS etapa, ROUND(AVG(home_team_goal + away_team_goal),2) AS media_etapa_goles \\\n",
    "FROM match \\\n",
    "WHERE season = '2012/2013' \\\n",
    "GROUP BY stage"
   ]
  },
  {
   "cell_type": "code",
   "execution_count": 102,
   "metadata": {},
   "outputs": [
    {
     "output_type": "stream",
     "name": "stdout",
     "text": [
      "   sqlite://\n   sqlite:////Universidad/DataCamp/Python/intermediate_sql/SQL_SAFI.sqlite\n * sqlite:////Universidad/DataCamp/Python/intermediate_sql/european_soccer.sqlite\nDone.\n"
     ]
    },
    {
     "output_type": "execute_result",
     "data": {
      "text/plain": [
       "[(3, 2.83),\n",
       " (4, 2.8),\n",
       " (6, 2.78),\n",
       " (8, 3.09),\n",
       " (10, 2.96),\n",
       " (11, 2.92),\n",
       " (12, 3.23),\n",
       " (17, 2.85),\n",
       " (20, 2.96),\n",
       " (21, 2.9),\n",
       " (23, 3.01),\n",
       " (27, 2.8),\n",
       " (30, 2.87),\n",
       " (31, 3.06),\n",
       " (33, 3.1),\n",
       " (36, 2.9),\n",
       " (38, 3.17)]"
      ],
      "text/html": "<table>\n    <tr>\n        <th>etapa</th>\n        <th>media_etapa_goles</th>\n    </tr>\n    <tr>\n        <td>3</td>\n        <td>2.83</td>\n    </tr>\n    <tr>\n        <td>4</td>\n        <td>2.8</td>\n    </tr>\n    <tr>\n        <td>6</td>\n        <td>2.78</td>\n    </tr>\n    <tr>\n        <td>8</td>\n        <td>3.09</td>\n    </tr>\n    <tr>\n        <td>10</td>\n        <td>2.96</td>\n    </tr>\n    <tr>\n        <td>11</td>\n        <td>2.92</td>\n    </tr>\n    <tr>\n        <td>12</td>\n        <td>3.23</td>\n    </tr>\n    <tr>\n        <td>17</td>\n        <td>2.85</td>\n    </tr>\n    <tr>\n        <td>20</td>\n        <td>2.96</td>\n    </tr>\n    <tr>\n        <td>21</td>\n        <td>2.9</td>\n    </tr>\n    <tr>\n        <td>23</td>\n        <td>3.01</td>\n    </tr>\n    <tr>\n        <td>27</td>\n        <td>2.8</td>\n    </tr>\n    <tr>\n        <td>30</td>\n        <td>2.87</td>\n    </tr>\n    <tr>\n        <td>31</td>\n        <td>3.06</td>\n    </tr>\n    <tr>\n        <td>33</td>\n        <td>3.1</td>\n    </tr>\n    <tr>\n        <td>36</td>\n        <td>2.9</td>\n    </tr>\n    <tr>\n        <td>38</td>\n        <td>3.17</td>\n    </tr>\n</table>"
     },
     "metadata": {},
     "execution_count": 102
    }
   ],
   "source": [
    "# Finalicamos colocando la subconsulta en el query final\n",
    "%sql SELECT s.etapa, \\\n",
    "s.media_etapa_goles \\\n",
    "FROM (SELECT stage AS etapa, ROUND(AVG(home_team_goal + away_team_goal),2) AS media_etapa_goles \\\n",
    "FROM match \\\n",
    "WHERE season = '2012/2013' \\\n",
    "GROUP BY stage) AS s \\\n",
    "WHERE s.media_etapa_goles > (SELECT ROUND(AVG(home_team_goal + away_team_goal), 2) \\\n",
    "FROM match \\\n",
    "WHERE season = '2012/2013')"
   ]
  },
  {
   "source": [
    "### EX 21 : Añadiendo una subconsulta en SELECT\n",
    "\n",
    "En el ejercicio anterior, obtuvimos una subconsulta en la declaración FROM, obteniendo las etapas, como también, la media de goles por etapa que excedían el promedio global de goles en la temporada 2012/2013:\n",
    "\n",
    "- Crear una subconsulta en SELECT que obtenga la media de goles hechos en la temporada del 2012/2013.\n",
    "\n",
    "- Crear una subconsulta en FROM que calcule la media de goles hechos en cada etapa en la temporada 2012/2013.\n",
    "\n",
    "- Filtrar la consulta principal con aquellas medias de goles de etapas en las que dicha media excedió la media global de goles en la temporada 2012/2013.\n",
    "\n",
    "### Nota\n",
    "\n",
    "Se deben generar tres subconsultas en la respuesta de Datacamp, en ese sentido, esta respuesta es más corta, y en caso de introducirla, no funcionará."
   ],
   "cell_type": "markdown",
   "metadata": {}
  },
  {
   "cell_type": "code",
   "execution_count": 103,
   "metadata": {},
   "outputs": [
    {
     "output_type": "stream",
     "name": "stdout",
     "text": [
      "   sqlite://\n   sqlite:////Universidad/DataCamp/Python/intermediate_sql/SQL_SAFI.sqlite\n * sqlite:////Universidad/DataCamp/Python/intermediate_sql/european_soccer.sqlite\nDone.\n"
     ]
    },
    {
     "output_type": "execute_result",
     "data": {
      "text/plain": [
       "[(2.77,)]"
      ],
      "text/html": "<table>\n    <tr>\n        <th>ROUND(AVG(home_team_goal + away_team_goal), 2)</th>\n    </tr>\n    <tr>\n        <td>2.77</td>\n    </tr>\n</table>"
     },
     "metadata": {},
     "execution_count": 103
    }
   ],
   "source": [
    "# Primera subconsulta\n",
    "%sql SELECT ROUND(AVG(home_team_goal + away_team_goal), 2) AS media_global FROM match WHERE season = '2012/2013'"
   ]
  },
  {
   "cell_type": "code",
   "execution_count": 104,
   "metadata": {},
   "outputs": [
    {
     "output_type": "stream",
     "name": "stdout",
     "text": [
      "   sqlite://\n   sqlite:////Universidad/DataCamp/Python/intermediate_sql/SQL_SAFI.sqlite\n * sqlite:////Universidad/DataCamp/Python/intermediate_sql/european_soccer.sqlite\nDone.\n"
     ]
    },
    {
     "output_type": "execute_result",
     "data": {
      "text/plain": [
       "[(1, 2.59),\n",
       " (2, 2.72),\n",
       " (3, 2.61),\n",
       " (4, 2.74),\n",
       " (5, 2.58),\n",
       " (6, 2.68),\n",
       " (7, 2.74),\n",
       " (8, 2.94),\n",
       " (9, 2.58),\n",
       " (10, 2.79),\n",
       " (11, 2.73),\n",
       " (12, 2.69),\n",
       " (13, 2.77),\n",
       " (14, 2.77),\n",
       " (15, 2.71),\n",
       " (16, 2.7),\n",
       " (17, 2.75),\n",
       " (18, 2.61),\n",
       " (19, 2.65),\n",
       " (20, 2.61),\n",
       " (21, 2.68),\n",
       " (22, 2.65),\n",
       " (23, 2.74),\n",
       " (24, 2.56),\n",
       " (25, 2.55),\n",
       " (26, 2.69),\n",
       " (27, 2.58),\n",
       " (28, 2.7),\n",
       " (29, 2.58),\n",
       " (30, 2.73),\n",
       " (31, 2.85),\n",
       " (32, 2.75),\n",
       " (33, 2.91),\n",
       " (34, 2.89),\n",
       " (35, 2.79),\n",
       " (36, 2.85),\n",
       " (37, 2.65),\n",
       " (38, 3.09)]"
      ],
      "text/html": "<table>\n    <tr>\n        <th>stage</th>\n        <th>media_global</th>\n    </tr>\n    <tr>\n        <td>1</td>\n        <td>2.59</td>\n    </tr>\n    <tr>\n        <td>2</td>\n        <td>2.72</td>\n    </tr>\n    <tr>\n        <td>3</td>\n        <td>2.61</td>\n    </tr>\n    <tr>\n        <td>4</td>\n        <td>2.74</td>\n    </tr>\n    <tr>\n        <td>5</td>\n        <td>2.58</td>\n    </tr>\n    <tr>\n        <td>6</td>\n        <td>2.68</td>\n    </tr>\n    <tr>\n        <td>7</td>\n        <td>2.74</td>\n    </tr>\n    <tr>\n        <td>8</td>\n        <td>2.94</td>\n    </tr>\n    <tr>\n        <td>9</td>\n        <td>2.58</td>\n    </tr>\n    <tr>\n        <td>10</td>\n        <td>2.79</td>\n    </tr>\n    <tr>\n        <td>11</td>\n        <td>2.73</td>\n    </tr>\n    <tr>\n        <td>12</td>\n        <td>2.69</td>\n    </tr>\n    <tr>\n        <td>13</td>\n        <td>2.77</td>\n    </tr>\n    <tr>\n        <td>14</td>\n        <td>2.77</td>\n    </tr>\n    <tr>\n        <td>15</td>\n        <td>2.71</td>\n    </tr>\n    <tr>\n        <td>16</td>\n        <td>2.7</td>\n    </tr>\n    <tr>\n        <td>17</td>\n        <td>2.75</td>\n    </tr>\n    <tr>\n        <td>18</td>\n        <td>2.61</td>\n    </tr>\n    <tr>\n        <td>19</td>\n        <td>2.65</td>\n    </tr>\n    <tr>\n        <td>20</td>\n        <td>2.61</td>\n    </tr>\n    <tr>\n        <td>21</td>\n        <td>2.68</td>\n    </tr>\n    <tr>\n        <td>22</td>\n        <td>2.65</td>\n    </tr>\n    <tr>\n        <td>23</td>\n        <td>2.74</td>\n    </tr>\n    <tr>\n        <td>24</td>\n        <td>2.56</td>\n    </tr>\n    <tr>\n        <td>25</td>\n        <td>2.55</td>\n    </tr>\n    <tr>\n        <td>26</td>\n        <td>2.69</td>\n    </tr>\n    <tr>\n        <td>27</td>\n        <td>2.58</td>\n    </tr>\n    <tr>\n        <td>28</td>\n        <td>2.7</td>\n    </tr>\n    <tr>\n        <td>29</td>\n        <td>2.58</td>\n    </tr>\n    <tr>\n        <td>30</td>\n        <td>2.73</td>\n    </tr>\n    <tr>\n        <td>31</td>\n        <td>2.85</td>\n    </tr>\n    <tr>\n        <td>32</td>\n        <td>2.75</td>\n    </tr>\n    <tr>\n        <td>33</td>\n        <td>2.91</td>\n    </tr>\n    <tr>\n        <td>34</td>\n        <td>2.89</td>\n    </tr>\n    <tr>\n        <td>35</td>\n        <td>2.79</td>\n    </tr>\n    <tr>\n        <td>36</td>\n        <td>2.85</td>\n    </tr>\n    <tr>\n        <td>37</td>\n        <td>2.65</td>\n    </tr>\n    <tr>\n        <td>38</td>\n        <td>3.09</td>\n    </tr>\n</table>"
     },
     "metadata": {},
     "execution_count": 104
    }
   ],
   "source": [
    "# Segunda subconsulta\n",
    "%sql SELECT stage, \\\n",
    "ROUND(AVG(home_team_goal + away_team_goal), 2) AS media_etapa FROM match GROUP BY stage"
   ]
  },
  {
   "cell_type": "code",
   "execution_count": 117,
   "metadata": {},
   "outputs": [
    {
     "output_type": "stream",
     "name": "stdout",
     "text": [
      "   sqlite://\n",
      "   sqlite:////Universidad/DataCamp/Python/intermediate_sql/SQL_SAFI.sqlite\n",
      " * sqlite:////Universidad/DataCamp/Python/intermediate_sql/european_soccer.sqlite\n",
      "Done.\n"
     ]
    },
    {
     "output_type": "execute_result",
     "data": {
      "text/plain": [
       "[(3, 2.83, 2.77),\n",
       " (4, 2.8, 2.77),\n",
       " (6, 2.78, 2.77),\n",
       " (8, 3.09, 2.77),\n",
       " (10, 2.96, 2.77),\n",
       " (11, 2.92, 2.77),\n",
       " (12, 3.23, 2.77),\n",
       " (17, 2.85, 2.77),\n",
       " (20, 2.96, 2.77),\n",
       " (21, 2.9, 2.77),\n",
       " (23, 3.01, 2.77),\n",
       " (27, 2.8, 2.77),\n",
       " (30, 2.87, 2.77),\n",
       " (31, 3.06, 2.77),\n",
       " (33, 3.1, 2.77),\n",
       " (36, 2.9, 2.77),\n",
       " (38, 3.17, 2.77)]"
      ],
      "text/html": "<table>\n    <tr>\n        <th>etapa</th>\n        <th>media_etapa</th>\n        <th>media_global</th>\n    </tr>\n    <tr>\n        <td>3</td>\n        <td>2.83</td>\n        <td>2.77</td>\n    </tr>\n    <tr>\n        <td>4</td>\n        <td>2.8</td>\n        <td>2.77</td>\n    </tr>\n    <tr>\n        <td>6</td>\n        <td>2.78</td>\n        <td>2.77</td>\n    </tr>\n    <tr>\n        <td>8</td>\n        <td>3.09</td>\n        <td>2.77</td>\n    </tr>\n    <tr>\n        <td>10</td>\n        <td>2.96</td>\n        <td>2.77</td>\n    </tr>\n    <tr>\n        <td>11</td>\n        <td>2.92</td>\n        <td>2.77</td>\n    </tr>\n    <tr>\n        <td>12</td>\n        <td>3.23</td>\n        <td>2.77</td>\n    </tr>\n    <tr>\n        <td>17</td>\n        <td>2.85</td>\n        <td>2.77</td>\n    </tr>\n    <tr>\n        <td>20</td>\n        <td>2.96</td>\n        <td>2.77</td>\n    </tr>\n    <tr>\n        <td>21</td>\n        <td>2.9</td>\n        <td>2.77</td>\n    </tr>\n    <tr>\n        <td>23</td>\n        <td>3.01</td>\n        <td>2.77</td>\n    </tr>\n    <tr>\n        <td>27</td>\n        <td>2.8</td>\n        <td>2.77</td>\n    </tr>\n    <tr>\n        <td>30</td>\n        <td>2.87</td>\n        <td>2.77</td>\n    </tr>\n    <tr>\n        <td>31</td>\n        <td>3.06</td>\n        <td>2.77</td>\n    </tr>\n    <tr>\n        <td>33</td>\n        <td>3.1</td>\n        <td>2.77</td>\n    </tr>\n    <tr>\n        <td>36</td>\n        <td>2.9</td>\n        <td>2.77</td>\n    </tr>\n    <tr>\n        <td>38</td>\n        <td>3.17</td>\n        <td>2.77</td>\n    </tr>\n</table>"
     },
     "metadata": {},
     "execution_count": 117
    }
   ],
   "source": [
    "# Query final\n",
    "%sql SELECT \\\n",
    " s1.etapa, \\\n",
    "s1.media_etapa, \\\n",
    "(SELECT ROUND(AVG(home_team_goal + away_team_goal), 2) FROM match WHERE season = '2012/2013') AS media_global \\\n",
    "FROM (SELECT stage AS etapa, season AS temporada, \\\n",
    "ROUND(AVG(home_team_goal + away_team_goal), 2) AS media_etapa FROM match WHERE temporada = '2012/2013' GROUP BY stage) AS s1 \\\n",
    "WHERE (s1.media_etapa > media_global) AND (s1.temporada = '2012/2013')"
   ]
  }
 ],
 "metadata": {
  "kernelspec": {
   "display_name": "Python 3",
   "language": "python",
   "name": "python3"
  },
  "language_info": {
   "codemirror_mode": {
    "name": "ipython",
    "version": 3
   },
   "file_extension": ".py",
   "mimetype": "text/x-python",
   "name": "python",
   "nbconvert_exporter": "python",
   "pygments_lexer": "ipython3",
   "version": "3.7.6-final"
  }
 },
 "nbformat": 4,
 "nbformat_minor": 2
}