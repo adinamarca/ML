{
 "metadata": {
  "language_info": {
   "codemirror_mode": {
    "name": "ipython",
    "version": 3
   },
   "file_extension": ".py",
   "mimetype": "text/x-python",
   "name": "python",
   "nbconvert_exporter": "python",
   "pygments_lexer": "ipython3",
   "version": "3.7.6-final"
  },
  "orig_nbformat": 2,
  "kernelspec": {
   "name": "python3",
   "display_name": "Python 3",
   "language": "python"
  }
 },
 "nbformat": 4,
 "nbformat_minor": 2,
 "cells": [
  {
   "source": [
    "## Intermediate SQL por Datacamp\n",
    "\n",
    "~ Para ejecutar SQL desde un notebook de Jupyter, [link en Datacamp](https://www.datacamp.com/community/tutorials/sql-interface-within-jupyterlab).\n",
    "\n",
    "<img src=\"1.jpeg\"></img>"
   ],
   "cell_type": "markdown",
   "metadata": {}
  },
  {
   "source": [
    "## Importamos librerías y extensiones"
   ],
   "cell_type": "markdown",
   "metadata": {}
  },
  {
   "cell_type": "code",
   "execution_count": 1,
   "metadata": {},
   "outputs": [],
   "source": [
    "# Importamos la librería sqlalchemy, que nos permite ejecutar código SQL adaptado a sintaxis simple y de forma Pythonica\n",
    "import sqlalchemy\n",
    "\n",
    "# Cargamos el módulo sqlite\n",
    "%load_ext sql\n",
    "\n",
    "# Cargamos la extensión ipython-sql\n",
    "%sql sqlite://\n"
   ]
  },
  {
   "source": [
    "## Probemos SQLITE"
   ],
   "cell_type": "markdown",
   "metadata": {}
  },
  {
   "cell_type": "code",
   "execution_count": 2,
   "metadata": {},
   "outputs": [],
   "source": [
    "# Cargamos la base de datos (cambiar directorio, sin especificar el disco duro)\n",
    "%sql sqlite:////Universidad/DataCamp/Python/intermediate_sql/SQL_SAFI.sqlite"
   ]
  },
  {
   "source": [
    "## Seleccionamos y probamos con pandas"
   ],
   "cell_type": "markdown",
   "metadata": {}
  },
  {
   "cell_type": "code",
   "execution_count": 3,
   "metadata": {},
   "outputs": [],
   "source": [
    "# Importamos numpy pandas\n",
    "import numpy as np\n",
    "import pandas as pd"
   ]
  },
  {
   "cell_type": "code",
   "execution_count": 4,
   "metadata": {},
   "outputs": [
    {
     "output_type": "stream",
     "name": "stdout",
     "text": [
      "   sqlite://\n * sqlite:////Universidad/DataCamp/Python/intermediate_sql/SQL_SAFI.sqlite\nDone.\n<class 'sql.run.ResultSet'>\n   Id  plot_Id  crop_Id  D05_times D_curr_crop  D_repeat_times_count\n0   1        1        1          1       maize                     1\n1   1        2        1          1       maize                     1\n2   2        1        1          1       maize                     1\n3   2        2        1          1    tomatoes                     1\n4   2        3        1          1   vegetable                     1\n<class 'pandas.core.frame.DataFrame'>\nRangeIndex: 1044 entries, 0 to 1043\nData columns (total 6 columns):\n #   Column                Non-Null Count  Dtype \n---  ------                --------------  ----- \n 0   Id                    1044 non-null   int64 \n 1   plot_Id               1044 non-null   int64 \n 2   crop_Id               1044 non-null   int64 \n 3   D05_times             1044 non-null   int64 \n 4   D_curr_crop           1039 non-null   object\n 5   D_repeat_times_count  1044 non-null   int64 \ndtypes: int64(5), object(1)\nmemory usage: 49.1+ KB\n"
     ]
    }
   ],
   "source": [
    "# Seleccionamos algunos datos para probar\n",
    "resultado = %sql SELECT * FROM Crops\n",
    "\n",
    "# Vemos el tipo de objeto que es \"resultado\"\n",
    "print(type(resultado))\n",
    "\n",
    "# Convertimos el resultado SQL a DataFrame con Pandas\n",
    "df_resultado = resultado.DataFrame()\n",
    "\n",
    "# Cinco primeras filas del DataFrame\n",
    "print(df_resultado.head())\n",
    "\n",
    "# Vemos el resumen del DataFrame\n",
    "df_resultado.info()"
   ]
  },
  {
   "source": [
    "## SQL Intermedio\n",
    "\n",
    "<img src=\"2.png\"></img>\n",
    "\n",
    "Bienvenidos a SQL intermedio. SQL es una poderosa herramienta para trabajar con bases de datos relacionales. Con un conocimiento intermedio de SQL, obtendremos la capacidad de acceder y crear conjuntos de datos de varias tablas en una base de datos relacional, para responder a nuestras preguntas sobre ciencia de datos.\n",
    "\n",
    "En este curso, aprenderemos específicamente a:\n",
    "\n",
    "- Dar forma, transformar y manipular datos utilizando la instrucción CASE.\n",
    "\n",
    "- Subconsultas simples.\n",
    "\n",
    "- Subconsultas correlacionadas.\n",
    "\n",
    "- Funciones de ventana.\n",
    "\n",
    "Antes de tomar este curso, deberíamos sentirnos cómodos trabajando con temas introductorios de SQL, como seleccionando datos de una base de datos usando funciones aritméticas, declaraciones GROUP BY y cláusulas WHERE para filtrar datos.\n",
    "\n",
    "También debe estar familiarizado con la unión de datos con LEFT JOIN, RIGHT JOIN, INNER JOIN y OUTER JOIN. En este curso, utilizaremos y desarrollaremos estos temas para interactuar con nuestra base de datos.\n",
    "\n",
    "Para este curso, utilizaremos una base de datos del fútbol europeo, 'European soccer database', que es una base de datos relacional que contiene datos sobre más de 25.000 partidos, 300 equipos y 10.000 jugadores en Europa entre 2008 y 2016.\n",
    "\n",
    "## Carguemos la base de datos que utilizaremos"
   ],
   "cell_type": "markdown",
   "metadata": {}
  },
  {
   "cell_type": "code",
   "execution_count": 5,
   "metadata": {},
   "outputs": [],
   "source": [
    "# Cargamos la base de datos\n",
    "%sql sqlite:////Universidad/DataCamp/Python/intermediate_sql/european_soccer.sqlite"
   ]
  },
  {
   "source": [
    "Los datos están contenidos en 4 tablas: país, liga, equipo y partido."
   ],
   "cell_type": "markdown",
   "metadata": {}
  },
  {
   "cell_type": "code",
   "execution_count": 6,
   "metadata": {},
   "outputs": [
    {
     "output_type": "stream",
     "name": "stdout",
     "text": [
      "   sqlite://\n",
      "   sqlite:////Universidad/DataCamp/Python/intermediate_sql/SQL_SAFI.sqlite\n",
      " * sqlite:////Universidad/DataCamp/Python/intermediate_sql/european_soccer.sqlite\n",
      "Done.\n"
     ]
    },
    {
     "output_type": "execute_result",
     "data": {
      "text/plain": [
       "[('Belgium Jupiler League', 1728),\n",
       " ('England Premier League', 3040),\n",
       " ('France Ligue 1', 3040),\n",
       " ('Germany 1. Bundesliga', 2448),\n",
       " ('Italy Serie A', 3017),\n",
       " ('Netherlands Eredivisie', 2448),\n",
       " ('Poland Ekstraklasa', 1920),\n",
       " ('Portugal Liga ZON Sagres', 2052),\n",
       " ('Scotland Premier League', 1824),\n",
       " ('Spain LIGA BBVA', 3040),\n",
       " ('Switzerland Super League', 1422)]"
      ],
      "text/html": "<table>\n    <tr>\n        <th>league</th>\n        <th>matches</th>\n    </tr>\n    <tr>\n        <td>Belgium Jupiler League</td>\n        <td>1728</td>\n    </tr>\n    <tr>\n        <td>England Premier League</td>\n        <td>3040</td>\n    </tr>\n    <tr>\n        <td>France Ligue 1</td>\n        <td>3040</td>\n    </tr>\n    <tr>\n        <td>Germany 1. Bundesliga</td>\n        <td>2448</td>\n    </tr>\n    <tr>\n        <td>Italy Serie A</td>\n        <td>3017</td>\n    </tr>\n    <tr>\n        <td>Netherlands Eredivisie</td>\n        <td>2448</td>\n    </tr>\n    <tr>\n        <td>Poland Ekstraklasa</td>\n        <td>1920</td>\n    </tr>\n    <tr>\n        <td>Portugal Liga ZON Sagres</td>\n        <td>2052</td>\n    </tr>\n    <tr>\n        <td>Scotland Premier League</td>\n        <td>1824</td>\n    </tr>\n    <tr>\n        <td>Spain LIGA BBVA</td>\n        <td>3040</td>\n    </tr>\n    <tr>\n        <td>Switzerland Super League</td>\n        <td>1422</td>\n    </tr>\n</table>"
     },
     "metadata": {},
     "execution_count": 6
    }
   ],
   "source": [
    "# Selecting from European Soccer Database\n",
    "%sql SELECT l.name AS league, COUNT(m.country_id) AS matches \\\n",
    "FROM league AS l \\\n",
    "LEFT JOIN match AS m \\\n",
    "ON l.country_id = m.country_id \\\n",
    "GROUP BY l.name"
   ]
  },
  {
   "source": [
    "Seleccionar datos de estas tablas es bastante simple. La consulta que vemos aquí, te da el número de partidos jugados en cada una de las 11 ligas enumeradas en la tabla 'Liga'.\n",
    "\n",
    "Digamos que queremos comparar la cantidad de victorias del equipo local, victorias del equipo visitante y empates en la temporada 2013/2014.\n",
    "\n",
    "La tabla 'coincidencia' ahora tiene dos columnas relevantes: home_goal y away_goal.\n",
    "\n",
    "## Nota\n",
    "\n",
    "En Datacamp se renombró las columnas, quitando la etiqueta 'team' de las columnas de goles."
   ],
   "cell_type": "markdown",
   "metadata": {}
  },
  {
   "cell_type": "code",
   "execution_count": 7,
   "metadata": {},
   "outputs": [
    {
     "output_type": "stream",
     "name": "stdout",
     "text": [
      "   sqlite://\n   sqlite:////Universidad/DataCamp/Python/intermediate_sql/SQL_SAFI.sqlite\n * sqlite:////Universidad/DataCamp/Python/intermediate_sql/european_soccer.sqlite\nDone.\n"
     ]
    },
    {
     "output_type": "execute_result",
     "data": {
      "text/plain": [
       "[('2014-03-29 00:00:00', 2, 0),\n",
       " ('2014-03-29 00:00:00', 0, 1),\n",
       " ('2014-04-05 00:00:00', 1, 0),\n",
       " ('2014-04-05 00:00:00', 0, 0),\n",
       " ('2014-04-12 00:00:00', 2, 1),\n",
       " ('2014-04-12 00:00:00', 2, 0),\n",
       " ('2014-04-19 00:00:00', 2, 4),\n",
       " ('2014-04-19 00:00:00', 0, 2),\n",
       " ('2014-04-26 00:00:00', 4, 2),\n",
       " ('2014-04-26 00:00:00', 1, 1)]"
      ],
      "text/html": "<table>\n    <tr>\n        <th>date</th>\n        <th>home_team_goal</th>\n        <th>away_team_goal</th>\n    </tr>\n    <tr>\n        <td>2014-03-29 00:00:00</td>\n        <td>2</td>\n        <td>0</td>\n    </tr>\n    <tr>\n        <td>2014-03-29 00:00:00</td>\n        <td>0</td>\n        <td>1</td>\n    </tr>\n    <tr>\n        <td>2014-04-05 00:00:00</td>\n        <td>1</td>\n        <td>0</td>\n    </tr>\n    <tr>\n        <td>2014-04-05 00:00:00</td>\n        <td>0</td>\n        <td>0</td>\n    </tr>\n    <tr>\n        <td>2014-04-12 00:00:00</td>\n        <td>2</td>\n        <td>1</td>\n    </tr>\n    <tr>\n        <td>2014-04-12 00:00:00</td>\n        <td>2</td>\n        <td>0</td>\n    </tr>\n    <tr>\n        <td>2014-04-19 00:00:00</td>\n        <td>2</td>\n        <td>4</td>\n    </tr>\n    <tr>\n        <td>2014-04-19 00:00:00</td>\n        <td>0</td>\n        <td>2</td>\n    </tr>\n    <tr>\n        <td>2014-04-26 00:00:00</td>\n        <td>4</td>\n        <td>2</td>\n    </tr>\n    <tr>\n        <td>2014-04-26 00:00:00</td>\n        <td>1</td>\n        <td>1</td>\n    </tr>\n</table>"
     },
     "metadata": {},
     "execution_count": 7
    }
   ],
   "source": [
    "%sql SELECT date, home_team_goal, away_team_goal \\\n",
    "FROM match \\\n",
    "WHERE season = '2013/2014' \\\n",
    "LIMIT 10"
   ]
  },
  {
   "source": [
    "Potencialmente, podemos agregar filtros a la cláusula WHERE, seleccionando victorias, derrotas y empates por separado, pero eso no es muy eficiente si deseamos comparar estos resultados en un solo conjunto de datos."
   ],
   "cell_type": "markdown",
   "metadata": {}
  },
  {
   "cell_type": "code",
   "execution_count": 8,
   "metadata": {},
   "outputs": [
    {
     "output_type": "stream",
     "name": "stdout",
     "text": [
      "   sqlite://\n   sqlite:////Universidad/DataCamp/Python/intermediate_sql/SQL_SAFI.sqlite\n * sqlite:////Universidad/DataCamp/Python/intermediate_sql/european_soccer.sqlite\nDone.\n"
     ]
    },
    {
     "output_type": "execute_result",
     "data": {
      "text/plain": [
       "[('2014-03-29 00:00:00', 1237, 2, 0),\n",
       " ('2014-04-05 00:00:00', 1239, 1, 0),\n",
       " ('2014-04-12 00:00:00', 1241, 2, 1),\n",
       " ('2014-04-12 00:00:00', 1242, 2, 0),\n",
       " ('2014-04-26 00:00:00', 1245, 4, 2),\n",
       " ('2014-05-03 00:00:00', 1248, 4, 0),\n",
       " ('2013-08-18 00:00:00', 3630, 2, 0),\n",
       " ('2013-08-17 00:00:00', 3632, 1, 0),\n",
       " ('2013-08-19 00:00:00', 3633, 4, 0),\n",
       " ('2013-08-17 00:00:00', 3638, 2, 0)]"
      ],
      "text/html": "<table>\n    <tr>\n        <th>date</th>\n        <th>id</th>\n        <th>home_team_goal</th>\n        <th>away_team_goal</th>\n    </tr>\n    <tr>\n        <td>2014-03-29 00:00:00</td>\n        <td>1237</td>\n        <td>2</td>\n        <td>0</td>\n    </tr>\n    <tr>\n        <td>2014-04-05 00:00:00</td>\n        <td>1239</td>\n        <td>1</td>\n        <td>0</td>\n    </tr>\n    <tr>\n        <td>2014-04-12 00:00:00</td>\n        <td>1241</td>\n        <td>2</td>\n        <td>1</td>\n    </tr>\n    <tr>\n        <td>2014-04-12 00:00:00</td>\n        <td>1242</td>\n        <td>2</td>\n        <td>0</td>\n    </tr>\n    <tr>\n        <td>2014-04-26 00:00:00</td>\n        <td>1245</td>\n        <td>4</td>\n        <td>2</td>\n    </tr>\n    <tr>\n        <td>2014-05-03 00:00:00</td>\n        <td>1248</td>\n        <td>4</td>\n        <td>0</td>\n    </tr>\n    <tr>\n        <td>2013-08-18 00:00:00</td>\n        <td>3630</td>\n        <td>2</td>\n        <td>0</td>\n    </tr>\n    <tr>\n        <td>2013-08-17 00:00:00</td>\n        <td>3632</td>\n        <td>1</td>\n        <td>0</td>\n    </tr>\n    <tr>\n        <td>2013-08-19 00:00:00</td>\n        <td>3633</td>\n        <td>4</td>\n        <td>0</td>\n    </tr>\n    <tr>\n        <td>2013-08-17 00:00:00</td>\n        <td>3638</td>\n        <td>2</td>\n        <td>0</td>\n    </tr>\n</table>"
     },
     "metadata": {},
     "execution_count": 8
    }
   ],
   "source": [
    "%sql SELECT date, id, home_team_goal, away_team_goal \\\n",
    "FROM match \\\n",
    "WHERE season = '2013/2014' \\\n",
    "AND home_team_goal > away_team_goal \\\n",
    "LIMIT 10"
   ]
  },
  {
   "source": [
    "Aquí es donde entra la instrucción CASE. Las declaraciones CASE son la versión de SQL de una declaración condicional de otros lenguajes de programación 'IF'.\n",
    "\n",
    "Las declaraciones de casos tienen tres partes: una cláusula WHEN, una cláusula THEN y una cláusula ELSE.\n"
   ],
   "cell_type": "markdown",
   "metadata": {}
  },
  {
   "source": [
    "print( \\\n",
    "\"\"\" \n",
    "CASE WHEN x = 1 THEN 'a'\n",
    "    WHEN x = 2 THEN 'b'\n",
    "    ELSE 'c' END AS new_column \n",
    "\"\"\")"
   ],
   "cell_type": "code",
   "metadata": {},
   "execution_count": 9,
   "outputs": [
    {
     "output_type": "stream",
     "name": "stdout",
     "text": [
      " \nCASE WHEN x = 1 THEN 'a'\n    WHEN x = 2 THEN 'b'\n    ELSE 'c' END AS new_column \n\n"
     ]
    }
   ]
  },
  {
   "source": [
    "- La primera parte, la cláusula WHEN, prueba una condición determinada, por ejemplo X = 1, si esta condición es VERDADERA, devuelve el elemento que especifica después de su cláusula WHEN.\n",
    "\n",
    "- Podemos crear varias condiciones enumerando las declaraciones WHEN y THEN dentro de la misma declaración CASE.\n",
    "\n",
    "- Luego, la instrucción CASE finaliza con una cláusula ELSE que devuelve un valor especificado si todas sus declaraciones WHEN no son verdaderas.\n",
    "\n",
    "- Al terminar la declaración, debemos asegurarnos de incluir el término END y de darle un alias.\n",
    "\n",
    "- La declaración CASE completa se evaluará en una nueva columna en su consulta SQL.\n",
    "\n"
   ],
   "cell_type": "markdown",
   "metadata": {}
  },
  {
   "cell_type": "code",
   "execution_count": 10,
   "metadata": {},
   "outputs": [
    {
     "output_type": "stream",
     "name": "stdout",
     "text": [
      "   sqlite://\n",
      "   sqlite:////Universidad/DataCamp/Python/intermediate_sql/SQL_SAFI.sqlite\n",
      " * sqlite:////Universidad/DataCamp/Python/intermediate_sql/european_soccer.sqlite\n",
      "Done.\n"
     ]
    },
    {
     "output_type": "execute_result",
     "data": {
      "text/plain": [
       "[(1237, 2, 0, 'Home Team Win'),\n",
       " (1238, 0, 1, 'Away Team Win'),\n",
       " (1239, 1, 0, 'Home Team Win'),\n",
       " (1240, 0, 0, 'Tie'),\n",
       " (1241, 2, 1, 'Home Team Win'),\n",
       " (1242, 2, 0, 'Home Team Win'),\n",
       " (1243, 2, 4, 'Away Team Win'),\n",
       " (1244, 0, 2, 'Away Team Win'),\n",
       " (1245, 4, 2, 'Home Team Win'),\n",
       " (1246, 1, 1, 'Tie')]"
      ],
      "text/html": "<table>\n    <tr>\n        <th>id</th>\n        <th>home_team_goal</th>\n        <th>away_team_goal</th>\n        <th>outcome</th>\n    </tr>\n    <tr>\n        <td>1237</td>\n        <td>2</td>\n        <td>0</td>\n        <td>Home Team Win</td>\n    </tr>\n    <tr>\n        <td>1238</td>\n        <td>0</td>\n        <td>1</td>\n        <td>Away Team Win</td>\n    </tr>\n    <tr>\n        <td>1239</td>\n        <td>1</td>\n        <td>0</td>\n        <td>Home Team Win</td>\n    </tr>\n    <tr>\n        <td>1240</td>\n        <td>0</td>\n        <td>0</td>\n        <td>Tie</td>\n    </tr>\n    <tr>\n        <td>1241</td>\n        <td>2</td>\n        <td>1</td>\n        <td>Home Team Win</td>\n    </tr>\n    <tr>\n        <td>1242</td>\n        <td>2</td>\n        <td>0</td>\n        <td>Home Team Win</td>\n    </tr>\n    <tr>\n        <td>1243</td>\n        <td>2</td>\n        <td>4</td>\n        <td>Away Team Win</td>\n    </tr>\n    <tr>\n        <td>1244</td>\n        <td>0</td>\n        <td>2</td>\n        <td>Away Team Win</td>\n    </tr>\n    <tr>\n        <td>1245</td>\n        <td>4</td>\n        <td>2</td>\n        <td>Home Team Win</td>\n    </tr>\n    <tr>\n        <td>1246</td>\n        <td>1</td>\n        <td>1</td>\n        <td>Tie</td>\n    </tr>\n</table>"
     },
     "metadata": {},
     "execution_count": 10
    }
   ],
   "source": [
    "%sql SELECT id, home_team_goal, away_team_goal, CASE WHEN home_team_goal > away_team_goal THEN 'Home Team Win' WHEN home_team_goal < away_team_goal THEN 'Away Team Win' ELSE 'Tie' END AS outcome FROM match WHERE season = '2013/2014' \\\n",
    "LIMIT 10"
   ]
  },
  {
   "source": [
    "En este ejemplo, usamos una instrucción CASE para crear una nueva variable que identifica partidos como victorias del equipo local, victorias del equipo visitante o empates.\n",
    "\n",
    "Se crea una nueva columna con el texto apropiado para cada partido dado el resultado.\n",
    "\n",
    "En la próxima lección, practicaremos más formas de estructurar CASE, utilizando funciones aritméticas como COUNT, SUM y AVG. Por ahora, practicaremos la creación de declaraciones CASE para crear categorías para los datos."
   ],
   "cell_type": "markdown",
   "metadata": {}
  },
  {
   "source": [
    "### EX 1° : BASIC CASE statements (1).\n",
    "Se identificarán partidos jugados entre FC Schalke 04 y FC Bayern Munich."
   ],
   "cell_type": "markdown",
   "metadata": {}
  },
  {
   "cell_type": "code",
   "execution_count": 11,
   "metadata": {},
   "outputs": [
    {
     "output_type": "stream",
     "name": "stdout",
     "text": [
      "   sqlite://\n   sqlite:////Universidad/DataCamp/Python/intermediate_sql/SQL_SAFI.sqlite\n * sqlite:////Universidad/DataCamp/Python/intermediate_sql/european_soccer.sqlite\nDone.\n"
     ]
    },
    {
     "output_type": "execute_result",
     "data": {
      "text/plain": [
       "[('FC Bayern Munich', 9823), ('FC Schalke 04', 10189)]"
      ],
      "text/html": "<table>\n    <tr>\n        <th>team_long_name</th>\n        <th>team_api_id</th>\n    </tr>\n    <tr>\n        <td>FC Bayern Munich</td>\n        <td>9823</td>\n    </tr>\n    <tr>\n        <td>FC Schalke 04</td>\n        <td>10189</td>\n    </tr>\n</table>"
     },
     "metadata": {},
     "execution_count": 11
    }
   ],
   "source": [
    "%sql SELECT team_long_name, team_api_id \\\n",
    "FROM team \\\n",
    "WHERE team_long_name in ('FC Bayern Munich', 'FC Schalke 04')"
   ]
  },
  {
   "cell_type": "code",
   "execution_count": 12,
   "metadata": {},
   "outputs": [
    {
     "output_type": "stream",
     "name": "stdout",
     "text": [
      "   sqlite://\n",
      "   sqlite:////Universidad/DataCamp/Python/intermediate_sql/SQL_SAFI.sqlite\n",
      " * sqlite:////Universidad/DataCamp/Python/intermediate_sql/european_soccer.sqlite\n",
      "Done.\n"
     ]
    },
    {
     "output_type": "execute_result",
     "data": {
      "text/plain": [
       "[('Bayern Munich', 136), ('FC Schalke 04', 136), ('Other', 25707)]"
      ],
      "text/html": "<table>\n    <tr>\n        <th>home_team</th>\n        <th>total_matches</th>\n    </tr>\n    <tr>\n        <td>Bayern Munich</td>\n        <td>136</td>\n    </tr>\n    <tr>\n        <td>FC Schalke 04</td>\n        <td>136</td>\n    </tr>\n    <tr>\n        <td>Other</td>\n        <td>25707</td>\n    </tr>\n</table>"
     },
     "metadata": {},
     "execution_count": 12
    }
   ],
   "source": [
    "%sql SELECT CASE WHEN home_team_api_id = 9823 THEN 'Bayern Munich' WHEN home_team_api_id = 10189 THEN 'FC Schalke 04' ELSE 'Other' END AS home_team,  \\\n",
    "count(id) AS total_matches \\\n",
    "FROM match \\\n",
    "GROUP BY home_team"
   ]
  },
  {
   "source": [
    "### EX 2° : CASE statements comparing column values (1).\n",
    "En este ejercicio, crearemos una lista de partidos de la temporada del 2011/2012 donde el Barcelona fue el equipo en casa, utilizando la declaración CASE para saber si ganó, perdió o empató en casa."
   ],
   "cell_type": "markdown",
   "metadata": {}
  },
  {
   "cell_type": "code",
   "execution_count": 13,
   "metadata": {},
   "outputs": [
    {
     "output_type": "stream",
     "name": "stdout",
     "text": [
      "   sqlite://\n   sqlite:////Universidad/DataCamp/Python/intermediate_sql/SQL_SAFI.sqlite\n * sqlite:////Universidad/DataCamp/Python/intermediate_sql/european_soccer.sqlite\nDone.\n"
     ]
    },
    {
     "output_type": "execute_result",
     "data": {
      "text/plain": [
       "[('2008-08-17 00:00:00', 'Tie'),\n",
       " ('2008-08-16 00:00:00', 'Tie'),\n",
       " ('2008-08-16 00:00:00', 'Home loss :('),\n",
       " ('2008-08-17 00:00:00', 'Home Win :)'),\n",
       " ('2008-08-16 00:00:00', 'Home loss :('),\n",
       " ('2008-09-24 00:00:00', 'Tie'),\n",
       " ('2008-08-16 00:00:00', 'Tie'),\n",
       " ('2008-08-16 00:00:00', 'Home loss :('),\n",
       " ('2008-08-16 00:00:00', 'Home Win :)'),\n",
       " ('2008-11-01 00:00:00', 'Home Win :)')]"
      ],
      "text/html": "<table>\n    <tr>\n        <th>date</th>\n        <th>outcome</th>\n    </tr>\n    <tr>\n        <td>2008-08-17 00:00:00</td>\n        <td>Tie</td>\n    </tr>\n    <tr>\n        <td>2008-08-16 00:00:00</td>\n        <td>Tie</td>\n    </tr>\n    <tr>\n        <td>2008-08-16 00:00:00</td>\n        <td>Home loss :(</td>\n    </tr>\n    <tr>\n        <td>2008-08-17 00:00:00</td>\n        <td>Home Win :)</td>\n    </tr>\n    <tr>\n        <td>2008-08-16 00:00:00</td>\n        <td>Home loss :(</td>\n    </tr>\n    <tr>\n        <td>2008-09-24 00:00:00</td>\n        <td>Tie</td>\n    </tr>\n    <tr>\n        <td>2008-08-16 00:00:00</td>\n        <td>Tie</td>\n    </tr>\n    <tr>\n        <td>2008-08-16 00:00:00</td>\n        <td>Home loss :(</td>\n    </tr>\n    <tr>\n        <td>2008-08-16 00:00:00</td>\n        <td>Home Win :)</td>\n    </tr>\n    <tr>\n        <td>2008-11-01 00:00:00</td>\n        <td>Home Win :)</td>\n    </tr>\n</table>"
     },
     "metadata": {},
     "execution_count": 13
    }
   ],
   "source": [
    "%sql SELECT date, \\\n",
    "CASE WHEN home_team_goal > away_team_goal THEN 'Home Win :)' WHEN home_team_goal < away_team_goal THEN 'Home loss :(' ELSE 'Tie' END AS outcome \\\n",
    "FROM match \\\n",
    "LIMIT 10"
   ]
  },
  {
   "source": [
    "### EX 2.5° : CASE statements comparing column values (2).\n",
    "En este ejercicio, crearemos una lista de partidos de la temporada del 2011/2012 donde el Barcelona fue el equipo en casa, utilizando la declaración CASE para saber si ganó, perdió o empató en casa."
   ],
   "cell_type": "markdown",
   "metadata": {}
  },
  {
   "cell_type": "code",
   "execution_count": 14,
   "metadata": {},
   "outputs": [
    {
     "output_type": "stream",
     "name": "stdout",
     "text": [
      "   sqlite://\n   sqlite:////Universidad/DataCamp/Python/intermediate_sql/SQL_SAFI.sqlite\n * sqlite:////Universidad/DataCamp/Python/intermediate_sql/european_soccer.sqlite\nDone.\n"
     ]
    },
    {
     "output_type": "execute_result",
     "data": {
      "text/plain": [
       "[('2011-10-29 00:00:00', 'RCD Mallorca', 'Barcelona ganó :)'),\n",
       " ('2011-11-19 00:00:00', 'Real Zaragoza', 'Barcelona ganó :)'),\n",
       " ('2011-12-03 00:00:00', 'Levante UD', 'Barcelona ganó :)'),\n",
       " ('2011-11-29 00:00:00', 'Rayo Vallecano', 'Barcelona ganó :)'),\n",
       " ('2012-01-15 00:00:00', 'Real Betis Balompié', 'Barcelona ganó :)'),\n",
       " ('2011-08-29 00:00:00', 'Villarreal CF', 'Barcelona ganó :)'),\n",
       " ('2012-05-02 00:00:00', 'Málaga CF', 'Barcelona ganó :)'),\n",
       " ('2012-02-04 00:00:00', 'Real Sociedad', 'Barcelona ganó :)'),\n",
       " ('2012-02-19 00:00:00', 'Valencia CF', 'Barcelona ganó :)'),\n",
       " ('2012-03-03 00:00:00', 'Real Sporting de Gijón', 'Barcelona ganó :)'),\n",
       " ('2012-03-20 00:00:00', 'Granada CF', 'Barcelona ganó :)'),\n",
       " ('2012-03-31 00:00:00', 'Athletic Club de Bilbao', 'Barcelona ganó :)'),\n",
       " ('2012-04-10 00:00:00', 'Getafe CF', 'Barcelona ganó :)'),\n",
       " ('2012-04-21 00:00:00', 'Real Madrid CF', 'Barcelona perdió :('),\n",
       " ('2012-05-05 00:00:00', 'RCD Espanyol', 'Barcelona ganó :)'),\n",
       " ('2011-09-17 00:00:00', 'CA Osasuna', 'Barcelona ganó :)'),\n",
       " ('2011-09-24 00:00:00', 'Atlético Madrid', 'Barcelona ganó :)'),\n",
       " ('2011-10-15 00:00:00', 'Racing Santander', 'Barcelona ganó :)'),\n",
       " ('2011-10-22 00:00:00', 'Sevilla FC', 'Empate')]"
      ],
      "text/html": "<table>\n    <tr>\n        <th>date</th>\n        <th>opponent</th>\n        <th>outcome</th>\n    </tr>\n    <tr>\n        <td>2011-10-29 00:00:00</td>\n        <td>RCD Mallorca</td>\n        <td>Barcelona ganó :)</td>\n    </tr>\n    <tr>\n        <td>2011-11-19 00:00:00</td>\n        <td>Real Zaragoza</td>\n        <td>Barcelona ganó :)</td>\n    </tr>\n    <tr>\n        <td>2011-12-03 00:00:00</td>\n        <td>Levante UD</td>\n        <td>Barcelona ganó :)</td>\n    </tr>\n    <tr>\n        <td>2011-11-29 00:00:00</td>\n        <td>Rayo Vallecano</td>\n        <td>Barcelona ganó :)</td>\n    </tr>\n    <tr>\n        <td>2012-01-15 00:00:00</td>\n        <td>Real Betis Balompié</td>\n        <td>Barcelona ganó :)</td>\n    </tr>\n    <tr>\n        <td>2011-08-29 00:00:00</td>\n        <td>Villarreal CF</td>\n        <td>Barcelona ganó :)</td>\n    </tr>\n    <tr>\n        <td>2012-05-02 00:00:00</td>\n        <td>Málaga CF</td>\n        <td>Barcelona ganó :)</td>\n    </tr>\n    <tr>\n        <td>2012-02-04 00:00:00</td>\n        <td>Real Sociedad</td>\n        <td>Barcelona ganó :)</td>\n    </tr>\n    <tr>\n        <td>2012-02-19 00:00:00</td>\n        <td>Valencia CF</td>\n        <td>Barcelona ganó :)</td>\n    </tr>\n    <tr>\n        <td>2012-03-03 00:00:00</td>\n        <td>Real Sporting de Gijón</td>\n        <td>Barcelona ganó :)</td>\n    </tr>\n    <tr>\n        <td>2012-03-20 00:00:00</td>\n        <td>Granada CF</td>\n        <td>Barcelona ganó :)</td>\n    </tr>\n    <tr>\n        <td>2012-03-31 00:00:00</td>\n        <td>Athletic Club de Bilbao</td>\n        <td>Barcelona ganó :)</td>\n    </tr>\n    <tr>\n        <td>2012-04-10 00:00:00</td>\n        <td>Getafe CF</td>\n        <td>Barcelona ganó :)</td>\n    </tr>\n    <tr>\n        <td>2012-04-21 00:00:00</td>\n        <td>Real Madrid CF</td>\n        <td>Barcelona perdió :(</td>\n    </tr>\n    <tr>\n        <td>2012-05-05 00:00:00</td>\n        <td>RCD Espanyol</td>\n        <td>Barcelona ganó :)</td>\n    </tr>\n    <tr>\n        <td>2011-09-17 00:00:00</td>\n        <td>CA Osasuna</td>\n        <td>Barcelona ganó :)</td>\n    </tr>\n    <tr>\n        <td>2011-09-24 00:00:00</td>\n        <td>Atlético Madrid</td>\n        <td>Barcelona ganó :)</td>\n    </tr>\n    <tr>\n        <td>2011-10-15 00:00:00</td>\n        <td>Racing Santander</td>\n        <td>Barcelona ganó :)</td>\n    </tr>\n    <tr>\n        <td>2011-10-22 00:00:00</td>\n        <td>Sevilla FC</td>\n        <td>Empate</td>\n    </tr>\n</table>"
     },
     "metadata": {},
     "execution_count": 14
    }
   ],
   "source": [
    "%sql SELECT date, team_long_name AS opponent, CASE WHEN home_team_goal > away_team_goal THEN 'Barcelona ganó :)' WHEN home_team_goal < away_team_goal THEN 'Barcelona perdió :(' ELSE 'Empate' END AS outcome \\\n",
    "FROM match LEFT JOIN team ON team_api_id = away_team_api_id \\\n",
    "WHERE home_team_api_id = 8634 AND season = '2011/2012'"
   ]
  },
  {
   "source": [
    "## Notas\n",
    "\n",
    "Notar como, con la coincidencia hecho en el WHERE, basta para tener al FC Barcelona como equipo en casa, de forma que, en la unión a la izquierda en las tablas, se podría obtener menos información colocando:\n",
    "- ON team_api_id = home_team_api_id\n",
    "\n",
    "De esta forma, obtendríamos los mismos nombres una y otra vez en la fila. El código utilizado en la celda de arriba obtiene más información (los oponentes).\n",
    "En las query de SQL siempre optar por la vía que entrega más información."
   ],
   "cell_type": "markdown",
   "metadata": {}
  },
  {
   "source": [
    "### EX 3° : CASE statements comparing column values (2).\n",
    "En este ejercicio, crearemos una lista de partidos de la temporada del 2011/2012 donde el Barcelona fue el equipo visitante, utilizando la declaración CASE para saber si ganó, perdió o empató de visitante."
   ],
   "cell_type": "markdown",
   "metadata": {}
  },
  {
   "cell_type": "code",
   "execution_count": 15,
   "metadata": {},
   "outputs": [
    {
     "output_type": "stream",
     "name": "stdout",
     "text": [
      "   sqlite://\n",
      "   sqlite:////Universidad/DataCamp/Python/intermediate_sql/SQL_SAFI.sqlite\n",
      " * sqlite:////Universidad/DataCamp/Python/intermediate_sql/european_soccer.sqlite\n",
      "Done.\n"
     ]
    },
    {
     "output_type": "execute_result",
     "data": {
      "text/plain": [
       "[('2012-01-22 00:00:00', 'Málaga CF', 'Barcelona ganó :)'),\n",
       " ('2011-10-25 00:00:00', 'Granada CF', 'Barcelona ganó :)'),\n",
       " ('2011-11-06 00:00:00', 'Athletic Club de Bilbao', 'Empate'),\n",
       " ('2011-11-26 00:00:00', 'Getafe CF', 'Barcelona perdió :('),\n",
       " ('2011-12-10 00:00:00', 'Real Madrid CF', 'Barcelona ganó :)'),\n",
       " ('2012-01-08 00:00:00', 'RCD Espanyol', 'Empate'),\n",
       " ('2012-01-28 00:00:00', 'Villarreal CF', 'Empate'),\n",
       " ('2012-02-11 00:00:00', 'CA Osasuna', 'Barcelona perdió :('),\n",
       " ('2012-02-26 00:00:00', 'Atlético Madrid', 'Barcelona ganó :)'),\n",
       " ('2012-03-11 00:00:00', 'Racing Santander', 'Barcelona ganó :)'),\n",
       " ('2012-03-17 00:00:00', 'Sevilla FC', 'Barcelona ganó :)'),\n",
       " ('2011-09-10 00:00:00', 'Real Sociedad', 'Empate'),\n",
       " ('2012-03-24 00:00:00', 'RCD Mallorca', 'Barcelona ganó :)'),\n",
       " ('2012-04-07 00:00:00', 'Real Zaragoza', 'Barcelona ganó :)'),\n",
       " ('2012-04-14 00:00:00', 'Levante UD', 'Barcelona ganó :)'),\n",
       " ('2012-04-29 00:00:00', 'Rayo Vallecano', 'Barcelona ganó :)'),\n",
       " ('2012-05-12 00:00:00', 'Real Betis Balompié', 'Empate'),\n",
       " ('2011-09-21 00:00:00', 'Valencia CF', 'Empate'),\n",
       " ('2011-10-02 00:00:00', 'Real Sporting de Gijón', 'Barcelona ganó :)')]"
      ],
      "text/html": "<table>\n    <tr>\n        <th>date</th>\n        <th>opponent</th>\n        <th>outcome</th>\n    </tr>\n    <tr>\n        <td>2012-01-22 00:00:00</td>\n        <td>Málaga CF</td>\n        <td>Barcelona ganó :)</td>\n    </tr>\n    <tr>\n        <td>2011-10-25 00:00:00</td>\n        <td>Granada CF</td>\n        <td>Barcelona ganó :)</td>\n    </tr>\n    <tr>\n        <td>2011-11-06 00:00:00</td>\n        <td>Athletic Club de Bilbao</td>\n        <td>Empate</td>\n    </tr>\n    <tr>\n        <td>2011-11-26 00:00:00</td>\n        <td>Getafe CF</td>\n        <td>Barcelona perdió :(</td>\n    </tr>\n    <tr>\n        <td>2011-12-10 00:00:00</td>\n        <td>Real Madrid CF</td>\n        <td>Barcelona ganó :)</td>\n    </tr>\n    <tr>\n        <td>2012-01-08 00:00:00</td>\n        <td>RCD Espanyol</td>\n        <td>Empate</td>\n    </tr>\n    <tr>\n        <td>2012-01-28 00:00:00</td>\n        <td>Villarreal CF</td>\n        <td>Empate</td>\n    </tr>\n    <tr>\n        <td>2012-02-11 00:00:00</td>\n        <td>CA Osasuna</td>\n        <td>Barcelona perdió :(</td>\n    </tr>\n    <tr>\n        <td>2012-02-26 00:00:00</td>\n        <td>Atlético Madrid</td>\n        <td>Barcelona ganó :)</td>\n    </tr>\n    <tr>\n        <td>2012-03-11 00:00:00</td>\n        <td>Racing Santander</td>\n        <td>Barcelona ganó :)</td>\n    </tr>\n    <tr>\n        <td>2012-03-17 00:00:00</td>\n        <td>Sevilla FC</td>\n        <td>Barcelona ganó :)</td>\n    </tr>\n    <tr>\n        <td>2011-09-10 00:00:00</td>\n        <td>Real Sociedad</td>\n        <td>Empate</td>\n    </tr>\n    <tr>\n        <td>2012-03-24 00:00:00</td>\n        <td>RCD Mallorca</td>\n        <td>Barcelona ganó :)</td>\n    </tr>\n    <tr>\n        <td>2012-04-07 00:00:00</td>\n        <td>Real Zaragoza</td>\n        <td>Barcelona ganó :)</td>\n    </tr>\n    <tr>\n        <td>2012-04-14 00:00:00</td>\n        <td>Levante UD</td>\n        <td>Barcelona ganó :)</td>\n    </tr>\n    <tr>\n        <td>2012-04-29 00:00:00</td>\n        <td>Rayo Vallecano</td>\n        <td>Barcelona ganó :)</td>\n    </tr>\n    <tr>\n        <td>2012-05-12 00:00:00</td>\n        <td>Real Betis Balompié</td>\n        <td>Empate</td>\n    </tr>\n    <tr>\n        <td>2011-09-21 00:00:00</td>\n        <td>Valencia CF</td>\n        <td>Empate</td>\n    </tr>\n    <tr>\n        <td>2011-10-02 00:00:00</td>\n        <td>Real Sporting de Gijón</td>\n        <td>Barcelona ganó :)</td>\n    </tr>\n</table>"
     },
     "metadata": {},
     "execution_count": 15
    }
   ],
   "source": [
    "%sql SELECT date, team_long_name AS opponent, CASE WHEN home_team_goal < away_team_goal THEN 'Barcelona ganó :)' WHEN home_team_goal > away_team_goal THEN 'Barcelona perdió :(' ELSE 'Empate' END AS outcome \\\n",
    "FROM match LEFT JOIN team ON team_api_id = home_team_api_id \\\n",
    "WHERE away_team_api_id = 8634 AND season = '2011/2012'"
   ]
  },
  {
   "source": [
    "## Notas\n",
    "\n",
    "Si bien, se puede realizar un copy paste rápido cambiando los ID, no se debe olvidar cambiar las desigualdades al cambiar de casa a visitante el equipo del FC Barcelona."
   ],
   "cell_type": "markdown",
   "metadata": {}
  },
  {
   "source": [
    "## In CASE things get more complex\n",
    "\n",
    "Ahora que comprendemos algunos conceptos básicos de las declaraciones CASE, configuremos algunas pruebas lógicas más complejas.\n",
    "\n",
    "## Reviewing CASE WHEN\n",
    "\n",
    "Anteriormente, cubrimos las declaraciones CASE con una prueba lógica en un WHEN, lo que nos devolvía resultados basados en si esa prueba era VERDADERA o FALSA.\n",
    "\n",
    "El ejemplo a continuación prueba si los goles en casa o fuera de casa fueron más altos y los identifica como victorias para el equipo que obtuvo una puntuación más alta. Todo lo demás se clasifica como empate.\n"
   ],
   "cell_type": "markdown",
   "metadata": {}
  },
  {
   "cell_type": "code",
   "execution_count": 29,
   "metadata": {},
   "outputs": [
    {
     "output_type": "stream",
     "name": "stdout",
     "text": [
      "   sqlite://\n   sqlite:////Universidad/DataCamp/Python/intermediate_sql/SQL_SAFI.sqlite\n * sqlite:////Universidad/DataCamp/Python/intermediate_sql/european_soccer.sqlite\nDone.\n"
     ]
    },
    {
     "output_type": "execute_result",
     "data": {
      "text/plain": [
       "[('2008-08-17 00:00:00', '2008/2009', 'Tie'),\n",
       " ('2008-08-16 00:00:00', '2008/2009', 'Tie'),\n",
       " ('2008-08-16 00:00:00', '2008/2009', 'Ganó el equipo visitante'),\n",
       " ('2008-08-17 00:00:00', '2008/2009', 'Ganó el equipo en casa'),\n",
       " ('2008-08-16 00:00:00', '2008/2009', 'Ganó el equipo visitante'),\n",
       " ('2008-09-24 00:00:00', '2008/2009', 'Tie'),\n",
       " ('2008-08-16 00:00:00', '2008/2009', 'Tie'),\n",
       " ('2008-08-16 00:00:00', '2008/2009', 'Ganó el equipo visitante'),\n",
       " ('2008-08-16 00:00:00', '2008/2009', 'Ganó el equipo en casa'),\n",
       " ('2008-11-01 00:00:00', '2008/2009', 'Ganó el equipo en casa')]"
      ],
      "text/html": "<table>\n    <tr>\n        <th>date</th>\n        <th>season</th>\n        <th>outcome</th>\n    </tr>\n    <tr>\n        <td>2008-08-17 00:00:00</td>\n        <td>2008/2009</td>\n        <td>Tie</td>\n    </tr>\n    <tr>\n        <td>2008-08-16 00:00:00</td>\n        <td>2008/2009</td>\n        <td>Tie</td>\n    </tr>\n    <tr>\n        <td>2008-08-16 00:00:00</td>\n        <td>2008/2009</td>\n        <td>Ganó el equipo visitante</td>\n    </tr>\n    <tr>\n        <td>2008-08-17 00:00:00</td>\n        <td>2008/2009</td>\n        <td>Ganó el equipo en casa</td>\n    </tr>\n    <tr>\n        <td>2008-08-16 00:00:00</td>\n        <td>2008/2009</td>\n        <td>Ganó el equipo visitante</td>\n    </tr>\n    <tr>\n        <td>2008-09-24 00:00:00</td>\n        <td>2008/2009</td>\n        <td>Tie</td>\n    </tr>\n    <tr>\n        <td>2008-08-16 00:00:00</td>\n        <td>2008/2009</td>\n        <td>Tie</td>\n    </tr>\n    <tr>\n        <td>2008-08-16 00:00:00</td>\n        <td>2008/2009</td>\n        <td>Ganó el equipo visitante</td>\n    </tr>\n    <tr>\n        <td>2008-08-16 00:00:00</td>\n        <td>2008/2009</td>\n        <td>Ganó el equipo en casa</td>\n    </tr>\n    <tr>\n        <td>2008-11-01 00:00:00</td>\n        <td>2008/2009</td>\n        <td>Ganó el equipo en casa</td>\n    </tr>\n</table>"
     },
     "metadata": {},
     "execution_count": 29
    }
   ],
   "source": [
    "%sql SELECT date, \\\n",
    "season, \\\n",
    "CASE WHEN home_team_goal > away_team_goal THEN 'Ganó el equipo en casa' \\\n",
    "WHEN home_team_goal < away_team_goal THEN 'Ganó el equipo visitante'\\\n",
    "ELSE 'Tie' END AS outcome \\\n",
    "FROM match \\\n",
    "LIMIT 10"
   ]
  },
  {
   "source": [
    "La tabla resultante tiene una columna que identifica las coincidencias como uno de los 3 posibles resultados.\n",
    "\n",
    "## CASE WHEN ... AND then some\n",
    "\n",
    "Si deseamos probar varias condiciones lógicas en una instrucción CASE, se puede usar AND dentro de la cláusula WHEN.\n",
    "\n",
    "Por ejemplo, veamos si cada partido lo jugó y ganó el equipo Chelsea.\n",
    "\n",
    "## Nota\n",
    "\n",
    "Recordar que no somos adivinos, y debemos ir viendo las tablas y columnas que nos sirven o no según la consulta. Podemos guiarnos con [el enlace de Kaggle](https://www.kaggle.com/hugomathien/soccer)."
   ],
   "cell_type": "markdown",
   "metadata": {}
  },
  {
   "cell_type": "code",
   "execution_count": 32,
   "metadata": {},
   "outputs": [
    {
     "output_type": "stream",
     "name": "stdout",
     "text": [
      "   sqlite://\n   sqlite:////Universidad/DataCamp/Python/intermediate_sql/SQL_SAFI.sqlite\n * sqlite:////Universidad/DataCamp/Python/intermediate_sql/european_soccer.sqlite\nDone.\n"
     ]
    },
    {
     "output_type": "execute_result",
     "data": {
      "text/plain": [
       "[(8455,)]"
      ],
      "text/html": "<table>\n    <tr>\n        <th>team_api_id</th>\n    </tr>\n    <tr>\n        <td>8455</td>\n    </tr>\n</table>"
     },
     "metadata": {},
     "execution_count": 32
    }
   ],
   "source": [
    "%sql SELECT team_api_id \\\n",
    "FROM Team \\\n",
    "WHERE team_long_name = 'Chelsea'"
   ]
  },
  {
   "cell_type": "code",
   "execution_count": 60,
   "metadata": {},
   "outputs": [
    {
     "output_type": "stream",
     "name": "stdout",
     "text": [
      "   sqlite://\n   sqlite:////Universidad/DataCamp/Python/intermediate_sql/SQL_SAFI.sqlite\n * sqlite:////Universidad/DataCamp/Python/intermediate_sql/european_soccer.sqlite\nDone.\n"
     ]
    },
    {
     "output_type": "execute_result",
     "data": {
      "text/plain": [
       "[('2011-08-14 00:00:00', 10194, 8455, 'Chelsea perdió/empató'),\n",
       " ('2011-10-29 00:00:00', 8455, 9825, 'Chelsea perdió/empató'),\n",
       " ('2011-11-05 00:00:00', 8655, 8455, 'Chelsea ganó de visitante'),\n",
       " ('2011-11-20 00:00:00', 8455, 8650, 'Chelsea perdió/empató'),\n",
       " ('2011-11-26 00:00:00', 8455, 8602, 'Chelsea ganó en casa'),\n",
       " ('2011-12-03 00:00:00', 10261, 8455, 'Chelsea ganó de visitante'),\n",
       " ('2011-12-12 00:00:00', 8455, 8456, 'Chelsea ganó en casa'),\n",
       " ('2011-12-17 00:00:00', 8528, 8455, 'Chelsea perdió/empató'),\n",
       " ('2011-12-22 00:00:00', 8586, 8455, 'Chelsea perdió/empató'),\n",
       " ('2011-12-26 00:00:00', 8455, 9879, 'Chelsea perdió/empató')]"
      ],
      "text/html": "<table>\n    <tr>\n        <th>date</th>\n        <th>hometeam_id</th>\n        <th>awayteam_id</th>\n        <th>outcome</th>\n    </tr>\n    <tr>\n        <td>2011-08-14 00:00:00</td>\n        <td>10194</td>\n        <td>8455</td>\n        <td>Chelsea perdió/empató</td>\n    </tr>\n    <tr>\n        <td>2011-10-29 00:00:00</td>\n        <td>8455</td>\n        <td>9825</td>\n        <td>Chelsea perdió/empató</td>\n    </tr>\n    <tr>\n        <td>2011-11-05 00:00:00</td>\n        <td>8655</td>\n        <td>8455</td>\n        <td>Chelsea ganó de visitante</td>\n    </tr>\n    <tr>\n        <td>2011-11-20 00:00:00</td>\n        <td>8455</td>\n        <td>8650</td>\n        <td>Chelsea perdió/empató</td>\n    </tr>\n    <tr>\n        <td>2011-11-26 00:00:00</td>\n        <td>8455</td>\n        <td>8602</td>\n        <td>Chelsea ganó en casa</td>\n    </tr>\n    <tr>\n        <td>2011-12-03 00:00:00</td>\n        <td>10261</td>\n        <td>8455</td>\n        <td>Chelsea ganó de visitante</td>\n    </tr>\n    <tr>\n        <td>2011-12-12 00:00:00</td>\n        <td>8455</td>\n        <td>8456</td>\n        <td>Chelsea ganó en casa</td>\n    </tr>\n    <tr>\n        <td>2011-12-17 00:00:00</td>\n        <td>8528</td>\n        <td>8455</td>\n        <td>Chelsea perdió/empató</td>\n    </tr>\n    <tr>\n        <td>2011-12-22 00:00:00</td>\n        <td>8586</td>\n        <td>8455</td>\n        <td>Chelsea perdió/empató</td>\n    </tr>\n    <tr>\n        <td>2011-12-26 00:00:00</td>\n        <td>8455</td>\n        <td>9879</td>\n        <td>Chelsea perdió/empató</td>\n    </tr>\n</table>"
     },
     "metadata": {},
     "execution_count": 60
    }
   ],
   "source": [
    "%sql SELECT date, \\\n",
    "home_team_api_id AS hometeam_id, \\\n",
    "away_team_api_id AS awayteam_id, \\\n",
    "CASE WHEN home_team_goal > away_team_goal AND home_team_api_id = 8455 THEN 'Chelsea ganó en casa' \\\n",
    "WHEN home_team_goal < away_team_goal AND away_team_api_id = 8455 THEN 'Chelsea ganó de visitante' \\\n",
    "ELSE 'Chelsea perdió/empató' END AS outcome \\\n",
    "FROM Match \\\n",
    "WHERE season = '2011/2012' AND (hometeam_id = 8455 OR awayteam_id = 8455) \\\n",
    "LIMIT 10"
   ]
  },
  {
   "source": [
    "Veamos al declaración CASE en la consulta anterior. Cada cláusula WHEN contiene dos pruebas lógicas:\n",
    "\n",
    "- La primera prueba es, respectivamente, si el equipo en casa o visitante ganó o perdió según la cantidad de goles.\n",
    "\n",
    "- La segunda prueba es que, efectivamente, el ID del equipo corresponda al Chelsea en casa o visitante.\n",
    "\n",
    "Si ambas condiciones son VERDADERAS o FALSAS, o una y otra, la nueva columna devuelve los STRINGS de:\n",
    "\n",
    "- Chelsea ganó en casa.\n",
    "\n",
    "- Chelsea ganó de visitante.\n",
    "\n",
    "- Chelsea perdió/empató.\n",
    "\n",
    "## What ELSE is being excluded?\n",
    "\n",
    "Al probar condiciones lógicas, es importante considerar cuidadosamente qué filas de los datos son parte de la cláusula ELSE y si están categorizadas correctamente.\n",
    "\n",
    "A continuación, aquí está la misma instrucción CASE de la diapositiva anterior, pero se ha eliminado el filtro WHERE de los ID."
   ],
   "cell_type": "markdown",
   "metadata": {}
  },
  {
   "cell_type": "code",
   "execution_count": 61,
   "metadata": {},
   "outputs": [
    {
     "output_type": "stream",
     "name": "stdout",
     "text": [
      "   sqlite://\n   sqlite:////Universidad/DataCamp/Python/intermediate_sql/SQL_SAFI.sqlite\n * sqlite:////Universidad/DataCamp/Python/intermediate_sql/european_soccer.sqlite\nDone.\n"
     ]
    },
    {
     "output_type": "execute_result",
     "data": {
      "text/plain": [
       "[('2011-07-29 00:00:00', 1773, 8635, 'Chelsea perdió/empató'),\n",
       " ('2011-07-30 00:00:00', 9998, 9985, 'Chelsea perdió/empató'),\n",
       " ('2011-07-30 00:00:00', 9987, 9993, 'Chelsea perdió/empató'),\n",
       " ('2011-07-30 00:00:00', 9991, 9984, 'Chelsea perdió/empató'),\n",
       " ('2011-07-30 00:00:00', 9994, 10000, 'Chelsea perdió/empató'),\n",
       " ('2011-07-30 00:00:00', 8571, 9989, 'Chelsea perdió/empató'),\n",
       " ('2011-07-30 00:00:00', 8203, 9997, 'Chelsea perdió/empató'),\n",
       " ('2011-07-31 00:00:00', 8342, 10001, 'Chelsea perdió/empató'),\n",
       " ('2011-10-16 00:00:00', 8342, 9991, 'Chelsea perdió/empató'),\n",
       " ('2011-10-16 00:00:00', 8635, 9985, 'Chelsea perdió/empató')]"
      ],
      "text/html": "<table>\n    <tr>\n        <th>date</th>\n        <th>hometeam_id</th>\n        <th>awayteam_id</th>\n        <th>outcome</th>\n    </tr>\n    <tr>\n        <td>2011-07-29 00:00:00</td>\n        <td>1773</td>\n        <td>8635</td>\n        <td>Chelsea perdió/empató</td>\n    </tr>\n    <tr>\n        <td>2011-07-30 00:00:00</td>\n        <td>9998</td>\n        <td>9985</td>\n        <td>Chelsea perdió/empató</td>\n    </tr>\n    <tr>\n        <td>2011-07-30 00:00:00</td>\n        <td>9987</td>\n        <td>9993</td>\n        <td>Chelsea perdió/empató</td>\n    </tr>\n    <tr>\n        <td>2011-07-30 00:00:00</td>\n        <td>9991</td>\n        <td>9984</td>\n        <td>Chelsea perdió/empató</td>\n    </tr>\n    <tr>\n        <td>2011-07-30 00:00:00</td>\n        <td>9994</td>\n        <td>10000</td>\n        <td>Chelsea perdió/empató</td>\n    </tr>\n    <tr>\n        <td>2011-07-30 00:00:00</td>\n        <td>8571</td>\n        <td>9989</td>\n        <td>Chelsea perdió/empató</td>\n    </tr>\n    <tr>\n        <td>2011-07-30 00:00:00</td>\n        <td>8203</td>\n        <td>9997</td>\n        <td>Chelsea perdió/empató</td>\n    </tr>\n    <tr>\n        <td>2011-07-31 00:00:00</td>\n        <td>8342</td>\n        <td>10001</td>\n        <td>Chelsea perdió/empató</td>\n    </tr>\n    <tr>\n        <td>2011-10-16 00:00:00</td>\n        <td>8342</td>\n        <td>9991</td>\n        <td>Chelsea perdió/empató</td>\n    </tr>\n    <tr>\n        <td>2011-10-16 00:00:00</td>\n        <td>8635</td>\n        <td>9985</td>\n        <td>Chelsea perdió/empató</td>\n    </tr>\n</table>"
     },
     "metadata": {},
     "execution_count": 61
    }
   ],
   "source": [
    "%sql SELECT date, \\\n",
    "home_team_api_id AS hometeam_id, \\\n",
    "away_team_api_id AS awayteam_id, \\\n",
    "CASE WHEN home_team_goal > away_team_goal AND home_team_api_id = 8455 THEN 'Chelsea ganó en casa' \\\n",
    "WHEN home_team_goal < away_team_goal AND away_team_api_id = 8455 THEN 'Chelsea ganó de visitante' \\\n",
    "ELSE 'Chelsea perdió/empató' END AS outcome \\\n",
    "FROM Match \\\n",
    "WHERE season = '2011/2012' \\\n",
    "LIMIT 10"
   ]
  },
  {
   "source": [
    "Como podemos apreciar, sin el filtro WHERE de los ID, se categorizará TODOS los partidos jugados por cualquiera que no cumpla las primeras condiciones del CASE WHEN:\n",
    "\n",
    "- Un vistazo rápido a la tabla demuestra que las primeras coincidencias están todas categorizadas como 'Chelsea perdió o empató', pero ni el hometeam_id ni el awayteam_id pertenecen al Chelsea.\n",
    "\n",
    "## Correctly categorize your data with CASE\n",
    "\n",
    "La forma más sencilla de corregir esto es asegurarse de agregar filtros específicos en la cláusula WHERE que excluyan a todos los equipos en los que el Chelsea no jugó."
   ],
   "cell_type": "markdown",
   "metadata": {}
  },
  {
   "cell_type": "code",
   "execution_count": 62,
   "metadata": {},
   "outputs": [
    {
     "output_type": "stream",
     "name": "stdout",
     "text": [
      "   sqlite://\n   sqlite:////Universidad/DataCamp/Python/intermediate_sql/SQL_SAFI.sqlite\n * sqlite:////Universidad/DataCamp/Python/intermediate_sql/european_soccer.sqlite\nDone.\n"
     ]
    },
    {
     "output_type": "execute_result",
     "data": {
      "text/plain": [
       "[('2011-08-14 00:00:00', 10194, 8455, 'Chelsea perdió/empató'),\n",
       " ('2011-10-29 00:00:00', 8455, 9825, 'Chelsea perdió/empató'),\n",
       " ('2011-11-05 00:00:00', 8655, 8455, 'Chelsea ganó de visitante'),\n",
       " ('2011-11-20 00:00:00', 8455, 8650, 'Chelsea perdió/empató'),\n",
       " ('2011-11-26 00:00:00', 8455, 8602, 'Chelsea ganó en casa'),\n",
       " ('2011-12-03 00:00:00', 10261, 8455, 'Chelsea ganó de visitante'),\n",
       " ('2011-12-12 00:00:00', 8455, 8456, 'Chelsea ganó en casa'),\n",
       " ('2011-12-17 00:00:00', 8528, 8455, 'Chelsea perdió/empató'),\n",
       " ('2011-12-22 00:00:00', 8586, 8455, 'Chelsea perdió/empató'),\n",
       " ('2011-12-26 00:00:00', 8455, 9879, 'Chelsea perdió/empató')]"
      ],
      "text/html": "<table>\n    <tr>\n        <th>date</th>\n        <th>hometeam_id</th>\n        <th>awayteam_id</th>\n        <th>outcome</th>\n    </tr>\n    <tr>\n        <td>2011-08-14 00:00:00</td>\n        <td>10194</td>\n        <td>8455</td>\n        <td>Chelsea perdió/empató</td>\n    </tr>\n    <tr>\n        <td>2011-10-29 00:00:00</td>\n        <td>8455</td>\n        <td>9825</td>\n        <td>Chelsea perdió/empató</td>\n    </tr>\n    <tr>\n        <td>2011-11-05 00:00:00</td>\n        <td>8655</td>\n        <td>8455</td>\n        <td>Chelsea ganó de visitante</td>\n    </tr>\n    <tr>\n        <td>2011-11-20 00:00:00</td>\n        <td>8455</td>\n        <td>8650</td>\n        <td>Chelsea perdió/empató</td>\n    </tr>\n    <tr>\n        <td>2011-11-26 00:00:00</td>\n        <td>8455</td>\n        <td>8602</td>\n        <td>Chelsea ganó en casa</td>\n    </tr>\n    <tr>\n        <td>2011-12-03 00:00:00</td>\n        <td>10261</td>\n        <td>8455</td>\n        <td>Chelsea ganó de visitante</td>\n    </tr>\n    <tr>\n        <td>2011-12-12 00:00:00</td>\n        <td>8455</td>\n        <td>8456</td>\n        <td>Chelsea ganó en casa</td>\n    </tr>\n    <tr>\n        <td>2011-12-17 00:00:00</td>\n        <td>8528</td>\n        <td>8455</td>\n        <td>Chelsea perdió/empató</td>\n    </tr>\n    <tr>\n        <td>2011-12-22 00:00:00</td>\n        <td>8586</td>\n        <td>8455</td>\n        <td>Chelsea perdió/empató</td>\n    </tr>\n    <tr>\n        <td>2011-12-26 00:00:00</td>\n        <td>8455</td>\n        <td>9879</td>\n        <td>Chelsea perdió/empató</td>\n    </tr>\n</table>"
     },
     "metadata": {},
     "execution_count": 62
    }
   ],
   "source": [
    "%sql SELECT date, \\\n",
    "home_team_api_id AS hometeam_id, \\\n",
    "away_team_api_id AS awayteam_id, \\\n",
    "CASE WHEN home_team_goal > away_team_goal AND home_team_api_id = 8455 THEN 'Chelsea ganó en casa' \\\n",
    "WHEN home_team_goal < away_team_goal AND away_team_api_id = 8455 THEN 'Chelsea ganó de visitante' \\\n",
    "ELSE 'Chelsea perdió/empató' END AS outcome \\\n",
    "FROM Match \\\n",
    "WHERE season = '2011/2012' AND (hometeam_id = 8455 OR awayteam_id = 8455) \\\n",
    "LIMIT 10"
   ]
  },
  {
   "source": [
    "En la tabla anterior, especificamos esto usando una declaración OR en WHERE, que solo recupera los resultados en donde el ID 8455 está presente en las columnas hometeam_id o awayteam_id.\n",
    "\n",
    "Las identificaciones de los equipos especifican, claramente, si el Chelsea estaba en casa o de visitante.\n",
    "\n",
    "## What's NULL?\n",
    "\n",
    "También es importante considerar lo que está haciendo nuestra cláusula ELSE.\n",
    "\n",
    "Las dos consultas a continuación son idénticas, excepto por la instrucción ELSE NULL especificada en la segunda."
   ],
   "cell_type": "markdown",
   "metadata": {}
  },
  {
   "cell_type": "code",
   "execution_count": 87,
   "metadata": {},
   "outputs": [
    {
     "output_type": "stream",
     "name": "stdout",
     "text": [
      "   sqlite://\n   sqlite:////Universidad/DataCamp/Python/intermediate_sql/SQL_SAFI.sqlite\n * sqlite:////Universidad/DataCamp/Python/intermediate_sql/european_soccer.sqlite\nDone.\n"
     ]
    },
    {
     "output_type": "execute_result",
     "data": {
      "text/plain": [
       "[('2011-07-29 00:00:00', 'older'),\n",
       " ('2011-07-30 00:00:00', 'older'),\n",
       " ('2011-07-30 00:00:00', 'older'),\n",
       " ('2011-07-30 00:00:00', 'older'),\n",
       " ('2011-07-30 00:00:00', 'older'),\n",
       " ('2011-07-30 00:00:00', 'older'),\n",
       " ('2011-07-30 00:00:00', 'older'),\n",
       " ('2011-07-31 00:00:00', 'older'),\n",
       " ('2011-10-16 00:00:00', 'older'),\n",
       " ('2011-10-16 00:00:00', 'older'),\n",
       " ('2011-10-15 00:00:00', 'older'),\n",
       " ('2011-10-15 00:00:00', 'older'),\n",
       " ('2011-10-15 00:00:00', 'older'),\n",
       " ('2011-10-15 00:00:00', 'older'),\n",
       " ('2011-10-15 00:00:00', 'older'),\n",
       " ('2011-10-15 00:00:00', 'older'),\n",
       " ('2011-10-23 00:00:00', 'older'),\n",
       " ('2011-10-22 00:00:00', 'older'),\n",
       " ('2011-10-22 00:00:00', 'older'),\n",
       " ('2011-10-22 00:00:00', 'older'),\n",
       " ('2011-10-23 00:00:00', 'older'),\n",
       " ('2011-10-22 00:00:00', 'older'),\n",
       " ('2011-10-23 00:00:00', 'older'),\n",
       " ('2011-10-22 00:00:00', 'older'),\n",
       " ('2011-10-29 00:00:00', 'older'),\n",
       " ('2011-10-30 00:00:00', 'older'),\n",
       " ('2011-10-30 00:00:00', 'older'),\n",
       " ('2011-10-29 00:00:00', 'older'),\n",
       " ('2011-10-29 00:00:00', 'older'),\n",
       " ('2011-10-29 00:00:00', 'older'),\n",
       " ('2011-10-29 00:00:00', 'older'),\n",
       " ('2011-10-29 00:00:00', 'older'),\n",
       " ('2011-11-06 00:00:00', 'older'),\n",
       " ('2011-11-05 00:00:00', 'older'),\n",
       " ('2011-11-04 00:00:00', 'older'),\n",
       " ('2011-11-05 00:00:00', 'older'),\n",
       " ('2011-11-05 00:00:00', 'older'),\n",
       " ('2011-11-05 00:00:00', 'older'),\n",
       " ('2011-11-05 00:00:00', 'older'),\n",
       " ('2011-11-06 00:00:00', 'older'),\n",
       " ('2011-11-20 00:00:00', 'older'),\n",
       " ('2011-11-20 00:00:00', 'older'),\n",
       " ('2011-11-19 00:00:00', 'older'),\n",
       " ('2011-11-18 00:00:00', 'older'),\n",
       " ('2011-11-19 00:00:00', 'older'),\n",
       " ('2011-11-19 00:00:00', 'older'),\n",
       " ('2011-11-19 00:00:00', 'older'),\n",
       " ('2011-11-19 00:00:00', 'older'),\n",
       " ('2011-11-25 00:00:00', 'older'),\n",
       " ('2011-11-27 00:00:00', 'older'),\n",
       " ('2011-11-26 00:00:00', 'older'),\n",
       " ('2011-11-26 00:00:00', 'older'),\n",
       " ('2011-11-26 00:00:00', 'older'),\n",
       " ('2011-11-26 00:00:00', 'older'),\n",
       " ('2011-11-26 00:00:00', 'older'),\n",
       " ('2011-11-26 00:00:00', 'older'),\n",
       " ('2011-12-04 00:00:00', 'older'),\n",
       " ('2011-12-04 00:00:00', 'older'),\n",
       " ('2011-12-02 00:00:00', 'older'),\n",
       " ('2011-12-03 00:00:00', 'older'),\n",
       " ('2011-12-03 00:00:00', 'older'),\n",
       " ('2011-12-03 00:00:00', 'older'),\n",
       " ('2011-12-03 00:00:00', 'older'),\n",
       " ('2011-12-03 00:00:00', 'older'),\n",
       " ('2011-12-11 00:00:00', 'older'),\n",
       " ('2011-12-10 00:00:00', 'older'),\n",
       " ('2011-12-10 00:00:00', 'older'),\n",
       " ('2011-12-10 00:00:00', 'older'),\n",
       " ('2011-12-10 00:00:00', 'older'),\n",
       " ('2011-12-09 00:00:00', 'older'),\n",
       " ('2011-12-10 00:00:00', 'older'),\n",
       " ('2011-12-10 00:00:00', 'older'),\n",
       " ('2011-12-18 00:00:00', 'older'),\n",
       " ('2011-12-18 00:00:00', 'older'),\n",
       " ('2011-12-17 00:00:00', 'older'),\n",
       " ('2011-12-17 00:00:00', 'older'),\n",
       " ('2011-12-18 00:00:00', 'older'),\n",
       " ('2011-12-17 00:00:00', 'older'),\n",
       " ('2011-12-17 00:00:00', 'older'),\n",
       " ('2011-12-18 00:00:00', 'older'),\n",
       " ('2011-12-26 00:00:00', 'older'),\n",
       " ('2011-12-26 00:00:00', 'older'),\n",
       " ('2011-12-26 00:00:00', 'older'),\n",
       " ('2011-12-26 00:00:00', 'older'),\n",
       " ('2011-12-26 00:00:00', 'older'),\n",
       " ('2011-12-26 00:00:00', 'older'),\n",
       " ('2011-12-26 00:00:00', 'older'),\n",
       " ('2011-12-27 00:00:00', 'older'),\n",
       " ('2011-08-05 00:00:00', 'older'),\n",
       " ('2011-08-07 00:00:00', 'older'),\n",
       " ('2011-08-06 00:00:00', 'older'),\n",
       " ('2011-08-07 00:00:00', 'older'),\n",
       " ('2011-08-06 00:00:00', 'older'),\n",
       " ('2011-08-06 00:00:00', 'older'),\n",
       " ('2011-08-07 00:00:00', 'older'),\n",
       " ('2011-08-06 00:00:00', 'older'),\n",
       " ('2012-01-15 00:00:00', None),\n",
       " ('2012-01-14 00:00:00', None),\n",
       " ('2012-01-14 00:00:00', None),\n",
       " ('2012-01-15 00:00:00', None)]"
      ],
      "text/html": "<table>\n    <tr>\n        <th>date</th>\n        <th>date_category</th>\n    </tr>\n    <tr>\n        <td>2011-07-29 00:00:00</td>\n        <td>older</td>\n    </tr>\n    <tr>\n        <td>2011-07-30 00:00:00</td>\n        <td>older</td>\n    </tr>\n    <tr>\n        <td>2011-07-30 00:00:00</td>\n        <td>older</td>\n    </tr>\n    <tr>\n        <td>2011-07-30 00:00:00</td>\n        <td>older</td>\n    </tr>\n    <tr>\n        <td>2011-07-30 00:00:00</td>\n        <td>older</td>\n    </tr>\n    <tr>\n        <td>2011-07-30 00:00:00</td>\n        <td>older</td>\n    </tr>\n    <tr>\n        <td>2011-07-30 00:00:00</td>\n        <td>older</td>\n    </tr>\n    <tr>\n        <td>2011-07-31 00:00:00</td>\n        <td>older</td>\n    </tr>\n    <tr>\n        <td>2011-10-16 00:00:00</td>\n        <td>older</td>\n    </tr>\n    <tr>\n        <td>2011-10-16 00:00:00</td>\n        <td>older</td>\n    </tr>\n    <tr>\n        <td>2011-10-15 00:00:00</td>\n        <td>older</td>\n    </tr>\n    <tr>\n        <td>2011-10-15 00:00:00</td>\n        <td>older</td>\n    </tr>\n    <tr>\n        <td>2011-10-15 00:00:00</td>\n        <td>older</td>\n    </tr>\n    <tr>\n        <td>2011-10-15 00:00:00</td>\n        <td>older</td>\n    </tr>\n    <tr>\n        <td>2011-10-15 00:00:00</td>\n        <td>older</td>\n    </tr>\n    <tr>\n        <td>2011-10-15 00:00:00</td>\n        <td>older</td>\n    </tr>\n    <tr>\n        <td>2011-10-23 00:00:00</td>\n        <td>older</td>\n    </tr>\n    <tr>\n        <td>2011-10-22 00:00:00</td>\n        <td>older</td>\n    </tr>\n    <tr>\n        <td>2011-10-22 00:00:00</td>\n        <td>older</td>\n    </tr>\n    <tr>\n        <td>2011-10-22 00:00:00</td>\n        <td>older</td>\n    </tr>\n    <tr>\n        <td>2011-10-23 00:00:00</td>\n        <td>older</td>\n    </tr>\n    <tr>\n        <td>2011-10-22 00:00:00</td>\n        <td>older</td>\n    </tr>\n    <tr>\n        <td>2011-10-23 00:00:00</td>\n        <td>older</td>\n    </tr>\n    <tr>\n        <td>2011-10-22 00:00:00</td>\n        <td>older</td>\n    </tr>\n    <tr>\n        <td>2011-10-29 00:00:00</td>\n        <td>older</td>\n    </tr>\n    <tr>\n        <td>2011-10-30 00:00:00</td>\n        <td>older</td>\n    </tr>\n    <tr>\n        <td>2011-10-30 00:00:00</td>\n        <td>older</td>\n    </tr>\n    <tr>\n        <td>2011-10-29 00:00:00</td>\n        <td>older</td>\n    </tr>\n    <tr>\n        <td>2011-10-29 00:00:00</td>\n        <td>older</td>\n    </tr>\n    <tr>\n        <td>2011-10-29 00:00:00</td>\n        <td>older</td>\n    </tr>\n    <tr>\n        <td>2011-10-29 00:00:00</td>\n        <td>older</td>\n    </tr>\n    <tr>\n        <td>2011-10-29 00:00:00</td>\n        <td>older</td>\n    </tr>\n    <tr>\n        <td>2011-11-06 00:00:00</td>\n        <td>older</td>\n    </tr>\n    <tr>\n        <td>2011-11-05 00:00:00</td>\n        <td>older</td>\n    </tr>\n    <tr>\n        <td>2011-11-04 00:00:00</td>\n        <td>older</td>\n    </tr>\n    <tr>\n        <td>2011-11-05 00:00:00</td>\n        <td>older</td>\n    </tr>\n    <tr>\n        <td>2011-11-05 00:00:00</td>\n        <td>older</td>\n    </tr>\n    <tr>\n        <td>2011-11-05 00:00:00</td>\n        <td>older</td>\n    </tr>\n    <tr>\n        <td>2011-11-05 00:00:00</td>\n        <td>older</td>\n    </tr>\n    <tr>\n        <td>2011-11-06 00:00:00</td>\n        <td>older</td>\n    </tr>\n    <tr>\n        <td>2011-11-20 00:00:00</td>\n        <td>older</td>\n    </tr>\n    <tr>\n        <td>2011-11-20 00:00:00</td>\n        <td>older</td>\n    </tr>\n    <tr>\n        <td>2011-11-19 00:00:00</td>\n        <td>older</td>\n    </tr>\n    <tr>\n        <td>2011-11-18 00:00:00</td>\n        <td>older</td>\n    </tr>\n    <tr>\n        <td>2011-11-19 00:00:00</td>\n        <td>older</td>\n    </tr>\n    <tr>\n        <td>2011-11-19 00:00:00</td>\n        <td>older</td>\n    </tr>\n    <tr>\n        <td>2011-11-19 00:00:00</td>\n        <td>older</td>\n    </tr>\n    <tr>\n        <td>2011-11-19 00:00:00</td>\n        <td>older</td>\n    </tr>\n    <tr>\n        <td>2011-11-25 00:00:00</td>\n        <td>older</td>\n    </tr>\n    <tr>\n        <td>2011-11-27 00:00:00</td>\n        <td>older</td>\n    </tr>\n    <tr>\n        <td>2011-11-26 00:00:00</td>\n        <td>older</td>\n    </tr>\n    <tr>\n        <td>2011-11-26 00:00:00</td>\n        <td>older</td>\n    </tr>\n    <tr>\n        <td>2011-11-26 00:00:00</td>\n        <td>older</td>\n    </tr>\n    <tr>\n        <td>2011-11-26 00:00:00</td>\n        <td>older</td>\n    </tr>\n    <tr>\n        <td>2011-11-26 00:00:00</td>\n        <td>older</td>\n    </tr>\n    <tr>\n        <td>2011-11-26 00:00:00</td>\n        <td>older</td>\n    </tr>\n    <tr>\n        <td>2011-12-04 00:00:00</td>\n        <td>older</td>\n    </tr>\n    <tr>\n        <td>2011-12-04 00:00:00</td>\n        <td>older</td>\n    </tr>\n    <tr>\n        <td>2011-12-02 00:00:00</td>\n        <td>older</td>\n    </tr>\n    <tr>\n        <td>2011-12-03 00:00:00</td>\n        <td>older</td>\n    </tr>\n    <tr>\n        <td>2011-12-03 00:00:00</td>\n        <td>older</td>\n    </tr>\n    <tr>\n        <td>2011-12-03 00:00:00</td>\n        <td>older</td>\n    </tr>\n    <tr>\n        <td>2011-12-03 00:00:00</td>\n        <td>older</td>\n    </tr>\n    <tr>\n        <td>2011-12-03 00:00:00</td>\n        <td>older</td>\n    </tr>\n    <tr>\n        <td>2011-12-11 00:00:00</td>\n        <td>older</td>\n    </tr>\n    <tr>\n        <td>2011-12-10 00:00:00</td>\n        <td>older</td>\n    </tr>\n    <tr>\n        <td>2011-12-10 00:00:00</td>\n        <td>older</td>\n    </tr>\n    <tr>\n        <td>2011-12-10 00:00:00</td>\n        <td>older</td>\n    </tr>\n    <tr>\n        <td>2011-12-10 00:00:00</td>\n        <td>older</td>\n    </tr>\n    <tr>\n        <td>2011-12-09 00:00:00</td>\n        <td>older</td>\n    </tr>\n    <tr>\n        <td>2011-12-10 00:00:00</td>\n        <td>older</td>\n    </tr>\n    <tr>\n        <td>2011-12-10 00:00:00</td>\n        <td>older</td>\n    </tr>\n    <tr>\n        <td>2011-12-18 00:00:00</td>\n        <td>older</td>\n    </tr>\n    <tr>\n        <td>2011-12-18 00:00:00</td>\n        <td>older</td>\n    </tr>\n    <tr>\n        <td>2011-12-17 00:00:00</td>\n        <td>older</td>\n    </tr>\n    <tr>\n        <td>2011-12-17 00:00:00</td>\n        <td>older</td>\n    </tr>\n    <tr>\n        <td>2011-12-18 00:00:00</td>\n        <td>older</td>\n    </tr>\n    <tr>\n        <td>2011-12-17 00:00:00</td>\n        <td>older</td>\n    </tr>\n    <tr>\n        <td>2011-12-17 00:00:00</td>\n        <td>older</td>\n    </tr>\n    <tr>\n        <td>2011-12-18 00:00:00</td>\n        <td>older</td>\n    </tr>\n    <tr>\n        <td>2011-12-26 00:00:00</td>\n        <td>older</td>\n    </tr>\n    <tr>\n        <td>2011-12-26 00:00:00</td>\n        <td>older</td>\n    </tr>\n    <tr>\n        <td>2011-12-26 00:00:00</td>\n        <td>older</td>\n    </tr>\n    <tr>\n        <td>2011-12-26 00:00:00</td>\n        <td>older</td>\n    </tr>\n    <tr>\n        <td>2011-12-26 00:00:00</td>\n        <td>older</td>\n    </tr>\n    <tr>\n        <td>2011-12-26 00:00:00</td>\n        <td>older</td>\n    </tr>\n    <tr>\n        <td>2011-12-26 00:00:00</td>\n        <td>older</td>\n    </tr>\n    <tr>\n        <td>2011-12-27 00:00:00</td>\n        <td>older</td>\n    </tr>\n    <tr>\n        <td>2011-08-05 00:00:00</td>\n        <td>older</td>\n    </tr>\n    <tr>\n        <td>2011-08-07 00:00:00</td>\n        <td>older</td>\n    </tr>\n    <tr>\n        <td>2011-08-06 00:00:00</td>\n        <td>older</td>\n    </tr>\n    <tr>\n        <td>2011-08-07 00:00:00</td>\n        <td>older</td>\n    </tr>\n    <tr>\n        <td>2011-08-06 00:00:00</td>\n        <td>older</td>\n    </tr>\n    <tr>\n        <td>2011-08-06 00:00:00</td>\n        <td>older</td>\n    </tr>\n    <tr>\n        <td>2011-08-07 00:00:00</td>\n        <td>older</td>\n    </tr>\n    <tr>\n        <td>2011-08-06 00:00:00</td>\n        <td>older</td>\n    </tr>\n    <tr>\n        <td>2012-01-15 00:00:00</td>\n        <td>None</td>\n    </tr>\n    <tr>\n        <td>2012-01-14 00:00:00</td>\n        <td>None</td>\n    </tr>\n    <tr>\n        <td>2012-01-14 00:00:00</td>\n        <td>None</td>\n    </tr>\n    <tr>\n        <td>2012-01-15 00:00:00</td>\n        <td>None</td>\n    </tr>\n</table>"
     },
     "metadata": {},
     "execution_count": 87
    }
   ],
   "source": [
    "# Primera consulta\n",
    "%sql SELECT date, \\\n",
    "CASE WHEN date > '2015-01-01' THEN 'More Recently' \\\n",
    "WHEN date < '2012-01-01' THEN 'older' \\\n",
    "END AS date_category \\\n",
    "FROM match \\\n",
    "WHERE season IN ('2011/2012') \\\n",
    "LIMIT 100"
   ]
  },
  {
   "cell_type": "code",
   "execution_count": 86,
   "metadata": {},
   "outputs": [
    {
     "output_type": "stream",
     "name": "stdout",
     "text": [
      "   sqlite://\n   sqlite:////Universidad/DataCamp/Python/intermediate_sql/SQL_SAFI.sqlite\n * sqlite:////Universidad/DataCamp/Python/intermediate_sql/european_soccer.sqlite\nDone.\n"
     ]
    },
    {
     "output_type": "execute_result",
     "data": {
      "text/plain": [
       "[('2011-07-29 00:00:00', 'older'),\n",
       " ('2011-07-30 00:00:00', 'older'),\n",
       " ('2011-07-30 00:00:00', 'older'),\n",
       " ('2011-07-30 00:00:00', 'older'),\n",
       " ('2011-07-30 00:00:00', 'older'),\n",
       " ('2011-07-30 00:00:00', 'older'),\n",
       " ('2011-07-30 00:00:00', 'older'),\n",
       " ('2011-07-31 00:00:00', 'older'),\n",
       " ('2011-10-16 00:00:00', 'older'),\n",
       " ('2011-10-16 00:00:00', 'older'),\n",
       " ('2011-10-15 00:00:00', 'older'),\n",
       " ('2011-10-15 00:00:00', 'older'),\n",
       " ('2011-10-15 00:00:00', 'older'),\n",
       " ('2011-10-15 00:00:00', 'older'),\n",
       " ('2011-10-15 00:00:00', 'older'),\n",
       " ('2011-10-15 00:00:00', 'older'),\n",
       " ('2011-10-23 00:00:00', 'older'),\n",
       " ('2011-10-22 00:00:00', 'older'),\n",
       " ('2011-10-22 00:00:00', 'older'),\n",
       " ('2011-10-22 00:00:00', 'older'),\n",
       " ('2011-10-23 00:00:00', 'older'),\n",
       " ('2011-10-22 00:00:00', 'older'),\n",
       " ('2011-10-23 00:00:00', 'older'),\n",
       " ('2011-10-22 00:00:00', 'older'),\n",
       " ('2011-10-29 00:00:00', 'older'),\n",
       " ('2011-10-30 00:00:00', 'older'),\n",
       " ('2011-10-30 00:00:00', 'older'),\n",
       " ('2011-10-29 00:00:00', 'older'),\n",
       " ('2011-10-29 00:00:00', 'older'),\n",
       " ('2011-10-29 00:00:00', 'older'),\n",
       " ('2011-10-29 00:00:00', 'older'),\n",
       " ('2011-10-29 00:00:00', 'older'),\n",
       " ('2011-11-06 00:00:00', 'older'),\n",
       " ('2011-11-05 00:00:00', 'older'),\n",
       " ('2011-11-04 00:00:00', 'older'),\n",
       " ('2011-11-05 00:00:00', 'older'),\n",
       " ('2011-11-05 00:00:00', 'older'),\n",
       " ('2011-11-05 00:00:00', 'older'),\n",
       " ('2011-11-05 00:00:00', 'older'),\n",
       " ('2011-11-06 00:00:00', 'older'),\n",
       " ('2011-11-20 00:00:00', 'older'),\n",
       " ('2011-11-20 00:00:00', 'older'),\n",
       " ('2011-11-19 00:00:00', 'older'),\n",
       " ('2011-11-18 00:00:00', 'older'),\n",
       " ('2011-11-19 00:00:00', 'older'),\n",
       " ('2011-11-19 00:00:00', 'older'),\n",
       " ('2011-11-19 00:00:00', 'older'),\n",
       " ('2011-11-19 00:00:00', 'older'),\n",
       " ('2011-11-25 00:00:00', 'older'),\n",
       " ('2011-11-27 00:00:00', 'older'),\n",
       " ('2011-11-26 00:00:00', 'older'),\n",
       " ('2011-11-26 00:00:00', 'older'),\n",
       " ('2011-11-26 00:00:00', 'older'),\n",
       " ('2011-11-26 00:00:00', 'older'),\n",
       " ('2011-11-26 00:00:00', 'older'),\n",
       " ('2011-11-26 00:00:00', 'older'),\n",
       " ('2011-12-04 00:00:00', 'older'),\n",
       " ('2011-12-04 00:00:00', 'older'),\n",
       " ('2011-12-02 00:00:00', 'older'),\n",
       " ('2011-12-03 00:00:00', 'older'),\n",
       " ('2011-12-03 00:00:00', 'older'),\n",
       " ('2011-12-03 00:00:00', 'older'),\n",
       " ('2011-12-03 00:00:00', 'older'),\n",
       " ('2011-12-03 00:00:00', 'older'),\n",
       " ('2011-12-11 00:00:00', 'older'),\n",
       " ('2011-12-10 00:00:00', 'older'),\n",
       " ('2011-12-10 00:00:00', 'older'),\n",
       " ('2011-12-10 00:00:00', 'older'),\n",
       " ('2011-12-10 00:00:00', 'older'),\n",
       " ('2011-12-09 00:00:00', 'older'),\n",
       " ('2011-12-10 00:00:00', 'older'),\n",
       " ('2011-12-10 00:00:00', 'older'),\n",
       " ('2011-12-18 00:00:00', 'older'),\n",
       " ('2011-12-18 00:00:00', 'older'),\n",
       " ('2011-12-17 00:00:00', 'older'),\n",
       " ('2011-12-17 00:00:00', 'older'),\n",
       " ('2011-12-18 00:00:00', 'older'),\n",
       " ('2011-12-17 00:00:00', 'older'),\n",
       " ('2011-12-17 00:00:00', 'older'),\n",
       " ('2011-12-18 00:00:00', 'older'),\n",
       " ('2011-12-26 00:00:00', 'older'),\n",
       " ('2011-12-26 00:00:00', 'older'),\n",
       " ('2011-12-26 00:00:00', 'older'),\n",
       " ('2011-12-26 00:00:00', 'older'),\n",
       " ('2011-12-26 00:00:00', 'older'),\n",
       " ('2011-12-26 00:00:00', 'older'),\n",
       " ('2011-12-26 00:00:00', 'older'),\n",
       " ('2011-12-27 00:00:00', 'older'),\n",
       " ('2011-08-05 00:00:00', 'older'),\n",
       " ('2011-08-07 00:00:00', 'older'),\n",
       " ('2011-08-06 00:00:00', 'older'),\n",
       " ('2011-08-07 00:00:00', 'older'),\n",
       " ('2011-08-06 00:00:00', 'older'),\n",
       " ('2011-08-06 00:00:00', 'older'),\n",
       " ('2011-08-07 00:00:00', 'older'),\n",
       " ('2011-08-06 00:00:00', 'older'),\n",
       " ('2012-01-15 00:00:00', None),\n",
       " ('2012-01-14 00:00:00', None),\n",
       " ('2012-01-14 00:00:00', None),\n",
       " ('2012-01-15 00:00:00', None)]"
      ],
      "text/html": "<table>\n    <tr>\n        <th>date</th>\n        <th>date_category</th>\n    </tr>\n    <tr>\n        <td>2011-07-29 00:00:00</td>\n        <td>older</td>\n    </tr>\n    <tr>\n        <td>2011-07-30 00:00:00</td>\n        <td>older</td>\n    </tr>\n    <tr>\n        <td>2011-07-30 00:00:00</td>\n        <td>older</td>\n    </tr>\n    <tr>\n        <td>2011-07-30 00:00:00</td>\n        <td>older</td>\n    </tr>\n    <tr>\n        <td>2011-07-30 00:00:00</td>\n        <td>older</td>\n    </tr>\n    <tr>\n        <td>2011-07-30 00:00:00</td>\n        <td>older</td>\n    </tr>\n    <tr>\n        <td>2011-07-30 00:00:00</td>\n        <td>older</td>\n    </tr>\n    <tr>\n        <td>2011-07-31 00:00:00</td>\n        <td>older</td>\n    </tr>\n    <tr>\n        <td>2011-10-16 00:00:00</td>\n        <td>older</td>\n    </tr>\n    <tr>\n        <td>2011-10-16 00:00:00</td>\n        <td>older</td>\n    </tr>\n    <tr>\n        <td>2011-10-15 00:00:00</td>\n        <td>older</td>\n    </tr>\n    <tr>\n        <td>2011-10-15 00:00:00</td>\n        <td>older</td>\n    </tr>\n    <tr>\n        <td>2011-10-15 00:00:00</td>\n        <td>older</td>\n    </tr>\n    <tr>\n        <td>2011-10-15 00:00:00</td>\n        <td>older</td>\n    </tr>\n    <tr>\n        <td>2011-10-15 00:00:00</td>\n        <td>older</td>\n    </tr>\n    <tr>\n        <td>2011-10-15 00:00:00</td>\n        <td>older</td>\n    </tr>\n    <tr>\n        <td>2011-10-23 00:00:00</td>\n        <td>older</td>\n    </tr>\n    <tr>\n        <td>2011-10-22 00:00:00</td>\n        <td>older</td>\n    </tr>\n    <tr>\n        <td>2011-10-22 00:00:00</td>\n        <td>older</td>\n    </tr>\n    <tr>\n        <td>2011-10-22 00:00:00</td>\n        <td>older</td>\n    </tr>\n    <tr>\n        <td>2011-10-23 00:00:00</td>\n        <td>older</td>\n    </tr>\n    <tr>\n        <td>2011-10-22 00:00:00</td>\n        <td>older</td>\n    </tr>\n    <tr>\n        <td>2011-10-23 00:00:00</td>\n        <td>older</td>\n    </tr>\n    <tr>\n        <td>2011-10-22 00:00:00</td>\n        <td>older</td>\n    </tr>\n    <tr>\n        <td>2011-10-29 00:00:00</td>\n        <td>older</td>\n    </tr>\n    <tr>\n        <td>2011-10-30 00:00:00</td>\n        <td>older</td>\n    </tr>\n    <tr>\n        <td>2011-10-30 00:00:00</td>\n        <td>older</td>\n    </tr>\n    <tr>\n        <td>2011-10-29 00:00:00</td>\n        <td>older</td>\n    </tr>\n    <tr>\n        <td>2011-10-29 00:00:00</td>\n        <td>older</td>\n    </tr>\n    <tr>\n        <td>2011-10-29 00:00:00</td>\n        <td>older</td>\n    </tr>\n    <tr>\n        <td>2011-10-29 00:00:00</td>\n        <td>older</td>\n    </tr>\n    <tr>\n        <td>2011-10-29 00:00:00</td>\n        <td>older</td>\n    </tr>\n    <tr>\n        <td>2011-11-06 00:00:00</td>\n        <td>older</td>\n    </tr>\n    <tr>\n        <td>2011-11-05 00:00:00</td>\n        <td>older</td>\n    </tr>\n    <tr>\n        <td>2011-11-04 00:00:00</td>\n        <td>older</td>\n    </tr>\n    <tr>\n        <td>2011-11-05 00:00:00</td>\n        <td>older</td>\n    </tr>\n    <tr>\n        <td>2011-11-05 00:00:00</td>\n        <td>older</td>\n    </tr>\n    <tr>\n        <td>2011-11-05 00:00:00</td>\n        <td>older</td>\n    </tr>\n    <tr>\n        <td>2011-11-05 00:00:00</td>\n        <td>older</td>\n    </tr>\n    <tr>\n        <td>2011-11-06 00:00:00</td>\n        <td>older</td>\n    </tr>\n    <tr>\n        <td>2011-11-20 00:00:00</td>\n        <td>older</td>\n    </tr>\n    <tr>\n        <td>2011-11-20 00:00:00</td>\n        <td>older</td>\n    </tr>\n    <tr>\n        <td>2011-11-19 00:00:00</td>\n        <td>older</td>\n    </tr>\n    <tr>\n        <td>2011-11-18 00:00:00</td>\n        <td>older</td>\n    </tr>\n    <tr>\n        <td>2011-11-19 00:00:00</td>\n        <td>older</td>\n    </tr>\n    <tr>\n        <td>2011-11-19 00:00:00</td>\n        <td>older</td>\n    </tr>\n    <tr>\n        <td>2011-11-19 00:00:00</td>\n        <td>older</td>\n    </tr>\n    <tr>\n        <td>2011-11-19 00:00:00</td>\n        <td>older</td>\n    </tr>\n    <tr>\n        <td>2011-11-25 00:00:00</td>\n        <td>older</td>\n    </tr>\n    <tr>\n        <td>2011-11-27 00:00:00</td>\n        <td>older</td>\n    </tr>\n    <tr>\n        <td>2011-11-26 00:00:00</td>\n        <td>older</td>\n    </tr>\n    <tr>\n        <td>2011-11-26 00:00:00</td>\n        <td>older</td>\n    </tr>\n    <tr>\n        <td>2011-11-26 00:00:00</td>\n        <td>older</td>\n    </tr>\n    <tr>\n        <td>2011-11-26 00:00:00</td>\n        <td>older</td>\n    </tr>\n    <tr>\n        <td>2011-11-26 00:00:00</td>\n        <td>older</td>\n    </tr>\n    <tr>\n        <td>2011-11-26 00:00:00</td>\n        <td>older</td>\n    </tr>\n    <tr>\n        <td>2011-12-04 00:00:00</td>\n        <td>older</td>\n    </tr>\n    <tr>\n        <td>2011-12-04 00:00:00</td>\n        <td>older</td>\n    </tr>\n    <tr>\n        <td>2011-12-02 00:00:00</td>\n        <td>older</td>\n    </tr>\n    <tr>\n        <td>2011-12-03 00:00:00</td>\n        <td>older</td>\n    </tr>\n    <tr>\n        <td>2011-12-03 00:00:00</td>\n        <td>older</td>\n    </tr>\n    <tr>\n        <td>2011-12-03 00:00:00</td>\n        <td>older</td>\n    </tr>\n    <tr>\n        <td>2011-12-03 00:00:00</td>\n        <td>older</td>\n    </tr>\n    <tr>\n        <td>2011-12-03 00:00:00</td>\n        <td>older</td>\n    </tr>\n    <tr>\n        <td>2011-12-11 00:00:00</td>\n        <td>older</td>\n    </tr>\n    <tr>\n        <td>2011-12-10 00:00:00</td>\n        <td>older</td>\n    </tr>\n    <tr>\n        <td>2011-12-10 00:00:00</td>\n        <td>older</td>\n    </tr>\n    <tr>\n        <td>2011-12-10 00:00:00</td>\n        <td>older</td>\n    </tr>\n    <tr>\n        <td>2011-12-10 00:00:00</td>\n        <td>older</td>\n    </tr>\n    <tr>\n        <td>2011-12-09 00:00:00</td>\n        <td>older</td>\n    </tr>\n    <tr>\n        <td>2011-12-10 00:00:00</td>\n        <td>older</td>\n    </tr>\n    <tr>\n        <td>2011-12-10 00:00:00</td>\n        <td>older</td>\n    </tr>\n    <tr>\n        <td>2011-12-18 00:00:00</td>\n        <td>older</td>\n    </tr>\n    <tr>\n        <td>2011-12-18 00:00:00</td>\n        <td>older</td>\n    </tr>\n    <tr>\n        <td>2011-12-17 00:00:00</td>\n        <td>older</td>\n    </tr>\n    <tr>\n        <td>2011-12-17 00:00:00</td>\n        <td>older</td>\n    </tr>\n    <tr>\n        <td>2011-12-18 00:00:00</td>\n        <td>older</td>\n    </tr>\n    <tr>\n        <td>2011-12-17 00:00:00</td>\n        <td>older</td>\n    </tr>\n    <tr>\n        <td>2011-12-17 00:00:00</td>\n        <td>older</td>\n    </tr>\n    <tr>\n        <td>2011-12-18 00:00:00</td>\n        <td>older</td>\n    </tr>\n    <tr>\n        <td>2011-12-26 00:00:00</td>\n        <td>older</td>\n    </tr>\n    <tr>\n        <td>2011-12-26 00:00:00</td>\n        <td>older</td>\n    </tr>\n    <tr>\n        <td>2011-12-26 00:00:00</td>\n        <td>older</td>\n    </tr>\n    <tr>\n        <td>2011-12-26 00:00:00</td>\n        <td>older</td>\n    </tr>\n    <tr>\n        <td>2011-12-26 00:00:00</td>\n        <td>older</td>\n    </tr>\n    <tr>\n        <td>2011-12-26 00:00:00</td>\n        <td>older</td>\n    </tr>\n    <tr>\n        <td>2011-12-26 00:00:00</td>\n        <td>older</td>\n    </tr>\n    <tr>\n        <td>2011-12-27 00:00:00</td>\n        <td>older</td>\n    </tr>\n    <tr>\n        <td>2011-08-05 00:00:00</td>\n        <td>older</td>\n    </tr>\n    <tr>\n        <td>2011-08-07 00:00:00</td>\n        <td>older</td>\n    </tr>\n    <tr>\n        <td>2011-08-06 00:00:00</td>\n        <td>older</td>\n    </tr>\n    <tr>\n        <td>2011-08-07 00:00:00</td>\n        <td>older</td>\n    </tr>\n    <tr>\n        <td>2011-08-06 00:00:00</td>\n        <td>older</td>\n    </tr>\n    <tr>\n        <td>2011-08-06 00:00:00</td>\n        <td>older</td>\n    </tr>\n    <tr>\n        <td>2011-08-07 00:00:00</td>\n        <td>older</td>\n    </tr>\n    <tr>\n        <td>2011-08-06 00:00:00</td>\n        <td>older</td>\n    </tr>\n    <tr>\n        <td>2012-01-15 00:00:00</td>\n        <td>None</td>\n    </tr>\n    <tr>\n        <td>2012-01-14 00:00:00</td>\n        <td>None</td>\n    </tr>\n    <tr>\n        <td>2012-01-14 00:00:00</td>\n        <td>None</td>\n    </tr>\n    <tr>\n        <td>2012-01-15 00:00:00</td>\n        <td>None</td>\n    </tr>\n</table>"
     },
     "metadata": {},
     "execution_count": 86
    }
   ],
   "source": [
    "# Segunda consulta con ELSE NULL\n",
    "%sql SELECT date, \\\n",
    "CASE WHEN date > '2015-01-01' THEN 'More Recently' \\\n",
    "WHEN date < '2012-01-01' THEN 'older' \\\n",
    "ELSE NULL END AS date_category \\\n",
    "FROM match \\\n",
    "WHERE season IN ('2011/2012') \\\n",
    "LIMIT 100"
   ]
  },
  {
   "source": [
    "Ambas consultas devuelven resultados idénticos: tablas con algunos resultados nulos. Pero, ¿y si queremos excluirlos?\n",
    "\n",
    "## What are NULL values doing?\n",
    "\n",
    "Digamos que solo nos interesa ver los resultados de los partidos en los que ganó el Chelsea, y no nos importa si pierde o empata.\n",
    "\n",
    "Al igual que en el ejemplo anterior, simplemente eliminando la cláusula ELSE, recuperará esos resultados y muchos valores NULL."
   ],
   "cell_type": "markdown",
   "metadata": {}
  },
  {
   "cell_type": "code",
   "execution_count": 93,
   "metadata": {},
   "outputs": [
    {
     "output_type": "stream",
     "name": "stdout",
     "text": [
      "   sqlite://\n   sqlite:////Universidad/DataCamp/Python/intermediate_sql/SQL_SAFI.sqlite\n * sqlite:////Universidad/DataCamp/Python/intermediate_sql/european_soccer.sqlite\nDone.\n"
     ]
    },
    {
     "output_type": "execute_result",
     "data": {
      "text/plain": [
       "[('2008-08-17 00:00:00', '2008/2009', 'Chelsea ganó en casa'),\n",
       " ('2008-10-29 00:00:00', '2008/2009', 'Chelsea ganó de visitante'),\n",
       " ('2008-11-01 00:00:00', '2008/2009', 'Chelsea ganó en casa'),\n",
       " ('2008-11-09 00:00:00', '2008/2009', 'Chelsea ganó de visitante'),\n",
       " ('2008-11-15 00:00:00', '2008/2009', 'Chelsea ganó de visitante'),\n",
       " ('2008-11-22 00:00:00', '2008/2009', None),\n",
       " ('2008-11-30 00:00:00', '2008/2009', None),\n",
       " ('2008-12-06 00:00:00', '2008/2009', 'Chelsea ganó de visitante'),\n",
       " ('2008-12-14 00:00:00', '2008/2009', None),\n",
       " ('2008-12-22 00:00:00', '2008/2009', None)]"
      ],
      "text/html": "<table>\n    <tr>\n        <th>date</th>\n        <th>season</th>\n        <th>outcome</th>\n    </tr>\n    <tr>\n        <td>2008-08-17 00:00:00</td>\n        <td>2008/2009</td>\n        <td>Chelsea ganó en casa</td>\n    </tr>\n    <tr>\n        <td>2008-10-29 00:00:00</td>\n        <td>2008/2009</td>\n        <td>Chelsea ganó de visitante</td>\n    </tr>\n    <tr>\n        <td>2008-11-01 00:00:00</td>\n        <td>2008/2009</td>\n        <td>Chelsea ganó en casa</td>\n    </tr>\n    <tr>\n        <td>2008-11-09 00:00:00</td>\n        <td>2008/2009</td>\n        <td>Chelsea ganó de visitante</td>\n    </tr>\n    <tr>\n        <td>2008-11-15 00:00:00</td>\n        <td>2008/2009</td>\n        <td>Chelsea ganó de visitante</td>\n    </tr>\n    <tr>\n        <td>2008-11-22 00:00:00</td>\n        <td>2008/2009</td>\n        <td>None</td>\n    </tr>\n    <tr>\n        <td>2008-11-30 00:00:00</td>\n        <td>2008/2009</td>\n        <td>None</td>\n    </tr>\n    <tr>\n        <td>2008-12-06 00:00:00</td>\n        <td>2008/2009</td>\n        <td>Chelsea ganó de visitante</td>\n    </tr>\n    <tr>\n        <td>2008-12-14 00:00:00</td>\n        <td>2008/2009</td>\n        <td>None</td>\n    </tr>\n    <tr>\n        <td>2008-12-22 00:00:00</td>\n        <td>2008/2009</td>\n        <td>None</td>\n    </tr>\n</table>"
     },
     "metadata": {},
     "execution_count": 93
    }
   ],
   "source": [
    "%sql SELECT date, season, \\\n",
    "CASE WHEN home_team_api_id = 8455 AND home_team_goal > away_team_goal THEN 'Chelsea ganó en casa' \\\n",
    "WHEN away_team_api_id = 8455 AND home_team_goal < away_team_goal THEN 'Chelsea ganó de visitante' \\\n",
    "END AS outcome \\\n",
    "FROM Match \\\n",
    "WHERE home_team_api_id = 8455 OR away_team_api_id = 8455 \\\n",
    "LIMIT 10"
   ]
  },
  {
   "source": [
    "## Where to place your CASE?\n",
    "\n",
    "Para corregir esto, podemos tratar la declaración CASE completa como una columna para filtrar en la cláusula WHERE, como cualquier otra columna.\n",
    "\n",
    "Para filtrar una consulta por una declaración CASE, debemos modificar la primera consulta a continuación, de forma que quede como en la segunda, es decir:\n",
    "\n",
    "- Se incluye la instrucción CASE completa, EXCEPTO SU ALIAS, en WHERE.\n",
    "\n",
    "- A continuación, se especifica lo que se desea incluir o excluir.\n",
    "\n",
    "En el caso de la segunda consulta, en específico, deseamos mantener todas las filas en donde la declaración CASE NO SEA NULA (END IS NOT NULL)."
   ],
   "cell_type": "markdown",
   "metadata": {}
  },
  {
   "cell_type": "code",
   "execution_count": 102,
   "metadata": {},
   "outputs": [
    {
     "output_type": "stream",
     "name": "stdout",
     "text": [
      "   sqlite://\n   sqlite:////Universidad/DataCamp/Python/intermediate_sql/SQL_SAFI.sqlite\n * sqlite:////Universidad/DataCamp/Python/intermediate_sql/european_soccer.sqlite\nDone.\n"
     ]
    },
    {
     "output_type": "execute_result",
     "data": {
      "text/plain": [
       "[('2008-08-17 00:00:00', '2008/2009', 'Chelsea ganó en casa'),\n",
       " ('2008-10-29 00:00:00', '2008/2009', 'Chelsea ganó de visitante'),\n",
       " ('2008-11-01 00:00:00', '2008/2009', 'Chelsea ganó en casa'),\n",
       " ('2008-11-09 00:00:00', '2008/2009', 'Chelsea ganó de visitante'),\n",
       " ('2008-11-15 00:00:00', '2008/2009', 'Chelsea ganó de visitante'),\n",
       " ('2008-11-22 00:00:00', '2008/2009', None),\n",
       " ('2008-11-30 00:00:00', '2008/2009', None),\n",
       " ('2008-12-06 00:00:00', '2008/2009', 'Chelsea ganó de visitante'),\n",
       " ('2008-12-14 00:00:00', '2008/2009', None),\n",
       " ('2008-12-22 00:00:00', '2008/2009', None)]"
      ],
      "text/html": "<table>\n    <tr>\n        <th>date</th>\n        <th>season</th>\n        <th>outcome</th>\n    </tr>\n    <tr>\n        <td>2008-08-17 00:00:00</td>\n        <td>2008/2009</td>\n        <td>Chelsea ganó en casa</td>\n    </tr>\n    <tr>\n        <td>2008-10-29 00:00:00</td>\n        <td>2008/2009</td>\n        <td>Chelsea ganó de visitante</td>\n    </tr>\n    <tr>\n        <td>2008-11-01 00:00:00</td>\n        <td>2008/2009</td>\n        <td>Chelsea ganó en casa</td>\n    </tr>\n    <tr>\n        <td>2008-11-09 00:00:00</td>\n        <td>2008/2009</td>\n        <td>Chelsea ganó de visitante</td>\n    </tr>\n    <tr>\n        <td>2008-11-15 00:00:00</td>\n        <td>2008/2009</td>\n        <td>Chelsea ganó de visitante</td>\n    </tr>\n    <tr>\n        <td>2008-11-22 00:00:00</td>\n        <td>2008/2009</td>\n        <td>None</td>\n    </tr>\n    <tr>\n        <td>2008-11-30 00:00:00</td>\n        <td>2008/2009</td>\n        <td>None</td>\n    </tr>\n    <tr>\n        <td>2008-12-06 00:00:00</td>\n        <td>2008/2009</td>\n        <td>Chelsea ganó de visitante</td>\n    </tr>\n    <tr>\n        <td>2008-12-14 00:00:00</td>\n        <td>2008/2009</td>\n        <td>None</td>\n    </tr>\n    <tr>\n        <td>2008-12-22 00:00:00</td>\n        <td>2008/2009</td>\n        <td>None</td>\n    </tr>\n</table>"
     },
     "metadata": {},
     "execution_count": 102
    }
   ],
   "source": [
    "# Primera consulta\n",
    "%sql SELECT date, \\\n",
    "season, \\\n",
    "CASE WHEN home_team_api_id = 8455 AND home_team_goal > away_team_goal THEN 'Chelsea ganó en casa' \\\n",
    "WHEN away_team_api_id = 8455 AND home_team_goal < away_team_goal THEN 'Chelsea ganó de visitante' END AS outcome \\\n",
    "FROM match \\\n",
    "WHERE away_team_api_id = 8455 OR home_team_api_id = 8455 \\\n",
    "LIMIT 10"
   ]
  },
  {
   "cell_type": "code",
   "execution_count": 100,
   "metadata": {},
   "outputs": [
    {
     "output_type": "stream",
     "name": "stdout",
     "text": [
      "   sqlite://\n   sqlite:////Universidad/DataCamp/Python/intermediate_sql/SQL_SAFI.sqlite\n * sqlite:////Universidad/DataCamp/Python/intermediate_sql/european_soccer.sqlite\nDone.\n"
     ]
    },
    {
     "output_type": "execute_result",
     "data": {
      "text/plain": [
       "[('2008-08-17 00:00:00', '2008/2009', 'Chelsea ganó en casa'),\n",
       " ('2008-10-29 00:00:00', '2008/2009', 'Chelsea ganó de visitante'),\n",
       " ('2008-11-01 00:00:00', '2008/2009', 'Chelsea ganó en casa'),\n",
       " ('2008-11-09 00:00:00', '2008/2009', 'Chelsea ganó de visitante'),\n",
       " ('2008-11-15 00:00:00', '2008/2009', 'Chelsea ganó de visitante'),\n",
       " ('2008-12-06 00:00:00', '2008/2009', 'Chelsea ganó de visitante'),\n",
       " ('2008-12-26 00:00:00', '2008/2009', 'Chelsea ganó en casa'),\n",
       " ('2008-08-24 00:00:00', '2008/2009', 'Chelsea ganó de visitante'),\n",
       " ('2009-01-17 00:00:00', '2008/2009', 'Chelsea ganó en casa'),\n",
       " ('2009-01-28 00:00:00', '2008/2009', 'Chelsea ganó en casa')]"
      ],
      "text/html": "<table>\n    <tr>\n        <th>date</th>\n        <th>season</th>\n        <th>outcome</th>\n    </tr>\n    <tr>\n        <td>2008-08-17 00:00:00</td>\n        <td>2008/2009</td>\n        <td>Chelsea ganó en casa</td>\n    </tr>\n    <tr>\n        <td>2008-10-29 00:00:00</td>\n        <td>2008/2009</td>\n        <td>Chelsea ganó de visitante</td>\n    </tr>\n    <tr>\n        <td>2008-11-01 00:00:00</td>\n        <td>2008/2009</td>\n        <td>Chelsea ganó en casa</td>\n    </tr>\n    <tr>\n        <td>2008-11-09 00:00:00</td>\n        <td>2008/2009</td>\n        <td>Chelsea ganó de visitante</td>\n    </tr>\n    <tr>\n        <td>2008-11-15 00:00:00</td>\n        <td>2008/2009</td>\n        <td>Chelsea ganó de visitante</td>\n    </tr>\n    <tr>\n        <td>2008-12-06 00:00:00</td>\n        <td>2008/2009</td>\n        <td>Chelsea ganó de visitante</td>\n    </tr>\n    <tr>\n        <td>2008-12-26 00:00:00</td>\n        <td>2008/2009</td>\n        <td>Chelsea ganó en casa</td>\n    </tr>\n    <tr>\n        <td>2008-08-24 00:00:00</td>\n        <td>2008/2009</td>\n        <td>Chelsea ganó de visitante</td>\n    </tr>\n    <tr>\n        <td>2009-01-17 00:00:00</td>\n        <td>2008/2009</td>\n        <td>Chelsea ganó en casa</td>\n    </tr>\n    <tr>\n        <td>2009-01-28 00:00:00</td>\n        <td>2008/2009</td>\n        <td>Chelsea ganó en casa</td>\n    </tr>\n</table>"
     },
     "metadata": {},
     "execution_count": 100
    }
   ],
   "source": [
    "# Segunda consulta\n",
    "%sql SELECT date, \\\n",
    "season, \\\n",
    "CASE WHEN home_team_api_id = 8455 AND home_team_goal > away_team_goal THEN 'Chelsea ganó en casa' \\\n",
    "WHEN away_team_api_id = 8455 AND home_team_goal < away_team_goal THEN 'Chelsea ganó de visitante' END AS outcome \\\n",
    "FROM match \\\n",
    "WHERE CASE WHEN home_team_api_id = 8455 AND home_team_goal > away_team_goal THEN 'Chelsea ganó en casa' \\\n",
    "WHEN away_team_api_id = 8455 AND home_team_goal < away_team_goal THEN 'Chelsea ganó de visitante' END IS NOT NULL \\\n",
    "LIMIT 10"
   ]
  },
  {
   "source": [
    "De esta forma, la tabla resultante ahora solo incluye cuando Chelsea estaba en casa o de visitante, ¡y ya no necesitamos filtrar por el ID de equipo!\n",
    "\n",
    "Bueno, ¡practiquemos algunas declaraciones CASE más complejas!"
   ],
   "cell_type": "markdown",
   "metadata": {}
  },
  {
   "source": [
    "### EX 4° : In case of rivalry\n",
    "Haremos una consulta con los partidos jugados entre el FC Barcelona y el Real Madrid (El Clásico)."
   ],
   "cell_type": "markdown",
   "metadata": {}
  },
  {
   "cell_type": "code",
   "execution_count": 108,
   "metadata": {},
   "outputs": [
    {
     "output_type": "stream",
     "name": "stdout",
     "text": [
      "   sqlite://\n   sqlite:////Universidad/DataCamp/Python/intermediate_sql/SQL_SAFI.sqlite\n * sqlite:////Universidad/DataCamp/Python/intermediate_sql/european_soccer.sqlite\nDone.\n"
     ]
    },
    {
     "output_type": "execute_result",
     "data": {
      "text/plain": [
       "[('Real Madrid CF', 8633), ('FC Barcelona', 8634)]"
      ],
      "text/html": "<table>\n    <tr>\n        <th>team_name</th>\n        <th>id</th>\n    </tr>\n    <tr>\n        <td>Real Madrid CF</td>\n        <td>8633</td>\n    </tr>\n    <tr>\n        <td>FC Barcelona</td>\n        <td>8634</td>\n    </tr>\n</table>"
     },
     "metadata": {},
     "execution_count": 108
    }
   ],
   "source": [
    "# Realizamos un query para obtener los ID\n",
    "%sql SELECT team_long_name AS team_name, team_api_id AS id \\\n",
    "FROM team \\\n",
    "WHERE team_long_name IN ('FC Barcelona', 'Real Madrid CF')"
   ]
  },
  {
   "cell_type": "code",
   "execution_count": 154,
   "metadata": {},
   "outputs": [
    {
     "output_type": "stream",
     "name": "stdout",
     "text": [
      "   sqlite://\n   sqlite:////Universidad/DataCamp/Python/intermediate_sql/SQL_SAFI.sqlite\n * sqlite:////Universidad/DataCamp/Python/intermediate_sql/european_soccer.sqlite\nDone.\n"
     ]
    },
    {
     "output_type": "execute_result",
     "data": {
      "text/plain": [
       "[('2011-12-10 00:00:00', 'Real Madrid CF', 'FC Barcelona', 'Ganó el Barcelona'),\n",
       " ('2012-04-21 00:00:00', 'FC Barcelona', 'Real Madrid CF', 'Ganó el Real Madrid'),\n",
       " ('2013-03-02 00:00:00', 'Real Madrid CF', 'FC Barcelona', 'Ganó el Real Madrid'),\n",
       " ('2012-10-07 00:00:00', 'FC Barcelona', 'Real Madrid CF', 'Empate'),\n",
       " ('2013-10-26 00:00:00', 'FC Barcelona', 'Real Madrid CF', 'Ganó el FC Barcelona'),\n",
       " ('2014-03-23 00:00:00', 'Real Madrid CF', 'FC Barcelona', 'Ganó el Barcelona'),\n",
       " ('2015-03-22 00:00:00', 'FC Barcelona', 'Real Madrid CF', 'Ganó el FC Barcelona'),\n",
       " ('2014-10-25 00:00:00', 'Real Madrid CF', 'FC Barcelona', 'Ganó el Real Madrid')]"
      ],
      "text/html": "<table>\n    <tr>\n        <th>fecha</th>\n        <th>casa</th>\n        <th>visitante</th>\n        <th>resultado</th>\n    </tr>\n    <tr>\n        <td>2011-12-10 00:00:00</td>\n        <td>Real Madrid CF</td>\n        <td>FC Barcelona</td>\n        <td>Ganó el Barcelona</td>\n    </tr>\n    <tr>\n        <td>2012-04-21 00:00:00</td>\n        <td>FC Barcelona</td>\n        <td>Real Madrid CF</td>\n        <td>Ganó el Real Madrid</td>\n    </tr>\n    <tr>\n        <td>2013-03-02 00:00:00</td>\n        <td>Real Madrid CF</td>\n        <td>FC Barcelona</td>\n        <td>Ganó el Real Madrid</td>\n    </tr>\n    <tr>\n        <td>2012-10-07 00:00:00</td>\n        <td>FC Barcelona</td>\n        <td>Real Madrid CF</td>\n        <td>Empate</td>\n    </tr>\n    <tr>\n        <td>2013-10-26 00:00:00</td>\n        <td>FC Barcelona</td>\n        <td>Real Madrid CF</td>\n        <td>Ganó el FC Barcelona</td>\n    </tr>\n    <tr>\n        <td>2014-03-23 00:00:00</td>\n        <td>Real Madrid CF</td>\n        <td>FC Barcelona</td>\n        <td>Ganó el Barcelona</td>\n    </tr>\n    <tr>\n        <td>2015-03-22 00:00:00</td>\n        <td>FC Barcelona</td>\n        <td>Real Madrid CF</td>\n        <td>Ganó el FC Barcelona</td>\n    </tr>\n    <tr>\n        <td>2014-10-25 00:00:00</td>\n        <td>Real Madrid CF</td>\n        <td>FC Barcelona</td>\n        <td>Ganó el Real Madrid</td>\n    </tr>\n</table>"
     },
     "metadata": {},
     "execution_count": 154
    }
   ],
   "source": [
    "# Realizamos el query\n",
    "%sql SELECT date AS fecha, \\\n",
    "CASE WHEN home_team_api_id = 8634 THEN 'FC Barcelona' \\\n",
    "ELSE 'Real Madrid CF' END AS casa, \\\n",
    "CASE WHEN away_team_api_id = 8634 THEN 'FC Barcelona' \\\n",
    "ELSE 'Real Madrid CF' END AS visitante, \\\n",
    "CASE WHEN home_team_goal > away_team_goal AND home_team_api_id = 8634 THEN 'Ganó el FC Barcelona' \\\n",
    "WHEN home_team_goal < away_team_goal AND home_team_api_id = 8634 THEN 'Ganó el Real Madrid' \\\n",
    "WHEN home_team_goal > away_team_goal AND home_team_api_id = 8633 THEN 'Ganó el Real Madrid' \\\n",
    "WHEN home_team_goal < away_team_goal AND home_team_api_id = 8633 THEN 'Ganó el Barcelona' ELSE 'Empate' END AS resultado \\\n",
    "FROM match \\\n",
    "WHERE season IN ('2011/2012', '2012/2013', '2013/2014', '2014/2015') AND (home_team_api_id = 8634 OR away_team_api_id = 8634) AND (home_team_api_id = 8633 OR away_team_api_id = 8633)"
   ]
  },
  {
   "cell_type": "code",
   "execution_count": null,
   "metadata": {},
   "outputs": [],
   "source": [
    "### EX 5 : Filtering your CASE statement\n",
    "Generaremos una lista de partidos ganados por el Bologna de Italia."
   ]
  },
  {
   "cell_type": "code",
   "execution_count": 158,
   "metadata": {},
   "outputs": [
    {
     "output_type": "stream",
     "name": "stdout",
     "text": [
      "   sqlite://\n   sqlite:////Universidad/DataCamp/Python/intermediate_sql/SQL_SAFI.sqlite\n * sqlite:////Universidad/DataCamp/Python/intermediate_sql/european_soccer.sqlite\nDone.\n"
     ]
    },
    {
     "output_type": "execute_result",
     "data": {
      "text/plain": [
       "[('Bologna', 9857)]"
      ],
      "text/html": "<table>\n    <tr>\n        <th>team_long_name</th>\n        <th>team_api_id</th>\n    </tr>\n    <tr>\n        <td>Bologna</td>\n        <td>9857</td>\n    </tr>\n</table>"
     },
     "metadata": {},
     "execution_count": 158
    }
   ],
   "source": [
    "# Seleccionamos el ID\n",
    "%sql SELECT team_long_name, team_api_id \\\n",
    "FROM team \\\n",
    "WHERE team_long_name LIKE '%Bologna%'"
   ]
  },
  {
   "cell_type": "code",
   "execution_count": 190,
   "metadata": {},
   "outputs": [
    {
     "output_type": "stream",
     "name": "stdout",
     "text": [
      "   sqlite://\n   sqlite:////Universidad/DataCamp/Python/intermediate_sql/SQL_SAFI.sqlite\n * sqlite:////Universidad/DataCamp/Python/intermediate_sql/european_soccer.sqlite\nDone.\n"
     ]
    },
    {
     "output_type": "execute_result",
     "data": {
      "text/plain": [
       "[('2008/2009', '2008-08-31 00:00:00', 8564, 9857, 1, 2, 1),\n",
       " ('2008/2009', '2008-11-02 00:00:00', 8529, 9857, 5, 1, 0),\n",
       " ('2008/2009', '2008-11-08 00:00:00', 9857, 8686, 1, 1, 0),\n",
       " ('2008/2009', '2008-11-16 00:00:00', 8551, 9857, 1, 1, 0),\n",
       " ('2008/2009', '2008-11-23 00:00:00', 9857, 8540, 1, 1, 0),\n",
       " ('2008/2009', '2008-11-30 00:00:00', 10233, 9857, 1, 1, 0),\n",
       " ('2008/2009', '2008-12-07 00:00:00', 8690, 9857, 2, 2, 0),\n",
       " ('2008/2009', '2008-12-13 00:00:00', 9857, 9804, 5, 2, 1),\n",
       " ('2008/2009', '2008-12-21 00:00:00', 9888, 9857, 0, 0, 0),\n",
       " ('2008/2009', '2009-01-11 00:00:00', 9857, 8533, 1, 1, 0)]"
      ],
      "text/html": "<table>\n    <tr>\n        <th>season</th>\n        <th>date</th>\n        <th>home_team_api_id</th>\n        <th>away_team_api_id</th>\n        <th>home_team_goal</th>\n        <th>away_team_goal</th>\n        <th>outcome</th>\n    </tr>\n    <tr>\n        <td>2008/2009</td>\n        <td>2008-08-31 00:00:00</td>\n        <td>8564</td>\n        <td>9857</td>\n        <td>1</td>\n        <td>2</td>\n        <td>1</td>\n    </tr>\n    <tr>\n        <td>2008/2009</td>\n        <td>2008-11-02 00:00:00</td>\n        <td>8529</td>\n        <td>9857</td>\n        <td>5</td>\n        <td>1</td>\n        <td>0</td>\n    </tr>\n    <tr>\n        <td>2008/2009</td>\n        <td>2008-11-08 00:00:00</td>\n        <td>9857</td>\n        <td>8686</td>\n        <td>1</td>\n        <td>1</td>\n        <td>0</td>\n    </tr>\n    <tr>\n        <td>2008/2009</td>\n        <td>2008-11-16 00:00:00</td>\n        <td>8551</td>\n        <td>9857</td>\n        <td>1</td>\n        <td>1</td>\n        <td>0</td>\n    </tr>\n    <tr>\n        <td>2008/2009</td>\n        <td>2008-11-23 00:00:00</td>\n        <td>9857</td>\n        <td>8540</td>\n        <td>1</td>\n        <td>1</td>\n        <td>0</td>\n    </tr>\n    <tr>\n        <td>2008/2009</td>\n        <td>2008-11-30 00:00:00</td>\n        <td>10233</td>\n        <td>9857</td>\n        <td>1</td>\n        <td>1</td>\n        <td>0</td>\n    </tr>\n    <tr>\n        <td>2008/2009</td>\n        <td>2008-12-07 00:00:00</td>\n        <td>8690</td>\n        <td>9857</td>\n        <td>2</td>\n        <td>2</td>\n        <td>0</td>\n    </tr>\n    <tr>\n        <td>2008/2009</td>\n        <td>2008-12-13 00:00:00</td>\n        <td>9857</td>\n        <td>9804</td>\n        <td>5</td>\n        <td>2</td>\n        <td>1</td>\n    </tr>\n    <tr>\n        <td>2008/2009</td>\n        <td>2008-12-21 00:00:00</td>\n        <td>9888</td>\n        <td>9857</td>\n        <td>0</td>\n        <td>0</td>\n        <td>0</td>\n    </tr>\n    <tr>\n        <td>2008/2009</td>\n        <td>2009-01-11 00:00:00</td>\n        <td>9857</td>\n        <td>8533</td>\n        <td>1</td>\n        <td>1</td>\n        <td>0</td>\n    </tr>\n</table>"
     },
     "metadata": {},
     "execution_count": 190
    }
   ],
   "source": [
    "# Realizamos el query probando el por qué utilizar CASE WHEN en WHERE y no en SELECT para utilizar condicionales\n",
    "%sql SELECT season, \\\n",
    "date, home_team_api_id, away_team_api_id, home_team_goal, away_team_goal, \\\n",
    "CASE WHEN home_team_goal > away_team_goal AND home_team_api_id IN (SELECT team_api_id FROM team WHERE team_long_name LIKE '%Bologna%') THEN 'Bologna ganó en casa' \\\n",
    "WHEN home_team_goal < away_team_goal AND away_team_api_id IN (SELECT team_api_id FROM team WHERE team_long_name LIKE '%Bologna%') THEN 'Bologna ganó de visitante' END IS NOT NULL AS outcome \\\n",
    "FROM match \\\n",
    "WHERE home_team_api_id IN (SELECT team_api_id \\\n",
    "FROM team \\\n",
    "WHERE team_long_name LIKE '%Bologna%') OR away_team_api_id IN (SELECT team_api_id \\\n",
    "FROM team \\\n",
    "WHERE team_long_name LIKE '%Bologna%') \\\n",
    "LIMIT 10"
   ]
  },
  {
   "cell_type": "code",
   "execution_count": null,
   "metadata": {},
   "outputs": [],
   "source": [
    "Así es. En 'outcome' tendremos los valores booleanos que, normalmente, SQL utilizaría para obtener los datos deseados. En este caso:\n",
    "\n",
    "- El valor '1' corresponde al valor deseado para la consulta (positivo).\n",
    "\n",
    "- El valor '0' corresponde al valor no deseado para la consulta (negativo).\n",
    "\n",
    "Ahora, si cambiamos el CASE WHEN a la cláusula WHERE, veremos que las fechas y puntuaciones cuyo 'outcome' en la tabla anterior, corresponde a 1, serán las mismas, y dado que no queremos obtener aquellos partidos donde NO HAYA GANADO el Bologna, debemos omitir las filas que no cumplan esa condición (las filas con 0)."
   ]
  },
  {
   "cell_type": "code",
   "execution_count": 191,
   "metadata": {},
   "outputs": [
    {
     "output_type": "stream",
     "name": "stdout",
     "text": [
      "   sqlite://\n   sqlite:////Universidad/DataCamp/Python/intermediate_sql/SQL_SAFI.sqlite\n * sqlite:////Universidad/DataCamp/Python/intermediate_sql/european_soccer.sqlite\nDone.\n"
     ]
    },
    {
     "output_type": "execute_result",
     "data": {
      "text/plain": [
       "[('2008/2009', '2008-08-31 00:00:00', 8564, 9857, 1, 2),\n",
       " ('2008/2009', '2008-12-13 00:00:00', 9857, 9804, 5, 2),\n",
       " ('2008/2009', '2009-01-18 00:00:00', 8530, 9857, 1, 2),\n",
       " ('2008/2009', '2009-01-28 00:00:00', 8524, 9857, 0, 1),\n",
       " ('2008/2009', '2009-03-08 00:00:00', 9857, 9882, 3, 0),\n",
       " ('2008/2009', '2009-04-26 00:00:00', 9857, 10233, 2, 0),\n",
       " ('2008/2009', '2009-05-17 00:00:00', 9857, 9888, 2, 1),\n",
       " ('2008/2009', '2009-05-31 00:00:00', 9857, 8530, 3, 1),\n",
       " ('2008/2009', '2008-10-19 00:00:00', 9857, 8543, 3, 1),\n",
       " ('2009/2010', '2009-10-28 00:00:00', 9857, 8551, 2, 1)]"
      ],
      "text/html": "<table>\n    <tr>\n        <th>season</th>\n        <th>date</th>\n        <th>home_team_api_id</th>\n        <th>away_team_api_id</th>\n        <th>home_team_goal</th>\n        <th>away_team_goal</th>\n    </tr>\n    <tr>\n        <td>2008/2009</td>\n        <td>2008-08-31 00:00:00</td>\n        <td>8564</td>\n        <td>9857</td>\n        <td>1</td>\n        <td>2</td>\n    </tr>\n    <tr>\n        <td>2008/2009</td>\n        <td>2008-12-13 00:00:00</td>\n        <td>9857</td>\n        <td>9804</td>\n        <td>5</td>\n        <td>2</td>\n    </tr>\n    <tr>\n        <td>2008/2009</td>\n        <td>2009-01-18 00:00:00</td>\n        <td>8530</td>\n        <td>9857</td>\n        <td>1</td>\n        <td>2</td>\n    </tr>\n    <tr>\n        <td>2008/2009</td>\n        <td>2009-01-28 00:00:00</td>\n        <td>8524</td>\n        <td>9857</td>\n        <td>0</td>\n        <td>1</td>\n    </tr>\n    <tr>\n        <td>2008/2009</td>\n        <td>2009-03-08 00:00:00</td>\n        <td>9857</td>\n        <td>9882</td>\n        <td>3</td>\n        <td>0</td>\n    </tr>\n    <tr>\n        <td>2008/2009</td>\n        <td>2009-04-26 00:00:00</td>\n        <td>9857</td>\n        <td>10233</td>\n        <td>2</td>\n        <td>0</td>\n    </tr>\n    <tr>\n        <td>2008/2009</td>\n        <td>2009-05-17 00:00:00</td>\n        <td>9857</td>\n        <td>9888</td>\n        <td>2</td>\n        <td>1</td>\n    </tr>\n    <tr>\n        <td>2008/2009</td>\n        <td>2009-05-31 00:00:00</td>\n        <td>9857</td>\n        <td>8530</td>\n        <td>3</td>\n        <td>1</td>\n    </tr>\n    <tr>\n        <td>2008/2009</td>\n        <td>2008-10-19 00:00:00</td>\n        <td>9857</td>\n        <td>8543</td>\n        <td>3</td>\n        <td>1</td>\n    </tr>\n    <tr>\n        <td>2009/2010</td>\n        <td>2009-10-28 00:00:00</td>\n        <td>9857</td>\n        <td>8551</td>\n        <td>2</td>\n        <td>1</td>\n    </tr>\n</table>"
     },
     "metadata": {},
     "execution_count": 191
    }
   ],
   "source": [
    "# Finalmente\n",
    "%sql SELECT season, \\\n",
    "date, home_team_api_id, away_team_api_id, home_team_goal, away_team_goal \\\n",
    "FROM match \\\n",
    "WHERE CASE WHEN home_team_goal > away_team_goal AND home_team_api_id IN (SELECT team_api_id FROM team WHERE team_long_name LIKE '%Bologna%') THEN 'Bologna ganó en casa' \\\n",
    "WHEN home_team_goal < away_team_goal AND away_team_api_id IN (SELECT team_api_id FROM team WHERE team_long_name LIKE '%Bologna%') THEN 'Bologna ganó de visitante' END IS NOT NULL \\\n",
    "LIMIT 10"
   ]
  },
  {
   "source": [
    "## CASE WHEN with aggregate functions\n"
   ],
   "cell_type": "markdown",
   "metadata": {}
  }
 ]
}