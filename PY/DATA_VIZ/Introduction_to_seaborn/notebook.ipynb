{
 "cells": [
  {
   "cell_type": "markdown",
   "metadata": {},
   "source": [
    "# Introducción a Seaborn\n",
    "\n",
    "## Nota\n",
    "\n",
    "- La 1° [base de datos](https://www.kaggle.com/fernandol/countries-of-the-world) utilizada proviene de Kaggle y contiene información de 227 países con:\n",
    "\n",
    "    - Índices de natalidad.\n",
    "\n",
    "    - Índices de mortalidad.\n",
    "\n",
    "    - Producto interno bruto anual (PIB o GDP en inglés). El PIB es una magnitud macroeconómica que expresa el valor monetario de la producción de bienes y servicios en un país durante un período determinado. Expresado en dólares.\n",
    "\n",
    "    - Entre otros.\n",
    "    \n",
    "- La 2° [base de datos](https://www.kaggle.com/fivethirtyeight/fivethirtyeight-masculinity-survey-dataset) utilizada proviene de Kaggle y contiene encuesta en base a la masculinidad.\n",
    "\n",
    "A pesar de mis esfuerzos en intentar utilizar las bases de datos de Datacamp, se utilizarán otras a lo largo del curso, por lo que, en algunos ejercicios, los datos no serán exactamente los mismos que en Datacamp, dado que de esta manera se ahorra tiempo en limpieza de datos.\n",
    "\n",
    "<img src=\"1.png\">\n",
    "\n",
    "## ¿Qué es Seaborn?\n",
    "\n",
    "Seaborn es una poderosa biblioteca para crear visualizaciones de datos.\n",
    "\n",
    "Fue desarrollado para facilitar la creación de los gráficos más comunes con solo pocas líneas de código.\n",
    "\n",
    "## ¿Por qué Seaborn es útil?\n",
    "\n",
    "Esta es una imagen de un flujo de trabajo de análisis de datos típico.\n",
    "\n",
    "<img src=\"2.png\"></img>\n",
    "\n",
    "La visualización de datos es, a menudo, un gran componente tanto de:\n",
    "\n",
    "- La fase de exploración de los datos.\n",
    "\n",
    "- Y la fase de comunicación de resultados.\n",
    "\n",
    "## Ventajas de Seaborn\n",
    "\n",
    "Existen varias herramientas que pueden usarse para la visualización de datos, pero Seaborn ofrece varias ventajas:\n",
    "\n",
    "- El propósito principal de Seaborn es facilitar la visualización de datos. Fue construido para manejar automáticamente una gran cantidad de complejidad detrás de escenas.\n",
    "\n",
    "- En segundo lugar, Seaborn funciona extremadamente bien con estructuras de datos de Pandas. En este sentido, Pandas es una biblioteca que se usa ampliamente para el análisis de datos.\n",
    "\n",
    "- Finalmente, está construido sobre Matplotlib, que es otra biblioteca de visualización de Python.\n",
    "\n",
    "Matplotlib es extremadamente flexible, y Seaborn nos permite aprovechar esta flexibilidad cuando lo necesitamos, evitando la complejidad que la flexibilidad de Matplotlib puede introducir.\n",
    "\n",
    "## Comenzando\n",
    "\n",
    "Para comenzar, necesitaremos importar la biblioteca Seaborn. La siguiente línea importará Seaborn como el alias que se utiliza convencionalmente."
   ]
  },
  {
   "cell_type": "markdown",
   "metadata": {},
   "source": [
    "¿Por qué 'sns'?\n",
    "\n",
    "La biblioteca Seaborn, aparentamente, lleva el nombre de un personae llamado Norman Seaborn del programa de televisión 'The West Wing', por lo tanto, el alias estándar son las iniciales del personaje ('sns')."
   ]
  },
  {
   "cell_type": "code",
   "execution_count": 1,
   "metadata": {},
   "outputs": [],
   "source": [
    "import seaborn as sns"
   ]
  },
  {
   "cell_type": "markdown",
   "metadata": {},
   "source": [
    "También, necesitamos importar Matplotlib, que es la biblioteca sobre la que se construye Seaborn."
   ]
  },
  {
   "cell_type": "code",
   "execution_count": 2,
   "metadata": {},
   "outputs": [],
   "source": [
    "import matplotlib.pyplot as plt"
   ]
  },
  {
   "cell_type": "markdown",
   "metadata": {},
   "source": [
    "Sabemos que 'plt' es el alias que la mayoría de la gente usa para referirse a Matplotlib, por lo que se utiliza convencionalmente.\n",
    "\n",
    "## Ejemplo 1: gráfico de dispersión\n",
    "\n",
    "Pasemos ahora a un ejemplo para ilustrar con qué facilidad podemos crear visualizaciones con Seaborn.\n",
    "\n",
    "A continuacion, tenemos datos para 10 personas que consisten en listas de sus alturas en pulgadas, y sus pesos en libras."
   ]
  },
  {
   "cell_type": "code",
   "execution_count": 3,
   "metadata": {},
   "outputs": [],
   "source": [
    "height = [62, 64, 69, 75, 66, 68, 65, 71, 76, 73]\n",
    "\n",
    "weight = [120, 136, 148, 175, 137, 165, 154, 172, 200, 187]"
   ]
  },
  {
   "cell_type": "markdown",
   "metadata": {},
   "source": [
    "¿Las personas más altas tienden a pesar más?\n",
    "\n",
    "Podemos visualizar esto usando un tipo de diagrama conocido como diagrama de dispersión, del cual aprenderemos más adelante.\n",
    "\n",
    "Usando el siguiente código:\n",
    "\n",
    "- Con 'sns.' llamamos a la biblioteca Seaborn.\n",
    "\n",
    "- Cualquier otro comando luego del punto es una función de Seaborn.\n",
    "\n",
    "- En el argumento de la función, especificamos qué poner en los ejes X e Y.\n",
    "\n",
    "- Finalmente, llamamos a la función 'plt.show()' de Matplotlib para mostrar el diagrama de dispersión."
   ]
  },
  {
   "cell_type": "code",
   "execution_count": 4,
   "metadata": {},
   "outputs": [
    {
     "data": {
      "text/plain": [
       "<AxesSubplot:>"
      ]
     },
     "execution_count": 4,
     "metadata": {},
     "output_type": "execute_result"
    },
    {
     "data": {
      "image/png": "[encoded data removed]",
      "text/plain": [
       "<Figure size 432x288 with 1 Axes>"
      ]
     },
     "metadata": {
      "needs_background": "light"
     },
     "output_type": "display_data"
    }
   ],
   "source": [
    "sns.scatterplot(x=height, y=weight)"
   ]
  },
  {
   "cell_type": "markdown",
   "metadata": {},
   "source": [
    "Este gráfico nos demuestra que las personas más altas tienden a tener un mayor peso.\n",
    "\n",
    "¿Cuántas de nuestras observaciones de alturas y pesos provienen de hombres vs/ mujeres?\n",
    "\n",
    "Podemos usar otro tipo de diagrama, el de conteo, para investigar la interrogante.\n",
    "\n",
    "## Ejemplo 2: creando un gráfico de conteo\n",
    "\n",
    "Los gráficos de recuento toman una lista categórica y barras de retorno que representan el número de entradas de la lista, por categoría.\n",
    "\n",
    "Si usamos la función 'countplot()' y proporcionamos la lista del género de cada persona, nos resulta:"
   ]
  },
  {
   "cell_type": "code",
   "execution_count": 5,
   "metadata": {},
   "outputs": [
    {
     "data": {
      "text/plain": [
       "<AxesSubplot:ylabel='count'>"
      ]
     },
     "execution_count": 5,
     "metadata": {},
     "output_type": "execute_result"
    },
    {
     "data": {
      "image/png": "[encoded data removed]",
      "text/plain": [
       "<Figure size 432x288 with 1 Axes>"
      ]
     },
     "metadata": {
      "needs_background": "light"
     },
     "output_type": "display_data"
    }
   ],
   "source": [
    "gender = ['Female', 'Female', 'Female', 'Female', 'Male', 'Male', 'Male', 'Male', 'Male', 'Male']\n",
    "sns.countplot(x=gender)"
   ]
  },
  {
   "cell_type": "markdown",
   "metadata": {},
   "source": [
    "El diagrama de arriba demuestra que, de las 10 observaciones de nuestro diagrama de dispersión de altura y peso, tuvimos:\n",
    "\n",
    "- 4 mujeres.\n",
    "\n",
    "- 6 hombres.\n",
    "\n",
    "Ahora, estos fueron un par de ejemplos simples.\n",
    "\n",
    "A lo largo del curso, aprenderemos a hacer visualizaciones más complejas, como las que se muestran aquí.\n",
    "\n",
    "<img src=\"3.png\"></img>\n",
    "\n",
    "Y más importante aún, aprenderemos a usar cada tipo de visualización, con el fin de extraer y comunicar ideas de manera más efectiva utilizando datos.\n",
    "\n",
    "## Ejercicios\n",
    "\n",
    "¡Practiquemos!"
   ]
  },
  {
   "cell_type": "code",
   "execution_count": 6,
   "metadata": {},
   "outputs": [],
   "source": [
    "# Importamos pandas para manipulación de datos y numpy para álgebra\n",
    "import pandas as pd\n",
    "import numpy as np"
   ]
  },
  {
   "cell_type": "code",
   "execution_count": 7,
   "metadata": {},
   "outputs": [],
   "source": [
    "# Importamos la base de datos, teniendo cuidado en colocar como separador decimal una coma\n",
    "bbdd = pd.read_csv('countries of the world.csv', decimal=\",\")"
   ]
  },
  {
   "cell_type": "code",
   "execution_count": 8,
   "metadata": {},
   "outputs": [
    {
     "name": "stdout",
     "output_type": "stream",
     "text": [
      "<class 'pandas.core.frame.DataFrame'>\n",
      "RangeIndex: 227 entries, 0 to 226\n",
      "Data columns (total 20 columns):\n",
      " #   Column                              Non-Null Count  Dtype  \n",
      "---  ------                              --------------  -----  \n",
      " 0   Country                             227 non-null    object \n",
      " 1   Region                              227 non-null    object \n",
      " 2   Population                          227 non-null    int64  \n",
      " 3   Area (sq. mi.)                      227 non-null    int64  \n",
      " 4   Pop. Density (per sq. mi.)          227 non-null    float64\n",
      " 5   Coastline (coast/area ratio)        227 non-null    float64\n",
      " 6   Net migration                       224 non-null    float64\n",
      " 7   Infant mortality (per 1000 births)  224 non-null    float64\n",
      " 8   GDP ($ per capita)                  226 non-null    float64\n",
      " 9   Literacy (%)                        209 non-null    float64\n",
      " 10  Phones (per 1000)                   223 non-null    float64\n",
      " 11  Arable (%)                          225 non-null    float64\n",
      " 12  Crops (%)                           225 non-null    float64\n",
      " 13  Other (%)                           225 non-null    float64\n",
      " 14  Climate                             205 non-null    float64\n",
      " 15  Birthrate                           224 non-null    float64\n",
      " 16  Deathrate                           223 non-null    float64\n",
      " 17  Agriculture                         212 non-null    float64\n",
      " 18  Industry                            211 non-null    float64\n",
      " 19  Service                             212 non-null    float64\n",
      "dtypes: float64(16), int64(2), object(2)\n",
      "memory usage: 35.6+ KB\n"
     ]
    }
   ],
   "source": [
    "# Veamos los datos\n",
    "bbdd.info()\n",
    "\n",
    "# Convertimos a formatos apropiados\n",
    "bbdd = bbdd.convert_dtypes()"
   ]
  },
  {
   "cell_type": "markdown",
   "metadata": {},
   "source": [
    "## 1° EX: Haciendo gráficos de dispersión con listas\n",
    "\n",
    "En este ejercicio, utilizaremos la base de datos que contiene información sobre 227 países.\n",
    "\n",
    "Graficaremos dos gráficos:\n",
    "\n",
    "- En el ejercicio 1 el PIB contra la cantidad de teléfonos móviles por 1000 habitantes por país.\n",
    "\n",
    "- En el ejercicio 2, la población capaz de leer y escribir por país."
   ]
  },
  {
   "cell_type": "code",
   "execution_count": 9,
   "metadata": {
    "scrolled": true
   },
   "outputs": [
    {
     "data": {
      "image/png": "[encoded data removed]",
      "text/plain": [
       "<Figure size 1440x756 with 1 Axes>"
      ]
     },
     "metadata": {
      "needs_background": "light"
     },
     "output_type": "display_data"
    }
   ],
   "source": [
    "# Ya tenemos importadas las librerías\n",
    "# import matplotlib.pyplot as plt\n",
    "# import seaborn as sns\n",
    "\n",
    "# Graficamos\n",
    "fig, ax = plt.subplots()\n",
    "sns.scatterplot(data=bbdd, x='GDP ($ per capita)', y='Phones (per 1000)')\n",
    "sns.set_context(\"talk\")\n",
    "fig.set_size_inches(20, 10.5, forward=True)\n",
    "plt.show()"
   ]
  },
  {
   "cell_type": "markdown",
   "metadata": {},
   "source": [
    "## 2° EX: Continuación 1° EX"
   ]
  },
  {
   "cell_type": "code",
   "execution_count": 10,
   "metadata": {},
   "outputs": [
    {
     "data": {
      "image/png": "[encoded data removed]",
      "text/plain": [
       "<Figure size 1440x756 with 1 Axes>"
      ]
     },
     "metadata": {
      "needs_background": "light"
     },
     "output_type": "display_data"
    }
   ],
   "source": [
    "# Graficamos\n",
    "fig, ax = plt.subplots()\n",
    "sns.scatterplot(data=bbdd, x='GDP ($ per capita)', y='Literacy (%)')\n",
    "sns.set_context(\"talk\")\n",
    "fig.set_size_inches(20, 10.5, forward=True)\n",
    "plt.show()"
   ]
  },
  {
   "cell_type": "markdown",
   "metadata": {},
   "source": [
    "Apreciamos que, en el gráfico del PIB contra la población capaz de leer y escribir:\n",
    "\n",
    "- No guardan una relación lineal.\n",
    "\n",
    "- A menor PIB, más probable es que menos población no sabe leer ni escribir."
   ]
  },
  {
   "cell_type": "markdown",
   "metadata": {},
   "source": [
    "## 3° EX: Haciendo gráficos de recuento con listas\n",
    "\n",
    "Ahora, utilizaremos el gráfico de recuento:\n",
    "    \n",
    "- Veremos la cantidad de países por región."
   ]
  },
  {
   "cell_type": "code",
   "execution_count": 11,
   "metadata": {},
   "outputs": [
    {
     "data": {
      "image/png": "[encoded data removed]",
      "text/plain": [
       "<Figure size 432x288 with 1 Axes>"
      ]
     },
     "metadata": {
      "needs_background": "light"
     },
     "output_type": "display_data"
    }
   ],
   "source": [
    "sns.countplot(y='Region', data=bbdd)\n",
    "plt.show()"
   ]
  },
  {
   "cell_type": "markdown",
   "metadata": {},
   "source": [
    "## Usando Pandas con Seaborn\n",
    "\n",
    "Los científicos de datos comúnmente usan Pandas para realizar análisis de datos, por lo que es una gran ventaja que Seaborn funcione bien con las estructuras de datos de Pandas.\n",
    "¡Veamos cómo funciona esto!\n",
    "\n",
    "## ¿Qué es Pandas?\n",
    "\n",
    "Pandas es una biblioteca de Python para el análisis de datos. Puede fácilmente leer conjuntos de datos de muchos tipos de archivos, incluidos archivos '.CSV' y '.TXT'.\n",
    "\n",
    "Esta biblioteca admite varios tipos de estructuras de datos, pero el más común es el objeto DataFrame:\n",
    "    \n",
    "- Al leer un conjunto de datos con Pandas, crearemos un 'marco de datos' (DATAFRAME).\n",
    "\n",
    "Veamos un ejemplo.\n",
    "\n",
    "## Trabajando con DataFrames\n",
    "\n",
    "Primero, importemos la biblioteca Pandas como 'pd'. Luego, utilizamos la función 'read_csv' para leer el archivo 'CSV' y lo asignamos a df. Llamar a head() en el DATAFRAME nos mostrará sus primeras cinco filas."
   ]
  },
  {
   "cell_type": "code",
   "execution_count": 127,
   "metadata": {},
   "outputs": [],
   "source": [
    "# Ya tenemos importado pandas\n",
    "# import pandas as pd\n",
    "\n",
    "# Leemos y ajustamos la base de datos a la que aparece en Datacamp\n",
    "masculinidad = pd.read_csv('raw-responses.csv')"
   ]
  },
  {
   "cell_type": "code",
   "execution_count": 128,
   "metadata": {
    "scrolled": true
   },
   "outputs": [
    {
     "name": "stdout",
     "output_type": "stream",
     "text": [
      "<class 'pandas.core.frame.DataFrame'>\n",
      "RangeIndex: 1615 entries, 0 to 1614\n",
      "Data columns (total 98 columns):\n",
      " #   Column       Non-Null Count  Dtype  \n",
      "---  ------       --------------  -----  \n",
      " 0   Unnamed: 0   1615 non-null   Int64  \n",
      " 1   StartDate    1615 non-null   string \n",
      " 2   EndDate      1615 non-null   string \n",
      " 3   q0001        1615 non-null   string \n",
      " 4   q0002        1615 non-null   string \n",
      " 5   q0004_0001   1615 non-null   string \n",
      " 6   q0004_0002   1615 non-null   string \n",
      " 7   q0004_0003   1615 non-null   string \n",
      " 8   q0004_0004   1615 non-null   string \n",
      " 9   q0004_0005   1615 non-null   string \n",
      " 10  q0004_0006   1615 non-null   string \n",
      " 11  q0005        1615 non-null   string \n",
      " 12  q0007_0001   1615 non-null   string \n",
      " 13  q0007_0002   1615 non-null   string \n",
      " 14  q0007_0003   1615 non-null   string \n",
      " 15  q0007_0004   1615 non-null   string \n",
      " 16  q0007_0005   1615 non-null   string \n",
      " 17  q0007_0006   1615 non-null   string \n",
      " 18  q0007_0007   1615 non-null   string \n",
      " 19  q0007_0008   1615 non-null   string \n",
      " 20  q0007_0009   1615 non-null   string \n",
      " 21  q0007_0010   1615 non-null   string \n",
      " 22  q0007_0011   1615 non-null   string \n",
      " 23  q0008_0001   1615 non-null   string \n",
      " 24  q0008_0002   1615 non-null   string \n",
      " 25  q0008_0003   1615 non-null   string \n",
      " 26  q0008_0004   1615 non-null   string \n",
      " 27  q0008_0005   1615 non-null   string \n",
      " 28  q0008_0006   1615 non-null   string \n",
      " 29  q0008_0007   1615 non-null   string \n",
      " 30  q0008_0008   1615 non-null   string \n",
      " 31  q0008_0009   1615 non-null   string \n",
      " 32  q0008_0010   1615 non-null   string \n",
      " 33  q0008_0011   1615 non-null   string \n",
      " 34  q0008_0012   1615 non-null   string \n",
      " 35  q0009        1615 non-null   string \n",
      " 36  q0010_0001   880 non-null    string \n",
      " 37  q0010_0002   880 non-null    string \n",
      " 38  q0010_0003   880 non-null    string \n",
      " 39  q0010_0004   880 non-null    string \n",
      " 40  q0010_0005   880 non-null    string \n",
      " 41  q0010_0006   880 non-null    string \n",
      " 42  q0010_0007   880 non-null    string \n",
      " 43  q0010_0008   880 non-null    string \n",
      " 44  q0011_0001   880 non-null    string \n",
      " 45  q0011_0002   880 non-null    string \n",
      " 46  q0011_0003   880 non-null    string \n",
      " 47  q0011_0004   880 non-null    string \n",
      " 48  q0011_0005   880 non-null    string \n",
      " 49  q0012_0001   880 non-null    string \n",
      " 50  q0012_0002   880 non-null    string \n",
      " 51  q0012_0003   880 non-null    string \n",
      " 52  q0012_0004   880 non-null    string \n",
      " 53  q0012_0005   880 non-null    string \n",
      " 54  q0012_0006   880 non-null    string \n",
      " 55  q0012_0007   880 non-null    string \n",
      " 56  q0013        49 non-null     string \n",
      " 57  q0014        880 non-null    string \n",
      " 58  q0015        742 non-null    string \n",
      " 59  q0017        1615 non-null   string \n",
      " 60  q0018        1615 non-null   string \n",
      " 61  q0019_0001   1251 non-null   string \n",
      " 62  q0019_0002   1251 non-null   string \n",
      " 63  q0019_0003   1251 non-null   string \n",
      " 64  q0019_0004   1251 non-null   string \n",
      " 65  q0019_0005   1251 non-null   string \n",
      " 66  q0019_0006   1251 non-null   string \n",
      " 67  q0019_0007   1251 non-null   string \n",
      " 68  q0020_0001   1615 non-null   string \n",
      " 69  q0020_0002   1615 non-null   string \n",
      " 70  q0020_0003   1615 non-null   string \n",
      " 71  q0020_0004   1615 non-null   string \n",
      " 72  q0020_0005   1615 non-null   string \n",
      " 73  q0020_0006   1615 non-null   string \n",
      " 74  q0021_0001   1615 non-null   string \n",
      " 75  q0021_0002   1615 non-null   string \n",
      " 76  q0021_0003   1615 non-null   string \n",
      " 77  q0021_0004   1615 non-null   string \n",
      " 78  q0022        1615 non-null   string \n",
      " 79  q0024        1615 non-null   string \n",
      " 80  q0025_0001   1615 non-null   string \n",
      " 81  q0025_0002   1615 non-null   string \n",
      " 82  q0025_0003   1615 non-null   string \n",
      " 83  q0026        1615 non-null   string \n",
      " 84  q0028        1615 non-null   string \n",
      " 85  q0029        1615 non-null   string \n",
      " 86  q0030        1615 non-null   string \n",
      " 87  q0034        1613 non-null   string \n",
      " 88  q0035        1595 non-null   string \n",
      " 89  q0036        1613 non-null   string \n",
      " 90  race2        1615 non-null   string \n",
      " 91  racethn4     1615 non-null   string \n",
      " 92  educ3        1615 non-null   string \n",
      " 93  educ4        1615 non-null   string \n",
      " 94  age3         1615 non-null   string \n",
      " 95  kids         1606 non-null   string \n",
      " 96  orientation  1615 non-null   string \n",
      " 97  weight       1615 non-null   float64\n",
      "dtypes: Int64(1), float64(1), string(96)\n",
      "memory usage: 1.2 MB\n"
     ]
    }
   ],
   "source": [
    "# Vemos los tipos de datos\n",
    "# masculinidad.info()\n",
    "\n",
    "# Apreciamos que necesitamos convertirlos a formatos apropiados (en este caso, gran parte, strings)\n",
    "masculinidad = masculinidad.convert_dtypes()\n",
    "\n",
    "# Comprobamos\n",
    "masculinidad.info()"
   ]
  },
  {
   "cell_type": "code",
   "execution_count": 18,
   "metadata": {},
   "outputs": [
    {
     "data": {
      "text/html": [
       "<div>\n",
       "<style scoped>\n",
       "    .dataframe tbody tr th:only-of-type {\n",
       "        vertical-align: middle;\n",
       "    }\n",
       "\n",
       "    .dataframe tbody tr th {\n",
       "        vertical-align: top;\n",
       "    }\n",
       "\n",
       "    .dataframe thead th {\n",
       "        text-align: right;\n",
       "    }\n",
       "</style>\n",
       "<table border=\"1\" class=\"dataframe\">\n",
       "  <thead>\n",
       "    <tr style=\"text-align: right;\">\n",
       "      <th></th>\n",
       "      <th>Unnamed: 0</th>\n",
       "      <th>StartDate</th>\n",
       "      <th>EndDate</th>\n",
       "      <th>q0001</th>\n",
       "      <th>q0002</th>\n",
       "      <th>q0004_0001</th>\n",
       "      <th>q0004_0002</th>\n",
       "      <th>q0004_0003</th>\n",
       "      <th>q0004_0004</th>\n",
       "      <th>q0004_0005</th>\n",
       "      <th>...</th>\n",
       "      <th>q0035</th>\n",
       "      <th>q0036</th>\n",
       "      <th>race2</th>\n",
       "      <th>racethn4</th>\n",
       "      <th>educ3</th>\n",
       "      <th>educ4</th>\n",
       "      <th>age3</th>\n",
       "      <th>kids</th>\n",
       "      <th>orientation</th>\n",
       "      <th>weight</th>\n",
       "    </tr>\n",
       "  </thead>\n",
       "  <tbody>\n",
       "    <tr>\n",
       "      <th>0</th>\n",
       "      <td>1</td>\n",
       "      <td>5/10/18 4:01</td>\n",
       "      <td>5/10/18 4:06</td>\n",
       "      <td>Somewhat masculine</td>\n",
       "      <td>Somewhat important</td>\n",
       "      <td>Not selected</td>\n",
       "      <td>Not selected</td>\n",
       "      <td>Not selected</td>\n",
       "      <td>Pop culture</td>\n",
       "      <td>Not selected</td>\n",
       "      <td>...</td>\n",
       "      <td>Middle Atlantic</td>\n",
       "      <td>Windows Desktop / Laptop</td>\n",
       "      <td>Non-white</td>\n",
       "      <td>Hispanic</td>\n",
       "      <td>College or more</td>\n",
       "      <td>College or more</td>\n",
       "      <td>35 - 64</td>\n",
       "      <td>No children</td>\n",
       "      <td>Gay/Bisexual</td>\n",
       "      <td>1.714026</td>\n",
       "    </tr>\n",
       "    <tr>\n",
       "      <th>1</th>\n",
       "      <td>2</td>\n",
       "      <td>5/10/18 6:30</td>\n",
       "      <td>5/10/18 6:53</td>\n",
       "      <td>Somewhat masculine</td>\n",
       "      <td>Somewhat important</td>\n",
       "      <td>Father or father figure(s)</td>\n",
       "      <td>Not selected</td>\n",
       "      <td>Not selected</td>\n",
       "      <td>Not selected</td>\n",
       "      <td>Not selected</td>\n",
       "      <td>...</td>\n",
       "      <td>East North Central</td>\n",
       "      <td>iOS Phone / Tablet</td>\n",
       "      <td>White</td>\n",
       "      <td>White</td>\n",
       "      <td>Some college</td>\n",
       "      <td>Some college</td>\n",
       "      <td>65 and up</td>\n",
       "      <td>Has children</td>\n",
       "      <td>Straight</td>\n",
       "      <td>1.247120</td>\n",
       "    </tr>\n",
       "    <tr>\n",
       "      <th>2</th>\n",
       "      <td>3</td>\n",
       "      <td>5/10/18 7:02</td>\n",
       "      <td>5/10/18 7:09</td>\n",
       "      <td>Very masculine</td>\n",
       "      <td>Not too important</td>\n",
       "      <td>Father or father figure(s)</td>\n",
       "      <td>Not selected</td>\n",
       "      <td>Not selected</td>\n",
       "      <td>Not selected</td>\n",
       "      <td>Not selected</td>\n",
       "      <td>...</td>\n",
       "      <td>East North Central</td>\n",
       "      <td>Windows Desktop / Laptop</td>\n",
       "      <td>White</td>\n",
       "      <td>White</td>\n",
       "      <td>College or more</td>\n",
       "      <td>College or more</td>\n",
       "      <td>35 - 64</td>\n",
       "      <td>Has children</td>\n",
       "      <td>Straight</td>\n",
       "      <td>0.515746</td>\n",
       "    </tr>\n",
       "    <tr>\n",
       "      <th>3</th>\n",
       "      <td>4</td>\n",
       "      <td>5/10/18 7:27</td>\n",
       "      <td>5/10/18 7:31</td>\n",
       "      <td>Very masculine</td>\n",
       "      <td>Not too important</td>\n",
       "      <td>Father or father figure(s)</td>\n",
       "      <td>Mother or mother figure(s)</td>\n",
       "      <td>Other family members</td>\n",
       "      <td>Not selected</td>\n",
       "      <td>Not selected</td>\n",
       "      <td>...</td>\n",
       "      <td>East North Central</td>\n",
       "      <td>Windows Desktop / Laptop</td>\n",
       "      <td>White</td>\n",
       "      <td>White</td>\n",
       "      <td>Some college</td>\n",
       "      <td>Some college</td>\n",
       "      <td>65 and up</td>\n",
       "      <td>Has children</td>\n",
       "      <td>No answer</td>\n",
       "      <td>0.600640</td>\n",
       "    </tr>\n",
       "    <tr>\n",
       "      <th>4</th>\n",
       "      <td>5</td>\n",
       "      <td>5/10/18 7:35</td>\n",
       "      <td>5/10/18 7:42</td>\n",
       "      <td>Very masculine</td>\n",
       "      <td>Very important</td>\n",
       "      <td>Not selected</td>\n",
       "      <td>Not selected</td>\n",
       "      <td>Other family members</td>\n",
       "      <td>Not selected</td>\n",
       "      <td>Not selected</td>\n",
       "      <td>...</td>\n",
       "      <td>East North Central</td>\n",
       "      <td>Windows Desktop / Laptop</td>\n",
       "      <td>White</td>\n",
       "      <td>White</td>\n",
       "      <td>College or more</td>\n",
       "      <td>College or more</td>\n",
       "      <td>35 - 64</td>\n",
       "      <td>No children</td>\n",
       "      <td>Straight</td>\n",
       "      <td>1.033400</td>\n",
       "    </tr>\n",
       "  </tbody>\n",
       "</table>\n",
       "<p>5 rows × 98 columns</p>\n",
       "</div>"
      ],
      "text/plain": [
       "   Unnamed: 0     StartDate       EndDate               q0001  \\\n",
       "0           1  5/10/18 4:01  5/10/18 4:06  Somewhat masculine   \n",
       "1           2  5/10/18 6:30  5/10/18 6:53  Somewhat masculine   \n",
       "2           3  5/10/18 7:02  5/10/18 7:09      Very masculine   \n",
       "3           4  5/10/18 7:27  5/10/18 7:31      Very masculine   \n",
       "4           5  5/10/18 7:35  5/10/18 7:42      Very masculine   \n",
       "\n",
       "                q0002                  q0004_0001                  q0004_0002  \\\n",
       "0  Somewhat important                Not selected                Not selected   \n",
       "1  Somewhat important  Father or father figure(s)                Not selected   \n",
       "2   Not too important  Father or father figure(s)                Not selected   \n",
       "3   Not too important  Father or father figure(s)  Mother or mother figure(s)   \n",
       "4      Very important                Not selected                Not selected   \n",
       "\n",
       "             q0004_0003    q0004_0004    q0004_0005  ...               q0035  \\\n",
       "0          Not selected   Pop culture  Not selected  ...     Middle Atlantic   \n",
       "1          Not selected  Not selected  Not selected  ...  East North Central   \n",
       "2          Not selected  Not selected  Not selected  ...  East North Central   \n",
       "3  Other family members  Not selected  Not selected  ...  East North Central   \n",
       "4  Other family members  Not selected  Not selected  ...  East North Central   \n",
       "\n",
       "                      q0036      race2  racethn4            educ3  \\\n",
       "0  Windows Desktop / Laptop  Non-white  Hispanic  College or more   \n",
       "1        iOS Phone / Tablet      White     White     Some college   \n",
       "2  Windows Desktop / Laptop      White     White  College or more   \n",
       "3  Windows Desktop / Laptop      White     White     Some college   \n",
       "4  Windows Desktop / Laptop      White     White  College or more   \n",
       "\n",
       "             educ4       age3          kids   orientation    weight  \n",
       "0  College or more    35 - 64   No children  Gay/Bisexual  1.714026  \n",
       "1     Some college  65 and up  Has children      Straight  1.247120  \n",
       "2  College or more    35 - 64  Has children      Straight  0.515746  \n",
       "3     Some college  65 and up  Has children     No answer  0.600640  \n",
       "4  College or more    35 - 64   No children      Straight  1.033400  \n",
       "\n",
       "[5 rows x 98 columns]"
      ]
     },
     "execution_count": 18,
     "metadata": {},
     "output_type": "execute_result"
    }
   ],
   "source": [
    "masculinidad.head()"
   ]
  },
  {
   "cell_type": "markdown",
   "metadata": {},
   "source": [
    "## Ajustando los datos que necesitamos\n",
    "\n",
    "De acuerdo a la base de datos que aparece en Datacamp, solo necesitamos:\n",
    "\n",
    "- El ID de la persona, la columna 'unamed'.\n",
    "\n",
    "- La edad, la columna 'age3'.\n",
    "\n",
    "- La primera pregunta, ¿qué tan masculino te sientes? Que es la columna 'q0001'.\n",
    "\n",
    "- La segunda pregunta, ¿qué tan importante es que las personas te vean como masculino? La columna 'q0002'."
   ]
  },
  {
   "cell_type": "code",
   "execution_count": 151,
   "metadata": {},
   "outputs": [],
   "source": [
    "# Seleccionamos las columnas que deseamos\n",
    "\n",
    "subconjunto = masculinidad[['Unnamed: 0', 'age3', 'q0001', 'q0002']]\n",
    "\n",
    "# Renombramos las columnas acorde a los nombres de Datacamp\n",
    "subconjunto.columns = ['id_participante', 'edad', 'cuan_masculino', 'cuan_importante']\n",
    "\n",
    "# Vemos que todavía falta algo más: quitar las palabras innecesarias\n",
    "#print(masculinidad_subconjunto['cuan_masculino'].unique())\n",
    "#print(masculinidad_subconjunto['cuan_importante'].unique())\n",
    "\n",
    "reemplazo_masculino = {'Very masculine': 'Muy', 'Somewhat masculine': 'Algo', 'Not very masculine': 'No mucho', 'Not at all masculine': 'No del todo', 'No answer': 'No responde'}\n",
    "subconjunto['cuan_masculino'] = subconjunto['cuan_masculino'].apply(lambda x: reemplazo_masculino[x])\n",
    "\n",
    "reemplazo_importante = {'Very important': 'Muy', 'Somewhat important': 'Algo', 'Not at all important': 'No mucho', 'Not too important': 'No del todo', 'No answer': 'No responde'}\n",
    "subconjunto['cuan_importante'] = subconjunto['cuan_importante'].apply(lambda x: reemplazo_importante[x])\n",
    "\n",
    "reemplazo_edad = {'18 - 34': '18-34', '35 - 64': '35-64', '65 and up': '65 y mas'}\n",
    "subconjunto['edad'] = subconjunto['edad'].apply(lambda x: reemplazo_edad[x])"
   ]
  },
  {
   "cell_type": "code",
   "execution_count": 152,
   "metadata": {},
   "outputs": [
    {
     "data": {
      "text/html": [
       "<div>\n",
       "<style scoped>\n",
       "    .dataframe tbody tr th:only-of-type {\n",
       "        vertical-align: middle;\n",
       "    }\n",
       "\n",
       "    .dataframe tbody tr th {\n",
       "        vertical-align: top;\n",
       "    }\n",
       "\n",
       "    .dataframe thead th {\n",
       "        text-align: right;\n",
       "    }\n",
       "</style>\n",
       "<table border=\"1\" class=\"dataframe\">\n",
       "  <thead>\n",
       "    <tr style=\"text-align: right;\">\n",
       "      <th></th>\n",
       "      <th>id_participante</th>\n",
       "      <th>edad</th>\n",
       "      <th>cuan_masculino</th>\n",
       "      <th>cuan_importante</th>\n",
       "    </tr>\n",
       "  </thead>\n",
       "  <tbody>\n",
       "    <tr>\n",
       "      <th>0</th>\n",
       "      <td>1</td>\n",
       "      <td>35-64</td>\n",
       "      <td>Algo</td>\n",
       "      <td>Algo</td>\n",
       "    </tr>\n",
       "    <tr>\n",
       "      <th>1</th>\n",
       "      <td>2</td>\n",
       "      <td>65 y mas</td>\n",
       "      <td>Algo</td>\n",
       "      <td>Algo</td>\n",
       "    </tr>\n",
       "    <tr>\n",
       "      <th>2</th>\n",
       "      <td>3</td>\n",
       "      <td>35-64</td>\n",
       "      <td>Muy</td>\n",
       "      <td>No del todo</td>\n",
       "    </tr>\n",
       "    <tr>\n",
       "      <th>3</th>\n",
       "      <td>4</td>\n",
       "      <td>65 y mas</td>\n",
       "      <td>Muy</td>\n",
       "      <td>No del todo</td>\n",
       "    </tr>\n",
       "    <tr>\n",
       "      <th>4</th>\n",
       "      <td>5</td>\n",
       "      <td>35-64</td>\n",
       "      <td>Muy</td>\n",
       "      <td>Muy</td>\n",
       "    </tr>\n",
       "  </tbody>\n",
       "</table>\n",
       "</div>"
      ],
      "text/plain": [
       "   id_participante      edad cuan_masculino cuan_importante\n",
       "0                1     35-64           Algo            Algo\n",
       "1                2  65 y mas           Algo            Algo\n",
       "2                3     35-64            Muy     No del todo\n",
       "3                4  65 y mas            Muy     No del todo\n",
       "4                5     35-64            Muy             Muy"
      ]
     },
     "execution_count": 152,
     "metadata": {},
     "output_type": "execute_result"
    }
   ],
   "source": [
    "# La base de datos está lista (y traducida), veamos las cinco primeras filas\n",
    "subconjunto.head()"
   ]
  },
  {
   "cell_type": "markdown",
   "metadata": {},
   "source": [
    "## Trabajando con DataFrames (continuación)\n",
    "\n",
    "Este subconjunto de datos contiene los resultados de una encuesta en hombres adultos:\n",
    "    \n",
    "- ID del participante.\n",
    "\n",
    "- Edad.\n",
    "\n",
    "- Respuesta en ¿qué tan masculino te sientes?\n",
    "\n",
    "- Respuesta en ¿qué tan importante es que otros te vean como masculino?\n",
    "\n",
    "## Usando DataFrames con countplot()\n",
    "\n",
    "Ahora, veamos cómo hacer un diagrama de recuento con un DataFrame en lugar de una lista de datos:\n",
    "\n",
    "- Importamos librerías\n",
    "\n",
    "- Creamos el diagrama, esta vez, pasando solamente el nombre de la columna al eje X, y usando un nuevo argumento, 'data', que nos permite pasar la variable que contiene la base de datos.\n",
    "\n",
    "    - Pasamos al eje X el nombre de la columna.\n",
    "    - Pasamos al parámetro data el DataFrame.\n",
    "\n",
    "De esa forma, y si necesitamos varias variables de la base de datos, nos ahorramos código al escribir simultáneamente la variable de la cual deseamos seleccionar columnas."
   ]
  },
  {
   "cell_type": "code",
   "execution_count": 156,
   "metadata": {},
   "outputs": [
    {
     "data": {
      "image/png": "[encoded data removed]",
      "text/plain": [
       "<Figure size 1440x756 with 1 Axes>"
      ]
     },
     "metadata": {
      "needs_background": "light"
     },
     "output_type": "display_data"
    }
   ],
   "source": [
    "# Importamos librerías (ya importadas)\n",
    "#import pandas as pd\n",
    "#import matplotlib.pyplot as plt\n",
    "#import seaborn as sns\n",
    "\n",
    "# Creamos la figura\n",
    "fig, ax = plt.subplots()\n",
    "\n",
    "# Graficamos\n",
    "sns.countplot(x='cuan_masculino', data=subconjunto)\n",
    "\n",
    "# Dimensionamos\n",
    "fig.set_size_inches(20, 10.5, forward=True)"
   ]
  },
  {
   "cell_type": "markdown",
   "metadata": {},
   "source": [
    "Aquí vemos que la respuesta más común a la pregunta es 'algo', siendo la segunda respuesta más común 'muy'.\n",
    "\n",
    "Tengamos en cuenta que, porque estamos usando una columna con nombre en el DataFrame, Seaborn agrega automáticamente el nombre de la columna. Cambiemos esto un poco."
   ]
  },
  {
   "cell_type": "code",
   "execution_count": 164,
   "metadata": {},
   "outputs": [
    {
     "data": {
      "text/plain": [
       "Text(0, 0.5, 'Cantidad de respuestas')"
      ]
     },
     "execution_count": 164,
     "metadata": {},
     "output_type": "execute_result"
    },
    {
     "data": {
      "image/png": "[encoded data removed]",
      "text/plain": [
       "<Figure size 1440x756 with 1 Axes>"
      ]
     },
     "metadata": {
      "needs_background": "light"
     },
     "output_type": "display_data"
    }
   ],
   "source": [
    "# Creamos la figura\n",
    "fig, ax = plt.subplots()\n",
    "\n",
    "# Graficamos\n",
    "sns.countplot(x='cuan_masculino', data=subconjunto)\n",
    "\n",
    "# Dimensionamos\n",
    "fig.set_size_inches(20, 10.5, forward=True)\n",
    "\n",
    "# Colocamos ejes y títulos (añadimos un salto de línea al eje X)\n",
    "ax.set_title('Respuesta a ¿qué tan masculino te sientes?')\n",
    "ax.set_xlabel('\\nRespuestas')\n",
    "ax.set_ylabel('Cantidad de respuestas')"
   ]
  },
  {
   "cell_type": "markdown",
   "metadata": {},
   "source": [
    "Hagamos una pausa para una nota importante aquí.\n",
    "\n",
    "Seaborn funciona muy bien con los DATAFRAMES de Pandas, pero solo si el DATAFRAME está ordenado:\n",
    "\n",
    "- Los datos ordenados significan que, para cada observación, se tiene una una propia y fila y cada variable tiene una propia columna."
   ]
  },
  {
   "cell_type": "code",
   "execution_count": 165,
   "metadata": {},
   "outputs": [
    {
     "data": {
      "text/html": [
       "<div>\n",
       "<style scoped>\n",
       "    .dataframe tbody tr th:only-of-type {\n",
       "        vertical-align: middle;\n",
       "    }\n",
       "\n",
       "    .dataframe tbody tr th {\n",
       "        vertical-align: top;\n",
       "    }\n",
       "\n",
       "    .dataframe thead th {\n",
       "        text-align: right;\n",
       "    }\n",
       "</style>\n",
       "<table border=\"1\" class=\"dataframe\">\n",
       "  <thead>\n",
       "    <tr style=\"text-align: right;\">\n",
       "      <th></th>\n",
       "      <th>id_participante</th>\n",
       "      <th>edad</th>\n",
       "      <th>cuan_masculino</th>\n",
       "      <th>cuan_importante</th>\n",
       "    </tr>\n",
       "  </thead>\n",
       "  <tbody>\n",
       "    <tr>\n",
       "      <th>0</th>\n",
       "      <td>1</td>\n",
       "      <td>35-64</td>\n",
       "      <td>Algo</td>\n",
       "      <td>Algo</td>\n",
       "    </tr>\n",
       "    <tr>\n",
       "      <th>1</th>\n",
       "      <td>2</td>\n",
       "      <td>65 y mas</td>\n",
       "      <td>Algo</td>\n",
       "      <td>Algo</td>\n",
       "    </tr>\n",
       "    <tr>\n",
       "      <th>2</th>\n",
       "      <td>3</td>\n",
       "      <td>35-64</td>\n",
       "      <td>Muy</td>\n",
       "      <td>No del todo</td>\n",
       "    </tr>\n",
       "    <tr>\n",
       "      <th>3</th>\n",
       "      <td>4</td>\n",
       "      <td>65 y mas</td>\n",
       "      <td>Muy</td>\n",
       "      <td>No del todo</td>\n",
       "    </tr>\n",
       "    <tr>\n",
       "      <th>4</th>\n",
       "      <td>5</td>\n",
       "      <td>35-64</td>\n",
       "      <td>Muy</td>\n",
       "      <td>Muy</td>\n",
       "    </tr>\n",
       "    <tr>\n",
       "      <th>...</th>\n",
       "      <td>...</td>\n",
       "      <td>...</td>\n",
       "      <td>...</td>\n",
       "      <td>...</td>\n",
       "    </tr>\n",
       "    <tr>\n",
       "      <th>1610</th>\n",
       "      <td>1611</td>\n",
       "      <td>18-34</td>\n",
       "      <td>No mucho</td>\n",
       "      <td>No mucho</td>\n",
       "    </tr>\n",
       "    <tr>\n",
       "      <th>1611</th>\n",
       "      <td>1612</td>\n",
       "      <td>35-64</td>\n",
       "      <td>Muy</td>\n",
       "      <td>Muy</td>\n",
       "    </tr>\n",
       "    <tr>\n",
       "      <th>1612</th>\n",
       "      <td>1613</td>\n",
       "      <td>35-64</td>\n",
       "      <td>Algo</td>\n",
       "      <td>Algo</td>\n",
       "    </tr>\n",
       "    <tr>\n",
       "      <th>1613</th>\n",
       "      <td>1614</td>\n",
       "      <td>18-34</td>\n",
       "      <td>Algo</td>\n",
       "      <td>Algo</td>\n",
       "    </tr>\n",
       "    <tr>\n",
       "      <th>1614</th>\n",
       "      <td>1615</td>\n",
       "      <td>18-34</td>\n",
       "      <td>Muy</td>\n",
       "      <td>No mucho</td>\n",
       "    </tr>\n",
       "  </tbody>\n",
       "</table>\n",
       "<p>1615 rows × 4 columns</p>\n",
       "</div>"
      ],
      "text/plain": [
       "      id_participante      edad cuan_masculino cuan_importante\n",
       "0                   1     35-64           Algo            Algo\n",
       "1                   2  65 y mas           Algo            Algo\n",
       "2                   3     35-64            Muy     No del todo\n",
       "3                   4  65 y mas            Muy     No del todo\n",
       "4                   5     35-64            Muy             Muy\n",
       "...               ...       ...            ...             ...\n",
       "1610             1611     18-34       No mucho        No mucho\n",
       "1611             1612     35-64            Muy             Muy\n",
       "1612             1613     35-64           Algo            Algo\n",
       "1613             1614     18-34           Algo            Algo\n",
       "1614             1615     18-34            Muy        No mucho\n",
       "\n",
       "[1615 rows x 4 columns]"
      ]
     },
     "execution_count": 165,
     "metadata": {},
     "output_type": "execute_result"
    }
   ],
   "source": [
    "subconjunto"
   ]
  },
  {
   "cell_type": "code",
   "execution_count": null,
   "metadata": {},
   "outputs": [],
   "source": [
    "## Tidy data\n",
    "\n",
    "El DATAFRAME anterior está ordenado, porque:\n",
    "    \n",
    "- Cada fila es una respuesta de la encuesta.\n",
    "\n",
    "- Cada pregunta de la encuesta está en una columna.\n",
    "\n",
    "Hacer un diagrama de conteo con la columna \"qué tan masculino\" funciona como pasar una lista de valores a esa columna.\n",
    "\n",
    "## El contraste\n",
    "\n",
    "En contraste, a continuación, hay un ejemplo de un DATAFRAME \"desordenado\" realizado a partir de la misma encuesta sobre masculinidad."
   ]
  },
  {
   "cell_type": "code",
   "execution_count": 170,
   "metadata": {},
   "outputs": [
    {
     "data": {
      "text/html": [
       "<div>\n",
       "<style scoped>\n",
       "    .dataframe tbody tr th:only-of-type {\n",
       "        vertical-align: middle;\n",
       "    }\n",
       "\n",
       "    .dataframe tbody tr th {\n",
       "        vertical-align: top;\n",
       "    }\n",
       "\n",
       "    .dataframe thead th {\n",
       "        text-align: right;\n",
       "    }\n",
       "</style>\n",
       "<table border=\"1\" class=\"dataframe\">\n",
       "  <thead>\n",
       "    <tr style=\"text-align: right;\">\n",
       "      <th></th>\n",
       "      <th>AMONG ADULT MEN</th>\n",
       "      <th>Unnamed: 1</th>\n",
       "      <th>Adult Men</th>\n",
       "      <th>Age</th>\n",
       "      <th>Unnamed: 4</th>\n",
       "      <th>Unnamed: 5</th>\n",
       "      <th>Race</th>\n",
       "      <th>Unnamed: 7</th>\n",
       "      <th>Children</th>\n",
       "      <th>Unnamed: 9</th>\n",
       "      <th>Sexual Orientation</th>\n",
       "      <th>Unnamed: 11</th>\n",
       "    </tr>\n",
       "  </thead>\n",
       "  <tbody>\n",
       "    <tr>\n",
       "      <th>0</th>\n",
       "      <td>NaN</td>\n",
       "      <td>NaN</td>\n",
       "      <td>NaN</td>\n",
       "      <td>18 - 34</td>\n",
       "      <td>35 - 64</td>\n",
       "      <td>65 and up</td>\n",
       "      <td>White</td>\n",
       "      <td>Non-white</td>\n",
       "      <td>Has children</td>\n",
       "      <td>No children</td>\n",
       "      <td>Straight</td>\n",
       "      <td>Gay/Bisexual</td>\n",
       "    </tr>\n",
       "    <tr>\n",
       "      <th>1</th>\n",
       "      <td>In general, how masculine or \"manly\" do you feel?</td>\n",
       "      <td>NaN</td>\n",
       "      <td>NaN</td>\n",
       "      <td>NaN</td>\n",
       "      <td>NaN</td>\n",
       "      <td>NaN</td>\n",
       "      <td>NaN</td>\n",
       "      <td>NaN</td>\n",
       "      <td>NaN</td>\n",
       "      <td>NaN</td>\n",
       "      <td>NaN</td>\n",
       "      <td>NaN</td>\n",
       "    </tr>\n",
       "    <tr>\n",
       "      <th>2</th>\n",
       "      <td>NaN</td>\n",
       "      <td>Very masculine</td>\n",
       "      <td>37%</td>\n",
       "      <td>29%</td>\n",
       "      <td>42%</td>\n",
       "      <td>37%</td>\n",
       "      <td>34%</td>\n",
       "      <td>44%</td>\n",
       "      <td>43%</td>\n",
       "      <td>30%</td>\n",
       "      <td>40%</td>\n",
       "      <td>21%</td>\n",
       "    </tr>\n",
       "    <tr>\n",
       "      <th>3</th>\n",
       "      <td>NaN</td>\n",
       "      <td>Somewhat masculine</td>\n",
       "      <td>46%</td>\n",
       "      <td>47%</td>\n",
       "      <td>46%</td>\n",
       "      <td>47%</td>\n",
       "      <td>50%</td>\n",
       "      <td>39%</td>\n",
       "      <td>47%</td>\n",
       "      <td>46%</td>\n",
       "      <td>47%</td>\n",
       "      <td>49%</td>\n",
       "    </tr>\n",
       "    <tr>\n",
       "      <th>4</th>\n",
       "      <td>NaN</td>\n",
       "      <td>Not very masculine</td>\n",
       "      <td>11%</td>\n",
       "      <td>13%</td>\n",
       "      <td>9%</td>\n",
       "      <td>13%</td>\n",
       "      <td>11%</td>\n",
       "      <td>11%</td>\n",
       "      <td>6%</td>\n",
       "      <td>17%</td>\n",
       "      <td>10%</td>\n",
       "      <td>19%</td>\n",
       "    </tr>\n",
       "    <tr>\n",
       "      <th>5</th>\n",
       "      <td>NaN</td>\n",
       "      <td>Not at all masculine</td>\n",
       "      <td>5%</td>\n",
       "      <td>10%</td>\n",
       "      <td>2%</td>\n",
       "      <td>3%</td>\n",
       "      <td>4%</td>\n",
       "      <td>6%</td>\n",
       "      <td>3%</td>\n",
       "      <td>6%</td>\n",
       "      <td>3%</td>\n",
       "      <td>10%</td>\n",
       "    </tr>\n",
       "    <tr>\n",
       "      <th>6</th>\n",
       "      <td>NaN</td>\n",
       "      <td>No answer</td>\n",
       "      <td>1%</td>\n",
       "      <td>0%</td>\n",
       "      <td>1%</td>\n",
       "      <td>1%</td>\n",
       "      <td>1%</td>\n",
       "      <td>0%</td>\n",
       "      <td>1%</td>\n",
       "      <td>0%</td>\n",
       "      <td>1%</td>\n",
       "      <td>0%</td>\n",
       "    </tr>\n",
       "    <tr>\n",
       "      <th>7</th>\n",
       "      <td>How important is it to you that others see you...</td>\n",
       "      <td>NaN</td>\n",
       "      <td>NaN</td>\n",
       "      <td>NaN</td>\n",
       "      <td>NaN</td>\n",
       "      <td>NaN</td>\n",
       "      <td>NaN</td>\n",
       "      <td>NaN</td>\n",
       "      <td>NaN</td>\n",
       "      <td>NaN</td>\n",
       "      <td>NaN</td>\n",
       "      <td>NaN</td>\n",
       "    </tr>\n",
       "    <tr>\n",
       "      <th>8</th>\n",
       "      <td>NaN</td>\n",
       "      <td>Very important</td>\n",
       "      <td>16%</td>\n",
       "      <td>18%</td>\n",
       "      <td>17%</td>\n",
       "      <td>13%</td>\n",
       "      <td>11%</td>\n",
       "      <td>26%</td>\n",
       "      <td>17%</td>\n",
       "      <td>15%</td>\n",
       "      <td>16%</td>\n",
       "      <td>11%</td>\n",
       "    </tr>\n",
       "    <tr>\n",
       "      <th>9</th>\n",
       "      <td>NaN</td>\n",
       "      <td>Somewhat important</td>\n",
       "      <td>37%</td>\n",
       "      <td>38%</td>\n",
       "      <td>37%</td>\n",
       "      <td>32%</td>\n",
       "      <td>38%</td>\n",
       "      <td>35%</td>\n",
       "      <td>37%</td>\n",
       "      <td>37%</td>\n",
       "      <td>38%</td>\n",
       "      <td>33%</td>\n",
       "    </tr>\n",
       "    <tr>\n",
       "      <th>10</th>\n",
       "      <td>NaN</td>\n",
       "      <td>Not too important</td>\n",
       "      <td>28%</td>\n",
       "      <td>18%</td>\n",
       "      <td>31%</td>\n",
       "      <td>37%</td>\n",
       "      <td>32%</td>\n",
       "      <td>20%</td>\n",
       "      <td>29%</td>\n",
       "      <td>27%</td>\n",
       "      <td>29%</td>\n",
       "      <td>36%</td>\n",
       "    </tr>\n",
       "    <tr>\n",
       "      <th>11</th>\n",
       "      <td>NaN</td>\n",
       "      <td>Not at all important</td>\n",
       "      <td>18%</td>\n",
       "      <td>26%</td>\n",
       "      <td>15%</td>\n",
       "      <td>18%</td>\n",
       "      <td>18%</td>\n",
       "      <td>19%</td>\n",
       "      <td>17%</td>\n",
       "      <td>21%</td>\n",
       "      <td>17%</td>\n",
       "      <td>19%</td>\n",
       "    </tr>\n",
       "    <tr>\n",
       "      <th>12</th>\n",
       "      <td>NaN</td>\n",
       "      <td>No answer</td>\n",
       "      <td>0%</td>\n",
       "      <td>0%</td>\n",
       "      <td>1%</td>\n",
       "      <td>0%</td>\n",
       "      <td>0%</td>\n",
       "      <td>0%</td>\n",
       "      <td>0%</td>\n",
       "      <td>0%</td>\n",
       "      <td>0%</td>\n",
       "      <td>1%</td>\n",
       "    </tr>\n",
       "  </tbody>\n",
       "</table>\n",
       "</div>"
      ],
      "text/plain": [
       "                                      AMONG ADULT MEN            Unnamed: 1  \\\n",
       "0                                                 NaN                   NaN   \n",
       "1   In general, how masculine or \"manly\" do you feel?                   NaN   \n",
       "2                                                 NaN        Very masculine   \n",
       "3                                                 NaN    Somewhat masculine   \n",
       "4                                                 NaN    Not very masculine   \n",
       "5                                                 NaN  Not at all masculine   \n",
       "6                                                 NaN             No answer   \n",
       "7   How important is it to you that others see you...                   NaN   \n",
       "8                                                 NaN        Very important   \n",
       "9                                                 NaN    Somewhat important   \n",
       "10                                                NaN     Not too important   \n",
       "11                                                NaN  Not at all important   \n",
       "12                                                NaN             No answer   \n",
       "\n",
       "   Adult Men      Age Unnamed: 4 Unnamed: 5   Race Unnamed: 7      Children  \\\n",
       "0        NaN  18 - 34    35 - 64  65 and up  White  Non-white  Has children   \n",
       "1        NaN      NaN        NaN        NaN    NaN        NaN           NaN   \n",
       "2        37%      29%        42%        37%    34%        44%           43%   \n",
       "3        46%      47%        46%        47%    50%        39%           47%   \n",
       "4        11%      13%         9%        13%    11%        11%            6%   \n",
       "5         5%      10%         2%         3%     4%         6%            3%   \n",
       "6         1%       0%         1%         1%     1%         0%            1%   \n",
       "7        NaN      NaN        NaN        NaN    NaN        NaN           NaN   \n",
       "8        16%      18%        17%        13%    11%        26%           17%   \n",
       "9        37%      38%        37%        32%    38%        35%           37%   \n",
       "10       28%      18%        31%        37%    32%        20%           29%   \n",
       "11       18%      26%        15%        18%    18%        19%           17%   \n",
       "12        0%       0%         1%         0%     0%         0%            0%   \n",
       "\n",
       "     Unnamed: 9 Sexual Orientation   Unnamed: 11  \n",
       "0   No children           Straight  Gay/Bisexual  \n",
       "1           NaN                NaN           NaN  \n",
       "2           30%                40%           21%  \n",
       "3           46%                47%           49%  \n",
       "4           17%                10%           19%  \n",
       "5            6%                 3%           10%  \n",
       "6            0%                 1%            0%  \n",
       "7           NaN                NaN           NaN  \n",
       "8           15%                16%           11%  \n",
       "9           37%                38%           33%  \n",
       "10          27%                29%           36%  \n",
       "11          21%                17%           19%  \n",
       "12           0%                 0%            1%  "
      ]
     },
     "execution_count": 170,
     "metadata": {},
     "output_type": "execute_result"
    }
   ],
   "source": [
    "pd.read_csv('masculinity-survey.csv', decimal=',')[0:13]"
   ]
  },
  {
   "cell_type": "markdown",
   "metadata": {},
   "source": [
    "En el DATAFRAME desordenado, observemos cómo:\n",
    "    \n",
    "- Cada fila no contiene la misma información:\n",
    "    \n",
    "    - La fila 0 contiene las categorías de edad.\n",
    "    - Las filas 1 y 7 contienen el texto de la pregunta.\n",
    "    - Las otras filas contienen datos resumidos de las respuestas.\n",
    "\n",
    "Esto no funcionará bien en Seaborn:\n",
    "    \n",
    "- A diferencia del DATAFRAME ordenado o 'tidy data', los valores en la columna edad no parecen una lista de categorías de edad para cada observación.\n",
    "\n",
    "Es posible transformar DATAFRAMES desordenados (untidy) en ordenados (tidy), pero no está dentro del alcance de este curso. [Recomiendo este curso de Datacamp en torno a esa temática](https://learn.datacamp.com/courses/joining-data-with-pandas).\n",
    "\n",
    "## Ejercicios\n",
    "\n",
    "Ahora, ¡a probar el uso de Pandas con Seaborn!\n",
    "\n",
    "## 4° EX: \"Tidy\" VS. \"Untidy\" DATA\n",
    "\n",
    "Aquí, utilizaremos Pandas para importar datos en formato CSV. \n",
    "\n",
    "- Con Seaborn siempre se debe comprobar que la data esté en formato organizado."
   ]
  },
  {
   "cell_type": "code",
   "execution_count": 172,
   "metadata": {},
   "outputs": [
    {
     "name": "stdout",
     "output_type": "stream",
     "text": [
      "   id_participante      edad cuan_masculino cuan_importante\n",
      "0                1     35-64           Algo            Algo\n",
      "1                2  65 y mas           Algo            Algo\n",
      "2                3     35-64            Muy     No del todo\n",
      "3                4  65 y mas            Muy     No del todo\n",
      "4                5     35-64            Muy             Muy\n"
     ]
    }
   ],
   "source": [
    "# Importamos Pandas\n",
    "#import pandas as pd\n",
    "\n",
    "# Definimos la ruta\n",
    "#ruta = 'raw-responses.csv'\n",
    "\n",
    "# Create a DataFrame from csv file\n",
    "#subconjunto = pd.read_csv(ruta)\n",
    "\n",
    "# Print the head of df\n",
    "print(subconjunto.head())"
   ]
  },
  {
   "cell_type": "code",
   "execution_count": 173,
   "metadata": {},
   "outputs": [
    {
     "data": {
      "image/png": "[encoded data removed]",
      "text/plain": [
       "<Figure size 432x288 with 1 Axes>"
      ]
     },
     "metadata": {
      "needs_background": "light"
     },
     "output_type": "display_data"
    }
   ],
   "source": [
    "# Importamos Matplotlib, Pandas, and Seaborn\n",
    "#import pandas as pd\n",
    "#import matplotlib.pyplot as plt\n",
    "#import seaborn as sns\n",
    "\n",
    "# Creamos el DATAFRAME (ya creado)\n",
    "#subconjunto = pd.read_csv(ruta)\n",
    "\n",
    "# Creamos el gráfico de recuento\n",
    "sns.countplot(x='cuan_masculino', data=subconjunto)\n",
    "\n",
    "# Mostramos el gráfico\n",
    "plt.show()"
   ]
  }
 ],
 "metadata": {
  "kernelspec": {
   "display_name": "Python 3",
   "language": "python",
   "name": "python3"
  },
  "language_info": {
   "codemirror_mode": {
    "name": "ipython",
    "version": 3
   },
   "file_extension": ".py",
   "mimetype": "text/x-python",
   "name": "python",
   "nbconvert_exporter": "python",
   "pygments_lexer": "ipython3",
   "version": "3.7.6"
  }
 },
 "nbformat": 4,
 "nbformat_minor": 2
}
