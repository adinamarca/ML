{
 "metadata": {
  "language_info": {
   "codemirror_mode": {
    "name": "ipython",
    "version": 3
   },
   "file_extension": ".py",
   "mimetype": "text/x-python",
   "name": "python",
   "nbconvert_exporter": "python",
   "pygments_lexer": "ipython3",
   "version": 3
  },
  "orig_nbformat": 2
 },
 "nbformat": 4,
 "nbformat_minor": 2,
 "cells": [
  {
   "source": [
    "# Redes neuronales\n",
    "\n",
    "<img src=\"1.png\"></img>\n",
    "\n",
    "~ Basado en el video de <b>DOT.CSV</b>: [Redes Neuronales](https://www.youtube.com/watch?v=W8AeOXa_FqU) y curso de Machine Learning de la Universidad de Standford, de Andrew Ng.\n",
    "\n",
    "~ Imágenes extraídas desde el curso de Andrew NG de Coursera (Machine Learning de Standford University), canal de YouTube de DOT.CSV, Wikipedia, Slideshare, entre otros.\n",
    "\n",
    "~ Recomendado saber sobre cursos de cálculo de universidad (cálculo I, II y III), programación, álgebra y estadística.\n",
    "\n",
    "## Redes neuronales\n",
    "\n",
    "Las redes neuronales fueron desarrolladas como simulación de las neuronas o de las redes de neuronas en el cerebro. \n",
    "\n",
    "## Neuronas\n",
    "\n",
    "<img src=\"2.png\"></img>\n",
    "\n",
    "Las neuronas - <i>como la que está adjunta en la imagen</i> -, son una perfecta analogía para entender la representación de la hipótesis de las redes neuronales.\n",
    "\n",
    "Las primeras cosas que llaman la atención es que, las neuronas, tienen un cuerpo celular morado, con ramificaciones, llamadas \"dentritas\". Estas dentritas son similares a nuestras entradas de la función, 'inputs' o X (características).\n",
    "\n",
    "Además, estos cables de entrada reciben inputs de otras ubicaciones.\n",
    "\n",
    "Finalmente, tenemos que estos cables de entrada se conectan a un cable de salida, denominado axón, cuya función es enviar señales a otras neuronas. Este 'output' vendría siendo nuestras salidas 'h(x)'.\n",
    "\n",
    "Cobra sentido, ¿no parece?\n",
    "\n",
    "## Unidad computacional\n",
    "\n",
    "En analogía a las neuronas biológicas, y en un nivel simple, una neurona es una <b>unidad computacional</b> que tiene un número de entradas. Es, a través de estos cables de entrada, que se reciben características con las cuales se realizan algunos cálculos, y luego, se envían estos resultados mediante su axón (output) a otros nodos o a otras neuronas del cerebro.\n",
    "\n",
    "## Red neuronal artificial: unidad de logística\n",
    "\n",
    "En una red neuronal artificial, lo que implementamos en una computadora es un modelo muy simple respecto a lo que realizan las neuronas biológicas.\n",
    "\n",
    "Modelaremos una neurona como una unidad logística. Así que, en el caso de la representación del modelo:\n",
    "\n",
    "• El círculo amarillo representaría una función análoga del cuerpo de una neurona (los cálculos sobre los input que darán un output).\n",
    "\n",
    "• Nuestro resultado, $ h_ \\theta (x) $, vendría siendo el output gracias al axón (en analogía biológica).\n",
    "\n",
    "<img src=\"3.png\"></img>"
   ],
   "cell_type": "markdown",
   "metadata": {}
  }
 ]
}