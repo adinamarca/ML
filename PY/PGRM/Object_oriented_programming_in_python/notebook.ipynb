{
 "metadata": {
  "language_info": {
   "codemirror_mode": {
    "name": "ipython",
    "version": 3
   },
   "file_extension": ".py",
   "mimetype": "text/x-python",
   "name": "python",
   "nbconvert_exporter": "python",
   "pygments_lexer": "ipython3",
   "version": "3.8.3-final"
  },
  "orig_nbformat": 2,
  "kernelspec": {
   "name": "python3",
   "display_name": "Python 3.8.3 32-bit",
   "metadata": {
    "interpreter": {
     "hash": "cf7922f0840c5393fef0e56634befbde274dd0b581610b62f6a1754d511fb74c"
    }
   }
  }
 },
 "nbformat": 4,
 "nbformat_minor": 2,
 "cells": [
  {
   "source": [
    "# Programación Orientada a Objetos en Python\n",
    "\n",
    "<img src=\"1.png\"></img>\n",
    "\n",
    "## Nota a mi mismo\n",
    "\n",
    "- No soy experto en programación, de hecho, me consideraría un sobreviviente. Sin embargo, espero este sea el comienzo de algo más grande.\n",
    "\n",
    "No es primera vez que veo curso de OOP, de hecho, es la tercera:\n",
    "\n",
    "- La primera vez fue en LinkedIn Learning, con un enfoque bastante interesante.\n",
    "\n",
    "- La segunda fue este mismo curso.\n",
    "\n",
    "- La tercera, pues, volver a hacer el mismo curso para recapitular conceptos que creí innecesarios (bravo).\n",
    "\n",
    "Bueno, comencemos.\n",
    "\n",
    "## ¿Qué es la OOP? \n",
    "\n",
    "La instructora, Alex, nos enseñará a pensar orientado a objetos.\n",
    "\n",
    "## Programación procedimental\n",
    "\n",
    "Hasta ahora, probablemente hemos estado codificando en el llamado <b>estilo procedimental</b>:\n",
    "\n",
    "- El código era una secuencia de pasos a realizar.\n",
    "\n",
    "- Esto es común al hacer análisis de datos:\n",
    "\n",
    "    - Descargar los datos.\n",
    "\n",
    "    - Procesar los datos.\n",
    "\n",
    "    - Visualizar los datos.\n",
    "\n",
    "## Pensando en secuencias\n",
    "\n",
    "El pensamiento procedimental es natural:\n",
    "\n",
    "- Nos levantamos, desayunamos, y vamos a trabajar.\n",
    "\n",
    "Este punto de vista secuencial funciona muy bien si estamos tratando de planificar nuestro día. \n",
    "\n",
    "Sin embargo, si fuéramos un planificador de ciudades, tendríamos que pensar en miles de personas con sus propias rutinas.\n",
    "\n",
    "<img src=\"2.png\"></img>\n",
    "\n",
    "Tratar de trazar una secuencia de acciones para cada individuo, rápidamente, se volvería insostenible.\n",
    "\n",
    "En cambio, es probable que empecemos a pensar en patrones de comportamiento.\n",
    "\n",
    "¡Lo mismo ocurre con el código!\n",
    "\n",
    "Cuanto más datos utilicemos, más funcionalidades tendremos, y más difícil será pensar en esas funcionalidades como una secuencia de pasos.\n",
    "\n",
    "## Programación orientada a objetos\n",
    "\n",
    "En cambio, lo veremos como una colección de objetos y patrones de sus interacciones, como si fueran usuarios que interactúan con elementos de una interfaz:\n",
    "\n",
    "- Codificamos como interacciones de objetos.\n",
    "\n",
    "Este punto de vista, se vuelve invaluable al diseñar marcos, como aplicaciones de interfaces de programa, o interfaces gráficas de usuario. Incluso, para construir ¡herramientas como DATAFRAMES de Pandas!\n",
    "\n",
    "## Espera. ¿Qué es un marco?\n",
    "\n",
    "Se denominan, comúnmente:\n",
    "\n",
    "- Entorno de trabajo.\n",
    "\n",
    "- Marco de trabajo.\n",
    "\n",
    "- Framework.\n",
    "\n",
    "En este sentido, es un conjunto estandarizado de conceptos, prácticas y criterios para enfocar un tipo de problemática particular, que sirve como referencia, para enfrentar y resolver nuevos problemas de índole similar.\n",
    "\n",
    "En concreto, en el desarrollo de software, un entorno de trabajo es una estructura conceptual y tecnológica de asistencia definida, que cuenta con artefactos o módulos concretos de software. De forma que puede servir de base para la organización y desarrollo de software. Típicamente, puede incluir soporte de programas, bibliotecas, y un lenguaje interpretado, entre otras herramientas, para así ayudar a desarrollar y unir los diferentes componentes de un proyecto.\n",
    "\n",
    "~ Esto, de acuerdo a [Wikipedia](https://es.wikipedia.org/wiki/Framework)."
   ],
   "cell_type": "markdown",
   "metadata": {}
  },
  {
   "source": [
    "## Programación orientada a objetos: continuación\n",
    "\n",
    "Con lo expuesto, la OOP nos ayudará a organizar mejor el código, haciéndolo reutilizable y fácil de mantener. En resumen, la OOP:\n",
    "\n",
    "- Codifica como interacciones de objetos.\n",
    "\n",
    "- Genial para construir frameworks y herramientas.\n",
    "\n",
    "- Mantenible y reutilizable.\n",
    "\n",
    "## Objetos como estructuras de información\n",
    "\n",
    "Los conceptos fundamentales de OOP son objetos y clases:\n",
    "\n",
    "- Un objeto es una estructura de datos que incorpora información sobre el estado y el comportamiento.\n",
    "\n",
    "$ object \\: = \\: state \\: + \\: behavior $\n",
    "\n",
    "Por ejemplo, un objeto que representa un cliente puede tener un determinado número de teléfono y correo electrónico asociado, así como comportamientos como 'colocarOrden' o 'cancelarOrden':\n",
    "\n",
    "\n",
    "| <b>OBJETO CLIENTE</b> |\n",
    "| --- |\n",
    "| <b>ESTADO</b> |\n",
    "| --------- |\n",
    "| email = lara@company.com |\n",
    "| tel = 614-555-0177 |\n",
    "| --------- |\n",
    "| <b>COMPORTAMIENTO</b> |\n",
    "| --------- |\n",
    "| colocarOrden() |\n",
    "| cancelarOrden() |\n",
    "| --------- |\n",
    "\n",
    "Un objeto que representa un botón en un sitio web puede tener una etiqueta y puede activar un evento cuando se presiona.\n",
    "\n",
    "La característica distintiva de la programación orientada a objetos es que el estado y el comportamiento están agrupados: en lugar de pensar en los datos del cliente por separado de las acciones del cliente, pensamos en ellos como una unidad que representa un cliente.\n",
    "\n",
    "A esto se llama <b>encapsulación</b> y es uno de los principios básicos de la programación orientada a objetos.\n",
    "\n",
    "$ encapsulacion \\: - \\:\\:  empaquetando \\:\\: los \\:\\: datos \\:\\: con \\:\\: el \\:\\: codigo \\:\\: operando \\:\\: en \\:\\: el $\n",
    "\n",
    "## Clases como planos\n",
    "\n",
    "La verdadera fuerza de la OOP (POO en español) proviene de la utilización de clases:\n",
    "\n",
    "- Las clases son como planos de objetos.\n",
    "\n",
    "- Las clases describen los posibles estados y comportamientos que podría tener todo objeto de <b>cierto tipo</b>.\n",
    "\n",
    "Por ejemplo, si decimos \"todos los clientes tendrán un número de teléfono y un correo electrónico, y además, podrán realizar y cancelar pedidos\", ¡acabamos de definir una clase!\n",
    "\n",
    "De esta forma, podemos hablar sobre los clientes de forma unificada.\n",
    "\n",
    "<img src=\"3.png\"></img>\n",
    "\n",
    "Entonces, un objeto cliente específico es solo una realización de esta clase con valores de estado particulares.\n",
    "\n",
    "## Objetos en Python\n",
    "\n",
    "En Python, todo es un objeto, y todo objeto tiene una clase: números, cadenas, DataFrames, e incluso, funciones son objetos.\n",
    "\n",
    "| <b> OBJECT </b> | <b> CLASS </b> |\n",
    "| :-: | :-: |\n",
    "| 5 | int |\n",
    "| \"Hello\" | str |\n",
    "| pd.DataFrame() | DataFrame |\n",
    "| np.mean | function |\n",
    "| ... | ... |\n",
    "\n",
    "¿Comprobemos?"
   ],
   "cell_type": "markdown",
   "metadata": {}
  },
  {
   "cell_type": "code",
   "execution_count": 32,
   "metadata": {},
   "outputs": [
    {
     "output_type": "stream",
     "name": "stdout",
     "text": [
      "La clase de 5 es: <class 'int'> \n------------------------\nLa clase de 'Hola' es: <class 'str'>\n"
     ]
    }
   ],
   "source": [
    "print(\"La clase de 5 es: {} \\n------------------------\\nLa clase de 'Hola' es: {}\".format(type(5), type('Hello')))"
   ]
  },
  {
   "cell_type": "code",
   "execution_count": 31,
   "metadata": {},
   "outputs": [
    {
     "output_type": "execute_result",
     "data": {
      "text/plain": [
       "True"
      ]
     },
     "metadata": {},
     "execution_count": 31
    }
   ],
   "source": [
    "isinstance('Hola', str)"
   ]
  },
  {
   "cell_type": "code",
   "execution_count": 30,
   "metadata": {},
   "outputs": [
    {
     "output_type": "execute_result",
     "data": {
      "text/plain": [
       "True"
      ]
     },
     "metadata": {},
     "execution_count": 30
    }
   ],
   "source": [
    "isinstance(5, int)"
   ]
  },
  {
   "cell_type": "code",
   "execution_count": 33,
   "metadata": {},
   "outputs": [],
   "source": [
    "# Librería para álgebra\n",
    "import numpy as np\n",
    "\n",
    "# Librería para manipulación de datos\n",
    "import pandas as pd"
   ]
  },
  {
   "cell_type": "code",
   "execution_count": 38,
   "metadata": {},
   "outputs": [
    {
     "output_type": "stream",
     "name": "stdout",
     "text": [
      "La clase de pd.DataFrame() es: <class 'pandas.core.frame.DataFrame'> \n------------------------\nLa clase de np.mean es: <class 'function'>\n"
     ]
    }
   ],
   "source": [
    "print(\"La clase de pd.DataFrame() es: {} \\n------------------------\\nLa clase de np.mean es: {}\".format(type(pd.DataFrame()), type(np.mean)))"
   ]
  },
  {
   "source": [
    "En particular, todo lo que manejamos en Python tiene una clase, o un plano asociado bajo el capó.\n",
    "\n",
    "La existencia de estas interfaces unificadas es la razón por la que podemos utilizar, por ejemplo, cualquier DataFrame de la misma forma.\n",
    "\n",
    "Como vimos en celdas anteriores, podemos llamar a type() en cualquier objeto de Python para averiguar su clase.\n",
    "\n",
    "Por ejemplo, la clase de una matriz de numpy, en realidad, se llama ndarray (matriz n-dimensional). ¿Comprobemos?"
   ],
   "cell_type": "markdown",
   "metadata": {}
  },
  {
   "cell_type": "code",
   "execution_count": 39,
   "metadata": {},
   "outputs": [
    {
     "output_type": "execute_result",
     "data": {
      "text/plain": [
       "numpy.ndarray"
      ]
     },
     "metadata": {},
     "execution_count": 39
    }
   ],
   "source": [
    "type(np.array([1, 2, 3, 4]))"
   ]
  },
  {
   "source": [
    "## Atributos y métodos\n",
    "\n",
    "Las clases incorporan información sobre el estado y el comportamiento:\n",
    "\n",
    "- La información de estado en Python está contenida en <b>atributos</b>.\n",
    "\n",
    "- La información de comportamiento está contenida en <b>métodos</b>.\n",
    "\n",
    "Es decir:\n",
    "\n",
    "$ state \\: \\longleftrightarrow \\: attributes $\n",
    "\n",
    "$ behavior \\: \\longleftrightarrow \\: methods $\n",
    "\n",
    "Tomemos una matriz de Numpy: ¡ya hemos estado usando algunos métodos y atributos!\n",
    "\n",
    "Por ejemplo:\n",
    "\n",
    "- Cada matriz numpy tiene un atributo \"forma\" o shape.\n",
    "\n",
    "    - Podemos acceder al atributo especificando el nombre de la matriz, luego del punto y el atributo.\n",
    "\n",
    "- También tiene métodos como max y reshape, a los que también podemos acceder mediante el punto y los argumentos que, modificarán el comportamiento, los cuales están contenidos en () luego de la clase."
   ],
   "cell_type": "markdown",
   "metadata": {}
  },
  {
   "cell_type": "code",
   "execution_count": 42,
   "metadata": {},
   "outputs": [
    {
     "output_type": "execute_result",
     "data": {
      "text/plain": [
       "(4,)"
      ]
     },
     "metadata": {},
     "execution_count": 42
    }
   ],
   "source": [
    "# Atributos\n",
    "a = np.array([1, 2, 3, 4])\n",
    "a.shape"
   ]
  },
  {
   "cell_type": "code",
   "execution_count": 45,
   "metadata": {},
   "outputs": [
    {
     "output_type": "execute_result",
     "data": {
      "text/plain": [
       "dtype('int32')"
      ]
     },
     "metadata": {},
     "execution_count": 45
    }
   ],
   "source": [
    "# Atributos\n",
    "a.dtype"
   ]
  },
  {
   "cell_type": "code",
   "execution_count": 44,
   "metadata": {},
   "outputs": [
    {
     "output_type": "execute_result",
     "data": {
      "text/plain": [
       "array([[1, 2],\n",
       "       [3, 4]])"
      ]
     },
     "metadata": {},
     "execution_count": 44
    }
   ],
   "source": [
    "# Comportamiento\n",
    "b = a.reshape(2,2)\n",
    "b"
   ]
  },
  {
   "cell_type": "code",
   "execution_count": 46,
   "metadata": {},
   "outputs": [
    {
     "output_type": "execute_result",
     "data": {
      "text/plain": [
       "4"
      ]
     },
     "metadata": {},
     "execution_count": 46
    }
   ],
   "source": [
    "# Comportamiento\n",
    "c = a.max()\n",
    "c"
   ]
  },
  {
   "source": [
    "## Object = attributes + methods\n",
    "\n",
    "En el fondo, los atributos (o estados) en los objetos de Python, son representados por variables, como números, cadenas, o tuplas en el caso de matrices Numpy:\n",
    "\n",
    "- $ attribute \\longleftrightarrow variables \\longleftrightarrow obj.myAttribute $.\n",
    "\n",
    "Los métodos o comportamientos están representados por funciones:\n",
    "\n",
    "- $ method \\longleftrightarrow function() \\longleftrightarrow obj.myMethod() $.\n",
    "\n",
    "Ambos son accesibles desde un objeto usando la sintaxis de puntos.\n",
    "\n",
    "Podemos enumerar todos los atributos y métodos que tiene un objeto llamado a dir() en él.\n",
    "\n",
    "Por ejemplo, una matriz Numpy tiene métodos como trace y transpose."
   ],
   "cell_type": "markdown",
   "metadata": {}
  },
  {
   "cell_type": "code",
   "execution_count": 56,
   "metadata": {},
   "outputs": [
    {
     "output_type": "execute_result",
     "data": {
      "text/plain": [
       "158        trace\n",
       "159    transpose\n",
       "dtype: object"
      ]
     },
     "metadata": {},
     "execution_count": 56
    }
   ],
   "source": [
    "# Buscamos SOLO los métodos trace y transpose\n",
    "pd.Series(dir(a))[pd.Series(dir(a)).isin(['transpose', 'trace'])]"
   ]
  },
  {
   "source": [
    "¿De qué van los '__' o '_'?\n",
    "\n",
    "Double leading underscore: this introduces a concept called “mangling”. This helps python interpretation to distinguish between attribute names in case of inheritance (when two attributes have same name in super and sub class). this appends _Classname to __manglingVariable and becomes __Classname__manglingVariable.\n",
    "\n",
    "some people use it as “truly private” but we should avoid this. There is no “truly private” concept in Python.\n",
    "\n",
    "~ Desde [Quora](https://www.quora.com/What-is-the-difference-between-_-and-__-in-python)."
   ],
   "cell_type": "markdown",
   "metadata": {}
  },
  {
   "source": [
    "Detengámonos aquí por ahora. ¡No nos preocupemos si parece confuso! Es una forma diferente de pensar y llevará algún tiempo acostumbrarse.\n",
    "\n",
    "## ¡Ejercicios!\n",
    "\n",
    "Ahora, nos dirigimos a los ejercicios."
   ],
   "cell_type": "markdown",
   "metadata": {}
  },
  {
   "source": [
    "### 1° EX: Terminología de POO\n",
    "\n",
    "Clasificaremos los conceptos en verdadero y falso."
   ],
   "cell_type": "markdown",
   "metadata": {}
  },
  {
   "source": [
    "### T\n",
    "\n",
    "- <u>Object and class are different terms describing the same concept</u>. (X)\n",
    "\n",
    "- Encapsulation is a software design practice of bundling the data and the methods that operate on that data.\n",
    "\n",
    "- Methods encode behavior of an object and are represented by functions.\n",
    "\n",
    "- Attributes encode the state of an object and are represented by variables\n",
    "\n",
    "### F\n",
    "\n",
    "- Object and class are different terms describing the same concept: <b>concepts of object and class are related, but have a fundamental difference: an object is a particular representation of a class, while a class is just an abstract pattern</b>.\n",
    "\n",
    "- .columns is an example of a method of a DataFrame object.\n",
    "\n",
    "- A programming language can be either object-oriented or procedural, but not both.\n",
    "\n",
    "- Object is an abstract template describing the general states and behaviors.\n",
    "\n",
    "### Note\n",
    "\n",
    "Great job! Classes and objects both have attributes and methods, but the difference is that a class is an abstract template, while an object is a concrete representation of a class."
   ],
   "cell_type": "markdown",
   "metadata": {}
  },
  {
   "source": [
    "### 2° EX: Explorando la interfaz de los objetos\n",
    "\n",
    "The best way to learn how to write object-oriented code is to study the design of existing classes. You've already learned about exploration tools like type() and dir().\n",
    "\n",
    "Another important function is help(): calling help(x) in the console will show the documentation for the object or class x.\n",
    "\n",
    "Most real world classes have many methods and attributes, and it is easy to get lost, so in this exercise, you will start with something simpler. We have defined a class, and created an object of that class called mystery. Explore the object in the console using the tools that you learned."
   ],
   "cell_type": "markdown",
   "metadata": {}
  },
  {
   "source": [
    "Dado que no contamos con el objeto mystery, se adjuntan capturas.\n",
    "\n",
    "<img src=\"4.png\"></img>\n",
    "\n",
    "Utilizamos algunos atributos del objeto mystery.\n",
    "\n",
    "<img src=\"5.png\"></img>\n",
    "\n",
    "Utilizamos ? para obtener información del método 'give_raise()'.\n",
    "\n",
    "<img src=\"6.png\"></img>\n",
    "\n",
    "Finalizamos el ejercicio.\n",
    "\n",
    "<img src=\"7.png\"></img>\n",
    "\n",
    "### Note\n",
    "\n",
    "Great start! You can use help() to explore an unfamiliar object. Notice how descriptive names of attributes and methods, together with the methods' docstrings, helped you figure out class functionality even when you didn't know how it was implemented. Keep this in mind when writing your own classes!"
   ],
   "cell_type": "markdown",
   "metadata": {}
  }
 ]
}