{
 "metadata": {
  "language_info": {
   "codemirror_mode": {
    "name": "ipython",
    "version": 3
   },
   "file_extension": ".py",
   "mimetype": "text/x-python",
   "name": "python",
   "nbconvert_exporter": "python",
   "pygments_lexer": "ipython3",
   "version": "3.8.3-final"
  },
  "orig_nbformat": 2,
  "kernelspec": {
   "name": "python3",
   "display_name": "Python 3.8.3 32-bit",
   "metadata": {
    "interpreter": {
     "hash": "cf7922f0840c5393fef0e56634befbde274dd0b581610b62f6a1754d511fb74c"
    }
   }
  }
 },
 "nbformat": 4,
 "nbformat_minor": 2,
 "cells": [
  {
   "source": [
    "# Programación Orientada a Objetos en Python\n",
    "\n",
    "<img src=\"1.png\"></img>\n",
    "\n",
    "## Nota a mi mismo\n",
    "\n",
    "- No soy experto en programación, de hecho, me consideraría un sobreviviente. Sin embargo, espero este sea el comienzo de algo más grande.\n",
    "\n",
    "No es primera vez que veo curso de OOP, de hecho, es la tercera:\n",
    "\n",
    "- La primera vez fue en LinkedIn Learning, con un enfoque bastante interesante.\n",
    "\n",
    "- La segunda fue este mismo curso.\n",
    "\n",
    "- La tercera, pues, volver a hacer el mismo curso para recapitular conceptos que creí innecesarios (bravo).\n",
    "\n",
    "Bueno, comencemos.\n",
    "\n",
    "## ¿Qué es la OOP? \n",
    "\n",
    "La instructora, Alex, nos enseñará a pensar orientado a objetos.\n",
    "\n",
    "## Programación procedimental\n",
    "\n",
    "Hasta ahora, probablemente hemos estado codificando en el llamado <b>estilo procedimental</b>:\n",
    "\n",
    "- El código era una secuencia de pasos a realizar.\n",
    "\n",
    "- Esto es común al hacer análisis de datos:\n",
    "\n",
    "    - Descargar los datos.\n",
    "\n",
    "    - Procesar los datos.\n",
    "\n",
    "    - Visualizar los datos.\n",
    "\n",
    "## Pensando en secuencias\n",
    "\n",
    "El pensamiento procedimental es natural:\n",
    "\n",
    "- Nos levantamos, desayunamos, y vamos a trabajar.\n",
    "\n",
    "Este punto de vista secuencial funciona muy bien si estamos tratando de planificar nuestro día. \n",
    "\n",
    "Sin embargo, si fuéramos un planificador de ciudades, tendríamos que pensar en miles de personas con sus propias rutinas.\n",
    "\n",
    "<img src=\"2.png\"></img>\n",
    "\n",
    "Tratar de trazar una secuencia de acciones para cada individuo, rápidamente, se volvería insostenible.\n",
    "\n",
    "En cambio, es probable que empecemos a pensar en patrones de comportamiento.\n",
    "\n",
    "¡Lo mismo ocurre con el código!\n",
    "\n",
    "Cuanto más datos utilicemos, más funcionalidades tendremos, y más difícil será pensar en esas funcionalidades como una secuencia de pasos.\n",
    "\n",
    "## Programación orientada a objetos\n",
    "\n",
    "En cambio, lo veremos como una colección de objetos y patrones de sus interacciones, como si fueran usuarios que interactúan con elementos de una interfaz:\n",
    "\n",
    "- Codificamos como interacciones de objetos.\n",
    "\n",
    "Este punto de vista, se vuelve invaluable al diseñar marcos, como aplicaciones de interfaces de programa, o interfaces gráficas de usuario. Incluso, para construir ¡herramientas como DATAFRAMES de Pandas!\n",
    "\n",
    "## Espera. ¿Qué es un marco?\n",
    "\n",
    "Se denominan, comúnmente:\n",
    "\n",
    "- Entorno de trabajo.\n",
    "\n",
    "- Marco de trabajo.\n",
    "\n",
    "- Framework.\n",
    "\n",
    "En este sentido, es un conjunto estandarizado de conceptos, prácticas y criterios para enfocar un tipo de problemática particular, que sirve como referencia, para enfrentar y resolver nuevos problemas de índole similar.\n",
    "\n",
    "En concreto, en el desarrollo de software, un entorno de trabajo es una estructura conceptual y tecnológica de asistencia definida, que cuenta con artefactos o módulos concretos de software. De forma que puede servir de base para la organización y desarrollo de software. Típicamente, puede incluir soporte de programas, bibliotecas, y un lenguaje interpretado, entre otras herramientas, para así ayudar a desarrollar y unir los diferentes componentes de un proyecto.\n",
    "\n",
    "~ Esto, de acuerdo a [Wikipedia](https://es.wikipedia.org/wiki/Framework)."
   ],
   "cell_type": "markdown",
   "metadata": {}
  },
  {
   "source": [
    "## Programación orientada a objetos: continuación\n",
    "\n",
    "Con lo expuesto, la OOP nos ayudará a organizar mejor el código, haciéndolo reutilizable y fácil de mantener. En resumen, la OOP:\n",
    "\n",
    "- Codifica como interacciones de objetos.\n",
    "\n",
    "- Genial para construir frameworks y herramientas.\n",
    "\n",
    "- Mantenible y reutilizable.\n",
    "\n",
    "## Objetos como estructuras de información\n",
    "\n",
    "Los conceptos fundamentales de OOP son objetos y clases:\n",
    "\n",
    "- Un objeto es una estructura de datos que incorpora información sobre el estado y el comportamiento.\n",
    "\n",
    "$ object \\: = \\: state \\: + \\: behavior $\n",
    "\n",
    "Por ejemplo, un objeto que representa un cliente puede tener un determinado número de teléfono y correo electrónico asociado, así como comportamientos como 'colocarOrden' o 'cancelarOrden':\n",
    "\n",
    "\n",
    "| <b>OBJETO CLIENTE</b> |\n",
    "| --- |\n",
    "| <b>ESTADO</b> |\n",
    "| --------- |\n",
    "| email = lara@company.com |\n",
    "| tel = 614-555-0177 |\n",
    "| --------- |\n",
    "| <b>COMPORTAMIENTO</b> |\n",
    "| --------- |\n",
    "| colocarOrden() |\n",
    "| cancelarOrden() |\n",
    "| --------- |\n",
    "\n",
    "Un objeto que representa un botón en un sitio web puede tener una etiqueta y puede activar un evento cuando se presiona.\n",
    "\n",
    "La característica distintiva de la programación orientada a objetos es que el estado y el comportamiento están agrupados: en lugar de pensar en los datos del cliente por separado de las acciones del cliente, pensamos en ellos como una unidad que representa un cliente.\n",
    "\n",
    "A esto se llama <b>encapsulación</b> y es uno de los principios básicos de la programación orientada a objetos.\n",
    "\n",
    "$ encapsulacion \\: - \\:\\:  empaquetando \\:\\: los \\:\\: datos \\:\\: con \\:\\: el \\:\\: codigo \\:\\: operando \\:\\: en \\:\\: el $\n",
    "\n",
    "## Clases como planos\n",
    "\n",
    "La verdadera fuerza de la OOP (POO en español) proviene de la utilización de clases:\n",
    "\n",
    "- Las clases son como planos de objetos.\n",
    "\n",
    "- Las clases describen los posibles estados y comportamientos que podría tener todo objeto de <b>cierto tipo</b>.\n",
    "\n",
    "Por ejemplo, si decimos \"todos los clientes tendrán un número de teléfono y un correo electrónico, y además, podrán realizar y cancelar pedidos\", ¡acabamos de definir una clase!\n",
    "\n",
    "De esta forma, podemos hablar sobre los clientes de forma unificada.\n",
    "\n",
    "<img src=\"3.png\"></img>\n",
    "\n",
    "Entonces, un objeto cliente específico es solo una realización de esta clase con valores de estado particulares.\n",
    "\n",
    "## Objetos en Python\n",
    "\n",
    "En Python, todo es un objeto, y todo objeto tiene una clase: números, cadenas, DataFrames, e incluso, funciones son objetos.\n",
    "\n",
    "| <b> OBJECT </b> | <b> CLASS </b> |\n",
    "| :-: | :-: |\n",
    "| 5 | int |\n",
    "| \"Hello\" | str |\n",
    "| pd.DataFrame() | DataFrame |\n",
    "| np.mean | function |\n",
    "| ... | ... |\n",
    "\n",
    "¿Comprobemos?"
   ],
   "cell_type": "markdown",
   "metadata": {}
  },
  {
   "cell_type": "code",
   "execution_count": 1,
   "metadata": {},
   "outputs": [
    {
     "output_type": "stream",
     "name": "stdout",
     "text": [
      "La clase de 5 es: <class 'int'> \n------------------------\nLa clase de 'Hola' es: <class 'str'>\n"
     ]
    }
   ],
   "source": [
    "print(\"La clase de 5 es: {} \\n------------------------\\nLa clase de 'Hola' es: {}\".format(type(5), type('Hello')))"
   ]
  },
  {
   "cell_type": "code",
   "execution_count": 2,
   "metadata": {},
   "outputs": [
    {
     "output_type": "execute_result",
     "data": {
      "text/plain": [
       "True"
      ]
     },
     "metadata": {},
     "execution_count": 2
    }
   ],
   "source": [
    "isinstance('Hola', str)"
   ]
  },
  {
   "cell_type": "code",
   "execution_count": 3,
   "metadata": {},
   "outputs": [
    {
     "output_type": "execute_result",
     "data": {
      "text/plain": [
       "True"
      ]
     },
     "metadata": {},
     "execution_count": 3
    }
   ],
   "source": [
    "isinstance(5, int)"
   ]
  },
  {
   "cell_type": "code",
   "execution_count": 4,
   "metadata": {},
   "outputs": [],
   "source": [
    "# Librería para álgebra\n",
    "import numpy as np\n",
    "\n",
    "# Librería para manipulación de datos\n",
    "import pandas as pd"
   ]
  },
  {
   "cell_type": "code",
   "execution_count": 5,
   "metadata": {},
   "outputs": [
    {
     "output_type": "stream",
     "name": "stdout",
     "text": [
      "La clase de pd.DataFrame() es: <class 'pandas.core.frame.DataFrame'> \n------------------------\nLa clase de np.mean es: <class 'function'>\n"
     ]
    }
   ],
   "source": [
    "print(\"La clase de pd.DataFrame() es: {} \\n------------------------\\nLa clase de np.mean es: {}\".format(type(pd.DataFrame()), type(np.mean)))"
   ]
  },
  {
   "source": [
    "En particular, todo lo que manejamos en Python tiene una clase, o un plano asociado bajo el capó.\n",
    "\n",
    "La existencia de estas interfaces unificadas es la razón por la que podemos utilizar, por ejemplo, cualquier DataFrame de la misma forma.\n",
    "\n",
    "Como vimos en celdas anteriores, podemos llamar a type() en cualquier objeto de Python para averiguar su clase.\n",
    "\n",
    "Por ejemplo, la clase de una matriz de numpy, en realidad, se llama ndarray (matriz n-dimensional). ¿Comprobemos?"
   ],
   "cell_type": "markdown",
   "metadata": {}
  },
  {
   "cell_type": "code",
   "execution_count": 6,
   "metadata": {},
   "outputs": [
    {
     "output_type": "execute_result",
     "data": {
      "text/plain": [
       "numpy.ndarray"
      ]
     },
     "metadata": {},
     "execution_count": 6
    }
   ],
   "source": [
    "type(np.array([1, 2, 3, 4]))"
   ]
  },
  {
   "source": [
    "## Atributos y métodos\n",
    "\n",
    "Las clases incorporan información sobre el estado y el comportamiento:\n",
    "\n",
    "- La información de estado en Python está contenida en <b>atributos</b>.\n",
    "\n",
    "- La información de comportamiento está contenida en <b>métodos</b>.\n",
    "\n",
    "Es decir:\n",
    "\n",
    "$ state \\: \\longleftrightarrow \\: attributes $\n",
    "\n",
    "$ behavior \\: \\longleftrightarrow \\: methods $\n",
    "\n",
    "Tomemos una matriz de Numpy: ¡ya hemos estado usando algunos métodos y atributos!\n",
    "\n",
    "Por ejemplo:\n",
    "\n",
    "- Cada matriz numpy tiene un atributo \"forma\" o shape.\n",
    "\n",
    "    - Podemos acceder al atributo especificando el nombre de la matriz, luego del punto y el atributo.\n",
    "\n",
    "- También tiene métodos como max y reshape, a los que también podemos acceder mediante el punto y los argumentos que, modificarán el comportamiento, los cuales están contenidos en () luego de la clase."
   ],
   "cell_type": "markdown",
   "metadata": {}
  },
  {
   "cell_type": "code",
   "execution_count": 7,
   "metadata": {},
   "outputs": [
    {
     "output_type": "execute_result",
     "data": {
      "text/plain": [
       "(4,)"
      ]
     },
     "metadata": {},
     "execution_count": 7
    }
   ],
   "source": [
    "# Atributos\n",
    "a = np.array([1, 2, 3, 4])\n",
    "a.shape"
   ]
  },
  {
   "cell_type": "code",
   "execution_count": 8,
   "metadata": {},
   "outputs": [
    {
     "output_type": "execute_result",
     "data": {
      "text/plain": [
       "dtype('int32')"
      ]
     },
     "metadata": {},
     "execution_count": 8
    }
   ],
   "source": [
    "# Atributos\n",
    "a.dtype"
   ]
  },
  {
   "cell_type": "code",
   "execution_count": 9,
   "metadata": {},
   "outputs": [
    {
     "output_type": "execute_result",
     "data": {
      "text/plain": [
       "array([[1, 2],\n",
       "       [3, 4]])"
      ]
     },
     "metadata": {},
     "execution_count": 9
    }
   ],
   "source": [
    "# Comportamiento\n",
    "b = a.reshape(2,2)\n",
    "b"
   ]
  },
  {
   "cell_type": "code",
   "execution_count": 10,
   "metadata": {},
   "outputs": [
    {
     "output_type": "execute_result",
     "data": {
      "text/plain": [
       "4"
      ]
     },
     "metadata": {},
     "execution_count": 10
    }
   ],
   "source": [
    "# Comportamiento\n",
    "c = a.max()\n",
    "c"
   ]
  },
  {
   "source": [
    "## Object = attributes + methods\n",
    "\n",
    "En el fondo, los atributos (o estados) en los objetos de Python, son representados por variables, como números, cadenas, o tuplas en el caso de matrices Numpy:\n",
    "\n",
    "- $ attribute \\longleftrightarrow variables \\longleftrightarrow obj.myAttribute $.\n",
    "\n",
    "Los métodos o comportamientos están representados por funciones:\n",
    "\n",
    "- $ method \\longleftrightarrow function() \\longleftrightarrow obj.myMethod() $.\n",
    "\n",
    "Ambos son accesibles desde un objeto usando la sintaxis de puntos.\n",
    "\n",
    "Podemos enumerar todos los atributos y métodos que tiene un objeto llamado a dir() en él.\n",
    "\n",
    "Por ejemplo, una matriz Numpy tiene métodos como trace y transpose."
   ],
   "cell_type": "markdown",
   "metadata": {}
  },
  {
   "cell_type": "code",
   "execution_count": 11,
   "metadata": {},
   "outputs": [
    {
     "output_type": "execute_result",
     "data": {
      "text/plain": [
       "158        trace\n",
       "159    transpose\n",
       "dtype: object"
      ]
     },
     "metadata": {},
     "execution_count": 11
    }
   ],
   "source": [
    "# Buscamos SOLO los métodos trace y transpose\n",
    "pd.Series(dir(a))[pd.Series(dir(a)).isin(['transpose', 'trace'])]"
   ]
  },
  {
   "source": [
    "¿De qué van los '__' o '_'?\n",
    "\n",
    "Double leading underscore: this introduces a concept called “mangling”. This helps python interpretation to distinguish between attribute names in case of inheritance (when two attributes have same name in super and sub class). this appends _Classname to __manglingVariable and becomes __Classname__manglingVariable.\n",
    "\n",
    "some people use it as “truly private” but we should avoid this. There is no “truly private” concept in Python.\n",
    "\n",
    "~ Desde [Quora](https://www.quora.com/What-is-the-difference-between-_-and-__-in-python)."
   ],
   "cell_type": "markdown",
   "metadata": {}
  },
  {
   "source": [
    "Detengámonos aquí por ahora. ¡No nos preocupemos si parece confuso! Es una forma diferente de pensar y llevará algún tiempo acostumbrarse.\n",
    "\n",
    "## ¡Ejercicios!\n",
    "\n",
    "Ahora, nos dirigimos a los ejercicios."
   ],
   "cell_type": "markdown",
   "metadata": {}
  },
  {
   "source": [
    "### 1° EX: Terminología de POO\n",
    "\n",
    "Clasificaremos los conceptos en verdadero y falso."
   ],
   "cell_type": "markdown",
   "metadata": {}
  },
  {
   "source": [
    "### T\n",
    "\n",
    "- <u>Object and class are different terms describing the same concept</u>. (X)\n",
    "\n",
    "- Encapsulation is a software design practice of bundling the data and the methods that operate on that data.\n",
    "\n",
    "- Methods encode behavior of an object and are represented by functions.\n",
    "\n",
    "- Attributes encode the state of an object and are represented by variables\n",
    "\n",
    "### F\n",
    "\n",
    "- Object and class are different terms describing the same concept: <b>concepts of object and class are related, but have a fundamental difference: an object is a particular representation of a class, while a class is just an abstract pattern</b>.\n",
    "\n",
    "- .columns is an example of a method of a DataFrame object.\n",
    "\n",
    "- A programming language can be either object-oriented or procedural, but not both.\n",
    "\n",
    "- Object is an abstract template describing the general states and behaviors.\n",
    "\n",
    "### Note\n",
    "\n",
    "Great job! Classes and objects both have attributes and methods, but the difference is that a class is an abstract template, while an object is a concrete representation of a class."
   ],
   "cell_type": "markdown",
   "metadata": {}
  },
  {
   "source": [
    "### 2° EX: Explorando la interfaz de los objetos\n",
    "\n",
    "The best way to learn how to write object-oriented code is to study the design of existing classes. You've already learned about exploration tools like type() and dir().\n",
    "\n",
    "Another important function is help(): calling help(x) in the console will show the documentation for the object or class x.\n",
    "\n",
    "Most real world classes have many methods and attributes, and it is easy to get lost, so in this exercise, you will start with something simpler. We have defined a class, and created an object of that class called mystery. Explore the object in the console using the tools that you learned."
   ],
   "cell_type": "markdown",
   "metadata": {}
  },
  {
   "source": [
    "Dado que no contamos con el objeto mystery, se adjuntan capturas.\n",
    "\n",
    "<img src=\"4.png\"></img>\n",
    "\n",
    "Utilizamos algunos atributos del objeto mystery.\n",
    "\n",
    "<img src=\"5.png\"></img>\n",
    "\n",
    "Utilizamos ? para obtener información del método 'give_raise()'.\n",
    "\n",
    "<img src=\"6.png\"></img>\n",
    "\n",
    "Finalizamos el ejercicio.\n",
    "\n",
    "<img src=\"7.png\"></img>\n",
    "\n",
    "### Note\n",
    "\n",
    "Great start! You can use help() to explore an unfamiliar object. Notice how descriptive names of attributes and methods, together with the methods' docstrings, helped you figure out class functionality even when you didn't know how it was implemented. Keep this in mind when writing your own classes!"
   ],
   "cell_type": "markdown",
   "metadata": {}
  },
  {
   "source": [
    "## Anatomía de clases: atributos y métodos\n",
    "\n",
    "Ahora que sabemos cómo trabajar con objetos y clases existentes, aprenderemos a crearlos.\n",
    "\n",
    "## Una clase básica\n",
    "\n",
    "Para crear una clase, todo lo que necesitamos es una declaración de clase, seguida del nombre de la clase y dos puntos.\n",
    "\n",
    "- $class \\: <name> \\: starts \\: a \\: class \\: definition$\n",
    "\n",
    "- El código dentro de la $clase$ está indentado.\n",
    "\n",
    "- Usamos $pass$ para crear una clase \"vacía\"."
   ],
   "cell_type": "markdown",
   "metadata": {}
  },
  {
   "cell_type": "code",
   "execution_count": 16,
   "metadata": {},
   "outputs": [],
   "source": [
    "class Customer:\n",
    "    pass"
   ]
  },
  {
   "source": [
    "Todo lo que esté en el bloque con sangría posterior, se considerará parte de la clase.\n",
    "\n",
    "Podemos crear una clase \"vacía\", como una plantilla en blanco, incluyendo la declaración de paso, pass, después de la declaración de clase.\n",
    "\n",
    "Aunque la clase está vacía, ya podemos crear objetos de la clase, especificando el nombre de la clase, seguido de paréntesis:\n",
    "\n",
    "- Se usa $className()$ para crear un objeto de la clase $className$."
   ],
   "cell_type": "markdown",
   "metadata": {}
  },
  {
   "cell_type": "code",
   "execution_count": 17,
   "metadata": {},
   "outputs": [],
   "source": [
    "c1 = Customer()\n",
    "c2 = Customer()"
   ]
  },
  {
   "source": [
    "Aquí, $c1$ y $c2$ son dos objetos diferentes de la clase vacía Customer."
   ],
   "cell_type": "markdown",
   "metadata": {}
  },
  {
   "cell_type": "code",
   "execution_count": 19,
   "metadata": {},
   "outputs": [
    {
     "output_type": "execute_result",
     "data": {
      "text/plain": [
       "__main__.Customer"
      ]
     },
     "metadata": {},
     "execution_count": 19
    }
   ],
   "source": [
    "type(c1)"
   ]
  },
  {
   "cell_type": "code",
   "execution_count": 20,
   "metadata": {},
   "outputs": [
    {
     "output_type": "execute_result",
     "data": {
      "text/plain": [
       "__main__.Customer"
      ]
     },
     "metadata": {},
     "execution_count": 20
    }
   ],
   "source": [
    "type(c2)"
   ]
  },
  {
   "source": [
    "Queremos crear objetos que realmente almacenen datos y operen con ellos; en otras palabras, que tengan atributos y métodos.\n",
    "\n",
    "## Añadir métodos a una clase\n",
    "\n",
    "Definir un método es simple.\n",
    "\n",
    "Los métodos son funciones, por lo que la definición se parece a una función de Python normal, con una excepción: el argumento especial self que cada método tendrá como primer argumento, posiblemente, seguido de otros argumentos:\n",
    "\n",
    "- $method \\: \\: definition = function \\:\\: definition \\:\\: within \\:\\: a \\:\\: class$.\n",
    "\n",
    "- Usar $self$ como el primer argumento de una definición de un método.\n",
    "\n",
    "Volveremos a $self$ en un minuto, primero, veamos cómo funciona."
   ],
   "cell_type": "markdown",
   "metadata": {}
  },
  {
   "cell_type": "code",
   "execution_count": 27,
   "metadata": {},
   "outputs": [],
   "source": [
    "class Customer:\n",
    "    \n",
    "    def identify(self, name):\n",
    "        print(\"I am the customer \" + name)"
   ]
  },
  {
   "source": [
    "En la celda de arriba:\n",
    "\n",
    "- Definimos un método para \"identificar\" la clase de cliente, que toma a sí mismo, self, coomo primer argumento, y luego, un nombre como parámetro. De esta forma, imprime \"I am a customer\" más el nombre.\n",
    "\n",
    "- Notar que no almacenamos información, y solo devolvemos el nombre del cliente: ¡por ello es un método y no un atributo!\n",
    "\n",
    "Creemos un nuevo objeto cliente, llamando al método e ignorando self:\n",
    "\n",
    "- Se debe ignorar $self$ cuando llamamos a un método en un objeto.\n",
    "\n",
    "A continuación, creamos este objeto cliente, llamando al método usando la sintaxis $object.method()$, pasando como argumento el nombre deseado."
   ],
   "cell_type": "markdown",
   "metadata": {}
  },
  {
   "cell_type": "code",
   "execution_count": 28,
   "metadata": {},
   "outputs": [
    {
     "output_type": "stream",
     "name": "stdout",
     "text": [
      "I am the customer Laura\n"
     ]
    }
   ],
   "source": [
    "cust = Customer()\n",
    "cust.identify('Laura')"
   ]
  },
  {
   "source": [
    "Tengamos en cuenta que el nombre fue el segundo parámetro en la definición del método, pero es el primer parámetro cuando se llama al método:\n",
    "\n",
    "- El misterioso $self$ no es necesario para llamar al método.\n",
    "\n",
    "Entonces, ¿qué es $self$?\n",
    "\n",
    "## ¿Qué es $self$?\n",
    "\n",
    "Las clases son plantillas.\n",
    "\n",
    "¡Los objetos de una clase aún no existen cuando se define una clase! Pero, a menudo, necesitamos una forma de hacer referencia a los datos de un objeto, en particular, dentro de la definición de la clase:\n",
    "\n",
    "- Las clases, al ser plantillas, ¿cómo nos referimos a los datos de un objeto particular? ¡Allí el por qué de $self$!\n",
    "\n",
    "- El primer argumento de cualquier método siempre debe ser $self$.\n",
    "\n",
    "- El propósito de $self$ es un sustituto del $yo$ futuro. Es decir, es un sustituto del objeto futuro: un lugar para almacenar el objeto futuro.\n",
    "\n",
    "- Python se encargará de $self$ cuando llamemos al método de un objeto.\n",
    "\n",
    "Es por eso que, todos los métodos, deben tener el argumento $self$, para que podamos usarlo para acceder a atributos y llamar a otros métodos desde dentro de la definición de clase, incluso cuando aún no se han creado objetos.\n",
    "\n",
    "## Nota\n",
    "\n",
    "En sí, y dentro de lo que entiendo, es una referencia. Al crear un objeto, y llamar a unos de sus métodos, $self$ corresponde a la variable asignada al objeto:\n",
    "\n",
    "- Si creamos un objeto $Cliente$, $self = Cliente$.\n",
    "\n",
    "- Si creamos un objeto $Vendedor$, $self = Vendedor$.\n",
    "\n",
    "Como dijimos, Python se encargará de $self$ cuando llamemos al método desde un objeto, utilizando la sintaxis de puntos:\n",
    "\n",
    "```\n",
    "cust.identify('Laura') será interpretado como Customer.identify(cust, 'Laura')\n",
    "\n",
    "```\n",
    "\n",
    "De hecho, usar ```object.method()``` es equivalente a pasar ese objeto como argumento.\n",
    "\n",
    "Es por eso que no lo especificamos explícitamente cuando llamamos al método desde un objeto existente, debido a que Python nos hace el trabajo por nosotros.\n",
    "\n",
    "## ¡Necesitamos atributos!\n",
    "\n",
    "Según los principios de OOP, los datos que describen el estado del objeto deben agruparse en el objeto. Esto es lo que se denomina encapsulación:\n",
    "\n",
    "- Encapsulación: $ empaquetando \\:\\: datos \\:\\: con \\:\\: los \\:\\: methods \\:\\: que \\:\\: operan \\:\\: en \\:\\: esos \\:\\: datos$.\n",
    "\n",
    "Por ejemplo, el nombre del cliente debe ser un atributo de un objeto de Customer, en lugar de un parámetro pasado a un método:\n",
    "\n",
    "- El nombre anteriormente pasado como parámetro al método ```.identify()```, debería ser un atributo.\n",
    "\n",
    "En Python, los atributos, como las variables, se crean por asignación:\n",
    "\n",
    "- $Attributes \\:\\: are \\:\\: created \\:\\: by \\:\\: assignment \\:\\: (=) \\:\\: in \\:\\: methods$.\n",
    "\n",
    "Esto significa que un atributo se manifiesta en existencia solo cuando se le asigna un valor.\n",
    "\n",
    "## Añadiendo un atributo a las clases\n",
    "\n",
    "A continuación, hay un método ```.set_name()``` con argumentos $self$ (cada método debe tener un $self$ como primer argumento) y $new$_$name$.\n",
    "\n",
    "Para crear un atributo de la clase Customer llamado ```name```, todo lo que tenemos que hacer es asignar algo a ```self.name```.\n",
    "\n",
    "Deberemos recordar que ```self``` es un un sustituto del objeto ```object```, por lo que ```self.attribute``` debería recordarnos a la sintaxis de ```object.attribute```."
   ],
   "cell_type": "markdown",
   "metadata": {}
  },
  {
   "cell_type": "code",
   "execution_count": 29,
   "metadata": {},
   "outputs": [],
   "source": [
    "class Customer:\n",
    "    # Asignar el atributo de nombre a un objeto a new_name\n",
    "    def set_name(self, new_name):\n",
    "        # Crear un atributo asignando un valor\n",
    "        self.name = new_name # <-- esto creará un atributo .name cuando el método set_name es llamado"
   ]
  },
  {
   "source": [
    "Arriba, establecemos el atributo de nombre en el parámetro ```new_name``` de la función."
   ],
   "cell_type": "markdown",
   "metadata": {}
  },
  {
   "cell_type": "code",
   "execution_count": 32,
   "metadata": {},
   "outputs": [],
   "source": [
    "cust = Customer() # <-- el atributo .name todavía no existe"
   ]
  },
  {
   "source": [
    "Cuando creamos un Customer (cliente), todavía no tiene un atributo de nombre."
   ],
   "cell_type": "markdown",
   "metadata": {}
  },
  {
   "cell_type": "code",
   "execution_count": 34,
   "metadata": {},
   "outputs": [
    {
     "output_type": "stream",
     "name": "stdout",
     "text": [
      "Lara\n"
     ]
    }
   ],
   "source": [
    "cust.set_name('Lara') # <-- el atributo .name existe\n",
    "print(cust.name) # <-- accedemos al atributo"
   ]
  },
  {
   "source": [
    "Después de llamar al método ```.set_name()```, podemos acceder a él a través de ```.name```."
   ],
   "cell_type": "markdown",
   "metadata": {}
  },
  {
   "source": [
    "## Primera versión vs. nueva versión\n",
    "\n",
    "Equipado con el atributo de nombre, ¡ahora podemos mejorar nuestro método de identificación!\n",
    "\n",
    "<img src=\"8.png\"></img>\n",
    "\n",
    "En lugar de pasar el nombre como parámetro, usaremos los datos ya almacenados en el atributo de nombre de la clase de cliente.\n",
    "\n",
    "Eliminamos el parámetro de nombre del método de identificación, y lo reemplazamos con ```self.name``` en la impresión, que, a través de ```self```, extraerá el atributo del nombre del objeto que llamamos en el método."
   ],
   "cell_type": "markdown",
   "metadata": {}
  },
  {
   "cell_type": "code",
   "execution_count": 35,
   "metadata": {},
   "outputs": [],
   "source": [
    "class Customer:\n",
    "\n",
    "    def set_name(self, new_name):\n",
    "        self.name = new_name\n",
    "    \n",
    "    def identify(self):\n",
    "        print('El nombre del cliente es ' +self.name)"
   ]
  },
  {
   "source": [
    "## Probemos"
   ],
   "cell_type": "markdown",
   "metadata": {}
  },
  {
   "cell_type": "code",
   "execution_count": 37,
   "metadata": {},
   "outputs": [
    {
     "output_type": "execute_result",
     "data": {
      "text/plain": [
       "'Alejandro'"
      ]
     },
     "metadata": {},
     "execution_count": 37
    }
   ],
   "source": [
    "c01 = Customer() # Creamos el objeto\n",
    "c01.set_name('Alejandro') # Definimos el atributo\n",
    "c01.name # Devolvemos el valor del atributo"
   ]
  },
  {
   "source": [
    "De esta forma, ahora la función de identificación solo usará los datos que son encapsulados en el objeto, en lugar de usar lo que le pasemos.\n",
    "\n",
    "## Ejercicios\n",
    "\n",
    "¡Ahora comencemos a crear nuestras propias clases!"
   ],
   "cell_type": "markdown",
   "metadata": {}
  },
  {
   "source": [
    "### 3° EX: Entiendo las definiciones de clase\n",
    "\n",
    "Objects and classes consist of attributes (storing the state) and methods (storing the behavior).\n",
    "\n",
    "Before you get to writing your own classes, you need to understand the basic structure of the class, and how attributes in the class definition relate to attributes in the object. In this exercise, you have a class with one method and one attribute, as well as the object of that class.\n",
    "\n",
    "### Nota\n",
    "\n",
    "En el ejercicio debemos ordenar lo sgte.\n",
    "\n",
    "<img src=\"9.png\"></img>"
   ],
   "cell_type": "markdown",
   "metadata": {}
  },
  {
   "cell_type": "code",
   "execution_count": 50,
   "metadata": {},
   "outputs": [
    {
     "output_type": "stream",
     "name": "stdout",
     "text": [
      "6\n"
     ]
    }
   ],
   "source": [
    "# REORDENAMOS:\n",
    "\n",
    "# Definimos la clase\n",
    "\n",
    "class MyCounter:\n",
    "\n",
    "    def set_count(self, n):\n",
    "        self.count = n\n",
    "\n",
    "# Definimos el objeto\n",
    "\n",
    "mc = MyCounter()\n",
    "mc.set_count(5)\n",
    "mc.count = mc.count + 1\n",
    "print(mc.count)"
   ]
  },
  {
   "source": [
    "### Nota\n",
    "\n",
    "Well done! Notice how you used self.count to refer to the count attribute inside a class definition, and mc.count to refer to the count attribute of an object. Make sure you understand the difference, and when to use which form (review the video if necessary)!"
   ],
   "cell_type": "markdown",
   "metadata": {}
  },
  {
   "source": [
    "### 4° EX: Creando nuestra primera clase\n",
    "\n",
    "Time to write your first class! In this exercise, you'll start building the Employee class you briefly explored in the previous lesson. You'll start by creating methods that set attributes, and then add a few methods that manipulate them.\n",
    "\n",
    "As mentioned in the first video, an object-oriented approach is most useful when your code involves complex interactions of many objects. In real production code, classes can have dozens of attributes and methods with complicated logic, but the underlying structure is the same as with the most simple class.\n",
    "\n",
    "Your classes in this course will only have a few attributes and short methods, but the organizational principles behind the them will be directly translatable to more complicated code."
   ],
   "cell_type": "markdown",
   "metadata": {}
  },
  {
   "cell_type": "code",
   "execution_count": 48,
   "metadata": {},
   "outputs": [],
   "source": [
    "# Definimos la clase\n",
    "class Employee:\n",
    "    # Definimos el método para asignar atributo de nombre\n",
    "    def set_name(self, new_name):\n",
    "        self.name = new_name\n",
    "    # Definimos el método para asignar atributo de salario\n",
    "    def set_salary(self, new_salary):\n",
    "        self.salary = new_salary\n",
    "    # No es necesario: añadir un método para devolver atributos\n",
    "    def resume(self):\n",
    "        print(\"El empleado {} tiene un salario de ${}.\".format(self.name, self.salary))\n",
    "\n",
    "# Definimos el objeto emp\n",
    "emp = Employee()\n",
    "\n",
    "# Definimos sus atributos\n",
    "emp.set_name('Korel Rossi')\n",
    "emp.set_salary(50000)"
   ]
  },
  {
   "cell_type": "code",
   "execution_count": 49,
   "metadata": {},
   "outputs": [
    {
     "output_type": "stream",
     "name": "stdout",
     "text": [
      "El empleado Korel Rossi tiene un salario de $50000.\n"
     ]
    }
   ],
   "source": [
    "emp.resume()"
   ]
  },
  {
   "source": [
    "### Nota\n",
    "\n",
    "Fantastic! You created your first class with two methods and two attributes. Try running dir(emp) in the console and see if you can find where these attributes and methods pop up!"
   ],
   "cell_type": "markdown",
   "metadata": {}
  },
  {
   "cell_type": "code",
   "execution_count": 45,
   "metadata": {},
   "outputs": [
    {
     "output_type": "execute_result",
     "data": {
      "text/plain": [
       "['__class__',\n",
       " '__delattr__',\n",
       " '__dict__',\n",
       " '__dir__',\n",
       " '__doc__',\n",
       " '__eq__',\n",
       " '__format__',\n",
       " '__ge__',\n",
       " '__getattribute__',\n",
       " '__gt__',\n",
       " '__hash__',\n",
       " '__init__',\n",
       " '__init_subclass__',\n",
       " '__le__',\n",
       " '__lt__',\n",
       " '__module__',\n",
       " '__ne__',\n",
       " '__new__',\n",
       " '__reduce__',\n",
       " '__reduce_ex__',\n",
       " '__repr__',\n",
       " '__setattr__',\n",
       " '__sizeof__',\n",
       " '__str__',\n",
       " '__subclasshook__',\n",
       " '__weakref__',\n",
       " 'name',\n",
       " 'resume',\n",
       " 'salary',\n",
       " 'set_name',\n",
       " 'set_salary']"
      ]
     },
     "metadata": {},
     "execution_count": 45
    }
   ],
   "source": [
    "dir(emp)"
   ]
  },
  {
   "source": [
    "### 5° EX: Asignando atributos en la definición de clase\n",
    "\n",
    "In the previous exercise, you defined an Employee class with two attributes and two methods setting those attributes. This kind of method, aptly called a setter method, is far from the only possible kind. Methods are functions, so anything you can do with a function, you can also do with a method. For example, you can use methods to print, return values, make plots, and raise exceptions, as long as it makes sense as the behavior of the objects described by the class (an Employee probably wouldn't have a pivot_table() method).\n",
    "\n",
    "In this exercise, you'll go beyond the setter methods and learn how to use existing class attributes to define new methods. The Employee class and the emp object from the previous exercise are in your script pane."
   ],
   "cell_type": "markdown",
   "metadata": {}
  },
  {
   "cell_type": "code",
   "execution_count": 47,
   "metadata": {},
   "outputs": [
    {
     "output_type": "stream",
     "name": "stdout",
     "text": [
      "50000\n51500\n"
     ]
    }
   ],
   "source": [
    "#5.1 Reasignando desde afuera de la definición de clase\n",
    "\n",
    "class Employee:\n",
    "    def set_name(self, new_name):\n",
    "        self.name = new_name\n",
    "\n",
    "    def set_salary(self, new_salary):\n",
    "        self.salary = new_salary \n",
    "\n",
    "\n",
    "emp = Employee()\n",
    "emp.set_name('Korel Rossi')\n",
    "emp.set_salary(50000)\n",
    "\n",
    "# Print the salary attribute of emp\n",
    "print(emp.salary)\n",
    "\n",
    "# Increase salary of emp by 1500\n",
    "emp.salary = emp.salary + 1500\n",
    "\n",
    "# Print the salary attribute of emp again\n",
    "print(emp.salary)"
   ]
  },
  {
   "cell_type": "code",
   "execution_count": 52,
   "metadata": {},
   "outputs": [
    {
     "output_type": "stream",
     "name": "stdout",
     "text": [
      "4166.666666666667\n"
     ]
    }
   ],
   "source": [
    "#5.2 Añadiendo el método\n",
    "\n",
    "# Creamos la clase\n",
    "class Employee:\n",
    "    # Creamos el setter method para el nombre\n",
    "    def set_name(self, new_name):\n",
    "        self.name = new_name\n",
    "    # Creamos el setter method para el salario\n",
    "    def set_salary(self, new_salary):\n",
    "        self.salary = new_salary\n",
    "    # Creamos el setter method para el aumento de salario\n",
    "    def give_raise(self, amount):\n",
    "        self.salary = self.salary + amount\n",
    "    # Creamos el método para devolver el salario mensual\n",
    "    def monthly_salary(self):\n",
    "        return (self.salary/12)\n",
    "\n",
    "# Creamos el objeto emp\n",
    "emp = Employee()\n",
    "# Definimos atributos de nombre y salario con los métodos setter\n",
    "emp.set_name('Korel Rossi')\n",
    "emp.set_salary(50000)\n",
    "# Devolvemos el salario mensual y lo asignamos\n",
    "mon_sal = emp.monthly_salary()\n",
    "# Imprimimos el salario mensual\n",
    "print(mon_sal)"
   ]
  },
  {
   "source": [
    "### Nota\n",
    "\n",
    "You are doing great! You might be wondering: why did we write these methods when all the same operations could have been performed on object attributes directly? Our code was very simple, but methods that deal only with attribute values often have pre-processing and checks built in: for example, maybe the company has a maximal allowable raise amount. Then it would be prudent to add a clause to the give_raise() method that checks whether the raise amount is within limits.\n",
    "\n",
    "- La declaración ```return``` devuelve el valor."
   ],
   "cell_type": "markdown",
   "metadata": {}
  },
  {
   "cell_type": "code",
   "execution_count": null,
   "metadata": {},
   "outputs": [],
   "source": []
  }
 ]
}