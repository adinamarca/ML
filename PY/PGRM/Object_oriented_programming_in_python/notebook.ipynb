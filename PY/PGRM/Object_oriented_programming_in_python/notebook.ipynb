{
 "metadata": {
  "language_info": {
   "codemirror_mode": {
    "name": "ipython",
    "version": 3
   },
   "file_extension": ".py",
   "mimetype": "text/x-python",
   "name": "python",
   "nbconvert_exporter": "python",
   "pygments_lexer": "ipython3",
   "version": "3.8.3-final"
  },
  "orig_nbformat": 2,
  "kernelspec": {
   "name": "python3",
   "display_name": "Python 3.8.3 32-bit",
   "metadata": {
    "interpreter": {
     "hash": "cf7922f0840c5393fef0e56634befbde274dd0b581610b62f6a1754d511fb74c"
    }
   }
  }
 },
 "nbformat": 4,
 "nbformat_minor": 2,
 "cells": [
  {
   "source": [
    "# Programación Orientada a Objetos en Python\n",
    "\n",
    "<img src=\"1.png\"></img>\n",
    "\n",
    "## Nota a mi mismo\n",
    "\n",
    "- No soy experto en programación, de hecho, me consideraría un sobreviviente. Sin embargo, espero este sea el comienzo de algo más grande.\n",
    "\n",
    "No es primera vez que veo curso de OOP, de hecho, es la tercera:\n",
    "\n",
    "- La primera vez fue en LinkedIn Learning, con un enfoque bastante interesante.\n",
    "\n",
    "- La segunda fue este mismo curso.\n",
    "\n",
    "- La tercera, pues, volver a hacer el mismo curso para recapitular conceptos que creí innecesarios (bravo).\n",
    "\n",
    "Bueno, comencemos.\n",
    "\n",
    "## ¿Qué es la OOP? \n",
    "\n",
    "La instructora, Alex, nos enseñará a pensar orientado a objetos.\n",
    "\n",
    "## Programación procedimental\n",
    "\n",
    "Hasta ahora, probablemente hemos estado codificando en el llamado <b>estilo procedimental</b>:\n",
    "\n",
    "- El código era una secuencia de pasos a realizar.\n",
    "\n",
    "- Esto es común al hacer análisis de datos:\n",
    "\n",
    "    - Descargar los datos.\n",
    "\n",
    "    - Procesar los datos.\n",
    "\n",
    "    - Visualizar los datos.\n",
    "\n",
    "## Pensando en secuencias\n",
    "\n",
    "El pensamiento procedimental es natural:\n",
    "\n",
    "- Nos levantamos, desayunamos, y vamos a trabajar.\n",
    "\n",
    "Este punto de vista secuencial funciona muy bien si estamos tratando de planificar nuestro día. \n",
    "\n",
    "Sin embargo, si fuéramos un planificador de ciudades, tendríamos que pensar en miles de personas con sus propias rutinas.\n",
    "\n",
    "<img src=\"2.png\"></img>\n",
    "\n",
    "Tratar de trazar una secuencia de acciones para cada individuo, rápidamente, se volvería insostenible.\n",
    "\n",
    "En cambio, es probable que empecemos a pensar en patrones de comportamiento.\n",
    "\n",
    "¡Lo mismo ocurre con el código!\n",
    "\n",
    "Cuanto más datos utilicemos, más funcionalidades tendremos, y más difícil será pensar en esas funcionalidades como una secuencia de pasos.\n",
    "\n",
    "## Programación orientada a objetos\n",
    "\n",
    "En cambio, lo veremos como una colección de objetos y patrones de sus interacciones, como si fueran usuarios que interactúan con elementos de una interfaz:\n",
    "\n",
    "- Codificamos como interacciones de objetos.\n",
    "\n",
    "Este punto de vista, se vuelve invaluable al diseñar marcos, como aplicaciones de interfaces de programa, o interfaces gráficas de usuario. Incluso, para construir ¡herramientas como DATAFRAMES de Pandas!\n",
    "\n",
    "## Espera. ¿Qué es un marco?\n",
    "\n",
    "Se denominan, comúnmente:\n",
    "\n",
    "- Entorno de trabajo.\n",
    "\n",
    "- Marco de trabajo.\n",
    "\n",
    "- Framework.\n",
    "\n",
    "En este sentido, es un conjunto estandarizado de conceptos, prácticas y criterios para enfocar un tipo de problemática particular, que sirve como referencia, para enfrentar y resolver nuevos problemas de índole similar.\n",
    "\n",
    "En concreto, en el desarrollo de software, un entorno de trabajo es una estructura conceptual y tecnológica de asistencia definida, que cuenta con artefactos o módulos concretos de software. De forma que puede servir de base para la organización y desarrollo de software. Típicamente, puede incluir soporte de programas, bibliotecas, y un lenguaje interpretado, entre otras herramientas, para así ayudar a desarrollar y unir los diferentes componentes de un proyecto.\n",
    "\n",
    "~ Esto, de acuerdo a [Wikipedia](https://es.wikipedia.org/wiki/Framework)."
   ],
   "cell_type": "markdown",
   "metadata": {}
  },
  {
   "source": [
    "## Programación orientada a objetos: continuación\n",
    "\n",
    "Con lo expuesto, la OOP nos ayudará a organizar mejor el código, haciéndolo reutilizable y fácil de mantener. En resumen, la OOP:\n",
    "\n",
    "- Codifica como interacciones de objetos.\n",
    "\n",
    "- Genial para construir frameworks y herramientas.\n",
    "\n",
    "- Mantenible y reutilizable.\n",
    "\n",
    "## Objetos como estructuras de información\n",
    "\n",
    "Los conceptos fundamentales de OOP son objetos y clases:\n",
    "\n",
    "- Un objeto es una estructura de datos que incorpora información sobre el estado y el comportamiento.\n",
    "\n",
    "$ object \\: = \\: state \\: + \\: behavior $\n",
    "\n",
    "Por ejemplo, un objeto que representa un cliente puede tener un determinado número de teléfono y correo electrónico asociado, así como comportamientos como 'colocarOrden' o 'cancelarOrden':\n",
    "\n",
    "\n",
    "| <b>OBJETO CLIENTE</b> |\n",
    "| --- |\n",
    "| <b>ESTADO</b> |\n",
    "| --------- |\n",
    "| email = lara@company.com |\n",
    "| tel = 614-555-0177 |\n",
    "| --------- |\n",
    "| <b>COMPORTAMIENTO</b> |\n",
    "| --------- |\n",
    "| colocarOrden() |\n",
    "| cancelarOrden() |\n",
    "| --------- |\n",
    "\n",
    "Un objeto que representa un botón en un sitio web puede tener una etiqueta y puede activar un evento cuando se presiona.\n",
    "\n",
    "La característica distintiva de la programación orientada a objetos es que el estado y el comportamiento están agrupados: en lugar de pensar en los datos del cliente por separado de las acciones del cliente, pensamos en ellos como una unidad que representa un cliente.\n",
    "\n",
    "A esto se llama <b>encapsulación</b> y es uno de los principios básicos de la programación orientada a objetos.\n",
    "\n",
    "$ encapsulacion \\: - \\:\\:  empaquetando \\:\\: los \\:\\: datos \\:\\: con \\:\\: el \\:\\: codigo \\:\\: operando \\:\\: en \\:\\: el $\n",
    "\n",
    "## Clases como planos\n",
    "\n",
    "La verdadera fuerza de la OOP (POO en español) proviene de la utilización de clases:\n",
    "\n",
    "- Las clases son como planos de objetos.\n",
    "\n",
    "- Las clases describen los posibles estados y comportamientos que podría tener todo objeto de <b>cierto tipo</b>.\n",
    "\n",
    "Por ejemplo, si decimos \"todos los clientes tendrán un número de teléfono y un correo electrónico, y además, podrán realizar y cancelar pedidos\", ¡acabamos de definir una clase!\n",
    "\n",
    "De esta forma, podemos hablar sobre los clientes de forma unificada.\n",
    "\n",
    "<img src=\"3.png\"></img>\n",
    "\n",
    "Entonces, un objeto cliente específico es solo una realización de esta clase con valores de estado particulares.\n",
    "\n",
    "## Objetos en Python\n",
    "\n",
    "En Python, todo es un objeto, y todo objeto tiene una clase: números, cadenas, DataFrames, e incluso, funciones son objetos.\n",
    "\n",
    "| <b> OBJECT </b> | <b> CLASS </b> |\n",
    "| :-: | :-: |\n",
    "| 5 | int |\n",
    "| \"Hello\" | str |\n",
    "| pd.DataFrame() | DataFrame |\n",
    "| np.mean | function |\n",
    "| ... | ... |\n",
    "\n",
    "¿Comprobemos?"
   ],
   "cell_type": "markdown",
   "metadata": {}
  },
  {
   "cell_type": "code",
   "execution_count": 1,
   "metadata": {},
   "outputs": [
    {
     "output_type": "stream",
     "name": "stdout",
     "text": [
      "La clase de 5 es: <class 'int'> \n------------------------\nLa clase de 'Hola' es: <class 'str'>\n"
     ]
    }
   ],
   "source": [
    "print(\"La clase de 5 es: {} \\n------------------------\\nLa clase de 'Hola' es: {}\".format(type(5), type('Hello')))"
   ]
  },
  {
   "cell_type": "code",
   "execution_count": 2,
   "metadata": {},
   "outputs": [
    {
     "output_type": "execute_result",
     "data": {
      "text/plain": [
       "True"
      ]
     },
     "metadata": {},
     "execution_count": 2
    }
   ],
   "source": [
    "isinstance('Hola', str)"
   ]
  },
  {
   "cell_type": "code",
   "execution_count": 3,
   "metadata": {},
   "outputs": [
    {
     "output_type": "execute_result",
     "data": {
      "text/plain": [
       "True"
      ]
     },
     "metadata": {},
     "execution_count": 3
    }
   ],
   "source": [
    "isinstance(5, int)"
   ]
  },
  {
   "cell_type": "code",
   "execution_count": 4,
   "metadata": {},
   "outputs": [],
   "source": [
    "# Librería para álgebra\n",
    "import numpy as np\n",
    "\n",
    "# Librería para manipulación de datos\n",
    "import pandas as pd"
   ]
  },
  {
   "cell_type": "code",
   "execution_count": 5,
   "metadata": {},
   "outputs": [
    {
     "output_type": "stream",
     "name": "stdout",
     "text": [
      "La clase de pd.DataFrame() es: <class 'pandas.core.frame.DataFrame'> \n------------------------\nLa clase de np.mean es: <class 'function'>\n"
     ]
    }
   ],
   "source": [
    "print(\"La clase de pd.DataFrame() es: {} \\n------------------------\\nLa clase de np.mean es: {}\".format(type(pd.DataFrame()), type(np.mean)))"
   ]
  },
  {
   "source": [
    "En particular, todo lo que manejamos en Python tiene una clase, o un plano asociado bajo el capó.\n",
    "\n",
    "La existencia de estas interfaces unificadas es la razón por la que podemos utilizar, por ejemplo, cualquier DataFrame de la misma forma.\n",
    "\n",
    "Como vimos en celdas anteriores, podemos llamar a type() en cualquier objeto de Python para averiguar su clase.\n",
    "\n",
    "Por ejemplo, la clase de una matriz de numpy, en realidad, se llama ndarray (matriz n-dimensional). ¿Comprobemos?"
   ],
   "cell_type": "markdown",
   "metadata": {}
  },
  {
   "cell_type": "code",
   "execution_count": 6,
   "metadata": {},
   "outputs": [
    {
     "output_type": "execute_result",
     "data": {
      "text/plain": [
       "numpy.ndarray"
      ]
     },
     "metadata": {},
     "execution_count": 6
    }
   ],
   "source": [
    "type(np.array([1, 2, 3, 4]))"
   ]
  },
  {
   "source": [
    "## Atributos y métodos\n",
    "\n",
    "Las clases incorporan información sobre el estado y el comportamiento:\n",
    "\n",
    "- La información de estado en Python está contenida en <b>atributos</b>.\n",
    "\n",
    "- La información de comportamiento está contenida en <b>métodos</b>.\n",
    "\n",
    "Es decir:\n",
    "\n",
    "$ state \\: \\longleftrightarrow \\: attributes $\n",
    "\n",
    "$ behavior \\: \\longleftrightarrow \\: methods $\n",
    "\n",
    "Tomemos una matriz de Numpy: ¡ya hemos estado usando algunos métodos y atributos!\n",
    "\n",
    "Por ejemplo:\n",
    "\n",
    "- Cada matriz numpy tiene un atributo \"forma\" o shape.\n",
    "\n",
    "    - Podemos acceder al atributo especificando el nombre de la matriz, luego del punto y el atributo.\n",
    "\n",
    "- También tiene métodos como max y reshape, a los que también podemos acceder mediante el punto y los argumentos que, modificarán el comportamiento, los cuales están contenidos en () luego de la clase."
   ],
   "cell_type": "markdown",
   "metadata": {}
  },
  {
   "cell_type": "code",
   "execution_count": 7,
   "metadata": {},
   "outputs": [
    {
     "output_type": "execute_result",
     "data": {
      "text/plain": [
       "(4,)"
      ]
     },
     "metadata": {},
     "execution_count": 7
    }
   ],
   "source": [
    "# Atributos\n",
    "a = np.array([1, 2, 3, 4])\n",
    "a.shape"
   ]
  },
  {
   "cell_type": "code",
   "execution_count": 8,
   "metadata": {},
   "outputs": [
    {
     "output_type": "execute_result",
     "data": {
      "text/plain": [
       "dtype('int32')"
      ]
     },
     "metadata": {},
     "execution_count": 8
    }
   ],
   "source": [
    "# Atributos\n",
    "a.dtype"
   ]
  },
  {
   "cell_type": "code",
   "execution_count": 9,
   "metadata": {},
   "outputs": [
    {
     "output_type": "execute_result",
     "data": {
      "text/plain": [
       "array([[1, 2],\n",
       "       [3, 4]])"
      ]
     },
     "metadata": {},
     "execution_count": 9
    }
   ],
   "source": [
    "# Comportamiento\n",
    "b = a.reshape(2,2)\n",
    "b"
   ]
  },
  {
   "cell_type": "code",
   "execution_count": 10,
   "metadata": {},
   "outputs": [
    {
     "output_type": "execute_result",
     "data": {
      "text/plain": [
       "4"
      ]
     },
     "metadata": {},
     "execution_count": 10
    }
   ],
   "source": [
    "# Comportamiento\n",
    "c = a.max()\n",
    "c"
   ]
  },
  {
   "source": [
    "## Object = attributes + methods\n",
    "\n",
    "En el fondo, los atributos (o estados) en los objetos de Python, son representados por variables, como números, cadenas, o tuplas en el caso de matrices Numpy:\n",
    "\n",
    "- $ attribute \\longleftrightarrow variables \\longleftrightarrow obj.myAttribute $.\n",
    "\n",
    "Los métodos o comportamientos están representados por funciones:\n",
    "\n",
    "- $ method \\longleftrightarrow function() \\longleftrightarrow obj.myMethod() $.\n",
    "\n",
    "Ambos son accesibles desde un objeto usando la sintaxis de puntos.\n",
    "\n",
    "Podemos enumerar todos los atributos y métodos que tiene un objeto llamado a dir() en él.\n",
    "\n",
    "Por ejemplo, una matriz Numpy tiene métodos como trace y transpose."
   ],
   "cell_type": "markdown",
   "metadata": {}
  },
  {
   "cell_type": "code",
   "execution_count": 11,
   "metadata": {},
   "outputs": [
    {
     "output_type": "execute_result",
     "data": {
      "text/plain": [
       "158        trace\n",
       "159    transpose\n",
       "dtype: object"
      ]
     },
     "metadata": {},
     "execution_count": 11
    }
   ],
   "source": [
    "# Buscamos SOLO los métodos trace y transpose\n",
    "pd.Series(dir(a))[pd.Series(dir(a)).isin(['transpose', 'trace'])]"
   ]
  },
  {
   "source": [
    "¿De qué van los '__' o '_'?\n",
    "\n",
    "Double leading underscore: this introduces a concept called “mangling”. This helps python interpretation to distinguish between attribute names in case of inheritance (when two attributes have same name in super and sub class). this appends _Classname to __manglingVariable and becomes __Classname__manglingVariable.\n",
    "\n",
    "some people use it as “truly private” but we should avoid this. There is no “truly private” concept in Python.\n",
    "\n",
    "~ Desde [Quora](https://www.quora.com/What-is-the-difference-between-_-and-__-in-python)."
   ],
   "cell_type": "markdown",
   "metadata": {}
  },
  {
   "source": [
    "Detengámonos aquí por ahora. ¡No nos preocupemos si parece confuso! Es una forma diferente de pensar y llevará algún tiempo acostumbrarse.\n",
    "\n",
    "## ¡Ejercicios!\n",
    "\n",
    "Ahora, nos dirigimos a los ejercicios."
   ],
   "cell_type": "markdown",
   "metadata": {}
  },
  {
   "source": [
    "### 1° EX: Terminología de POO\n",
    "\n",
    "Clasificaremos los conceptos en verdadero y falso."
   ],
   "cell_type": "markdown",
   "metadata": {}
  },
  {
   "source": [
    "### T\n",
    "\n",
    "- <u>Object and class are different terms describing the same concept</u>. (X)\n",
    "\n",
    "- Encapsulation is a software design practice of bundling the data and the methods that operate on that data.\n",
    "\n",
    "- Methods encode behavior of an object and are represented by functions.\n",
    "\n",
    "- Attributes encode the state of an object and are represented by variables\n",
    "\n",
    "### F\n",
    "\n",
    "- Object and class are different terms describing the same concept: <b>concepts of object and class are related, but have a fundamental difference: an object is a particular representation of a class, while a class is just an abstract pattern</b>.\n",
    "\n",
    "- .columns is an example of a method of a DataFrame object.\n",
    "\n",
    "- A programming language can be either object-oriented or procedural, but not both.\n",
    "\n",
    "- Object is an abstract template describing the general states and behaviors.\n",
    "\n",
    "### Note\n",
    "\n",
    "Great job! Classes and objects both have attributes and methods, but the difference is that a class is an abstract template, while an object is a concrete representation of a class."
   ],
   "cell_type": "markdown",
   "metadata": {}
  },
  {
   "source": [
    "### 2° EX: Explorando la interfaz de los objetos\n",
    "\n",
    "The best way to learn how to write object-oriented code is to study the design of existing classes. You've already learned about exploration tools like type() and dir().\n",
    "\n",
    "Another important function is help(): calling help(x) in the console will show the documentation for the object or class x.\n",
    "\n",
    "Most real world classes have many methods and attributes, and it is easy to get lost, so in this exercise, you will start with something simpler. We have defined a class, and created an object of that class called mystery. Explore the object in the console using the tools that you learned."
   ],
   "cell_type": "markdown",
   "metadata": {}
  },
  {
   "source": [
    "Dado que no contamos con el objeto mystery, se adjuntan capturas.\n",
    "\n",
    "<img src=\"4.png\"></img>\n",
    "\n",
    "Utilizamos algunos atributos del objeto mystery.\n",
    "\n",
    "<img src=\"5.png\"></img>\n",
    "\n",
    "Utilizamos ? para obtener información del método 'give_raise()'.\n",
    "\n",
    "<img src=\"6.png\"></img>\n",
    "\n",
    "Finalizamos el ejercicio.\n",
    "\n",
    "<img src=\"7.png\"></img>\n",
    "\n",
    "### Note\n",
    "\n",
    "Great start! You can use help() to explore an unfamiliar object. Notice how descriptive names of attributes and methods, together with the methods' docstrings, helped you figure out class functionality even when you didn't know how it was implemented. Keep this in mind when writing your own classes!"
   ],
   "cell_type": "markdown",
   "metadata": {}
  },
  {
   "source": [
    "## Anatomía de clases: atributos y métodos\n",
    "\n",
    "Ahora que sabemos cómo trabajar con objetos y clases existentes, aprenderemos a crearlos.\n",
    "\n",
    "## Una clase básica\n",
    "\n",
    "Para crear una clase, todo lo que necesitamos es una declaración de clase, seguida del nombre de la clase y dos puntos.\n",
    "\n",
    "- $class \\: <name> \\: starts \\: a \\: class \\: definition$\n",
    "\n",
    "- El código dentro de la $clase$ está indentado.\n",
    "\n",
    "- Usamos $pass$ para crear una clase \"vacía\"."
   ],
   "cell_type": "markdown",
   "metadata": {}
  },
  {
   "cell_type": "code",
   "execution_count": 12,
   "metadata": {},
   "outputs": [],
   "source": [
    "class Customer:\n",
    "    pass"
   ]
  },
  {
   "source": [
    "Todo lo que esté en el bloque con sangría posterior, se considerará parte de la clase.\n",
    "\n",
    "Podemos crear una clase \"vacía\", como una plantilla en blanco, incluyendo la declaración de paso, pass, después de la declaración de clase.\n",
    "\n",
    "Aunque la clase está vacía, ya podemos crear objetos de la clase, especificando el nombre de la clase, seguido de paréntesis:\n",
    "\n",
    "- Se usa $className()$ para crear un objeto de la clase $className$."
   ],
   "cell_type": "markdown",
   "metadata": {}
  },
  {
   "cell_type": "code",
   "execution_count": 13,
   "metadata": {},
   "outputs": [],
   "source": [
    "c1 = Customer()\n",
    "c2 = Customer()"
   ]
  },
  {
   "source": [
    "Aquí, $c1$ y $c2$ son dos objetos diferentes de la clase vacía Customer."
   ],
   "cell_type": "markdown",
   "metadata": {}
  },
  {
   "cell_type": "code",
   "execution_count": 14,
   "metadata": {},
   "outputs": [
    {
     "output_type": "execute_result",
     "data": {
      "text/plain": [
       "__main__.Customer"
      ]
     },
     "metadata": {},
     "execution_count": 14
    }
   ],
   "source": [
    "type(c1)"
   ]
  },
  {
   "cell_type": "code",
   "execution_count": 15,
   "metadata": {},
   "outputs": [
    {
     "output_type": "execute_result",
     "data": {
      "text/plain": [
       "__main__.Customer"
      ]
     },
     "metadata": {},
     "execution_count": 15
    }
   ],
   "source": [
    "type(c2)"
   ]
  },
  {
   "source": [
    "Queremos crear objetos que realmente almacenen datos y operen con ellos; en otras palabras, que tengan atributos y métodos.\n",
    "\n",
    "## Añadir métodos a una clase\n",
    "\n",
    "Definir un método es simple.\n",
    "\n",
    "Los métodos son funciones, por lo que la definición se parece a una función de Python normal, con una excepción: el argumento especial self que cada método tendrá como primer argumento, posiblemente, seguido de otros argumentos:\n",
    "\n",
    "- $method \\: \\: definition = function \\:\\: definition \\:\\: within \\:\\: a \\:\\: class$.\n",
    "\n",
    "- Usar $self$ como el primer argumento de una definición de un método.\n",
    "\n",
    "Volveremos a $self$ en un minuto, primero, veamos cómo funciona."
   ],
   "cell_type": "markdown",
   "metadata": {}
  },
  {
   "cell_type": "code",
   "execution_count": 16,
   "metadata": {},
   "outputs": [],
   "source": [
    "class Customer:\n",
    "    \n",
    "    def identify(self, name):\n",
    "        print(\"I am the customer \" + name)"
   ]
  },
  {
   "source": [
    "En la celda de arriba:\n",
    "\n",
    "- Definimos un método para \"identificar\" la clase de cliente, que toma a sí mismo, self, coomo primer argumento, y luego, un nombre como parámetro. De esta forma, imprime \"I am a customer\" más el nombre.\n",
    "\n",
    "- Notar que no almacenamos información, y solo devolvemos el nombre del cliente: ¡por ello es un método y no un atributo!\n",
    "\n",
    "Creemos un nuevo objeto cliente, llamando al método e ignorando self:\n",
    "\n",
    "- Se debe ignorar $self$ cuando llamamos a un método en un objeto.\n",
    "\n",
    "A continuación, creamos este objeto cliente, llamando al método usando la sintaxis $object.method()$, pasando como argumento el nombre deseado."
   ],
   "cell_type": "markdown",
   "metadata": {}
  },
  {
   "cell_type": "code",
   "execution_count": 17,
   "metadata": {},
   "outputs": [
    {
     "output_type": "stream",
     "name": "stdout",
     "text": [
      "I am the customer Laura\n"
     ]
    }
   ],
   "source": [
    "cust = Customer()\n",
    "cust.identify('Laura')"
   ]
  },
  {
   "source": [
    "Tengamos en cuenta que el nombre fue el segundo parámetro en la definición del método, pero es el primer parámetro cuando se llama al método:\n",
    "\n",
    "- El misterioso $self$ no es necesario para llamar al método.\n",
    "\n",
    "Entonces, ¿qué es $self$?\n",
    "\n",
    "## ¿Qué es $self$?\n",
    "\n",
    "Las clases son plantillas.\n",
    "\n",
    "¡Los objetos de una clase aún no existen cuando se define una clase! Pero, a menudo, necesitamos una forma de hacer referencia a los datos de un objeto, en particular, dentro de la definición de la clase:\n",
    "\n",
    "- Las clases, al ser plantillas, ¿cómo nos referimos a los datos de un objeto particular? ¡Allí el por qué de $self$!\n",
    "\n",
    "- El primer argumento de cualquier método siempre debe ser $self$.\n",
    "\n",
    "- El propósito de $self$ es un sustituto del $yo$ futuro. Es decir, es un sustituto del objeto futuro: un lugar para almacenar el objeto futuro.\n",
    "\n",
    "- Python se encargará de $self$ cuando llamemos al método de un objeto.\n",
    "\n",
    "Es por eso que, todos los métodos, deben tener el argumento $self$, para que podamos usarlo para acceder a atributos y llamar a otros métodos desde dentro de la definición de clase, incluso cuando aún no se han creado objetos.\n",
    "\n",
    "## Nota\n",
    "\n",
    "En sí, y dentro de lo que entiendo, es una referencia. Al crear un objeto, y llamar a unos de sus métodos, $self$ corresponde a la variable asignada al objeto:\n",
    "\n",
    "- Si creamos un objeto $Cliente$, $self = Cliente$.\n",
    "\n",
    "- Si creamos un objeto $Vendedor$, $self = Vendedor$.\n",
    "\n",
    "Como dijimos, Python se encargará de $self$ cuando llamemos al método desde un objeto, utilizando la sintaxis de puntos:\n",
    "\n",
    "```\n",
    "cust.identify('Laura') será interpretado como Customer.identify(cust, 'Laura')\n",
    "\n",
    "```\n",
    "\n",
    "De hecho, usar ```object.method()``` es equivalente a pasar ese objeto como argumento.\n",
    "\n",
    "Es por eso que no lo especificamos explícitamente cuando llamamos al método desde un objeto existente, debido a que Python nos hace el trabajo por nosotros.\n",
    "\n",
    "## ¡Necesitamos atributos!\n",
    "\n",
    "Según los principios de OOP, los datos que describen el estado del objeto deben agruparse en el objeto. Esto es lo que se denomina encapsulación:\n",
    "\n",
    "- Encapsulación: $ empaquetando \\:\\: datos \\:\\: con \\:\\: los \\:\\: methods \\:\\: que \\:\\: operan \\:\\: en \\:\\: esos \\:\\: datos$.\n",
    "\n",
    "Por ejemplo, el nombre del cliente debe ser un atributo de un objeto de Customer, en lugar de un parámetro pasado a un método:\n",
    "\n",
    "- El nombre anteriormente pasado como parámetro al método ```.identify()```, debería ser un atributo.\n",
    "\n",
    "En Python, los atributos, como las variables, se crean por asignación:\n",
    "\n",
    "- $Attributes \\:\\: are \\:\\: created \\:\\: by \\:\\: assignment \\:\\: (=) \\:\\: in \\:\\: methods$.\n",
    "\n",
    "Esto significa que un atributo se manifiesta en existencia solo cuando se le asigna un valor.\n",
    "\n",
    "## Añadiendo un atributo a las clases\n",
    "\n",
    "A continuación, hay un método ```.set_name()``` con argumentos $self$ (cada método debe tener un $self$ como primer argumento) y $new$_$name$.\n",
    "\n",
    "Para crear un atributo de la clase Customer llamado ```name```, todo lo que tenemos que hacer es asignar algo a ```self.name```.\n",
    "\n",
    "Deberemos recordar que ```self``` es un un sustituto del objeto ```object```, por lo que ```self.attribute``` debería recordarnos a la sintaxis de ```object.attribute```."
   ],
   "cell_type": "markdown",
   "metadata": {}
  },
  {
   "cell_type": "code",
   "execution_count": 18,
   "metadata": {},
   "outputs": [],
   "source": [
    "class Customer:\n",
    "    # Asignar el atributo de nombre a un objeto a new_name\n",
    "    def set_name(self, new_name):\n",
    "        # Crear un atributo asignando un valor\n",
    "        self.name = new_name # <-- esto creará un atributo .name cuando el método set_name es llamado"
   ]
  },
  {
   "source": [
    "Arriba, establecemos el atributo de nombre en el parámetro ```new_name``` de la función."
   ],
   "cell_type": "markdown",
   "metadata": {}
  },
  {
   "cell_type": "code",
   "execution_count": 19,
   "metadata": {},
   "outputs": [],
   "source": [
    "cust = Customer() # <-- el atributo .name todavía no existe"
   ]
  },
  {
   "source": [
    "Cuando creamos un Customer (cliente), todavía no tiene un atributo de nombre."
   ],
   "cell_type": "markdown",
   "metadata": {}
  },
  {
   "cell_type": "code",
   "execution_count": 20,
   "metadata": {},
   "outputs": [
    {
     "output_type": "stream",
     "name": "stdout",
     "text": [
      "Lara\n"
     ]
    }
   ],
   "source": [
    "cust.set_name('Lara') # <-- el atributo .name existe\n",
    "print(cust.name) # <-- accedemos al atributo"
   ]
  },
  {
   "source": [
    "Después de llamar al método ```.set_name()```, podemos acceder a él a través de ```.name```."
   ],
   "cell_type": "markdown",
   "metadata": {}
  },
  {
   "source": [
    "## Primera versión vs. nueva versión\n",
    "\n",
    "Equipado con el atributo de nombre, ¡ahora podemos mejorar nuestro método de identificación!\n",
    "\n",
    "<img src=\"8.png\"></img>\n",
    "\n",
    "En lugar de pasar el nombre como parámetro, usaremos los datos ya almacenados en el atributo de nombre de la clase de cliente.\n",
    "\n",
    "Eliminamos el parámetro de nombre del método de identificación, y lo reemplazamos con ```self.name``` en la impresión, que, a través de ```self```, extraerá el atributo del nombre del objeto que llamamos en el método."
   ],
   "cell_type": "markdown",
   "metadata": {}
  },
  {
   "cell_type": "code",
   "execution_count": 21,
   "metadata": {},
   "outputs": [],
   "source": [
    "class Customer:\n",
    "\n",
    "    def set_name(self, new_name):\n",
    "        self.name = new_name\n",
    "    \n",
    "    def identify(self):\n",
    "        print('El nombre del cliente es ' +self.name)"
   ]
  },
  {
   "source": [
    "## Probemos"
   ],
   "cell_type": "markdown",
   "metadata": {}
  },
  {
   "cell_type": "code",
   "execution_count": 22,
   "metadata": {},
   "outputs": [
    {
     "output_type": "execute_result",
     "data": {
      "text/plain": [
       "'Alejandro'"
      ]
     },
     "metadata": {},
     "execution_count": 22
    }
   ],
   "source": [
    "c01 = Customer() # Creamos el objeto\n",
    "c01.set_name('Alejandro') # Definimos el atributo\n",
    "c01.name # Devolvemos el valor del atributo"
   ]
  },
  {
   "source": [
    "De esta forma, ahora la función de identificación solo usará los datos que son encapsulados en el objeto, en lugar de usar lo que le pasemos.\n",
    "\n",
    "## Ejercicios\n",
    "\n",
    "¡Ahora comencemos a crear nuestras propias clases!"
   ],
   "cell_type": "markdown",
   "metadata": {}
  },
  {
   "source": [
    "### 3° EX: Entiendo las definiciones de clase\n",
    "\n",
    "Objects and classes consist of attributes (storing the state) and methods (storing the behavior).\n",
    "\n",
    "Before you get to writing your own classes, you need to understand the basic structure of the class, and how attributes in the class definition relate to attributes in the object. In this exercise, you have a class with one method and one attribute, as well as the object of that class.\n",
    "\n",
    "### Nota\n",
    "\n",
    "En el ejercicio debemos ordenar lo sgte.\n",
    "\n",
    "<img src=\"9.png\"></img>"
   ],
   "cell_type": "markdown",
   "metadata": {}
  },
  {
   "cell_type": "code",
   "execution_count": 23,
   "metadata": {},
   "outputs": [
    {
     "output_type": "stream",
     "name": "stdout",
     "text": [
      "6\n"
     ]
    }
   ],
   "source": [
    "# REORDENAMOS:\n",
    "\n",
    "# Definimos la clase\n",
    "\n",
    "class MyCounter:\n",
    "\n",
    "    def set_count(self, n):\n",
    "        self.count = n\n",
    "\n",
    "# Definimos el objeto\n",
    "\n",
    "mc = MyCounter()\n",
    "mc.set_count(5)\n",
    "mc.count = mc.count + 1\n",
    "print(mc.count)"
   ]
  },
  {
   "source": [
    "### Nota\n",
    "\n",
    "Well done! Notice how you used self.count to refer to the count attribute inside a class definition, and mc.count to refer to the count attribute of an object. Make sure you understand the difference, and when to use which form (review the video if necessary)!"
   ],
   "cell_type": "markdown",
   "metadata": {}
  },
  {
   "source": [
    "### 4° EX: Creando nuestra primera clase\n",
    "\n",
    "Time to write your first class! In this exercise, you'll start building the Employee class you briefly explored in the previous lesson. You'll start by creating methods that set attributes, and then add a few methods that manipulate them.\n",
    "\n",
    "As mentioned in the first video, an object-oriented approach is most useful when your code involves complex interactions of many objects. In real production code, classes can have dozens of attributes and methods with complicated logic, but the underlying structure is the same as with the most simple class.\n",
    "\n",
    "Your classes in this course will only have a few attributes and short methods, but the organizational principles behind the them will be directly translatable to more complicated code."
   ],
   "cell_type": "markdown",
   "metadata": {}
  },
  {
   "cell_type": "code",
   "execution_count": 24,
   "metadata": {},
   "outputs": [],
   "source": [
    "# Definimos la clase\n",
    "class Employee:\n",
    "    # Definimos el método para asignar atributo de nombre\n",
    "    def set_name(self, new_name):\n",
    "        self.name = new_name\n",
    "    # Definimos el método para asignar atributo de salario\n",
    "    def set_salary(self, new_salary):\n",
    "        self.salary = new_salary\n",
    "    # No es necesario: añadir un método para devolver atributos\n",
    "    def resume(self):\n",
    "        print(\"El empleado {} tiene un salario de ${}.\".format(self.name, self.salary))\n",
    "\n",
    "# Definimos el objeto emp\n",
    "emp = Employee()\n",
    "\n",
    "# Definimos sus atributos\n",
    "emp.set_name('Korel Rossi')\n",
    "emp.set_salary(50000)"
   ]
  },
  {
   "cell_type": "code",
   "execution_count": 25,
   "metadata": {},
   "outputs": [
    {
     "output_type": "stream",
     "name": "stdout",
     "text": [
      "El empleado Korel Rossi tiene un salario de $50000.\n"
     ]
    }
   ],
   "source": [
    "emp.resume()"
   ]
  },
  {
   "source": [
    "### Nota\n",
    "\n",
    "Fantastic! You created your first class with two methods and two attributes. Try running dir(emp) in the console and see if you can find where these attributes and methods pop up!"
   ],
   "cell_type": "markdown",
   "metadata": {}
  },
  {
   "cell_type": "code",
   "execution_count": 26,
   "metadata": {},
   "outputs": [
    {
     "output_type": "execute_result",
     "data": {
      "text/plain": [
       "['__class__',\n",
       " '__delattr__',\n",
       " '__dict__',\n",
       " '__dir__',\n",
       " '__doc__',\n",
       " '__eq__',\n",
       " '__format__',\n",
       " '__ge__',\n",
       " '__getattribute__',\n",
       " '__gt__',\n",
       " '__hash__',\n",
       " '__init__',\n",
       " '__init_subclass__',\n",
       " '__le__',\n",
       " '__lt__',\n",
       " '__module__',\n",
       " '__ne__',\n",
       " '__new__',\n",
       " '__reduce__',\n",
       " '__reduce_ex__',\n",
       " '__repr__',\n",
       " '__setattr__',\n",
       " '__sizeof__',\n",
       " '__str__',\n",
       " '__subclasshook__',\n",
       " '__weakref__',\n",
       " 'name',\n",
       " 'resume',\n",
       " 'salary',\n",
       " 'set_name',\n",
       " 'set_salary']"
      ]
     },
     "metadata": {},
     "execution_count": 26
    }
   ],
   "source": [
    "dir(emp)"
   ]
  },
  {
   "source": [
    "### 5° EX: Asignando atributos en la definición de clase\n",
    "\n",
    "In the previous exercise, you defined an Employee class with two attributes and two methods setting those attributes. This kind of method, aptly called a setter method, is far from the only possible kind. Methods are functions, so anything you can do with a function, you can also do with a method. For example, you can use methods to print, return values, make plots, and raise exceptions, as long as it makes sense as the behavior of the objects described by the class (an Employee probably wouldn't have a pivot_table() method).\n",
    "\n",
    "In this exercise, you'll go beyond the setter methods and learn how to use existing class attributes to define new methods. The Employee class and the emp object from the previous exercise are in your script pane."
   ],
   "cell_type": "markdown",
   "metadata": {}
  },
  {
   "cell_type": "code",
   "execution_count": 27,
   "metadata": {},
   "outputs": [
    {
     "output_type": "stream",
     "name": "stdout",
     "text": [
      "50000\n51500\n"
     ]
    }
   ],
   "source": [
    "#5.1 Reasignando desde afuera de la definición de clase\n",
    "\n",
    "class Employee:\n",
    "    def set_name(self, new_name):\n",
    "        self.name = new_name\n",
    "\n",
    "    def set_salary(self, new_salary):\n",
    "        self.salary = new_salary \n",
    "\n",
    "\n",
    "emp = Employee()\n",
    "emp.set_name('Korel Rossi')\n",
    "emp.set_salary(50000)\n",
    "\n",
    "# Print the salary attribute of emp\n",
    "print(emp.salary)\n",
    "\n",
    "# Increase salary of emp by 1500\n",
    "emp.salary = emp.salary + 1500\n",
    "\n",
    "# Print the salary attribute of emp again\n",
    "print(emp.salary)"
   ]
  },
  {
   "cell_type": "code",
   "execution_count": 28,
   "metadata": {},
   "outputs": [
    {
     "output_type": "stream",
     "name": "stdout",
     "text": [
      "4166.666666666667\n"
     ]
    }
   ],
   "source": [
    "#5.2 Añadiendo el método\n",
    "\n",
    "# Creamos la clase\n",
    "class Employee:\n",
    "    # Creamos el setter method para el nombre\n",
    "    def set_name(self, new_name):\n",
    "        self.name = new_name\n",
    "    # Creamos el setter method para el salario\n",
    "    def set_salary(self, new_salary):\n",
    "        self.salary = new_salary\n",
    "    # Creamos el setter method para el aumento de salario\n",
    "    def give_raise(self, amount):\n",
    "        self.salary = self.salary + amount\n",
    "    # Creamos el método para devolver el salario mensual\n",
    "    def monthly_salary(self):\n",
    "        return (self.salary/12)\n",
    "\n",
    "# Creamos el objeto emp\n",
    "emp = Employee()\n",
    "# Definimos atributos de nombre y salario con los métodos setter\n",
    "emp.set_name('Korel Rossi')\n",
    "emp.set_salary(50000)\n",
    "# Devolvemos el salario mensual y lo asignamos\n",
    "mon_sal = emp.monthly_salary()\n",
    "# Imprimimos el salario mensual\n",
    "print(mon_sal)"
   ]
  },
  {
   "source": [
    "### Nota\n",
    "\n",
    "You are doing great! You might be wondering: why did we write these methods when all the same operations could have been performed on object attributes directly? Our code was very simple, but methods that deal only with attribute values often have pre-processing and checks built in: for example, maybe the company has a maximal allowable raise amount. Then it would be prudent to add a clause to the give_raise() method that checks whether the raise amount is within limits.\n",
    "\n",
    "- La declaración ```return``` devuelve el valor.\n",
    "\n",
    "### ```Setter``` and ```getter``` methods\n",
    "\n",
    "En este mommento, puede haber cierta confusión a lo referente a métodos ```setter```, que implican:\n",
    "\n",
    "- Métodos que asignan, de 'set' o colocar cierta propiedad (set es colocar en español):\n",
    "\n",
    "    - ```set_name()```.\n",
    "\n",
    "    - ```set_salary()```.\n",
    "\n",
    "Adicionalmente, tenemos los métodos ```getter```, cuya funcionalidad es devolver cierto valor, a fin \"informativo\" y no para cambiar una propiedad. En este sentido, los métodos ```getter```:\n",
    "\n",
    "- Devuelven cierto valor o atributo de la clase. Pero no modifican la definición de una clase ni sus atributos:\n",
    "\n",
    "    - ```monthly_salary()```.\n",
    "\n",
    "A continuación, se añade un resumen, extraído desde [python-course.eu](https://www.python-course.eu/python3_properties.php).\n",
    "\n",
    "<img src=\"10.png\"></img>"
   ],
   "cell_type": "markdown",
   "metadata": {}
  },
  {
   "source": [
    "## Anatomía de una clase: el constructor ```__init__```\n",
    "\n",
    "En la la lección anterior, aprendimos a definir métodos y atributos en clases.\n",
    "\n",
    "## Métodos y atributos\n",
    "\n",
    "Aprendimos que los métodos son funciones dentro de una clase, con un primer argumento especial ```self```, y que los atributos se crean por asignación, y se refieren al uso de la variable ```self``` dentro de los métodos."
   ],
   "cell_type": "markdown",
   "metadata": {}
  },
  {
   "source": [
    "class Myclass:\n",
    "    # function definition in class\n",
    "    # first argument is self\n",
    "    def my_method1(self, other_args):\n",
    "        # do things here\n",
    "        pass\n",
    "\n",
    "    def my_method2(self, my_attr):\n",
    "        # attribute created by assignment\n",
    "        self.my_attr = my_attr\n",
    "   "
   ],
   "cell_type": "code",
   "metadata": {},
   "execution_count": 29,
   "outputs": []
  },
  {
   "source": [
    "En este sentido, los métodos:\n",
    "\n",
    "- Son funciones definidas dentro de una clase.\n",
    "\n",
    "- En ellos, ```self``` debe ser el primer argumento.\n",
    "\n",
    "- Definen atributos por asignación.\n",
    "\n",
    "Además, los atributos:\n",
    "\n",
    "- Son referidos a ellos en la clase a través de ```self.atributo```.\n",
    "\n",
    "En los ejercicios, creamos una clase de empleado, ```Employee```:\n",
    "\n",
    "- Para cada atributo que deseábamos crear, definimos un nuevo método, llamando a esos métodos uno tras otro.\n",
    "\n",
    "Este procedimiento podría volverse insostenible rápidamente si nuestras clases contienen muchos datos.\n",
    "\n",
    "## ```Constructor```\n",
    "\n",
    "Una mejor estrategia sería agregar datos al objeto cuando lo creamos, tal como lo hacemos al crear una matriz Numpy o un DataFrame:\n",
    "\n",
    "- ¿Cómo añadimos datos al objeto cuando lo creamos?\n",
    "\n",
    "Python nos permite agregar un método especial, llamado ```constructor```, <b>que se llama automáticamente cada vez que creamos un objeto</b>:\n",
    "\n",
    "- ¡Siendo majaderos! El método constructor ```__init__()``` es llamado cada vez que un objeto es creado.\n",
    "\n",
    "El método debe llamarse correctamente con el nombre 'init', subrayado dos veces al inicio y al final, dado que es esencial para que Python lo reconozca.\n",
    "\n",
    "A continuación, definimos el método ```__init__()``` para la clase de cliente.\n",
    "\n",
    "El método toma los argumentos:\n",
    "\n",
    "- El argumento ```self``` como de costumbre para hacer referencia al ```yo``` futuro.\n",
    "\n",
    "- El nombre.\n",
    "\n",
    "En el cuerpo del método:\n",
    "\n",
    "- Creamos el atributo de nombre, y establecemos su valor en el parámetro de nombre e imprimimos un mensaje.\n",
    "\n",
    "\n",
    "\n"
   ],
   "cell_type": "markdown",
   "metadata": {}
  },
  {
   "cell_type": "code",
   "execution_count": 30,
   "metadata": {},
   "outputs": [],
   "source": [
    "class Customer:\n",
    "\n",
    "    def __init__(self, name):\n",
    "        self.name = name # <-- creamos el atributo .name y lo pasamos como parámetro\n",
    "        print('El método __init__ ha sido llamado. Se crea el cliente con atributos:\\n- Nombre: {}.'.format(self.name))"
   ]
  },
  {
   "source": [
    "Entonces, ahora, podemos pasar el nombre del cliente entre paréntesis al crear el objeto cliente (de la clase), de forma que el método ```__init__()``` se llamará automáticamente, y se creará el atributo de nombre."
   ],
   "cell_type": "markdown",
   "metadata": {}
  },
  {
   "cell_type": "code",
   "execution_count": 31,
   "metadata": {},
   "outputs": [
    {
     "output_type": "stream",
     "name": "stdout",
     "text": [
      "El método __init__ ha sido llamado. Se crea el cliente con atributos:\n- Nombre: Lara de Silva.\n"
     ]
    }
   ],
   "source": [
    "cust = Customer('Lara de Silva') # <-- __init__() fue implícitamente llamado"
   ]
  },
  {
   "source": [
    "Podemos agregar otro parámetro al método ```__init__()```, como por ejemplo, saldo de la cuenta, y este atributo también se inicializará durante la creación del objeto."
   ],
   "cell_type": "markdown",
   "metadata": {}
  },
  {
   "cell_type": "code",
   "execution_count": 32,
   "metadata": {},
   "outputs": [],
   "source": [
    "class Customer:\n",
    "    def __init__(self, name, balance):\n",
    "        self.name = name\n",
    "        self.balance = balance\n",
    "        print('El método __init__ ha sido llamado. Se crea el cliente {} con un saldo de ${}.'.format(self.name, self.balance))"
   ]
  },
  {
   "source": [
    "Ahora, podemos crear un cliente llamando a la clase con los parámetros entre paréntesis."
   ],
   "cell_type": "markdown",
   "metadata": {}
  },
  {
   "cell_type": "code",
   "execution_count": 33,
   "metadata": {},
   "outputs": [
    {
     "output_type": "stream",
     "name": "stdout",
     "text": [
      "El método __init__ ha sido llamado. Se crea el cliente Juan con un saldo de $20000000.\n"
     ]
    }
   ],
   "source": [
    "cust = Customer('Juan', 20000000)"
   ]
  },
  {
   "source": [
    "El constructor ```__init__()``` también es un buen lugar para establecer los valores predeterminados de los atributos. A continuación, estableceremos el saldo predeterminado en 0, por lo que podremos crear un cliente sin especificar el valor del saldo, pero el atributo se crea de todos modos y se inicializa con el valor predeterminado 0."
   ],
   "cell_type": "markdown",
   "metadata": {}
  },
  {
   "cell_type": "code",
   "execution_count": 34,
   "metadata": {},
   "outputs": [],
   "source": [
    "class Customer(): \n",
    "    def __init__(self, name, balance=0): # <-- balance predeterminado igual a 0\n",
    "        self.name = name\n",
    "        self.balance = balance\n",
    "        print('El método __init__ ha sido llamado. Se crea el cliente {} con un saldo de ${}.'.format(self.name, self.balance))"
   ]
  },
  {
   "cell_type": "code",
   "execution_count": 35,
   "metadata": {},
   "outputs": [
    {
     "output_type": "stream",
     "name": "stdout",
     "text": [
      "El método __init__ ha sido llamado. Se crea el cliente María con un saldo de $0.\n"
     ]
    }
   ],
   "source": [
    "cust = Customer('María')"
   ]
  },
  {
   "source": [
    "## Las formas de definir atributos\n",
    "\n",
    "Entonces, hay dos formas de definir atributos:\n",
    "\n",
    "1) Podemos definir un atributo en cualquier método de una clase, y luego, llamar al método que agregará el atributo al objeto.\n",
    "\n",
    "2) Podemos definir todos en los atributos en el ```constructor```.\n",
    "\n",
    "Sin embargo, una regla. <b>Debemos evitar definir atributos fuera del ```constructor```</b>.\n",
    "\n",
    "La definición de nuestra clase puede tener cientos de líneas de código, y la persona que lo lea tendría que acceder a todos los métodos para encontrar los atributos.\n",
    "\n",
    "A continuación, veamos las dos formas de definir atributos, enumeradas por el comentario en el código."
   ],
   "cell_type": "markdown",
   "metadata": {}
  },
  {
   "cell_type": "code",
   "execution_count": 36,
   "metadata": {},
   "outputs": [],
   "source": [
    "# (1) En métodos\n",
    "\n",
    "class MyClass:\n",
    "\n",
    "    def my_method1(self, attr1):\n",
    "        self.attr1 = attr1\n",
    "    \n",
    "    def my_method2(self, attr2):\n",
    "        self.attr2 = attr2\n",
    "\n",
    "obj = MyClass()\n",
    "obj.my_method1('val1') # <-- attr1 created\n",
    "obj.my_method2('val2') # <-- attr2 created"
   ]
  },
  {
   "cell_type": "code",
   "execution_count": 37,
   "metadata": {},
   "outputs": [],
   "source": [
    "# (2) En constructor\n",
    "\n",
    "class MyClass:\n",
    "\n",
    "    def __init__(self, attr1, attr2):\n",
    "        self.attr1 = attr1\n",
    "        self.attr2 = attr2\n",
    "\n",
    "obj = MyClass('val1', 'val2') # <-- all attributes are created"
   ]
  },
  {
   "source": [
    "Como vemos, creando los atributos en el ```constructor```:\n",
    "\n",
    "- El código es más inteligible de compartir con otra persona.\n",
    "\n",
    "- La definición de todos los atributos en el ```constructor``` garantiza que todos se creen cuando se crea el objeto (por lo que no tendremos que preocuparnos por intentar a acceder a un atributo que aún no existe).\n",
    "\n",
    "- Todo esto da como resultado un código más organizado, legible y fácil de mantener.\n"
   ],
   "cell_type": "markdown",
   "metadata": {}
  },
  {
   "source": [
    "## Mejores prácticas\n",
    "\n",
    "Ya que estamos en el tema de las mejores prácticas, vayamos rápidamente a algunas convenciones más que harán que nuestro código sea más fácil de leer:\n",
    "\n",
    "### Inicializando atributos\n",
    "\n",
    "- Inicializar clases en el ```constructor __init__()```.\n",
    "\n",
    "### Nombres\n",
    "\n",
    "- Para nombrar clases, debemos usar ```Camel Case``` (palabras sin delimitadores y cada una de ellas debe comenzar con letra mayúscula).\n",
    "\n",
    "- Para métodos (funciones) y atributos utilizar ```lower_snake_case``` (lo opuesto a lo anterior: palabras separadas por guiones bajos y con letras minúsculas).\n",
    "\n",
    "### Self\n",
    "\n",
    "- Mantener ```self``` como ```self```.\n",
    "\n",
    "### Docstrings\n",
    "\n",
    "- Las clases, al igual que las funciones, permiten cadenas de documentación que se muestran cuando se llama a help() en el objeto. Recordemos la primera lección del curso, y usemos cadenas de documentos para facilitar la vida de la persona que use nuestra clase."
   ],
   "cell_type": "markdown",
   "metadata": {}
  },
  {
   "source": [
    "## ¿Mantener ```self``` como ```self```?\n",
    "\n",
    "El nombre ```self``` es una convención del ```yo futuro```. Por lo que podríamos utilizar cualquier nombre para la primera variable de un método, y siempre se tratará como al referencia del objeto independientemente.\n",
    "\n",
    "Por ejemplo, si fuéramos un programador de Java, podríamos tener la tentación de usar ```this```."
   ],
   "cell_type": "markdown",
   "metadata": {}
  },
  {
   "cell_type": "code",
   "execution_count": 38,
   "metadata": {},
   "outputs": [],
   "source": [
    "class MyClass:\n",
    "    def __init__(this, attr1, attr2):\n",
    "        this.attr1 = attr1\n",
    "        this.attr2 = attr2\n",
    "\n",
    "obj = MyClass('val1', 'val2') # <-- all attributes are created"
   ]
  },
  {
   "source": [
    "¡Pero no lo hagas! Usa siempre ```self```."
   ],
   "cell_type": "markdown",
   "metadata": {}
  },
  {
   "cell_type": "code",
   "execution_count": 39,
   "metadata": {},
   "outputs": [],
   "source": [
    "# Probemos los docstrings\n",
    "\n",
    "class CountString:\n",
    "    \"\"\"\n",
    "    Esta clase cuenta las palabras en un str.\n",
    "    ______________\n",
    "    MÉTODOS\n",
    "    ______________\n",
    "\n",
    "    CountString(str): inicializa el objeto CountString y brinda la cantidad de carácteres en str. \n",
    "    ______________\n",
    "    ATRIBUTOS\n",
    "    ______________\n",
    "\n",
    "    str.count: cantidad de carácteres.\"\"\"\n",
    "\n",
    "    def __init__(self, word):\n",
    "        self.word = str(word)\n",
    "        def count_string(self):\n",
    "            numeros = sum(i.isdigit() for i in self.word)\n",
    "            letras = sum(i.isalpha() for i in self.word)\n",
    "            espacios = sum(i.isspace() for i in self.word)\n",
    "            otros = len(self.word) - numeros - letras - espacios\n",
    "            self.count = numeros + letras + espacios + otros\n",
    "        count_string(self)\n",
    "\n"
   ]
  },
  {
   "cell_type": "code",
   "execution_count": 40,
   "metadata": {},
   "outputs": [
    {
     "output_type": "execute_result",
     "data": {
      "text/plain": [
       "123123"
      ]
     },
     "metadata": {},
     "execution_count": 40
    }
   ],
   "source": [
    "# Para generar str random\n",
    "import random\n",
    "import string\n",
    "\n",
    "# Llamamos a la clase\n",
    "miPalabra = CountString(''.join(random.choice(string.ascii_uppercase + string.digits) for _ in range(123123)))\n",
    "\n",
    "# Accedemos al atributo count\n",
    "miPalabra.count"
   ]
  },
  {
   "cell_type": "code",
   "execution_count": 41,
   "metadata": {},
   "outputs": [
    {
     "output_type": "stream",
     "text": [
      "\u001b[1;31mType:\u001b[0m        CountString\n",
      "\u001b[1;31mString form:\u001b[0m <__main__.CountString object at 0x05DC96A0>\n",
      "\u001b[1;31mDocstring:\u001b[0m  \n",
      "Esta clase cuenta las palabras en un str.\n",
      "______________\n",
      "MÉTODOS\n",
      "______________\n",
      "\n",
      "CountString(str): inicializa el objeto CountString y brinda la cantidad de carácteres en str. \n",
      "______________\n",
      "ATRIBUTOS\n",
      "______________\n",
      "\n",
      "str.count: cantidad de carácteres.\n"
     ],
     "name": "stdout"
    }
   ],
   "source": [
    "miPalabra?"
   ]
  },
  {
   "source": [
    "## Ejercicios\n",
    "\n",
    "¡Practiquemos la creación de constructores!"
   ],
   "cell_type": "markdown",
   "metadata": {}
  },
  {
   "source": [
    "### 6° EX: Uso correcto de __init__()\n",
    "\n",
    "Python allows you to run custom code - for example, initializing attributes - any time an object is created: you just need to define a special method called __init__(). Use this exercise to check your understanding of __init__() mechanics!\n",
    "\n",
    "Which of the code blocks will NOT return an error when run?\n",
    "\n",
    "<img src=\"11.png\"></img>\n",
    "\n",
    "~ Imagen por [Datacamp](https://datacamp.com/)."
   ],
   "cell_type": "markdown",
   "metadata": {}
  },
  {
   "source": [
    "### Solución\n",
    "\n",
    "- La img. 1 devolverá un error, dado que tenemos definido únicamente un atributo en el constructor, y al crear el objeto le estamos pasando dos atributos.\n",
    "\n",
    "- La img. 2 es correcta, y no brindará ningún error, aunque la persona que está introduciendo el número esperará ese mismo valor, sin embargo, la clase definirá como 5, por lo cual sería importante un docstring.\n",
    "\n",
    "- La img. 3 brindará un error puesto no está definido el constructor y aún así se le está pasando parámetros de inicialización.\n",
    "\n",
    "- La img. 4 también brindará un error, dado que estamos pidiendo devolver el atributo c.count y no está definido en el constructor."
   ],
   "cell_type": "markdown",
   "metadata": {}
  },
  {
   "source": [
    "### 7° EX: Añadiendo un constructor de clase\n",
    "\n",
    "In this exercise, you'll continue working on the Employee class. Instead of using the methods like set_salary() that you wrote in the previous lesson, you will introduce a constructor that assigns name and salary to the employee at the moment when the object is created.\n",
    "\n",
    "You'll also create a new attribute -- hire_date -- which will not be initialized through parameters, but instead will contain the current date.\n",
    "\n",
    "Initializing attributes in the constructor is a good idea, because this ensures that the object has all the necessary attributes the moment it is created.\n",
    "\n"
   ],
   "cell_type": "markdown",
   "metadata": {}
  },
  {
   "cell_type": "code",
   "execution_count": 42,
   "metadata": {},
   "outputs": [
    {
     "output_type": "stream",
     "name": "stdout",
     "text": [
      "Invalid salary!\nKorel Rossi\n0\n"
     ]
    }
   ],
   "source": [
    "# Import datetime from datetime\n",
    "from datetime import datetime\n",
    "\n",
    "class Employee:\n",
    "    \n",
    "    def __init__(self, name, salary=0):\n",
    "        self.name = name\n",
    "        if salary > 0:\n",
    "          self.salary = salary\n",
    "        else:\n",
    "          self.salary = 0\n",
    "          print(\"Invalid salary!\")\n",
    "          \n",
    "        # Add the hire_date attribute and set it to today's date\n",
    "        self.hire_date = datetime.today()\n",
    "        \n",
    "   # ...Other methods omitted for brevity ...\n",
    "      \n",
    "emp = Employee(\"Korel Rossi\", -1000)\n",
    "print(emp.name)\n",
    "print(emp.salary)"
   ]
  },
  {
   "source": [
    "### Nota\n",
    "\n",
    "#### ```import``` e ```import from```\n",
    "\n",
    "Respecto a ```import``` e ```import from```, citamos desde ~ [<b>Stack Overflow</b>](https://stackoverflow.com/questions/9439480/from-import-vs-import):\n",
    "\n",
    "<img src=\"12.png\"></img>\n",
    "\n",
    "Es decir, la diferencia recae en que al utilizar ```import X``` importamos un módulo X, y crea una referencia al módulo en el espacio de trabajo actual, por lo que podemos acceder a sus métodos y atributos.\n",
    "\n",
    "Por otro lado, ```from X import Y``` importa el módulo X, y crea una referencia a los objetos públicos definidos en Y, pero X en sí no está definido, por lo que no podremos acceder a sus métodos y clases.\n",
    "\n",
    "### ¿Y un ```módulo```? \n",
    "\n",
    "~ De acuerdo a [COVANTEC](https://entrenamiento-python-basico.readthedocs.io/es/latest/leccion8/modulos.html#:~:text=Un%20m%C3%B3dulo%20es%20un%20objeto,tambi%C3%A9n%20puede%20incluir%20c%C3%B3digo%20ejecutable.).\n",
    "\n",
    "Simplemente, un módulo es no es otra cosa sino un archivo con extensión .py. Un módulo puede definir funciones, clases y variables, también puede incluir código ejecutable.\n",
    "\n",
    "### ¿Y un ```submódulo```?\n",
    "\n",
    "Pues, es un submódulo de un módulo, y al utilizar ```from``` importamos únicamente el submódulo pero no el módulo en sí, por lo que el módulo no estaría definido, ¡pero el submódulo del modulo sí! Es decir, estaríamos importando métodos y atributos específicos, pero no la totalidad del archivo ejecutable .py.\n",
    "\n",
    "Una forma de pensarlo es que estamos extrayendo solo una porción del código del ejecutable .py.\n",
    "\n",
    "### La ```única``` vez\n",
    "\n",
    "De acuerdo a ~ [docs.python.org](https://docs.python.org/es/3/tutorial/modules.html).\n",
    "\n",
    "<img src=\"13.png\"></img>\n",
    "\n",
    "En este sentido, la celda anterior puede ser escrita así."
   ],
   "cell_type": "markdown",
   "metadata": {}
  },
  {
   "cell_type": "code",
   "execution_count": 43,
   "metadata": {},
   "outputs": [
    {
     "output_type": "stream",
     "name": "stdout",
     "text": [
      "Invalid salary!\nKorel Rossi\n0\n"
     ]
    }
   ],
   "source": [
    "# Import datetime from datetime\n",
    "import datetime\n",
    "\n",
    "class Employee:\n",
    "    \n",
    "    def __init__(self, name, salary=0):\n",
    "        self.name = name\n",
    "        if salary > 0:\n",
    "          self.salary = salary\n",
    "        else:\n",
    "          self.salary = 0\n",
    "          print(\"Invalid salary!\")\n",
    "          \n",
    "        # Add the hire_date attribute and set it to today's date\n",
    "        self.hire_date = datetime.datetime.today() # Hacemos referencia al ejecutable .py 'datetime' (módulo) y en específico al submódulo o función datetime DENTRO del módulo datetime\n",
    "        \n",
    "   # ...Other methods omitted for brevity ...\n",
    "      \n",
    "emp_prueba = Employee(\"Korel Rossi\", -1000)\n",
    "print(emp_prueba.name)\n",
    "print(emp_prueba.salary)"
   ]
  },
  {
   "cell_type": "code",
   "execution_count": 44,
   "metadata": {},
   "outputs": [
    {
     "output_type": "stream",
     "name": "stdout",
     "text": [
      "2021-03-24 16:11:50.275665\n2021-03-24 16:11:50.307579\n"
     ]
    }
   ],
   "source": [
    "# Y si probamos:\n",
    "print(emp.hire_date)\n",
    "print(emp_prueba.hire_date)"
   ]
  },
  {
   "source": [
    "### Nota final (Datacamp)\n",
    "\n",
    "Notice how you had to add the import statement to use the today() function. You can use functions from other modules in your class definition, but you need to import the module first, and the import statement has to be outside class definition."
   ],
   "cell_type": "markdown",
   "metadata": {}
  },
  {
   "source": [
    "### 8° EX: Escribiendo una clase desde 0\n",
    "\n",
    "You are a Python developer writing a visualization package. For any element in a visualization, you want to be able to tell the position of the element, how far it is from other elements, and easily implement horizontal or vertical flip .\n",
    "\n",
    "The most basic element of any visualization is a single point. In this exercise, you'll write a class for a point on a plane from scratch."
   ],
   "cell_type": "markdown",
   "metadata": {}
  },
  {
   "cell_type": "code",
   "execution_count": 45,
   "metadata": {},
   "outputs": [],
   "source": [
    "import math\n",
    "\n",
    "class Point:\n",
    "\n",
    "    def __init__(self, x=0.0, y=0.0):\n",
    "        self.x = x\n",
    "        self.y = y\n",
    "    \n",
    "    def distance_to_origin(self):\n",
    "        return math.sqrt(self.x**2+self.y**2)\n",
    "    \n",
    "    def reflect(self, axis):\n",
    "        if axis=='x':\n",
    "            self.y = -self.y\n",
    "        elif axis=='y':\n",
    "            self.x = -self.x\n",
    "        else:\n",
    "            print('Error!')"
   ]
  },
  {
   "cell_type": "code",
   "execution_count": 46,
   "metadata": {},
   "outputs": [
    {
     "output_type": "stream",
     "name": "stdout",
     "text": [
      "(-3.0, 0.0)\n5.0\n"
     ]
    }
   ],
   "source": [
    "# Probando la clase\n",
    "\n",
    "pt = Point(x=3.0)\n",
    "pt.reflect(\"y\")\n",
    "print((pt.x, pt.y))\n",
    "pt.y = 4.0\n",
    "print(pt.distance_to_origin())"
   ]
  },
  {
   "cell_type": "code",
   "execution_count": 47,
   "metadata": {},
   "outputs": [],
   "source": [
    "# Complejizando más la clase\n",
    "\n",
    "import math\n",
    "import matplotlib.pyplot as plt\n",
    "\n",
    "class Point:\n",
    "    '''\n",
    "    Función para calcular distancia al origen, reflección y graficar un punto específico.\n",
    "    - x = punto del eje x (predeterminado = 0.0).\n",
    "    - y = punto del eje y (predeterminado = 0.0).\n",
    "    '''\n",
    "\n",
    "    def __init__(self, x=0.0, y=0.0):\n",
    "        self.x = x\n",
    "        self.y = y\n",
    "    \n",
    "    def distance_to_origin(self, graph=False):\n",
    "        '''\n",
    "        Devuelve la distancia al origen.\n",
    "        - graph = bool (si es T, devuelve la gráfica).\n",
    "        '''\n",
    "        if graph == True:\n",
    "            fig, ax = plt.subplots()\n",
    "            plt.plot([self.x, 0], [self.y, 0], color='gray', label='distancia')\n",
    "            plt.plot(self.x, self.y, marker='x', color='red', label='punto')\n",
    "            ax.legend()\n",
    "        else:\n",
    "            pass\n",
    "        return np.round(math.sqrt(self.x**2+self.y**2),2)\n",
    "        \n",
    "    \n",
    "    def reflect(self, axis, graph=False):\n",
    "        '''\n",
    "        Reflecta en base al eje 'axis'. \n",
    "        - axis = eje a reflectar.\n",
    "        - graph = bool (si es T, devuelve la gráfica).\n",
    "\n",
    "        '''\n",
    "        if axis=='x':\n",
    "            if graph == True:\n",
    "                fig, ax = plt.subplots()\n",
    "                plt.plot(self.x, self.y, marker='x', color='red', label='original')\n",
    "                plt.plot(self.x, -self.y, marker='x', color='gray', label='reflexión')\n",
    "                ax.legend()\n",
    "            else:\n",
    "                pass\n",
    "            self.y = -self.y\n",
    "        elif axis=='y':\n",
    "            if graph == True:\n",
    "                fig, ax = plt.subplots()\n",
    "                plt.plot(self.x, self.y, marker='x', color='red', label='original')\n",
    "                plt.plot(-self.x, self.y, marker='x', color='gray', label='reflexión')\n",
    "                ax.legend()\n",
    "            else: \n",
    "                pass\n",
    "            self.x = -self.x\n",
    "        else:\n",
    "            print('Error!')"
   ]
  },
  {
   "cell_type": "code",
   "execution_count": 48,
   "metadata": {},
   "outputs": [],
   "source": [
    "# Definimos el objeto\n",
    "punto = Point(x=3, y=5)"
   ]
  },
  {
   "cell_type": "code",
   "execution_count": 49,
   "metadata": {},
   "outputs": [
    {
     "output_type": "stream",
     "text": [
      "\u001b[1;31mType:\u001b[0m        Point\n",
      "\u001b[1;31mString form:\u001b[0m <__main__.Point object at 0x14FE8820>\n",
      "\u001b[1;31mDocstring:\u001b[0m  \n",
      "Función para calcular distancia al origen, reflección y graficar un punto específico.\n",
      "- x = punto del eje x (predeterminado = 0.0).\n",
      "- y = punto del eje y (predeterminado = 0.0).\n"
     ],
     "name": "stdout"
    }
   ],
   "source": [
    "# Probando los docstrings de la clase\n",
    "punto?"
   ]
  },
  {
   "cell_type": "code",
   "execution_count": 50,
   "metadata": {},
   "outputs": [
    {
     "output_type": "execute_result",
     "data": {
      "text/plain": [
       "5.83"
      ]
     },
     "metadata": {},
     "execution_count": 50
    },
    {
     "output_type": "display_data",
     "data": {
      "text/plain": "<Figure size 432x288 with 1 Axes>",
      "image/svg+xml": "<?xml version=\"1.0\" encoding=\"utf-8\" standalone=\"no\"?>\r\n<!DOCTYPE svg PUBLIC \"-//W3C//DTD SVG 1.1//EN\"\r\n  \"http://www.w3.org/Graphics/SVG/1.1/DTD/svg11.dtd\">\r\n<!-- Created with matplotlib (https://matplotlib.org/) -->\r\n<svg height=\"248.518125pt\" version=\"1.1\" viewBox=\"0 0 362.5625 248.518125\" width=\"362.5625pt\" xmlns=\"http://www.w3.org/2000/svg\" xmlns:xlink=\"http://www.w3.org/1999/xlink\">\r\n <defs>\r\n  <style type=\"text/css\">\r\n*{stroke-linecap:butt;stroke-linejoin:round;}\r\n  </style>\r\n </defs>\r\n <g id=\"figure_1\">\r\n  <g id=\"patch_1\">\r\n   <path d=\"M 0 248.518125 \r\nL 362.5625 248.518125 \r\nL 362.5625 0 \r\nL 0 0 \r\nz\r\n\" style=\"fill:none;\"/>\r\n  </g>\r\n  <g id=\"axes_1\">\r\n   <g id=\"patch_2\">\r\n    <path d=\"M 20.5625 224.64 \r\nL 355.3625 224.64 \r\nL 355.3625 7.2 \r\nL 20.5625 7.2 \r\nz\r\n\" style=\"fill:#ffffff;\"/>\r\n   </g>\r\n   <g id=\"matplotlib.axis_1\">\r\n    <g id=\"xtick_1\">\r\n     <g id=\"line2d_1\">\r\n      <defs>\r\n       <path d=\"M 0 0 \r\nL 0 3.5 \r\n\" id=\"mcd5f35ac3f\" style=\"stroke:#000000;stroke-width:0.8;\"/>\r\n      </defs>\r\n      <g>\r\n       <use style=\"stroke:#000000;stroke-width:0.8;\" x=\"35.780682\" xlink:href=\"#mcd5f35ac3f\" y=\"224.64\"/>\r\n      </g>\r\n     </g>\r\n     <g id=\"text_1\">\r\n      <!-- 0.0 -->\r\n      <defs>\r\n       <path d=\"M 31.78125 66.40625 \r\nQ 24.171875 66.40625 20.328125 58.90625 \r\nQ 16.5 51.421875 16.5 36.375 \r\nQ 16.5 21.390625 20.328125 13.890625 \r\nQ 24.171875 6.390625 31.78125 6.390625 \r\nQ 39.453125 6.390625 43.28125 13.890625 \r\nQ 47.125 21.390625 47.125 36.375 \r\nQ 47.125 51.421875 43.28125 58.90625 \r\nQ 39.453125 66.40625 31.78125 66.40625 \r\nz\r\nM 31.78125 74.21875 \r\nQ 44.046875 74.21875 50.515625 64.515625 \r\nQ 56.984375 54.828125 56.984375 36.375 \r\nQ 56.984375 17.96875 50.515625 8.265625 \r\nQ 44.046875 -1.421875 31.78125 -1.421875 \r\nQ 19.53125 -1.421875 13.0625 8.265625 \r\nQ 6.59375 17.96875 6.59375 36.375 \r\nQ 6.59375 54.828125 13.0625 64.515625 \r\nQ 19.53125 74.21875 31.78125 74.21875 \r\nz\r\n\" id=\"DejaVuSans-48\"/>\r\n       <path d=\"M 10.6875 12.40625 \r\nL 21 12.40625 \r\nL 21 0 \r\nL 10.6875 0 \r\nz\r\n\" id=\"DejaVuSans-46\"/>\r\n      </defs>\r\n      <g transform=\"translate(27.829119 239.238438)scale(0.1 -0.1)\">\r\n       <use xlink:href=\"#DejaVuSans-48\"/>\r\n       <use x=\"63.623047\" xlink:href=\"#DejaVuSans-46\"/>\r\n       <use x=\"95.410156\" xlink:href=\"#DejaVuSans-48\"/>\r\n      </g>\r\n     </g>\r\n    </g>\r\n    <g id=\"xtick_2\">\r\n     <g id=\"line2d_2\">\r\n      <g>\r\n       <use style=\"stroke:#000000;stroke-width:0.8;\" x=\"86.507955\" xlink:href=\"#mcd5f35ac3f\" y=\"224.64\"/>\r\n      </g>\r\n     </g>\r\n     <g id=\"text_2\">\r\n      <!-- 0.5 -->\r\n      <defs>\r\n       <path d=\"M 10.796875 72.90625 \r\nL 49.515625 72.90625 \r\nL 49.515625 64.59375 \r\nL 19.828125 64.59375 \r\nL 19.828125 46.734375 \r\nQ 21.96875 47.46875 24.109375 47.828125 \r\nQ 26.265625 48.1875 28.421875 48.1875 \r\nQ 40.625 48.1875 47.75 41.5 \r\nQ 54.890625 34.8125 54.890625 23.390625 \r\nQ 54.890625 11.625 47.5625 5.09375 \r\nQ 40.234375 -1.421875 26.90625 -1.421875 \r\nQ 22.3125 -1.421875 17.546875 -0.640625 \r\nQ 12.796875 0.140625 7.71875 1.703125 \r\nL 7.71875 11.625 \r\nQ 12.109375 9.234375 16.796875 8.0625 \r\nQ 21.484375 6.890625 26.703125 6.890625 \r\nQ 35.15625 6.890625 40.078125 11.328125 \r\nQ 45.015625 15.765625 45.015625 23.390625 \r\nQ 45.015625 31 40.078125 35.4375 \r\nQ 35.15625 39.890625 26.703125 39.890625 \r\nQ 22.75 39.890625 18.8125 39.015625 \r\nQ 14.890625 38.140625 10.796875 36.28125 \r\nz\r\n\" id=\"DejaVuSans-53\"/>\r\n      </defs>\r\n      <g transform=\"translate(78.556392 239.238438)scale(0.1 -0.1)\">\r\n       <use xlink:href=\"#DejaVuSans-48\"/>\r\n       <use x=\"63.623047\" xlink:href=\"#DejaVuSans-46\"/>\r\n       <use x=\"95.410156\" xlink:href=\"#DejaVuSans-53\"/>\r\n      </g>\r\n     </g>\r\n    </g>\r\n    <g id=\"xtick_3\">\r\n     <g id=\"line2d_3\">\r\n      <g>\r\n       <use style=\"stroke:#000000;stroke-width:0.8;\" x=\"137.235227\" xlink:href=\"#mcd5f35ac3f\" y=\"224.64\"/>\r\n      </g>\r\n     </g>\r\n     <g id=\"text_3\">\r\n      <!-- 1.0 -->\r\n      <defs>\r\n       <path d=\"M 12.40625 8.296875 \r\nL 28.515625 8.296875 \r\nL 28.515625 63.921875 \r\nL 10.984375 60.40625 \r\nL 10.984375 69.390625 \r\nL 28.421875 72.90625 \r\nL 38.28125 72.90625 \r\nL 38.28125 8.296875 \r\nL 54.390625 8.296875 \r\nL 54.390625 0 \r\nL 12.40625 0 \r\nz\r\n\" id=\"DejaVuSans-49\"/>\r\n      </defs>\r\n      <g transform=\"translate(129.283665 239.238438)scale(0.1 -0.1)\">\r\n       <use xlink:href=\"#DejaVuSans-49\"/>\r\n       <use x=\"63.623047\" xlink:href=\"#DejaVuSans-46\"/>\r\n       <use x=\"95.410156\" xlink:href=\"#DejaVuSans-48\"/>\r\n      </g>\r\n     </g>\r\n    </g>\r\n    <g id=\"xtick_4\">\r\n     <g id=\"line2d_4\">\r\n      <g>\r\n       <use style=\"stroke:#000000;stroke-width:0.8;\" x=\"187.9625\" xlink:href=\"#mcd5f35ac3f\" y=\"224.64\"/>\r\n      </g>\r\n     </g>\r\n     <g id=\"text_4\">\r\n      <!-- 1.5 -->\r\n      <g transform=\"translate(180.010938 239.238438)scale(0.1 -0.1)\">\r\n       <use xlink:href=\"#DejaVuSans-49\"/>\r\n       <use x=\"63.623047\" xlink:href=\"#DejaVuSans-46\"/>\r\n       <use x=\"95.410156\" xlink:href=\"#DejaVuSans-53\"/>\r\n      </g>\r\n     </g>\r\n    </g>\r\n    <g id=\"xtick_5\">\r\n     <g id=\"line2d_5\">\r\n      <g>\r\n       <use style=\"stroke:#000000;stroke-width:0.8;\" x=\"238.689773\" xlink:href=\"#mcd5f35ac3f\" y=\"224.64\"/>\r\n      </g>\r\n     </g>\r\n     <g id=\"text_5\">\r\n      <!-- 2.0 -->\r\n      <defs>\r\n       <path d=\"M 19.1875 8.296875 \r\nL 53.609375 8.296875 \r\nL 53.609375 0 \r\nL 7.328125 0 \r\nL 7.328125 8.296875 \r\nQ 12.9375 14.109375 22.625 23.890625 \r\nQ 32.328125 33.6875 34.8125 36.53125 \r\nQ 39.546875 41.84375 41.421875 45.53125 \r\nQ 43.3125 49.21875 43.3125 52.78125 \r\nQ 43.3125 58.59375 39.234375 62.25 \r\nQ 35.15625 65.921875 28.609375 65.921875 \r\nQ 23.96875 65.921875 18.8125 64.3125 \r\nQ 13.671875 62.703125 7.8125 59.421875 \r\nL 7.8125 69.390625 \r\nQ 13.765625 71.78125 18.9375 73 \r\nQ 24.125 74.21875 28.421875 74.21875 \r\nQ 39.75 74.21875 46.484375 68.546875 \r\nQ 53.21875 62.890625 53.21875 53.421875 \r\nQ 53.21875 48.921875 51.53125 44.890625 \r\nQ 49.859375 40.875 45.40625 35.40625 \r\nQ 44.1875 33.984375 37.640625 27.21875 \r\nQ 31.109375 20.453125 19.1875 8.296875 \r\nz\r\n\" id=\"DejaVuSans-50\"/>\r\n      </defs>\r\n      <g transform=\"translate(230.73821 239.238438)scale(0.1 -0.1)\">\r\n       <use xlink:href=\"#DejaVuSans-50\"/>\r\n       <use x=\"63.623047\" xlink:href=\"#DejaVuSans-46\"/>\r\n       <use x=\"95.410156\" xlink:href=\"#DejaVuSans-48\"/>\r\n      </g>\r\n     </g>\r\n    </g>\r\n    <g id=\"xtick_6\">\r\n     <g id=\"line2d_6\">\r\n      <g>\r\n       <use style=\"stroke:#000000;stroke-width:0.8;\" x=\"289.417045\" xlink:href=\"#mcd5f35ac3f\" y=\"224.64\"/>\r\n      </g>\r\n     </g>\r\n     <g id=\"text_6\">\r\n      <!-- 2.5 -->\r\n      <g transform=\"translate(281.465483 239.238438)scale(0.1 -0.1)\">\r\n       <use xlink:href=\"#DejaVuSans-50\"/>\r\n       <use x=\"63.623047\" xlink:href=\"#DejaVuSans-46\"/>\r\n       <use x=\"95.410156\" xlink:href=\"#DejaVuSans-53\"/>\r\n      </g>\r\n     </g>\r\n    </g>\r\n    <g id=\"xtick_7\">\r\n     <g id=\"line2d_7\">\r\n      <g>\r\n       <use style=\"stroke:#000000;stroke-width:0.8;\" x=\"340.144318\" xlink:href=\"#mcd5f35ac3f\" y=\"224.64\"/>\r\n      </g>\r\n     </g>\r\n     <g id=\"text_7\">\r\n      <!-- 3.0 -->\r\n      <defs>\r\n       <path d=\"M 40.578125 39.3125 \r\nQ 47.65625 37.796875 51.625 33 \r\nQ 55.609375 28.21875 55.609375 21.1875 \r\nQ 55.609375 10.40625 48.1875 4.484375 \r\nQ 40.765625 -1.421875 27.09375 -1.421875 \r\nQ 22.515625 -1.421875 17.65625 -0.515625 \r\nQ 12.796875 0.390625 7.625 2.203125 \r\nL 7.625 11.71875 \r\nQ 11.71875 9.328125 16.59375 8.109375 \r\nQ 21.484375 6.890625 26.8125 6.890625 \r\nQ 36.078125 6.890625 40.9375 10.546875 \r\nQ 45.796875 14.203125 45.796875 21.1875 \r\nQ 45.796875 27.640625 41.28125 31.265625 \r\nQ 36.765625 34.90625 28.71875 34.90625 \r\nL 20.21875 34.90625 \r\nL 20.21875 43.015625 \r\nL 29.109375 43.015625 \r\nQ 36.375 43.015625 40.234375 45.921875 \r\nQ 44.09375 48.828125 44.09375 54.296875 \r\nQ 44.09375 59.90625 40.109375 62.90625 \r\nQ 36.140625 65.921875 28.71875 65.921875 \r\nQ 24.65625 65.921875 20.015625 65.03125 \r\nQ 15.375 64.15625 9.8125 62.3125 \r\nL 9.8125 71.09375 \r\nQ 15.4375 72.65625 20.34375 73.4375 \r\nQ 25.25 74.21875 29.59375 74.21875 \r\nQ 40.828125 74.21875 47.359375 69.109375 \r\nQ 53.90625 64.015625 53.90625 55.328125 \r\nQ 53.90625 49.265625 50.4375 45.09375 \r\nQ 46.96875 40.921875 40.578125 39.3125 \r\nz\r\n\" id=\"DejaVuSans-51\"/>\r\n      </defs>\r\n      <g transform=\"translate(332.192756 239.238438)scale(0.1 -0.1)\">\r\n       <use xlink:href=\"#DejaVuSans-51\"/>\r\n       <use x=\"63.623047\" xlink:href=\"#DejaVuSans-46\"/>\r\n       <use x=\"95.410156\" xlink:href=\"#DejaVuSans-48\"/>\r\n      </g>\r\n     </g>\r\n    </g>\r\n   </g>\r\n   <g id=\"matplotlib.axis_2\">\r\n    <g id=\"ytick_1\">\r\n     <g id=\"line2d_8\">\r\n      <defs>\r\n       <path d=\"M 0 0 \r\nL -3.5 0 \r\n\" id=\"ma3f917e73b\" style=\"stroke:#000000;stroke-width:0.8;\"/>\r\n      </defs>\r\n      <g>\r\n       <use style=\"stroke:#000000;stroke-width:0.8;\" x=\"20.5625\" xlink:href=\"#ma3f917e73b\" y=\"214.756364\"/>\r\n      </g>\r\n     </g>\r\n     <g id=\"text_8\">\r\n      <!-- 0 -->\r\n      <g transform=\"translate(7.2 218.555582)scale(0.1 -0.1)\">\r\n       <use xlink:href=\"#DejaVuSans-48\"/>\r\n      </g>\r\n     </g>\r\n    </g>\r\n    <g id=\"ytick_2\">\r\n     <g id=\"line2d_9\">\r\n      <g>\r\n       <use style=\"stroke:#000000;stroke-width:0.8;\" x=\"20.5625\" xlink:href=\"#ma3f917e73b\" y=\"175.221818\"/>\r\n      </g>\r\n     </g>\r\n     <g id=\"text_9\">\r\n      <!-- 1 -->\r\n      <g transform=\"translate(7.2 179.021037)scale(0.1 -0.1)\">\r\n       <use xlink:href=\"#DejaVuSans-49\"/>\r\n      </g>\r\n     </g>\r\n    </g>\r\n    <g id=\"ytick_3\">\r\n     <g id=\"line2d_10\">\r\n      <g>\r\n       <use style=\"stroke:#000000;stroke-width:0.8;\" x=\"20.5625\" xlink:href=\"#ma3f917e73b\" y=\"135.687273\"/>\r\n      </g>\r\n     </g>\r\n     <g id=\"text_10\">\r\n      <!-- 2 -->\r\n      <g transform=\"translate(7.2 139.486491)scale(0.1 -0.1)\">\r\n       <use xlink:href=\"#DejaVuSans-50\"/>\r\n      </g>\r\n     </g>\r\n    </g>\r\n    <g id=\"ytick_4\">\r\n     <g id=\"line2d_11\">\r\n      <g>\r\n       <use style=\"stroke:#000000;stroke-width:0.8;\" x=\"20.5625\" xlink:href=\"#ma3f917e73b\" y=\"96.152727\"/>\r\n      </g>\r\n     </g>\r\n     <g id=\"text_11\">\r\n      <!-- 3 -->\r\n      <g transform=\"translate(7.2 99.951946)scale(0.1 -0.1)\">\r\n       <use xlink:href=\"#DejaVuSans-51\"/>\r\n      </g>\r\n     </g>\r\n    </g>\r\n    <g id=\"ytick_5\">\r\n     <g id=\"line2d_12\">\r\n      <g>\r\n       <use style=\"stroke:#000000;stroke-width:0.8;\" x=\"20.5625\" xlink:href=\"#ma3f917e73b\" y=\"56.618182\"/>\r\n      </g>\r\n     </g>\r\n     <g id=\"text_12\">\r\n      <!-- 4 -->\r\n      <defs>\r\n       <path d=\"M 37.796875 64.3125 \r\nL 12.890625 25.390625 \r\nL 37.796875 25.390625 \r\nz\r\nM 35.203125 72.90625 \r\nL 47.609375 72.90625 \r\nL 47.609375 25.390625 \r\nL 58.015625 25.390625 \r\nL 58.015625 17.1875 \r\nL 47.609375 17.1875 \r\nL 47.609375 0 \r\nL 37.796875 0 \r\nL 37.796875 17.1875 \r\nL 4.890625 17.1875 \r\nL 4.890625 26.703125 \r\nz\r\n\" id=\"DejaVuSans-52\"/>\r\n      </defs>\r\n      <g transform=\"translate(7.2 60.417401)scale(0.1 -0.1)\">\r\n       <use xlink:href=\"#DejaVuSans-52\"/>\r\n      </g>\r\n     </g>\r\n    </g>\r\n    <g id=\"ytick_6\">\r\n     <g id=\"line2d_13\">\r\n      <g>\r\n       <use style=\"stroke:#000000;stroke-width:0.8;\" x=\"20.5625\" xlink:href=\"#ma3f917e73b\" y=\"17.083636\"/>\r\n      </g>\r\n     </g>\r\n     <g id=\"text_13\">\r\n      <!-- 5 -->\r\n      <g transform=\"translate(7.2 20.882855)scale(0.1 -0.1)\">\r\n       <use xlink:href=\"#DejaVuSans-53\"/>\r\n      </g>\r\n     </g>\r\n    </g>\r\n   </g>\r\n   <g id=\"line2d_14\">\r\n    <path clip-path=\"url(#pb135f7baa9)\" d=\"M 340.144318 17.083636 \r\nL 35.780682 214.756364 \r\n\" style=\"fill:none;stroke:#808080;stroke-linecap:square;stroke-width:1.5;\"/>\r\n   </g>\r\n   <g id=\"line2d_15\">\r\n    <path clip-path=\"url(#pb135f7baa9)\" d=\"M 340.144318 17.083636 \r\n\" style=\"fill:none;stroke:#ff0000;stroke-linecap:square;stroke-width:1.5;\"/>\r\n    <defs>\r\n     <path d=\"M -3 3 \r\nL 3 -3 \r\nM -3 -3 \r\nL 3 3 \r\n\" id=\"mcfafd52868\" style=\"stroke:#ff0000;\"/>\r\n    </defs>\r\n    <g clip-path=\"url(#pb135f7baa9)\">\r\n     <use style=\"fill:#ff0000;stroke:#ff0000;\" x=\"340.144318\" xlink:href=\"#mcfafd52868\" y=\"17.083636\"/>\r\n    </g>\r\n   </g>\r\n   <g id=\"patch_3\">\r\n    <path d=\"M 20.5625 224.64 \r\nL 20.5625 7.2 \r\n\" style=\"fill:none;stroke:#000000;stroke-linecap:square;stroke-linejoin:miter;stroke-width:0.8;\"/>\r\n   </g>\r\n   <g id=\"patch_4\">\r\n    <path d=\"M 355.3625 224.64 \r\nL 355.3625 7.2 \r\n\" style=\"fill:none;stroke:#000000;stroke-linecap:square;stroke-linejoin:miter;stroke-width:0.8;\"/>\r\n   </g>\r\n   <g id=\"patch_5\">\r\n    <path d=\"M 20.5625 224.64 \r\nL 355.3625 224.64 \r\n\" style=\"fill:none;stroke:#000000;stroke-linecap:square;stroke-linejoin:miter;stroke-width:0.8;\"/>\r\n   </g>\r\n   <g id=\"patch_6\">\r\n    <path d=\"M 20.5625 7.2 \r\nL 355.3625 7.2 \r\n\" style=\"fill:none;stroke:#000000;stroke-linecap:square;stroke-linejoin:miter;stroke-width:0.8;\"/>\r\n   </g>\r\n   <g id=\"legend_1\">\r\n    <g id=\"patch_7\">\r\n     <path d=\"M 27.5625 44.55625 \r\nL 104.689063 44.55625 \r\nQ 106.689063 44.55625 106.689063 42.55625 \r\nL 106.689063 14.2 \r\nQ 106.689063 12.2 104.689063 12.2 \r\nL 27.5625 12.2 \r\nQ 25.5625 12.2 25.5625 14.2 \r\nL 25.5625 42.55625 \r\nQ 25.5625 44.55625 27.5625 44.55625 \r\nz\r\n\" style=\"fill:#ffffff;opacity:0.8;stroke:#cccccc;stroke-linejoin:miter;\"/>\r\n    </g>\r\n    <g id=\"line2d_16\">\r\n     <path d=\"M 29.5625 20.298437 \r\nL 49.5625 20.298437 \r\n\" style=\"fill:none;stroke:#808080;stroke-linecap:square;stroke-width:1.5;\"/>\r\n    </g>\r\n    <g id=\"line2d_17\"/>\r\n    <g id=\"text_14\">\r\n     <!-- distancia -->\r\n     <defs>\r\n      <path d=\"M 45.40625 46.390625 \r\nL 45.40625 75.984375 \r\nL 54.390625 75.984375 \r\nL 54.390625 0 \r\nL 45.40625 0 \r\nL 45.40625 8.203125 \r\nQ 42.578125 3.328125 38.25 0.953125 \r\nQ 33.9375 -1.421875 27.875 -1.421875 \r\nQ 17.96875 -1.421875 11.734375 6.484375 \r\nQ 5.515625 14.40625 5.515625 27.296875 \r\nQ 5.515625 40.1875 11.734375 48.09375 \r\nQ 17.96875 56 27.875 56 \r\nQ 33.9375 56 38.25 53.625 \r\nQ 42.578125 51.265625 45.40625 46.390625 \r\nz\r\nM 14.796875 27.296875 \r\nQ 14.796875 17.390625 18.875 11.75 \r\nQ 22.953125 6.109375 30.078125 6.109375 \r\nQ 37.203125 6.109375 41.296875 11.75 \r\nQ 45.40625 17.390625 45.40625 27.296875 \r\nQ 45.40625 37.203125 41.296875 42.84375 \r\nQ 37.203125 48.484375 30.078125 48.484375 \r\nQ 22.953125 48.484375 18.875 42.84375 \r\nQ 14.796875 37.203125 14.796875 27.296875 \r\nz\r\n\" id=\"DejaVuSans-100\"/>\r\n      <path d=\"M 9.421875 54.6875 \r\nL 18.40625 54.6875 \r\nL 18.40625 0 \r\nL 9.421875 0 \r\nz\r\nM 9.421875 75.984375 \r\nL 18.40625 75.984375 \r\nL 18.40625 64.59375 \r\nL 9.421875 64.59375 \r\nz\r\n\" id=\"DejaVuSans-105\"/>\r\n      <path d=\"M 44.28125 53.078125 \r\nL 44.28125 44.578125 \r\nQ 40.484375 46.53125 36.375 47.5 \r\nQ 32.28125 48.484375 27.875 48.484375 \r\nQ 21.1875 48.484375 17.84375 46.4375 \r\nQ 14.5 44.390625 14.5 40.28125 \r\nQ 14.5 37.15625 16.890625 35.375 \r\nQ 19.28125 33.59375 26.515625 31.984375 \r\nL 29.59375 31.296875 \r\nQ 39.15625 29.25 43.1875 25.515625 \r\nQ 47.21875 21.78125 47.21875 15.09375 \r\nQ 47.21875 7.46875 41.1875 3.015625 \r\nQ 35.15625 -1.421875 24.609375 -1.421875 \r\nQ 20.21875 -1.421875 15.453125 -0.5625 \r\nQ 10.6875 0.296875 5.421875 2 \r\nL 5.421875 11.28125 \r\nQ 10.40625 8.6875 15.234375 7.390625 \r\nQ 20.0625 6.109375 24.8125 6.109375 \r\nQ 31.15625 6.109375 34.5625 8.28125 \r\nQ 37.984375 10.453125 37.984375 14.40625 \r\nQ 37.984375 18.0625 35.515625 20.015625 \r\nQ 33.0625 21.96875 24.703125 23.78125 \r\nL 21.578125 24.515625 \r\nQ 13.234375 26.265625 9.515625 29.90625 \r\nQ 5.8125 33.546875 5.8125 39.890625 \r\nQ 5.8125 47.609375 11.28125 51.796875 \r\nQ 16.75 56 26.8125 56 \r\nQ 31.78125 56 36.171875 55.265625 \r\nQ 40.578125 54.546875 44.28125 53.078125 \r\nz\r\n\" id=\"DejaVuSans-115\"/>\r\n      <path d=\"M 18.3125 70.21875 \r\nL 18.3125 54.6875 \r\nL 36.8125 54.6875 \r\nL 36.8125 47.703125 \r\nL 18.3125 47.703125 \r\nL 18.3125 18.015625 \r\nQ 18.3125 11.328125 20.140625 9.421875 \r\nQ 21.96875 7.515625 27.59375 7.515625 \r\nL 36.8125 7.515625 \r\nL 36.8125 0 \r\nL 27.59375 0 \r\nQ 17.1875 0 13.234375 3.875 \r\nQ 9.28125 7.765625 9.28125 18.015625 \r\nL 9.28125 47.703125 \r\nL 2.6875 47.703125 \r\nL 2.6875 54.6875 \r\nL 9.28125 54.6875 \r\nL 9.28125 70.21875 \r\nz\r\n\" id=\"DejaVuSans-116\"/>\r\n      <path d=\"M 34.28125 27.484375 \r\nQ 23.390625 27.484375 19.1875 25 \r\nQ 14.984375 22.515625 14.984375 16.5 \r\nQ 14.984375 11.71875 18.140625 8.90625 \r\nQ 21.296875 6.109375 26.703125 6.109375 \r\nQ 34.1875 6.109375 38.703125 11.40625 \r\nQ 43.21875 16.703125 43.21875 25.484375 \r\nL 43.21875 27.484375 \r\nz\r\nM 52.203125 31.203125 \r\nL 52.203125 0 \r\nL 43.21875 0 \r\nL 43.21875 8.296875 \r\nQ 40.140625 3.328125 35.546875 0.953125 \r\nQ 30.953125 -1.421875 24.3125 -1.421875 \r\nQ 15.921875 -1.421875 10.953125 3.296875 \r\nQ 6 8.015625 6 15.921875 \r\nQ 6 25.140625 12.171875 29.828125 \r\nQ 18.359375 34.515625 30.609375 34.515625 \r\nL 43.21875 34.515625 \r\nL 43.21875 35.40625 \r\nQ 43.21875 41.609375 39.140625 45 \r\nQ 35.0625 48.390625 27.6875 48.390625 \r\nQ 23 48.390625 18.546875 47.265625 \r\nQ 14.109375 46.140625 10.015625 43.890625 \r\nL 10.015625 52.203125 \r\nQ 14.9375 54.109375 19.578125 55.046875 \r\nQ 24.21875 56 28.609375 56 \r\nQ 40.484375 56 46.34375 49.84375 \r\nQ 52.203125 43.703125 52.203125 31.203125 \r\nz\r\n\" id=\"DejaVuSans-97\"/>\r\n      <path d=\"M 54.890625 33.015625 \r\nL 54.890625 0 \r\nL 45.90625 0 \r\nL 45.90625 32.71875 \r\nQ 45.90625 40.484375 42.875 44.328125 \r\nQ 39.84375 48.1875 33.796875 48.1875 \r\nQ 26.515625 48.1875 22.3125 43.546875 \r\nQ 18.109375 38.921875 18.109375 30.90625 \r\nL 18.109375 0 \r\nL 9.078125 0 \r\nL 9.078125 54.6875 \r\nL 18.109375 54.6875 \r\nL 18.109375 46.1875 \r\nQ 21.34375 51.125 25.703125 53.5625 \r\nQ 30.078125 56 35.796875 56 \r\nQ 45.21875 56 50.046875 50.171875 \r\nQ 54.890625 44.34375 54.890625 33.015625 \r\nz\r\n\" id=\"DejaVuSans-110\"/>\r\n      <path d=\"M 48.78125 52.59375 \r\nL 48.78125 44.1875 \r\nQ 44.96875 46.296875 41.140625 47.34375 \r\nQ 37.3125 48.390625 33.40625 48.390625 \r\nQ 24.65625 48.390625 19.8125 42.84375 \r\nQ 14.984375 37.3125 14.984375 27.296875 \r\nQ 14.984375 17.28125 19.8125 11.734375 \r\nQ 24.65625 6.203125 33.40625 6.203125 \r\nQ 37.3125 6.203125 41.140625 7.25 \r\nQ 44.96875 8.296875 48.78125 10.40625 \r\nL 48.78125 2.09375 \r\nQ 45.015625 0.34375 40.984375 -0.53125 \r\nQ 36.96875 -1.421875 32.421875 -1.421875 \r\nQ 20.0625 -1.421875 12.78125 6.34375 \r\nQ 5.515625 14.109375 5.515625 27.296875 \r\nQ 5.515625 40.671875 12.859375 48.328125 \r\nQ 20.21875 56 33.015625 56 \r\nQ 37.15625 56 41.109375 55.140625 \r\nQ 45.0625 54.296875 48.78125 52.59375 \r\nz\r\n\" id=\"DejaVuSans-99\"/>\r\n     </defs>\r\n     <g transform=\"translate(57.5625 23.798437)scale(0.1 -0.1)\">\r\n      <use xlink:href=\"#DejaVuSans-100\"/>\r\n      <use x=\"63.476562\" xlink:href=\"#DejaVuSans-105\"/>\r\n      <use x=\"91.259766\" xlink:href=\"#DejaVuSans-115\"/>\r\n      <use x=\"143.359375\" xlink:href=\"#DejaVuSans-116\"/>\r\n      <use x=\"182.568359\" xlink:href=\"#DejaVuSans-97\"/>\r\n      <use x=\"243.847656\" xlink:href=\"#DejaVuSans-110\"/>\r\n      <use x=\"307.226562\" xlink:href=\"#DejaVuSans-99\"/>\r\n      <use x=\"362.207031\" xlink:href=\"#DejaVuSans-105\"/>\r\n      <use x=\"389.990234\" xlink:href=\"#DejaVuSans-97\"/>\r\n     </g>\r\n    </g>\r\n    <g id=\"line2d_18\">\r\n     <path d=\"M 29.5625 34.976562 \r\nL 49.5625 34.976562 \r\n\" style=\"fill:none;stroke:#ff0000;stroke-linecap:square;stroke-width:1.5;\"/>\r\n    </g>\r\n    <g id=\"line2d_19\">\r\n     <g>\r\n      <use style=\"fill:#ff0000;stroke:#ff0000;\" x=\"39.5625\" xlink:href=\"#mcfafd52868\" y=\"34.976562\"/>\r\n     </g>\r\n    </g>\r\n    <g id=\"text_15\">\r\n     <!-- punto -->\r\n     <defs>\r\n      <path d=\"M 18.109375 8.203125 \r\nL 18.109375 -20.796875 \r\nL 9.078125 -20.796875 \r\nL 9.078125 54.6875 \r\nL 18.109375 54.6875 \r\nL 18.109375 46.390625 \r\nQ 20.953125 51.265625 25.265625 53.625 \r\nQ 29.59375 56 35.59375 56 \r\nQ 45.5625 56 51.78125 48.09375 \r\nQ 58.015625 40.1875 58.015625 27.296875 \r\nQ 58.015625 14.40625 51.78125 6.484375 \r\nQ 45.5625 -1.421875 35.59375 -1.421875 \r\nQ 29.59375 -1.421875 25.265625 0.953125 \r\nQ 20.953125 3.328125 18.109375 8.203125 \r\nz\r\nM 48.6875 27.296875 \r\nQ 48.6875 37.203125 44.609375 42.84375 \r\nQ 40.53125 48.484375 33.40625 48.484375 \r\nQ 26.265625 48.484375 22.1875 42.84375 \r\nQ 18.109375 37.203125 18.109375 27.296875 \r\nQ 18.109375 17.390625 22.1875 11.75 \r\nQ 26.265625 6.109375 33.40625 6.109375 \r\nQ 40.53125 6.109375 44.609375 11.75 \r\nQ 48.6875 17.390625 48.6875 27.296875 \r\nz\r\n\" id=\"DejaVuSans-112\"/>\r\n      <path d=\"M 8.5 21.578125 \r\nL 8.5 54.6875 \r\nL 17.484375 54.6875 \r\nL 17.484375 21.921875 \r\nQ 17.484375 14.15625 20.5 10.265625 \r\nQ 23.53125 6.390625 29.59375 6.390625 \r\nQ 36.859375 6.390625 41.078125 11.03125 \r\nQ 45.3125 15.671875 45.3125 23.6875 \r\nL 45.3125 54.6875 \r\nL 54.296875 54.6875 \r\nL 54.296875 0 \r\nL 45.3125 0 \r\nL 45.3125 8.40625 \r\nQ 42.046875 3.421875 37.71875 1 \r\nQ 33.40625 -1.421875 27.6875 -1.421875 \r\nQ 18.265625 -1.421875 13.375 4.4375 \r\nQ 8.5 10.296875 8.5 21.578125 \r\nz\r\nM 31.109375 56 \r\nz\r\n\" id=\"DejaVuSans-117\"/>\r\n      <path d=\"M 30.609375 48.390625 \r\nQ 23.390625 48.390625 19.1875 42.75 \r\nQ 14.984375 37.109375 14.984375 27.296875 \r\nQ 14.984375 17.484375 19.15625 11.84375 \r\nQ 23.34375 6.203125 30.609375 6.203125 \r\nQ 37.796875 6.203125 41.984375 11.859375 \r\nQ 46.1875 17.53125 46.1875 27.296875 \r\nQ 46.1875 37.015625 41.984375 42.703125 \r\nQ 37.796875 48.390625 30.609375 48.390625 \r\nz\r\nM 30.609375 56 \r\nQ 42.328125 56 49.015625 48.375 \r\nQ 55.71875 40.765625 55.71875 27.296875 \r\nQ 55.71875 13.875 49.015625 6.21875 \r\nQ 42.328125 -1.421875 30.609375 -1.421875 \r\nQ 18.84375 -1.421875 12.171875 6.21875 \r\nQ 5.515625 13.875 5.515625 27.296875 \r\nQ 5.515625 40.765625 12.171875 48.375 \r\nQ 18.84375 56 30.609375 56 \r\nz\r\n\" id=\"DejaVuSans-111\"/>\r\n     </defs>\r\n     <g transform=\"translate(57.5625 38.476562)scale(0.1 -0.1)\">\r\n      <use xlink:href=\"#DejaVuSans-112\"/>\r\n      <use x=\"63.476562\" xlink:href=\"#DejaVuSans-117\"/>\r\n      <use x=\"126.855469\" xlink:href=\"#DejaVuSans-110\"/>\r\n      <use x=\"190.234375\" xlink:href=\"#DejaVuSans-116\"/>\r\n      <use x=\"229.443359\" xlink:href=\"#DejaVuSans-111\"/>\r\n     </g>\r\n    </g>\r\n   </g>\r\n  </g>\r\n </g>\r\n <defs>\r\n  <clipPath id=\"pb135f7baa9\">\r\n   <rect height=\"217.44\" width=\"334.8\" x=\"20.5625\" y=\"7.2\"/>\r\n  </clipPath>\r\n </defs>\r\n</svg>\r\n",
      "image/png": "[encoded data removed]"
     },
     "metadata": {
      "needs_background": "light"
     }
    }
   ],
   "source": [
    "# Obtenemos el valor de la distancia al origen y graficamos\n",
    "punto.distance_to_origin(graph = True)"
   ]
  },
  {
   "cell_type": "code",
   "execution_count": 51,
   "metadata": {},
   "outputs": [
    {
     "output_type": "display_data",
     "data": {
      "text/plain": "<Figure size 432x288 with 1 Axes>",
      "image/svg+xml": "<?xml version=\"1.0\" encoding=\"utf-8\" standalone=\"no\"?>\r\n<!DOCTYPE svg PUBLIC \"-//W3C//DTD SVG 1.1//EN\"\r\n  \"http://www.w3.org/Graphics/SVG/1.1/DTD/svg11.dtd\">\r\n<!-- Created with matplotlib (https://matplotlib.org/) -->\r\n<svg height=\"248.518125pt\" version=\"1.1\" viewBox=\"0 0 372.103125 248.518125\" width=\"372.103125pt\" xmlns=\"http://www.w3.org/2000/svg\" xmlns:xlink=\"http://www.w3.org/1999/xlink\">\r\n <defs>\r\n  <style type=\"text/css\">\r\n*{stroke-linecap:butt;stroke-linejoin:round;}\r\n  </style>\r\n </defs>\r\n <g id=\"figure_1\">\r\n  <g id=\"patch_1\">\r\n   <path d=\"M 0 248.518125 \r\nL 372.103125 248.518125 \r\nL 372.103125 0 \r\nL 0 0 \r\nz\r\n\" style=\"fill:none;\"/>\r\n  </g>\r\n  <g id=\"axes_1\">\r\n   <g id=\"patch_2\">\r\n    <path d=\"M 30.103125 224.64 \r\nL 364.903125 224.64 \r\nL 364.903125 7.2 \r\nL 30.103125 7.2 \r\nz\r\n\" style=\"fill:#ffffff;\"/>\r\n   </g>\r\n   <g id=\"matplotlib.axis_1\">\r\n    <g id=\"xtick_1\">\r\n     <g id=\"line2d_1\">\r\n      <defs>\r\n       <path d=\"M 0 0 \r\nL 0 3.5 \r\n\" id=\"ma437dc940f\" style=\"stroke:#000000;stroke-width:0.8;\"/>\r\n      </defs>\r\n      <g>\r\n       <use style=\"stroke:#000000;stroke-width:0.8;\" x=\"45.321307\" xlink:href=\"#ma437dc940f\" y=\"224.64\"/>\r\n      </g>\r\n     </g>\r\n     <g id=\"text_1\">\r\n      <!-- −3 -->\r\n      <defs>\r\n       <path d=\"M 10.59375 35.5 \r\nL 73.1875 35.5 \r\nL 73.1875 27.203125 \r\nL 10.59375 27.203125 \r\nz\r\n\" id=\"DejaVuSans-8722\"/>\r\n       <path d=\"M 40.578125 39.3125 \r\nQ 47.65625 37.796875 51.625 33 \r\nQ 55.609375 28.21875 55.609375 21.1875 \r\nQ 55.609375 10.40625 48.1875 4.484375 \r\nQ 40.765625 -1.421875 27.09375 -1.421875 \r\nQ 22.515625 -1.421875 17.65625 -0.515625 \r\nQ 12.796875 0.390625 7.625 2.203125 \r\nL 7.625 11.71875 \r\nQ 11.71875 9.328125 16.59375 8.109375 \r\nQ 21.484375 6.890625 26.8125 6.890625 \r\nQ 36.078125 6.890625 40.9375 10.546875 \r\nQ 45.796875 14.203125 45.796875 21.1875 \r\nQ 45.796875 27.640625 41.28125 31.265625 \r\nQ 36.765625 34.90625 28.71875 34.90625 \r\nL 20.21875 34.90625 \r\nL 20.21875 43.015625 \r\nL 29.109375 43.015625 \r\nQ 36.375 43.015625 40.234375 45.921875 \r\nQ 44.09375 48.828125 44.09375 54.296875 \r\nQ 44.09375 59.90625 40.109375 62.90625 \r\nQ 36.140625 65.921875 28.71875 65.921875 \r\nQ 24.65625 65.921875 20.015625 65.03125 \r\nQ 15.375 64.15625 9.8125 62.3125 \r\nL 9.8125 71.09375 \r\nQ 15.4375 72.65625 20.34375 73.4375 \r\nQ 25.25 74.21875 29.59375 74.21875 \r\nQ 40.828125 74.21875 47.359375 69.109375 \r\nQ 53.90625 64.015625 53.90625 55.328125 \r\nQ 53.90625 49.265625 50.4375 45.09375 \r\nQ 46.96875 40.921875 40.578125 39.3125 \r\nz\r\n\" id=\"DejaVuSans-51\"/>\r\n      </defs>\r\n      <g transform=\"translate(37.950213 239.238438)scale(0.1 -0.1)\">\r\n       <use xlink:href=\"#DejaVuSans-8722\"/>\r\n       <use x=\"83.789062\" xlink:href=\"#DejaVuSans-51\"/>\r\n      </g>\r\n     </g>\r\n    </g>\r\n    <g id=\"xtick_2\">\r\n     <g id=\"line2d_2\">\r\n      <g>\r\n       <use style=\"stroke:#000000;stroke-width:0.8;\" x=\"96.04858\" xlink:href=\"#ma437dc940f\" y=\"224.64\"/>\r\n      </g>\r\n     </g>\r\n     <g id=\"text_2\">\r\n      <!-- −2 -->\r\n      <defs>\r\n       <path d=\"M 19.1875 8.296875 \r\nL 53.609375 8.296875 \r\nL 53.609375 0 \r\nL 7.328125 0 \r\nL 7.328125 8.296875 \r\nQ 12.9375 14.109375 22.625 23.890625 \r\nQ 32.328125 33.6875 34.8125 36.53125 \r\nQ 39.546875 41.84375 41.421875 45.53125 \r\nQ 43.3125 49.21875 43.3125 52.78125 \r\nQ 43.3125 58.59375 39.234375 62.25 \r\nQ 35.15625 65.921875 28.609375 65.921875 \r\nQ 23.96875 65.921875 18.8125 64.3125 \r\nQ 13.671875 62.703125 7.8125 59.421875 \r\nL 7.8125 69.390625 \r\nQ 13.765625 71.78125 18.9375 73 \r\nQ 24.125 74.21875 28.421875 74.21875 \r\nQ 39.75 74.21875 46.484375 68.546875 \r\nQ 53.21875 62.890625 53.21875 53.421875 \r\nQ 53.21875 48.921875 51.53125 44.890625 \r\nQ 49.859375 40.875 45.40625 35.40625 \r\nQ 44.1875 33.984375 37.640625 27.21875 \r\nQ 31.109375 20.453125 19.1875 8.296875 \r\nz\r\n\" id=\"DejaVuSans-50\"/>\r\n      </defs>\r\n      <g transform=\"translate(88.677486 239.238438)scale(0.1 -0.1)\">\r\n       <use xlink:href=\"#DejaVuSans-8722\"/>\r\n       <use x=\"83.789062\" xlink:href=\"#DejaVuSans-50\"/>\r\n      </g>\r\n     </g>\r\n    </g>\r\n    <g id=\"xtick_3\">\r\n     <g id=\"line2d_3\">\r\n      <g>\r\n       <use style=\"stroke:#000000;stroke-width:0.8;\" x=\"146.775852\" xlink:href=\"#ma437dc940f\" y=\"224.64\"/>\r\n      </g>\r\n     </g>\r\n     <g id=\"text_3\">\r\n      <!-- −1 -->\r\n      <defs>\r\n       <path d=\"M 12.40625 8.296875 \r\nL 28.515625 8.296875 \r\nL 28.515625 63.921875 \r\nL 10.984375 60.40625 \r\nL 10.984375 69.390625 \r\nL 28.421875 72.90625 \r\nL 38.28125 72.90625 \r\nL 38.28125 8.296875 \r\nL 54.390625 8.296875 \r\nL 54.390625 0 \r\nL 12.40625 0 \r\nz\r\n\" id=\"DejaVuSans-49\"/>\r\n      </defs>\r\n      <g transform=\"translate(139.404759 239.238438)scale(0.1 -0.1)\">\r\n       <use xlink:href=\"#DejaVuSans-8722\"/>\r\n       <use x=\"83.789062\" xlink:href=\"#DejaVuSans-49\"/>\r\n      </g>\r\n     </g>\r\n    </g>\r\n    <g id=\"xtick_4\">\r\n     <g id=\"line2d_4\">\r\n      <g>\r\n       <use style=\"stroke:#000000;stroke-width:0.8;\" x=\"197.503125\" xlink:href=\"#ma437dc940f\" y=\"224.64\"/>\r\n      </g>\r\n     </g>\r\n     <g id=\"text_4\">\r\n      <!-- 0 -->\r\n      <defs>\r\n       <path d=\"M 31.78125 66.40625 \r\nQ 24.171875 66.40625 20.328125 58.90625 \r\nQ 16.5 51.421875 16.5 36.375 \r\nQ 16.5 21.390625 20.328125 13.890625 \r\nQ 24.171875 6.390625 31.78125 6.390625 \r\nQ 39.453125 6.390625 43.28125 13.890625 \r\nQ 47.125 21.390625 47.125 36.375 \r\nQ 47.125 51.421875 43.28125 58.90625 \r\nQ 39.453125 66.40625 31.78125 66.40625 \r\nz\r\nM 31.78125 74.21875 \r\nQ 44.046875 74.21875 50.515625 64.515625 \r\nQ 56.984375 54.828125 56.984375 36.375 \r\nQ 56.984375 17.96875 50.515625 8.265625 \r\nQ 44.046875 -1.421875 31.78125 -1.421875 \r\nQ 19.53125 -1.421875 13.0625 8.265625 \r\nQ 6.59375 17.96875 6.59375 36.375 \r\nQ 6.59375 54.828125 13.0625 64.515625 \r\nQ 19.53125 74.21875 31.78125 74.21875 \r\nz\r\n\" id=\"DejaVuSans-48\"/>\r\n      </defs>\r\n      <g transform=\"translate(194.321875 239.238438)scale(0.1 -0.1)\">\r\n       <use xlink:href=\"#DejaVuSans-48\"/>\r\n      </g>\r\n     </g>\r\n    </g>\r\n    <g id=\"xtick_5\">\r\n     <g id=\"line2d_5\">\r\n      <g>\r\n       <use style=\"stroke:#000000;stroke-width:0.8;\" x=\"248.230398\" xlink:href=\"#ma437dc940f\" y=\"224.64\"/>\r\n      </g>\r\n     </g>\r\n     <g id=\"text_5\">\r\n      <!-- 1 -->\r\n      <g transform=\"translate(245.049148 239.238438)scale(0.1 -0.1)\">\r\n       <use xlink:href=\"#DejaVuSans-49\"/>\r\n      </g>\r\n     </g>\r\n    </g>\r\n    <g id=\"xtick_6\">\r\n     <g id=\"line2d_6\">\r\n      <g>\r\n       <use style=\"stroke:#000000;stroke-width:0.8;\" x=\"298.95767\" xlink:href=\"#ma437dc940f\" y=\"224.64\"/>\r\n      </g>\r\n     </g>\r\n     <g id=\"text_6\">\r\n      <!-- 2 -->\r\n      <g transform=\"translate(295.77642 239.238438)scale(0.1 -0.1)\">\r\n       <use xlink:href=\"#DejaVuSans-50\"/>\r\n      </g>\r\n     </g>\r\n    </g>\r\n    <g id=\"xtick_7\">\r\n     <g id=\"line2d_7\">\r\n      <g>\r\n       <use style=\"stroke:#000000;stroke-width:0.8;\" x=\"349.684943\" xlink:href=\"#ma437dc940f\" y=\"224.64\"/>\r\n      </g>\r\n     </g>\r\n     <g id=\"text_7\">\r\n      <!-- 3 -->\r\n      <g transform=\"translate(346.503693 239.238438)scale(0.1 -0.1)\">\r\n       <use xlink:href=\"#DejaVuSans-51\"/>\r\n      </g>\r\n     </g>\r\n    </g>\r\n   </g>\r\n   <g id=\"matplotlib.axis_2\">\r\n    <g id=\"ytick_1\">\r\n     <g id=\"line2d_8\">\r\n      <defs>\r\n       <path d=\"M 0 0 \r\nL -3.5 0 \r\n\" id=\"mc397cc8ef3\" style=\"stroke:#000000;stroke-width:0.8;\"/>\r\n      </defs>\r\n      <g>\r\n       <use style=\"stroke:#000000;stroke-width:0.8;\" x=\"30.103125\" xlink:href=\"#mc397cc8ef3\" y=\"194.989091\"/>\r\n      </g>\r\n     </g>\r\n     <g id=\"text_8\">\r\n      <!-- 4.8 -->\r\n      <defs>\r\n       <path d=\"M 37.796875 64.3125 \r\nL 12.890625 25.390625 \r\nL 37.796875 25.390625 \r\nz\r\nM 35.203125 72.90625 \r\nL 47.609375 72.90625 \r\nL 47.609375 25.390625 \r\nL 58.015625 25.390625 \r\nL 58.015625 17.1875 \r\nL 47.609375 17.1875 \r\nL 47.609375 0 \r\nL 37.796875 0 \r\nL 37.796875 17.1875 \r\nL 4.890625 17.1875 \r\nL 4.890625 26.703125 \r\nz\r\n\" id=\"DejaVuSans-52\"/>\r\n       <path d=\"M 10.6875 12.40625 \r\nL 21 12.40625 \r\nL 21 0 \r\nL 10.6875 0 \r\nz\r\n\" id=\"DejaVuSans-46\"/>\r\n       <path d=\"M 31.78125 34.625 \r\nQ 24.75 34.625 20.71875 30.859375 \r\nQ 16.703125 27.09375 16.703125 20.515625 \r\nQ 16.703125 13.921875 20.71875 10.15625 \r\nQ 24.75 6.390625 31.78125 6.390625 \r\nQ 38.8125 6.390625 42.859375 10.171875 \r\nQ 46.921875 13.96875 46.921875 20.515625 \r\nQ 46.921875 27.09375 42.890625 30.859375 \r\nQ 38.875 34.625 31.78125 34.625 \r\nz\r\nM 21.921875 38.8125 \r\nQ 15.578125 40.375 12.03125 44.71875 \r\nQ 8.5 49.078125 8.5 55.328125 \r\nQ 8.5 64.0625 14.71875 69.140625 \r\nQ 20.953125 74.21875 31.78125 74.21875 \r\nQ 42.671875 74.21875 48.875 69.140625 \r\nQ 55.078125 64.0625 55.078125 55.328125 \r\nQ 55.078125 49.078125 51.53125 44.71875 \r\nQ 48 40.375 41.703125 38.8125 \r\nQ 48.828125 37.15625 52.796875 32.3125 \r\nQ 56.78125 27.484375 56.78125 20.515625 \r\nQ 56.78125 9.90625 50.3125 4.234375 \r\nQ 43.84375 -1.421875 31.78125 -1.421875 \r\nQ 19.734375 -1.421875 13.25 4.234375 \r\nQ 6.78125 9.90625 6.78125 20.515625 \r\nQ 6.78125 27.484375 10.78125 32.3125 \r\nQ 14.796875 37.15625 21.921875 38.8125 \r\nz\r\nM 18.3125 54.390625 \r\nQ 18.3125 48.734375 21.84375 45.5625 \r\nQ 25.390625 42.390625 31.78125 42.390625 \r\nQ 38.140625 42.390625 41.71875 45.5625 \r\nQ 45.3125 48.734375 45.3125 54.390625 \r\nQ 45.3125 60.0625 41.71875 63.234375 \r\nQ 38.140625 66.40625 31.78125 66.40625 \r\nQ 25.390625 66.40625 21.84375 63.234375 \r\nQ 18.3125 60.0625 18.3125 54.390625 \r\nz\r\n\" id=\"DejaVuSans-56\"/>\r\n      </defs>\r\n      <g transform=\"translate(7.2 198.78831)scale(0.1 -0.1)\">\r\n       <use xlink:href=\"#DejaVuSans-52\"/>\r\n       <use x=\"63.623047\" xlink:href=\"#DejaVuSans-46\"/>\r\n       <use x=\"95.410156\" xlink:href=\"#DejaVuSans-56\"/>\r\n      </g>\r\n     </g>\r\n    </g>\r\n    <g id=\"ytick_2\">\r\n     <g id=\"line2d_9\">\r\n      <g>\r\n       <use style=\"stroke:#000000;stroke-width:0.8;\" x=\"30.103125\" xlink:href=\"#mc397cc8ef3\" y=\"155.454545\"/>\r\n      </g>\r\n     </g>\r\n     <g id=\"text_9\">\r\n      <!-- 4.9 -->\r\n      <defs>\r\n       <path d=\"M 10.984375 1.515625 \r\nL 10.984375 10.5 \r\nQ 14.703125 8.734375 18.5 7.8125 \r\nQ 22.3125 6.890625 25.984375 6.890625 \r\nQ 35.75 6.890625 40.890625 13.453125 \r\nQ 46.046875 20.015625 46.78125 33.40625 \r\nQ 43.953125 29.203125 39.59375 26.953125 \r\nQ 35.25 24.703125 29.984375 24.703125 \r\nQ 19.046875 24.703125 12.671875 31.3125 \r\nQ 6.296875 37.9375 6.296875 49.421875 \r\nQ 6.296875 60.640625 12.9375 67.421875 \r\nQ 19.578125 74.21875 30.609375 74.21875 \r\nQ 43.265625 74.21875 49.921875 64.515625 \r\nQ 56.59375 54.828125 56.59375 36.375 \r\nQ 56.59375 19.140625 48.40625 8.859375 \r\nQ 40.234375 -1.421875 26.421875 -1.421875 \r\nQ 22.703125 -1.421875 18.890625 -0.6875 \r\nQ 15.09375 0.046875 10.984375 1.515625 \r\nz\r\nM 30.609375 32.421875 \r\nQ 37.25 32.421875 41.125 36.953125 \r\nQ 45.015625 41.5 45.015625 49.421875 \r\nQ 45.015625 57.28125 41.125 61.84375 \r\nQ 37.25 66.40625 30.609375 66.40625 \r\nQ 23.96875 66.40625 20.09375 61.84375 \r\nQ 16.21875 57.28125 16.21875 49.421875 \r\nQ 16.21875 41.5 20.09375 36.953125 \r\nQ 23.96875 32.421875 30.609375 32.421875 \r\nz\r\n\" id=\"DejaVuSans-57\"/>\r\n      </defs>\r\n      <g transform=\"translate(7.2 159.253764)scale(0.1 -0.1)\">\r\n       <use xlink:href=\"#DejaVuSans-52\"/>\r\n       <use x=\"63.623047\" xlink:href=\"#DejaVuSans-46\"/>\r\n       <use x=\"95.410156\" xlink:href=\"#DejaVuSans-57\"/>\r\n      </g>\r\n     </g>\r\n    </g>\r\n    <g id=\"ytick_3\">\r\n     <g id=\"line2d_10\">\r\n      <g>\r\n       <use style=\"stroke:#000000;stroke-width:0.8;\" x=\"30.103125\" xlink:href=\"#mc397cc8ef3\" y=\"115.92\"/>\r\n      </g>\r\n     </g>\r\n     <g id=\"text_10\">\r\n      <!-- 5.0 -->\r\n      <defs>\r\n       <path d=\"M 10.796875 72.90625 \r\nL 49.515625 72.90625 \r\nL 49.515625 64.59375 \r\nL 19.828125 64.59375 \r\nL 19.828125 46.734375 \r\nQ 21.96875 47.46875 24.109375 47.828125 \r\nQ 26.265625 48.1875 28.421875 48.1875 \r\nQ 40.625 48.1875 47.75 41.5 \r\nQ 54.890625 34.8125 54.890625 23.390625 \r\nQ 54.890625 11.625 47.5625 5.09375 \r\nQ 40.234375 -1.421875 26.90625 -1.421875 \r\nQ 22.3125 -1.421875 17.546875 -0.640625 \r\nQ 12.796875 0.140625 7.71875 1.703125 \r\nL 7.71875 11.625 \r\nQ 12.109375 9.234375 16.796875 8.0625 \r\nQ 21.484375 6.890625 26.703125 6.890625 \r\nQ 35.15625 6.890625 40.078125 11.328125 \r\nQ 45.015625 15.765625 45.015625 23.390625 \r\nQ 45.015625 31 40.078125 35.4375 \r\nQ 35.15625 39.890625 26.703125 39.890625 \r\nQ 22.75 39.890625 18.8125 39.015625 \r\nQ 14.890625 38.140625 10.796875 36.28125 \r\nz\r\n\" id=\"DejaVuSans-53\"/>\r\n      </defs>\r\n      <g transform=\"translate(7.2 119.719219)scale(0.1 -0.1)\">\r\n       <use xlink:href=\"#DejaVuSans-53\"/>\r\n       <use x=\"63.623047\" xlink:href=\"#DejaVuSans-46\"/>\r\n       <use x=\"95.410156\" xlink:href=\"#DejaVuSans-48\"/>\r\n      </g>\r\n     </g>\r\n    </g>\r\n    <g id=\"ytick_4\">\r\n     <g id=\"line2d_11\">\r\n      <g>\r\n       <use style=\"stroke:#000000;stroke-width:0.8;\" x=\"30.103125\" xlink:href=\"#mc397cc8ef3\" y=\"76.385455\"/>\r\n      </g>\r\n     </g>\r\n     <g id=\"text_11\">\r\n      <!-- 5.1 -->\r\n      <g transform=\"translate(7.2 80.184673)scale(0.1 -0.1)\">\r\n       <use xlink:href=\"#DejaVuSans-53\"/>\r\n       <use x=\"63.623047\" xlink:href=\"#DejaVuSans-46\"/>\r\n       <use x=\"95.410156\" xlink:href=\"#DejaVuSans-49\"/>\r\n      </g>\r\n     </g>\r\n    </g>\r\n    <g id=\"ytick_5\">\r\n     <g id=\"line2d_12\">\r\n      <g>\r\n       <use style=\"stroke:#000000;stroke-width:0.8;\" x=\"30.103125\" xlink:href=\"#mc397cc8ef3\" y=\"36.850909\"/>\r\n      </g>\r\n     </g>\r\n     <g id=\"text_12\">\r\n      <!-- 5.2 -->\r\n      <g transform=\"translate(7.2 40.650128)scale(0.1 -0.1)\">\r\n       <use xlink:href=\"#DejaVuSans-53\"/>\r\n       <use x=\"63.623047\" xlink:href=\"#DejaVuSans-46\"/>\r\n       <use x=\"95.410156\" xlink:href=\"#DejaVuSans-50\"/>\r\n      </g>\r\n     </g>\r\n    </g>\r\n   </g>\r\n   <g id=\"line2d_13\">\r\n    <path clip-path=\"url(#p9eeeb1baa4)\" d=\"M 349.684943 115.92 \r\n\" style=\"fill:none;stroke:#ff0000;stroke-linecap:square;stroke-width:1.5;\"/>\r\n    <defs>\r\n     <path d=\"M -3 3 \r\nL 3 -3 \r\nM -3 -3 \r\nL 3 3 \r\n\" id=\"m23598451f0\" style=\"stroke:#ff0000;\"/>\r\n    </defs>\r\n    <g clip-path=\"url(#p9eeeb1baa4)\">\r\n     <use style=\"fill:#ff0000;stroke:#ff0000;\" x=\"349.684943\" xlink:href=\"#m23598451f0\" y=\"115.92\"/>\r\n    </g>\r\n   </g>\r\n   <g id=\"line2d_14\">\r\n    <path clip-path=\"url(#p9eeeb1baa4)\" d=\"M 45.321307 115.92 \r\n\" style=\"fill:none;stroke:#808080;stroke-linecap:square;stroke-width:1.5;\"/>\r\n    <defs>\r\n     <path d=\"M -3 3 \r\nL 3 -3 \r\nM -3 -3 \r\nL 3 3 \r\n\" id=\"m87db8429b4\" style=\"stroke:#808080;\"/>\r\n    </defs>\r\n    <g clip-path=\"url(#p9eeeb1baa4)\">\r\n     <use style=\"fill:#808080;stroke:#808080;\" x=\"45.321307\" xlink:href=\"#m87db8429b4\" y=\"115.92\"/>\r\n    </g>\r\n   </g>\r\n   <g id=\"patch_3\">\r\n    <path d=\"M 30.103125 224.64 \r\nL 30.103125 7.2 \r\n\" style=\"fill:none;stroke:#000000;stroke-linecap:square;stroke-linejoin:miter;stroke-width:0.8;\"/>\r\n   </g>\r\n   <g id=\"patch_4\">\r\n    <path d=\"M 364.903125 224.64 \r\nL 364.903125 7.2 \r\n\" style=\"fill:none;stroke:#000000;stroke-linecap:square;stroke-linejoin:miter;stroke-width:0.8;\"/>\r\n   </g>\r\n   <g id=\"patch_5\">\r\n    <path d=\"M 30.103125 224.64 \r\nL 364.903125 224.64 \r\n\" style=\"fill:none;stroke:#000000;stroke-linecap:square;stroke-linejoin:miter;stroke-width:0.8;\"/>\r\n   </g>\r\n   <g id=\"patch_6\">\r\n    <path d=\"M 30.103125 7.2 \r\nL 364.903125 7.2 \r\n\" style=\"fill:none;stroke:#000000;stroke-linecap:square;stroke-linejoin:miter;stroke-width:0.8;\"/>\r\n   </g>\r\n   <g id=\"legend_1\">\r\n    <g id=\"patch_7\">\r\n     <path d=\"M 282.434375 44.55625 \r\nL 357.903125 44.55625 \r\nQ 359.903125 44.55625 359.903125 42.55625 \r\nL 359.903125 14.2 \r\nQ 359.903125 12.2 357.903125 12.2 \r\nL 282.434375 12.2 \r\nQ 280.434375 12.2 280.434375 14.2 \r\nL 280.434375 42.55625 \r\nQ 280.434375 44.55625 282.434375 44.55625 \r\nz\r\n\" style=\"fill:#ffffff;opacity:0.8;stroke:#cccccc;stroke-linejoin:miter;\"/>\r\n    </g>\r\n    <g id=\"line2d_15\">\r\n     <path d=\"M 284.434375 20.298438 \r\nL 304.434375 20.298438 \r\n\" style=\"fill:none;stroke:#ff0000;stroke-linecap:square;stroke-width:1.5;\"/>\r\n    </g>\r\n    <g id=\"line2d_16\">\r\n     <g>\r\n      <use style=\"fill:#ff0000;stroke:#ff0000;\" x=\"294.434375\" xlink:href=\"#m23598451f0\" y=\"20.298438\"/>\r\n     </g>\r\n    </g>\r\n    <g id=\"text_13\">\r\n     <!-- original -->\r\n     <defs>\r\n      <path d=\"M 30.609375 48.390625 \r\nQ 23.390625 48.390625 19.1875 42.75 \r\nQ 14.984375 37.109375 14.984375 27.296875 \r\nQ 14.984375 17.484375 19.15625 11.84375 \r\nQ 23.34375 6.203125 30.609375 6.203125 \r\nQ 37.796875 6.203125 41.984375 11.859375 \r\nQ 46.1875 17.53125 46.1875 27.296875 \r\nQ 46.1875 37.015625 41.984375 42.703125 \r\nQ 37.796875 48.390625 30.609375 48.390625 \r\nz\r\nM 30.609375 56 \r\nQ 42.328125 56 49.015625 48.375 \r\nQ 55.71875 40.765625 55.71875 27.296875 \r\nQ 55.71875 13.875 49.015625 6.21875 \r\nQ 42.328125 -1.421875 30.609375 -1.421875 \r\nQ 18.84375 -1.421875 12.171875 6.21875 \r\nQ 5.515625 13.875 5.515625 27.296875 \r\nQ 5.515625 40.765625 12.171875 48.375 \r\nQ 18.84375 56 30.609375 56 \r\nz\r\n\" id=\"DejaVuSans-111\"/>\r\n      <path d=\"M 41.109375 46.296875 \r\nQ 39.59375 47.171875 37.8125 47.578125 \r\nQ 36.03125 48 33.890625 48 \r\nQ 26.265625 48 22.1875 43.046875 \r\nQ 18.109375 38.09375 18.109375 28.8125 \r\nL 18.109375 0 \r\nL 9.078125 0 \r\nL 9.078125 54.6875 \r\nL 18.109375 54.6875 \r\nL 18.109375 46.1875 \r\nQ 20.953125 51.171875 25.484375 53.578125 \r\nQ 30.03125 56 36.53125 56 \r\nQ 37.453125 56 38.578125 55.875 \r\nQ 39.703125 55.765625 41.0625 55.515625 \r\nz\r\n\" id=\"DejaVuSans-114\"/>\r\n      <path d=\"M 9.421875 54.6875 \r\nL 18.40625 54.6875 \r\nL 18.40625 0 \r\nL 9.421875 0 \r\nz\r\nM 9.421875 75.984375 \r\nL 18.40625 75.984375 \r\nL 18.40625 64.59375 \r\nL 9.421875 64.59375 \r\nz\r\n\" id=\"DejaVuSans-105\"/>\r\n      <path d=\"M 45.40625 27.984375 \r\nQ 45.40625 37.75 41.375 43.109375 \r\nQ 37.359375 48.484375 30.078125 48.484375 \r\nQ 22.859375 48.484375 18.828125 43.109375 \r\nQ 14.796875 37.75 14.796875 27.984375 \r\nQ 14.796875 18.265625 18.828125 12.890625 \r\nQ 22.859375 7.515625 30.078125 7.515625 \r\nQ 37.359375 7.515625 41.375 12.890625 \r\nQ 45.40625 18.265625 45.40625 27.984375 \r\nz\r\nM 54.390625 6.78125 \r\nQ 54.390625 -7.171875 48.1875 -13.984375 \r\nQ 42 -20.796875 29.203125 -20.796875 \r\nQ 24.46875 -20.796875 20.265625 -20.09375 \r\nQ 16.0625 -19.390625 12.109375 -17.921875 \r\nL 12.109375 -9.1875 \r\nQ 16.0625 -11.328125 19.921875 -12.34375 \r\nQ 23.78125 -13.375 27.78125 -13.375 \r\nQ 36.625 -13.375 41.015625 -8.765625 \r\nQ 45.40625 -4.15625 45.40625 5.171875 \r\nL 45.40625 9.625 \r\nQ 42.625 4.78125 38.28125 2.390625 \r\nQ 33.9375 0 27.875 0 \r\nQ 17.828125 0 11.671875 7.65625 \r\nQ 5.515625 15.328125 5.515625 27.984375 \r\nQ 5.515625 40.671875 11.671875 48.328125 \r\nQ 17.828125 56 27.875 56 \r\nQ 33.9375 56 38.28125 53.609375 \r\nQ 42.625 51.21875 45.40625 46.390625 \r\nL 45.40625 54.6875 \r\nL 54.390625 54.6875 \r\nz\r\n\" id=\"DejaVuSans-103\"/>\r\n      <path d=\"M 54.890625 33.015625 \r\nL 54.890625 0 \r\nL 45.90625 0 \r\nL 45.90625 32.71875 \r\nQ 45.90625 40.484375 42.875 44.328125 \r\nQ 39.84375 48.1875 33.796875 48.1875 \r\nQ 26.515625 48.1875 22.3125 43.546875 \r\nQ 18.109375 38.921875 18.109375 30.90625 \r\nL 18.109375 0 \r\nL 9.078125 0 \r\nL 9.078125 54.6875 \r\nL 18.109375 54.6875 \r\nL 18.109375 46.1875 \r\nQ 21.34375 51.125 25.703125 53.5625 \r\nQ 30.078125 56 35.796875 56 \r\nQ 45.21875 56 50.046875 50.171875 \r\nQ 54.890625 44.34375 54.890625 33.015625 \r\nz\r\n\" id=\"DejaVuSans-110\"/>\r\n      <path d=\"M 34.28125 27.484375 \r\nQ 23.390625 27.484375 19.1875 25 \r\nQ 14.984375 22.515625 14.984375 16.5 \r\nQ 14.984375 11.71875 18.140625 8.90625 \r\nQ 21.296875 6.109375 26.703125 6.109375 \r\nQ 34.1875 6.109375 38.703125 11.40625 \r\nQ 43.21875 16.703125 43.21875 25.484375 \r\nL 43.21875 27.484375 \r\nz\r\nM 52.203125 31.203125 \r\nL 52.203125 0 \r\nL 43.21875 0 \r\nL 43.21875 8.296875 \r\nQ 40.140625 3.328125 35.546875 0.953125 \r\nQ 30.953125 -1.421875 24.3125 -1.421875 \r\nQ 15.921875 -1.421875 10.953125 3.296875 \r\nQ 6 8.015625 6 15.921875 \r\nQ 6 25.140625 12.171875 29.828125 \r\nQ 18.359375 34.515625 30.609375 34.515625 \r\nL 43.21875 34.515625 \r\nL 43.21875 35.40625 \r\nQ 43.21875 41.609375 39.140625 45 \r\nQ 35.0625 48.390625 27.6875 48.390625 \r\nQ 23 48.390625 18.546875 47.265625 \r\nQ 14.109375 46.140625 10.015625 43.890625 \r\nL 10.015625 52.203125 \r\nQ 14.9375 54.109375 19.578125 55.046875 \r\nQ 24.21875 56 28.609375 56 \r\nQ 40.484375 56 46.34375 49.84375 \r\nQ 52.203125 43.703125 52.203125 31.203125 \r\nz\r\n\" id=\"DejaVuSans-97\"/>\r\n      <path d=\"M 9.421875 75.984375 \r\nL 18.40625 75.984375 \r\nL 18.40625 0 \r\nL 9.421875 0 \r\nz\r\n\" id=\"DejaVuSans-108\"/>\r\n     </defs>\r\n     <g transform=\"translate(312.434375 23.798438)scale(0.1 -0.1)\">\r\n      <use xlink:href=\"#DejaVuSans-111\"/>\r\n      <use x=\"61.181641\" xlink:href=\"#DejaVuSans-114\"/>\r\n      <use x=\"102.294922\" xlink:href=\"#DejaVuSans-105\"/>\r\n      <use x=\"130.078125\" xlink:href=\"#DejaVuSans-103\"/>\r\n      <use x=\"193.554688\" xlink:href=\"#DejaVuSans-105\"/>\r\n      <use x=\"221.337891\" xlink:href=\"#DejaVuSans-110\"/>\r\n      <use x=\"284.716797\" xlink:href=\"#DejaVuSans-97\"/>\r\n      <use x=\"345.996094\" xlink:href=\"#DejaVuSans-108\"/>\r\n     </g>\r\n    </g>\r\n    <g id=\"line2d_17\">\r\n     <path d=\"M 284.434375 34.976563 \r\nL 304.434375 34.976563 \r\n\" style=\"fill:none;stroke:#808080;stroke-linecap:square;stroke-width:1.5;\"/>\r\n    </g>\r\n    <g id=\"line2d_18\">\r\n     <g>\r\n      <use style=\"fill:#808080;stroke:#808080;\" x=\"294.434375\" xlink:href=\"#m87db8429b4\" y=\"34.976563\"/>\r\n     </g>\r\n    </g>\r\n    <g id=\"text_14\">\r\n     <!-- reflexión -->\r\n     <defs>\r\n      <path d=\"M 56.203125 29.59375 \r\nL 56.203125 25.203125 \r\nL 14.890625 25.203125 \r\nQ 15.484375 15.921875 20.484375 11.0625 \r\nQ 25.484375 6.203125 34.421875 6.203125 \r\nQ 39.59375 6.203125 44.453125 7.46875 \r\nQ 49.3125 8.734375 54.109375 11.28125 \r\nL 54.109375 2.78125 \r\nQ 49.265625 0.734375 44.1875 -0.34375 \r\nQ 39.109375 -1.421875 33.890625 -1.421875 \r\nQ 20.796875 -1.421875 13.15625 6.1875 \r\nQ 5.515625 13.8125 5.515625 26.8125 \r\nQ 5.515625 40.234375 12.765625 48.109375 \r\nQ 20.015625 56 32.328125 56 \r\nQ 43.359375 56 49.78125 48.890625 \r\nQ 56.203125 41.796875 56.203125 29.59375 \r\nz\r\nM 47.21875 32.234375 \r\nQ 47.125 39.59375 43.09375 43.984375 \r\nQ 39.0625 48.390625 32.421875 48.390625 \r\nQ 24.90625 48.390625 20.390625 44.140625 \r\nQ 15.875 39.890625 15.1875 32.171875 \r\nz\r\n\" id=\"DejaVuSans-101\"/>\r\n      <path d=\"M 37.109375 75.984375 \r\nL 37.109375 68.5 \r\nL 28.515625 68.5 \r\nQ 23.6875 68.5 21.796875 66.546875 \r\nQ 19.921875 64.59375 19.921875 59.515625 \r\nL 19.921875 54.6875 \r\nL 34.71875 54.6875 \r\nL 34.71875 47.703125 \r\nL 19.921875 47.703125 \r\nL 19.921875 0 \r\nL 10.890625 0 \r\nL 10.890625 47.703125 \r\nL 2.296875 47.703125 \r\nL 2.296875 54.6875 \r\nL 10.890625 54.6875 \r\nL 10.890625 58.5 \r\nQ 10.890625 67.625 15.140625 71.796875 \r\nQ 19.390625 75.984375 28.609375 75.984375 \r\nz\r\n\" id=\"DejaVuSans-102\"/>\r\n      <path d=\"M 54.890625 54.6875 \r\nL 35.109375 28.078125 \r\nL 55.90625 0 \r\nL 45.3125 0 \r\nL 29.390625 21.484375 \r\nL 13.484375 0 \r\nL 2.875 0 \r\nL 24.125 28.609375 \r\nL 4.6875 54.6875 \r\nL 15.28125 54.6875 \r\nL 29.78125 35.203125 \r\nL 44.28125 54.6875 \r\nz\r\n\" id=\"DejaVuSans-120\"/>\r\n      <path d=\"M 30.609375 48.390625 \r\nQ 23.390625 48.390625 19.1875 42.75 \r\nQ 14.984375 37.109375 14.984375 27.296875 \r\nQ 14.984375 17.484375 19.15625 11.84375 \r\nQ 23.34375 6.203125 30.609375 6.203125 \r\nQ 37.796875 6.203125 41.984375 11.859375 \r\nQ 46.1875 17.53125 46.1875 27.296875 \r\nQ 46.1875 37.015625 41.984375 42.703125 \r\nQ 37.796875 48.390625 30.609375 48.390625 \r\nz\r\nM 30.609375 56 \r\nQ 42.328125 56 49.015625 48.375 \r\nQ 55.71875 40.765625 55.71875 27.296875 \r\nQ 55.71875 13.875 49.015625 6.21875 \r\nQ 42.328125 -1.421875 30.609375 -1.421875 \r\nQ 18.84375 -1.421875 12.171875 6.21875 \r\nQ 5.515625 13.875 5.515625 27.296875 \r\nQ 5.515625 40.765625 12.171875 48.375 \r\nQ 18.84375 56 30.609375 56 \r\nz\r\nM 37.40625 79.984375 \r\nL 47.125 79.984375 \r\nL 31.203125 61.625 \r\nL 23.734375 61.625 \r\nz\r\n\" id=\"DejaVuSans-243\"/>\r\n     </defs>\r\n     <g transform=\"translate(312.434375 38.476563)scale(0.1 -0.1)\">\r\n      <use xlink:href=\"#DejaVuSans-114\"/>\r\n      <use x=\"38.863281\" xlink:href=\"#DejaVuSans-101\"/>\r\n      <use x=\"100.386719\" xlink:href=\"#DejaVuSans-102\"/>\r\n      <use x=\"135.591797\" xlink:href=\"#DejaVuSans-108\"/>\r\n      <use x=\"163.375\" xlink:href=\"#DejaVuSans-101\"/>\r\n      <use x=\"223.148438\" xlink:href=\"#DejaVuSans-120\"/>\r\n      <use x=\"282.328125\" xlink:href=\"#DejaVuSans-105\"/>\r\n      <use x=\"310.111328\" xlink:href=\"#DejaVuSans-243\"/>\r\n      <use x=\"371.292969\" xlink:href=\"#DejaVuSans-110\"/>\r\n     </g>\r\n    </g>\r\n   </g>\r\n  </g>\r\n </g>\r\n <defs>\r\n  <clipPath id=\"p9eeeb1baa4\">\r\n   <rect height=\"217.44\" width=\"334.8\" x=\"30.103125\" y=\"7.2\"/>\r\n  </clipPath>\r\n </defs>\r\n</svg>\r\n",
      "image/png": "[encoded data removed]"
     },
     "metadata": {
      "needs_background": "light"
     }
    }
   ],
   "source": [
    "# Reflectamos en torno a las ordenadas y graficamos\n",
    "punto.reflect('y', True)"
   ]
  },
  {
   "cell_type": "code",
   "execution_count": 52,
   "metadata": {},
   "outputs": [
    {
     "output_type": "execute_result",
     "data": {
      "text/plain": [
       "5.83"
      ]
     },
     "metadata": {},
     "execution_count": 52
    },
    {
     "output_type": "display_data",
     "data": {
      "text/plain": "<Figure size 432x288 with 1 Axes>",
      "image/svg+xml": "<?xml version=\"1.0\" encoding=\"utf-8\" standalone=\"no\"?>\r\n<!DOCTYPE svg PUBLIC \"-//W3C//DTD SVG 1.1//EN\"\r\n  \"http://www.w3.org/Graphics/SVG/1.1/DTD/svg11.dtd\">\r\n<!-- Created with matplotlib (https://matplotlib.org/) -->\r\n<svg height=\"248.518125pt\" version=\"1.1\" viewBox=\"0 0 362.5625 248.518125\" width=\"362.5625pt\" xmlns=\"http://www.w3.org/2000/svg\" xmlns:xlink=\"http://www.w3.org/1999/xlink\">\r\n <defs>\r\n  <style type=\"text/css\">\r\n*{stroke-linecap:butt;stroke-linejoin:round;}\r\n  </style>\r\n </defs>\r\n <g id=\"figure_1\">\r\n  <g id=\"patch_1\">\r\n   <path d=\"M 0 248.518125 \r\nL 362.5625 248.518125 \r\nL 362.5625 0 \r\nL 0 0 \r\nz\r\n\" style=\"fill:none;\"/>\r\n  </g>\r\n  <g id=\"axes_1\">\r\n   <g id=\"patch_2\">\r\n    <path d=\"M 20.5625 224.64 \r\nL 355.3625 224.64 \r\nL 355.3625 7.2 \r\nL 20.5625 7.2 \r\nz\r\n\" style=\"fill:#ffffff;\"/>\r\n   </g>\r\n   <g id=\"matplotlib.axis_1\">\r\n    <g id=\"xtick_1\">\r\n     <g id=\"line2d_1\">\r\n      <defs>\r\n       <path d=\"M 0 0 \r\nL 0 3.5 \r\n\" id=\"md4d91b00f4\" style=\"stroke:#000000;stroke-width:0.8;\"/>\r\n      </defs>\r\n      <g>\r\n       <use style=\"stroke:#000000;stroke-width:0.8;\" x=\"35.780682\" xlink:href=\"#md4d91b00f4\" y=\"224.64\"/>\r\n      </g>\r\n     </g>\r\n     <g id=\"text_1\">\r\n      <!-- −3.0 -->\r\n      <defs>\r\n       <path d=\"M 10.59375 35.5 \r\nL 73.1875 35.5 \r\nL 73.1875 27.203125 \r\nL 10.59375 27.203125 \r\nz\r\n\" id=\"DejaVuSans-8722\"/>\r\n       <path d=\"M 40.578125 39.3125 \r\nQ 47.65625 37.796875 51.625 33 \r\nQ 55.609375 28.21875 55.609375 21.1875 \r\nQ 55.609375 10.40625 48.1875 4.484375 \r\nQ 40.765625 -1.421875 27.09375 -1.421875 \r\nQ 22.515625 -1.421875 17.65625 -0.515625 \r\nQ 12.796875 0.390625 7.625 2.203125 \r\nL 7.625 11.71875 \r\nQ 11.71875 9.328125 16.59375 8.109375 \r\nQ 21.484375 6.890625 26.8125 6.890625 \r\nQ 36.078125 6.890625 40.9375 10.546875 \r\nQ 45.796875 14.203125 45.796875 21.1875 \r\nQ 45.796875 27.640625 41.28125 31.265625 \r\nQ 36.765625 34.90625 28.71875 34.90625 \r\nL 20.21875 34.90625 \r\nL 20.21875 43.015625 \r\nL 29.109375 43.015625 \r\nQ 36.375 43.015625 40.234375 45.921875 \r\nQ 44.09375 48.828125 44.09375 54.296875 \r\nQ 44.09375 59.90625 40.109375 62.90625 \r\nQ 36.140625 65.921875 28.71875 65.921875 \r\nQ 24.65625 65.921875 20.015625 65.03125 \r\nQ 15.375 64.15625 9.8125 62.3125 \r\nL 9.8125 71.09375 \r\nQ 15.4375 72.65625 20.34375 73.4375 \r\nQ 25.25 74.21875 29.59375 74.21875 \r\nQ 40.828125 74.21875 47.359375 69.109375 \r\nQ 53.90625 64.015625 53.90625 55.328125 \r\nQ 53.90625 49.265625 50.4375 45.09375 \r\nQ 46.96875 40.921875 40.578125 39.3125 \r\nz\r\n\" id=\"DejaVuSans-51\"/>\r\n       <path d=\"M 10.6875 12.40625 \r\nL 21 12.40625 \r\nL 21 0 \r\nL 10.6875 0 \r\nz\r\n\" id=\"DejaVuSans-46\"/>\r\n       <path d=\"M 31.78125 66.40625 \r\nQ 24.171875 66.40625 20.328125 58.90625 \r\nQ 16.5 51.421875 16.5 36.375 \r\nQ 16.5 21.390625 20.328125 13.890625 \r\nQ 24.171875 6.390625 31.78125 6.390625 \r\nQ 39.453125 6.390625 43.28125 13.890625 \r\nQ 47.125 21.390625 47.125 36.375 \r\nQ 47.125 51.421875 43.28125 58.90625 \r\nQ 39.453125 66.40625 31.78125 66.40625 \r\nz\r\nM 31.78125 74.21875 \r\nQ 44.046875 74.21875 50.515625 64.515625 \r\nQ 56.984375 54.828125 56.984375 36.375 \r\nQ 56.984375 17.96875 50.515625 8.265625 \r\nQ 44.046875 -1.421875 31.78125 -1.421875 \r\nQ 19.53125 -1.421875 13.0625 8.265625 \r\nQ 6.59375 17.96875 6.59375 36.375 \r\nQ 6.59375 54.828125 13.0625 64.515625 \r\nQ 19.53125 74.21875 31.78125 74.21875 \r\nz\r\n\" id=\"DejaVuSans-48\"/>\r\n      </defs>\r\n      <g transform=\"translate(23.639276 239.238438)scale(0.1 -0.1)\">\r\n       <use xlink:href=\"#DejaVuSans-8722\"/>\r\n       <use x=\"83.789062\" xlink:href=\"#DejaVuSans-51\"/>\r\n       <use x=\"147.412109\" xlink:href=\"#DejaVuSans-46\"/>\r\n       <use x=\"179.199219\" xlink:href=\"#DejaVuSans-48\"/>\r\n      </g>\r\n     </g>\r\n    </g>\r\n    <g id=\"xtick_2\">\r\n     <g id=\"line2d_2\">\r\n      <g>\r\n       <use style=\"stroke:#000000;stroke-width:0.8;\" x=\"86.507955\" xlink:href=\"#md4d91b00f4\" y=\"224.64\"/>\r\n      </g>\r\n     </g>\r\n     <g id=\"text_2\">\r\n      <!-- −2.5 -->\r\n      <defs>\r\n       <path d=\"M 19.1875 8.296875 \r\nL 53.609375 8.296875 \r\nL 53.609375 0 \r\nL 7.328125 0 \r\nL 7.328125 8.296875 \r\nQ 12.9375 14.109375 22.625 23.890625 \r\nQ 32.328125 33.6875 34.8125 36.53125 \r\nQ 39.546875 41.84375 41.421875 45.53125 \r\nQ 43.3125 49.21875 43.3125 52.78125 \r\nQ 43.3125 58.59375 39.234375 62.25 \r\nQ 35.15625 65.921875 28.609375 65.921875 \r\nQ 23.96875 65.921875 18.8125 64.3125 \r\nQ 13.671875 62.703125 7.8125 59.421875 \r\nL 7.8125 69.390625 \r\nQ 13.765625 71.78125 18.9375 73 \r\nQ 24.125 74.21875 28.421875 74.21875 \r\nQ 39.75 74.21875 46.484375 68.546875 \r\nQ 53.21875 62.890625 53.21875 53.421875 \r\nQ 53.21875 48.921875 51.53125 44.890625 \r\nQ 49.859375 40.875 45.40625 35.40625 \r\nQ 44.1875 33.984375 37.640625 27.21875 \r\nQ 31.109375 20.453125 19.1875 8.296875 \r\nz\r\n\" id=\"DejaVuSans-50\"/>\r\n       <path d=\"M 10.796875 72.90625 \r\nL 49.515625 72.90625 \r\nL 49.515625 64.59375 \r\nL 19.828125 64.59375 \r\nL 19.828125 46.734375 \r\nQ 21.96875 47.46875 24.109375 47.828125 \r\nQ 26.265625 48.1875 28.421875 48.1875 \r\nQ 40.625 48.1875 47.75 41.5 \r\nQ 54.890625 34.8125 54.890625 23.390625 \r\nQ 54.890625 11.625 47.5625 5.09375 \r\nQ 40.234375 -1.421875 26.90625 -1.421875 \r\nQ 22.3125 -1.421875 17.546875 -0.640625 \r\nQ 12.796875 0.140625 7.71875 1.703125 \r\nL 7.71875 11.625 \r\nQ 12.109375 9.234375 16.796875 8.0625 \r\nQ 21.484375 6.890625 26.703125 6.890625 \r\nQ 35.15625 6.890625 40.078125 11.328125 \r\nQ 45.015625 15.765625 45.015625 23.390625 \r\nQ 45.015625 31 40.078125 35.4375 \r\nQ 35.15625 39.890625 26.703125 39.890625 \r\nQ 22.75 39.890625 18.8125 39.015625 \r\nQ 14.890625 38.140625 10.796875 36.28125 \r\nz\r\n\" id=\"DejaVuSans-53\"/>\r\n      </defs>\r\n      <g transform=\"translate(74.366548 239.238438)scale(0.1 -0.1)\">\r\n       <use xlink:href=\"#DejaVuSans-8722\"/>\r\n       <use x=\"83.789062\" xlink:href=\"#DejaVuSans-50\"/>\r\n       <use x=\"147.412109\" xlink:href=\"#DejaVuSans-46\"/>\r\n       <use x=\"179.199219\" xlink:href=\"#DejaVuSans-53\"/>\r\n      </g>\r\n     </g>\r\n    </g>\r\n    <g id=\"xtick_3\">\r\n     <g id=\"line2d_3\">\r\n      <g>\r\n       <use style=\"stroke:#000000;stroke-width:0.8;\" x=\"137.235227\" xlink:href=\"#md4d91b00f4\" y=\"224.64\"/>\r\n      </g>\r\n     </g>\r\n     <g id=\"text_3\">\r\n      <!-- −2.0 -->\r\n      <g transform=\"translate(125.093821 239.238438)scale(0.1 -0.1)\">\r\n       <use xlink:href=\"#DejaVuSans-8722\"/>\r\n       <use x=\"83.789062\" xlink:href=\"#DejaVuSans-50\"/>\r\n       <use x=\"147.412109\" xlink:href=\"#DejaVuSans-46\"/>\r\n       <use x=\"179.199219\" xlink:href=\"#DejaVuSans-48\"/>\r\n      </g>\r\n     </g>\r\n    </g>\r\n    <g id=\"xtick_4\">\r\n     <g id=\"line2d_4\">\r\n      <g>\r\n       <use style=\"stroke:#000000;stroke-width:0.8;\" x=\"187.9625\" xlink:href=\"#md4d91b00f4\" y=\"224.64\"/>\r\n      </g>\r\n     </g>\r\n     <g id=\"text_4\">\r\n      <!-- −1.5 -->\r\n      <defs>\r\n       <path d=\"M 12.40625 8.296875 \r\nL 28.515625 8.296875 \r\nL 28.515625 63.921875 \r\nL 10.984375 60.40625 \r\nL 10.984375 69.390625 \r\nL 28.421875 72.90625 \r\nL 38.28125 72.90625 \r\nL 38.28125 8.296875 \r\nL 54.390625 8.296875 \r\nL 54.390625 0 \r\nL 12.40625 0 \r\nz\r\n\" id=\"DejaVuSans-49\"/>\r\n      </defs>\r\n      <g transform=\"translate(175.821094 239.238438)scale(0.1 -0.1)\">\r\n       <use xlink:href=\"#DejaVuSans-8722\"/>\r\n       <use x=\"83.789062\" xlink:href=\"#DejaVuSans-49\"/>\r\n       <use x=\"147.412109\" xlink:href=\"#DejaVuSans-46\"/>\r\n       <use x=\"179.199219\" xlink:href=\"#DejaVuSans-53\"/>\r\n      </g>\r\n     </g>\r\n    </g>\r\n    <g id=\"xtick_5\">\r\n     <g id=\"line2d_5\">\r\n      <g>\r\n       <use style=\"stroke:#000000;stroke-width:0.8;\" x=\"238.689773\" xlink:href=\"#md4d91b00f4\" y=\"224.64\"/>\r\n      </g>\r\n     </g>\r\n     <g id=\"text_5\">\r\n      <!-- −1.0 -->\r\n      <g transform=\"translate(226.548366 239.238438)scale(0.1 -0.1)\">\r\n       <use xlink:href=\"#DejaVuSans-8722\"/>\r\n       <use x=\"83.789062\" xlink:href=\"#DejaVuSans-49\"/>\r\n       <use x=\"147.412109\" xlink:href=\"#DejaVuSans-46\"/>\r\n       <use x=\"179.199219\" xlink:href=\"#DejaVuSans-48\"/>\r\n      </g>\r\n     </g>\r\n    </g>\r\n    <g id=\"xtick_6\">\r\n     <g id=\"line2d_6\">\r\n      <g>\r\n       <use style=\"stroke:#000000;stroke-width:0.8;\" x=\"289.417045\" xlink:href=\"#md4d91b00f4\" y=\"224.64\"/>\r\n      </g>\r\n     </g>\r\n     <g id=\"text_6\">\r\n      <!-- −0.5 -->\r\n      <g transform=\"translate(277.275639 239.238438)scale(0.1 -0.1)\">\r\n       <use xlink:href=\"#DejaVuSans-8722\"/>\r\n       <use x=\"83.789062\" xlink:href=\"#DejaVuSans-48\"/>\r\n       <use x=\"147.412109\" xlink:href=\"#DejaVuSans-46\"/>\r\n       <use x=\"179.199219\" xlink:href=\"#DejaVuSans-53\"/>\r\n      </g>\r\n     </g>\r\n    </g>\r\n    <g id=\"xtick_7\">\r\n     <g id=\"line2d_7\">\r\n      <g>\r\n       <use style=\"stroke:#000000;stroke-width:0.8;\" x=\"340.144318\" xlink:href=\"#md4d91b00f4\" y=\"224.64\"/>\r\n      </g>\r\n     </g>\r\n     <g id=\"text_7\">\r\n      <!-- 0.0 -->\r\n      <g transform=\"translate(332.192756 239.238438)scale(0.1 -0.1)\">\r\n       <use xlink:href=\"#DejaVuSans-48\"/>\r\n       <use x=\"63.623047\" xlink:href=\"#DejaVuSans-46\"/>\r\n       <use x=\"95.410156\" xlink:href=\"#DejaVuSans-48\"/>\r\n      </g>\r\n     </g>\r\n    </g>\r\n   </g>\r\n   <g id=\"matplotlib.axis_2\">\r\n    <g id=\"ytick_1\">\r\n     <g id=\"line2d_8\">\r\n      <defs>\r\n       <path d=\"M 0 0 \r\nL -3.5 0 \r\n\" id=\"mdce0cf110c\" style=\"stroke:#000000;stroke-width:0.8;\"/>\r\n      </defs>\r\n      <g>\r\n       <use style=\"stroke:#000000;stroke-width:0.8;\" x=\"20.5625\" xlink:href=\"#mdce0cf110c\" y=\"214.756364\"/>\r\n      </g>\r\n     </g>\r\n     <g id=\"text_8\">\r\n      <!-- 0 -->\r\n      <g transform=\"translate(7.2 218.555582)scale(0.1 -0.1)\">\r\n       <use xlink:href=\"#DejaVuSans-48\"/>\r\n      </g>\r\n     </g>\r\n    </g>\r\n    <g id=\"ytick_2\">\r\n     <g id=\"line2d_9\">\r\n      <g>\r\n       <use style=\"stroke:#000000;stroke-width:0.8;\" x=\"20.5625\" xlink:href=\"#mdce0cf110c\" y=\"175.221818\"/>\r\n      </g>\r\n     </g>\r\n     <g id=\"text_9\">\r\n      <!-- 1 -->\r\n      <g transform=\"translate(7.2 179.021037)scale(0.1 -0.1)\">\r\n       <use xlink:href=\"#DejaVuSans-49\"/>\r\n      </g>\r\n     </g>\r\n    </g>\r\n    <g id=\"ytick_3\">\r\n     <g id=\"line2d_10\">\r\n      <g>\r\n       <use style=\"stroke:#000000;stroke-width:0.8;\" x=\"20.5625\" xlink:href=\"#mdce0cf110c\" y=\"135.687273\"/>\r\n      </g>\r\n     </g>\r\n     <g id=\"text_10\">\r\n      <!-- 2 -->\r\n      <g transform=\"translate(7.2 139.486491)scale(0.1 -0.1)\">\r\n       <use xlink:href=\"#DejaVuSans-50\"/>\r\n      </g>\r\n     </g>\r\n    </g>\r\n    <g id=\"ytick_4\">\r\n     <g id=\"line2d_11\">\r\n      <g>\r\n       <use style=\"stroke:#000000;stroke-width:0.8;\" x=\"20.5625\" xlink:href=\"#mdce0cf110c\" y=\"96.152727\"/>\r\n      </g>\r\n     </g>\r\n     <g id=\"text_11\">\r\n      <!-- 3 -->\r\n      <g transform=\"translate(7.2 99.951946)scale(0.1 -0.1)\">\r\n       <use xlink:href=\"#DejaVuSans-51\"/>\r\n      </g>\r\n     </g>\r\n    </g>\r\n    <g id=\"ytick_5\">\r\n     <g id=\"line2d_12\">\r\n      <g>\r\n       <use style=\"stroke:#000000;stroke-width:0.8;\" x=\"20.5625\" xlink:href=\"#mdce0cf110c\" y=\"56.618182\"/>\r\n      </g>\r\n     </g>\r\n     <g id=\"text_12\">\r\n      <!-- 4 -->\r\n      <defs>\r\n       <path d=\"M 37.796875 64.3125 \r\nL 12.890625 25.390625 \r\nL 37.796875 25.390625 \r\nz\r\nM 35.203125 72.90625 \r\nL 47.609375 72.90625 \r\nL 47.609375 25.390625 \r\nL 58.015625 25.390625 \r\nL 58.015625 17.1875 \r\nL 47.609375 17.1875 \r\nL 47.609375 0 \r\nL 37.796875 0 \r\nL 37.796875 17.1875 \r\nL 4.890625 17.1875 \r\nL 4.890625 26.703125 \r\nz\r\n\" id=\"DejaVuSans-52\"/>\r\n      </defs>\r\n      <g transform=\"translate(7.2 60.417401)scale(0.1 -0.1)\">\r\n       <use xlink:href=\"#DejaVuSans-52\"/>\r\n      </g>\r\n     </g>\r\n    </g>\r\n    <g id=\"ytick_6\">\r\n     <g id=\"line2d_13\">\r\n      <g>\r\n       <use style=\"stroke:#000000;stroke-width:0.8;\" x=\"20.5625\" xlink:href=\"#mdce0cf110c\" y=\"17.083636\"/>\r\n      </g>\r\n     </g>\r\n     <g id=\"text_13\">\r\n      <!-- 5 -->\r\n      <g transform=\"translate(7.2 20.882855)scale(0.1 -0.1)\">\r\n       <use xlink:href=\"#DejaVuSans-53\"/>\r\n      </g>\r\n     </g>\r\n    </g>\r\n   </g>\r\n   <g id=\"line2d_14\">\r\n    <path clip-path=\"url(#pb78c81dc4f)\" d=\"M 35.780682 17.083636 \r\nL 340.144318 214.756364 \r\n\" style=\"fill:none;stroke:#808080;stroke-linecap:square;stroke-width:1.5;\"/>\r\n   </g>\r\n   <g id=\"line2d_15\">\r\n    <path clip-path=\"url(#pb78c81dc4f)\" d=\"M 35.780682 17.083636 \r\n\" style=\"fill:none;stroke:#ff0000;stroke-linecap:square;stroke-width:1.5;\"/>\r\n    <defs>\r\n     <path d=\"M -3 3 \r\nL 3 -3 \r\nM -3 -3 \r\nL 3 3 \r\n\" id=\"m47018f541e\" style=\"stroke:#ff0000;\"/>\r\n    </defs>\r\n    <g clip-path=\"url(#pb78c81dc4f)\">\r\n     <use style=\"fill:#ff0000;stroke:#ff0000;\" x=\"35.780682\" xlink:href=\"#m47018f541e\" y=\"17.083636\"/>\r\n    </g>\r\n   </g>\r\n   <g id=\"patch_3\">\r\n    <path d=\"M 20.5625 224.64 \r\nL 20.5625 7.2 \r\n\" style=\"fill:none;stroke:#000000;stroke-linecap:square;stroke-linejoin:miter;stroke-width:0.8;\"/>\r\n   </g>\r\n   <g id=\"patch_4\">\r\n    <path d=\"M 355.3625 224.64 \r\nL 355.3625 7.2 \r\n\" style=\"fill:none;stroke:#000000;stroke-linecap:square;stroke-linejoin:miter;stroke-width:0.8;\"/>\r\n   </g>\r\n   <g id=\"patch_5\">\r\n    <path d=\"M 20.5625 224.64 \r\nL 355.3625 224.64 \r\n\" style=\"fill:none;stroke:#000000;stroke-linecap:square;stroke-linejoin:miter;stroke-width:0.8;\"/>\r\n   </g>\r\n   <g id=\"patch_6\">\r\n    <path d=\"M 20.5625 7.2 \r\nL 355.3625 7.2 \r\n\" style=\"fill:none;stroke:#000000;stroke-linecap:square;stroke-linejoin:miter;stroke-width:0.8;\"/>\r\n   </g>\r\n   <g id=\"legend_1\">\r\n    <g id=\"patch_7\">\r\n     <path d=\"M 271.235937 44.55625 \r\nL 348.3625 44.55625 \r\nQ 350.3625 44.55625 350.3625 42.55625 \r\nL 350.3625 14.2 \r\nQ 350.3625 12.2 348.3625 12.2 \r\nL 271.235937 12.2 \r\nQ 269.235937 12.2 269.235937 14.2 \r\nL 269.235937 42.55625 \r\nQ 269.235937 44.55625 271.235937 44.55625 \r\nz\r\n\" style=\"fill:#ffffff;opacity:0.8;stroke:#cccccc;stroke-linejoin:miter;\"/>\r\n    </g>\r\n    <g id=\"line2d_16\">\r\n     <path d=\"M 273.235937 20.298437 \r\nL 293.235937 20.298437 \r\n\" style=\"fill:none;stroke:#808080;stroke-linecap:square;stroke-width:1.5;\"/>\r\n    </g>\r\n    <g id=\"line2d_17\"/>\r\n    <g id=\"text_14\">\r\n     <!-- distancia -->\r\n     <defs>\r\n      <path d=\"M 45.40625 46.390625 \r\nL 45.40625 75.984375 \r\nL 54.390625 75.984375 \r\nL 54.390625 0 \r\nL 45.40625 0 \r\nL 45.40625 8.203125 \r\nQ 42.578125 3.328125 38.25 0.953125 \r\nQ 33.9375 -1.421875 27.875 -1.421875 \r\nQ 17.96875 -1.421875 11.734375 6.484375 \r\nQ 5.515625 14.40625 5.515625 27.296875 \r\nQ 5.515625 40.1875 11.734375 48.09375 \r\nQ 17.96875 56 27.875 56 \r\nQ 33.9375 56 38.25 53.625 \r\nQ 42.578125 51.265625 45.40625 46.390625 \r\nz\r\nM 14.796875 27.296875 \r\nQ 14.796875 17.390625 18.875 11.75 \r\nQ 22.953125 6.109375 30.078125 6.109375 \r\nQ 37.203125 6.109375 41.296875 11.75 \r\nQ 45.40625 17.390625 45.40625 27.296875 \r\nQ 45.40625 37.203125 41.296875 42.84375 \r\nQ 37.203125 48.484375 30.078125 48.484375 \r\nQ 22.953125 48.484375 18.875 42.84375 \r\nQ 14.796875 37.203125 14.796875 27.296875 \r\nz\r\n\" id=\"DejaVuSans-100\"/>\r\n      <path d=\"M 9.421875 54.6875 \r\nL 18.40625 54.6875 \r\nL 18.40625 0 \r\nL 9.421875 0 \r\nz\r\nM 9.421875 75.984375 \r\nL 18.40625 75.984375 \r\nL 18.40625 64.59375 \r\nL 9.421875 64.59375 \r\nz\r\n\" id=\"DejaVuSans-105\"/>\r\n      <path d=\"M 44.28125 53.078125 \r\nL 44.28125 44.578125 \r\nQ 40.484375 46.53125 36.375 47.5 \r\nQ 32.28125 48.484375 27.875 48.484375 \r\nQ 21.1875 48.484375 17.84375 46.4375 \r\nQ 14.5 44.390625 14.5 40.28125 \r\nQ 14.5 37.15625 16.890625 35.375 \r\nQ 19.28125 33.59375 26.515625 31.984375 \r\nL 29.59375 31.296875 \r\nQ 39.15625 29.25 43.1875 25.515625 \r\nQ 47.21875 21.78125 47.21875 15.09375 \r\nQ 47.21875 7.46875 41.1875 3.015625 \r\nQ 35.15625 -1.421875 24.609375 -1.421875 \r\nQ 20.21875 -1.421875 15.453125 -0.5625 \r\nQ 10.6875 0.296875 5.421875 2 \r\nL 5.421875 11.28125 \r\nQ 10.40625 8.6875 15.234375 7.390625 \r\nQ 20.0625 6.109375 24.8125 6.109375 \r\nQ 31.15625 6.109375 34.5625 8.28125 \r\nQ 37.984375 10.453125 37.984375 14.40625 \r\nQ 37.984375 18.0625 35.515625 20.015625 \r\nQ 33.0625 21.96875 24.703125 23.78125 \r\nL 21.578125 24.515625 \r\nQ 13.234375 26.265625 9.515625 29.90625 \r\nQ 5.8125 33.546875 5.8125 39.890625 \r\nQ 5.8125 47.609375 11.28125 51.796875 \r\nQ 16.75 56 26.8125 56 \r\nQ 31.78125 56 36.171875 55.265625 \r\nQ 40.578125 54.546875 44.28125 53.078125 \r\nz\r\n\" id=\"DejaVuSans-115\"/>\r\n      <path d=\"M 18.3125 70.21875 \r\nL 18.3125 54.6875 \r\nL 36.8125 54.6875 \r\nL 36.8125 47.703125 \r\nL 18.3125 47.703125 \r\nL 18.3125 18.015625 \r\nQ 18.3125 11.328125 20.140625 9.421875 \r\nQ 21.96875 7.515625 27.59375 7.515625 \r\nL 36.8125 7.515625 \r\nL 36.8125 0 \r\nL 27.59375 0 \r\nQ 17.1875 0 13.234375 3.875 \r\nQ 9.28125 7.765625 9.28125 18.015625 \r\nL 9.28125 47.703125 \r\nL 2.6875 47.703125 \r\nL 2.6875 54.6875 \r\nL 9.28125 54.6875 \r\nL 9.28125 70.21875 \r\nz\r\n\" id=\"DejaVuSans-116\"/>\r\n      <path d=\"M 34.28125 27.484375 \r\nQ 23.390625 27.484375 19.1875 25 \r\nQ 14.984375 22.515625 14.984375 16.5 \r\nQ 14.984375 11.71875 18.140625 8.90625 \r\nQ 21.296875 6.109375 26.703125 6.109375 \r\nQ 34.1875 6.109375 38.703125 11.40625 \r\nQ 43.21875 16.703125 43.21875 25.484375 \r\nL 43.21875 27.484375 \r\nz\r\nM 52.203125 31.203125 \r\nL 52.203125 0 \r\nL 43.21875 0 \r\nL 43.21875 8.296875 \r\nQ 40.140625 3.328125 35.546875 0.953125 \r\nQ 30.953125 -1.421875 24.3125 -1.421875 \r\nQ 15.921875 -1.421875 10.953125 3.296875 \r\nQ 6 8.015625 6 15.921875 \r\nQ 6 25.140625 12.171875 29.828125 \r\nQ 18.359375 34.515625 30.609375 34.515625 \r\nL 43.21875 34.515625 \r\nL 43.21875 35.40625 \r\nQ 43.21875 41.609375 39.140625 45 \r\nQ 35.0625 48.390625 27.6875 48.390625 \r\nQ 23 48.390625 18.546875 47.265625 \r\nQ 14.109375 46.140625 10.015625 43.890625 \r\nL 10.015625 52.203125 \r\nQ 14.9375 54.109375 19.578125 55.046875 \r\nQ 24.21875 56 28.609375 56 \r\nQ 40.484375 56 46.34375 49.84375 \r\nQ 52.203125 43.703125 52.203125 31.203125 \r\nz\r\n\" id=\"DejaVuSans-97\"/>\r\n      <path d=\"M 54.890625 33.015625 \r\nL 54.890625 0 \r\nL 45.90625 0 \r\nL 45.90625 32.71875 \r\nQ 45.90625 40.484375 42.875 44.328125 \r\nQ 39.84375 48.1875 33.796875 48.1875 \r\nQ 26.515625 48.1875 22.3125 43.546875 \r\nQ 18.109375 38.921875 18.109375 30.90625 \r\nL 18.109375 0 \r\nL 9.078125 0 \r\nL 9.078125 54.6875 \r\nL 18.109375 54.6875 \r\nL 18.109375 46.1875 \r\nQ 21.34375 51.125 25.703125 53.5625 \r\nQ 30.078125 56 35.796875 56 \r\nQ 45.21875 56 50.046875 50.171875 \r\nQ 54.890625 44.34375 54.890625 33.015625 \r\nz\r\n\" id=\"DejaVuSans-110\"/>\r\n      <path d=\"M 48.78125 52.59375 \r\nL 48.78125 44.1875 \r\nQ 44.96875 46.296875 41.140625 47.34375 \r\nQ 37.3125 48.390625 33.40625 48.390625 \r\nQ 24.65625 48.390625 19.8125 42.84375 \r\nQ 14.984375 37.3125 14.984375 27.296875 \r\nQ 14.984375 17.28125 19.8125 11.734375 \r\nQ 24.65625 6.203125 33.40625 6.203125 \r\nQ 37.3125 6.203125 41.140625 7.25 \r\nQ 44.96875 8.296875 48.78125 10.40625 \r\nL 48.78125 2.09375 \r\nQ 45.015625 0.34375 40.984375 -0.53125 \r\nQ 36.96875 -1.421875 32.421875 -1.421875 \r\nQ 20.0625 -1.421875 12.78125 6.34375 \r\nQ 5.515625 14.109375 5.515625 27.296875 \r\nQ 5.515625 40.671875 12.859375 48.328125 \r\nQ 20.21875 56 33.015625 56 \r\nQ 37.15625 56 41.109375 55.140625 \r\nQ 45.0625 54.296875 48.78125 52.59375 \r\nz\r\n\" id=\"DejaVuSans-99\"/>\r\n     </defs>\r\n     <g transform=\"translate(301.235937 23.798437)scale(0.1 -0.1)\">\r\n      <use xlink:href=\"#DejaVuSans-100\"/>\r\n      <use x=\"63.476562\" xlink:href=\"#DejaVuSans-105\"/>\r\n      <use x=\"91.259766\" xlink:href=\"#DejaVuSans-115\"/>\r\n      <use x=\"143.359375\" xlink:href=\"#DejaVuSans-116\"/>\r\n      <use x=\"182.568359\" xlink:href=\"#DejaVuSans-97\"/>\r\n      <use x=\"243.847656\" xlink:href=\"#DejaVuSans-110\"/>\r\n      <use x=\"307.226562\" xlink:href=\"#DejaVuSans-99\"/>\r\n      <use x=\"362.207031\" xlink:href=\"#DejaVuSans-105\"/>\r\n      <use x=\"389.990234\" xlink:href=\"#DejaVuSans-97\"/>\r\n     </g>\r\n    </g>\r\n    <g id=\"line2d_18\">\r\n     <path d=\"M 273.235937 34.976562 \r\nL 293.235937 34.976562 \r\n\" style=\"fill:none;stroke:#ff0000;stroke-linecap:square;stroke-width:1.5;\"/>\r\n    </g>\r\n    <g id=\"line2d_19\">\r\n     <g>\r\n      <use style=\"fill:#ff0000;stroke:#ff0000;\" x=\"283.235937\" xlink:href=\"#m47018f541e\" y=\"34.976562\"/>\r\n     </g>\r\n    </g>\r\n    <g id=\"text_15\">\r\n     <!-- punto -->\r\n     <defs>\r\n      <path d=\"M 18.109375 8.203125 \r\nL 18.109375 -20.796875 \r\nL 9.078125 -20.796875 \r\nL 9.078125 54.6875 \r\nL 18.109375 54.6875 \r\nL 18.109375 46.390625 \r\nQ 20.953125 51.265625 25.265625 53.625 \r\nQ 29.59375 56 35.59375 56 \r\nQ 45.5625 56 51.78125 48.09375 \r\nQ 58.015625 40.1875 58.015625 27.296875 \r\nQ 58.015625 14.40625 51.78125 6.484375 \r\nQ 45.5625 -1.421875 35.59375 -1.421875 \r\nQ 29.59375 -1.421875 25.265625 0.953125 \r\nQ 20.953125 3.328125 18.109375 8.203125 \r\nz\r\nM 48.6875 27.296875 \r\nQ 48.6875 37.203125 44.609375 42.84375 \r\nQ 40.53125 48.484375 33.40625 48.484375 \r\nQ 26.265625 48.484375 22.1875 42.84375 \r\nQ 18.109375 37.203125 18.109375 27.296875 \r\nQ 18.109375 17.390625 22.1875 11.75 \r\nQ 26.265625 6.109375 33.40625 6.109375 \r\nQ 40.53125 6.109375 44.609375 11.75 \r\nQ 48.6875 17.390625 48.6875 27.296875 \r\nz\r\n\" id=\"DejaVuSans-112\"/>\r\n      <path d=\"M 8.5 21.578125 \r\nL 8.5 54.6875 \r\nL 17.484375 54.6875 \r\nL 17.484375 21.921875 \r\nQ 17.484375 14.15625 20.5 10.265625 \r\nQ 23.53125 6.390625 29.59375 6.390625 \r\nQ 36.859375 6.390625 41.078125 11.03125 \r\nQ 45.3125 15.671875 45.3125 23.6875 \r\nL 45.3125 54.6875 \r\nL 54.296875 54.6875 \r\nL 54.296875 0 \r\nL 45.3125 0 \r\nL 45.3125 8.40625 \r\nQ 42.046875 3.421875 37.71875 1 \r\nQ 33.40625 -1.421875 27.6875 -1.421875 \r\nQ 18.265625 -1.421875 13.375 4.4375 \r\nQ 8.5 10.296875 8.5 21.578125 \r\nz\r\nM 31.109375 56 \r\nz\r\n\" id=\"DejaVuSans-117\"/>\r\n      <path d=\"M 30.609375 48.390625 \r\nQ 23.390625 48.390625 19.1875 42.75 \r\nQ 14.984375 37.109375 14.984375 27.296875 \r\nQ 14.984375 17.484375 19.15625 11.84375 \r\nQ 23.34375 6.203125 30.609375 6.203125 \r\nQ 37.796875 6.203125 41.984375 11.859375 \r\nQ 46.1875 17.53125 46.1875 27.296875 \r\nQ 46.1875 37.015625 41.984375 42.703125 \r\nQ 37.796875 48.390625 30.609375 48.390625 \r\nz\r\nM 30.609375 56 \r\nQ 42.328125 56 49.015625 48.375 \r\nQ 55.71875 40.765625 55.71875 27.296875 \r\nQ 55.71875 13.875 49.015625 6.21875 \r\nQ 42.328125 -1.421875 30.609375 -1.421875 \r\nQ 18.84375 -1.421875 12.171875 6.21875 \r\nQ 5.515625 13.875 5.515625 27.296875 \r\nQ 5.515625 40.765625 12.171875 48.375 \r\nQ 18.84375 56 30.609375 56 \r\nz\r\n\" id=\"DejaVuSans-111\"/>\r\n     </defs>\r\n     <g transform=\"translate(301.235937 38.476562)scale(0.1 -0.1)\">\r\n      <use xlink:href=\"#DejaVuSans-112\"/>\r\n      <use x=\"63.476562\" xlink:href=\"#DejaVuSans-117\"/>\r\n      <use x=\"126.855469\" xlink:href=\"#DejaVuSans-110\"/>\r\n      <use x=\"190.234375\" xlink:href=\"#DejaVuSans-116\"/>\r\n      <use x=\"229.443359\" xlink:href=\"#DejaVuSans-111\"/>\r\n     </g>\r\n    </g>\r\n   </g>\r\n  </g>\r\n </g>\r\n <defs>\r\n  <clipPath id=\"pb78c81dc4f\">\r\n   <rect height=\"217.44\" width=\"334.8\" x=\"20.5625\" y=\"7.2\"/>\r\n  </clipPath>\r\n </defs>\r\n</svg>\r\n",
      "image/png": "[encoded data removed]"
     },
     "metadata": {
      "needs_background": "light"
     }
    }
   ],
   "source": [
    "# Obtenemos el valor de la distancia al origen y graficamos nuevamente\n",
    "punto.distance_to_origin(True)"
   ]
  },
  {
   "source": [
    "### ¡Funciona!"
   ],
   "cell_type": "markdown",
   "metadata": {}
  },
  {
   "source": [
    "## Instancias y datos de clase\n",
    "\n",
    "Ahora conocemos los conceptos básicos para crear clases. Es posible que nos preguntemos: las clases están ordenadas, pero <b>¿cómo ayudan exactamente a mejorar nuestro código?</b>\n",
    "\n",
    "En este capítulo, aprenderemos sobre herencia y polimorfismo, que junto con la encapsulación, forman los principios básicos de la programación orientada a objetos:\n",
    "\n",
    "- Herencia.\n",
    "\n",
    "    - Extender funcionalidad del código existente.\n",
    "\n",
    "- Polimorfismo.\n",
    "\n",
    "    - Crear una interfaz unificada.\n",
    "\n",
    "- Encapsulación.\n",
    "\n",
    "    - Empaquetando los datos con los métodos.\n",
    "\n",
    "Aunque, antes de entrar a eso, necesitamos aprender a distinguir entre datos a nivel de instancia y datos a nivel de clase.\n",
    "\n",
    "## Datos a nivel de instancia\n",
    "\n",
    "Recordemos la clase de empleado que definimos en el capítulo anterior. Tenía atributos como nombre y salario, y pudimos asignarles valores específicos para cada nueva instancia de la clase."
   ],
   "cell_type": "markdown",
   "metadata": {}
  },
  {
   "cell_type": "code",
   "execution_count": 53,
   "metadata": {},
   "outputs": [
    {
     "output_type": "stream",
     "name": "stdout",
     "text": [
      "Korel Rossi has a salary of 0\n"
     ]
    }
   ],
   "source": [
    "print(emp.name + ' has a salary of ' + '{}'.format(emp.salary))"
   ]
  },
  {
   "source": [
    "Estos datos eran atributos de instancia:\n",
    "\n",
    "- ```name```.\n",
    "\n",
    "- ```salary```.\n",
    "\n",
    "Usamos ```self``` para vincularlos a una instancia particular. \n",
    "\n",
    "## Datos a nivel de clase\n",
    "\n",
    "Pero, ¿qué pasa si necesitamos almacenar algunos datos que se comparten entre todas las instancias de una clase?\n",
    "\n",
    "Allí es cuando definimos datos a nivel de clase: variables compartidas entre todas las instancias particulares de una clase.\n",
    "\n",
    "Por ejemplo, si deséaramos introducir un salario mínimo en toda la organización.\n",
    "\n",
    "Esos datos no deberían diferir entre instancias de objetos.\n",
    "\n",
    "En este sentido, y para definir un atributo que se comparta en todas las instancias, podemos definirlo directamente en cuerpo de esa clase:"
   ],
   "cell_type": "markdown",
   "metadata": {}
  },
  {
   "cell_type": "code",
   "execution_count": 54,
   "metadata": {},
   "outputs": [
    {
     "output_type": "error",
     "ename": "NameError",
     "evalue": "name 'attr_value' is not defined",
     "traceback": [
      "\u001b[1;31m---------------------------------------------------------------------------\u001b[0m",
      "\u001b[1;31mNameError\u001b[0m                                 Traceback (most recent call last)",
      "\u001b[1;32m<ipython-input-54-0c6ebda4a867>\u001b[0m in \u001b[0;36m<module>\u001b[1;34m\u001b[0m\n\u001b[1;32m----> 1\u001b[1;33m \u001b[1;32mclass\u001b[0m \u001b[0mMyClass\u001b[0m\u001b[1;33m:\u001b[0m\u001b[1;33m\u001b[0m\u001b[1;33m\u001b[0m\u001b[0m\n\u001b[0m\u001b[0;32m      2\u001b[0m     \u001b[1;31m# Define a class attribute\u001b[0m\u001b[1;33m\u001b[0m\u001b[1;33m\u001b[0m\u001b[1;33m\u001b[0m\u001b[0m\n\u001b[0;32m      3\u001b[0m     \u001b[0mCLASS_ATTR_NAME\u001b[0m \u001b[1;33m=\u001b[0m \u001b[0mattr_value\u001b[0m\u001b[1;33m\u001b[0m\u001b[1;33m\u001b[0m\u001b[0m\n",
      "\u001b[1;32m<ipython-input-54-0c6ebda4a867>\u001b[0m in \u001b[0;36mMyClass\u001b[1;34m()\u001b[0m\n\u001b[0;32m      1\u001b[0m \u001b[1;32mclass\u001b[0m \u001b[0mMyClass\u001b[0m\u001b[1;33m:\u001b[0m\u001b[1;33m\u001b[0m\u001b[1;33m\u001b[0m\u001b[0m\n\u001b[0;32m      2\u001b[0m     \u001b[1;31m# Define a class attribute\u001b[0m\u001b[1;33m\u001b[0m\u001b[1;33m\u001b[0m\u001b[1;33m\u001b[0m\u001b[0m\n\u001b[1;32m----> 3\u001b[1;33m     \u001b[0mCLASS_ATTR_NAME\u001b[0m \u001b[1;33m=\u001b[0m \u001b[0mattr_value\u001b[0m\u001b[1;33m\u001b[0m\u001b[1;33m\u001b[0m\u001b[0m\n\u001b[0m",
      "\u001b[1;31mNameError\u001b[0m: name 'attr_value' is not defined"
     ]
    }
   ],
   "source": [
    "class MyClass:\n",
    "    # Define a class attribute\n",
    "    CLASS_ATTR_NAME = attr_value"
   ]
  },
  {
   "source": [
    "Esto creará un atributo de clase, que servirá como una ```variable global``` dentro de una clase.\n",
    "\n",
    "Por ejemplo, podemos definir en el cuerpo de la clase ```MIN_SALARY``` y establecerlo en 30000. De esta forma:\n",
    "\n",
    "- La variable ```MIN_SALARY``` se compartirá alrededor de todas las instancias de la clase."
   ],
   "cell_type": "markdown",
   "metadata": {}
  },
  {
   "cell_type": "code",
   "execution_count": 61,
   "metadata": {},
   "outputs": [],
   "source": [
    "class Employee:\n",
    "    MIN_SALARY = 30000 #<-- no self"
   ]
  },
  {
   "source": [
    "Podemos usar este atributo dentro de la clase, como usaríamos cualquier variable global, solo precedida por el nombre de la clase: por ejemplo, a continuación verificaremos si el valor del atributo ```salary``` es mayor que ```MIN_SALARY``` en el método ```__init__```."
   ],
   "cell_type": "markdown",
   "metadata": {}
  },
  {
   "cell_type": "code",
   "execution_count": 66,
   "metadata": {},
   "outputs": [],
   "source": [
    "class Employee:\n",
    "    # Define a class attribute\n",
    "    MIN_SALARY = 30000 #<-- no self\n",
    "    def __init__(self, name, salary):\n",
    "        self.name = name\n",
    "        if salary >= Employee.MIN_SALARY:\n",
    "            self.salary = salary\n",
    "        else:\n",
    "            print('Salario por debajo del mínimo. Estableciendo salario de {} a ${}.'.format(self.name, Employee.MIN_SALARY))\n",
    "            self.salary = Employee.MIN_SALARY\n",
    "        "
   ]
  },
  {
   "cell_type": "code",
   "execution_count": 67,
   "metadata": {},
   "outputs": [
    {
     "output_type": "stream",
     "name": "stdout",
     "text": [
      "Salario por debajo del mínimo. Estableciendo salario de Alejandro a $30000.\n"
     ]
    }
   ],
   "source": [
    "emp = Employee('Alejandro', 15000)"
   ]
  },
  {
   "source": [
    "Notar que, para definir ```atributos de clase``` (que sean compartidas en todas las instancias particulares), debemos:\n",
    "\n",
    "- No usar ```self``` para definir un atributo de clase.\n",
    "\n",
    "- Usamos el nombre de la clase en lugar de ```self``` cuando se refiera al atributo. Por ejemplo, si la clase fuera ```Clase``` y el atributo de clase ```ATRIBUTO```, usamos ```Clase.ATRIBUTO```.\n",
    "\n",
    "La variable de la clase ```Employee``` se compartirá entre todas sus instancias, como podemos ver a continuación."
   ],
   "cell_type": "markdown",
   "metadata": {}
  },
  {
   "cell_type": "code",
   "execution_count": 69,
   "metadata": {},
   "outputs": [
    {
     "output_type": "stream",
     "name": "stdout",
     "text": [
      "30000 30000\n"
     ]
    }
   ],
   "source": [
    "emp1 = Employee('Juan', 31000)\n",
    "emp2 = Employee('Alejandro', 60000)\n",
    "print(emp1.MIN_SALARY, emp2.MIN_SALARY)"
   ]
  },
  {
   "source": [
    "En este sentido, podemos acceder a el atributo de clase como cualquier otro desde una instancia de objeto, y el valor será el mismo en todas las instancias de una clase determinada.\n",
    "\n",
    "## ¿Por qué usar atributos de clase?\n",
    "\n",
    "Entonces, el caso de uso principal para los atributos de clase son las constantes globales relacionadas con la clase. Por ejemplo:\n",
    "\n",
    "- Valores mínimos o máximos.\n",
    "\n",
    "    - Como:\n",
    "\n",
    "        - El atributo ```min_salary``` de la clase ```Employee```.\n",
    "\n",
    "        - Si tuviéramos definida una clase ```Circulo```, podría almacenar ```pi``` como un atributo de clase.\n",
    "\n",
    "## Métodos de clase\n",
    "\n",
    "¿Qué pasa con los métodos?\n",
    "\n",
    "- Los métodos ya 'comparten' código para cada instancia.\n",
    "\n",
    "Los métodos regulares ya se comparten entre instancias: se ejecuta el mismo código para cada instancia.\n",
    "\n",
    "La única diferencia son los datos que se introducen en ellos.\n",
    "\n",
    "Es posible definir métodos vinculados a una clase en lugar de una instancia, pero tienen un alcance de aplicación limitado, porque estos métodos no podrán utilizar ningún dato a nivel de instancia:\n",
    "\n",
    "- Los métodos de clase no pueden usar datos a nivel de instancia.\n"
   ],
   "cell_type": "markdown",
   "metadata": {}
  },
  {
   "source": [
    "Para definir un método de clase, comienza con un decorador de método de clase ```@```, seguido de una definición de método."
   ],
   "cell_type": "markdown",
   "metadata": {}
  },
  {
   "cell_type": "code",
   "execution_count": 75,
   "metadata": {},
   "outputs": [],
   "source": [
    "class MyClass:\n",
    "\n",
    "    @classmethod #<- use decorator to declare a class method\n",
    "    def my_awesome_method(cls): #<- cls argument refers to the class\n",
    "        # do stuff here\n",
    "        # can't use any instance attributes :(\n",
    "            pass"
   ]
  },
  {
   "source": [
    "La única diferencia es que el primer argumento no es ```self```, sino ```cls```, refiriéndose a la clase, al igual que el argumento ```self``` es una referencia a una instancia particular:\n",
    "\n",
    "- Con ```cls``` hacemos referencia a la clase (método de clase).\n",
    "\n",
    "- Con ```self``` hacemos referencia a una instancia particular.\n",
    "\n",
    "Luego, lo escribimos como cualquier otra función, teniendo en cuenta que no podemos hacer referencia a ningún atributo de instancia en ese método.\n",
    "\n",
    "Para llamar a un método de clase, usamos la sintaxis de:\n",
    "\n",
    "``` MyClass.my_awesome_method(args...) ```\n",
    "\n",
    "En lugar de la sintaxis de método:\n",
    "\n",
    "``` MyObject.my_awesome_method(args...) ```\n",
    "\n",
    "Entonces... ¿Por qué necesitaríamos métodos de clase?\n",
    "\n",
    "## Constructores alternativos\n",
    "\n",
    "El caso de uso principal son los constructores alternativos.\n",
    "\n",
    "Una clase solo puede tener un método de inicio:\n",
    "\n",
    "- Solo un constructor ```__init()__``` por clase.\n",
    "\n",
    "¡Pero puede haber varias formas de inicializar un objeto!\n",
    "\n"
   ],
   "cell_type": "markdown",
   "metadata": {}
  },
  {
   "cell_type": "code",
   "execution_count": 76,
   "metadata": {},
   "outputs": [],
   "source": [
    "class Employee:\n",
    "    MIN_SALARY = 30000\n",
    "    def __init__(self, name, salary=30000):\n",
    "        self.name = name\n",
    "        if salary >= Employee.MIN_SALARY:\n",
    "            self.salary = salary\n",
    "        else:\n",
    "            self.salary = Employee.MIN_SALARY\n"
   ]
  },
  {
   "source": [
    "Por ejemplo, podríamos querer crear un objeto de ```Employee``` a partir de datos almacenados en un archivo.\n",
    "\n",
    "En ese sentido, no podríamos usar un método, ```¡porque requeriría una instancia y todavía no hay una!```\n",
    "\n",
    "A continuación, presentamos un método de clase ```from_file``` que acepta un nombre de archivo, lee la primera línea del archivo que presumiblemente contiene el nombre del empleado, y devuelve una instancia de objeto:\n",
    "\n",
    "- Usamos métodos de clase para crear objetos.\n",
    "\n",
    "- Usamos ```return``` para devolver un objeto."
   ],
   "cell_type": "markdown",
   "metadata": {}
  },
  {
   "cell_type": "code",
   "execution_count": 77,
   "metadata": {},
   "outputs": [],
   "source": [
    "class Employee:\n",
    "\n",
    "    MIN_SALARY = 30000\n",
    "\n",
    "    def __init__(self, name, salary=30000):\n",
    "        self.name = name\n",
    "        if salary >= Employee.MIN_SALARY:\n",
    "            self.salary = salary\n",
    "        else:\n",
    "            self.salary = Employee.MIN_SALARY\n",
    "\n",
    "    @classmethod\n",
    "    def from_file(cls, filename):\n",
    "        with open(filename, 'r') as f:\n",
    "            name = f.readline()\n",
    "        return cls(name)"
   ]
  },
  {
   "source": [
    "En la declaración de retorno, usamos la variable ```cls```; recordemos que ```cls``` se refiere a la clase, por lo que esta línea llamará al constructor ```__init__()__```, al igual que usar ```Employee``` con paréntesis cuando se usa fuera de la definición de clase. \n",
    "\n",
    "Entonces, podemos llamar al método ```from_file()``` usando la sintaxis ```Class.method(args...)```, que creará el objeto de empleado sin haber llamado explícitamente al constructor."
   ],
   "cell_type": "markdown",
   "metadata": {}
  },
  {
   "cell_type": "code",
   "execution_count": 79,
   "metadata": {},
   "outputs": [],
   "source": [
    "yop = Employee.from_file('employee_data.txt')"
   ]
  },
  {
   "cell_type": "code",
   "execution_count": 81,
   "metadata": {},
   "outputs": [
    {
     "output_type": "execute_result",
     "data": {
      "text/plain": [
       "30000"
      ]
     },
     "metadata": {},
     "execution_count": 81
    }
   ],
   "source": [
    "yop.salary"
   ]
  },
  {
   "source": [
    "### Una nota para el 'programador' en ascenso\n",
    "\n",
    "Algunas veces, el entendimiento depende de cómo nos presenten las cosas. En ese sentido, acabo de comprender, en totalidad, el funcionamiento de ```return```. \n",
    "\n",
    "Probemos con dos funciones:\n"
   ],
   "cell_type": "markdown",
   "metadata": {}
  },
  {
   "cell_type": "code",
   "execution_count": 100,
   "metadata": {},
   "outputs": [],
   "source": [
    "def retorno(texto):\n",
    "    return texto\n",
    "\n",
    "def noretorno(texto):\n",
    "    texto"
   ]
  },
  {
   "cell_type": "code",
   "execution_count": 101,
   "metadata": {},
   "outputs": [
    {
     "output_type": "stream",
     "name": "stdout",
     "text": [
      "yo funciono\nNone\n"
     ]
    }
   ],
   "source": [
    "# Probemos ambas y asignemos a una variable\n",
    "prueba = retorno('yo funciono')\n",
    "print(prueba)\n",
    "\n",
    "prueba = noretorno('yo no funciono')\n",
    "print(prueba)"
   ]
  },
  {
   "source": [
    "Si hubiésemos colocado en la definición ```noretorno()``` un ```print()```, hubiese sucedido lo mismo (a diferencia que se hubiera imprimido el string). Y he allí la diferencia.\n",
    "\n",
    "Lo que realiza ```return```, es devolver el ```objeto``` como tal, de forma que puede ser asignado a otra variable."
   ],
   "cell_type": "markdown",
   "metadata": {}
  },
  {
   "source": [
    "### Una nota para los constructores alternativos\n",
    "\n",
    "Notar que, al utilizar el método de clase y devolver el objeto, lo que realizamos es llamar implícitamente al constructor, ¡creando una nueva instancia de la clase!"
   ],
   "cell_type": "markdown",
   "metadata": {}
  },
  {
   "cell_type": "code",
   "execution_count": 137,
   "metadata": {},
   "outputs": [],
   "source": [
    "class Perro:\n",
    "    GUAU = 'guau'\n",
    "    def __init__(self, nombre, guau='guau'):\n",
    "\n",
    "        if guau == Perro.GUAU:\n",
    "            self.nombre = nombre\n",
    "            self.guau = guau\n",
    "        else:\n",
    "            self.guau = Perro.GUAU\n",
    "            print('¡No es un perro! Asignando {}.'.format(Perro.GUAU))\n",
    "\n",
    "    @classmethod\n",
    "    def from_method(cls, nombre):\n",
    "        return cls(nombre)\n",
    "            \n",
    "\n",
    "\n"
   ]
  },
  {
   "cell_type": "code",
   "execution_count": 140,
   "metadata": {},
   "outputs": [
    {
     "output_type": "stream",
     "name": "stdout",
     "text": [
      "¡No es un perro! Asignando guau.\n"
     ]
    },
    {
     "output_type": "execute_result",
     "data": {
      "text/plain": [
       "<__main__.Perro at 0x170e2f58>"
      ]
     },
     "metadata": {},
     "execution_count": 140
    }
   ],
   "source": [
    "a = Perro('Tom', 'Miau')\n",
    "a"
   ]
  },
  {
   "cell_type": "code",
   "execution_count": 139,
   "metadata": {},
   "outputs": [
    {
     "output_type": "execute_result",
     "data": {
      "text/plain": [
       "<__main__.Perro at 0x14c2ca00>"
      ]
     },
     "metadata": {},
     "execution_count": 139
    }
   ],
   "source": [
    "b = Perro.from_method('Aquiles')\n",
    "b"
   ]
  },
  {
   "source": [
    "## Ejercicios\n",
    "\n",
    "¡Ahora a practicar con los ejercicios!\n",
    "\n",
    "### 9° EX: Atributos de nivel de clase\n",
    "\n",
    "Class attributes store data that is shared among all the class instances. They are assigned values in the class body, and are referred to using the ClassName. syntax rather than self. syntax when used in methods.\n",
    "\n",
    "In this exercise, you will be a game developer working on a game that will have several players moving on a grid and interacting with each other. As the first step, you want to define a Player class that will just move along a straight line. Player will have a position attribute and a move() method. The grid is limited, so the position of Player will have a maximal value."
   ],
   "cell_type": "markdown",
   "metadata": {}
  },
  {
   "cell_type": "code",
   "execution_count": 56,
   "metadata": {},
   "outputs": [],
   "source": [
    "class Player:\n",
    "\n",
    "    MAX_POSITION = 10\n",
    "\n",
    "    def __init__(self, position=0):\n",
    "        self.position = 0\n",
    "\n",
    "    def move(self, steps):\n",
    "        if (self.position + steps) <= 10:\n",
    "            self.position = self.position + steps\n",
    "        else:\n",
    "            self.position = Player.MAX_POSITION\n",
    "    \n",
    "    def draw(self):\n",
    "        drawing = '-'*Player.MAX_POSITION\n",
    "        drawing = list(drawing)\n",
    "        if self.position - 1 < 0:\n",
    "            i = 0\n",
    "        if self.position - 1 > 0:\n",
    "            i = self.position - 1\n",
    "        drawing[i] = '|'\n",
    "        drawing = ''.join(drawing)\n",
    "        print(drawing)"
   ]
  },
  {
   "cell_type": "code",
   "execution_count": 228,
   "metadata": {},
   "outputs": [
    {
     "output_type": "stream",
     "name": "stdout",
     "text": [
      "---|------\n|---------\n---------|\n"
     ]
    }
   ],
   "source": [
    "Player1 = Player(); Player1.move(4); Player1.draw()\n",
    "Player2 = Player(); Player2.draw()\n",
    "Player3 = Player(); Player3.move(100) ; Player3.draw()\n"
   ]
  },
  {
   "source": [
    "### 10° EX: Creando atributos de clase\n",
    "\n",
    "Aprendimos a definir atributos de clase y acceder a ellos desde las instancias de clase. ¿Qué pasa si intentamos asignar otro valor a un atributo de clase desde una instancia?\n",
    "\n",
    "Python manejará de forma muy distinta el:\n",
    "\n",
    "- Asignar un valor a un atributo de una instancia de una clase.\n",
    "\n",
    "- Asignar un valor a un atributo de una clase."
   ],
   "cell_type": "markdown",
   "metadata": {}
  },
  {
   "cell_type": "code",
   "execution_count": 58,
   "metadata": {},
   "outputs": [
    {
     "output_type": "stream",
     "name": "stdout",
     "text": [
      "MAX_SPEED of p1 and p2 before assignment:\n10\n10\nMAX_SPEED of p1 and p2 after assignment:\n7\n10\nMAX_SPEED of Player:\n10\n"
     ]
    }
   ],
   "source": [
    "# Create Players p1 and p2\n",
    "p1, p2 = Player(), Player()\n",
    "\n",
    "print(\"MAX_SPEED of p1 and p2 before assignment:\")\n",
    "# Print p1.MAX_POSITION and p2.MAX_POSITION\n",
    "print(p1.MAX_POSITION)\n",
    "print(p2.MAX_POSITION)\n",
    "\n",
    "# ---MODIFY THIS LINE--- \n",
    "p1.MAX_POSITION = 7\n",
    "\n",
    "print(\"MAX_SPEED of p1 and p2 after assignment:\")\n",
    "# Print p1.MAX_SPEED and p2.MAX_SPEED\n",
    "print(p1.MAX_POSITION)\n",
    "print(p2.MAX_POSITION)\n",
    "\n",
    "print(\"MAX_SPEED of Player:\")\n",
    "# Print Player.MAX_SPEED\n",
    "print(Player.MAX_POSITION)"
   ]
  },
  {
   "source": [
    "Arriba, Python asignó una nueva instancia del atributo a ```p1```, también llamada ```MAX_POSITION```, y asignó 7 a ella.\n",
    "\n",
    "¿Y si queremos cambiar realmente el atributo de clase? Probemos a continuación."
   ],
   "cell_type": "markdown",
   "metadata": {}
  },
  {
   "cell_type": "code",
   "execution_count": 59,
   "metadata": {},
   "outputs": [
    {
     "output_type": "stream",
     "name": "stdout",
     "text": [
      "MAX_SPEED of p1 and p2 before assignment:\n10\n10\nMAX_SPEED of p1 and p2 after assignment:\n7\n7\nMAX_SPEED of Player:\n7\n"
     ]
    }
   ],
   "source": [
    "# Create Players p1 and p2\n",
    "p1, p2 = Player(), Player()\n",
    "\n",
    "print(\"MAX_SPEED of p1 and p2 before assignment:\")\n",
    "# Print p1.MAX_POSITION and p2.MAX_POSITION\n",
    "print(p1.MAX_POSITION)\n",
    "print(p2.MAX_POSITION)\n",
    "\n",
    "# ---MODIFY THIS LINE--- \n",
    "Player.MAX_POSITION = 7\n",
    "\n",
    "print(\"MAX_SPEED of p1 and p2 after assignment:\")\n",
    "# Print p1.MAX_SPEED and p2.MAX_SPEED\n",
    "print(p1.MAX_POSITION)\n",
    "print(p2.MAX_POSITION)\n",
    "\n",
    "print(\"MAX_SPEED of Player:\")\n",
    "# Print Player.MAX_SPEED\n",
    "print(Player.MAX_POSITION)"
   ]
  },
  {
   "source": [
    "### Nota\n",
    "\n",
    "Not obvious, right? But it makes sense, when you think about it! You shouldn't be able to change the data in all the instances of the class through a single instance. Imagine if you could change the time on all the computers in the world by changing the time on your own computer! If you want to change the value of the class attribute at runtime, you need to do it by referring to the class name, not through an instance."
   ],
   "cell_type": "markdown",
   "metadata": {}
  },
  {
   "source": [
    "### 11° EX: Constructores alternativos\n",
    "\n",
    "Python nos permite definir métodos de clase, utilizando el decorador ```@classmethod``` y el primer argumento especial (que hace referencia a la clase), ```cls```.\n",
    "\n",
    "El principal uso de estos métodos es para devolver la instancia de una clase, pero no utilizando el mismo código que con ```__init__()```.\n",
    "\n",
    "En este ejemplo, suponemos que estamos desarrollando un paquete de series de tiempo, y queremos definir nuestra propia clase para trabajar con fechas, ```BetterDate```. Los atributos de esta clase serán ```year, month, day```. Queremos tener un constructor que cree objetos ```BetterDate``` dado los valores para el año, mes y día, pero tambén, que funcione con cadenas de texto y objetos ```datetime```.\n",
    "\n",
    "Podemos encontrar estas funciones útiles:\n",
    "\n",
    "- ```.split('-') método que separará un string en '-' a un vector. Por ejemplo, ```\"2020-04-03\".split('-')``` devuelve ```[\"2020\", \"04\", \"03\"]```.\n",
    "\n",
    "- ```int()``` devolverá el string convertido a un número.\n",
    "\n",
    "- ```map(fun, iter)``` devolverá la variable ```iter``` modificada bajo el método ```fun```."
   ],
   "cell_type": "markdown",
   "metadata": {}
  },
  {
   "cell_type": "code",
   "execution_count": 60,
   "metadata": {},
   "outputs": [],
   "source": [
    "class BetterDate:\n",
    "\n",
    "    def __init__(self, year, month, day):\n",
    "        self.year, self.month, self.day = year, month, day\n",
    "\n",
    "    @classmethod\n",
    "    def from_str(cls, datestr):\n",
    "        year, month, day = map(int, datestr.split('-'))\n",
    "        # cls() --> llama al constructor\n",
    "        return cls(year, month, day)\n",
    "    \n",
    "    @classmethod\n",
    "    def from_datetime(cls, datetime):\n",
    "        year, month, day = (datetime.year, datetime.month, datetime.day)\n",
    "        return cls(year, month, day)"
   ]
  },
  {
   "cell_type": "code",
   "execution_count": 62,
   "metadata": {},
   "outputs": [
    {
     "output_type": "stream",
     "name": "stdout",
     "text": [
      "2021\n3\n24\n"
     ]
    }
   ],
   "source": [
    "today = datetime.datetime.today()     \n",
    "bd = BetterDate.from_datetime(today)   \n",
    "print(bd.year)\n",
    "print(bd.month)\n",
    "print(bd.day)"
   ]
  },
  {
   "source": [
    "### Nota\n",
    "\n",
    "Great work on those class methods! There's another type of methods that are not bound to a class instance - static methods, defined with the decorator @staticmethod. They are mainly used for helper or utility functions that could as well live outside of the class, but make more sense when bundled into the class. Static methods are beyond the scope of this class, but you can read about them here.\n",
    "\n",
    "Los métodos estáticos, ```@staticmethod```,  sirven para anidar funciones que podrían estar por fuera de la clase al, posiblemente, no utilizar variables de ellas. Se anidan dentro de la clase a razón de que, semánticamente, el método puede tener relación con la clase."
   ],
   "cell_type": "markdown",
   "metadata": {}
  }
 ]
}