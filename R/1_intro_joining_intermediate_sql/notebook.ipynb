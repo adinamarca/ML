{
 "metadata": {
  "language_info": {
   "codemirror_mode": {
    "name": "ipython",
    "version": 3
   },
   "file_extension": ".py",
   "mimetype": "text/x-python",
   "name": "python",
   "nbconvert_exporter": "python",
   "pygments_lexer": "ipython3",
   "version": 3
  },
  "orig_nbformat": 2
 },
 "nbformat": 4,
 "nbformat_minor": 2,
 "cells": [
  {
   "source": [
    "## Intermediate SQL por Datacamp\n",
    "\n",
    "~ Para ejecutar SQL desde un notebook de Jupyter, [link en towardsdatascience](https://towardsdatascience.com/heres-how-to-run-sql-in-jupyter-notebooks-f26eb90f3259).\n",
    "\n",
    "<img src=\"1.jpeg\"></img>"
   ],
   "cell_type": "markdown",
   "metadata": {}
  }
 ]
}